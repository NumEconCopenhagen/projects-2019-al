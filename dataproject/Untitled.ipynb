{
 "cells": [
  {
   "cell_type": "code",
   "execution_count": null,
   "metadata": {},
   "outputs": [],
   "source": [
    "import pip \n",
    "import pandas as pd\n",
    "import pandas_datareader as pdr\n",
    "import numpy as np\n",
    "import matplotlib.pyplot as plt\n",
    "import ipywidgets as widgets"
   ]
  },
  {
   "cell_type": "code",
   "execution_count": null,
   "metadata": {},
   "outputs": [],
   "source": [
    "df = pdr.DataReader(\"AIR_GHG\",\"oecd\")\n",
    "data_wages= pd.read_csv(\"oecdwages.csv\")\n",
    "df.head()\n",
    "data_wages.head()"
   ]
  },
  {
   "cell_type": "code",
   "execution_count": null,
   "metadata": {},
   "outputs": [],
   "source": [
    "df.reset_index()\n",
    "dir(df.index)\n",
    "df.columns = [' '.join(col).strip() for col in df.columns.values]"
   ]
  },
  {
   "cell_type": "code",
   "execution_count": null,
   "metadata": {},
   "outputs": [],
   "source": [
    "countries = [\"Australia\",\"Austria\",\"Belgium\",\"Canada\",\"Chile\",\"Czech Republic\",\"Denmark\",\"Estonia\",\"Finland\",\"France\",\"Germany\",\"Greece\",\"Hungary\",\"Iceland\",\t\n",
    "    \"Ireland\",\"Israel\",\"Italy\",\"Japan\",\"Korea\",\"Latvia\",\"Lithuania\",\"Luxembourg\",\"Mexico\",\"Netherlands\",\"New Zealand\",\"Norway\",\"Poland\",\"Portugal\",\"Slovak Republic\",\n",
    "    \"Slovenia\",\"Spain\",\"Sweden\",\"Switzerland\",\"United Kingdom\",\"United States\"]\t\n",
    "countrycode = [\"AUS\", \"AUT\", \"BEL\", \"CAN\", \"CHL\", \"CZE\", \"DNK\", \"EST\", \"FIN\", \"FRA\", \"DEU\",\"GRC\", \"HUN\", \"ISL\", \"IRL\", \"ISR\", \"ITA\", \"JPN\", \n",
    "    \"KOR\", \"LVA\", \"LTU\", \"LUX\", \"MEX\", \"NLD\", \"NZL\", \"NOR\", \"POL\", \"PRT\", \"SVK\", \"SVN\", \"SWE\", \"ESP\", \"CHE\", \"GBR\", \"USA\"]\n",
    "ccc = dict(zip(countries,countrycode))\n",
    "# I initiate an empty list for the dataset and set the counter to 0"
   ]
  },
  {
   "cell_type": "code",
   "execution_count": null,
   "metadata": {},
   "outputs": [],
   "source": [
    "x = []\n",
    "i = 0\n",
    "for c in countries:\n",
    "    for y in df.index.values : \n",
    "        x.append({\"country\" : c, \"countrycode\" : ccc[c],\"emissions_GHG\" : df[c+\" \"+\"Greenhouse gases Total  emissions excluding LULUCF\"][i]})\n",
    "        i = i + 1 \n",
    "        if i > 6 :\n",
    "            i = 0\n",
    "\n",
    "#In the for-loop i make a row for each country for each year, and insert a country, a year and the corrosponding of emissions of GHG (Green House Gases)\n",
    "df_env = pd.DataFrame(x)\n",
    "df_env.head()"
   ]
  },
  {
   "cell_type": "code",
   "execution_count": null,
   "metadata": {},
   "outputs": [],
   "source": [
    "drop_these= [\"INDICATOR\",\"FREQUENCY\",\"MEASURE\",\"SUBJECT\", \"Flag Codes\"]\n",
    "copy = data_wages.drop(drop_these, axis=1, inplace=False)\n",
    "copy.rename(columns = {'LOCATION':'countrycode', 'Value' : 'average wage', 'TIME' : 'year'}, inplace=True)\n",
    "c = copy[\"countrycode\"].unique()"
   ]
  },
  {
   "cell_type": "code",
   "execution_count": null,
   "metadata": {},
   "outputs": [],
   "source": [
    "left = copy.sort_values(\"countrycode\")\n",
    "left = left.reset_index()\n",
    "rigth = df_env.sort_values(\"countrycode\")\n",
    "rigth = rigth.reset_index()\n",
    "data_all = left.merge(rigth,left_index=True,right_index=True)"
   ]
  },
  {
   "cell_type": "code",
   "execution_count": null,
   "metadata": {},
   "outputs": [],
   "source": [
    "for i in data_all.index.values : \n",
    "    if data_all[\"countrycode_x\"][i]==data_all[\"countrycode_y\"][i] :\n",
    "        if i == data_all.index.values[-1] : \n",
    "            print(\"Done\")\n",
    "    else :  \n",
    "        print(\"mistake in \"+data_all[\"country\"][i])"
   ]
  },
  {
   "cell_type": "code",
   "execution_count": null,
   "metadata": {},
   "outputs": [],
   "source": [
    "data_all.rename(columns ={\"countrycode_x\":\"countrycode\"},inplace=True)\n",
    "data_all = data_all.sort_values(by=[\"countrycode\",\"year\"])\n",
    "data_all = data_all.reset_index(drop=True)\n",
    "data_all.head()"
   ]
  },
  {
   "cell_type": "code",
   "execution_count": null,
   "metadata": {},
   "outputs": [],
   "source": [
    "data_all['d_GHG'] = data_all.groupby('countrycode')['emissions_GHG'].apply(lambda x: x.pct_change())*100\n",
    "data_all['d_aw'] = data_all.groupby('countrycode')['average wage'].apply(lambda x: x.pct_change())*100\n",
    "\n",
    "GHG_change = data_all.groupby(\"year\").d_GHG.mean()\n",
    "print(GHG_change)\n",
    "AW_change = data_all.groupby(\"year\").d_aw.mean()\n",
    "print(AW_change)\n",
    "data_all.head()"
   ]
  },
  {
   "cell_type": "code",
   "execution_count": null,
   "metadata": {},
   "outputs": [],
   "source": [
    "def information(a,b = 0,variable = True):\n",
    "    \"\"\"This function take three arguments, the country code, the year (optional the variable) and return the name of the country the average wage and the total emissions of GHG.\n",
    "    The country code is the first column in our data base, three letters which represent the country. If the year is not define it will return for all years. If the variable is define\n",
    "    it will return only this variable\n",
    "    \"\"\"\n",
    "    x = data_all[data_all[\"countrycode\"] == a]\n",
    "#define year and co2\n",
    "    if b != 0 and variable == 'co2':\n",
    "        d= x[data_all[\"year\"] == b]\n",
    "        f = d.loc[:, [\"year\", \"country\", \"emissions_GHG\"]]\n",
    "        return f\n",
    "#define year and wage\n",
    "    elif b != 0 and variable == 'wage':\n",
    "        d= x[data_all[\"year\"] == b]\n",
    "        g = d.loc[:, [\"year\", \"country\", \"average wage\"]]\n",
    "        return g\n",
    " #define only co2\n",
    "    elif b == 0 and variable == 'co2':\n",
    "        d= x[data_all[\"year\"] == b]\n",
    "        return x.loc[:, [\"year\", \"country\", \"emissions_GHG\"]]\n",
    "#define only wage\n",
    "    elif b == 0 and variable == 'wage':\n",
    "        g = x.loc[:, [\"year\", \"country\", \"average wage\"]]\n",
    "        return x.loc[:, [\"year\", \"country\", \"average wage\"]]\n",
    "#define only the year\n",
    "    elif b != 0 : \n",
    "        h = x[data_all[\"year\"] == b]\n",
    "        return h.loc[:, [\"year\", \"country\", \"average wage\", \"emissions_GHG\"]]\n",
    "#nothing define\n",
    "    else :\n",
    "        return x.loc[:, [\"year\", \"country\", \"average wage\", \"emissions_GHG\"]]"
   ]
  },
  {
   "cell_type": "code",
   "execution_count": null,
   "metadata": {},
   "outputs": [],
   "source": [
    "def translate(code = True, countrycode = True):\n",
    "    \"\"\"This function take one argument. By default it is the code of the country and return the name of the country. There is the possibility to precise if \n",
    "    the input is a code or country. It it's a country it will return the code.\n",
    "    \"\"\"\n",
    "    i = 0\n",
    "    if countrycode == True :\n",
    "        c = str(data_all[data_all[\"countrycode\"]==code][\"country\"].unique())\n",
    "        c = c.replace(\"['\",\"\")\n",
    "        c = c.replace(\"']\",\"\")\n",
    "        return(c)\n",
    "    elif countrycode == False :\n",
    "        c = str(data_all[data_all[\"country\"]==code][\"countrycode\"].unique())\n",
    "        c = c.replace(\"['\",\"\")\n",
    "        c = c.replace(\"']\",\"\")\n",
    "        return(c)\n",
    "    else : \n",
    "        return(\"check you'r spelling\")"
   ]
  },
  {
   "cell_type": "code",
   "execution_count": null,
   "metadata": {},
   "outputs": [],
   "source": [
    "#plot 1 - percentage change in co2 and wages over time \n",
    "plt.plot(GHG_change,color=\"g\")\n",
    "plt.plot(AW_change,color=\"b\")\n",
    "plt.xlabel(\"Year\")\n",
    "plt.ylabel(\"Percentage change\")\n",
    "plt.legend([\"Greenhouse gas emissions\",\"Average wage\"])\n",
    "plt.axhline(y=0,color=\"r\",linestyle=\"dashed\")\n",
    "plt.show()"
   ]
  },
  {
   "cell_type": "code",
   "execution_count": null,
   "metadata": {},
   "outputs": [],
   "source": [
    "av_w_c= data_all.groupby(\"countrycode\")[\"average wage\"].mean().sort_values()\n",
    "av_w_c.plot.bar()\n",
    "plt.xlabel(\"countrycode\")\n",
    "plt.ylabel(\"average wage in USD\")\n",
    "plt.show()"
   ]
  },
  {
   "cell_type": "code",
   "execution_count": null,
   "metadata": {},
   "outputs": [],
   "source": [
    "av_e_c= data_all.groupby(\"country\")[\"emissions_GHG\"].mean()\n",
    "plt.ylabel(\"greenhouse gas emissions (thousands of metric tons)\")\n",
    "plt.xlabel(\"countrycode\")\n",
    "av_e_c.plot.bar()\n",
    "plt.show()"
   ]
  },
  {
   "cell_type": "code",
   "execution_count": null,
   "metadata": {},
   "outputs": [],
   "source": [
    "def get_con(x=\"Australia\"):\n",
    "    print(\"Country: \"+x)\n",
    "    print(\"Mean of Greenhouse gas emissions:\" , round(information(translate(x,countrycode=False))[\"emissions_GHG\"].mean(),2))  \n",
    "    print(\"Mean of average wages:\" , round(information(translate(x,countrycode=False))[\"average wage\"].mean(),2))\n",
    "\n",
    "    plt.plot(data_all[data_all[\"country\"]==x][\"d_GHG\"],color=\"g\")\n",
    "    plt.plot(data_all[data_all[\"country\"]==x][\"d_aw\"],color=\"b\")\n",
    "    plt.xlabel(\"Year\")\n",
    "    plt.ylabel(\"Percentage change\")\n",
    "    plt.legend([\"Greenhouse gas emissions\",\"Average wage\"])\n",
    "    plt.axhline(y=0,color=\"r\",linestyle=\"dashed\")\n",
    "    plt.show()\n",
    "\n",
    "    return \n",
    "\n",
    "widgets.interact(get_con,x=data_all[\"country\"].unique())"
   ]
  }
 ],
 "metadata": {
  "kernelspec": {
   "display_name": "Python 3",
   "language": "python",
   "name": "python3"
  },
  "language_info": {
   "codemirror_mode": {
    "name": "ipython",
    "version": 3
   },
   "file_extension": ".py",
   "mimetype": "text/x-python",
   "name": "python",
   "nbconvert_exporter": "python",
   "pygments_lexer": "ipython3",
   "version": "3.7.1"
  }
 },
 "nbformat": 4,
 "nbformat_minor": 2
}
