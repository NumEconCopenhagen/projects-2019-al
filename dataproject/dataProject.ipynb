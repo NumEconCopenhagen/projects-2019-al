{
 "cells": [
  {
   "cell_type": "markdown",
   "metadata": {},
   "source": [
    "# Dataproject \n",
    "This data project is made by August Lohse, Nicolas Jalabert, Manon Schuegraf. \n",
    "\n",
    "In this project, we examine data from the OECD statistics bank. We look at data about greenhouse gas emissions and average wages in all OECD the countries. The project is structured such that we begin by importing, examining and cleaning our data. Afterwards, we estimate new variables and plot different descriptive statistics for the OECD countries. We finish the project by introducing an interactive model, that gives the reader data for whatever OECD country they would like. "
   ]
  },
  {
   "cell_type": "code",
   "execution_count": 73,
   "metadata": {},
   "outputs": [],
   "source": [
    "import pandas as pd\n",
    "import pandas_datareader as pdr\n",
    "import numpy as np\n",
    "import matplotlib.pyplot as plt\n",
    "import ipywidgets as widgets"
   ]
  },
  {
   "cell_type": "markdown",
   "metadata": {},
   "source": [
    "## Data import and cleaning\n",
    "In this section we import the two datasets and clean them up one after the other. We begin by cleaning the enviromental dataset, afterwards we clean the wage dataset. "
   ]
  },
  {
   "cell_type": "markdown",
   "metadata": {},
   "source": [
    "### Enviromental data"
   ]
  },
  {
   "cell_type": "code",
   "execution_count": 74,
   "metadata": {},
   "outputs": [
    {
     "name": "stdout",
     "output_type": "stream",
     "text": [
      "Country                            Australia  \\\n",
      "Pollutant                   Greenhouse gases   \n",
      "Variable   Total  emissions excluding LULUCF   \n",
      "Year                                           \n",
      "2010-01-01                        539171.826   \n",
      "2011-01-01                        540445.363   \n",
      "2012-01-01                        543593.864   \n",
      "2013-01-01                        533313.692   \n",
      "2014-01-01                        527325.581   \n",
      "\n",
      "Country                                            \\\n",
      "Pollutant                                           \n",
      "Variable   Total GHG excl. LULUCF, Index 1990=100   \n",
      "Year                                                \n",
      "2010-01-01                                128.344   \n",
      "2011-01-01                                128.647   \n",
      "2012-01-01                                129.396   \n",
      "2013-01-01                                126.949   \n",
      "2014-01-01                                125.524   \n",
      "\n",
      "Country                                                  \\\n",
      "Pollutant                                                 \n",
      "Variable   Total GHG excl. LULUCF per capita  5 - Waste   \n",
      "Year                                                      \n",
      "2010-01-01                            24.375  15271.955   \n",
      "2011-01-01                            24.041  14662.915   \n",
      "2012-01-01                            23.819  13019.329   \n",
      "2013-01-01                            23.037  12201.981   \n",
      "2014-01-01                            22.464  12362.698   \n",
      "\n",
      "Country                                                         \\\n",
      "Pollutant                                                        \n",
      "Variable   2- Industrial processes and product use  1 - Energy   \n",
      "Year                                                             \n",
      "2010-01-01                               36451.657  421032.151   \n",
      "2011-01-01                               37346.816  417368.910   \n",
      "2012-01-01                               35184.339  423128.687   \n",
      "2013-01-01                               33178.334  415373.436   \n",
      "2014-01-01                               32594.888  409682.262   \n",
      "\n",
      "Country                                                                      \\\n",
      "Pollutant                                                                     \n",
      "Variable   3 - Agriculture 6 - Other Total GHG excl. LULUCF per unit of GDP   \n",
      "Year                                                                          \n",
      "2010-01-01       66416.063       NaN                                  0.574   \n",
      "2011-01-01       71066.721       NaN                                  0.556   \n",
      "2012-01-01       72261.510       NaN                                  0.545   \n",
      "2013-01-01       72559.941       NaN                                  0.521   \n",
      "2014-01-01       72685.733       NaN                                  0.503   \n",
      "\n",
      "Country                             \\\n",
      "Pollutant                            \n",
      "Variable   1A1 - Energy Industries   \n",
      "Year                                 \n",
      "2010-01-01              226111.201   \n",
      "2011-01-01              220625.191   \n",
      "2012-01-01              221881.489   \n",
      "2013-01-01              210771.830   \n",
      "2014-01-01              204835.735   \n",
      "\n",
      "Country                          ...                         \\\n",
      "Pollutant                        ...                          \n",
      "Variable                         ...                          \n",
      "Year                             ...                          \n",
      "2010-01-01                       ...                          \n",
      "2011-01-01                       ...                          \n",
      "2012-01-01                       ...                          \n",
      "2013-01-01                       ...                          \n",
      "2014-01-01                       ...                          \n",
      "\n",
      "Country                                          Argentina  \\\n",
      "Pollutant                 Unspecified mix of HFCs and PFCs   \n",
      "Variable   Land use, land-use change and forestry (LULUCF)   \n",
      "Year                                                         \n",
      "2010-01-01                                             NaN   \n",
      "2011-01-01                                             NaN   \n",
      "2012-01-01                                             NaN   \n",
      "2013-01-01                                             NaN   \n",
      "2014-01-01                                             NaN   \n",
      "\n",
      "Country                                              \\\n",
      "Pollutant                                             \n",
      "Variable   1A4 - Other sectors 1A5 - Energy - Other   \n",
      "Year                                                  \n",
      "2010-01-01                 NaN                  NaN   \n",
      "2011-01-01                 NaN                  NaN   \n",
      "2012-01-01                 NaN                  NaN   \n",
      "2013-01-01                 NaN                  NaN   \n",
      "2014-01-01                 NaN                  NaN   \n",
      "\n",
      "Country                                        \\\n",
      "Pollutant                                       \n",
      "Variable   1B - Fugitive Emissions from Fuels   \n",
      "Year                                            \n",
      "2010-01-01                                NaN   \n",
      "2011-01-01                                NaN   \n",
      "2012-01-01                                NaN   \n",
      "2013-01-01                                NaN   \n",
      "2014-01-01                                NaN   \n",
      "\n",
      "Country                                                                     \\\n",
      "Pollutant                                                                    \n",
      "Variable   1A2 - Manufacturing industries and construction 1A3 - Transport   \n",
      "Year                                                                         \n",
      "2010-01-01                                             NaN             NaN   \n",
      "2011-01-01                                             NaN             NaN   \n",
      "2012-01-01                                             NaN             NaN   \n",
      "2013-01-01                                             NaN             NaN   \n",
      "2014-01-01                                             NaN             NaN   \n",
      "\n",
      "Country                                       \\\n",
      "Pollutant                                      \n",
      "Variable   Total  emissions including LULUCF   \n",
      "Year                                           \n",
      "2010-01-01                               NaN   \n",
      "2011-01-01                               NaN   \n",
      "2012-01-01                               NaN   \n",
      "2013-01-01                               NaN   \n",
      "2014-01-01                               NaN   \n",
      "\n",
      "Country                                            \\\n",
      "Pollutant                                           \n",
      "Variable   Total GHG excl. LULUCF, Index 2000=100   \n",
      "Year                                                \n",
      "2010-01-01                                    NaN   \n",
      "2011-01-01                                    NaN   \n",
      "2012-01-01                                    NaN   \n",
      "2013-01-01                                    NaN   \n",
      "2014-01-01                                    NaN   \n",
      "\n",
      "Country                                         \\\n",
      "Pollutant                                        \n",
      "Variable   1C - CO2 from Transport and Storage   \n",
      "Year                                             \n",
      "2010-01-01                                 NaN   \n",
      "2011-01-01                                 NaN   \n",
      "2012-01-01                                 NaN   \n",
      "2013-01-01                                 NaN   \n",
      "2014-01-01                                 NaN   \n",
      "\n",
      "Country                                                      \n",
      "Pollutant                                                    \n",
      "Variable   Agriculture, Forestry and Other Land Use (AFOLU)  \n",
      "Year                                                         \n",
      "2010-01-01                                              NaN  \n",
      "2011-01-01                                              NaN  \n",
      "2012-01-01                                              NaN  \n",
      "2013-01-01                                              NaN  \n",
      "2014-01-01                                              NaN  \n",
      "\n",
      "[5 rows x 8460 columns]\n"
     ]
    }
   ],
   "source": [
    "# a. Import of enviromental data form the OECD statistics bank API\n",
    "df = pdr.DataReader(\"AIR_GHG\",\"oecd\")\n",
    "# b. Here we show the multi indexed structure of the enviromental data set\n",
    "print(df.head())"
   ]
  },
  {
   "cell_type": "markdown",
   "metadata": {},
   "source": [
    "The envorimental data is multi-indexed, with hierachical columns. In the section below we make the enviromental dataset tidy instead."
   ]
  },
  {
   "cell_type": "code",
   "execution_count": null,
   "metadata": {},
   "outputs": [],
   "source": [
    "# a. The eviromental data is multi-indexed. Therefore we rearrange the index of the dataset\n",
    "df.reset_index()\n",
    "dir(df.index)\n",
    "df.columns = [' '.join(col).strip() for col in df.columns.values]\n"
   ]
  },
  {
   "cell_type": "code",
   "execution_count": 76,
   "metadata": {},
   "outputs": [],
   "source": [
    "# a In this section, we define a dictionary with all the countries and the countrycodes for the OECD countries\n",
    "# b We need this in order to rearrange the data set\n",
    "countries = [\"Australia\",\"Austria\",\"Belgium\",\"Canada\",\"Chile\",\"Czech Republic\",\"Denmark\",\"Estonia\",\"Finland\",\"France\",\n",
    "             \"Germany\",\"Greece\",\"Hungary\",\"Iceland\",\"Ireland\",\"Israel\",\"Italy\",\"Japan\",\"Korea\",\"Latvia\",\"Lithuania\",\n",
    "             \"Luxembourg\",\"Mexico\",\"Netherlands\",\"New Zealand\",\"Norway\",\"Poland\",\"Portugal\",\"Slovak Republic\",\n",
    "             \"Slovenia\",\"Spain\",\"Sweden\",\"Switzerland\",\"United Kingdom\",\"United States\"]\n",
    "countrycode = [\"AUS\", \"AUT\", \"BEL\", \"CAN\", \"CHL\", \"CZE\", \"DNK\", \"EST\", \"FIN\", \"FRA\", \"DEU\",\"GRC\", \"HUN\", \"ISL\", \n",
    "               \"IRL\", \"ISR\", \"ITA\", \"JPN\", \"KOR\", \"LVA\", \"LTU\", \"LUX\", \"MEX\", \"NLD\", \"NZL\", \"NOR\", \"POL\", \"PRT\",\n",
    "               \"SVK\", \"SVN\", \"SWE\", \"ESP\", \"CHE\", \"GBR\", \"USA\"]\n",
    "\n",
    "ccc = dict(zip(countries,countrycode))"
   ]
  },
  {
   "cell_type": "code",
   "execution_count": 77,
   "metadata": {},
   "outputs": [
    {
     "ename": "KeyError",
     "evalue": "'Australia Greenhouse gases Total  emissions excluding LULUCF'",
     "output_type": "error",
     "traceback": [
      "\u001b[1;31m---------------------------------------------------------------------------\u001b[0m",
      "\u001b[1;31mKeyError\u001b[0m                                  Traceback (most recent call last)",
      "\u001b[1;32m~\\Anaconda3\\lib\\site-packages\\pandas\\core\\indexes\\base.py\u001b[0m in \u001b[0;36mget_loc\u001b[1;34m(self, key, method, tolerance)\u001b[0m\n\u001b[0;32m   3077\u001b[0m             \u001b[1;32mtry\u001b[0m\u001b[1;33m:\u001b[0m\u001b[1;33m\u001b[0m\u001b[1;33m\u001b[0m\u001b[0m\n\u001b[1;32m-> 3078\u001b[1;33m                 \u001b[1;32mreturn\u001b[0m \u001b[0mself\u001b[0m\u001b[1;33m.\u001b[0m\u001b[0m_engine\u001b[0m\u001b[1;33m.\u001b[0m\u001b[0mget_loc\u001b[0m\u001b[1;33m(\u001b[0m\u001b[0mkey\u001b[0m\u001b[1;33m)\u001b[0m\u001b[1;33m\u001b[0m\u001b[1;33m\u001b[0m\u001b[0m\n\u001b[0m\u001b[0;32m   3079\u001b[0m             \u001b[1;32mexcept\u001b[0m \u001b[0mKeyError\u001b[0m\u001b[1;33m:\u001b[0m\u001b[1;33m\u001b[0m\u001b[1;33m\u001b[0m\u001b[0m\n",
      "\u001b[1;32mpandas\\_libs\\index.pyx\u001b[0m in \u001b[0;36mpandas._libs.index.IndexEngine.get_loc\u001b[1;34m()\u001b[0m\n",
      "\u001b[1;32mpandas\\_libs\\index.pyx\u001b[0m in \u001b[0;36mpandas._libs.index.IndexEngine.get_loc\u001b[1;34m()\u001b[0m\n",
      "\u001b[1;32mpandas\\_libs\\hashtable_class_helper.pxi\u001b[0m in \u001b[0;36mpandas._libs.hashtable.PyObjectHashTable.get_item\u001b[1;34m()\u001b[0m\n",
      "\u001b[1;32mpandas\\_libs\\hashtable_class_helper.pxi\u001b[0m in \u001b[0;36mpandas._libs.hashtable.PyObjectHashTable.get_item\u001b[1;34m()\u001b[0m\n",
      "\u001b[1;31mKeyError\u001b[0m: 'Australia Greenhouse gases Total  emissions excluding LULUCF'",
      "\nDuring handling of the above exception, another exception occurred:\n",
      "\u001b[1;31mKeyError\u001b[0m                                  Traceback (most recent call last)",
      "\u001b[1;32m<ipython-input-77-310a2d7ac14e>\u001b[0m in \u001b[0;36m<module>\u001b[1;34m\u001b[0m\n\u001b[0;32m      8\u001b[0m     \u001b[1;32mfor\u001b[0m \u001b[0my\u001b[0m \u001b[1;32min\u001b[0m \u001b[0mdf\u001b[0m\u001b[1;33m.\u001b[0m\u001b[0mindex\u001b[0m\u001b[1;33m.\u001b[0m\u001b[0mvalues\u001b[0m \u001b[1;33m:\u001b[0m\u001b[1;33m\u001b[0m\u001b[1;33m\u001b[0m\u001b[0m\n\u001b[0;32m      9\u001b[0m         \u001b[1;31m# c.ii. for each year in each country we append country name, countrycode, and total emissions_GHG\u001b[0m\u001b[1;33m\u001b[0m\u001b[1;33m\u001b[0m\u001b[1;33m\u001b[0m\u001b[0m\n\u001b[1;32m---> 10\u001b[1;33m         \u001b[0mx\u001b[0m\u001b[1;33m.\u001b[0m\u001b[0mappend\u001b[0m\u001b[1;33m(\u001b[0m\u001b[1;33m{\u001b[0m\u001b[1;34m\"country\"\u001b[0m \u001b[1;33m:\u001b[0m \u001b[0mc\u001b[0m\u001b[1;33m,\u001b[0m \u001b[1;34m\"countrycode\"\u001b[0m \u001b[1;33m:\u001b[0m \u001b[0mccc\u001b[0m\u001b[1;33m[\u001b[0m\u001b[0mc\u001b[0m\u001b[1;33m]\u001b[0m\u001b[1;33m,\u001b[0m\u001b[1;34m\"emissions_GHG\"\u001b[0m \u001b[1;33m:\u001b[0m \u001b[0mdf\u001b[0m\u001b[1;33m[\u001b[0m\u001b[0mc\u001b[0m\u001b[1;33m+\u001b[0m\u001b[1;34m\" \"\u001b[0m\u001b[1;33m+\u001b[0m\u001b[1;34m\"Greenhouse gases Total  emissions excluding LULUCF\"\u001b[0m\u001b[1;33m]\u001b[0m\u001b[1;33m[\u001b[0m\u001b[0mi\u001b[0m\u001b[1;33m]\u001b[0m\u001b[1;33m}\u001b[0m\u001b[1;33m)\u001b[0m\u001b[1;33m\u001b[0m\u001b[1;33m\u001b[0m\u001b[0m\n\u001b[0m\u001b[0;32m     11\u001b[0m         \u001b[1;31m#c.iii. We add 1 to the counter\u001b[0m\u001b[1;33m\u001b[0m\u001b[1;33m\u001b[0m\u001b[1;33m\u001b[0m\u001b[0m\n\u001b[0;32m     12\u001b[0m         \u001b[0mi\u001b[0m \u001b[1;33m=\u001b[0m \u001b[0mi\u001b[0m \u001b[1;33m+\u001b[0m \u001b[1;36m1\u001b[0m\u001b[1;33m\u001b[0m\u001b[1;33m\u001b[0m\u001b[0m\n",
      "\u001b[1;32m~\\Anaconda3\\lib\\site-packages\\pandas\\core\\frame.py\u001b[0m in \u001b[0;36m__getitem__\u001b[1;34m(self, key)\u001b[0m\n\u001b[0;32m   2684\u001b[0m             \u001b[1;32mreturn\u001b[0m \u001b[0mself\u001b[0m\u001b[1;33m.\u001b[0m\u001b[0m_getitem_frame\u001b[0m\u001b[1;33m(\u001b[0m\u001b[0mkey\u001b[0m\u001b[1;33m)\u001b[0m\u001b[1;33m\u001b[0m\u001b[1;33m\u001b[0m\u001b[0m\n\u001b[0;32m   2685\u001b[0m         \u001b[1;32melif\u001b[0m \u001b[0mis_mi_columns\u001b[0m\u001b[1;33m:\u001b[0m\u001b[1;33m\u001b[0m\u001b[1;33m\u001b[0m\u001b[0m\n\u001b[1;32m-> 2686\u001b[1;33m             \u001b[1;32mreturn\u001b[0m \u001b[0mself\u001b[0m\u001b[1;33m.\u001b[0m\u001b[0m_getitem_multilevel\u001b[0m\u001b[1;33m(\u001b[0m\u001b[0mkey\u001b[0m\u001b[1;33m)\u001b[0m\u001b[1;33m\u001b[0m\u001b[1;33m\u001b[0m\u001b[0m\n\u001b[0m\u001b[0;32m   2687\u001b[0m         \u001b[1;32melse\u001b[0m\u001b[1;33m:\u001b[0m\u001b[1;33m\u001b[0m\u001b[1;33m\u001b[0m\u001b[0m\n\u001b[0;32m   2688\u001b[0m             \u001b[1;32mreturn\u001b[0m \u001b[0mself\u001b[0m\u001b[1;33m.\u001b[0m\u001b[0m_getitem_column\u001b[0m\u001b[1;33m(\u001b[0m\u001b[0mkey\u001b[0m\u001b[1;33m)\u001b[0m\u001b[1;33m\u001b[0m\u001b[1;33m\u001b[0m\u001b[0m\n",
      "\u001b[1;32m~\\Anaconda3\\lib\\site-packages\\pandas\\core\\frame.py\u001b[0m in \u001b[0;36m_getitem_multilevel\u001b[1;34m(self, key)\u001b[0m\n\u001b[0;32m   2728\u001b[0m \u001b[1;33m\u001b[0m\u001b[0m\n\u001b[0;32m   2729\u001b[0m     \u001b[1;32mdef\u001b[0m \u001b[0m_getitem_multilevel\u001b[0m\u001b[1;33m(\u001b[0m\u001b[0mself\u001b[0m\u001b[1;33m,\u001b[0m \u001b[0mkey\u001b[0m\u001b[1;33m)\u001b[0m\u001b[1;33m:\u001b[0m\u001b[1;33m\u001b[0m\u001b[1;33m\u001b[0m\u001b[0m\n\u001b[1;32m-> 2730\u001b[1;33m         \u001b[0mloc\u001b[0m \u001b[1;33m=\u001b[0m \u001b[0mself\u001b[0m\u001b[1;33m.\u001b[0m\u001b[0mcolumns\u001b[0m\u001b[1;33m.\u001b[0m\u001b[0mget_loc\u001b[0m\u001b[1;33m(\u001b[0m\u001b[0mkey\u001b[0m\u001b[1;33m)\u001b[0m\u001b[1;33m\u001b[0m\u001b[1;33m\u001b[0m\u001b[0m\n\u001b[0m\u001b[0;32m   2731\u001b[0m         \u001b[1;32mif\u001b[0m \u001b[0misinstance\u001b[0m\u001b[1;33m(\u001b[0m\u001b[0mloc\u001b[0m\u001b[1;33m,\u001b[0m \u001b[1;33m(\u001b[0m\u001b[0mslice\u001b[0m\u001b[1;33m,\u001b[0m \u001b[0mSeries\u001b[0m\u001b[1;33m,\u001b[0m \u001b[0mnp\u001b[0m\u001b[1;33m.\u001b[0m\u001b[0mndarray\u001b[0m\u001b[1;33m,\u001b[0m \u001b[0mIndex\u001b[0m\u001b[1;33m)\u001b[0m\u001b[1;33m)\u001b[0m\u001b[1;33m:\u001b[0m\u001b[1;33m\u001b[0m\u001b[1;33m\u001b[0m\u001b[0m\n\u001b[0;32m   2732\u001b[0m             \u001b[0mnew_columns\u001b[0m \u001b[1;33m=\u001b[0m \u001b[0mself\u001b[0m\u001b[1;33m.\u001b[0m\u001b[0mcolumns\u001b[0m\u001b[1;33m[\u001b[0m\u001b[0mloc\u001b[0m\u001b[1;33m]\u001b[0m\u001b[1;33m\u001b[0m\u001b[1;33m\u001b[0m\u001b[0m\n",
      "\u001b[1;32m~\\Anaconda3\\lib\\site-packages\\pandas\\core\\indexes\\multi.py\u001b[0m in \u001b[0;36mget_loc\u001b[1;34m(self, key, method)\u001b[0m\n\u001b[0;32m   2235\u001b[0m \u001b[1;33m\u001b[0m\u001b[0m\n\u001b[0;32m   2236\u001b[0m         \u001b[1;32mif\u001b[0m \u001b[1;32mnot\u001b[0m \u001b[0misinstance\u001b[0m\u001b[1;33m(\u001b[0m\u001b[0mkey\u001b[0m\u001b[1;33m,\u001b[0m \u001b[0mtuple\u001b[0m\u001b[1;33m)\u001b[0m\u001b[1;33m:\u001b[0m\u001b[1;33m\u001b[0m\u001b[1;33m\u001b[0m\u001b[0m\n\u001b[1;32m-> 2237\u001b[1;33m             \u001b[0mloc\u001b[0m \u001b[1;33m=\u001b[0m \u001b[0mself\u001b[0m\u001b[1;33m.\u001b[0m\u001b[0m_get_level_indexer\u001b[0m\u001b[1;33m(\u001b[0m\u001b[0mkey\u001b[0m\u001b[1;33m,\u001b[0m \u001b[0mlevel\u001b[0m\u001b[1;33m=\u001b[0m\u001b[1;36m0\u001b[0m\u001b[1;33m)\u001b[0m\u001b[1;33m\u001b[0m\u001b[1;33m\u001b[0m\u001b[0m\n\u001b[0m\u001b[0;32m   2238\u001b[0m \u001b[1;33m\u001b[0m\u001b[0m\n\u001b[0;32m   2239\u001b[0m             \u001b[1;31m# _get_level_indexer returns an empty slice if the key has\u001b[0m\u001b[1;33m\u001b[0m\u001b[1;33m\u001b[0m\u001b[1;33m\u001b[0m\u001b[0m\n",
      "\u001b[1;32m~\\Anaconda3\\lib\\site-packages\\pandas\\core\\indexes\\multi.py\u001b[0m in \u001b[0;36m_get_level_indexer\u001b[1;34m(self, key, level, indexer)\u001b[0m\n\u001b[0;32m   2494\u001b[0m         \u001b[1;32melse\u001b[0m\u001b[1;33m:\u001b[0m\u001b[1;33m\u001b[0m\u001b[1;33m\u001b[0m\u001b[0m\n\u001b[0;32m   2495\u001b[0m \u001b[1;33m\u001b[0m\u001b[0m\n\u001b[1;32m-> 2496\u001b[1;33m             \u001b[0mloc\u001b[0m \u001b[1;33m=\u001b[0m \u001b[0mlevel_index\u001b[0m\u001b[1;33m.\u001b[0m\u001b[0mget_loc\u001b[0m\u001b[1;33m(\u001b[0m\u001b[0mkey\u001b[0m\u001b[1;33m)\u001b[0m\u001b[1;33m\u001b[0m\u001b[1;33m\u001b[0m\u001b[0m\n\u001b[0m\u001b[0;32m   2497\u001b[0m             \u001b[1;32mif\u001b[0m \u001b[0misinstance\u001b[0m\u001b[1;33m(\u001b[0m\u001b[0mloc\u001b[0m\u001b[1;33m,\u001b[0m \u001b[0mslice\u001b[0m\u001b[1;33m)\u001b[0m\u001b[1;33m:\u001b[0m\u001b[1;33m\u001b[0m\u001b[1;33m\u001b[0m\u001b[0m\n\u001b[0;32m   2498\u001b[0m                 \u001b[1;32mreturn\u001b[0m \u001b[0mloc\u001b[0m\u001b[1;33m\u001b[0m\u001b[1;33m\u001b[0m\u001b[0m\n",
      "\u001b[1;32m~\\Anaconda3\\lib\\site-packages\\pandas\\core\\indexes\\base.py\u001b[0m in \u001b[0;36mget_loc\u001b[1;34m(self, key, method, tolerance)\u001b[0m\n\u001b[0;32m   3078\u001b[0m                 \u001b[1;32mreturn\u001b[0m \u001b[0mself\u001b[0m\u001b[1;33m.\u001b[0m\u001b[0m_engine\u001b[0m\u001b[1;33m.\u001b[0m\u001b[0mget_loc\u001b[0m\u001b[1;33m(\u001b[0m\u001b[0mkey\u001b[0m\u001b[1;33m)\u001b[0m\u001b[1;33m\u001b[0m\u001b[1;33m\u001b[0m\u001b[0m\n\u001b[0;32m   3079\u001b[0m             \u001b[1;32mexcept\u001b[0m \u001b[0mKeyError\u001b[0m\u001b[1;33m:\u001b[0m\u001b[1;33m\u001b[0m\u001b[1;33m\u001b[0m\u001b[0m\n\u001b[1;32m-> 3080\u001b[1;33m                 \u001b[1;32mreturn\u001b[0m \u001b[0mself\u001b[0m\u001b[1;33m.\u001b[0m\u001b[0m_engine\u001b[0m\u001b[1;33m.\u001b[0m\u001b[0mget_loc\u001b[0m\u001b[1;33m(\u001b[0m\u001b[0mself\u001b[0m\u001b[1;33m.\u001b[0m\u001b[0m_maybe_cast_indexer\u001b[0m\u001b[1;33m(\u001b[0m\u001b[0mkey\u001b[0m\u001b[1;33m)\u001b[0m\u001b[1;33m)\u001b[0m\u001b[1;33m\u001b[0m\u001b[1;33m\u001b[0m\u001b[0m\n\u001b[0m\u001b[0;32m   3081\u001b[0m \u001b[1;33m\u001b[0m\u001b[0m\n\u001b[0;32m   3082\u001b[0m         \u001b[0mindexer\u001b[0m \u001b[1;33m=\u001b[0m \u001b[0mself\u001b[0m\u001b[1;33m.\u001b[0m\u001b[0mget_indexer\u001b[0m\u001b[1;33m(\u001b[0m\u001b[1;33m[\u001b[0m\u001b[0mkey\u001b[0m\u001b[1;33m]\u001b[0m\u001b[1;33m,\u001b[0m \u001b[0mmethod\u001b[0m\u001b[1;33m=\u001b[0m\u001b[0mmethod\u001b[0m\u001b[1;33m,\u001b[0m \u001b[0mtolerance\u001b[0m\u001b[1;33m=\u001b[0m\u001b[0mtolerance\u001b[0m\u001b[1;33m)\u001b[0m\u001b[1;33m\u001b[0m\u001b[1;33m\u001b[0m\u001b[0m\n",
      "\u001b[1;32mpandas\\_libs\\index.pyx\u001b[0m in \u001b[0;36mpandas._libs.index.IndexEngine.get_loc\u001b[1;34m()\u001b[0m\n",
      "\u001b[1;32mpandas\\_libs\\index.pyx\u001b[0m in \u001b[0;36mpandas._libs.index.IndexEngine.get_loc\u001b[1;34m()\u001b[0m\n",
      "\u001b[1;32mpandas\\_libs\\hashtable_class_helper.pxi\u001b[0m in \u001b[0;36mpandas._libs.hashtable.PyObjectHashTable.get_item\u001b[1;34m()\u001b[0m\n",
      "\u001b[1;32mpandas\\_libs\\hashtable_class_helper.pxi\u001b[0m in \u001b[0;36mpandas._libs.hashtable.PyObjectHashTable.get_item\u001b[1;34m()\u001b[0m\n",
      "\u001b[1;31mKeyError\u001b[0m: 'Australia Greenhouse gases Total  emissions excluding LULUCF'"
     ]
    }
   ],
   "source": [
    "# a. We make a tidy dataset, by making a row for each country in each year,\n",
    "# b. Then we and add the variable \"Greenhouse gases...\" to this new data set\n",
    "# c. I initiate an empty list for the dataset and set a counter to 0\n",
    "x = []\n",
    "i = 0\n",
    "    # c.i. Iniate the for-loop that adds the rows to the dataset\n",
    "for c in countries:\n",
    "    for y in df.index.values :\n",
    "        # c.ii. for each year in each country we append country name, countrycode, and total emissions_GHG\n",
    "        x.append({\"country\" : c, \"countrycode\" : ccc[c],\"emissions_GHG\" : df[c+\" \"+\"Greenhouse gases Total  emissions excluding LULUCF\"][i]})\n",
    "        #c.iii. We add 1 to the counter\n",
    "        i = i + 1 \n",
    "        #c.iiii. Since there are only 7 years for each country, we resent the counter when it reaches 6\n",
    "        if i > 6 :\n",
    "            i = 0\n",
    "    # c.iiiii. Examening the new dataset  \n",
    "df_env = pd.DataFrame(x)\n",
    "df_env.head()\n"
   ]
  },
  {
   "cell_type": "code",
   "execution_count": null,
   "metadata": {},
   "outputs": [],
   "source": []
  },
  {
   "cell_type": "markdown",
   "metadata": {},
   "source": [
    "Now that we have a tidy dataset for enviromental data, we want to clean up the dataset for wages. "
   ]
  },
  {
   "cell_type": "markdown",
   "metadata": {},
   "source": [
    "### Wages data"
   ]
  },
  {
   "cell_type": "code",
   "execution_count": 40,
   "metadata": {},
   "outputs": [
    {
     "name": "stdout",
     "output_type": "stream",
     "text": [
      "This is the first 5 rows of the wages dataset\n"
     ]
    },
    {
     "data": {
      "text/html": [
       "<div>\n",
       "<style scoped>\n",
       "    .dataframe tbody tr th:only-of-type {\n",
       "        vertical-align: middle;\n",
       "    }\n",
       "\n",
       "    .dataframe tbody tr th {\n",
       "        vertical-align: top;\n",
       "    }\n",
       "\n",
       "    .dataframe thead th {\n",
       "        text-align: right;\n",
       "    }\n",
       "</style>\n",
       "<table border=\"1\" class=\"dataframe\">\n",
       "  <thead>\n",
       "    <tr style=\"text-align: right;\">\n",
       "      <th></th>\n",
       "      <th>countrycode</th>\n",
       "      <th>year</th>\n",
       "      <th>average wage</th>\n",
       "    </tr>\n",
       "  </thead>\n",
       "  <tbody>\n",
       "    <tr>\n",
       "      <th>0</th>\n",
       "      <td>AUS</td>\n",
       "      <td>2010</td>\n",
       "      <td>48111.546431</td>\n",
       "    </tr>\n",
       "    <tr>\n",
       "      <th>1</th>\n",
       "      <td>AUS</td>\n",
       "      <td>2011</td>\n",
       "      <td>49621.840441</td>\n",
       "    </tr>\n",
       "    <tr>\n",
       "      <th>2</th>\n",
       "      <td>AUS</td>\n",
       "      <td>2012</td>\n",
       "      <td>49900.648070</td>\n",
       "    </tr>\n",
       "    <tr>\n",
       "      <th>3</th>\n",
       "      <td>AUS</td>\n",
       "      <td>2013</td>\n",
       "      <td>49648.772056</td>\n",
       "    </tr>\n",
       "    <tr>\n",
       "      <th>4</th>\n",
       "      <td>AUS</td>\n",
       "      <td>2014</td>\n",
       "      <td>49988.558205</td>\n",
       "    </tr>\n",
       "  </tbody>\n",
       "</table>\n",
       "</div>"
      ],
      "text/plain": [
       "  countrycode  year  average wage\n",
       "0         AUS  2010  48111.546431\n",
       "1         AUS  2011  49621.840441\n",
       "2         AUS  2012  49900.648070\n",
       "3         AUS  2013  49648.772056\n",
       "4         AUS  2014  49988.558205"
      ]
     },
     "execution_count": 40,
     "metadata": {},
     "output_type": "execute_result"
    }
   ],
   "source": [
    "# a. Import of locally placed OECD data on wages\n",
    "df_wages= pd.read_csv(\"oecdwages.csv\")\n",
    "print(\"This is the first 5 rows of the wages dataset\")\n",
    "df_wages.head()\n",
    "# b. We define the variables that we do not need in our analysis, and drop them. We do only need country, year and wages\n",
    "drop_these= [\"INDICATOR\",\"FREQUENCY\",\"MEASURE\",\"SUBJECT\", \"Flag Codes\"]\n",
    "df_wages = df_wages.drop(drop_these, axis=1, inplace=False)\n",
    "\n",
    "# c. We change the name of some of the variables\n",
    "df_wages.rename(columns = {'LOCATION':'countrycode', 'Value' : 'average wage', 'TIME' : 'year'}, inplace=True)\n",
    "df_wages.head()"
   ]
  },
  {
   "cell_type": "markdown",
   "metadata": {},
   "source": [
    "## Merging data sets\n",
    "In this section we combine our two datasets, in order to get one tidy dataset, that we can analyze. \n",
    "We begin by sorting the data sets by countrycode, then we merge them by countrycode. This could potentially be an issue if the data sets does not have the exact same years and countrycodes in the data, so we use a for loop to check each row of the data after we merge."
   ]
  },
  {
   "cell_type": "code",
   "execution_count": 41,
   "metadata": {},
   "outputs": [
    {
     "name": "stdout",
     "output_type": "stream",
     "text": [
      "Shape of eviromental dataset: (245, 3)\n",
      "Shape of wages dataset: (245, 3)\n",
      "Since they both have the same amount of rows, they should be good to merge, after we sort by countrycode\n"
     ]
    }
   ],
   "source": [
    "# a. Test of whether the datasets are good to merge, by looking at their shape \n",
    "print(\"Shape of eviromental dataset:\" , df_env.shape)\n",
    "print(\"Shape of wages dataset:\" , df_wages.shape)\n",
    "print(\"Since they both have the same amount of rows, they should be good to merge, after we sort by countrycode\")"
   ]
  },
  {
   "cell_type": "code",
   "execution_count": 42,
   "metadata": {},
   "outputs": [
    {
     "data": {
      "text/html": [
       "<div>\n",
       "<style scoped>\n",
       "    .dataframe tbody tr th:only-of-type {\n",
       "        vertical-align: middle;\n",
       "    }\n",
       "\n",
       "    .dataframe tbody tr th {\n",
       "        vertical-align: top;\n",
       "    }\n",
       "\n",
       "    .dataframe thead th {\n",
       "        text-align: right;\n",
       "    }\n",
       "</style>\n",
       "<table border=\"1\" class=\"dataframe\">\n",
       "  <thead>\n",
       "    <tr style=\"text-align: right;\">\n",
       "      <th></th>\n",
       "      <th>index_x</th>\n",
       "      <th>countrycode_x</th>\n",
       "      <th>year</th>\n",
       "      <th>average wage</th>\n",
       "      <th>index_y</th>\n",
       "      <th>country</th>\n",
       "      <th>countrycode_y</th>\n",
       "      <th>emissions_GHG</th>\n",
       "    </tr>\n",
       "  </thead>\n",
       "  <tbody>\n",
       "    <tr>\n",
       "      <th>0</th>\n",
       "      <td>0</td>\n",
       "      <td>AUS</td>\n",
       "      <td>2010</td>\n",
       "      <td>48111.546431</td>\n",
       "      <td>0</td>\n",
       "      <td>Australia</td>\n",
       "      <td>AUS</td>\n",
       "      <td>539171.826</td>\n",
       "    </tr>\n",
       "    <tr>\n",
       "      <th>1</th>\n",
       "      <td>1</td>\n",
       "      <td>AUS</td>\n",
       "      <td>2011</td>\n",
       "      <td>49621.840441</td>\n",
       "      <td>1</td>\n",
       "      <td>Australia</td>\n",
       "      <td>AUS</td>\n",
       "      <td>540445.363</td>\n",
       "    </tr>\n",
       "    <tr>\n",
       "      <th>2</th>\n",
       "      <td>2</td>\n",
       "      <td>AUS</td>\n",
       "      <td>2012</td>\n",
       "      <td>49900.648070</td>\n",
       "      <td>2</td>\n",
       "      <td>Australia</td>\n",
       "      <td>AUS</td>\n",
       "      <td>543593.864</td>\n",
       "    </tr>\n",
       "    <tr>\n",
       "      <th>3</th>\n",
       "      <td>3</td>\n",
       "      <td>AUS</td>\n",
       "      <td>2013</td>\n",
       "      <td>49648.772056</td>\n",
       "      <td>3</td>\n",
       "      <td>Australia</td>\n",
       "      <td>AUS</td>\n",
       "      <td>533313.692</td>\n",
       "    </tr>\n",
       "    <tr>\n",
       "      <th>4</th>\n",
       "      <td>4</td>\n",
       "      <td>AUS</td>\n",
       "      <td>2014</td>\n",
       "      <td>49988.558205</td>\n",
       "      <td>4</td>\n",
       "      <td>Australia</td>\n",
       "      <td>AUS</td>\n",
       "      <td>527325.581</td>\n",
       "    </tr>\n",
       "  </tbody>\n",
       "</table>\n",
       "</div>"
      ],
      "text/plain": [
       "   index_x countrycode_x  year  average wage  index_y    country  \\\n",
       "0        0           AUS  2010  48111.546431        0  Australia   \n",
       "1        1           AUS  2011  49621.840441        1  Australia   \n",
       "2        2           AUS  2012  49900.648070        2  Australia   \n",
       "3        3           AUS  2013  49648.772056        3  Australia   \n",
       "4        4           AUS  2014  49988.558205        4  Australia   \n",
       "\n",
       "  countrycode_y  emissions_GHG  \n",
       "0           AUS     539171.826  \n",
       "1           AUS     540445.363  \n",
       "2           AUS     543593.864  \n",
       "3           AUS     533313.692  \n",
       "4           AUS     527325.581  "
      ]
     },
     "execution_count": 42,
     "metadata": {},
     "output_type": "execute_result"
    }
   ],
   "source": [
    "# a. We defne the two datasets, and reset their index\n",
    "left = df_wages.sort_values(\"countrycode\")\n",
    "left = left.reset_index()\n",
    "rigth = df_env.sort_values(\"countrycode\")\n",
    "rigth = rigth.reset_index()\n",
    "\n",
    "# b. We merge the two datasets with a left merge\n",
    "data_all = left.merge(rigth,left_index=True,right_index=True)\n",
    "data_all.head()"
   ]
  },
  {
   "cell_type": "markdown",
   "metadata": {},
   "source": [
    " Now the wage dataset and the envoriment dataset have been merget into one. To make sure that they are correctly merged, we use an algorithm, that tells us if any of the two countrycode variables do not have identical values in a row. "
   ]
  },
  {
   "cell_type": "code",
   "execution_count": 43,
   "metadata": {},
   "outputs": [
    {
     "name": "stdout",
     "output_type": "stream",
     "text": [
      "No mistakes in the mergin process\n"
     ]
    }
   ],
   "source": [
    "# a. This for-loop test whether or not the data has been merge correctly \n",
    "for i in data_all.index.values : \n",
    "    # a.i. This statement checks if all the rows have the same countrycode in the two countrycode variables\n",
    "    if data_all[\"countrycode_x\"][i]==data_all[\"countrycode_y\"][i] :\n",
    "        if i == data_all.index.values[-1] : \n",
    "            print(\"No mistakes in the mergin process\")\n",
    "    else :  \n",
    "        print(\"mistake in \"+data_all[\"country\"][i])"
   ]
  },
  {
   "cell_type": "markdown",
   "metadata": {},
   "source": [
    "The merge process did not lead to any mistakes, but it did lead to a few redundant variables that existed in both data set before. Therefore we delete these."
   ]
  },
  {
   "cell_type": "code",
   "execution_count": 44,
   "metadata": {},
   "outputs": [
    {
     "data": {
      "text/html": [
       "<div>\n",
       "<style scoped>\n",
       "    .dataframe tbody tr th:only-of-type {\n",
       "        vertical-align: middle;\n",
       "    }\n",
       "\n",
       "    .dataframe tbody tr th {\n",
       "        vertical-align: top;\n",
       "    }\n",
       "\n",
       "    .dataframe thead th {\n",
       "        text-align: right;\n",
       "    }\n",
       "</style>\n",
       "<table border=\"1\" class=\"dataframe\">\n",
       "  <thead>\n",
       "    <tr style=\"text-align: right;\">\n",
       "      <th></th>\n",
       "      <th>countrycode</th>\n",
       "      <th>year</th>\n",
       "      <th>average wage</th>\n",
       "      <th>country</th>\n",
       "      <th>emissions_GHG</th>\n",
       "    </tr>\n",
       "  </thead>\n",
       "  <tbody>\n",
       "    <tr>\n",
       "      <th>0</th>\n",
       "      <td>AUS</td>\n",
       "      <td>2010</td>\n",
       "      <td>48111.546431</td>\n",
       "      <td>Australia</td>\n",
       "      <td>539171.826</td>\n",
       "    </tr>\n",
       "    <tr>\n",
       "      <th>1</th>\n",
       "      <td>AUS</td>\n",
       "      <td>2011</td>\n",
       "      <td>49621.840441</td>\n",
       "      <td>Australia</td>\n",
       "      <td>540445.363</td>\n",
       "    </tr>\n",
       "    <tr>\n",
       "      <th>2</th>\n",
       "      <td>AUS</td>\n",
       "      <td>2012</td>\n",
       "      <td>49900.648070</td>\n",
       "      <td>Australia</td>\n",
       "      <td>543593.864</td>\n",
       "    </tr>\n",
       "    <tr>\n",
       "      <th>3</th>\n",
       "      <td>AUS</td>\n",
       "      <td>2013</td>\n",
       "      <td>49648.772056</td>\n",
       "      <td>Australia</td>\n",
       "      <td>533313.692</td>\n",
       "    </tr>\n",
       "    <tr>\n",
       "      <th>4</th>\n",
       "      <td>AUS</td>\n",
       "      <td>2014</td>\n",
       "      <td>49988.558205</td>\n",
       "      <td>Australia</td>\n",
       "      <td>527325.581</td>\n",
       "    </tr>\n",
       "  </tbody>\n",
       "</table>\n",
       "</div>"
      ],
      "text/plain": [
       "  countrycode  year  average wage    country  emissions_GHG\n",
       "0         AUS  2010  48111.546431  Australia     539171.826\n",
       "1         AUS  2011  49621.840441  Australia     540445.363\n",
       "2         AUS  2012  49900.648070  Australia     543593.864\n",
       "3         AUS  2013  49648.772056  Australia     533313.692\n",
       "4         AUS  2014  49988.558205  Australia     527325.581"
      ]
     },
     "execution_count": 44,
     "metadata": {},
     "output_type": "execute_result"
    }
   ],
   "source": [
    "# a. This section drops the extra contrycode variable\n",
    "drop_these= [\"index_x\",\"index_y\",\"countrycode_y\"]\n",
    "data_all = data_all.drop(drop_these, axis=1, inplace=False)\n",
    "\n",
    "data_all.rename(columns ={\"countrycode_x\":\"countrycode\"},inplace=True)\n",
    "\n",
    "# b. Then we sort the dataset by countrycode and year, afterwards we reset the index\n",
    "data_all = data_all.sort_values(by=[\"countrycode\",\"year\"])\n",
    "data_all = data_all.reset_index(drop=True)\n",
    "data_all.head()"
   ]
  },
  {
   "cell_type": "markdown",
   "metadata": {},
   "source": [
    "## Creating new variables\n",
    "Now that we have our dataset ready for analysis, we want create some new variables. The main thing that we want to exaimine, is whether changes in CO2 emissions and average wages follow a similar trend. Therefore we make a new variable, that is the percentage change from year to year, within each country. After this we examine the mean and median of this change."
   ]
  },
  {
   "cell_type": "code",
   "execution_count": 45,
   "metadata": {},
   "outputs": [
    {
     "data": {
      "text/html": [
       "<div>\n",
       "<style scoped>\n",
       "    .dataframe tbody tr th:only-of-type {\n",
       "        vertical-align: middle;\n",
       "    }\n",
       "\n",
       "    .dataframe tbody tr th {\n",
       "        vertical-align: top;\n",
       "    }\n",
       "\n",
       "    .dataframe thead th {\n",
       "        text-align: right;\n",
       "    }\n",
       "</style>\n",
       "<table border=\"1\" class=\"dataframe\">\n",
       "  <thead>\n",
       "    <tr style=\"text-align: right;\">\n",
       "      <th></th>\n",
       "      <th>countrycode</th>\n",
       "      <th>year</th>\n",
       "      <th>average wage</th>\n",
       "      <th>country</th>\n",
       "      <th>emissions_GHG</th>\n",
       "      <th>d_GHG</th>\n",
       "      <th>d_aw</th>\n",
       "    </tr>\n",
       "  </thead>\n",
       "  <tbody>\n",
       "    <tr>\n",
       "      <th>0</th>\n",
       "      <td>AUS</td>\n",
       "      <td>2010</td>\n",
       "      <td>48111.546431</td>\n",
       "      <td>Australia</td>\n",
       "      <td>539171.826</td>\n",
       "      <td>NaN</td>\n",
       "      <td>NaN</td>\n",
       "    </tr>\n",
       "    <tr>\n",
       "      <th>1</th>\n",
       "      <td>AUS</td>\n",
       "      <td>2011</td>\n",
       "      <td>49621.840441</td>\n",
       "      <td>Australia</td>\n",
       "      <td>540445.363</td>\n",
       "      <td>0.236202</td>\n",
       "      <td>3.139151</td>\n",
       "    </tr>\n",
       "    <tr>\n",
       "      <th>2</th>\n",
       "      <td>AUS</td>\n",
       "      <td>2012</td>\n",
       "      <td>49900.648070</td>\n",
       "      <td>Australia</td>\n",
       "      <td>543593.864</td>\n",
       "      <td>0.582575</td>\n",
       "      <td>0.561865</td>\n",
       "    </tr>\n",
       "    <tr>\n",
       "      <th>3</th>\n",
       "      <td>AUS</td>\n",
       "      <td>2013</td>\n",
       "      <td>49648.772056</td>\n",
       "      <td>Australia</td>\n",
       "      <td>533313.692</td>\n",
       "      <td>-1.891149</td>\n",
       "      <td>-0.504755</td>\n",
       "    </tr>\n",
       "    <tr>\n",
       "      <th>4</th>\n",
       "      <td>AUS</td>\n",
       "      <td>2014</td>\n",
       "      <td>49988.558205</td>\n",
       "      <td>Australia</td>\n",
       "      <td>527325.581</td>\n",
       "      <td>-1.122812</td>\n",
       "      <td>0.684380</td>\n",
       "    </tr>\n",
       "  </tbody>\n",
       "</table>\n",
       "</div>"
      ],
      "text/plain": [
       "  countrycode  year  average wage    country  emissions_GHG     d_GHG  \\\n",
       "0         AUS  2010  48111.546431  Australia     539171.826       NaN   \n",
       "1         AUS  2011  49621.840441  Australia     540445.363  0.236202   \n",
       "2         AUS  2012  49900.648070  Australia     543593.864  0.582575   \n",
       "3         AUS  2013  49648.772056  Australia     533313.692 -1.891149   \n",
       "4         AUS  2014  49988.558205  Australia     527325.581 -1.122812   \n",
       "\n",
       "       d_aw  \n",
       "0       NaN  \n",
       "1  3.139151  \n",
       "2  0.561865  \n",
       "3 -0.504755  \n",
       "4  0.684380  "
      ]
     },
     "execution_count": 45,
     "metadata": {},
     "output_type": "execute_result"
    }
   ],
   "source": [
    "# a. We use the apply method, and a discret function to make two new variables for percentage change\n",
    "data_all['d_GHG'] = data_all.groupby('countrycode')['emissions_GHG'].apply(lambda x: x.pct_change())*100\n",
    "data_all['d_aw'] = data_all.groupby('countrycode')['average wage'].apply(lambda x: x.pct_change())*100\n",
    "\n",
    "# b. Inspect the new data - it should contain a NaN value for each country in the year 2010\n",
    "data_all.head()"
   ]
  },
  {
   "cell_type": "code",
   "execution_count": 47,
   "metadata": {},
   "outputs": [
    {
     "name": "stdout",
     "output_type": "stream",
     "text": [
      "The mean of change in greenhouse gas emissions, in the OECD each year\n",
      "2010         NaN\n",
      "2011    0.804072\n",
      "2012    1.312742\n",
      "2013   -1.077934\n",
      "2014    0.590274\n",
      "2015    1.091532\n",
      "2016   -0.888182\n",
      "Name: d_GHG, dtype: float64\n",
      "The median change in greenhouse gas emissions in the OECD each year\n",
      "2010         NaN\n",
      "2011   -0.002202\n",
      "2012    0.511658\n",
      "2013   -0.866082\n",
      "2014    0.202867\n",
      "2015    1.173351\n",
      "2016   -1.167081\n",
      "Name: d_GHG, dtype: float64\n"
     ]
    }
   ],
   "source": [
    "# a. We create and inspect both the mean and median of all of the OECD countries' change in greenhouse gas emissions\n",
    "GHG_change = data_all.groupby(\"year\").d_GHG.mean()\n",
    "print(\"The mean of change in greenhouse gas emissions, in the OECD each\",GHG_change)\n",
    "print(\"The median change in greenhouse gas emissions in the OECD each\", data_all.groupby(\"year\").d_GHG.median())\n"
   ]
  },
  {
   "cell_type": "markdown",
   "metadata": {},
   "source": [
    "As can be seen, both the mean and the meadian change in emission is both negative and positive in the 6 year period. This means that emissions has both gone up and down. This is in contrast to wages as seen below. Here we see that wages has moste gode up since 2010. "
   ]
  },
  {
   "cell_type": "code",
   "execution_count": 48,
   "metadata": {},
   "outputs": [
    {
     "name": "stdout",
     "output_type": "stream",
     "text": [
      "The mean of change in average wages, in the OECD each year\n",
      "2010         NaN\n",
      "2011   -0.199425\n",
      "2012    0.017790\n",
      "2013    0.529560\n",
      "2014    0.990512\n",
      "2015    1.710150\n",
      "2016    1.849174\n",
      "Name: d_aw, dtype: float64\n",
      "The median of change in average wages, in the OECD each year\n",
      "2010         NaN\n",
      "2011    0.007957\n",
      "2012    0.215702\n",
      "2013    0.558833\n",
      "2014    0.684380\n",
      "2015    1.502708\n",
      "2016    1.298770\n",
      "Name: d_aw, dtype: float64\n"
     ]
    }
   ],
   "source": [
    "# a. We create and inspect both the mean an median of all of the OECD countries' change in average wages\n",
    "AW_change = data_all.groupby(\"year\").d_aw.mean()\n",
    "print(\"The mean of change in average wages, in the OECD each\", AW_change)\n",
    "print(\"The median of change in average wages, in the OECD each\",data_all.groupby(\"year\").d_aw.median())"
   ]
  },
  {
   "cell_type": "markdown",
   "metadata": {},
   "source": [
    "## New functions\n",
    "\n",
    "In this section we define the functions that we need to visualize the wages and emissions.\n",
    "\n",
    "We define two new functions: information and translate. Information makes it easy and convinient to extract information on a specific country, year, variable or a combination, from the dataset. Translate tranlates a country name to a country code and vice verca. "
   ]
  },
  {
   "cell_type": "code",
   "execution_count": 66,
   "metadata": {},
   "outputs": [],
   "source": [
    "def information(country,year = 0,variable = True):\n",
    "    \"\"\"This function takes up to three arguments, the country code a and two optional ones: the year b and the variable. \n",
    "        Given these arguments it will return the GHG emissions and average wage of a specific \n",
    "        country depending on the year.\n",
    "        \n",
    "    args :\n",
    "    \n",
    "    country (str) : Required argument, which specifies the country for which information should be returned. It has to be the \n",
    "                country code of this country. The country code is the first column in the data base, three letters which are assigned to each country.\n",
    "    year (float) : Optional argument, which allows to get information for only one specific year. By default the function will return\n",
    "                all of the years for country a.\n",
    "    variable (str) : Optional argument, which allows to get only the variable asked for. It can be assigned \n",
    "                \"co2\" to get the emissions or \"wage\" to get the average wage for country a. By default the function will retrun both variables.\n",
    "                        \n",
    "    returns :\n",
    "    \n",
    "    y(pandas.core.frame.DataFrame) : It return a table with the index, the years, the country, the average wage and the emission of GHG.\n",
    "    \"\"\"\n",
    "    x = data_all[data_all[\"countrycode\"] == country]\n",
    "#define year and co2\n",
    "    if year != 0 and variable == 'co2':\n",
    "        d= x[data_all[\"year\"] == year]\n",
    "        f = d.loc[:, [\"year\", \"country\", \"emissions_GHG\"]]\n",
    "        return f\n",
    "#define year and wage\n",
    "    elif year != 0 and variable == 'wage':\n",
    "        d= x[data_all[\"year\"] == year]\n",
    "        g = d.loc[:, [\"year\", \"country\", \"average wage\"]]\n",
    "        return g\n",
    " #define only co2\n",
    "    elif year == 0 and variable == 'co2':\n",
    "        d= x[data_all[\"year\"] == year]\n",
    "        return x.loc[:, [\"year\", \"country\", \"emissions_GHG\"]]\n",
    "#define only wage\n",
    "    elif year == 0 and variable == 'wage':\n",
    "        g = x.loc[:, [\"year\", \"country\", \"average wage\"]]\n",
    "        return x.loc[:, [\"year\", \"country\", \"average wage\"]]\n",
    "#define only the year\n",
    "    elif year != 0 : \n",
    "        h = x[data_all[\"year\"] == year]\n",
    "        return h.loc[:, [\"year\", \"country\", \"average wage\", \"emissions_GHG\"]]\n",
    "#nothing define\n",
    "    else :\n",
    "        return x.loc[:, [\"year\", \"country\", \"average wage\", \"emissions_GHG\"]]"
   ]
  },
  {
   "cell_type": "code",
   "execution_count": 67,
   "metadata": {},
   "outputs": [],
   "source": [
    "def translate(code = True, countrycode = True):\n",
    "    \"\"\"This function takes one argument. By default it is the code of the country and returns the name of the country. \n",
    "    Otherwise it returns the code, if you give it the name. \n",
    "    \n",
    "    args:\n",
    "    code(str): Is either the countrycode or the name of the country.\n",
    "    countrycode(boolean): Defines if the argument code is the countrycode(True) or the name(False).\n",
    "    \n",
    "    return:\n",
    "    c(str): Either the name or the countrycode.\n",
    "\n",
    "    \"\"\"\n",
    "    i = 0\n",
    "    if countrycode == True :\n",
    "        c = str(data_all[data_all[\"countrycode\"]==code][\"country\"].unique())\n",
    "        c = c.replace(\"['\",\"\")\n",
    "        c = c.replace(\"']\",\"\")\n",
    "        return(c)\n",
    "    elif countrycode == False :\n",
    "        c = str(data_all[data_all[\"country\"]==code][\"countrycode\"].unique())\n",
    "        c = c.replace(\"['\",\"\")\n",
    "        c = c.replace(\"']\",\"\")\n",
    "        return(c)\n",
    "    else : \n",
    "        return(\"check you'r spelling\")"
   ]
  },
  {
   "cell_type": "markdown",
   "metadata": {},
   "source": [
    "## Visual analysis\n",
    "In this section, we visually present the results of our analysis. "
   ]
  },
  {
   "cell_type": "code",
   "execution_count": 68,
   "metadata": {},
   "outputs": [
    {
     "data": {
      "image/png": "[encoded data removed]",
      "text/plain": [
       "<Figure size 432x288 with 1 Axes>"
      ]
     },
     "metadata": {
      "needs_background": "light"
     },
     "output_type": "display_data"
    }
   ],
   "source": [
    "# a Plot 1 - Percentage change in CO2 emissions and wages over time \n",
    "plt.plot(GHG_change,color=\"g\")\n",
    "plt.plot(AW_change,color=\"b\")\n",
    "plt.xlabel(\"Year\")\n",
    "plt.ylabel(\"Percentage change\")\n",
    "plt.legend([\"Greenhouse gas emissions\",\"Average wage\"])\n",
    "plt.axhline(y=0,color=\"r\",linestyle=\"dashed\")\n",
    "plt.show()"
   ]
  },
  {
   "cell_type": "markdown",
   "metadata": {},
   "source": [
    "The graph shows the average change in both average wages and CO2 emissions for all OECD countries from year to year in the 2010-2016 period. We have created the plotted variable, GHG_change, in the section \"Creating new variables\" line 80. Though a rising trend in average wages for all OECD countries is distinguishable, greenhouse gas emissions have been subject to strong fluctuations, so that a connection between the two variables is not clear to see. "
   ]
  },
  {
   "cell_type": "code",
   "execution_count": 69,
   "metadata": {},
   "outputs": [
    {
     "data": {
      "image/png": "[encoded data removed]",
      "text/plain": [
       "<Figure size 432x288 with 1 Axes>"
      ]
     },
     "metadata": {
      "needs_background": "light"
     },
     "output_type": "display_data"
    }
   ],
   "source": [
    "# a Plot 2: Average wages by country  \n",
    "plt.clf\n",
    "av_w_c= data_all.groupby(\"countrycode\")[\"average wage\"].mean().sort_values()\n",
    "av_w_c.plot.bar()\n",
    "plt.xlabel(\"countrycode\")\n",
    "plt.ylabel(\"average wage in USD\")\n",
    "plt.show()"
   ]
  },
  {
   "cell_type": "markdown",
   "metadata": {},
   "source": [
    "This bar graph shows the average wages in US dollars for each OECD country over the 2010 - 2016 period. Our translation function in the section \"New functions\" line 84 provides the possibility to easily translate the country code to the country name. While the highest wages are earned in Switzerland, Mexico portrays the lowest average wages in the OECD."
   ]
  },
  {
   "cell_type": "code",
   "execution_count": 70,
   "metadata": {},
   "outputs": [
    {
     "data": {
      "image/png": "[encoded data removed]",
      "text/plain": [
       "<Figure size 432x288 with 1 Axes>"
      ]
     },
     "metadata": {
      "needs_background": "light"
     },
     "output_type": "display_data"
    }
   ],
   "source": [
    "# a: Plot 3: Average CO2 emissions by country\n",
    "plt.clf\n",
    "av_e_c= data_all.groupby(\"country\")[\"emissions_GHG\"].mean()\n",
    "plt.ylabel(\"greenhouse gas emissions (thousands of metric tons)\")\n",
    "plt.xlabel(\"countrycode\")\n",
    "av_e_c.plot.bar()\n",
    "plt.show()"
   ]
  },
  {
   "cell_type": "markdown",
   "metadata": {},
   "source": [
    "This very similar bar graph shows greenhouse gas emissions (in thousand metric tons) for all OECD countries between 2010 and 2016. While, among others, Japan and Germany have emitted sizable amounts of greenhouse gases, it is clear to see that the United States's emissions by far exceed that of any other OECD country. "
   ]
  },
  {
   "cell_type": "code",
   "execution_count": 71,
   "metadata": {},
   "outputs": [
    {
     "name": "stderr",
     "output_type": "stream",
     "text": [
      "C:\\Users\\augus\\Anaconda3\\lib\\site-packages\\ipykernel_launcher.py:40: UserWarning: Boolean Series key will be reindexed to match DataFrame index.\n"
     ]
    },
    {
     "data": {
      "image/png": "[encoded data removed]",
      "text/plain": [
       "<Figure size 432x288 with 1 Axes>"
      ]
     },
     "metadata": {},
     "output_type": "display_data"
    }
   ],
   "source": [
    "# a Plot 4: Pie chart of greenhouse gas emissions\n",
    "plt.clf\n",
    "united_state_d = information('USA', 2016)\n",
    "country1 = float(united_state_d.loc[:,\"emissions_GHG\"])\n",
    "japan_d = information('JPN', 2016)\n",
    "country2 = float(japan_d.loc[:,\"emissions_GHG\"])\n",
    "germany_d = information(\"DEU\", 2016)\n",
    "country3 = float(germany_d.loc[:,\"emissions_GHG\"])\n",
    "others_d = data_all[(~data_all[\"countrycode\"].isin([\"USA\",\"JAP\",\"DEU\"]))]\n",
    "others_d = others_d[others_d['year'] == 2016][\"emissions_GHG\"]\n",
    "others = float(np.nansum(others_d))\n",
    "\n",
    "chart = [country1, country2, country3, others]\n",
    "labels = 'United States', 'Japan', 'Germany', 'Others'\n",
    "colors = ['yellowgreen', 'gold', 'lightskyblue', 'lightcoral']\n",
    "exp = [0.15 , 0, 0, 0]\n",
    "\n",
    "fig1, chartg = plt.subplots()\n",
    "chartg.pie(chart, explode=exp , labels=labels, colors=colors, autopct='%1.1f%%',  shadow=True, startangle=90)\n",
    "\n",
    "chartg.axis('equal')\n",
    "plt.show()"
   ]
  },
  {
   "cell_type": "markdown",
   "metadata": {},
   "source": [
    "The radically high amount of total greenhouse gas emissions of the United States compared to other OECD countries (in 2016) is best depicted in this pie chart. We have used the information function described in the section \"New functions\" to get the emissions of the relevant countries in the year 2016. The index throws a warning, but it does not affect the functionallity of the code."
   ]
  },
  {
   "cell_type": "markdown",
   "metadata": {},
   "source": [
    "## Interactive model"
   ]
  },
  {
   "cell_type": "markdown",
   "metadata": {},
   "source": [
    "This final interactive model gives all the relevant information portrayed in the visual analysis above, for each of the OECD countries. When chosing a country in the droop down menu, the interactive model gives you the mean of both greenhouse gas emissions and average wages and plots their percentage change over the 2010-2016 period. "
   ]
  },
  {
   "cell_type": "code",
   "execution_count": 72,
   "metadata": {},
   "outputs": [
    {
     "data": {
      "application/vnd.jupyter.widget-view+json": {
       "model_id": "01c31838fcaa403da3e67e22a43902e7",
       "version_major": 2,
       "version_minor": 0
      },
      "text/plain": [
       "interactive(children=(Dropdown(description='Country', options=('Australia', 'Austria', 'Belgium', 'Canada', 'S…"
      ]
     },
     "metadata": {},
     "output_type": "display_data"
    },
    {
     "data": {
      "text/plain": [
       "<function __main__.get_con(Country='Australia')>"
      ]
     },
     "execution_count": 72,
     "metadata": {},
     "output_type": "execute_result"
    }
   ],
   "source": [
    "# a Plot 5: Interactive model\n",
    "plt.clf\n",
    "def get_con(Country = \"Australia\"):\n",
    "    \"\"\"Gives mean of greenhouse gas emissions and average wages as a float for the specified country. \n",
    "    Additionally, it shows a plot of the percentage change of the two variables over the 2010-2016 period. \n",
    "    As it is an interactive model, it gives the information for any OECD country.    \n",
    "    \n",
    "    args:\n",
    "        Country(str): Specify the country as an argument for the function\n",
    "            \n",
    "    return\n",
    "    Country name, mean of greenhouse gas emissions, mean of average wages and the plotted percentage changes in wages and emissions\"\"\"\n",
    "        \n",
    "        \n",
    "    print(\"Country: \"+ Country)\n",
    "    print(\"Mean of Greenhouse gas emissions:\" , round(information(translate(Country,countrycode=False))[\"emissions_GHG\"].mean(),2))  \n",
    "    print(\"Mean of average wages:\" , round(information(translate(Country,countrycode=False))[\"average wage\"].mean(),2))\n",
    "\n",
    "    fig, ax = plt.subplots()\n",
    "    fig.canvas.draw()\n",
    "    plt.plot(data_all[data_all[\"country\"]==Country][\"d_GHG\"],color=\"g\")\n",
    "    plt.plot(data_all[data_all[\"country\"]==Country][\"d_aw\"],color=\"b\")\n",
    "    plt.xlabel(\"Year\")\n",
    "    plt.ylabel(\"Percentage change\")\n",
    "    labels= [\"2010\",\"2011\",\"2012\",\"2013\",\"2014\",\"2015\",\"2016\"]\n",
    "    ax.set_xticklabels(labels) \n",
    "    plt.legend([\"Greenhouse gas emissions\",\"Average wage\"])\n",
    "    plt.axhline(y=0,color=\"r\",linestyle=\"dashed\")\n",
    "    plt.show()\n",
    "\n",
    "    return \n",
    "\n",
    "widgets.interact(get_con,Country=data_all[\"country\"].unique())"
   ]
  },
  {
   "cell_type": "code",
   "execution_count": null,
   "metadata": {},
   "outputs": [],
   "source": []
  },
  {
   "cell_type": "code",
   "execution_count": null,
   "metadata": {},
   "outputs": [],
   "source": []
  }
 ],
 "metadata": {
  "kernelspec": {
   "display_name": "Python 3",
   "language": "python",
   "name": "python3"
  },
  "language_info": {
   "codemirror_mode": {
    "name": "ipython",
    "version": 3
   },
   "file_extension": ".py",
   "mimetype": "text/x-python",
   "name": "python",
   "nbconvert_exporter": "python",
   "pygments_lexer": "ipython3",
   "version": "3.7.1"
  }
 },
 "nbformat": 4,
 "nbformat_minor": 2
}
