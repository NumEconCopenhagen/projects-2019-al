{
 "cells": [
  {
   "cell_type": "markdown",
   "metadata": {},
   "source": [
    "# Dataproject \n",
    "This data project is made by NAME 1 NAME 2 NAME 3. \n",
    "\n",
    "In this project, we examine data from the OECD statistics bank. We look at data about greenhouse gas emissions, and average wages, in all the countries. The project is structured such that we begin by importing, examining and cleaning out data. Afterwards, we estimate new variables, and plot different descriptive statistics for the OECD countries. We finish the project by introducing an interactive model, that give the reader data for whatever OECD country they would like. "
   ]
  },
  {
   "cell_type": "code",
   "execution_count": 19,
   "metadata": {},
   "outputs": [],
   "source": [
    "import pandas as pd\n",
    "import pandas_datareader as pdr\n",
    "import numpy as np\n",
    "import matplotlib.pyplot as plt\n",
    "import ipywidgets as widgets"
   ]
  },
  {
   "cell_type": "markdown",
   "metadata": {},
   "source": [
    "## Data import and cleaning\n",
    "In this section we import the two datasets, and clean them up one after the other. We begin by cleaning the enviromental dataset, afterwards we clean the wage dataset "
   ]
  },
  {
   "cell_type": "code",
   "execution_count": 64,
   "metadata": {},
   "outputs": [
    {
     "name": "stdout",
     "output_type": "stream",
     "text": [
      "This is the first 5 rows of the wages dataset\n"
     ]
    },
    {
     "data": {
      "text/html": [
       "<div>\n",
       "<style scoped>\n",
       "    .dataframe tbody tr th:only-of-type {\n",
       "        vertical-align: middle;\n",
       "    }\n",
       "\n",
       "    .dataframe tbody tr th {\n",
       "        vertical-align: top;\n",
       "    }\n",
       "\n",
       "    .dataframe thead th {\n",
       "        text-align: right;\n",
       "    }\n",
       "</style>\n",
       "<table border=\"1\" class=\"dataframe\">\n",
       "  <thead>\n",
       "    <tr style=\"text-align: right;\">\n",
       "      <th></th>\n",
       "      <th>LOCATION</th>\n",
       "      <th>INDICATOR</th>\n",
       "      <th>SUBJECT</th>\n",
       "      <th>MEASURE</th>\n",
       "      <th>FREQUENCY</th>\n",
       "      <th>TIME</th>\n",
       "      <th>Value</th>\n",
       "      <th>Flag Codes</th>\n",
       "    </tr>\n",
       "  </thead>\n",
       "  <tbody>\n",
       "    <tr>\n",
       "      <th>0</th>\n",
       "      <td>AUS</td>\n",
       "      <td>AVWAGE</td>\n",
       "      <td>TOT</td>\n",
       "      <td>USD</td>\n",
       "      <td>A</td>\n",
       "      <td>2010</td>\n",
       "      <td>48111.546431</td>\n",
       "      <td>NaN</td>\n",
       "    </tr>\n",
       "    <tr>\n",
       "      <th>1</th>\n",
       "      <td>AUS</td>\n",
       "      <td>AVWAGE</td>\n",
       "      <td>TOT</td>\n",
       "      <td>USD</td>\n",
       "      <td>A</td>\n",
       "      <td>2011</td>\n",
       "      <td>49621.840441</td>\n",
       "      <td>NaN</td>\n",
       "    </tr>\n",
       "    <tr>\n",
       "      <th>2</th>\n",
       "      <td>AUS</td>\n",
       "      <td>AVWAGE</td>\n",
       "      <td>TOT</td>\n",
       "      <td>USD</td>\n",
       "      <td>A</td>\n",
       "      <td>2012</td>\n",
       "      <td>49900.648070</td>\n",
       "      <td>NaN</td>\n",
       "    </tr>\n",
       "    <tr>\n",
       "      <th>3</th>\n",
       "      <td>AUS</td>\n",
       "      <td>AVWAGE</td>\n",
       "      <td>TOT</td>\n",
       "      <td>USD</td>\n",
       "      <td>A</td>\n",
       "      <td>2013</td>\n",
       "      <td>49648.772056</td>\n",
       "      <td>NaN</td>\n",
       "    </tr>\n",
       "    <tr>\n",
       "      <th>4</th>\n",
       "      <td>AUS</td>\n",
       "      <td>AVWAGE</td>\n",
       "      <td>TOT</td>\n",
       "      <td>USD</td>\n",
       "      <td>A</td>\n",
       "      <td>2014</td>\n",
       "      <td>49988.558205</td>\n",
       "      <td>NaN</td>\n",
       "    </tr>\n",
       "  </tbody>\n",
       "</table>\n",
       "</div>"
      ],
      "text/plain": [
       "  LOCATION INDICATOR SUBJECT MEASURE FREQUENCY  TIME         Value  Flag Codes\n",
       "0      AUS    AVWAGE     TOT     USD         A  2010  48111.546431         NaN\n",
       "1      AUS    AVWAGE     TOT     USD         A  2011  49621.840441         NaN\n",
       "2      AUS    AVWAGE     TOT     USD         A  2012  49900.648070         NaN\n",
       "3      AUS    AVWAGE     TOT     USD         A  2013  49648.772056         NaN\n",
       "4      AUS    AVWAGE     TOT     USD         A  2014  49988.558205         NaN"
      ]
     },
     "execution_count": 64,
     "metadata": {},
     "output_type": "execute_result"
    }
   ],
   "source": [
    "# a. Import of enviromental data form the OECD statistics bank API\n",
    "df = pdr.DataReader(\"AIR_GHG\",\"oecd\")\n",
    "df.head()\n",
    "\n",
    "# b. Import of locally placed OECD data on wages\n",
    "df_wages= pd.read_csv(\"oecdwages.csv\")\n",
    "print(\"This is the first 5 rows of the wages dataset\")\n",
    "df_wages.head()"
   ]
  },
  {
   "cell_type": "markdown",
   "metadata": {},
   "source": [
    "The dataset fore wages in the OECD countries seems tidy, with variables in the columns and units in the rows. The Envoriromental dataset is not tidy though. It is multi-indexed, with hierachical columns. In the below section we make the enviromental dataset tidy."
   ]
  },
  {
   "cell_type": "code",
   "execution_count": 65,
   "metadata": {},
   "outputs": [
    {
     "data": {
      "text/html": [
       "<div>\n",
       "<style scoped>\n",
       "    .dataframe tbody tr th:only-of-type {\n",
       "        vertical-align: middle;\n",
       "    }\n",
       "\n",
       "    .dataframe tbody tr th {\n",
       "        vertical-align: top;\n",
       "    }\n",
       "\n",
       "    .dataframe thead th {\n",
       "        text-align: right;\n",
       "    }\n",
       "</style>\n",
       "<table border=\"1\" class=\"dataframe\">\n",
       "  <thead>\n",
       "    <tr style=\"text-align: right;\">\n",
       "      <th></th>\n",
       "      <th>country</th>\n",
       "      <th>countrycode</th>\n",
       "      <th>emissions_GHG</th>\n",
       "    </tr>\n",
       "  </thead>\n",
       "  <tbody>\n",
       "    <tr>\n",
       "      <th>0</th>\n",
       "      <td>Australia</td>\n",
       "      <td>AUS</td>\n",
       "      <td>539171.826</td>\n",
       "    </tr>\n",
       "    <tr>\n",
       "      <th>1</th>\n",
       "      <td>Australia</td>\n",
       "      <td>AUS</td>\n",
       "      <td>540445.363</td>\n",
       "    </tr>\n",
       "    <tr>\n",
       "      <th>2</th>\n",
       "      <td>Australia</td>\n",
       "      <td>AUS</td>\n",
       "      <td>543593.864</td>\n",
       "    </tr>\n",
       "    <tr>\n",
       "      <th>3</th>\n",
       "      <td>Australia</td>\n",
       "      <td>AUS</td>\n",
       "      <td>533313.692</td>\n",
       "    </tr>\n",
       "    <tr>\n",
       "      <th>4</th>\n",
       "      <td>Australia</td>\n",
       "      <td>AUS</td>\n",
       "      <td>527325.581</td>\n",
       "    </tr>\n",
       "  </tbody>\n",
       "</table>\n",
       "</div>"
      ],
      "text/plain": [
       "     country countrycode  emissions_GHG\n",
       "0  Australia         AUS     539171.826\n",
       "1  Australia         AUS     540445.363\n",
       "2  Australia         AUS     543593.864\n",
       "3  Australia         AUS     533313.692\n",
       "4  Australia         AUS     527325.581"
      ]
     },
     "execution_count": 65,
     "metadata": {},
     "output_type": "execute_result"
    }
   ],
   "source": [
    "# a. The eviromental data is multi-indexed. Therefore we rearrange the index of the dataset\n",
    "df.reset_index()\n",
    "dir(df.index)\n",
    "df.columns = [' '.join(col).strip() for col in df.columns.values]\n",
    "\n",
    "# b. In this section, we define a dictionary with all the countries and the countrycodes for the OECD countries\n",
    "countries = [\"Australia\",\"Austria\",\"Belgium\",\"Canada\",\"Chile\",\"Czech Republic\",\"Denmark\",\"Estonia\",\"Finland\",\"France\",\n",
    "             \"Germany\",\"Greece\",\"Hungary\",\"Iceland\",\"Ireland\",\"Israel\",\"Italy\",\"Japan\",\"Korea\",\"Latvia\",\"Lithuania\",\n",
    "             \"Luxembourg\",\"Mexico\",\"Netherlands\",\"New Zealand\",\"Norway\",\"Poland\",\"Portugal\",\"Slovak Republic\",\n",
    "             \"Slovenia\",\"Spain\",\"Sweden\",\"Switzerland\",\"United Kingdom\",\"United States\"]\n",
    "countrycode = [\"AUS\", \"AUT\", \"BEL\", \"CAN\", \"CHL\", \"CZE\", \"DNK\", \"EST\", \"FIN\", \"FRA\", \"DEU\",\"GRC\", \"HUN\", \"ISL\", \n",
    "               \"IRL\", \"ISR\", \"ITA\", \"JPN\", \"KOR\", \"LVA\", \"LTU\", \"LUX\", \"MEX\", \"NLD\", \"NZL\", \"NOR\", \"POL\", \"PRT\",\n",
    "               \"SVK\", \"SVN\", \"SWE\", \"ESP\", \"CHE\", \"GBR\", \"USA\"]\n",
    "\n",
    "ccc = dict(zip(countries,countrycode))\n",
    "\n",
    "\n",
    "# c. We make a tidy dataset, by making a row for each country in each year, and add the variable \"Greenhouse gases...\" \n",
    "    #to this new data set\n",
    "    # c.i.  I initiate an empty list for the dataset and set a counter to 0\n",
    "x = []\n",
    "i = 0\n",
    "    #c.ii. Iniate the for-loop that adds the rows to the dataset\n",
    "for c in countries:\n",
    "    for y in df.index.values : \n",
    "        x.append({\"country\" : c, \"countrycode\" : ccc[c],\"emissions_GHG\" : df[c+\" \"+\"Greenhouse gases Total  emissions excluding LULUCF\"][i]})\n",
    "        i = i + 1 \n",
    "        if i > 6 :\n",
    "            i = 0\n",
    "    # c.iii. Examening the new dataset  \n",
    "df_env = pd.DataFrame(x)\n",
    "df_env.head()\n"
   ]
  },
  {
   "cell_type": "markdown",
   "metadata": {},
   "source": [
    "Now that we have a tidy dataset for enviromental data, we want to clean up the dataset for wages. "
   ]
  },
  {
   "cell_type": "code",
   "execution_count": 66,
   "metadata": {},
   "outputs": [],
   "source": [
    "# a. We define the variables that we do not need in our analysis, and drop them\n",
    "drop_these= [\"INDICATOR\",\"FREQUENCY\",\"MEASURE\",\"SUBJECT\", \"Flag Codes\"]\n",
    "df_wages = df_wages.drop(drop_these, axis=1, inplace=False)\n",
    "\n",
    "# b. We change the name of some of the variables\n",
    "df_wages.rename(columns = {'LOCATION':'countrycode', 'Value' : 'average wage', 'TIME' : 'year'}, inplace=True)\n"
   ]
  },
  {
   "cell_type": "markdown",
   "metadata": {},
   "source": [
    "## Mergin data sets\n",
    "In this section we combine out two datasets, in order to get one tidy dataset, that we can do analysis on. "
   ]
  },
  {
   "cell_type": "code",
   "execution_count": 67,
   "metadata": {},
   "outputs": [
    {
     "name": "stdout",
     "output_type": "stream",
     "text": [
      "Shape of eviromental dataset: (245, 3)\n",
      "Shape of wages dataset: (245, 3)\n",
      "Since they both have the same amount of rows, they should be good to merge, after we sort by countrycode\n"
     ]
    }
   ],
   "source": [
    "# a. Test of whether the datasets are good to merge, by looking at their shape \n",
    "print(\"Shape of eviromental dataset:\" , df_env.shape)\n",
    "print(\"Shape of wages dataset:\" , df_wages.shape)\n",
    "print(\"Since they both have the same amount of rows, they should be good to merge, after we sort by countrycode\")"
   ]
  },
  {
   "cell_type": "code",
   "execution_count": 68,
   "metadata": {},
   "outputs": [
    {
     "data": {
      "text/html": [
       "<div>\n",
       "<style scoped>\n",
       "    .dataframe tbody tr th:only-of-type {\n",
       "        vertical-align: middle;\n",
       "    }\n",
       "\n",
       "    .dataframe tbody tr th {\n",
       "        vertical-align: top;\n",
       "    }\n",
       "\n",
       "    .dataframe thead th {\n",
       "        text-align: right;\n",
       "    }\n",
       "</style>\n",
       "<table border=\"1\" class=\"dataframe\">\n",
       "  <thead>\n",
       "    <tr style=\"text-align: right;\">\n",
       "      <th></th>\n",
       "      <th>index_x</th>\n",
       "      <th>countrycode_x</th>\n",
       "      <th>year</th>\n",
       "      <th>average wage</th>\n",
       "      <th>index_y</th>\n",
       "      <th>country</th>\n",
       "      <th>countrycode_y</th>\n",
       "      <th>emissions_GHG</th>\n",
       "    </tr>\n",
       "  </thead>\n",
       "  <tbody>\n",
       "    <tr>\n",
       "      <th>0</th>\n",
       "      <td>0</td>\n",
       "      <td>AUS</td>\n",
       "      <td>2010</td>\n",
       "      <td>48111.546431</td>\n",
       "      <td>0</td>\n",
       "      <td>Australia</td>\n",
       "      <td>AUS</td>\n",
       "      <td>539171.826</td>\n",
       "    </tr>\n",
       "    <tr>\n",
       "      <th>1</th>\n",
       "      <td>1</td>\n",
       "      <td>AUS</td>\n",
       "      <td>2011</td>\n",
       "      <td>49621.840441</td>\n",
       "      <td>1</td>\n",
       "      <td>Australia</td>\n",
       "      <td>AUS</td>\n",
       "      <td>540445.363</td>\n",
       "    </tr>\n",
       "    <tr>\n",
       "      <th>2</th>\n",
       "      <td>2</td>\n",
       "      <td>AUS</td>\n",
       "      <td>2012</td>\n",
       "      <td>49900.648070</td>\n",
       "      <td>2</td>\n",
       "      <td>Australia</td>\n",
       "      <td>AUS</td>\n",
       "      <td>543593.864</td>\n",
       "    </tr>\n",
       "    <tr>\n",
       "      <th>3</th>\n",
       "      <td>3</td>\n",
       "      <td>AUS</td>\n",
       "      <td>2013</td>\n",
       "      <td>49648.772056</td>\n",
       "      <td>3</td>\n",
       "      <td>Australia</td>\n",
       "      <td>AUS</td>\n",
       "      <td>533313.692</td>\n",
       "    </tr>\n",
       "    <tr>\n",
       "      <th>4</th>\n",
       "      <td>4</td>\n",
       "      <td>AUS</td>\n",
       "      <td>2014</td>\n",
       "      <td>49988.558205</td>\n",
       "      <td>4</td>\n",
       "      <td>Australia</td>\n",
       "      <td>AUS</td>\n",
       "      <td>527325.581</td>\n",
       "    </tr>\n",
       "  </tbody>\n",
       "</table>\n",
       "</div>"
      ],
      "text/plain": [
       "   index_x countrycode_x  year  average wage  index_y    country  \\\n",
       "0        0           AUS  2010  48111.546431        0  Australia   \n",
       "1        1           AUS  2011  49621.840441        1  Australia   \n",
       "2        2           AUS  2012  49900.648070        2  Australia   \n",
       "3        3           AUS  2013  49648.772056        3  Australia   \n",
       "4        4           AUS  2014  49988.558205        4  Australia   \n",
       "\n",
       "  countrycode_y  emissions_GHG  \n",
       "0           AUS     539171.826  \n",
       "1           AUS     540445.363  \n",
       "2           AUS     543593.864  \n",
       "3           AUS     533313.692  \n",
       "4           AUS     527325.581  "
      ]
     },
     "execution_count": 68,
     "metadata": {},
     "output_type": "execute_result"
    }
   ],
   "source": [
    "# a. We defne the two datasets, and reset their index\n",
    "left = df_wages.sort_values(\"countrycode\")\n",
    "left = left.reset_index()\n",
    "rigth = df_env.sort_values(\"countrycode\")\n",
    "rigth = rigth.reset_index()\n",
    "\n",
    "# b. We merge the two datasets with a left merge\n",
    "data_all = left.merge(rigth,left_index=True,right_index=True)\n",
    "data_all.head()"
   ]
  },
  {
   "cell_type": "markdown",
   "metadata": {},
   "source": [
    " Now the wage dataset and the envoriment dataset, have been merget into one. To make sure that they correctly merged, we use an algorithm, that tells us if any of the two countrycode variables, do not have identical values in a row. "
   ]
  },
  {
   "cell_type": "code",
   "execution_count": 69,
   "metadata": {},
   "outputs": [
    {
     "name": "stdout",
     "output_type": "stream",
     "text": [
      "No mistakes in the mergin process\n"
     ]
    }
   ],
   "source": [
    "# a. This for-loop test whether or not the data has been merge correctly \n",
    "for i in data_all.index.values : \n",
    "    # a.i. This statement checks if all the rows have the same countrycode in the two countrycode variables\n",
    "    if data_all[\"countrycode_x\"][i]==data_all[\"countrycode_y\"][i] :\n",
    "        if i == data_all.index.values[-1] : \n",
    "            print(\"No mistakes in the mergin process\")\n",
    "    else :  \n",
    "        print(\"mistake in \"+data_all[\"country\"][i])"
   ]
  },
  {
   "cell_type": "code",
   "execution_count": 70,
   "metadata": {},
   "outputs": [
    {
     "name": "stdout",
     "output_type": "stream",
     "text": [
      "  countrycode  year  average wage    country  emissions_GHG\n",
      "0         AUS  2010  48111.546431  Australia     539171.826\n",
      "1         AUS  2011  49621.840441  Australia     540445.363\n",
      "2         AUS  2012  49900.648070  Australia     543593.864\n",
      "3         AUS  2013  49648.772056  Australia     533313.692\n",
      "4         AUS  2014  49988.558205  Australia     527325.581\n",
      "    countrycode  year  average wage        country  emissions_GHG\n",
      "240         USA  2012  58669.213014  United States    6528790.267\n",
      "241         USA  2013  58411.632426  United States    6771119.194\n",
      "242         USA  2014  59249.922950  United States    6922945.797\n",
      "243         USA  2015  60691.661713  United States    6638132.739\n",
      "244         USA  2016  60685.807911  United States    6763141.326\n"
     ]
    }
   ],
   "source": [
    "# a. This section, drops the extra contrycode variable\n",
    "drop_these= [\"index_x\",\"index_y\",\"countrycode_y\"]\n",
    "data_all = data_all.drop(drop_these, axis=1, inplace=False)\n",
    "\n",
    "data_all.rename(columns ={\"countrycode_x\":\"countrycode\"},inplace=True)\n",
    "\n",
    "# b. Then we sort the dataset by countrycode and year, afterwards we reset the index\n",
    "data_all = data_all.sort_values(by=[\"countrycode\",\"year\"])\n",
    "data_all = data_all.reset_index(drop=True)\n",
    "print(data_all.head())\n",
    "print(data_all.tail())"
   ]
  },
  {
   "cell_type": "markdown",
   "metadata": {},
   "source": [
    "## Creating new variables\n",
    "Now that we have our dataset ready for analysis, we want create some new variables. The main ting that we want to exaimine, is whether change in CO2 emissions and average wages, follow a similar trend. Therefore we make a new variable, that is the percentage change from year to year, within each country. After this we examine the mean and median of this change."
   ]
  },
  {
   "cell_type": "code",
   "execution_count": 77,
   "metadata": {},
   "outputs": [
    {
     "data": {
      "text/html": [
       "<div>\n",
       "<style scoped>\n",
       "    .dataframe tbody tr th:only-of-type {\n",
       "        vertical-align: middle;\n",
       "    }\n",
       "\n",
       "    .dataframe tbody tr th {\n",
       "        vertical-align: top;\n",
       "    }\n",
       "\n",
       "    .dataframe thead th {\n",
       "        text-align: right;\n",
       "    }\n",
       "</style>\n",
       "<table border=\"1\" class=\"dataframe\">\n",
       "  <thead>\n",
       "    <tr style=\"text-align: right;\">\n",
       "      <th></th>\n",
       "      <th>countrycode</th>\n",
       "      <th>year</th>\n",
       "      <th>average wage</th>\n",
       "      <th>country</th>\n",
       "      <th>emissions_GHG</th>\n",
       "      <th>d_GHG</th>\n",
       "      <th>d_aw</th>\n",
       "    </tr>\n",
       "  </thead>\n",
       "  <tbody>\n",
       "    <tr>\n",
       "      <th>0</th>\n",
       "      <td>AUS</td>\n",
       "      <td>2010</td>\n",
       "      <td>48111.546431</td>\n",
       "      <td>Australia</td>\n",
       "      <td>539171.826</td>\n",
       "      <td>NaN</td>\n",
       "      <td>NaN</td>\n",
       "    </tr>\n",
       "    <tr>\n",
       "      <th>1</th>\n",
       "      <td>AUS</td>\n",
       "      <td>2011</td>\n",
       "      <td>49621.840441</td>\n",
       "      <td>Australia</td>\n",
       "      <td>540445.363</td>\n",
       "      <td>0.236202</td>\n",
       "      <td>3.139151</td>\n",
       "    </tr>\n",
       "    <tr>\n",
       "      <th>2</th>\n",
       "      <td>AUS</td>\n",
       "      <td>2012</td>\n",
       "      <td>49900.648070</td>\n",
       "      <td>Australia</td>\n",
       "      <td>543593.864</td>\n",
       "      <td>0.582575</td>\n",
       "      <td>0.561865</td>\n",
       "    </tr>\n",
       "    <tr>\n",
       "      <th>3</th>\n",
       "      <td>AUS</td>\n",
       "      <td>2013</td>\n",
       "      <td>49648.772056</td>\n",
       "      <td>Australia</td>\n",
       "      <td>533313.692</td>\n",
       "      <td>-1.891149</td>\n",
       "      <td>-0.504755</td>\n",
       "    </tr>\n",
       "    <tr>\n",
       "      <th>4</th>\n",
       "      <td>AUS</td>\n",
       "      <td>2014</td>\n",
       "      <td>49988.558205</td>\n",
       "      <td>Australia</td>\n",
       "      <td>527325.581</td>\n",
       "      <td>-1.122812</td>\n",
       "      <td>0.684380</td>\n",
       "    </tr>\n",
       "  </tbody>\n",
       "</table>\n",
       "</div>"
      ],
      "text/plain": [
       "  countrycode  year  average wage    country  emissions_GHG     d_GHG  \\\n",
       "0         AUS  2010  48111.546431  Australia     539171.826       NaN   \n",
       "1         AUS  2011  49621.840441  Australia     540445.363  0.236202   \n",
       "2         AUS  2012  49900.648070  Australia     543593.864  0.582575   \n",
       "3         AUS  2013  49648.772056  Australia     533313.692 -1.891149   \n",
       "4         AUS  2014  49988.558205  Australia     527325.581 -1.122812   \n",
       "\n",
       "       d_aw  \n",
       "0       NaN  \n",
       "1  3.139151  \n",
       "2  0.561865  \n",
       "3 -0.504755  \n",
       "4  0.684380  "
      ]
     },
     "execution_count": 77,
     "metadata": {},
     "output_type": "execute_result"
    }
   ],
   "source": [
    "# a. We use the apply method, and a discret function to make two new variables for percentage change\n",
    "data_all['d_GHG'] = data_all.groupby('countrycode')['emissions_GHG'].apply(lambda x: x.pct_change())*100\n",
    "data_all['d_aw'] = data_all.groupby('countrycode')['average wage'].apply(lambda x: x.pct_change())*100\n",
    "\n",
    "# b. inspect the new data - it should contain a NaN value for each country in the year 2010\n",
    "data_all.head()"
   ]
  },
  {
   "cell_type": "code",
   "execution_count": 80,
   "metadata": {},
   "outputs": [
    {
     "name": "stdout",
     "output_type": "stream",
     "text": [
      "The mean of change in greenhouse gas emission, in the OECD each year\n",
      "2010         NaN\n",
      "2011    0.804072\n",
      "2012    1.312742\n",
      "2013   -1.077934\n",
      "2014    0.590274\n",
      "2015    1.091532\n",
      "2016   -0.888182\n",
      "Name: d_GHG, dtype: float64\n",
      "The median change in greenhouse gas emissions in the OECD each year\n",
      "2010         NaN\n",
      "2011   -0.002202\n",
      "2012    0.511658\n",
      "2013   -0.866082\n",
      "2014    0.202867\n",
      "2015    1.173351\n",
      "2016   -1.167081\n",
      "Name: d_GHG, dtype: float64\n"
     ]
    }
   ],
   "source": [
    "# a. we create an insect both the mean an median of all of the OECD countries change in greenhouse gas emissions\n",
    "GHG_change = data_all.groupby(\"year\").d_GHG.mean()\n",
    "print(\"The mean of change in greenhouse gas emission, in the OECD each\",GHG_change)\n",
    "print(\"The median change in greenhouse gas emissions in the OECD each\", data_all.groupby(\"year\").d_GHG.median())\n"
   ]
  },
  {
   "cell_type": "code",
   "execution_count": 81,
   "metadata": {},
   "outputs": [
    {
     "name": "stdout",
     "output_type": "stream",
     "text": [
      "The mean of change in average wages, in the OECD each year\n",
      "2010         NaN\n",
      "2011   -0.199425\n",
      "2012    0.017790\n",
      "2013    0.529560\n",
      "2014    0.990512\n",
      "2015    1.710150\n",
      "2016    1.849174\n",
      "Name: d_aw, dtype: float64\n",
      "The median of change in average wages, in the OECD each year\n",
      "2010         NaN\n",
      "2011    0.007957\n",
      "2012    0.215702\n",
      "2013    0.558833\n",
      "2014    0.684380\n",
      "2015    1.502708\n",
      "2016    1.298770\n",
      "Name: d_aw, dtype: float64\n"
     ]
    }
   ],
   "source": [
    "# a. we create an insect both the mean an median of all of the OECD countries change in average wages\n",
    "AW_change = data_all.groupby(\"year\").d_aw.mean()\n",
    "print(\"The mean of change in average wages, in the OECD each\", AW_change)\n",
    "print(\"The median of change in average wages, in the OECD each\",data_all.groupby(\"year\").d_aw.median())"
   ]
  },
  {
   "cell_type": "markdown",
   "metadata": {},
   "source": [
    "## New functions\n",
    "In this section we define two new functions: information and translate. Information makes it easy and convinient to extract information on a specific country, year, variable or a combination, from the dataset. Translate tranlates a country name to a country code and vice verca. "
   ]
  },
  {
   "cell_type": "code",
   "execution_count": 83,
   "metadata": {},
   "outputs": [],
   "source": [
    "def information(a,b = 0,variable = True):\n",
    "    \"\"\"This function takes up to three arguments, the country code, the year (optional) and return the name of the country the average wage and the total emissions of GHG.\n",
    "    The country code is the first column in our data base, three letters which represent the country. If the year is not define it will return for all years. If the variable is define\n",
    "    it will return only this variable\n",
    "    \"\"\"\n",
    "    x = data_all[data_all[\"countrycode\"] == a]\n",
    "#define year and co2\n",
    "    if b != 0 and variable == 'co2':\n",
    "        d= x[data_all[\"year\"] == b]\n",
    "        f = d.loc[:, [\"year\", \"country\", \"emissions_GHG\"]]\n",
    "        return f\n",
    "#define year and wage\n",
    "    elif b != 0 and variable == 'wage':\n",
    "        d= x[data_all[\"year\"] == b]\n",
    "        g = d.loc[:, [\"year\", \"country\", \"average wage\"]]\n",
    "        return g\n",
    " #define only co2\n",
    "    elif b == 0 and variable == 'co2':\n",
    "        d= x[data_all[\"year\"] == b]\n",
    "        return x.loc[:, [\"year\", \"country\", \"emissions_GHG\"]]\n",
    "#define only wage\n",
    "    elif b == 0 and variable == 'wage':\n",
    "        g = x.loc[:, [\"year\", \"country\", \"average wage\"]]\n",
    "        return x.loc[:, [\"year\", \"country\", \"average wage\"]]\n",
    "#define only the year\n",
    "    elif b != 0 : \n",
    "        h = x[data_all[\"year\"] == b]\n",
    "        return h.loc[:, [\"year\", \"country\", \"average wage\", \"emissions_GHG\"]]\n",
    "#nothing define\n",
    "    else :\n",
    "        return x.loc[:, [\"year\", \"country\", \"average wage\", \"emissions_GHG\"]]"
   ]
  },
  {
   "cell_type": "code",
   "execution_count": 84,
   "metadata": {},
   "outputs": [],
   "source": [
    "def translate(code = True, countrycode = True):\n",
    "    \"\"\"This function take one argument. By default it is the code of the country and return the name of the country. There is the possibility to precise if \n",
    "    the input is a code or country. It it's a country it will return the code.\n",
    "    \"\"\"\n",
    "    i = 0\n",
    "    if countrycode == True :\n",
    "        c = str(data_all[data_all[\"countrycode\"]==code][\"country\"].unique())\n",
    "        c = c.replace(\"['\",\"\")\n",
    "        c = c.replace(\"']\",\"\")\n",
    "        return(c)\n",
    "    elif countrycode == False :\n",
    "        c = str(data_all[data_all[\"country\"]==code][\"countrycode\"].unique())\n",
    "        c = c.replace(\"['\",\"\")\n",
    "        c = c.replace(\"']\",\"\")\n",
    "        return(c)\n",
    "    else : \n",
    "        return(\"check you'r spelling\")"
   ]
  },
  {
   "cell_type": "markdown",
   "metadata": {},
   "source": [
    "## Visual analysis\n",
    "In this section, we visually present the results of our analysis. "
   ]
  },
  {
   "cell_type": "code",
   "execution_count": 85,
   "metadata": {},
   "outputs": [
    {
     "data": {
      "image/png": "[encoded data removed]",
      "text/plain": [
       "<Figure size 432x288 with 1 Axes>"
      ]
     },
     "metadata": {
      "needs_background": "light"
     },
     "output_type": "display_data"
    }
   ],
   "source": [
    "# a Plot 1 - Percentage change in CO2 emissions and wages over time \n",
    "plt.plot(GHG_change,color=\"g\")\n",
    "plt.plot(AW_change,color=\"b\")\n",
    "plt.xlabel(\"Year\")\n",
    "plt.ylabel(\"Percentage change\")\n",
    "plt.legend([\"Greenhouse gas emissions\",\"Average wage\"])\n",
    "plt.axhline(y=0,color=\"r\",linestyle=\"dashed\")\n",
    "plt.show()"
   ]
  },
  {
   "cell_type": "markdown",
   "metadata": {},
   "source": [
    "The graph shows the average change in both average wages and CO2 emissions for all OECD countries from year to year in the 2010-2016 period. We have created the plotted variable, GHG_change, in the section \"Creating new variables\" line 80. Though a rising trend in average wages for all OECD countries is distinguishable, greenhouse gas emissions have been subject to strong fluctuations, so that a connection between the two variables is not clear to see. "
   ]
  },
  {
   "cell_type": "code",
   "execution_count": 86,
   "metadata": {},
   "outputs": [
    {
     "data": {
      "image/png": "[encoded data removed]",
      "text/plain": [
       "<Figure size 432x288 with 1 Axes>"
      ]
     },
     "metadata": {
      "needs_background": "light"
     },
     "output_type": "display_data"
    }
   ],
   "source": [
    "# a Plot 2: Average wages by country  \n",
    "plt.clf\n",
    "av_w_c= data_all.groupby(\"countrycode\")[\"average wage\"].mean().sort_values()\n",
    "av_w_c.plot.bar()\n",
    "plt.xlabel(\"countrycode\")\n",
    "plt.ylabel(\"average wage in USD\")\n",
    "plt.show()"
   ]
  },
  {
   "cell_type": "markdown",
   "metadata": {},
   "source": [
    "This bar graph shows the average wages in US dollars for each OECD country over the 2010 - 2016 period. Our translation function in the section \"New functions\" line 84 provides the possibility to easily translate the country code to the country name. While the highest wages are earned in Switzerland, Mexico portrays the lowest average wages in the OECD."
   ]
  },
  {
   "cell_type": "code",
   "execution_count": 87,
   "metadata": {},
   "outputs": [
    {
     "data": {
      "image/png": "[encoded data removed]",
      "text/plain": [
       "<Figure size 432x288 with 1 Axes>"
      ]
     },
     "metadata": {
      "needs_background": "light"
     },
     "output_type": "display_data"
    }
   ],
   "source": [
    "# a: Plot 3: Average CO2 emissions by country\n",
    "plt.clf\n",
    "av_e_c= data_all.groupby(\"country\")[\"emissions_GHG\"].mean()\n",
    "plt.ylabel(\"greenhouse gas emissions (thousands of metric tons)\")\n",
    "plt.xlabel(\"countrycode\")\n",
    "av_e_c.plot.bar()\n",
    "plt.show()"
   ]
  },
  {
   "cell_type": "markdown",
   "metadata": {},
   "source": [
    "This very similar bar graph shows average greenhouse gas emissions (in thousand metric tons) for all OECD countries between 2010 and 2016. While, among others, Japan and Germany have emitted sizable amounts of greenhouse gases, it is clear to see that the United States's emissions by far exceed that of any other OECD country. "
   ]
  },
  {
   "cell_type": "code",
   "execution_count": 116,
   "metadata": {},
   "outputs": [
    {
     "name": "stderr",
     "output_type": "stream",
     "text": [
      "C:\\Users\\augus\\Anaconda3\\lib\\site-packages\\ipykernel_launcher.py:27: UserWarning: Boolean Series key will be reindexed to match DataFrame index.\n"
     ]
    },
    {
     "data": {
      "image/png": "[encoded data removed]",
      "text/plain": [
       "<Figure size 432x288 with 1 Axes>"
      ]
     },
     "metadata": {},
     "output_type": "display_data"
    }
   ],
   "source": [
    "# a Plot 4: Pie chart of greenhouse gas emissions\n",
    "plt.clf\n",
    "united_state_d = information('USA', 2016)\n",
    "country1 = float(united_state_d.loc[:,\"emissions_GHG\"])\n",
    "japan_d = information('JPN', 2016)\n",
    "country2 = float(japan_d.loc[:,\"emissions_GHG\"])\n",
    "germany_d = information(\"DEU\", 2016)\n",
    "country3 = float(germany_d.loc[:,\"emissions_GHG\"])\n",
    "others_d = data_all[(~data_all[\"countrycode\"].isin([\"USA\",\"JAP\",\"DEU\"]))]\n",
    "others_d = others_d[others_d['year'] == 2016][\"emissions_GHG\"]\n",
    "others = float(np.nansum(others_d))\n",
    "\n",
    "chart = [country1, country2, country3, others]\n",
    "labels = 'United States', 'Japan', 'Germany', 'Others'\n",
    "colors = ['yellowgreen', 'gold', 'lightskyblue', 'lightcoral']\n",
    "exp = [0.15 , 0, 0, 0]\n",
    "\n",
    "fig1, chartg = plt.subplots()\n",
    "chartg.pie(chart, explode=exp , labels=labels, colors=colors, autopct='%1.1f%%',  shadow=True, startangle=90)\n",
    "\n",
    "chartg.axis('equal')\n",
    "plt.show()"
   ]
  },
  {
   "cell_type": "markdown",
   "metadata": {},
   "source": [
    "The radically high amount of greenhouse gas emissions of the United States compared to other OECD countries (in 2016) is best depicted in this pie chart. We have used the information fuction descrined in the section \"New functions\" to get the emissions of the relevant countries in the year 2016."
   ]
  },
  {
   "cell_type": "markdown",
   "metadata": {},
   "source": [
    "## Interactive model"
   ]
  },
  {
   "cell_type": "code",
   "execution_count": 105,
   "metadata": {},
   "outputs": [
    {
     "data": {
      "application/vnd.jupyter.widget-view+json": {
       "model_id": "7a461eda49534476bba9601645820ceb",
       "version_major": 2,
       "version_minor": 0
      },
      "text/plain": [
       "interactive(children=(Dropdown(description='Country', options=('Australia', 'Austria', 'Belgium', 'Canada', 'S…"
      ]
     },
     "metadata": {},
     "output_type": "display_data"
    },
    {
     "data": {
      "text/plain": [
       "<function __main__.get_con(Country='Australia')>"
      ]
     },
     "execution_count": 105,
     "metadata": {},
     "output_type": "execute_result"
    }
   ],
   "source": [
    "plt.clf\n",
    "def get_con(Country = \"Australia\"):\n",
    "    print(\"Country: \"+ Country)\n",
    "    print(\"Mean of Greenhouse gas emissions:\" , round(information(translate(Country,countrycode=False))[\"emissions_GHG\"].mean(),2))  \n",
    "    print(\"Mean of average wages:\" , round(information(translate(Country,countrycode=False))[\"average wage\"].mean(),2))\n",
    "\n",
    "    fig, ax = plt.subplots()\n",
    "    fig.canvas.draw()\n",
    "    plt.plot(data_all[data_all[\"country\"]==Country][\"d_GHG\"],color=\"g\")\n",
    "    plt.plot(data_all[data_all[\"country\"]==Country][\"d_aw\"],color=\"b\")\n",
    "    plt.xlabel(\"Year\")\n",
    "    plt.ylabel(\"Percentage change\")\n",
    "    labels= [\"2010\",\"2011\",\"2012\",\"2013\",\"2014\",\"2015\",\"2016\"]\n",
    "    ax.set_xticklabels(labels) \n",
    "    plt.legend([\"Greenhouse gas emissions\",\"Average wage\"])\n",
    "    plt.axhline(y=0,color=\"r\",linestyle=\"dashed\")\n",
    "    plt.show()\n",
    "\n",
    "    return \n",
    "\n",
    "widgets.interact(get_con,Country=data_all[\"country\"].unique())"
   ]
  },
  {
   "cell_type": "code",
   "execution_count": null,
   "metadata": {},
   "outputs": [],
   "source": []
  }
 ],
 "metadata": {
  "kernelspec": {
   "display_name": "Python 3",
   "language": "python",
   "name": "python3"
  },
  "language_info": {
   "codemirror_mode": {
    "name": "ipython",
    "version": 3
   },
   "file_extension": ".py",
   "mimetype": "text/x-python",
   "name": "python",
   "nbconvert_exporter": "python",
   "pygments_lexer": "ipython3",
   "version": "3.7.1"
  }
 },
 "nbformat": 4,
 "nbformat_minor": 2
}
