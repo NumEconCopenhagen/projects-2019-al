{
 "cells": [
  {
   "cell_type": "code",
   "execution_count": null,
   "metadata": {},
   "outputs": [],
   "source": [
    "def translate(code = True, countrycode = True) :\n",
    "    \"\"\"This function take one argument. By default it is the code of the country and return the name of the country. There is the possibility to precise if \n",
    "    the input is a code or country. It it's a country it will return the code.\"\"\"\n",
    "    i = 0\n",
    "    if countrycode == True :\n",
    "        return(data_all[data_all[\"countrycode\"]==code][\"country\"][2010])\n",
    "    elif countrycode == False :\n",
    "        return(data_all[data_all[\"country\"]==code][\"countrycode\"][2010])\n",
    "    else : \n",
    "        return(\"check you'r spelling\")"
   ]
  },
  {
   "cell_type": "code",
   "execution_count": null,
   "metadata": {},
   "outputs": [],
   "source": [
    "def information(a,b = 0,variable = True) :\n",
    "    \"\"\" This function take three arguments, the country code, the year (optional the variable) and return the name of the country the average wage and the total emissions of GHG.\n",
    "    The country code is the first column in our data base, three letters which represent the country. If the year is not define it will return for all years. If the variable is define\n",
    "    it will return only this variable\"\"\"\n",
    "    x = data_all[data_all[\"countrycode\"] == a]\n",
    "#define year and co2\n",
    "    if b != 0 and variable == 'co2':\n",
    "        d= x[data_all[\"year\"] == b]\n",
    "        f = d.loc[:, [\"year\", \"country\", \"emissions_GHG\"]]\n",
    "        return f\n",
    "#define year and wage\n",
    "    elif b != 0 and variable == 'wage':\n",
    "        d= x[data_all[\"year\"] == b]\n",
    "        g = d.loc[:, [\"year\", \"country\", \"average wage\"]]\n",
    "        return g\n",
    " #define only co2\n",
    "    elif b == 0 and variable == 'co2':\n",
    "        d= x[data_all[\"year\"] == b]\n",
    "        return x.loc[:, [\"year\", \"country\", \"emissions_GHG\"]]\n",
    "#define only wage\n",
    "    elif b == 0 and variable == 'wage':\n",
    "        g = x.loc[:, [\"year\", \"country\", \"average wage\"]]\n",
    "        return x.loc[:, [\"year\", \"country\", \"average wage\"]]\n",
    "#define only the year\n",
    "    elif b != 0 : \n",
    "        h = x[data_all[\"year\"] == b]\n",
    "        return h.loc[:, [\"year\", \"country\", \"average wage\", \"emissions_GHG\"]]\n",
    "#nothing define\n",
    "    else :\n",
    "        return x.loc[:, [\"year\", \"country\", \"average wage\", \"emissions_GHG\"]]\n"
   ]
  },
  {
   "cell_type": "code",
   "execution_count": null,
   "metadata": {},
   "outputs": [],
   "source": [
    "def get_con(x=\"Australia\"):\n",
    "    print(\"Country: \"+x)\n",
    "    print(\"Mean of Greenhouse gas emissions:\" , round(information(translate(x,countrycode=False))[\"emissions_GHG\"].mean(),2))  \n",
    "    print(\"Mean of average wages:\" , round(information(translate(x,countrycode=False))[\"average wage\"].mean(),2))\n",
    "\n",
    "    plt.plot(data_all[data_all[\"country\"]==x][\"d_GHG\"],color=\"g\")\n",
    "    plt.plot(data_all[data_all[\"country\"]==x][\"d_aw\"],color=\"b\")\n",
    "    plt.xlabel(\"Year\")\n",
    "    plt.ylabel(\"Percentage change\")\n",
    "    plt.legend([\"Greenhouse gas emissions\",\"Average wage\"])\n",
    "    plt.axhline(y=0,color=\"r\",linestyle=\"dashed\")\n",
    "    plt.show()\n",
    "\n",
    "    return "
   ]
  }
 ],
 "metadata": {
  "kernelspec": {
   "display_name": "Python 3",
   "language": "python",
   "name": "python3"
  },
  "language_info": {
   "codemirror_mode": {
    "name": "ipython",
    "version": 3
   },
   "file_extension": ".py",
   "mimetype": "text/x-python",
   "name": "python",
   "nbconvert_exporter": "python",
   "pygments_lexer": "ipython3",
   "version": "3.7.1"
  }
 },
 "nbformat": 4,
 "nbformat_minor": 2
}
