{
 "cells": [
  {
   "cell_type": "code",
   "execution_count": 2,
   "metadata": {
    "scrolled": true
   },
   "outputs": [],
   "source": [
    "%load_ext autoreload\n",
    "%autoreload 2\n",
    "# You can load your python module as this:\n",
    "import dataproject.example"
   ]
  },
  {
   "cell_type": "code",
   "execution_count": 4,
   "metadata": {},
   "outputs": [
    {
     "data": {
      "text/plain": [
       "'C:\\\\Users\\\\Manon\\\\Desktop\\\\projects-2019-al-3\\\\dataproject'"
      ]
     },
     "execution_count": 4,
     "metadata": {},
     "output_type": "execute_result"
    }
   ],
   "source": [
    "import os\n",
    "os.getcwd()"
   ]
  },
  {
   "cell_type": "code",
   "execution_count": 2,
   "metadata": {},
   "outputs": [
    {
     "data": {
      "text/plain": [
       "'hello world'"
      ]
     },
     "execution_count": 2,
     "metadata": {},
     "output_type": "execute_result"
    }
   ],
   "source": [
    "dataproject.example.hello_world() \n",
    "#1 Summary\n",
    "# In our data analysis project we work with two data sets on average wages and avereage CO2 emissions in the OECD countries,\n",
    "# which we retrieved from the OECD data base. After we clean the data and make relevant adjustments, we merge the data sets.\n",
    "# In addiotion to that, we have created some function to facillitate targeted data retrieval.\n",
    "# We then plot the average wages and CO2 emissions by country, as well as their percentage change over time."
   ]
  },
  {
   "cell_type": "raw",
   "metadata": {},
   "source": [
    "#2 Import of packeges\n",
    "#First we import all the packages we will need for the projects.\n",
    "\n",
    "import pip \n",
    "import pandas as pd\n",
    "import pandas_datareader as pdr\n",
    "import numpy as np\n",
    "import matplotlib.pyplot as plt"
   ]
  },
  {
   "cell_type": "code",
   "execution_count": null,
   "metadata": {},
   "outputs": [],
   "source": [
    "#3 Import data\n",
    "#Here we import the relevant data sets. We import the data on average wages as a csv file. \n",
    "#The data on average CO2 emissions is imported via an API from the OECD database.\n",
    "\n",
    "df = pdr.DataReader(\"AIR_GHG\",\"oecd\")\n",
    "\n",
    "data_wages= pd.read_csv(\"oecdwages.csv\")"
   ]
  },
  {
   "cell_type": "code",
   "execution_count": null,
   "metadata": {},
   "outputs": [],
   "source": [
    "#4 Cleaning and restructuring of data\n",
    "\n",
    "#The data is in \"multi-index form\", these codes turns it into a more common non-hieracical structure\n",
    "df.reset_index()\n",
    "dir(df.index)\n",
    "df.columns = [' '.join(col).strip() for col in df.columns.values]\n",
    "\n",
    "# Excel list of countries, as they are not \"availeble to grab\"\n",
    "countries = [\"Australia\",\"Austria\",\"Belgium\",\"Canada\",\"Chile\",\"Czech Republic\",\"Denmark\",\"Estonia\",\"Finland\",\"France\",\"Germany\",\"Greece\",\"Hungary\",\"Iceland\",\t\n",
    "    \"Ireland\",\"Israel\",\"Italy\",\"Japan\",\"Korea\",\"Latvia\",\"Lithuania\",\"Luxembourg\",\"Mexico\",\"Netherlands\",\"New Zealand\",\"Norway\",\"Poland\",\"Portugal\",\"Slovak Republic\",\n",
    "    \"Slovenia\",\"Spain\",\"Sweden\",\"Switzerland\",\"United Kingdom\",\"United States\"]\t\n",
    "countrycode = [\"AUS\", \"AUT\", \"BEL\", \"CAN\", \"CHL\", \"CZE\", \"DNK\", \"EST\", \"FIN\", \"FRA\", \"DEU\",\"GRC\", \"HUN\", \"ISL\", \"IRL\", \"ISR\", \"ITA\", \"JPN\", \n",
    "    \"KOR\", \"LVA\", \"LTU\", \"LUX\", \"MEX\", \"NLD\", \"NZL\", \"NOR\", \"POL\", \"PRT\", \"SVK\", \"SVN\", \"SWE\", \"ESP\", \"CHE\", \"GBR\", \"USA\"]\n",
    "ccc = dict(zip(countries,countrycode))\n",
    "\n",
    "# Initiate an empty list for the dataset and set the counter to 0. \n",
    "# In the for-loop we make a row for each country for each year, and insert a country, a year and the corrosponding of emissions of GHG (Green House Gases)\n",
    "x = []\n",
    "i = 0\n",
    "for c in countries:\n",
    "    for y in df.index.values : \n",
    "        x.append({\"country\" : c, \"countrycode\" : ccc[c],\"emissions_GHG\" : df[c+\" \"+\"Greenhouse gases Total  emissions excluding LULUCF\"][i]})\n",
    "        i = i + 1 \n",
    "        if i > 6 :\n",
    "            i = 0\n",
    "\n",
    "df_env = pd.DataFrame(x)\n",
    "print(df_env)\n",
    "\n",
    "# In the data set on average wages, we drop columns that we do not need, as well as renaming some of them\n",
    "drop_these= [\"INDICATOR\",\"FREQUENCY\",\"MEASURE\",\"SUBJECT\", \"Flag Codes\"]\n",
    "copy = data_wages.drop(drop_these, axis=1, inplace=False)\n",
    "copy.rename(columns = {'LOCATION':'countrycode', 'Value' : 'average wage', 'TIME' : 'year'}, inplace=True)\n",
    "c = copy[\"countrycode\"].unique()\n",
    "\n",
    "# We merge the data sets on average wages and average CO2 emissions into one data set.\n",
    "# Reset the index of the two variables, and sort by the common variable (countrycode). Then merge by index position.\n",
    "left = copy.sort_values(\"countrycode\")\n",
    "left = left.reset_index()\n",
    "rigth = df_env.sort_values(\"countrycode\")\n",
    "rigth = rigth.reset_index()\n",
    "data_all = left.merge(rigth,left_index=True,right_index=True)\n",
    "\n",
    "#This for loop test if all the values of the countrycodes are the same in the same row\n",
    "for i in data_all.index.values : \n",
    "    if data_all[\"countrycode_x\"][i]==data_all[\"countrycode_y\"][i] :\n",
    "        if i == data_all.index.values[-1] : \n",
    "            print(\"Done\")\n",
    "    else :  \n",
    "        print(\"mistake in \"+data_all[\"country\"][i])\n",
    "\n",
    "#Drop a few columns that are not needed\n",
    "drops = [\"index_x\",\"index_y\",\"countrycode_y\"]\n",
    "data_all.drop(drops,axis=1,inplace=True)\n",
    "data_all.rename(columns ={\"countrycode_x\":\"countrycode\"},inplace=True)\n",
    "data_all.set_index(\"year\",inplace=True)\n",
    "\n",
    "# Make sure that the dataset is sorted and that the index is year\n",
    "data_all = data_all.sort_values(by=[\"countrycode\",\"year\"])\n",
    "data_all = data_all.reset_index(drop=True)\n",
    "data_all.set_index(\"year\",inplace=True)\n"
   ]
  },
  {
   "cell_type": "code",
   "execution_count": null,
   "metadata": {},
   "outputs": [],
   "source": [
    "#5 Functions\n",
    "\n",
    "#The translate function\n",
    "def translate(code = True, country = True) :\n",
    "    \"\"\"This function takes one argument. By default it is the code of the country and return the name of the country. There is the possibility to precise if \n",
    "    the input is a code or country. If it's a country it will return the code.\"\"\"\n",
    "    i = 0\n",
    "    if country == True :\n",
    "        for c in countrycode :\n",
    "            if code != countrycode[i] and i < 34 :\n",
    "                i = i + 1\n",
    "            elif code == countrycode[i] :\n",
    "                return countries[i]\n",
    "            else :\n",
    "                return \"miss spelling of the code\"\n",
    "    else :\n",
    "        for c in countries :\n",
    "            if country != countries[i] and i < 34 :\n",
    "                i = i + 1\n",
    "            elif country == countries[i] :\n",
    "                return countrycode[i]\n",
    "            else :\n",
    "                return \"miss spelling of the country\"\n",
    "\n",
    "translate('USA')\n",
    "\n",
    "#The information function\n",
    "def information(a,b = 0,variable = True) :\n",
    "    \"\"\" This function takes three arguments, the country code, the year (optional the variable) and returns the name of the country the average wage and the total emissions of GHG.\n",
    "    The country code is the first column in our data base, three letters which represent the country. If the year is not defined it will return for all years. If the variable is defined\n",
    "    it will return only this variable\"\"\"\n",
    "    x = data_all[data_all[\"countrycode\"] == a]\n",
    "#define year and co2\n",
    "    if b != 0 and variable == 'co2':\n",
    "        d= x[data_all[\"year\"] == b]\n",
    "        f = d.loc[:, [\"year\", \"country\", \"emissions_GHG\"]]\n",
    "        return f\n",
    "#define year and wage\n",
    "    elif b != 0 and variable == 'wage':\n",
    "        d= x[data_all[\"year\"] == b]\n",
    "        g = d.loc[:, [\"year\", \"country\", \"average wage\"]]\n",
    "        return g\n",
    " #define only co2\n",
    "    elif b == 0 and variable == 'co2':\n",
    "        d= x[data_all[\"year\"] == b]\n",
    "        return x.loc[:, [\"year\", \"country\", \"emissions_GHG\"]]\n",
    "#define only wage\n",
    "    elif b == 0 and variable == 'wage':\n",
    "        g = x.loc[:, [\"year\", \"country\", \"average wage\"]]\n",
    "        return x.loc[:, [\"year\", \"country\", \"average wage\"]]\n",
    "#define only the year\n",
    "    elif b != 0 : \n",
    "        h = x[data_all[\"year\"] == b]\n",
    "        return h.loc[:, [\"year\", \"country\", \"average wage\", \"emissions_GHG\"]]\n",
    "#nothing define\n",
    "    else :\n",
    "        return x.loc[:, [\"year\", \"country\", \"average wage\", \"emissions_GHG\"]]"
   ]
  },
  {
   "cell_type": "code",
   "execution_count": 1,
   "metadata": {},
   "outputs": [
    {
     "ename": "NameError",
     "evalue": "name 'data_all' is not defined",
     "output_type": "error",
     "traceback": [
      "\u001b[1;31m---------------------------------------------------------------------------\u001b[0m",
      "\u001b[1;31mNameError\u001b[0m                                 Traceback (most recent call last)",
      "\u001b[1;32m<ipython-input-1-58f5efb4fcae>\u001b[0m in \u001b[0;36m<module>\u001b[1;34m\u001b[0m\n\u001b[0;32m      2\u001b[0m \u001b[1;31m#plot 1 - percentage change in co2 emissions and wages over time\u001b[0m\u001b[1;33m\u001b[0m\u001b[1;33m\u001b[0m\u001b[1;33m\u001b[0m\u001b[0m\n\u001b[0;32m      3\u001b[0m \u001b[1;33m\u001b[0m\u001b[0m\n\u001b[1;32m----> 4\u001b[1;33m \u001b[0mdata_all\u001b[0m\u001b[1;33m[\u001b[0m\u001b[1;34m'd_GHG'\u001b[0m\u001b[1;33m]\u001b[0m \u001b[1;33m=\u001b[0m \u001b[0mdata_all\u001b[0m\u001b[1;33m.\u001b[0m\u001b[0mgroupby\u001b[0m\u001b[1;33m(\u001b[0m\u001b[1;34m'countrycode'\u001b[0m\u001b[1;33m)\u001b[0m\u001b[1;33m[\u001b[0m\u001b[1;34m'total emissions of GHG'\u001b[0m\u001b[1;33m]\u001b[0m\u001b[1;33m.\u001b[0m\u001b[0mapply\u001b[0m\u001b[1;33m(\u001b[0m\u001b[1;32mlambda\u001b[0m \u001b[0mx\u001b[0m\u001b[1;33m:\u001b[0m \u001b[0mx\u001b[0m\u001b[1;33m.\u001b[0m\u001b[0mpct_change\u001b[0m\u001b[1;33m(\u001b[0m\u001b[1;33m)\u001b[0m\u001b[1;33m)\u001b[0m\u001b[1;33m*\u001b[0m\u001b[1;36m100\u001b[0m\u001b[1;33m\u001b[0m\u001b[1;33m\u001b[0m\u001b[0m\n\u001b[0m\u001b[0;32m      5\u001b[0m \u001b[0mdata_all\u001b[0m\u001b[1;33m[\u001b[0m\u001b[1;34m'd_aw'\u001b[0m\u001b[1;33m]\u001b[0m \u001b[1;33m=\u001b[0m \u001b[0mdata_all\u001b[0m\u001b[1;33m.\u001b[0m\u001b[0mgroupby\u001b[0m\u001b[1;33m(\u001b[0m\u001b[1;34m'countrycode'\u001b[0m\u001b[1;33m)\u001b[0m\u001b[1;33m[\u001b[0m\u001b[1;34m'average wage'\u001b[0m\u001b[1;33m]\u001b[0m\u001b[1;33m.\u001b[0m\u001b[0mapply\u001b[0m\u001b[1;33m(\u001b[0m\u001b[1;32mlambda\u001b[0m \u001b[0mx\u001b[0m\u001b[1;33m:\u001b[0m \u001b[0mx\u001b[0m\u001b[1;33m.\u001b[0m\u001b[0mpct_change\u001b[0m\u001b[1;33m(\u001b[0m\u001b[1;33m)\u001b[0m\u001b[1;33m)\u001b[0m\u001b[1;33m*\u001b[0m\u001b[1;36m100\u001b[0m\u001b[1;33m\u001b[0m\u001b[1;33m\u001b[0m\u001b[0m\n\u001b[0;32m      6\u001b[0m \u001b[0mGHG_change\u001b[0m \u001b[1;33m=\u001b[0m \u001b[0mdata_all\u001b[0m\u001b[1;33m.\u001b[0m\u001b[0mgroupby\u001b[0m\u001b[1;33m(\u001b[0m\u001b[1;34m\"year\"\u001b[0m\u001b[1;33m)\u001b[0m\u001b[1;33m.\u001b[0m\u001b[0md_GHG\u001b[0m\u001b[1;33m.\u001b[0m\u001b[0mmean\u001b[0m\u001b[1;33m(\u001b[0m\u001b[1;33m)\u001b[0m\u001b[1;33m\u001b[0m\u001b[1;33m\u001b[0m\u001b[0m\n",
      "\u001b[1;31mNameError\u001b[0m: name 'data_all' is not defined"
     ]
    }
   ],
   "source": [
    "#6 Descriptive statistics  \n",
    "#plot 1 - percentage change in co2 emissions and wages over time \n",
    "\n",
    "data_all['d_GHG'] = data_all.groupby('countrycode')['total emissions of GHG'].apply(lambda x: x.pct_change())*100\n",
    "data_all['d_aw'] = data_all.groupby('countrycode')['average wage'].apply(lambda x: x.pct_change())*100\n",
    "GHG_change = data_all.groupby(\"year\").d_GHG.mean()\n",
    "AW_change = data_all.groupby(\"year\").d_aw.mean()\n",
    "\n",
    "plt.plot(GHG_change,color=\"g\")\n",
    "plt.plot(AW_change,color=\"b\")\n",
    "plt.xlabel(\"Year\")\n",
    "plt.ylabel(\"Percentage change\")\n",
    "plt.legend([\"Greenhouse gas emissions\",\"Average wage\"])\n",
    "plt.axhline(y=0,color=\"r\",linestyle=\"dashed\")\n",
    "plt.show()\n",
    "\n",
    "\n",
    "#plot2 - average wages by country\n",
    "av_w_c= data_all.groupby(\"countrycode\")[\"average wage\"].mean().sort_values()\n",
    "av_w_c.plot.bar()\n",
    "plt.xlabel(\"countrycode\")\n",
    "plt.ylabel(\"average wage in USD\")\n",
    "plt.show()\n",
    "\n",
    "\n",
    "#plot 3- average emissions by country\n",
    "av_e_c= data_all.groupby(\"country\")[\"emissions_GHG\"].mean()\n",
    "plt.ylabel(\"greenhouse gas emissions (thousands of metric tons)\")\n",
    "plt.xlabel(\"countrycode\")\n",
    "av_e_c.plot.bar()\n",
    "plt.show()\n"
   ]
  },
  {
   "cell_type": "code",
   "execution_count": null,
   "metadata": {},
   "outputs": [],
   "source": []
  },
  {
   "cell_type": "code",
   "execution_count": null,
   "metadata": {},
   "outputs": [],
   "source": [
    "#final interactive model - where you chose country and get all the info - optional"
   ]
  },
  {
   "cell_type": "code",
   "execution_count": null,
   "metadata": {},
   "outputs": [],
   "source": []
  },
  {
   "cell_type": "code",
   "execution_count": 4,
   "metadata": {},
   "outputs": [
    {
     "data": {
      "text/plain": [
       "'C:\\\\Users\\\\augus\\\\Documents\\\\Uni\\\\Kandidat i Statskundskab\\\\1. semester kadidat\\\\Numerical analysis and programming\\\\python\\\\projects-2019-al\\\\dataproject'"
      ]
     },
     "execution_count": 4,
     "metadata": {},
     "output_type": "execute_result"
    }
   ],
   "source": [
    "pwd"
   ]
  },
  {
   "cell_type": "code",
   "execution_count": null,
   "metadata": {},
   "outputs": [],
   "source": []
  },
  {
   "cell_type": "code",
   "execution_count": 15,
   "metadata": {},
   "outputs": [
    {
     "name": "stdout",
     "output_type": "stream",
     "text": [
      "            country countrycode  emissions_GHG\n",
      "0         Australia         AUS     539171.826\n",
      "1         Australia         AUS     540445.363\n",
      "2         Australia         AUS     543593.864\n",
      "3         Australia         AUS     533313.692\n",
      "4         Australia         AUS     527325.581\n",
      "5         Australia         AUS     537550.854\n",
      "6         Australia         AUS     549157.716\n",
      "7           Austria         AUT      84930.835\n",
      "8           Austria         AUT      82449.673\n",
      "9           Austria         AUT      79916.894\n",
      "10          Austria         AUT      80177.997\n",
      "11          Austria         AUT      76441.572\n",
      "12          Austria         AUT      78855.710\n",
      "13          Austria         AUT      79672.644\n",
      "14          Belgium         BEL     132712.351\n",
      "15          Belgium         BEL     122057.796\n",
      "16          Belgium         BEL     119279.988\n",
      "17          Belgium         BEL     119691.092\n",
      "18          Belgium         BEL     114010.300\n",
      "19          Belgium         BEL     117584.429\n",
      "20          Belgium         BEL     117727.113\n",
      "21           Canada         CAN     693966.825\n",
      "22           Canada         CAN     699522.062\n",
      "23           Canada         CAN     706703.368\n",
      "24           Canada         CAN     715894.243\n",
      "25           Canada         CAN     716165.757\n",
      "26           Canada         CAN     713816.819\n",
      "27           Canada         CAN     704161.802\n",
      "28            Chile         CHL      92114.157\n",
      "29            Chile         CHL     102076.735\n",
      "..              ...         ...            ...\n",
      "215           Spain         SWE     335809.458\n",
      "216           Spain         SWE     324706.553\n",
      "217          Sweden         ESP      64411.698\n",
      "218          Sweden         ESP      60324.762\n",
      "219          Sweden         ESP      56980.185\n",
      "220          Sweden         ESP      55414.403\n",
      "221          Sweden         ESP      53866.376\n",
      "222          Sweden         ESP      53754.837\n",
      "223          Sweden         ESP      52892.716\n",
      "224     Switzerland         CHE      54137.265\n",
      "225     Switzerland         CHE      50086.470\n",
      "226     Switzerland         CHE      51436.657\n",
      "227     Switzerland         CHE      52281.568\n",
      "228     Switzerland         CHE      48358.922\n",
      "229     Switzerland         CHE      47813.296\n",
      "230     Switzerland         CHE      48198.862\n",
      "231  United Kingdom         GBR     615516.967\n",
      "232  United Kingdom         GBR     568004.422\n",
      "233  United Kingdom         GBR     584481.225\n",
      "234  United Kingdom         GBR     569920.443\n",
      "235  United Kingdom         GBR     529160.037\n",
      "236  United Kingdom         GBR     511273.606\n",
      "237  United Kingdom         GBR     486269.260\n",
      "238   United States         USA    6922945.797\n",
      "239   United States         USA    6771119.194\n",
      "240   United States         USA    6528790.267\n",
      "241   United States         USA    6709106.687\n",
      "242   United States         USA    6763141.326\n",
      "243   United States         USA    6638132.739\n",
      "244   United States         USA    6511302.422\n",
      "\n",
      "[245 rows x 3 columns]\n",
      "Done\n"
     ]
    },
    {
     "data": {
      "image/png": "[encoded data removed]",
      "text/plain": [
       "<Figure size 432x288 with 1 Axes>"
      ]
     },
     "metadata": {
      "needs_background": "light"
     },
     "output_type": "display_data"
    },
    {
     "data": {
      "application/vnd.jupyter.widget-view+json": {
       "model_id": "b918bb808d2e4233b441b62d997dbbac",
       "version_major": 2,
       "version_minor": 0
      },
      "text/plain": [
       "interactive(children=(Dropdown(description='x', options=('Australia', 'Austria', 'Belgium', 'Canada', 'Switzer…"
      ]
     },
     "metadata": {},
     "output_type": "display_data"
    },
    {
     "data": {
      "text/plain": [
       "<function __main__.get_con(x='Australia')>"
      ]
     },
     "execution_count": 15,
     "metadata": {},
     "output_type": "execute_result"
    }
   ],
   "source": [
    "#This is the main file, here we do most things\n",
    "#Always use git change before writing anything!\n",
    "\n",
    "#to upload changes: \n",
    "#1) git commit \n",
    "#2) git sync\n",
    "\n",
    "#importing packeges\n",
    "import pip \n",
    "import pandas as pd\n",
    "import pandas_datareader as pdr\n",
    "import numpy as np\n",
    "import matplotlib.pyplot as plt\n",
    "import ipywidgets as widgets\n",
    "\n",
    "#importing our other sheets\n",
    "#Here we will clean all the data\n",
    "\n",
    "\n",
    "#Here we import the CO2 database from OECD\n",
    "df = pdr.DataReader(\"AIR_GHG\",\"oecd\")\n",
    "\n",
    "#the data is in \"multi-index form\", these codes turns it into a more common non-hieracical structure\n",
    "df.reset_index()\n",
    "dir(df.index)\n",
    "df.columns = [' '.join(col).strip() for col in df.columns.values]\n",
    "\n",
    "#The countries are not \"availeble to grap\" so i have manually made a list using excel\n",
    "countries = [\"Australia\",\"Austria\",\"Belgium\",\"Canada\",\"Chile\",\"Czech Republic\",\"Denmark\",\"Estonia\",\"Finland\",\"France\",\"Germany\",\"Greece\",\"Hungary\",\"Iceland\",\t\n",
    "    \"Ireland\",\"Israel\",\"Italy\",\"Japan\",\"Korea\",\"Latvia\",\"Lithuania\",\"Luxembourg\",\"Mexico\",\"Netherlands\",\"New Zealand\",\"Norway\",\"Poland\",\"Portugal\",\"Slovak Republic\",\n",
    "    \"Slovenia\",\"Spain\",\"Sweden\",\"Switzerland\",\"United Kingdom\",\"United States\"]\t\n",
    "countrycode = [\"AUS\", \"AUT\", \"BEL\", \"CAN\", \"CHL\", \"CZE\", \"DNK\", \"EST\", \"FIN\", \"FRA\", \"DEU\",\"GRC\", \"HUN\", \"ISL\", \"IRL\", \"ISR\", \"ITA\", \"JPN\", \n",
    "    \"KOR\", \"LVA\", \"LTU\", \"LUX\", \"MEX\", \"NLD\", \"NZL\", \"NOR\", \"POL\", \"PRT\", \"SVK\", \"SVN\", \"SWE\", \"ESP\", \"CHE\", \"GBR\", \"USA\"]\n",
    "ccc = dict(zip(countries,countrycode))\n",
    "# I initiate an empty list for the dataset and set the counter to 0\n",
    "x = []\n",
    "i = 0\n",
    "for c in countries:\n",
    "    for y in df.index.values : \n",
    "        x.append({\"country\" : c, \"countrycode\" : ccc[c],\"emissions_GHG\" : df[c+\" \"+\"Greenhouse gases Total  emissions excluding LULUCF\"][i]})\n",
    "        i = i + 1 \n",
    "        if i > 6 :\n",
    "            i = 0\n",
    "\n",
    "#In the for-loop i make a row for each country for each year, and insert a country, a year and the corrosponding of emissions of GHG (Green House Gases)\n",
    "df_env = pd.DataFrame(x)\n",
    "print(df_env)\n",
    "\n",
    "#Here we import average income per capita data\n",
    "data_wages= pd.read_csv(\"oecdwages.csv\")\n",
    "#drop column that we do not need\n",
    "drop_these= [\"INDICATOR\",\"FREQUENCY\",\"MEASURE\",\"SUBJECT\", \"Flag Codes\"]\n",
    "copy = data_wages.drop(drop_these, axis=1, inplace=False)\n",
    "copy.rename(columns = {'LOCATION':'countrycode', 'Value' : 'average wage', 'TIME' : 'year'}, inplace=True)\n",
    "c = copy[\"countrycode\"].unique()\n",
    "\n",
    "\n",
    "#here i reset the index of the two variables, and sort by the common variable (countrycode). Then i merge by index position \n",
    "left = copy.sort_values(\"countrycode\")\n",
    "left = left.reset_index()\n",
    "rigth = df_env.sort_values(\"countrycode\")\n",
    "rigth = rigth.reset_index()\n",
    "data_all = left.merge(rigth,left_index=True,right_index=True)\n",
    "\n",
    "#this for loop test if all the values of the countrycodes are the same in the same row\n",
    "for i in data_all.index.values : \n",
    "    if data_all[\"countrycode_x\"][i]==data_all[\"countrycode_y\"][i] :\n",
    "        if i == data_all.index.values[-1] : \n",
    "            print(\"Done\")\n",
    "    else :  \n",
    "        print(\"mistake in \"+data_all[\"country\"][i])\n",
    "\n",
    "#I then drop a few columns that are not needed\n",
    "drops = [\"index_x\",\"index_y\",\"countrycode_y\"]\n",
    "data_all.drop(drops,axis=1,inplace=True)\n",
    "data_all.rename(columns ={\"countrycode_x\":\"countrycode\"},inplace=True)\n",
    "#data_all.set_index(\"year\",inplace=True)\n",
    "\n",
    "#I make sure that the dataset is sortet and that the index is year\n",
    "data_all = data_all.sort_values(by=[\"countrycode\",\"year\"])\n",
    "data_all = data_all.reset_index(drop=True)\n",
    "data_all.set_index(\"year\",inplace=True)\n",
    "\n",
    "\n",
    "#i make to lagged variables and take the log of them (this is almost like use percentage change in GHG and average wage)\n",
    "data_all['d_GHG'] = data_all.groupby('countrycode')['emissions_GHG'].apply(lambda x: x.pct_change())*100\n",
    "data_all['d_aw'] = data_all.groupby('countrycode')['average wage'].apply(lambda x: x.pct_change())*100\n",
    "\n",
    "GHG_change = data_all.groupby(\"year\").d_GHG.mean()\n",
    "\n",
    "AW_change = data_all.groupby(\"year\").d_aw.mean()\n",
    "\n",
    "\n",
    "\n",
    "def information(a,b = 0,variable = True) :\n",
    "    \"\"\" This function take three arguments, the country code, the year (optional the variable) and return the name of the country the average wage and the total emissions of GHG.\n",
    "    The country code is the first column in our data base, three letters which represent the country. If the year is not define it will return for all years. If the variable is define\n",
    "    it will return only this variable\"\"\"\n",
    "    x = data_all[data_all[\"countrycode\"] == a]\n",
    "#define year and co2\n",
    "    if b != 0 and variable == 'co2':\n",
    "        d= x[data_all[\"year\"] == b]\n",
    "        f = d.loc[:, [\"year\", \"country\", \"emissions_GHG\"]]\n",
    "        return f\n",
    "#define year and wage\n",
    "    elif b != 0 and variable == 'wage':\n",
    "        d= x[data_all[\"year\"] == b]\n",
    "        g = d.loc[:, [\"year\", \"country\", \"average wage\"]]\n",
    "        return g\n",
    " #define only co2\n",
    "    elif b == 0 and variable == 'co2':\n",
    "        d= x[data_all[\"year\"] == b]\n",
    "        return x.loc[:, [\"year\", \"country\", \"emissions_GHG\"]]\n",
    "#define only wage\n",
    "    elif b == 0 and variable == 'wage':\n",
    "        g = x.loc[:, [\"year\", \"country\", \"average wage\"]]\n",
    "        return x.loc[:, [\"year\", \"country\", \"average wage\"]]\n",
    "#define only the year\n",
    "    elif b != 0 : \n",
    "        h = x[data_all[\"year\"] == b]\n",
    "        return h.loc[:, [\"year\", \"country\", \"average wage\", \"emissions_GHG\"]]\n",
    "#nothing define\n",
    "    else :\n",
    "        return x.loc[:, [\"year\", \"country\", \"average wage\", \"emissions_GHG\"]]\n",
    "\n",
    "\n",
    "def translate(code = True, country = True) :\n",
    "    \"\"\"This function take one argument. By default it is the code of the country and return the name of the country. There is the possibility to precise if \n",
    "    the input is a code or country. It it's a country it will return the code.\"\"\"\n",
    "    i = 0\n",
    "    if country == True :\n",
    "        for c in countrycode :\n",
    "            if code != countrycode[i] and i < 34 :\n",
    "                i = i + 1\n",
    "            elif code == countrycode[i] :\n",
    "                return countries[i]\n",
    "            else :\n",
    "                return \"miss spelling of the code\"\n",
    "    else :\n",
    "        for c in countries :\n",
    "            if country != countries[i] and i < 34 :\n",
    "                i = i + 1\n",
    "            elif country == countries[i] :\n",
    "                return countrycode[i]\n",
    "            else :\n",
    "                return \"miss spelling of the country\"\n",
    "\n",
    "translate('USA')\n",
    "#fooling around with some plots\n",
    "\n",
    "plt.plot(GHG_change,color=\"g\")\n",
    "plt.plot(AW_change,color=\"b\")\n",
    "plt.xlabel(\"Year\")\n",
    "plt.ylabel(\"Percentage change\")\n",
    "plt.legend([\"Greenhouse gas emissions\",\"Average wage\"])\n",
    "plt.axhline(y=0,color=\"r\",linestyle=\"dashed\")\n",
    "plt.show()\n",
    "\n",
    "\n",
    "\n",
    "#I would like to use the information function, but this requeres that the translate function works for country -> countrycode which it does not now\n",
    "def get_con(x=\"Australia\"):\n",
    "    print(\"Country: \"+x)\n",
    "    print(\"Mean of Greenhouse gas emissions:\" , round(data_all[data_all[\"country\"]==x][\"emissions_GHG\"].mean(),2))\n",
    "    print(\"Mean of average wages:\" , round(data_all[data_all[\"country\"]==x][\"average wage\"].mean(),2))\n",
    "\n",
    "    plt.plot(data_all[data_all[\"country\"]==x][\"d_GHG\"],color=\"g\")\n",
    "    plt.plot(data_all[data_all[\"country\"]==x][\"d_aw\"],color=\"b\")\n",
    "    plt.xlabel(\"Year\")\n",
    "    plt.ylabel(\"Percentage change\")\n",
    "    plt.legend([\"Greenhouse gas emissions\",\"Average wage\"])\n",
    "    plt.axhline(y=0,color=\"r\",linestyle=\"dashed\")\n",
    "    plt.show()\n",
    "\n",
    "    return \n",
    "\n",
    "widgets.interact(get_con,x=data_all[\"country\"].unique())\n",
    "\n",
    "\n",
    "\n",
    "\n"
   ]
  },
  {
   "cell_type": "code",
   "execution_count": 16,
   "metadata": {},
   "outputs": [
    {
     "data": {
      "application/vnd.jupyter.widget-view+json": {
       "model_id": "1c1acb6f31334ce296b936fa458eecec",
       "version_major": 2,
       "version_minor": 0
      },
      "text/plain": [
       "interactive(children=(Dropdown(description='x', options=('Australia', 'Austria', 'Belgium', 'Canada', 'Switzer…"
      ]
     },
     "metadata": {},
     "output_type": "display_data"
    },
    {
     "data": {
      "text/plain": [
       "<function __main__.get_con(x='Australia')>"
      ]
     },
     "execution_count": 16,
     "metadata": {},
     "output_type": "execute_result"
    }
   ],
   "source": [
    "def get_con(x=\"Australia\"):\n",
    "    print(\"Country: \"+x)\n",
    "    print(\"Mean of Greenhouse gas emissions:\" , round(data_all[data_all[\"country\"]==x][\"emissions_GHG\"].mean(),2))\n",
    "    print(\"Mean of average wages:\" , round(data_all[data_all[\"country\"]==x][\"average wage\"].mean(),2))\n",
    "\n",
    "    plt.plot(data_all[data_all[\"country\"]==x][\"d_GHG\"],color=\"g\")\n",
    "    plt.plot(data_all[data_all[\"country\"]==x][\"d_aw\"],color=\"b\")\n",
    "    plt.xlabel(\"Year\")\n",
    "    plt.ylabel(\"Percentage change\")\n",
    "    plt.legend([\"Greenhouse gas emissions\",\"Average wage\"])\n",
    "    plt.axhline(y=0,color=\"r\",linestyle=\"dashed\")\n",
    "    plt.show()\n",
    "\n",
    "    return \n",
    "\n",
    "widgets.interact(get_con,x=data_all[\"country\"].unique())\n",
    "\n",
    "\n",
    "\n"
   ]
  },
  {
   "cell_type": "markdown",
   "metadata": {},
   "source": []
  }
 ],
 "metadata": {
  "kernelspec": {
   "display_name": "Python 3",
   "language": "python",
   "name": "python3"
  },
  "language_info": {
   "codemirror_mode": {
    "name": "ipython",
    "version": 3
   },
   "file_extension": ".py",
   "mimetype": "text/x-python",
   "name": "python",
   "nbconvert_exporter": "python",
   "pygments_lexer": "ipython3",
   "version": "3.7.1"
  }
 },
 "nbformat": 4,
 "nbformat_minor": 2
}
