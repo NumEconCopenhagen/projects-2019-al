{
 "cells": [
  {
   "cell_type": "code",
   "execution_count": null,
   "metadata": {},
   "outputs": [],
   "source": [
    "\n",
    "def reaction(a, b, cost, q_other):\n",
    "    quantity = (a-b*q_other - cost)/2*b\n",
    "    \n",
    "    fig = plt.figure()\n",
    "    ax = plt.subplot()\n",
    "    ax.plot(quantity,q_other,label = \"Firm 1's reaction curve\")\n",
    "    ax.plot(q_other,quantity,label = \"Firm 2's reaction curve\")\n",
    "    plt.xlabel(\"Firm 1 quantity\")\n",
    "    plt.ylabel(\"Firm 2 quantity\")\n",
    "    ax.legend()\n",
    "    plt.xlim(0,100)\n",
    "    plt.ylim(0,100)\n",
    "\n",
    "    plt.plot()\n",
    "    \n",
    "    return\n",
    "\n",
    "def optimal(a, b, cost):\n",
    "    equilibrium = (a-cost)/3*b\n",
    "    \n",
    "    return equilibrium"
   ]
  },
  {
   "cell_type": "code",
   "execution_count": null,
   "metadata": {},
   "outputs": [],
   "source": [
    "x = np.linspace(0, 100, 1000);\n",
    "reaction(100,1,1,x)"
   ]
  },
  {
   "cell_type": "code",
   "execution_count": null,
   "metadata": {},
   "outputs": [],
   "source": [
    "intplot = widgets.interactive(reaction,a=100,b=1,cost=1,q_other=x)\n",
    "intplot"
   ]
  },
  {
   "cell_type": "code",
   "execution_count": null,
   "metadata": {},
   "outputs": [],
   "source": [
    "a=widgets.IntSlider(min=0,max=100,step=5,value=100),b=1),\n",
    "                 cost=1,q_other=widgets.IntSlider(min=0,max=100,step=5,value=50))"
   ]
  }
 ],
 "metadata": {
  "kernelspec": {
   "display_name": "Python 3",
   "language": "python",
   "name": "python3"
  },
  "language_info": {
   "codemirror_mode": {
    "name": "ipython",
    "version": 3
   },
   "file_extension": ".py",
   "mimetype": "text/x-python",
   "name": "python",
   "nbconvert_exporter": "python",
   "pygments_lexer": "ipython3",
   "version": "3.7.1"
  }
 },
 "nbformat": 4,
 "nbformat_minor": 2
}
