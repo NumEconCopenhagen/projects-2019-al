{
 "cells": [
  {
   "cell_type": "code",
   "execution_count": 1,
   "metadata": {},
   "outputs": [],
   "source": [
    "import numpy as np\n",
    "import scipy as sp\n",
    "from scipy import optimize\n",
    "import sympy as sm\n",
    "import matplotlib.pyplot as plt\n",
    "import ipywidgets as widgets\n",
    "import pylab\n",
    "\n",
    "#We initiate our printing as nice equations, using the sympy package \n",
    "sm.init_printing(use_unicode=True)\n"
   ]
  },
  {
   "cell_type": "code",
   "execution_count": 11,
   "metadata": {},
   "outputs": [],
   "source": [
    "#defining all variables as symby symbols \n",
    "q1 = sm.symbols('q_1')\n",
    "q2 = sm.symbols('q_2')\n",
    "c = sm.symbols('c')\n",
    "a = sm.symbols('a')\n",
    "b = sm.symbols(\"b\")\n",
    "pi1 = sm.symbols('pi_1')\n",
    "pi2 = sm.symbols('pi_2')\n",
    "\n",
    "#Now we define the equations describing the relationship between the two firms \n",
    "#prices (p), costs(c), someting(a), revenue(pi) and quantity(q).\n",
    "p1 = (a-b*(q1+q2))\n",
    "p2 = (a-b*(q1+q2))\n",
    "pi1 =(p1*q1-c*q1)\n",
    "pi2 = (p2*q2-c*q2)\n"
   ]
  },
  {
   "cell_type": "code",
   "execution_count": 12,
   "metadata": {},
   "outputs": [
    {
     "data": {
      "image/png": "[encoded data removed]",
      "text/latex": [
       "$$- c + 4$$"
      ],
      "text/plain": [
       "-c + 4"
      ]
     },
     "execution_count": 12,
     "metadata": {},
     "output_type": "execute_result"
    }
   ],
   "source": [
    "#Take the derivative wrt. to q1 and q2 respecticly\n",
    "#to get the optimal quantity of firm 1 and firm 2:\n",
    "\n",
    "foc1=sm.diff(pi1,q1)\n",
    "foc1\n",
    "\n",
    "foc2=sm.diff(pi2,q2)\n",
    "foc2"
   ]
  },
  {
   "cell_type": "code",
   "execution_count": 7,
   "metadata": {},
   "outputs": [
    {
     "data": {
      "image/png": "[encoded data removed]",
      "text/latex": [
       "$$\\frac{a - b q_{2} - c}{2 b}$$"
      ],
      "text/plain": [
       "a - b⋅q₂ - c\n",
       "────────────\n",
       "    2⋅b     "
      ]
     },
     "execution_count": 7,
     "metadata": {},
     "output_type": "execute_result"
    }
   ],
   "source": [
    "# We solve the first firms equation equal to 0\n",
    "sol1= sm.solve(sm.Eq(foc1,0),q1)[0]\n",
    "sol1"
   ]
  },
  {
   "cell_type": "code",
   "execution_count": 6,
   "metadata": {},
   "outputs": [
    {
     "data": {
      "image/png": "[encoded data removed]",
      "text/latex": [
       "$$\\frac{a - b q_{1} - c}{2 b}$$"
      ],
      "text/plain": [
       "a - b⋅q₁ - c\n",
       "────────────\n",
       "    2⋅b     "
      ]
     },
     "execution_count": 6,
     "metadata": {},
     "output_type": "execute_result"
    }
   ],
   "source": [
    "# We solve the second firms equation equal to 0\n",
    "sol2= sm.solve(sm.Eq(foc2,0),q2)[0]\n",
    "sol2\n"
   ]
  },
  {
   "cell_type": "code",
   "execution_count": 76,
   "metadata": {},
   "outputs": [
    {
     "data": {
      "image/png": "[encoded data removed]",
      "text/latex": [
       "$$a - b q_{1} - b \\left(q_{1} + \\frac{a - b q_{1} - c}{2 b}\\right) - c$$"
      ],
      "text/plain": [
       "             ⎛     a - b⋅q₁ - c⎞    \n",
       "a - b⋅q₁ - b⋅⎜q₁ + ────────────⎟ - c\n",
       "             ⎝         2⋅b     ⎠    "
      ]
     },
     "execution_count": 76,
     "metadata": {},
     "output_type": "execute_result"
    }
   ],
   "source": [
    "#We then substitute the q2 in equation 1\n",
    "sol1_subs = foc1.subs(q2,sol2)\n",
    "sol1_subs\n"
   ]
  },
  {
   "cell_type": "code",
   "execution_count": 77,
   "metadata": {},
   "outputs": [
    {
     "data": {
      "image/png": "[encoded data removed]",
      "text/latex": [
       "$$\\left [ \\frac{a - c}{3 b}\\right ]$$"
      ],
      "text/plain": [
       "⎡a - c⎤\n",
       "⎢─────⎥\n",
       "⎣ 3⋅b ⎦"
      ]
     },
     "execution_count": 77,
     "metadata": {},
     "output_type": "execute_result"
    }
   ],
   "source": [
    "#then we solve the first equation for the quantity\n",
    "sol1_subs_solve = sm.solve(sm.Eq(sol1_subs,0),q1)\n",
    "sol1_subs_solve"
   ]
  },
  {
   "cell_type": "code",
   "execution_count": 78,
   "metadata": {},
   "outputs": [],
   "source": [
    "#Needs commenting and docstrnigs\n",
    "def reaction(q_other, a=100, b=1, cost=1,print_it=False):\n",
    "    quantity = (a-b*q_other - cost)/2*b\n",
    "    \n",
    "    if print_it:\n",
    "        print(\"Given the other firm produces\",q_other,\"The firm will produce\", quantity, sep=\" \")\n",
    "        return\n",
    "    else:\n",
    "        return quantity"
   ]
  },
  {
   "cell_type": "code",
   "execution_count": 79,
   "metadata": {},
   "outputs": [],
   "source": [
    "#Needs commenting and docstrnigs\n",
    "\n",
    "def reaction_plot(q_other, a=100, b=1, cost=1,scatter=True, price = False):\n",
    "    quantity = reaction(q_other,a, b, cost)\n",
    "    \n",
    "    #ax = plt.subplot()\n",
    "    if scatter == True :\n",
    "        plt.scatter(quantity,q_other,label = \"Firm 1's reaction curve\")\n",
    "        plt.scatter(q_other,quantity,label = \"Firm 2's reaction curve\")\n",
    "    else : \n",
    "        plt.plot(quantity,q_other,label = \"Firm 1's reaction curve\")\n",
    "        plt.plot(q_other,quantity,label = \"Firm 2's reaction curve\")\n",
    "        \n",
    "    plt.xlabel(\"Firm 1 quantity\")\n",
    "    plt.ylabel(\"Firm 2 quantity\")\n",
    "    plt.legend()\n",
    "    plt.xlim(0,100)\n",
    "    plt.ylim(0,100)\n",
    "    \n",
    "    if price :\n",
    "        price = a-b*(q_other+quantity)\n",
    "        return price\n",
    "    plt.show()\n",
    "    return "
   ]
  },
  {
   "cell_type": "code",
   "execution_count": 80,
   "metadata": {},
   "outputs": [],
   "source": [
    "#Needs commenting and docstrnigs\n",
    "\n",
    "def optimal(a, b, cost, text=True):\n",
    "    equilibrium = (a-cost)/3*b\n",
    "    equilibrium = round(equilibrium,0)\n",
    "    if text==False:\n",
    "        return equilibrium\n",
    "    else:\n",
    "        print(\"The Cournot equilibrium, given that\",\"a =\",a,\", b =\",\"and that cost =\",cost,\",\",\"is:\",equilibrium)\n"
   ]
  },
  {
   "cell_type": "code",
   "execution_count": 81,
   "metadata": {},
   "outputs": [
    {
     "data": {
      "application/vnd.jupyter.widget-view+json": {
       "model_id": "7f34111d01e846be9f73d00374a38187",
       "version_major": 2,
       "version_minor": 0
      },
      "text/plain": [
       "interactive(children=(IntSlider(value=50, description='q_other'), Output()), _dom_classes=('widget-interact',)…"
      ]
     },
     "metadata": {},
     "output_type": "display_data"
    },
    {
     "data": {
      "text/plain": [
       "<function __main__.reaction(q_other, a=100, b=1, cost=1, print_it=False)>"
      ]
     },
     "execution_count": 81,
     "metadata": {},
     "output_type": "execute_result"
    }
   ],
   "source": [
    "qslider = widgets.IntSlider(min=0,max=100,step=1,value=50)\n",
    "\n",
    "widgets.interact(reaction,q_other = qslider,a=widgets.fixed(100),b=widgets.fixed(1),cost=widgets.fixed(1),print_it=widgets.fixed(True))"
   ]
  },
  {
   "cell_type": "code",
   "execution_count": 82,
   "metadata": {},
   "outputs": [
    {
     "name": "stdout",
     "output_type": "stream",
     "text": [
      "The equilibrium we derived earlier as:\n",
      "⎡a - c⎤\n",
      "⎢─────⎥\n",
      "⎣ 3⋅b ⎦\n",
      "The Cournot equilibrium, given that a = 100 , b = and that cost = 1 , is: 33.0\n",
      "Which given a = 100, b= 1 and cost = 1, is: None\n"
     ]
    }
   ],
   "source": [
    "print(\"The equilibrium we derived earlier as:\")\n",
    "\n",
    "sm.pprint(sol1_subs_solve,use_unicode=True)\n",
    "\n",
    "print(\"Which given a = 100, b= 1 and cost = 1, is:\",optimal(100,1,1))"
   ]
  },
  {
   "cell_type": "code",
   "execution_count": 83,
   "metadata": {},
   "outputs": [
    {
     "data": {
      "application/vnd.jupyter.widget-view+json": {
       "model_id": "50aaebc414034287aa55c3ba81b657b1",
       "version_major": 2,
       "version_minor": 0
      },
      "text/plain": [
       "interactive(children=(IntSlider(value=50, description='a', max=150, min=10), IntSlider(value=1, description='b…"
      ]
     },
     "metadata": {},
     "output_type": "display_data"
    },
    {
     "data": {
      "text/plain": [
       "<function __main__.optimal(a, b, cost, text=True)>"
      ]
     },
     "execution_count": 83,
     "metadata": {},
     "output_type": "execute_result"
    }
   ],
   "source": [
    "a_slider = widgets.IntSlider(min=10,max=150,step=1,value=50)\n",
    "b_slider = widgets.IntSlider(min=1,max=10,step=1,value=1)\n",
    "cost_slider = widgets.IntSlider(min=1,max=50,step=1,value=1)\n",
    "\n",
    "widgets.interact(optimal,a=a_slider,b=b_slider,cost=cost_slider,r=widgets.fixed(False))"
   ]
  },
  {
   "cell_type": "code",
   "execution_count": 84,
   "metadata": {},
   "outputs": [
    {
     "data": {
      "image/png": "[encoded data removed]",
      "text/plain": [
       "<Figure size 432x288 with 1 Axes>"
      ]
     },
     "metadata": {
      "needs_background": "light"
     },
     "output_type": "display_data"
    }
   ],
   "source": [
    "x = np.linspace(0, 100, 1000);\n",
    "reaction_plot(q_other=x,scatter=False)"
   ]
  },
  {
   "cell_type": "code",
   "execution_count": 85,
   "metadata": {},
   "outputs": [
    {
     "data": {
      "application/vnd.jupyter.widget-view+json": {
       "model_id": "9f62470a38fa4d62afdd717c416960d6",
       "version_major": 2,
       "version_minor": 0
      },
      "text/plain": [
       "interactive(children=(IntSlider(value=100, description='a', max=150, min=10), IntSlider(value=1, description='…"
      ]
     },
     "metadata": {},
     "output_type": "display_data"
    },
    {
     "data": {
      "text/plain": [
       "<function __main__.reaction_plot(q_other, a=100, b=1, cost=1, scatter=True, price=False)>"
      ]
     },
     "execution_count": 85,
     "metadata": {},
     "output_type": "execute_result"
    }
   ],
   "source": [
    "ai_slider = widgets.IntSlider(min=10,max=150,step=1,value=100)\n",
    "bi_slider = widgets.IntSlider(min=1,max=5,step=1,value=1)\n",
    "costi_slider = widgets.IntSlider(min=1,max=50,step=1,value=1)\n",
    "widgets.interact(reaction_plot,q_other=widgets.fixed(x),a=ai_slider,b=bi_slider,cost=costi_slider, scatter = widgets.fixed(False), price = widgets.fixed(False))\n",
    "\n",
    "\n"
   ]
  },
  {
   "cell_type": "code",
   "execution_count": 86,
   "metadata": {},
   "outputs": [
    {
     "data": {
      "image/png": "[encoded data removed]",
      "text/latex": [
       "$$\\frac{a}{3} + \\frac{2 c}{3}$$"
      ],
      "text/plain": [
       "a   2⋅c\n",
       "─ + ───\n",
       "3    3 "
      ]
     },
     "execution_count": 86,
     "metadata": {},
     "output_type": "execute_result"
    }
   ],
   "source": [
    "#Here we put in the price and the symbollic estimation of it\n",
    "price_1 = p1.subs([(q1,sol1_subs_solve[0]), (q2, sol1_subs_solve[0])])\n",
    "price_1\n",
    "\n"
   ]
  },
  {
   "cell_type": "code",
   "execution_count": 87,
   "metadata": {},
   "outputs": [
    {
     "data": {
      "image/png": "[encoded data removed]",
      "text/latex": [
       "$$- \\frac{c \\left(a - c\\right)}{3 b} + \\frac{\\left(\\frac{a}{3} + \\frac{2 c}{3}\\right) \\left(a - c\\right)}{3 b}$$"
      ],
      "text/plain": [
       "              ⎛a   2⋅c⎞        \n",
       "              ⎜─ + ───⎟⋅(a - c)\n",
       "  c⋅(a - c)   ⎝3    3 ⎠        \n",
       "- ───────── + ─────────────────\n",
       "     3⋅b             3⋅b       "
      ]
     },
     "execution_count": 87,
     "metadata": {},
     "output_type": "execute_result"
    }
   ],
   "source": [
    "pi = pi1.subs([(p1,price_1), (q1,sol1_subs_solve[0])])\n",
    "pi"
   ]
  },
  {
   "cell_type": "code",
   "execution_count": 88,
   "metadata": {},
   "outputs": [],
   "source": [
    "#Here we define a function that returns the price and the equilirbrium "
   ]
  },
  {
   "cell_type": "code",
   "execution_count": 104,
   "metadata": {},
   "outputs": [],
   "source": [
    "def price_eq(q_other, a = 100, b = 1, cost = 1):\n",
    "    q = reaction(q_other, a, b, cost)\n",
    "    \n",
    "    price = a-b*(q_other+q)\n",
    "    \n",
    "    opt_q = optimal(a, b, cost, text = False)\n",
    "    if price > 0:\n",
    "        print(\"The price in the Cournot equilibrium is\",price)\n",
    "        print(\"The quantity that the two firms will produce in the Cournor equilibrium is\",opt_q)\n",
    "    else:\n",
    "        print(\"Price can't be negative\")\n",
    "    \n"
   ]
  },
  {
   "cell_type": "code",
   "execution_count": 105,
   "metadata": {},
   "outputs": [
    {
     "data": {
      "application/vnd.jupyter.widget-view+json": {
       "model_id": "8cc319a60e89407db117317a0660e8b3",
       "version_major": 2,
       "version_minor": 0
      },
      "text/plain": [
       "interactive(children=(IntSlider(value=50, description='q_other', max=101, min=10), IntSlider(value=100, descri…"
      ]
     },
     "metadata": {},
     "output_type": "display_data"
    },
    {
     "data": {
      "text/plain": [
       "<function __main__.price_eq(q_other, a=100, b=1, cost=1)>"
      ]
     },
     "execution_count": 105,
     "metadata": {},
     "output_type": "execute_result"
    }
   ],
   "source": [
    "qp_slider = widgets.IntSlider(min=10,max=101,step=1,value=50)\n",
    "ap_slider = widgets.IntSlider(min=10,max=100,step=1,value=100)\n",
    "bp_slider = widgets.IntSlider(min=1,max=5,step=1,value=1)\n",
    "costp_slider = widgets.IntSlider(min=1,max=50,step=1,value=1)\n",
    "widgets.interact(price_eq,q_other=qp_slider, a = ap_slider, b= bp_slider, cost = costp_slider)"
   ]
  },
  {
   "cell_type": "code",
   "execution_count": null,
   "metadata": {},
   "outputs": [],
   "source": []
  },
  {
   "cell_type": "code",
   "execution_count": 91,
   "metadata": {},
   "outputs": [],
   "source": [
    "def profit(p1,q1,c):\n",
    "    return p1*q1-c*q1 "
   ]
  },
  {
   "cell_type": "code",
   "execution_count": null,
   "metadata": {},
   "outputs": [],
   "source": [
    "def root_func(q1, q2=20, a = 100, b= 1, c=1):\n",
    "    x1 = a-b*q1 -b*(q1+q2)-c\n",
    "    x2 = a-b*q2 -b*(q1+q2)-c\n",
    "    \n",
    "    diff_1 = abs(0 - x1)\n",
    "    diff_2 = abs(0 - x2)\n",
    "    \n",
    "    return diff_1, diff_2  \n",
    "    \n"
   ]
  },
  {
   "cell_type": "code",
   "execution_count": null,
   "metadata": {},
   "outputs": [],
   "source": [
    "root_func(30,36)"
   ]
  },
  {
   "cell_type": "code",
   "execution_count": null,
   "metadata": {},
   "outputs": [],
   "source": [
    "obj = lambda q: root_func(q1 = q,q2=20,a=100,b=1,c=1)\n",
    "obj(1)"
   ]
  },
  {
   "cell_type": "code",
   "execution_count": null,
   "metadata": {},
   "outputs": [],
   "source": [
    "\n",
    "#sol = sp.optimize.minimize(obj, x0=(1))\n",
    "#obj = lambda q: profit(p1,q,cost)\n",
    "#sol = sp.optimize.minimize(obj,0"
   ]
  },
  {
   "cell_type": "code",
   "execution_count": 55,
   "metadata": {},
   "outputs": [],
   "source": [
    "#definition of the cost which is a function of the quantity\n",
    "def cost(n,C) :\n",
    "    if n == 0:\n",
    "        cost = 0\n",
    "    else:\n",
    "        cost = C*n\n",
    "    return cost"
   ]
  },
  {
   "cell_type": "code",
   "execution_count": 56,
   "metadata": {},
   "outputs": [],
   "source": [
    "#definition of the demand function\n",
    "#we take our price function (a-b*(q1+q2)) and set a=1 in this exercice. b is a coefficient which represent the impact of the quantity on the price\n",
    "#Indeed less a production is rare less the price will be. We can also add a coefficient \"k\" which can represent the heterogeneity\n",
    "#between q1 and q2 but we will juste assume the perfect substitution in our problem set\n",
    "def demand(n1,n2,B):\n",
    "    return 1 - B*(n1+n2)"
   ]
  },
  {
   "cell_type": "code",
   "execution_count": 61,
   "metadata": {},
   "outputs": [],
   "source": [
    "def profit1(n1,n2,C1,B):\n",
    "    return demand(n1,n2,B)*n1 - cost(n1,C1)"
   ]
  },
  {
   "cell_type": "code",
   "execution_count": 70,
   "metadata": {},
   "outputs": [],
   "source": [
    "#As priviously, in a cournot model the firms set their quantities (production) given the quantity of the other firm.\n",
    "#Which is why we need the reaction function and to get it we have to maximize (here minimize -f(x)) the profit function.\n",
    "def reacfunction(n1,n2,C1,B):\n",
    "    x1 = optimize.brute(lambda x: -profit1(n1,n2,C1,B), ((0,1,),)) # brute minimizes the function;\n",
    "    return x1[0]"
   ]
  },
  {
   "cell_type": "code",
   "execution_count": 71,
   "metadata": {},
   "outputs": [],
   "source": [
    "#we define a vector which take the vector first guess and the vector parameters (that we will define after) as input for our model\n",
    "def vector_reaction(x,param): # vector param = (B,C1,C2)\n",
    "    return np.array(x)-np.array([reacfunction(x[0],x[1],param[1],param[0]),reacfunction(x[1],x[0],param[2],param[0])])"
   ]
  },
  {
   "cell_type": "code",
   "execution_count": 72,
   "metadata": {},
   "outputs": [
    {
     "ename": "TypeError",
     "evalue": "fsolve: there is a mismatch between the input and output shape of the 'func' argument 'vector_reaction'.Shape should be (2,) but it is (2, 2).",
     "output_type": "error",
     "traceback": [
      "\u001b[1;31m---------------------------------------------------------------------------\u001b[0m",
      "\u001b[1;31mTypeError\u001b[0m                                 Traceback (most recent call last)",
      "\u001b[1;32m<ipython-input-72-609782d8be4c>\u001b[0m in \u001b[0;36m<module>\u001b[1;34m\u001b[0m\n\u001b[0;32m      3\u001b[0m \u001b[0mx\u001b[0m \u001b[1;33m=\u001b[0m \u001b[1;33m[\u001b[0m\u001b[1;36m0.3\u001b[0m\u001b[1;33m,\u001b[0m \u001b[1;36m0.3\u001b[0m\u001b[1;33m]\u001b[0m\u001b[1;33m\u001b[0m\u001b[1;33m\u001b[0m\u001b[0m\n\u001b[0;32m      4\u001b[0m \u001b[1;33m\u001b[0m\u001b[0m\n\u001b[1;32m----> 5\u001b[1;33m \u001b[0mans\u001b[0m \u001b[1;33m=\u001b[0m \u001b[0moptimize\u001b[0m\u001b[1;33m.\u001b[0m\u001b[0mfsolve\u001b[0m\u001b[1;33m(\u001b[0m\u001b[0mvector_reaction\u001b[0m\u001b[1;33m,\u001b[0m \u001b[0mx0\u001b[0m\u001b[1;33m,\u001b[0m \u001b[0margs\u001b[0m \u001b[1;33m=\u001b[0m \u001b[1;33m(\u001b[0m\u001b[0mparam\u001b[0m\u001b[1;33m)\u001b[0m\u001b[1;33m)\u001b[0m\u001b[1;33m\u001b[0m\u001b[1;33m\u001b[0m\u001b[0m\n\u001b[0m\u001b[0;32m      6\u001b[0m \u001b[0mans\u001b[0m\u001b[1;33m\u001b[0m\u001b[1;33m\u001b[0m\u001b[0m\n",
      "\u001b[1;32mC:\\ProgramData\\Anaconda3\\lib\\site-packages\\scipy\\optimize\\minpack.py\u001b[0m in \u001b[0;36mfsolve\u001b[1;34m(func, x0, args, fprime, full_output, col_deriv, xtol, maxfev, band, epsfcn, factor, diag)\u001b[0m\n\u001b[0;32m    146\u001b[0m                'diag': diag}\n\u001b[0;32m    147\u001b[0m \u001b[1;33m\u001b[0m\u001b[0m\n\u001b[1;32m--> 148\u001b[1;33m     \u001b[0mres\u001b[0m \u001b[1;33m=\u001b[0m \u001b[0m_root_hybr\u001b[0m\u001b[1;33m(\u001b[0m\u001b[0mfunc\u001b[0m\u001b[1;33m,\u001b[0m \u001b[0mx0\u001b[0m\u001b[1;33m,\u001b[0m \u001b[0margs\u001b[0m\u001b[1;33m,\u001b[0m \u001b[0mjac\u001b[0m\u001b[1;33m=\u001b[0m\u001b[0mfprime\u001b[0m\u001b[1;33m,\u001b[0m \u001b[1;33m**\u001b[0m\u001b[0moptions\u001b[0m\u001b[1;33m)\u001b[0m\u001b[1;33m\u001b[0m\u001b[1;33m\u001b[0m\u001b[0m\n\u001b[0m\u001b[0;32m    149\u001b[0m     \u001b[1;32mif\u001b[0m \u001b[0mfull_output\u001b[0m\u001b[1;33m:\u001b[0m\u001b[1;33m\u001b[0m\u001b[1;33m\u001b[0m\u001b[0m\n\u001b[0;32m    150\u001b[0m         \u001b[0mx\u001b[0m \u001b[1;33m=\u001b[0m \u001b[0mres\u001b[0m\u001b[1;33m[\u001b[0m\u001b[1;34m'x'\u001b[0m\u001b[1;33m]\u001b[0m\u001b[1;33m\u001b[0m\u001b[1;33m\u001b[0m\u001b[0m\n",
      "\u001b[1;32mC:\\ProgramData\\Anaconda3\\lib\\site-packages\\scipy\\optimize\\minpack.py\u001b[0m in \u001b[0;36m_root_hybr\u001b[1;34m(func, x0, args, jac, col_deriv, xtol, maxfev, band, eps, factor, diag, **unknown_options)\u001b[0m\n\u001b[0;32m    212\u001b[0m     \u001b[1;32mif\u001b[0m \u001b[1;32mnot\u001b[0m \u001b[0misinstance\u001b[0m\u001b[1;33m(\u001b[0m\u001b[0margs\u001b[0m\u001b[1;33m,\u001b[0m \u001b[0mtuple\u001b[0m\u001b[1;33m)\u001b[0m\u001b[1;33m:\u001b[0m\u001b[1;33m\u001b[0m\u001b[1;33m\u001b[0m\u001b[0m\n\u001b[0;32m    213\u001b[0m         \u001b[0margs\u001b[0m \u001b[1;33m=\u001b[0m \u001b[1;33m(\u001b[0m\u001b[0margs\u001b[0m\u001b[1;33m,\u001b[0m\u001b[1;33m)\u001b[0m\u001b[1;33m\u001b[0m\u001b[1;33m\u001b[0m\u001b[0m\n\u001b[1;32m--> 214\u001b[1;33m     \u001b[0mshape\u001b[0m\u001b[1;33m,\u001b[0m \u001b[0mdtype\u001b[0m \u001b[1;33m=\u001b[0m \u001b[0m_check_func\u001b[0m\u001b[1;33m(\u001b[0m\u001b[1;34m'fsolve'\u001b[0m\u001b[1;33m,\u001b[0m \u001b[1;34m'func'\u001b[0m\u001b[1;33m,\u001b[0m \u001b[0mfunc\u001b[0m\u001b[1;33m,\u001b[0m \u001b[0mx0\u001b[0m\u001b[1;33m,\u001b[0m \u001b[0margs\u001b[0m\u001b[1;33m,\u001b[0m \u001b[0mn\u001b[0m\u001b[1;33m,\u001b[0m \u001b[1;33m(\u001b[0m\u001b[0mn\u001b[0m\u001b[1;33m,\u001b[0m\u001b[1;33m)\u001b[0m\u001b[1;33m)\u001b[0m\u001b[1;33m\u001b[0m\u001b[1;33m\u001b[0m\u001b[0m\n\u001b[0m\u001b[0;32m    215\u001b[0m     \u001b[1;32mif\u001b[0m \u001b[0mepsfcn\u001b[0m \u001b[1;32mis\u001b[0m \u001b[1;32mNone\u001b[0m\u001b[1;33m:\u001b[0m\u001b[1;33m\u001b[0m\u001b[1;33m\u001b[0m\u001b[0m\n\u001b[0;32m    216\u001b[0m         \u001b[0mepsfcn\u001b[0m \u001b[1;33m=\u001b[0m \u001b[0mfinfo\u001b[0m\u001b[1;33m(\u001b[0m\u001b[0mdtype\u001b[0m\u001b[1;33m)\u001b[0m\u001b[1;33m.\u001b[0m\u001b[0meps\u001b[0m\u001b[1;33m\u001b[0m\u001b[1;33m\u001b[0m\u001b[0m\n",
      "\u001b[1;32mC:\\ProgramData\\Anaconda3\\lib\\site-packages\\scipy\\optimize\\minpack.py\u001b[0m in \u001b[0;36m_check_func\u001b[1;34m(checker, argname, thefunc, x0, args, numinputs, output_shape)\u001b[0m\n\u001b[0;32m     39\u001b[0m                 \u001b[0mmsg\u001b[0m \u001b[1;33m+=\u001b[0m \u001b[1;34m\".\"\u001b[0m\u001b[1;33m\u001b[0m\u001b[1;33m\u001b[0m\u001b[0m\n\u001b[0;32m     40\u001b[0m             \u001b[0mmsg\u001b[0m \u001b[1;33m+=\u001b[0m \u001b[1;34m'Shape should be %s but it is %s.'\u001b[0m \u001b[1;33m%\u001b[0m \u001b[1;33m(\u001b[0m\u001b[0moutput_shape\u001b[0m\u001b[1;33m,\u001b[0m \u001b[0mshape\u001b[0m\u001b[1;33m(\u001b[0m\u001b[0mres\u001b[0m\u001b[1;33m)\u001b[0m\u001b[1;33m)\u001b[0m\u001b[1;33m\u001b[0m\u001b[1;33m\u001b[0m\u001b[0m\n\u001b[1;32m---> 41\u001b[1;33m             \u001b[1;32mraise\u001b[0m \u001b[0mTypeError\u001b[0m\u001b[1;33m(\u001b[0m\u001b[0mmsg\u001b[0m\u001b[1;33m)\u001b[0m\u001b[1;33m\u001b[0m\u001b[1;33m\u001b[0m\u001b[0m\n\u001b[0m\u001b[0;32m     42\u001b[0m     \u001b[1;32mif\u001b[0m \u001b[0missubdtype\u001b[0m\u001b[1;33m(\u001b[0m\u001b[0mres\u001b[0m\u001b[1;33m.\u001b[0m\u001b[0mdtype\u001b[0m\u001b[1;33m,\u001b[0m \u001b[0minexact\u001b[0m\u001b[1;33m)\u001b[0m\u001b[1;33m:\u001b[0m\u001b[1;33m\u001b[0m\u001b[1;33m\u001b[0m\u001b[0m\n\u001b[0;32m     43\u001b[0m         \u001b[0mdt\u001b[0m \u001b[1;33m=\u001b[0m \u001b[0mres\u001b[0m\u001b[1;33m.\u001b[0m\u001b[0mdtype\u001b[0m\u001b[1;33m\u001b[0m\u001b[1;33m\u001b[0m\u001b[0m\n",
      "\u001b[1;31mTypeError\u001b[0m: fsolve: there is a mismatch between the input and output shape of the 'func' argument 'vector_reaction'.Shape should be (2,) but it is (2, 2)."
     ]
    }
   ],
   "source": [
    "#we create a vector with the value of the parameters \n",
    "param = [0.01,0.0,0.0]\n",
    "x = [0.3, 0.3]\n",
    "\n",
    "ans = optimize.fsolve(vector_reaction, x0, args = (param))\n",
    "ans"
   ]
  },
  {
   "cell_type": "code",
   "execution_count": null,
   "metadata": {},
   "outputs": [],
   "source": []
  }
 ],
 "metadata": {
  "kernelspec": {
   "display_name": "Python 3",
   "language": "python",
   "name": "python3"
  },
  "language_info": {
   "codemirror_mode": {
    "name": "ipython",
    "version": 3
   },
   "file_extension": ".py",
   "mimetype": "text/x-python",
   "name": "python",
   "nbconvert_exporter": "python",
   "pygments_lexer": "ipython3",
   "version": "3.7.1"
  }
 },
 "nbformat": 4,
 "nbformat_minor": 2
}
