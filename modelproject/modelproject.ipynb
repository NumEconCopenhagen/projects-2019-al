{
 "cells": [
  {
   "cell_type": "code",
   "execution_count": 1,
   "metadata": {},
   "outputs": [
    {
     "name": "stdout",
     "output_type": "stream",
     "text": [
      "The autoreload extension is already loaded. To reload it, use:\n",
      "  %reload_ext autoreload\n"
     ]
    }
   ],
   "source": [
    "#This is where we will write our project "
   ]
  },
  {
   "cell_type": "code",
   "execution_count": 95,
   "metadata": {},
   "outputs": [],
   "source": [
    "%matplotlib inline\n",
    "import numpy as np\n",
    "import scipy as sp\n",
    "import sympy as sm\n",
    "import matplotlib.pyplot as plt\n",
    "import ipywidgets as widgets\n",
    "import pylab\n",
    "\n",
    "#We initiate our printing as nice equations, using the sympy package \n",
    "sm.init_printing(use_unicode=True)\n"
   ]
  },
  {
   "cell_type": "code",
   "execution_count": 96,
   "metadata": {},
   "outputs": [],
   "source": [
    "#defining all variables as symby symbols \n",
    "q1 = sm.symbols('q_1')\n",
    "q2 = sm.symbols('q_2')\n",
    "c = sm.symbols('c')\n",
    "a = sm.symbols('a')\n",
    "b = sm.symbols(\"b\")\n",
    "pi1 = sm.symbols('pi_1')\n",
    "pi2 = sm.symbols('pi_2')\n",
    "\n",
    "#Now we define the equations describing the relationship between the two firms \n",
    "#prices (p), costs(c), someting(a), revenue(pi) and quantity(q).\n",
    "p1 = (a-b*(q1+q2))\n",
    "p2 = (a-b*(q1+q2))\n",
    "pi1 =(p1*q1-c*q1)\n",
    "pi2 = (p2*q2-c*q2)\n"
   ]
  },
  {
   "cell_type": "markdown",
   "metadata": {},
   "source": [
    "In order to solve the cournot-quilibrium, we maximise the the quantity firm 1 produces"
   ]
  },
  {
   "cell_type": "code",
   "execution_count": 97,
   "metadata": {},
   "outputs": [
    {
     "data": {
      "image/png": "[encoded data removed]",
      "text/latex": [
       "$$a - b q_{2} - b \\left(q_{1} + q_{2}\\right) - c$$"
      ],
      "text/plain": [
       "a - b⋅q₂ - b⋅(q₁ + q₂) - c"
      ]
     },
     "execution_count": 97,
     "metadata": {},
     "output_type": "execute_result"
    }
   ],
   "source": [
    "\n",
    "#Take the derivative wrt. to q1 and q2 respecticly\n",
    "#to get the optimal quantity of firm 1 and firm 2:\n",
    "\n",
    "foc1=sm.diff(pi1,q1)\n",
    "foc1\n",
    "\n",
    "foc2=sm.diff(pi2,q2)\n",
    "foc2"
   ]
  },
  {
   "cell_type": "code",
   "execution_count": 98,
   "metadata": {},
   "outputs": [
    {
     "data": {
      "image/png": "[encoded data removed]",
      "text/latex": [
       "$$\\frac{a - b q_{2} - c}{2 b}$$"
      ],
      "text/plain": [
       "a - b⋅q₂ - c\n",
       "────────────\n",
       "    2⋅b     "
      ]
     },
     "execution_count": 98,
     "metadata": {},
     "output_type": "execute_result"
    }
   ],
   "source": [
    "# We solve the first firms equation equal to 0\n",
    "sol1= sm.solve(sm.Eq(foc1,0),q1)[0]\n",
    "sol1"
   ]
  },
  {
   "cell_type": "code",
   "execution_count": 99,
   "metadata": {},
   "outputs": [
    {
     "data": {
      "image/png": "[encoded data removed]",
      "text/latex": [
       "$$\\frac{a - b q_{1} - c}{2 b}$$"
      ],
      "text/plain": [
       "a - b⋅q₁ - c\n",
       "────────────\n",
       "    2⋅b     "
      ]
     },
     "execution_count": 99,
     "metadata": {},
     "output_type": "execute_result"
    }
   ],
   "source": [
    "# We solve the second firms equation equal to 0\n",
    "sol2= sm.solve(sm.Eq(foc2,0),q2)[0]\n",
    "sol2\n"
   ]
  },
  {
   "cell_type": "code",
   "execution_count": 100,
   "metadata": {},
   "outputs": [
    {
     "data": {
      "image/png": "[encoded data removed]",
      "text/latex": [
       "$$a - b q_{1} - b \\left(q_{1} + \\frac{a - b q_{1} - c}{2 b}\\right) - c$$"
      ],
      "text/plain": [
       "             ⎛     a - b⋅q₁ - c⎞    \n",
       "a - b⋅q₁ - b⋅⎜q₁ + ────────────⎟ - c\n",
       "             ⎝         2⋅b     ⎠    "
      ]
     },
     "execution_count": 100,
     "metadata": {},
     "output_type": "execute_result"
    }
   ],
   "source": [
    "#We then substitute the q2 in equation 1\n",
    "sol1_subs = foc1.subs(q2,sol2)\n",
    "sol1_subs\n",
    "\n"
   ]
  },
  {
   "cell_type": "code",
   "execution_count": 101,
   "metadata": {},
   "outputs": [
    {
     "data": {
      "image/png": "[encoded data removed]",
      "text/latex": [
       "$$\\left [ \\frac{a - c}{3 b}\\right ]$$"
      ],
      "text/plain": [
       "⎡a - c⎤\n",
       "⎢─────⎥\n",
       "⎣ 3⋅b ⎦"
      ]
     },
     "execution_count": 101,
     "metadata": {},
     "output_type": "execute_result"
    }
   ],
   "source": [
    "#then we solve the first equation for the quantity\n",
    "sol1_subs_solve = sm.solve(sm.Eq(sol1_subs,0),q1)\n",
    "sol1_subs_solve"
   ]
  },
  {
   "cell_type": "markdown",
   "metadata": {},
   "source": [
    "The optimal quantity for a firm to produce, that is the Cournot-Equilibrium, is described a the cost minus the (whatever a is) "
   ]
  },
  {
   "cell_type": "code",
   "execution_count": 336,
   "metadata": {},
   "outputs": [],
   "source": [
    "\n",
    "def reaction(a, b, cost, q_other):\n",
    "    quantity = (a-b*q_other - cost)/2*b\n",
    "    \n",
    "    fig = plt.figure()\n",
    "    ax = plt.subplot()\n",
    "    ax.plot(quantity,q_other,label = \"Firm 1's reaction curve\")\n",
    "    ax.plot(q_other,quantity,label = \"Firm 2's reaction curve\")\n",
    "    plt.xlabel(\"Firm 1 quantity\")\n",
    "    plt.ylabel(\"Firm 2 quantity\")\n",
    "    ax.legend()\n",
    "\n",
    "    plt.plot()\n",
    "    \n",
    "    return \n",
    "\n",
    "def optimal(a, b, cost):\n",
    "    equilibrium = (a-cost)/3*b\n",
    "    \n",
    "    return equilibrium\n",
    "\n",
    "def reactiontest(q_other):\n",
    "    quantity = (100-1*q_other-1)/2*1\n",
    "\n",
    "    return quantity"
   ]
  },
  {
   "cell_type": "code",
   "execution_count": 338,
   "metadata": {},
   "outputs": [
    {
     "data": {
      "image/png": "[encoded data removed]",
      "text/plain": [
       "<Figure size 432x288 with 1 Axes>"
      ]
     },
     "metadata": {
      "needs_background": "light"
     },
     "output_type": "display_data"
    }
   ],
   "source": [
    "x = np.linspace(0, 100, 1000);\n",
    "reaction(100,1,1,x)"
   ]
  },
  {
   "cell_type": "code",
   "execution_count": null,
   "metadata": {
    "scrolled": true
   },
   "outputs": [],
   "source": []
  },
  {
   "cell_type": "code",
   "execution_count": null,
   "metadata": {},
   "outputs": [],
   "source": []
  },
  {
   "cell_type": "code",
   "execution_count": 263,
   "metadata": {},
   "outputs": [
    {
     "data": {
      "application/vnd.jupyter.widget-view+json": {
       "model_id": "62d3e3722c3548cfa866070a1f371fa0",
       "version_major": 2,
       "version_minor": 0
      },
      "text/plain": [
       "interactive(children=(IntSlider(value=100, description='a', step=5), IntSlider(value=1, description='b', max=3…"
      ]
     },
     "metadata": {},
     "output_type": "display_data"
    }
   ],
   "source": [
    "widgets.interactive(reaction, a=widgets.IntSlider(min=0,max=100,step=5,value=100),b=widgets.IntSlider(min=0,max=3,step=0.5,value=1),cost=widgets.IntSlider(min=0,max=5,step=0.5,value=1),\n",
    "                        q_other=widgets.IntSlider(min=0,max=100,step=5,value=50))\n"
   ]
  },
  {
   "cell_type": "code",
   "execution_count": null,
   "metadata": {},
   "outputs": [],
   "source": []
  },
  {
   "cell_type": "code",
   "execution_count": 161,
   "metadata": {},
   "outputs": [
    {
     "data": {
      "application/vnd.jupyter.widget-view+json": {
       "model_id": "ec96d47e683647e39c64ce55fae19178",
       "version_major": 2,
       "version_minor": 0
      },
      "text/plain": [
       "interactive(children=(Output(),), _dom_classes=('widget-interact',))"
      ]
     },
     "metadata": {},
     "output_type": "display_data"
    }
   ],
   "source": []
  },
  {
   "cell_type": "code",
   "execution_count": null,
   "metadata": {},
   "outputs": [],
   "source": []
  }
 ],
 "metadata": {
  "kernelspec": {
   "display_name": "Python 3",
   "language": "python",
   "name": "python3"
  },
  "language_info": {
   "codemirror_mode": {
    "name": "ipython",
    "version": 3
   },
   "file_extension": ".py",
   "mimetype": "text/x-python",
   "name": "python",
   "nbconvert_exporter": "python",
   "pygments_lexer": "ipython3",
   "version": "3.7.1"
  }
 },
 "nbformat": 4,
 "nbformat_minor": 2
}
