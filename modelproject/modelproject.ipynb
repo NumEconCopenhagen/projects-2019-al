{
 "cells": [
  {
   "cell_type": "markdown",
   "metadata": {},
   "source": [
    "# The Cournot Model"
   ]
  },
  {
   "cell_type": "markdown",
   "metadata": {},
   "source": [
    "### Imports:"
   ]
  },
  {
   "cell_type": "code",
   "execution_count": 1,
   "metadata": {},
   "outputs": [],
   "source": [
    "import numpy as np\n",
    "import scipy as sp\n",
    "import sympy as sm\n",
    "import matplotlib.pyplot as plt\n",
    "import ipywidgets as widgets\n",
    "import pylab\n",
    "from scipy import optimize\n",
    "#We initiate our printing as nice equations, using the sympy package \n",
    "sm.init_printing(use_unicode=True)\n"
   ]
  },
  {
   "cell_type": "markdown",
   "metadata": {},
   "source": [
    "## Model Description"
   ]
  },
  {
   "cell_type": "markdown",
   "metadata": {},
   "source": [
    "In the model of Cournot Competition, two firms compete for the amount they produce, by simulataneously setting quantities. \n",
    "\n",
    "**We use the following parameters:**\n",
    "\n",
    "1. q1 is the quantity produced by firm 1\n",
    "2. q2 is the quantity produced by firm 2\n",
    "3. c is the cost, which is equal for both firms \n",
    "4. a,b are parameters of the price functions of the firms\n",
    "5. pi1 and pi2 are profits of firms 1 and 2 \n",
    "\n",
    "**Preliminaries of the model:**\n",
    "\n",
    "1. Both firms produce a homogenous product\n",
    "2. There is no collusion between the firms\n",
    "3. Both firms have identical costs and the same price functions \n",
    "4. The firms are economically rational\n",
    "\n",
    "**Prices evolve according to:**\n",
    "\n",
    "p1 = (a-b*(q1+q2))\n",
    "\n",
    "p2 = (a-b*(q1+q2))\n",
    "\n",
    "**Profits are derived through:**\n",
    "\n",
    "pi1 =(p1*q1-c*q1)\n",
    "\n",
    "pi2 = (p2*q2-c*q2)\n",
    "\n"
   ]
  },
  {
   "cell_type": "markdown",
   "metadata": {},
   "source": [
    "## Solving the model:"
   ]
  },
  {
   "cell_type": "markdown",
   "metadata": {},
   "source": [
    "First we define all symbols:"
   ]
  },
  {
   "cell_type": "code",
   "execution_count": 2,
   "metadata": {},
   "outputs": [],
   "source": [
    "#Here we define the symbols as sympy objects. This lets us use sympy operations on them \n",
    "#The qs are the quantities that firm 1 and firm 2 produce\n",
    "\n",
    "q1 = sm.symbols('q_1')\n",
    "q2 = sm.symbols('q_2')\n",
    "#c is the production cost, this is assumed to be constant \n",
    "c = sm.symbols('c')\n",
    "\n",
    "# a is a parameter used to calculate the prices. \n",
    "a = sm.symbols('a')\n",
    "#b is a substiotion parameter, that describes the substitution elasticity between firm 1 and firm 2's product. If b = 1 \n",
    "# the products are perfect substitues, anything under 1 and above 1 is non-perfect. \n",
    "b = sm.symbols(\"b\")\n",
    "\n",
    "#Pi are the profits for the two firms\n",
    "pi1 = sm.symbols('pi_1')\n",
    "pi2 = sm.symbols('pi_2')"
   ]
  },
  {
   "cell_type": "markdown",
   "metadata": {},
   "source": [
    "We use the price and profit equations, to then derive the first order conditions wrt. the quantity produced by the respective firm:"
   ]
  },
  {
   "cell_type": "code",
   "execution_count": 3,
   "metadata": {},
   "outputs": [],
   "source": [
    "# The prices are defined as the parameter a minus the substitution parameter times the quantities of firm 1 and 2 \n",
    "p1 = (a-b*(q1+q2))\n",
    "\n",
    "p2 = (a-b*(q1+q2))\n",
    "\n",
    "\n",
    "# The profit of the firm is given by the prices times quantity, minus the cost times the quantity\n",
    "pi1 =(p1*q1-c*q1)\n",
    "\n",
    "pi2 = (p2*q2-c*q2)"
   ]
  },
  {
   "cell_type": "code",
   "execution_count": 4,
   "metadata": {},
   "outputs": [
    {
     "data": {
      "image/png": "[encoded data removed]",
      "text/latex": [
       "$$a - b q_{1} - b \\left(q_{1} + q_{2}\\right) - c$$"
      ],
      "text/plain": [
       "a - b⋅q₁ - b⋅(q₁ + q₂) - c"
      ]
     },
     "execution_count": 4,
     "metadata": {},
     "output_type": "execute_result"
    }
   ],
   "source": [
    "# In order to find the Cournot equilibrium, we need to begin by differentiating the two profit functions\n",
    "# Here we use the sympy fuctionality to differentiante the profit function with regards to the qunatity\n",
    "foc1=sm.diff(pi1,q1)\n",
    "foc1"
   ]
  },
  {
   "cell_type": "code",
   "execution_count": 5,
   "metadata": {},
   "outputs": [
    {
     "data": {
      "image/png": "[encoded data removed]",
      "text/latex": [
       "$$a - b q_{2} - b \\left(q_{1} + q_{2}\\right) - c$$"
      ],
      "text/plain": [
       "a - b⋅q₂ - b⋅(q₁ + q₂) - c"
      ]
     },
     "execution_count": 5,
     "metadata": {},
     "output_type": "execute_result"
    }
   ],
   "source": [
    "# Same as above, for firm 2\n",
    "foc2=sm.diff(pi2,q2)\n",
    "foc2"
   ]
  },
  {
   "cell_type": "markdown",
   "metadata": {},
   "source": [
    "Setting first order conditions to 0 and solving for the respective firms produced quantitiy (q1 and q2), give us the optimal qunatities the two firms should produce, given the other firms output (reaction functions)."
   ]
  },
  {
   "cell_type": "code",
   "execution_count": 6,
   "metadata": {},
   "outputs": [
    {
     "data": {
      "image/png": "[encoded data removed]",
      "text/latex": [
       "$$\\frac{a - b q_{2} - c}{2 b}$$"
      ],
      "text/plain": [
       "a - b⋅q₂ - c\n",
       "────────────\n",
       "    2⋅b     "
      ]
     },
     "execution_count": 6,
     "metadata": {},
     "output_type": "execute_result"
    }
   ],
   "source": [
    "#Here we again use the sympy functionality to set the function = 0 by using sm.Eq, and thereafter solving it for the quantity\n",
    "sol1= sm.solve(sm.Eq(foc1,0),q1)[0]\n",
    "sol1"
   ]
  },
  {
   "cell_type": "code",
   "execution_count": 7,
   "metadata": {},
   "outputs": [
    {
     "data": {
      "image/png": "[encoded data removed]",
      "text/latex": [
       "$$\\frac{a - b q_{1} - c}{2 b}$$"
      ],
      "text/plain": [
       "a - b⋅q₁ - c\n",
       "────────────\n",
       "    2⋅b     "
      ]
     },
     "execution_count": 7,
     "metadata": {},
     "output_type": "execute_result"
    }
   ],
   "source": [
    "#Same as above for firm 2\n",
    "sol2= sm.solve(sm.Eq(foc2,0),q2)[0]\n",
    "sol2"
   ]
  },
  {
   "cell_type": "markdown",
   "metadata": {},
   "source": [
    "The Cournot equlibrium is achieved, when substituting one firm's reaction function into the other firm's reaction function. This equlibrium constitutes the optimal quantity that both firms should produce, given that the other firm is rational and is aiming to produce the profit maximizing amount. \n",
    "\n",
    "We first substitute q2 in firm 1's fist order condition:"
   ]
  },
  {
   "cell_type": "code",
   "execution_count": 8,
   "metadata": {},
   "outputs": [
    {
     "data": {
      "image/png": "[encoded data removed]",
      "text/latex": [
       "$$a - b q_{1} - b \\left(q_{1} + \\frac{a - b q_{1} - c}{2 b}\\right) - c$$"
      ],
      "text/plain": [
       "             ⎛     a - b⋅q₁ - c⎞    \n",
       "a - b⋅q₁ - b⋅⎜q₁ + ────────────⎟ - c\n",
       "             ⎝         2⋅b     ⎠    "
      ]
     },
     "execution_count": 8,
     "metadata": {},
     "output_type": "execute_result"
    }
   ],
   "source": [
    "#Here we use sympy to substitute the optimizal quantity for firm 2, into the reaction curve for firm 1\n",
    "sol1_subs = foc1.subs(q2,sol2)\n",
    "sol1_subs"
   ]
  },
  {
   "cell_type": "markdown",
   "metadata": {},
   "source": [
    "We then solve the equation for q1, to get the Cournot equilibrium, which is dependent on a,b and c. "
   ]
  },
  {
   "cell_type": "code",
   "execution_count": 9,
   "metadata": {},
   "outputs": [
    {
     "data": {
      "image/png": "[encoded data removed]",
      "text/latex": [
       "$$\\left [ \\frac{a - c}{3 b}\\right ]$$"
      ],
      "text/plain": [
       "⎡a - c⎤\n",
       "⎢─────⎥\n",
       "⎣ 3⋅b ⎦"
      ]
     },
     "execution_count": 9,
     "metadata": {},
     "output_type": "execute_result"
    }
   ],
   "source": [
    "#Lastly we use the sympy functionality to solve the equilibrium for the quantity of q1\n",
    "sol1_subs_solve = sm.solve(sm.Eq(sol1_subs,0),q1)\n",
    "sol1_subs_solve"
   ]
  },
  {
   "cell_type": "markdown",
   "metadata": {},
   "source": [
    "## Numeric optimization"
   ]
  },
  {
   "cell_type": "markdown",
   "metadata": {},
   "source": [
    "An alternative approach to the symbolic analysis of the Cournot equilibrium, is a numeric solution. The SciPy package has multiple good tools, to optimize a function numerically. This way of solving the Cournot model is redundant when it is easy to solve it symbolically, but the numeric optimization is good for more complex problems. "
   ]
  },
  {
   "cell_type": "code",
   "execution_count": 10,
   "metadata": {},
   "outputs": [],
   "source": [
    "#We begin by defining a demand function "
   ]
  },
  {
   "cell_type": "code",
   "execution_count": 11,
   "metadata": {},
   "outputs": [],
   "source": [
    "#Here the demand function is a liniar function, determined by the quantity that the two firms produce, and a substitution \n",
    "# elasticity parameter (b).\n",
    "\n",
    "def demand(q1,q2,b=1,a=100,):\n",
    "    \"\"\"This function returns the demand based on the substitution parameter and the parameter a.\n",
    "    \n",
    "    args: \n",
    "        q1 & q2 = the quantities for form 1 and firm 2\n",
    "        a = a is a paramter that determines the price. The default is 100\n",
    "        b = is a parameter for the substitution elasticity between q1 and q2. Should be between 0 and 1.\n",
    "            1 is perfect susbtitution\n",
    "        \"\"\"\n",
    "    \n",
    "    return a-q1-b*q2\n",
    "\n",
    "#in order to maximixe profits, we still need a cost function. This is simply given by the cost times the quantity\n",
    "def cost(q,c):\n",
    "    \"\"\"This function return the total costs of a firm\n",
    "    \n",
    "    args: \n",
    "        q = the quantity for the firm\n",
    "        c = the cost of each product\n",
    "        \n",
    "    \"\"\"\n",
    "    \n",
    "    cost = c*q\n",
    "    return cost"
   ]
  },
  {
   "cell_type": "code",
   "execution_count": 12,
   "metadata": {},
   "outputs": [],
   "source": [
    "#Based on this demand function we can define a profit function. \n",
    "#This function returns the profit (demand * revenue), for firm 1, given firm 2 produces a given amount of product, \n",
    "#and given equal prices\n",
    "def profit(q1,q2,c,b):\n",
    "    \"\"\"This function takes the quantities, cost and substitution paramter and returns the profit, as the demand - the costs\n",
    "    \n",
    "    args: \n",
    "        q1 & q2 = the quantities of the two firms \n",
    "        c = the cost of the production of one unit, assumed constant in this function\n",
    "        b = the substitution paramter\n",
    "        \n",
    "        \"\"\"\n",
    "    return demand(q1,q2,b)*q1-cost(q1,c)\n"
   ]
  },
  {
   "cell_type": "code",
   "execution_count": 13,
   "metadata": {},
   "outputs": [],
   "source": [
    "#Armed with this profit function, it is possible to optimize the profit of firm 1, given a production of firm 2"
   ]
  },
  {
   "cell_type": "code",
   "execution_count": 14,
   "metadata": {},
   "outputs": [],
   "source": [
    "def num_reaction(q2,c,b):\n",
    "    \"\"\"This function minimizes the profit for firm 1, given the production of firm 2, the cost and the substitution parameter. \n",
    "        The function returns -min profit, as minimazation, is preffered to maximazation. The function uses an annonymous \n",
    "        function, which is just minus the profit function, to minimize over. \n",
    "        \n",
    "    args: \n",
    "        q2 = The quantity of firm 2 - should be between 0-100 as a is 100 as default\n",
    "        c  = The cost associated with producing one unit\n",
    "        b  = The substitution parameter\n",
    "    \"\"\"\n",
    "    \n",
    "    q1_opt = optimize.minimize(lambda x: -profit(x,q2,c,b), x0=1,)\n",
    "                                                                 \n",
    "    return q1_opt\n",
    "\n"
   ]
  },
  {
   "cell_type": "code",
   "execution_count": 15,
   "metadata": {},
   "outputs": [
    {
     "data": {
      "text/plain": [
       "      fun: -600.249999999997\n",
       " hess_inv: array([[0.50000008]])\n",
       "      jac: array([7.62939453e-06])\n",
       "  message: 'Optimization terminated successfully.'\n",
       "     nfev: 15\n",
       "      nit: 3\n",
       "     njev: 5\n",
       "   status: 0\n",
       "  success: True\n",
       "        x: array([24.50000178])"
      ]
     },
     "execution_count": 15,
     "metadata": {},
     "output_type": "execute_result"
    }
   ],
   "source": [
    "#We calculate the optimal quantity for firm 1, given that firm 2 produces 50, that the cost is 1 and that they are \n",
    "# producing perfect substitutes\n",
    "num_reaction(50,1,1)"
   ]
  },
  {
   "cell_type": "markdown",
   "metadata": {},
   "source": [
    "The optimazation shows that the optimal production for firm 1 given that firm 2 produces 50, is 24,5\n",
    "\n",
    "This numeric analysis could be extented to solving the equilibrium. However, in this project we will analyse the \n",
    "equilibrium using a symbolic approach, as it is easy to do in the case of the Counnot equilibrium"
   ]
  },
  {
   "cell_type": "markdown",
   "metadata": {},
   "source": [
    "## Gettting to equilibrium"
   ]
  },
  {
   "cell_type": "markdown",
   "metadata": {},
   "source": [
    "In this secton we will first define and show the reaction functions. Hereafter we will calculate Cournot equilibrum. Afterwards we will visualize the reaction curves, showing the Cournot quilibrium. "
   ]
  },
  {
   "cell_type": "code",
   "execution_count": 16,
   "metadata": {},
   "outputs": [],
   "source": [
    "#To begin we define a function for the reaction of one firms quantity to the other firms quantity\n",
    "def reaction(q_other, a=100, b=1, cost=1,print_it=False):\n",
    "    \"\"\"This function calulates the quantity that a firm will produce, given the other firms production, and some parameters.\n",
    "        It can also do some prettified printing\n",
    "        \n",
    "        args:\n",
    "            q_other = the production of the other firm. should not exceed a\n",
    "            a = a parameter in the price function. \n",
    "            b = a parameter determing the substitution elasticity between firm 1 and firm 2s product \n",
    "            print_it = Boolean argument. If True print the results as a sentence, and does not retun the quantity\n",
    "            \n",
    "        \"\"\"\n",
    "    #I define the quantity of firm 1 as a function of the other firm production\n",
    "    quantity = (a-b*q_other - cost)/2*b\n",
    "    \n",
    "    #If print_it is True the function will return a readeble sentence instead of the quantity. Use this only for presentation\n",
    "    if print_it:\n",
    "        print(\"Given the other firm produces\",q_other,\"The firm will produce\", quantity, sep=\" \")\n",
    "        return\n",
    "    else:\n",
    "        return quantity\n"
   ]
  },
  {
   "cell_type": "markdown",
   "metadata": {},
   "source": [
    "Using the reaction function, we can now calculate the quatity that firm 1 produces, given firm 2's quantity "
   ]
  },
  {
   "cell_type": "code",
   "execution_count": 17,
   "metadata": {},
   "outputs": [
    {
     "name": "stdout",
     "output_type": "stream",
     "text": [
      "Given the other firm produces 50 The firm will produce 24.5\n"
     ]
    },
    {
     "data": {
      "text/plain": [
       "<function __main__.reaction(q_other, a=100, b=1, cost=1, print_it=False)>"
      ]
     },
     "execution_count": 17,
     "metadata": {},
     "output_type": "execute_result"
    }
   ],
   "source": [
    "#I define a widgets slider object, that i will use to make the reaction function interactive \n",
    "qslider = widgets.IntSlider(min=0,max=100,step=1,value=50)\n",
    "\n",
    "#I use the interact function on the reaction function, fixing a to 100, b and cost to 1, and print_it to True.\n",
    "#This means that the only thing that can be interacted with is the qunatity of the other firm. \n",
    "widgets.interact(reaction,q_other = qslider,a=widgets.fixed(100),b=widgets.fixed(1),cost=widgets.fixed(1),print_it=widgets.fixed(True))"
   ]
  },
  {
   "cell_type": "markdown",
   "metadata": {},
   "source": [
    "The reader will remember that the numerical optimazation estimated the equilibrium to 24.5, given the other firm produces 50. This is the the correct value, as can be seen in the interactive slider above.\n",
    "\n",
    "While this is interesting, theory tells us that firms will always end in the Cournout equilibrium, given fixed costs and prices, as this maximises profits. "
   ]
  },
  {
   "cell_type": "code",
   "execution_count": 18,
   "metadata": {},
   "outputs": [
    {
     "name": "stdout",
     "output_type": "stream",
     "text": [
      "The equilibrium we derived earlier as:\n"
     ]
    },
    {
     "data": {
      "image/png": "[encoded data removed]",
      "text/latex": [
       "$$\\left [ \\frac{a - c}{3 b}\\right ]$$"
      ],
      "text/plain": [
       "⎡a - c⎤\n",
       "⎢─────⎥\n",
       "⎣ 3⋅b ⎦"
      ]
     },
     "execution_count": 18,
     "metadata": {},
     "output_type": "execute_result"
    }
   ],
   "source": [
    "print(\"The equilibrium we derived earlier as:\")\n",
    "sol1_subs_solve\n",
    "\n"
   ]
  },
  {
   "cell_type": "markdown",
   "metadata": {},
   "source": [
    "We now define a function that expreses the equilibrium, so that we can calculate the equilibrium given any values of the parameters"
   ]
  },
  {
   "cell_type": "code",
   "execution_count": 19,
   "metadata": {},
   "outputs": [],
   "source": [
    "def optimal(a, b, cost, text=True):\n",
    "    \n",
    "    \"\"\"This function calculates the equilibrium that we have derived using the sympy functionality. It can also print it\n",
    "        in a nice way \n",
    "        \n",
    "    args: \n",
    "        a = a parameter in the price function. \n",
    "        b = a paramter determening the substitution elasticity between firm 1 and firm 2. Should be between 0 and 1\n",
    "        cost = the cost of the firms of produces a unit, here assumed equal \n",
    "        text = Boolean, if True prints the equilibrium and the parameters in a readeble way, \n",
    "                if false just return equilibrium value. True by default.\n",
    "    \n",
    "    \"\"\"\n",
    "    #defining the equilibrium as derived\n",
    "    equilibrium = (a-cost)/3*b\n",
    "    #Then i round the equilibrium value, as we assume that the product they procuce is discrete (no half cars allowed)\n",
    "    equilibrium = round(equilibrium,0)\n",
    "    \n",
    "    #if text is false the function returns the equilibrium value\n",
    "    if text==False:\n",
    "        return equilibrium\n",
    "    #if text is true (default), then the function does not return the equilibrium value, but instead prints a readeble line of text\n",
    "    else:\n",
    "        print(\"The Cournot equilibrium, given that\",\"a =\",a,\", b =\",b,\"and that cost =\",cost,\",\",\"is:\",equilibrium)\n"
   ]
  },
  {
   "cell_type": "code",
   "execution_count": 20,
   "metadata": {},
   "outputs": [
    {
     "name": "stdout",
     "output_type": "stream",
     "text": [
      "Given a = 100, b= 1 and cost = 1, is: 33.0\n"
     ]
    }
   ],
   "source": [
    "print(\"Given a = 100, b= 1 and cost = 1, is:\",optimal(100,1,1,text=False))"
   ]
  },
  {
   "cell_type": "markdown",
   "metadata": {},
   "source": [
    "This function can calculate the value of the equilibrium. We use this interactivly below."
   ]
  },
  {
   "cell_type": "code",
   "execution_count": 21,
   "metadata": {},
   "outputs": [
    {
     "name": "stdout",
     "output_type": "stream",
     "text": [
      "The Cournot equilibrium, given that a = 100 , b = 1.0 and that cost = 1 , is: 33.0\n"
     ]
    },
    {
     "data": {
      "text/plain": [
       "<function __main__.optimal(a, b, cost, text=True)>"
      ]
     },
     "execution_count": 21,
     "metadata": {},
     "output_type": "execute_result"
    }
   ],
   "source": [
    "#I define 3 sliders with default values. This allows us to calculate the equilibrium interactively \n",
    "a_slider = widgets.IntSlider(min=10,max=150,step=1,value=100)\n",
    "b_slider = widgets.FloatSlider(min=0,max=1,step=0.1,value=1)\n",
    "cost_slider = widgets.IntSlider(min=0,max=50,step=1,value=1)\n",
    "\n",
    "#I use the inteact function on the optimal function, and use the slideres defined as inputs.\n",
    "widgets.interact(optimal,a=a_slider,b=b_slider,cost=cost_slider)"
   ]
  },
  {
   "cell_type": "markdown",
   "metadata": {},
   "source": [
    "## Visualization"
   ]
  },
  {
   "cell_type": "markdown",
   "metadata": {},
   "source": [
    "The relation between two firms output quantity decision can also be shown visualy. To do this, I begin by defining a function that creates a plot. "
   ]
  },
  {
   "cell_type": "code",
   "execution_count": 22,
   "metadata": {},
   "outputs": [],
   "source": [
    "def reaction_plot(q_other, a=100, b=1, cost=1,scatter=True, price = False):\n",
    "\n",
    "    \"\"\"This function calculates the two firms reaction functions, and plots these as lines.\n",
    "    \n",
    "        Args: \n",
    "            q_other = The quantity of firm 2\n",
    "            a = a parameter from the price function, default is 100\n",
    "            b = a parameter determening the substituttion elsticity between firm 1 and firm 2s goods\n",
    "            cost = the cost of producing a unit for the firms\n",
    "            scatter = boolean. If true returns a scatter plot, else retusn a line plot\n",
    "            price = boolean. If true return the price in the equilibrium\n",
    "    \n",
    "    \n",
    "    \"\"\"\n",
    "    \n",
    "    #Begin by calculating the quantity firm 1 will produce given firm 2s production \n",
    "    quantity = reaction(q_other,a, b, cost)\n",
    "    \n",
    "    #I create two plots, either scatter or line plots. \n",
    "    if scatter == True :\n",
    "        plt.scatter(quantity,q_other,label = \"Firm 1's reaction curve\")\n",
    "        plt.scatter(q_other,quantity,label = \"Firm 2's reaction curve\")\n",
    "    else : \n",
    "        plt.plot(quantity,q_other,label = \"Firm 1's reaction curve\")\n",
    "        plt.plot(q_other,quantity,label = \"Firm 2's reaction curve\")\n",
    "        \n",
    "    #I create labels, legens and limits\n",
    "    plt.xlabel(\"Firm 1 quantity\")\n",
    "    plt.ylabel(\"Firm 2 quantity\")\n",
    "    plt.legend()\n",
    "    plt.xlim(0,100)\n",
    "    plt.ylim(0,100)\n",
    "    \n",
    "    #Estimate the price if price == True \n",
    "    if price :\n",
    "        price = a-b*(q_other+quantity)\n",
    "        return price\n",
    "    plt.show()\n",
    "    return "
   ]
  },
  {
   "cell_type": "code",
   "execution_count": 23,
   "metadata": {},
   "outputs": [
    {
     "data": {
      "image/png": "[encoded data removed]",
      "text/plain": [
       "<Figure size 432x288 with 1 Axes>"
      ]
     },
     "metadata": {
      "needs_background": "light"
     },
     "output_type": "display_data"
    }
   ],
   "source": [
    "#I choose 1000 values between 0 and 100 as x\n",
    "x = np.linspace(0, 100, 1000);\n",
    "\n",
    "#Then I plot these as a line plot\n",
    "reaction_plot(q_other=x,scatter=False)"
   ]
  },
  {
   "cell_type": "markdown",
   "metadata": {},
   "source": [
    "This plot shows us visually that the conclusion that the equilibrium can be found where both firms produce 33 holds up. This is given a set of parameters though, and it might be nice to see how the equilibrium behaves, when we change these. In peticualar, changes to b can show what happens when the firms goods are not perfect substitutes. Therefore we make the plot interactive below."
   ]
  },
  {
   "cell_type": "code",
   "execution_count": 24,
   "metadata": {
    "scrolled": true
   },
   "outputs": [
    {
     "data": {
      "image/png": "[encoded data removed]",
      "text/plain": [
       "<Figure size 432x288 with 1 Axes>"
      ]
     },
     "metadata": {
      "needs_background": "light"
     },
     "output_type": "display_data"
    },
    {
     "data": {
      "text/plain": [
       "<function __main__.reaction_plot(q_other, a=100, b=1, cost=1, scatter=True, price=False)>"
      ]
     },
     "execution_count": 24,
     "metadata": {},
     "output_type": "execute_result"
    }
   ],
   "source": [
    "#We define some sliders for the parameters\n",
    "ai_slider = widgets.IntSlider(min=10,max=150,step=1,value=100)\n",
    "bi_slider = widgets.FloatSlider(min=0,max=1,step=0.1,value=1)\n",
    "costi_slider = widgets.IntSlider(min=1,max=50,step=1,value=1)\n",
    "\n",
    "#Here we call the intercat function on the reaction_plot function, to get an interactive plot. We fix the input of the other \n",
    "# firm is to be x again, and the plot is to be a line. \n",
    "widgets.interact(reaction_plot,q_other=widgets.fixed(x),a=ai_slider,b=bi_slider,cost=costi_slider, scatter = widgets.fixed(False), price = widgets.fixed(False))\n",
    "\n"
   ]
  },
  {
   "cell_type": "markdown",
   "metadata": {},
   "source": [
    "# Prices"
   ]
  },
  {
   "cell_type": "markdown",
   "metadata": {},
   "source": [
    "The Cournot equilibrium is mostly concerned with figuring out the qunatity of product that the firms should produce. But it is also possible to calculate the price of the product in equilibrium, given a set of parameters. "
   ]
  },
  {
   "cell_type": "code",
   "execution_count": 25,
   "metadata": {},
   "outputs": [
    {
     "data": {
      "image/png": "[encoded data removed]",
      "text/latex": [
       "$$\\frac{a}{3} + \\frac{2 c}{3}$$"
      ],
      "text/plain": [
       "a   2⋅c\n",
       "─ + ───\n",
       "3    3 "
      ]
     },
     "execution_count": 25,
     "metadata": {},
     "output_type": "execute_result"
    }
   ],
   "source": [
    "#Here we put in the price and the symbollic estimation of it. We use sympy to substitute q1 for the optimal q1 and q2\n",
    "# into the price functions\n",
    "price_1 = p1.subs([(q1,sol1_subs_solve[0]), (q2, sol1_subs_solve[0])])\n",
    "price_1\n"
   ]
  },
  {
   "cell_type": "code",
   "execution_count": 26,
   "metadata": {},
   "outputs": [
    {
     "data": {
      "image/png": "[encoded data removed]",
      "text/latex": [
       "$$- \\frac{c \\left(a - c\\right)}{3 b} + \\frac{\\left(\\frac{a}{3} + \\frac{2 c}{3}\\right) \\left(a - c\\right)}{3 b}$$"
      ],
      "text/plain": [
       "              ⎛a   2⋅c⎞        \n",
       "              ⎜─ + ───⎟⋅(a - c)\n",
       "  c⋅(a - c)   ⎝3    3 ⎠        \n",
       "- ───────── + ─────────────────\n",
       "     3⋅b             3⋅b       "
      ]
     },
     "execution_count": 26,
     "metadata": {},
     "output_type": "execute_result"
    }
   ],
   "source": [
    "#Then we substitute in the prices in the profit function\n",
    "pi = pi1.subs([(p1,price_1), (q1,sol1_subs_solve[0])])\n",
    "pi"
   ]
  },
  {
   "cell_type": "markdown",
   "metadata": {},
   "source": [
    "The price in equilibrium only depends on the 3 paramters a, b and c. We therefore write a function that takes these arguments and returns the equilibrium price."
   ]
  },
  {
   "cell_type": "code",
   "execution_count": 27,
   "metadata": {},
   "outputs": [],
   "source": [
    "def price_eq(q_other, a = 100, b = 1, cost = 1):\n",
    "    \"\"\"This function calculates the price, and the quantity in the cournot equilibrum, given firm 2s quantity and\n",
    "        some parameter. It prints the results nicely. There is also a check of whether or not prices are above 0, which they\n",
    "        should be.\n",
    "        \n",
    "    args: \n",
    "        q_other = the quantity of the other firm \n",
    "        a = a parameter from the pricefunction, default is 100\n",
    "        b = a parameter determening the substituttion elsticity between firm 1 and firm 2s goods\n",
    "        cost = the two firms cost of producing a unit\n",
    "    \n",
    "    \"\"\"\n",
    "    \n",
    "    #We begin by calculating firm 1s quantity given firm 2s produciton\n",
    "    q = reaction(q_other, a, b, cost)\n",
    "    \n",
    "    #We then calculate the price \n",
    "    price = round(a/3 + (2*cost)/3,0)\n",
    "\n",
    "    #Then we calculate the counot equilibrium given a, b and cost\n",
    "    opt_q = optimal(a, b, cost, text = False)\n",
    "    \n",
    "    #If prices are above 0 we print the price and q in equilibrium, and the quantity that the firms will produce, given \n",
    "    # the current production of firm 2 (q_other)\n",
    "    if price > 0:\n",
    "        print(\"The price in the Cournot equilibrium is\",price)\n",
    "        print(\"The quantity that the two firms will produce in the Cournot equilibrium is\",opt_q)\n",
    "        print(\"When firm 2 produces\",q_other,\"then firm 1 will produce\",q)\n",
    "    else:\n",
    "        print(\"Price can't be negative\")\n",
    "    "
   ]
  },
  {
   "cell_type": "code",
   "execution_count": 28,
   "metadata": {},
   "outputs": [
    {
     "name": "stdout",
     "output_type": "stream",
     "text": [
      "The price in the Cournot equilibrium is 34.0\n",
      "The quantity that the two firms will produce in the Cournot equilibrium is 33.0\n",
      "When firm 2 produces 50 then firm 1 will produce 24.5\n"
     ]
    },
    {
     "data": {
      "text/plain": [
       "<function __main__.price_eq(q_other, a=100, b=1, cost=1)>"
      ]
     },
     "execution_count": 28,
     "metadata": {},
     "output_type": "execute_result"
    }
   ],
   "source": [
    "#I define some slideres for the interactive calculator\n",
    "qp_slider = widgets.IntSlider(min=10,max=101,step=1,value=50)\n",
    "ap_slider = widgets.IntSlider(min=10,max=100,step=1,value=100)\n",
    "bp_slider = widgets.FloatSlider(min=0,max=1,step=0.1,value=1)\n",
    "costp_slider = widgets.IntSlider(min=1,max=50,step=1,value=1)\n",
    "\n",
    "#I use the interact function on the price_eq function, using the sliders previously defined \n",
    "widgets.interact(price_eq,q_other=qp_slider, a = ap_slider, b= bp_slider, cost = costp_slider)"
   ]
  },
  {
   "cell_type": "markdown",
   "metadata": {},
   "source": [
    "The calcultor can be used to se how prices and the equilibrium will react to changes in the parameters. "
   ]
  },
  {
   "cell_type": "code",
   "execution_count": 29,
   "metadata": {},
   "outputs": [],
   "source": [
    "#definition of the cost which is a function of the quantity\n",
    "#here n is the quantity and C the cost. The letters are not the same as before to avoid conflict\n",
    "def cost(n,C) :\n",
    "    if n == 0:\n",
    "        cost = 0\n",
    "    else:\n",
    "        cost = C*n\n",
    "    return cost"
   ]
  },
  {
   "cell_type": "code",
   "execution_count": 30,
   "metadata": {},
   "outputs": [],
   "source": [
    "#definition of the demand function\n",
    "#we take our price function (a-b*(q1+q2)) and set a=1 in this exercice. b is a coefficient which represent the impact of the quantity on the price\n",
    "#Indeed less a production is rare less the price will be. We can also add a coefficient \"k\" which can represent the heterogeneity\n",
    "#between q1 and q2 but we will juste assume the perfect substitution in our problem set\n",
    "def demand(n1,n2,B):\n",
    "    return 1 - B*(n1+n2)"
   ]
  },
  {
   "cell_type": "code",
   "execution_count": 31,
   "metadata": {},
   "outputs": [],
   "source": [
    "#we define the profit as the demand function minus the cost function given the quantity n1, n2, the cost C and B.\n",
    "def profit1(n1,n2,C,B):\n",
    "    return demand(n1,n2,B)*n1 - cost(n1,C)"
   ]
  },
  {
   "cell_type": "code",
   "execution_count": 32,
   "metadata": {},
   "outputs": [],
   "source": [
    "#As priviously, in a cournot model the firms set their quantities (production) given the quantity of the other firm.\n",
    "#Which is why we need the reaction function and to get it we have to maximize (here minimize -f(x)) the profit function.\n",
    "def reacfunction(n1,n2,C,B):\n",
    "    x1 = optimize.brute(lambda n1: -profit1(n1,n2,C,B), ((0,1,),)) # brute minimizes the function;\n",
    "    return x1[0]"
   ]
  },
  {
   "cell_type": "code",
   "execution_count": 33,
   "metadata": {},
   "outputs": [],
   "source": [
    "#we define a vector which take the vector first guess and the vector parameters (that we will define after) as input for our model\n",
    "def vector_reaction(x,param):\n",
    "    return np.array(x)-np.array([reacfunction(x[0],x[1],param[1],param[0]),reacfunction(x[1],x[0],param[2],param[0])])"
   ]
  },
  {
   "cell_type": "code",
   "execution_count": 34,
   "metadata": {},
   "outputs": [
    {
     "data": {
      "text/plain": [
       "array([33.33330078, 33.33330078])"
      ]
     },
     "execution_count": 34,
     "metadata": {},
     "output_type": "execute_result"
    }
   ],
   "source": [
    "#we create a vector with the value of the parameters \n",
    "#it has to be [B, C1, C2]\n",
    "param = [0.01,0.0,0.0]\n",
    "#we create a vectore with the two initial guess of n1 and n2\n",
    "x0 = [0.3, 0.3]\n",
    "\n",
    "#we solve this model given our param vector and the initial guess to get the equilibrium\n",
    "answer = optimize.fsolve(vector_reaction, x0, args = (param))\n",
    "answer"
   ]
  },
  {
   "cell_type": "code",
   "execution_count": 35,
   "metadata": {},
   "outputs": [],
   "source": [
    "#The result is pretty closed of the equilibrium which is 33/33"
   ]
  },
  {
   "cell_type": "code",
   "execution_count": null,
   "metadata": {},
   "outputs": [],
   "source": []
  }
 ],
 "metadata": {
  "kernelspec": {
   "display_name": "Python 3",
   "language": "python",
   "name": "python3"
  },
  "language_info": {
   "codemirror_mode": {
    "name": "ipython",
    "version": 3
   },
   "file_extension": ".py",
   "mimetype": "text/x-python",
   "name": "python",
   "nbconvert_exporter": "python",
   "pygments_lexer": "ipython3",
   "version": "3.7.1"
  }
 },
 "nbformat": 4,
 "nbformat_minor": 2
}
