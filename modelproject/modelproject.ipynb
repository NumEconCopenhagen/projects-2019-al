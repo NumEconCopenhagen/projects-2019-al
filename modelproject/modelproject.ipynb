{
 "cells": [
  {
   "cell_type": "code",
   "execution_count": 1,
   "metadata": {},
   "outputs": [
    {
     "name": "stdout",
     "output_type": "stream",
     "text": [
      "The autoreload extension is already loaded. To reload it, use:\n",
      "  %reload_ext autoreload\n"
     ]
    }
   ],
   "source": [
    "#This is where we will write our project "
   ]
  },
  {
   "cell_type": "code",
   "execution_count": 1,
   "metadata": {},
   "outputs": [],
   "source": [
    "import numpy as np\n",
    "import scipy as sp\n",
    "import sympy as sm\n",
    "import matplotlib.pyplot as plt\n",
    "import ipywidgets as widgets\n",
    "sm.init_printing(use_unicode=True)\n"
   ]
  },
  {
   "cell_type": "code",
   "execution_count": 37,
   "metadata": {},
   "outputs": [],
   "source": [
    "#defining all variables as symby symbols \n",
    "q1 = sm.symbols('q_1')\n",
    "q2 = sm.symbols('q_2')\n",
    "c = sm.symbols('c')\n",
    "a = sm.symbols('a')\n",
    "pi1 = sm.symbols('pi_1')\n",
    "pi2 = sm.symbols('pi_2')\n",
    "p1 = (a-(q1+q2))\n",
    "p2 = (a-(q1+q2))\n",
    "pi1 =(p1*q1-c*q1)\n",
    "pi2 = (p2*q2-c*q2)\n"
   ]
  },
  {
   "cell_type": "markdown",
   "metadata": {},
   "source": [
    "# In order to solve the cournot-quilibrium, we maximise the the quatity firm 1 produces"
   ]
  },
  {
   "cell_type": "code",
   "execution_count": 34,
   "metadata": {},
   "outputs": [
    {
     "data": {
      "image/png": "[encoded data removed]",
      "text/latex": [
       "$$\\frac{a}{2} - \\frac{c}{2} - \\frac{q_{1}}{2}$$"
      ],
      "text/plain": [
       "a   c   q₁\n",
       "─ - ─ - ──\n",
       "2   2   2 "
      ]
     },
     "execution_count": 34,
     "metadata": {},
     "output_type": "execute_result"
    }
   ],
   "source": [
    "\n",
    "#Take the derivative wrt. to q1 to get the optimal quantity of firm 1:\n",
    "\n",
    "foc1=sm.diff(pi1,q1)\n",
    "foc1\n",
    "\n",
    "foc2=sm.diff(pi2,q2)\n",
    "foc2\n",
    "\n",
    "sol1= sm.solve(sm.Eq(foc1,0),q1)[0]\n",
    "sol1\n",
    "\n",
    "sol2= sm.solve(sm.Eq(foc2,0),q2)[0]\n",
    "sol2\n"
   ]
  },
  {
   "cell_type": "code",
   "execution_count": null,
   "metadata": {},
   "outputs": [],
   "source": []
  },
  {
   "cell_type": "code",
   "execution_count": null,
   "metadata": {},
   "outputs": [],
   "source": [
    "\n"
   ]
  },
  {
   "cell_type": "code",
   "execution_count": 36,
   "metadata": {},
   "outputs": [],
   "source": [
    "#define a function that plots a firms reaction curve\n",
    "\n",
    "def react(quantity_1, quantity_2, price_1, price_2, cost):\n",
    "    pi1 = sm.symbols('pi_1')\n",
    "    pi2 = sm.symbols('pi_2')\n",
    "    \n",
    "    pi1 =(price_1*quatity_1-cost*quatity_1)\n",
    "    pi2 =(price_2*quatity_2-cost*quatity_2)\n",
    "    \n",
    "    foc1=sm.diff(pi1,quantity_1)\n",
    "    foc2=sm.diff(pi2,quantity_2)\n",
    "    \n",
    "    sol1= sm.solve(sm.Eq(foc1,0),quantity_1)[0]\n",
    "    sol2= sm.solve(sm.Eq(foc2,0),quantity_2)[0]\n",
    "    \n",
    "    return "
   ]
  },
  {
   "cell_type": "code",
   "execution_count": 39,
   "metadata": {},
   "outputs": [
    {
     "ename": "NameError",
     "evalue": "name 'quatity_1' is not defined",
     "output_type": "error",
     "traceback": [
      "\u001b[1;31m---------------------------------------------------------------------------\u001b[0m",
      "\u001b[1;31mNameError\u001b[0m                                 Traceback (most recent call last)",
      "\u001b[1;32m<ipython-input-39-18a9c83e7b01>\u001b[0m in \u001b[0;36m<module>\u001b[1;34m\u001b[0m\n\u001b[1;32m----> 1\u001b[1;33m \u001b[0mreact\u001b[0m\u001b[1;33m(\u001b[0m\u001b[0mq1\u001b[0m\u001b[1;33m,\u001b[0m\u001b[0mq2\u001b[0m\u001b[1;33m,\u001b[0m\u001b[0mp1\u001b[0m\u001b[1;33m,\u001b[0m\u001b[0mp2\u001b[0m\u001b[1;33m,\u001b[0m\u001b[0mc\u001b[0m\u001b[1;33m)\u001b[0m\u001b[1;33m\u001b[0m\u001b[1;33m\u001b[0m\u001b[0m\n\u001b[0m",
      "\u001b[1;32m<ipython-input-36-4ac0e3295d1d>\u001b[0m in \u001b[0;36mreact\u001b[1;34m(quantity_1, quantity_2, price_1, price_2, cost)\u001b[0m\n\u001b[0;32m      5\u001b[0m     \u001b[0mpi2\u001b[0m \u001b[1;33m=\u001b[0m \u001b[0msm\u001b[0m\u001b[1;33m.\u001b[0m\u001b[0msymbols\u001b[0m\u001b[1;33m(\u001b[0m\u001b[1;34m'pi_2'\u001b[0m\u001b[1;33m)\u001b[0m\u001b[1;33m\u001b[0m\u001b[1;33m\u001b[0m\u001b[0m\n\u001b[0;32m      6\u001b[0m \u001b[1;33m\u001b[0m\u001b[0m\n\u001b[1;32m----> 7\u001b[1;33m     \u001b[0mpi1\u001b[0m \u001b[1;33m=\u001b[0m\u001b[1;33m(\u001b[0m\u001b[0mprice_1\u001b[0m\u001b[1;33m*\u001b[0m\u001b[0mquatity_1\u001b[0m\u001b[1;33m-\u001b[0m\u001b[0mcost\u001b[0m\u001b[1;33m*\u001b[0m\u001b[0mquatity_1\u001b[0m\u001b[1;33m)\u001b[0m\u001b[1;33m\u001b[0m\u001b[1;33m\u001b[0m\u001b[0m\n\u001b[0m\u001b[0;32m      8\u001b[0m     \u001b[0mpi2\u001b[0m \u001b[1;33m=\u001b[0m\u001b[1;33m(\u001b[0m\u001b[0mprice_2\u001b[0m\u001b[1;33m*\u001b[0m\u001b[0mquatity_2\u001b[0m\u001b[1;33m-\u001b[0m\u001b[0mcost\u001b[0m\u001b[1;33m*\u001b[0m\u001b[0mquatity_2\u001b[0m\u001b[1;33m)\u001b[0m\u001b[1;33m\u001b[0m\u001b[1;33m\u001b[0m\u001b[0m\n\u001b[0;32m      9\u001b[0m \u001b[1;33m\u001b[0m\u001b[0m\n",
      "\u001b[1;31mNameError\u001b[0m: name 'quatity_1' is not defined"
     ]
    }
   ],
   "source": [
    "react(q1,q2,p1,p2,c)"
   ]
  },
  {
   "cell_type": "code",
   "execution_count": null,
   "metadata": {},
   "outputs": [],
   "source": []
  }
 ],
 "metadata": {
  "kernelspec": {
   "display_name": "Python 3",
   "language": "python",
   "name": "python3"
  },
  "language_info": {
   "codemirror_mode": {
    "name": "ipython",
    "version": 3
   },
   "file_extension": ".py",
   "mimetype": "text/x-python",
   "name": "python",
   "nbconvert_exporter": "python",
   "pygments_lexer": "ipython3",
   "version": "3.7.1"
  }
 },
 "nbformat": 4,
 "nbformat_minor": 2
}
