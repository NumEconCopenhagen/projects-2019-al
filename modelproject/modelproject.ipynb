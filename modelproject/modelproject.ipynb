{
 "cells": [
  {
   "cell_type": "code",
   "execution_count": 1,
   "metadata": {},
   "outputs": [
    {
     "name": "stdout",
     "output_type": "stream",
     "text": [
      "The autoreload extension is already loaded. To reload it, use:\n",
      "  %reload_ext autoreload\n"
     ]
    }
   ],
   "source": [
    "#This is where we will write our project "
   ]
  },
  {
   "cell_type": "code",
   "execution_count": 2,
   "metadata": {},
   "outputs": [],
   "source": [
    "import numpy as np\n",
    "import scipy as sp\n",
    "import sympy as sm\n",
    "import matplotlib.pyplot as plt\n",
    "import ipywidgets as widgets\n",
    "\n",
    "#We initiate our printing as nice equations, using the sympy package \n",
    "sm.init_printing(use_unicode=True)\n"
   ]
  },
  {
   "cell_type": "code",
   "execution_count": 13,
   "metadata": {},
   "outputs": [],
   "source": [
    "#defining all variables as symby symbols \n",
    "q1 = sm.symbols('q_1')\n",
    "q2 = sm.symbols('q_2')\n",
    "c = sm.symbols('c')\n",
    "a = sm.symbols('a')\n",
    "pi1 = sm.symbols('pi_1')\n",
    "pi2 = sm.symbols('pi_2')\n",
    "\n",
    "#Now we define the equations describing the relationship between the two firms \n",
    "#prices (p), costs(c), someting(a), revenue(pi) and quantity(q).\n",
    "p1 = (a-(q1+q2))\n",
    "p2 = (a-(q1+q2))\n",
    "pi1 =(p1*q1-c*q1)\n",
    "pi2 = (p2*q2-c*q2)\n"
   ]
  },
  {
   "cell_type": "markdown",
   "metadata": {},
   "source": [
    "# In order to solve the cournot-quilibrium, we maximise the the quatity firm 1 produces"
   ]
  },
  {
   "cell_type": "code",
   "execution_count": 4,
   "metadata": {},
   "outputs": [
    {
     "data": {
      "image/png": "[encoded data removed]",
      "text/latex": [
       "$$a - c - q_{1} - 2 q_{2}$$"
      ],
      "text/plain": [
       "a - c - q₁ - 2⋅q₂"
      ]
     },
     "execution_count": 4,
     "metadata": {},
     "output_type": "execute_result"
    }
   ],
   "source": [
    "\n",
    "#Take the derivative wrt. to q1 and q2 respecticly\n",
    "#to get the optimal quantity of firm 1 and firm 2:\n",
    "\n",
    "foc1=sm.diff(pi1,q1)\n",
    "foc1\n",
    "\n",
    "foc2=sm.diff(pi2,q2)\n",
    "foc2"
   ]
  },
  {
   "cell_type": "code",
   "execution_count": 5,
   "metadata": {},
   "outputs": [
    {
     "data": {
      "image/png": "[encoded data removed]",
      "text/latex": [
       "$$\\frac{a}{2} - \\frac{c}{2} - \\frac{q_{2}}{2}$$"
      ],
      "text/plain": [
       "a   c   q₂\n",
       "─ - ─ - ──\n",
       "2   2   2 "
      ]
     },
     "execution_count": 5,
     "metadata": {},
     "output_type": "execute_result"
    }
   ],
   "source": [
    "# We solve the first firms equation equal to 0\n",
    "sol1= sm.solve(sm.Eq(foc1,0),q1)[0]\n",
    "sol1"
   ]
  },
  {
   "cell_type": "code",
   "execution_count": 6,
   "metadata": {},
   "outputs": [
    {
     "data": {
      "image/png": "[encoded data removed]",
      "text/latex": [
       "$$\\frac{a}{2} - \\frac{c}{2} - \\frac{q_{1}}{2}$$"
      ],
      "text/plain": [
       "a   c   q₁\n",
       "─ - ─ - ──\n",
       "2   2   2 "
      ]
     },
     "execution_count": 6,
     "metadata": {},
     "output_type": "execute_result"
    }
   ],
   "source": [
    "# We solve the second firms equation equal to 0\n",
    "sol2= sm.solve(sm.Eq(foc2,0),q2)[0]\n",
    "sol2\n"
   ]
  },
  {
   "cell_type": "code",
   "execution_count": 7,
   "metadata": {},
   "outputs": [
    {
     "data": {
      "image/png": "[encoded data removed]",
      "text/latex": [
       "$$\\frac{a}{4} - \\frac{c}{4} + \\frac{q_{1}}{4}$$"
      ],
      "text/plain": [
       "a   c   q₁\n",
       "─ - ─ + ──\n",
       "4   4   4 "
      ]
     },
     "execution_count": 7,
     "metadata": {},
     "output_type": "execute_result"
    }
   ],
   "source": [
    "#We then substitute the q2 in equation 1\n",
    "sol1_subs = sol1.subs(q2,sol2)\n",
    "sol1_subs\n",
    "\n"
   ]
  },
  {
   "cell_type": "code",
   "execution_count": 8,
   "metadata": {},
   "outputs": [
    {
     "data": {
      "image/png": "[encoded data removed]",
      "text/latex": [
       "$$\\left [ - a + c\\right ]$$"
      ],
      "text/plain": [
       "[-a + c]"
      ]
     },
     "execution_count": 8,
     "metadata": {},
     "output_type": "execute_result"
    }
   ],
   "source": [
    "#then we solve the first equation for the quantity\n",
    "sol1_subs_solve = sm.solve(sm.Eq(sol1_subs,0),q1)\n",
    "sol1_subs_solve"
   ]
  },
  {
   "cell_type": "markdown",
   "metadata": {},
   "source": [
    "The optimal quantity for a firm to produce, that is the Cournot-Equilibrium, is described a the cost minus the (what ever a is) "
   ]
  },
  {
   "cell_type": "code",
   "execution_count": 10,
   "metadata": {},
   "outputs": [],
   "source": [
    "def max_quantity(a, cost):\n",
    "    quantity = cost - a\n",
    "    \n",
    "    return quantity"
   ]
  },
  {
   "cell_type": "code",
   "execution_count": 11,
   "metadata": {},
   "outputs": [
    {
     "data": {
      "image/png": "[encoded data removed]",
      "text/latex": [
       "$$25$$"
      ],
      "text/plain": [
       "25"
      ]
     },
     "execution_count": 11,
     "metadata": {},
     "output_type": "execute_result"
    }
   ],
   "source": []
  },
  {
   "cell_type": "code",
   "execution_count": null,
   "metadata": {},
   "outputs": [],
   "source": []
  }
 ],
 "metadata": {
  "kernelspec": {
   "display_name": "Python 3",
   "language": "python",
   "name": "python3"
  },
  "language_info": {
   "codemirror_mode": {
    "name": "ipython",
    "version": 3
   },
   "file_extension": ".py",
   "mimetype": "text/x-python",
   "name": "python",
   "nbconvert_exporter": "python",
   "pygments_lexer": "ipython3",
   "version": "3.7.1"
  }
 },
 "nbformat": 4,
 "nbformat_minor": 2
}
