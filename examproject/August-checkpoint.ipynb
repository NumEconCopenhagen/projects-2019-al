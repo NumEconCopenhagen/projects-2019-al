{
 "cells": [
  {
   "cell_type": "code",
   "execution_count": 1,
   "metadata": {},
   "outputs": [],
   "source": [
    "import random \n",
    "import sympy as sm\n",
    "import numpy as np\n",
    "import matplotlib.pyplot as plt\n",
    "import ipywidgets as widgets\n",
    "from scipy import optimize\n",
    "\n",
    "#setting nice printing and seed\n",
    "sm.init_printing(use_unicode=True)\n",
    "random.seed(12848174)"
   ]
  },
  {
   "cell_type": "code",
   "execution_count": 2,
   "metadata": {},
   "outputs": [],
   "source": [
    "rho = sm.symbols('rho')\n",
    "beta = sm.symbols('beta')\n",
    "gamma = sm.symbols('gamma')\n",
    "w = sm.symbols('w')\n",
    "b = sm.symbols('b')\n",
    "delta = sm.symbols('Delta')\n",
    "h1 = sm.symbols('h_1')\n",
    "h2 = sm.symbols('h_2')\n",
    "c1 = sm.symbols('c1')\n",
    "c2 = sm.symbols('c2')\n",
    "l1 = sm.symbols('l1')\n",
    "l2 = sm.symbols('l2')\n",
    "exp = sm.symbols('E[v_2(h_2)]')\n",
    "u = sm.symbols(\"u\")"
   ]
  },
  {
   "cell_type": "code",
   "execution_count": 3,
   "metadata": {},
   "outputs": [
    {
     "data": {
      "image/png": "[encoded data removed]",
      "text/latex": [
       "$$\\frac{c_{2}^{- \\rho + 1}}{- \\rho + 1} - \\gamma l_{2}$$"
      ],
      "text/plain": [
       "  -ρ + 1       \n",
       "c₂             \n",
       "──────── - γ⋅l₂\n",
       " -ρ + 1        "
      ]
     },
     "execution_count": 3,
     "metadata": {},
     "output_type": "execute_result"
    }
   ],
   "source": [
    "u2 = (c2**(1-rho))/(1-rho)\n",
    "dis_u2 = gamma*l2\n",
    "total_u2 = u2 - dis_u2\n",
    "h2_f = (h1 + l1)\n",
    "c2_f = w*h2*l2\n",
    "total_u2"
   ]
  },
  {
   "cell_type": "code",
   "execution_count": 4,
   "metadata": {},
   "outputs": [
    {
     "data": {
      "image/png": "[encoded data removed]",
      "text/latex": [
       "$$- \\gamma l_{2} + \\frac{\\left(h_{2} l_{2} w\\right)^{- \\rho + 1}}{- \\rho + 1}$$"
      ],
      "text/plain": [
       "                 -ρ + 1\n",
       "        (h₂⋅l₂⋅w)      \n",
       "-γ⋅l₂ + ───────────────\n",
       "             -ρ + 1    "
      ]
     },
     "execution_count": 4,
     "metadata": {},
     "output_type": "execute_result"
    }
   ],
   "source": [
    "total_u2_sub2 = total_u2.subs(c2,c2_f)\n",
    "#foc2 = sm.diff(total_u2_sub2,l2)\n",
    "#foc2\n",
    "total_u2_sub2"
   ]
  },
  {
   "cell_type": "code",
   "execution_count": 5,
   "metadata": {},
   "outputs": [
    {
     "data": {
      "image/png": "[encoded data removed]",
      "text/latex": [
       "$$\\frac{\\left(- \\gamma l_{2} \\rho + \\gamma l_{2} - \\rho u + u\\right)^{- \\frac{1}{\\rho - 1}}}{l_{2} w}$$"
      ],
      "text/plain": [
       "                           -1  \n",
       "                          ─────\n",
       "                          ρ - 1\n",
       "(-γ⋅l₂⋅ρ + γ⋅l₂ - ρ⋅u + u)     \n",
       "───────────────────────────────\n",
       "              l₂⋅w             "
      ]
     },
     "execution_count": 5,
     "metadata": {},
     "output_type": "execute_result"
    }
   ],
   "source": [
    "#we should not solve for l2 rigth? this is just a dummy of work or not\n",
    "#sol2 = sm.solve(sm.Eq(foc2,0),l2)[0]\n",
    "#sol2\n",
    "h2_sol = sm.solve(sm.Eq(total_u2_sub2,u),h2)[0]\n",
    "h2_sol"
   ]
  },
  {
   "cell_type": "code",
   "execution_count": 6,
   "metadata": {},
   "outputs": [],
   "source": [
    "def utility_work(h2,l2,w,rho,gamma):\n",
    "    solution = (((h2*l2*w)**(1-rho))/(1-rho))-gamma*l2\n",
    "    return solution\n",
    "\n",
    "def utility_notwork(benefits,rho,gamma,l2):\n",
    " \n",
    "    b = ((benefits**(1-rho))/(1-rho))-gamma*l2\n",
    "    return b\n",
    "def hum_cap_u(l2,gamma,b,w,rho):\n",
    "    # i use h2_sol but replace u with the \"cutoff\"-value, that is the value of unemployment benefits\n",
    "    nw_u = utility_notwork(b,rho,gamma,0)\n",
    "    hum_cap = ((-gamma*l2*rho+gamma*l2-rho*nw_u+nw_u)**-(1/(rho-1)))/(l2*w)\n",
    "    \n",
    "    return hum_cap"
   ]
  },
  {
   "cell_type": "code",
   "execution_count": 7,
   "metadata": {},
   "outputs": [],
   "source": [
    "rho = 2\n",
    "beta = 0.96\n",
    "gamma = 0.1\n",
    "w = 2\n",
    "b = 1\n",
    "delta = 0.1"
   ]
  },
  {
   "cell_type": "code",
   "execution_count": 8,
   "metadata": {},
   "outputs": [
    {
     "data": {
      "image/png": "[encoded data removed]",
      "text/latex": [
       "$$0.5555555555555556$$"
      ],
      "text/plain": [
       "0.5555555555555556"
      ]
     },
     "execution_count": 8,
     "metadata": {},
     "output_type": "execute_result"
    }
   ],
   "source": [
    "#I calculatet the humam capital given b\n",
    "hum_cap_u(1,gamma,b,w,rho)"
   ]
  },
  {
   "cell_type": "code",
   "execution_count": 9,
   "metadata": {},
   "outputs": [],
   "source": [
    "def plot_func(h2,w,rho,gamma,b):\n",
    "    \n",
    "    work = utility_work(h2,1,w,rho,gamma)\n",
    "    not_work = utility_notwork(b,rho,gamma,0)\n",
    "    cutoff = hum_cap_u(1,gamma,b,w,rho)\n",
    "    \n",
    "    plt.plot(h2,work,label = \"Utility of working\")\n",
    "    plt.plot(h2,not_work,color=\"red\",label=\"Utility of not working\")\n",
    "    plt.legend()\n",
    "    \n",
    "    plt.xlabel(\"Human capital\")\n",
    "    plt.ylabel(\"Utility\")\n",
    "\n",
    "    plt.show\n",
    "    \n",
    "    print(\"The worker will supply labour if human capital is above\",round(cutoff[0],2), \"and no labour if it is below\" )\n",
    "    return "
   ]
  },
  {
   "cell_type": "code",
   "execution_count": 10,
   "metadata": {},
   "outputs": [
    {
     "name": "stdout",
     "output_type": "stream",
     "text": [
      "The worker will supply labour if human capital is above 0.56 and no labour if it is below\n"
     ]
    },
    {
     "data": {
      "image/png": "[encoded data removed]",
      "text/plain": [
       "<Figure size 432x288 with 1 Axes>"
      ]
     },
     "metadata": {
      "needs_background": "light"
     },
     "output_type": "display_data"
    }
   ],
   "source": [
    "h_vec = np.linspace(0.1,1.5,100) \n",
    "b_vec = np.linspace(1,1,100)\n",
    "plot_func(h_vec,w,rho,gamma,b_vec)"
   ]
  },
  {
   "cell_type": "code",
   "execution_count": 11,
   "metadata": {},
   "outputs": [
    {
     "name": "stdout",
     "output_type": "stream",
     "text": [
      "0.56 human capital\n"
     ]
    }
   ],
   "source": [
    "#Another way of showing this is using a binary plot. This requires us to define \n",
    "#each level om human capital as either a capital where the worker provies labour\n",
    "# or a level where she does not - the cutoff is as shown before\n",
    "cutoff = hum_cap_u(1,gamma,b,w,rho)\n",
    "print(round(cutoff,2),\"human capital\")"
   ]
  },
  {
   "cell_type": "code",
   "execution_count": 12,
   "metadata": {},
   "outputs": [],
   "source": [
    "#We define a list\n",
    "willwork = list(range(100))\n",
    "\n",
    "#And fill it with either success (1) if the human capital i above the cutoff or\n",
    "#or falier (0) if it is on the cutoff or below \n",
    "for i in range(len(h_vec)): \n",
    "    if h_vec[i] > cutoff : \n",
    "        willwork[i] = 1\n",
    "    else : \n",
    "        willwork[i] = 0"
   ]
  },
  {
   "cell_type": "code",
   "execution_count": 13,
   "metadata": {},
   "outputs": [
    {
     "data": {
      "text/plain": [
       "<function matplotlib.pyplot.show(*args, **kw)>"
      ]
     },
     "execution_count": 13,
     "metadata": {},
     "output_type": "execute_result"
    },
    {
     "data": {
      "image/png": "[encoded data removed]",
      "text/plain": [
       "<Figure size 432x288 with 1 Axes>"
      ]
     },
     "metadata": {
      "needs_background": "light"
     },
     "output_type": "display_data"
    }
   ],
   "source": [
    "cutoff_vec = np.linspace(cutoff,cutoff,100)\n",
    "plt.plot(h_vec,willwork)\n",
    "plt.plot(cutoff_vec,willwork,linestyle=\"dashed\",color=\"red\",label=(\"Cutoff human capital level\"))\n",
    "plt.legend()\n",
    "plt.xlabel(\"Human capital\")\n",
    "plt.ylabel(\"Labour supply\")\n",
    "\n",
    "plt.show"
   ]
  },
  {
   "cell_type": "markdown",
   "metadata": {},
   "source": [
    "some text here"
   ]
  },
  {
   "cell_type": "code",
   "execution_count": 14,
   "metadata": {},
   "outputs": [],
   "source": [
    "#the labour supply as a function of human captal is then:\n",
    "def labour_supply(hum_cap,w,rho,gamma,b):\n",
    "    cutoff = hum_cap_u(1,gamma,b,w,rho)\n",
    "    \n",
    "    if hum_cap > cutoff :\n",
    "        print(\"with a human capital level of\",hum_cap,\"the worker wil supply 1 labour (l = 1)\")\n",
    "        l = 1\n",
    "    else :\n",
    "        print(\"with a human capital level of\",hum_cap,\"the worker will supply 0 labour (l=0)\")\n",
    "        l = 0\n",
    "    return l"
   ]
  },
  {
   "cell_type": "code",
   "execution_count": 15,
   "metadata": {},
   "outputs": [
    {
     "data": {
      "application/vnd.jupyter.widget-view+json": {
       "model_id": "0821d401cd694bdbabcc5291670eccbc",
       "version_major": 2,
       "version_minor": 0
      },
      "text/plain": [
       "interactive(children=(FloatSlider(value=0.1, description='hum_cap', max=1.5, min=0.1, step=0.01), Output()), _…"
      ]
     },
     "metadata": {},
     "output_type": "display_data"
    },
    {
     "data": {
      "text/plain": [
       "<function __main__.labour_supply(hum_cap, w, rho, gamma, b)>"
      ]
     },
     "execution_count": 15,
     "metadata": {},
     "output_type": "execute_result"
    }
   ],
   "source": [
    "human_capital = widgets.FloatSlider(min=0.1,max=1.5,value=0.1,step=0.01)\n",
    "widgets.interact(labour_supply,hum_cap=human_capital,w=widgets.fixed(w),rho=widgets.fixed(rho),gamma=widgets.fixed(gamma),b=widgets.fixed(b))"
   ]
  },
  {
   "cell_type": "raw",
   "metadata": {},
   "source": [
    "Interactive solution to question 1"
   ]
  },
  {
   "cell_type": "code",
   "execution_count": null,
   "metadata": {},
   "outputs": [],
   "source": []
  },
  {
   "cell_type": "markdown",
   "metadata": {},
   "source": [
    "## Question 2"
   ]
  },
  {
   "cell_type": "code",
   "execution_count": 16,
   "metadata": {},
   "outputs": [],
   "source": [
    "rho = sm.symbols('rho')\n",
    "beta = sm.symbols('beta')\n",
    "gamma = sm.symbols('gamma')\n",
    "w = sm.symbols('w')\n",
    "b = sm.symbols('b')\n",
    "delta = sm.symbols('Delta')\n",
    "h1 = sm.symbols('h_1')\n",
    "h2 = sm.symbols('h_2')\n",
    "c1 = sm.symbols('c1')\n",
    "c2 = sm.symbols('c2')\n",
    "l1 = sm.symbols('l1')\n",
    "l2 = sm.symbols('l2')\n",
    "exp = sm.symbols('E[v_2(h_2)]')\n",
    "u = sm.symbols(\"u\")"
   ]
  },
  {
   "cell_type": "code",
   "execution_count": 17,
   "metadata": {},
   "outputs": [
    {
     "data": {
      "image/png": "[encoded data removed]",
      "text/latex": [
       "$$E[v_{2(h 2)]} \\beta + \\frac{c_{1}^{- \\rho + 1}}{- \\rho + 1} - \\gamma l_{1}$$"
      ],
      "text/plain": [
       "                  -ρ + 1       \n",
       "                c₁             \n",
       "E[v_2(h_2)]⋅β + ──────── - γ⋅l₁\n",
       "                 -ρ + 1        "
      ]
     },
     "execution_count": 17,
     "metadata": {},
     "output_type": "execute_result"
    }
   ],
   "source": [
    "u1 = (c1**(1-rho))/(1-rho)\n",
    "dis_u1 = gamma*l1\n",
    "total_u1 = u1 - dis_u1 + beta*exp\n",
    "total_u1"
   ]
  },
  {
   "cell_type": "code",
   "execution_count": 18,
   "metadata": {},
   "outputs": [],
   "source": [
    "# I define funcitons for period 2 \n",
    "def utility_2(h1,w=1,l1=1,rho=2,gamma=0.1,beta=0.96,delta=0.1,b=1):\n",
    "    if l1 == 1:\n",
    "        h2 = h1+1 +(0.5*delta)\n",
    "        c = w*h1*1\n",
    "        \n",
    "        u_p2 = utility_work(h2,1,w,rho,gamma)\n",
    "    \n",
    "        solution = ((c**(1-rho))/(1-rho))-gamma*1 +beta*u_p2\n",
    "    else :\n",
    "        h2 = h1 + 0 + (0.5*delta)\n",
    "        c = b\n",
    "        \n",
    "        u_nw_p2 = utility_notwork(b,rho,gamma,0)\n",
    "        solution = ((c**(1-rho))/(1-rho))-gamma*0 +beta*u_nw_p2\n",
    "    \n",
    "    return solution\n",
    "\n",
    "\n"
   ]
  },
  {
   "cell_type": "code",
   "execution_count": 19,
   "metadata": {},
   "outputs": [
    {
     "data": {
      "image/png": "[encoded data removed]",
      "text/latex": [
       "$$\\beta \\left(- \\gamma + \\frac{\\left(w \\left(0.5 \\Delta + 1.1\\right)\\right)^{- \\rho + 1}}{- \\rho + 1}\\right) - \\gamma + \\frac{\\left(0.1 w\\right)^{- \\rho + 1}}{- \\rho + 1}$$"
      ],
      "text/plain": [
       "  ⎛                      -ρ + 1⎞              -ρ + 1\n",
       "  ⎜     (w⋅(0.5⋅Δ + 1.1))      ⎟       (0.1⋅w)      \n",
       "β⋅⎜-γ + ───────────────────────⎟ - γ + ─────────────\n",
       "  ⎝              -ρ + 1        ⎠           -ρ + 1   "
      ]
     },
     "execution_count": 19,
     "metadata": {},
     "output_type": "execute_result"
    }
   ],
   "source": [
    "h1 = 0.1\n",
    "utility_2(h1,w,1,rho,gamma,beta,delta,b)"
   ]
  },
  {
   "cell_type": "code",
   "execution_count": 20,
   "metadata": {},
   "outputs": [],
   "source": [
    "rho = 2\n",
    "beta = 0.96\n",
    "gamma = 0.1\n",
    "w = 2\n",
    "b = 1\n",
    "delta = 0.1\n",
    "h_vec = np.linspace(0.1,1.5,100) \n"
   ]
  },
  {
   "cell_type": "code",
   "execution_count": 21,
   "metadata": {},
   "outputs": [],
   "source": [
    "b_vec = np.linspace(1,1,100)\n",
    "x = utility_2(h_vec,w,1,rho,gamma,beta,delta,b)\n",
    "y = utility_2(h_vec,w,0,rho,gamma,beta,delta,b_vec)\n"
   ]
  },
  {
   "cell_type": "code",
   "execution_count": 22,
   "metadata": {},
   "outputs": [
    {
     "data": {
      "image/png": "[encoded data removed]",
      "text/latex": [
       "$$-1.96$$"
      ],
      "text/plain": [
       "-1.96"
      ]
     },
     "execution_count": 22,
     "metadata": {},
     "output_type": "execute_result"
    }
   ],
   "source": [
    "#The utility of not working is \n",
    "y[0]"
   ]
  },
  {
   "cell_type": "code",
   "execution_count": 23,
   "metadata": {},
   "outputs": [],
   "source": [
    "#The cutof point can be found using a numerical optimizer \n",
    "\n",
    "rho = 2\n",
    "beta = 0.96\n",
    "gamma = 0.1\n",
    "w = 2\n",
    "b = 1\n",
    "delta = 0.1\n",
    "\n",
    "#because it is negative values we minimize (and not -minimize)\n",
    "def objective(h):\n",
    "    return utility_2(h,w,1,rho,gamma,beta,delta,b)\n",
    "def constraint(h):\n",
    "    return (1.96 + utility_2(h,w,1,rho,gamma,beta,delta,b))"
   ]
  },
  {
   "cell_type": "code",
   "execution_count": 24,
   "metadata": {},
   "outputs": [],
   "source": [
    "cons = ({\"type\": \"ineq\",\"fun\":constraint})\n",
    "h_init = 0.1\n"
   ]
  },
  {
   "cell_type": "code",
   "execution_count": 25,
   "metadata": {},
   "outputs": [
    {
     "data": {
      "text/plain": [
       "     fun: -1.9599999941585289\n",
       "     jac: array([4.28598835])\n",
       " message: 'Optimization terminated successfully.'\n",
       "    nfev: 21\n",
       "     nit: 7\n",
       "    njev: 7\n",
       "  status: 0\n",
       " success: True\n",
       "       x: array([0.35172508])"
      ]
     },
     "execution_count": 25,
     "metadata": {},
     "output_type": "execute_result"
    }
   ],
   "source": [
    "sol = optimize.minimize(objective,h_init,method=\"SLSQP\",constraints=cons)\n",
    "sol"
   ]
  },
  {
   "cell_type": "code",
   "execution_count": 26,
   "metadata": {},
   "outputs": [
    {
     "data": {
      "image/png": "[encoded data removed]",
      "text/latex": [
       "$$0.3517250846522467$$"
      ],
      "text/plain": [
       "0.3517250846522467"
      ]
     },
     "execution_count": 26,
     "metadata": {},
     "output_type": "execute_result"
    }
   ],
   "source": [
    "#The equilibrium value is \n",
    "sol.x[0]"
   ]
  },
  {
   "cell_type": "code",
   "execution_count": 27,
   "metadata": {},
   "outputs": [
    {
     "data": {
      "image/png": "[encoded data removed]",
      "text/plain": [
       "<Figure size 432x288 with 1 Axes>"
      ]
     },
     "metadata": {
      "needs_background": "light"
     },
     "output_type": "display_data"
    }
   ],
   "source": [
    "cutoff = np.linspace(sol.x[0],sol.x[0],100)\n",
    "plt.plot(h_vec,x, label = \"Utility of working\",alpha= 0.8)\n",
    "plt.plot(h_vec,y, color=\"green\", label = \"Utility of not working\",alpha= 0.8)\n",
    "plt.plot(cutoff,x,color = \"red\", linestyle = \"dashed\",label=\"Labour cutoff\",alpha= 0.4)\n",
    "plt.scatter(cutoff[0],y[0],color=\"purple\",alpha = 1)\n",
    "plt.xlabel(\"Human capital level\")\n",
    "plt.ylabel(\"Utility\")\n",
    "plt.legend()\n",
    "plt.show()"
   ]
  },
  {
   "cell_type": "code",
   "execution_count": 28,
   "metadata": {},
   "outputs": [],
   "source": [
    "willwork_p1 = list(range(100))\n",
    "\n",
    "#And fill it with either success (1) if the human capital i above the cutoff or\n",
    "#or falier (0) if it is on the cutoff or below \n",
    "for i in range(len(h_vec)): \n",
    "    if utility_2(h_vec[i],w,1,rho,gamma,beta,delta,1) > utility_2(h_vec[i],w,0,rho,gamma,beta,delta,1) : \n",
    "        willwork_p1[i] = 1\n",
    "    else : \n",
    "        willwork_p1[i] = 0"
   ]
  },
  {
   "cell_type": "code",
   "execution_count": 29,
   "metadata": {},
   "outputs": [
    {
     "data": {
      "text/plain": [
       "[<matplotlib.lines.Line2D at 0x158bdfc1e48>]"
      ]
     },
     "execution_count": 29,
     "metadata": {},
     "output_type": "execute_result"
    },
    {
     "data": {
      "image/png": "[encoded data removed]",
      "text/plain": [
       "<Figure size 432x288 with 1 Axes>"
      ]
     },
     "metadata": {
      "needs_background": "light"
     },
     "output_type": "display_data"
    }
   ],
   "source": [
    "plt.plot(h_vec,willwork_p1)\n",
    "plt.plot(cutoff,np.linspace(0,1,100),linestyle = \"dashed\",color=\"red\")"
   ]
  },
  {
   "cell_type": "markdown",
   "metadata": {},
   "source": [
    "This means that the worker will supply all her labour (1) if her human capital level i above 0.35, but 0 if her human capital level is below this. "
   ]
  },
  {
   "cell_type": "markdown",
   "metadata": {},
   "source": [
    "## Question 3"
   ]
  },
  {
   "cell_type": "code",
   "execution_count": null,
   "metadata": {},
   "outputs": [],
   "source": []
  },
  {
   "cell_type": "code",
   "execution_count": 30,
   "metadata": {},
   "outputs": [],
   "source": [
    "#itinerary \n",
    "## make st of w's with 0.1,0.2 and so on til 0.9 \n",
    "### calculate utility for those \n",
    "#### see if any of them are higher that b\n"
   ]
  },
  {
   "cell_type": "markdown",
   "metadata": {},
   "source": [
    "We will examine if workers will ever work if their wage is lower than the unemployment benefits. In this case the unemployment benefits are given as 1. It is theoretically posible that a worker would chose to work, if the acumulation of human capital can more than make up for the loss in utility. "
   ]
  },
  {
   "cell_type": "code",
   "execution_count": 31,
   "metadata": {},
   "outputs": [],
   "source": [
    "#We define a list of different wage levels to examnie \n",
    "wages = np.linspace(0,0.99,100)\n",
    "#We have chosen these for the sake of interpertation "
   ]
  },
  {
   "cell_type": "code",
   "execution_count": 32,
   "metadata": {},
   "outputs": [],
   "source": [
    "rho = 2\n",
    "beta = 0.96\n",
    "gamma = 0.1\n",
    "b = 1\n",
    "delta = 0.1\n",
    "h_vec = np.linspace(0.1,1.5,100)\n"
   ]
  },
  {
   "cell_type": "code",
   "execution_count": 33,
   "metadata": {},
   "outputs": [
    {
     "name": "stdout",
     "output_type": "stream",
     "text": [
      "wage_0.6\n"
     ]
    },
    {
     "name": "stderr",
     "output_type": "stream",
     "text": [
      "C:\\Users\\augus\\Anaconda3\\lib\\site-packages\\ipykernel_launcher.py:2: RuntimeWarning: divide by zero encountered in reciprocal\n",
      "  \n",
      "C:\\Users\\augus\\Anaconda3\\lib\\site-packages\\ipykernel_launcher.py:9: RuntimeWarning: divide by zero encountered in reciprocal\n",
      "  if __name__ == '__main__':\n"
     ]
    }
   ],
   "source": [
    "#This for loop test if the utility gained from working, even if wages are lover than b, is higher than -1.96 - the utility of\n",
    "#not working in both periods \n",
    "for wage in wages: \n",
    "    name = \"wage_\" + str(wage)\n",
    "    cutoff_w = utility_2(h1 = h_vec, w = wage, l1 = 1, rho = 2, gamma = 0.1, beta= 0.96, delta = 0.1, b = 1)\n",
    "    if max(cutoff_w) > -1.96:\n",
    "        print(name) \n",
    "        #This will be the lowest wage where it is profitable to work \n",
    "        break"
   ]
  },
  {
   "cell_type": "code",
   "execution_count": 34,
   "metadata": {},
   "outputs": [],
   "source": [
    "#It tursout that it is utility profitable for the worker to work even if the wage is 0.6 while the unemployment benefits are 1\n",
    "## Now we will show this "
   ]
  },
  {
   "cell_type": "code",
   "execution_count": 35,
   "metadata": {},
   "outputs": [
    {
     "data": {
      "image/png": "[encoded data removed]",
      "text/plain": [
       "<Figure size 432x288 with 1 Axes>"
      ]
     },
     "metadata": {
      "needs_background": "light"
     },
     "output_type": "display_data"
    }
   ],
   "source": [
    "cutoff = np.linspace(sol.x[0],sol.x[0],100)\n",
    "plt.plot(h_vec,x, label = \"Wage = 2\",alpha= 0.6)\n",
    "plt.plot(h_vec,y, color = \"red\", linestyle = \"dashed\",alpha= 0.5, label = \"Utility of not working\")\n",
    "plt.plot(h_vec,cutoff_w, color = \"green\", label = \"Wage = 0.6\")\n",
    "plt.xlabel(\"Human capital level\")\n",
    "plt.ylabel(\"Utility\")\n",
    "plt.ylim(-5,0)\n",
    "plt.legend()\n",
    "plt.show()"
   ]
  },
  {
   "cell_type": "code",
   "execution_count": 36,
   "metadata": {},
   "outputs": [],
   "source": [
    "#It is evident that at very high levels of human capital, it can be rational to work, even if the wage is lower than the \n",
    "#unemployment benefits. From our loop before we know that it is the lowest wage where this is true is 0.6. Therefore we \n",
    "# use optimization to find the human capital level of at which i makes sense to work if your wage is 0.6. \n"
   ]
  },
  {
   "cell_type": "code",
   "execution_count": null,
   "metadata": {},
   "outputs": [],
   "source": []
  },
  {
   "cell_type": "code",
   "execution_count": 37,
   "metadata": {},
   "outputs": [],
   "source": [
    "rho = 2\n",
    "beta = 0.96\n",
    "gamma = 0.1\n",
    "w = 0.6\n",
    "b = 1\n",
    "delta = 0.1\n",
    "\n",
    "#because it is negative values we minimize (and not -minimize)\n",
    "def objective(h):\n",
    "    return utility_2(h,w,1,rho,gamma,beta,delta,b)\n",
    "def constraint(h):\n",
    "    return (1.96 + utility_2(h,w,1,rho,gamma,beta,delta,b))"
   ]
  },
  {
   "cell_type": "code",
   "execution_count": 38,
   "metadata": {},
   "outputs": [],
   "source": [
    "cons = ({\"type\": \"ineq\",\"fun\":constraint})\n",
    "h_init = 0.1\n"
   ]
  },
  {
   "cell_type": "code",
   "execution_count": 39,
   "metadata": {},
   "outputs": [
    {
     "data": {
      "text/plain": [
       "     fun: -1.960000000389105\n",
       "     jac: array([1.01749761])\n",
       " message: 'Optimization terminated successfully.'\n",
       "    nfev: 27\n",
       "     nit: 9\n",
       "    njev: 9\n",
       "  status: 0\n",
       " success: True\n",
       "       x: array([1.47461354])"
      ]
     },
     "execution_count": 39,
     "metadata": {},
     "output_type": "execute_result"
    }
   ],
   "source": [
    "sol = optimize.minimize(objective,h_init,method=\"SLSQP\",constraints=cons)\n",
    "sol"
   ]
  },
  {
   "cell_type": "code",
   "execution_count": 40,
   "metadata": {},
   "outputs": [
    {
     "data": {
      "image/png": "[encoded data removed]",
      "text/latex": [
       "$$1.4746135384659365$$"
      ],
      "text/plain": [
       "1.4746135384659365"
      ]
     },
     "execution_count": 40,
     "metadata": {},
     "output_type": "execute_result"
    }
   ],
   "source": [
    "sol.x[0]"
   ]
  },
  {
   "cell_type": "code",
   "execution_count": 69,
   "metadata": {},
   "outputs": [
    {
     "name": "stdout",
     "output_type": "stream",
     "text": [
      "No level of human capital where the worker would work, at human capital level of 0.59\n"
     ]
    }
   ],
   "source": [
    "#I test that there is no wage value below 0.6 where the worker would work \n",
    "w = 0.59\n",
    "\n",
    "#because it is negative values we minimize (and not -minimize)\n",
    "def objective(h):\n",
    "    return utility_2(h,w,1,rho,gamma,beta,delta,b)\n",
    "def constraint(h):\n",
    "    return (1.96 + utility_2(h,w,1,rho,gamma,beta,delta,b))\n",
    "cons = ({\"type\": \"ineq\",\"fun\":constraint})\n",
    "h_init = 0.1\n",
    "sol = optimize.minimize(objective,h_init,method=\"SLSQP\",constraints=cons)\n",
    "if sol.x[0] > 1.5:\n",
    "    print(\"No level of human capital where the worker would work, at human capital level of\",str(w))\n",
    "else: \n",
    "    print(\"The worker til work if she has a human capital level of\", str(round(sol.x[0],2)))"
   ]
  },
  {
   "cell_type": "code",
   "execution_count": 41,
   "metadata": {},
   "outputs": [],
   "source": [
    "#So the worker will work at a wage of 0.6, if she has a human capital level og 1.47 or higher "
   ]
  },
  {
   "cell_type": "code",
   "execution_count": 46,
   "metadata": {},
   "outputs": [],
   "source": [
    "#Define wages to plot \n",
    "wages = [0.6,0.7,0.8,0.9,0.99]\n",
    "#And the parameters again\n",
    "rho = 2\n",
    "beta = 0.96\n",
    "gamma = 0.1\n",
    "b = 1\n",
    "delta = 0.1 \n",
    "h_vec = np.linspace(0.1,1.5,100)"
   ]
  },
  {
   "cell_type": "code",
   "execution_count": 47,
   "metadata": {},
   "outputs": [
    {
     "data": {
      "image/png": "[encoded data removed]",
      "text/plain": [
       "<Figure size 432x288 with 1 Axes>"
      ]
     },
     "metadata": {
      "needs_background": "light"
     },
     "output_type": "display_data"
    }
   ],
   "source": [
    "for wage in wages: \n",
    "    wage_vec = utility_2(h1 = h_vec, w = wage, l1 = 1, rho = 2, gamma = 0.1, beta= 0.96, delta = 0.1, b = 1)\n",
    "    plt.plot(h_vec,wage_vec, label = \"Wage =\"+str(wage))\n",
    "\n",
    "plt.plot(h_vec,x, label = \"Wage = 2\",alpha= 0.6)\n",
    "plt.plot(h_vec,y, color = \"red\", linestyle = \"dashed\",alpha= 0.5, label = \"Utility of not working\")\n",
    "plt.xlabel(\"Human capital level\")\n",
    "plt.ylabel(\"Utility\")\n",
    "plt.ylim(-5,-0.5)\n",
    "plt.legend()\n",
    "plt.show()"
   ]
  },
  {
   "cell_type": "code",
   "execution_count": 48,
   "metadata": {},
   "outputs": [],
   "source": [
    "#The respective \"cutoff\"-levels of human capital can be calculated using numerical optimazation "
   ]
  },
  {
   "cell_type": "code",
   "execution_count": 49,
   "metadata": {
    "scrolled": true
   },
   "outputs": [
    {
     "name": "stdout",
     "output_type": "stream",
     "text": [
      "Human capital level = 1.47 with wages = 0.6\n",
      "Human capital level = 1.23 with wages = 0.7\n",
      "Human capital level = 1.05 with wages = 0.8\n",
      "Human capital level = 0.91 with wages = 0.9\n",
      "Human capital level = 0.81 with wages = 0.99\n"
     ]
    }
   ],
   "source": [
    "for wage in wages:\n",
    "    w = wage \n",
    "    def objective(h):\n",
    "        return utility_2(h,w,1,rho,gamma,beta,delta,b)\n",
    "    def constraint(h):\n",
    "        return (1.96 + utility_2(h,w,1,rho,gamma,beta,delta,b))\n",
    "    cons = ({\"type\": \"ineq\",\"fun\":constraint})\n",
    "    h_init = 0.1\n",
    "    \n",
    "    sol = optimize.minimize(objective,h_init,method=\"SLSQP\",constraints=cons)\n",
    "    print(\"Human capital level =\",round(sol.x[0],2),\"with wages =\", wage)"
   ]
  },
  {
   "cell_type": "code",
   "execution_count": null,
   "metadata": {},
   "outputs": [],
   "source": [
    "#We could make this interactiv - it will take some time though "
   ]
  },
  {
   "cell_type": "code",
   "execution_count": 70,
   "metadata": {},
   "outputs": [],
   "source": [
    "#Explain why people chose to work even if the wage is lowwer than b"
   ]
  },
  {
   "cell_type": "code",
   "execution_count": null,
   "metadata": {},
   "outputs": [],
   "source": [
    "##"
   ]
  }
 ],
 "metadata": {
  "kernelspec": {
   "display_name": "Python 3",
   "language": "python",
   "name": "python3"
  },
  "language_info": {
   "codemirror_mode": {
    "name": "ipython",
    "version": 3
   },
   "file_extension": ".py",
   "mimetype": "text/x-python",
   "name": "python",
   "nbconvert_exporter": "python",
   "pygments_lexer": "ipython3",
   "version": "3.7.1"
  }
 },
 "nbformat": 4,
 "nbformat_minor": 2
}
