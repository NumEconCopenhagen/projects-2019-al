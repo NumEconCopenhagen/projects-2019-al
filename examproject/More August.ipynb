{
 "cells": [
  {
   "cell_type": "code",
   "execution_count": 1,
   "metadata": {},
   "outputs": [],
   "source": [
    "#solving problem 1 (hopefully)"
   ]
  },
  {
   "cell_type": "code",
   "execution_count": 2,
   "metadata": {},
   "outputs": [],
   "source": [
    "import random \n",
    "import sympy as sm\n",
    "import numpy as np\n",
    "import matplotlib.pyplot as plt\n",
    "import ipywidgets as widgets\n",
    "from scipy import optimize\n",
    "\n",
    "#setting nice printing and seed\n",
    "sm.init_printing(use_unicode=True)\n",
    "random.seed(12848174)"
   ]
  },
  {
   "cell_type": "code",
   "execution_count": 14,
   "metadata": {},
   "outputs": [],
   "source": [
    "def con_w (wage, hum_cap):\n",
    "    con = wage*hum_cap\n",
    "    return con\n",
    "\n",
    "def con_nw(b): \n",
    "    con = b\n",
    "    return con"
   ]
  },
  {
   "cell_type": "code",
   "execution_count": 6,
   "metadata": {},
   "outputs": [],
   "source": [
    "def u_con(con,rho):\n",
    "    utility = (c**(1-rho))/(1-rho)\n",
    "    return utility\n",
    "def d_u_work(gamma,l):\n",
    "    disutility = gamma*l\n",
    "    \n",
    "    return disutility"
   ]
  },
  {
   "cell_type": "code",
   "execution_count": null,
   "metadata": {},
   "outputs": [],
   "source": [
    "def solution(wage, hum_cap, gamma, rho,b):\n",
    "    \n",
    "    if con_w(wage, hum_cap) => con_nw(b):\n",
    "        \n",
    "    "
   ]
  },
  {
   "cell_type": "code",
   "execution_count": null,
   "metadata": {},
   "outputs": [],
   "source": []
  },
  {
   "cell_type": "code",
   "execution_count": null,
   "metadata": {},
   "outputs": [],
   "source": [
    "h2_f = (h1 + l1 + 0.5*delta)\n",
    "c1_f = w*h1*l1\n",
    "\n",
    "\n",
    "total_u1_sub1 = total_u1.subs(c1,c1_f)\n",
    "#foc2 = sm.diff(total_u2_sub2,l2)\n",
    "#foc2\n",
    "total_u1_sub1"
   ]
  },
  {
   "cell_type": "code",
   "execution_count": null,
   "metadata": {},
   "outputs": [],
   "source": [
    "#we should not solve for l2 rigth? this is just a dummy of work or not\n",
    "#sol2 = sm.solve(sm.Eq(foc2,0),l2)[0]\n",
    "#sol2\n",
    "h1_sol = sm.solve(sm.Eq(total_u1_sub1,u),h1)[0]\n",
    "h1_sol"
   ]
  }
 ],
 "metadata": {
  "kernelspec": {
   "display_name": "Python 3",
   "language": "python",
   "name": "python3"
  },
  "language_info": {
   "codemirror_mode": {
    "name": "ipython",
    "version": 3
   },
   "file_extension": ".py",
   "mimetype": "text/x-python",
   "name": "python",
   "nbconvert_exporter": "python",
   "pygments_lexer": "ipython3",
   "version": "3.7.1"
  }
 },
 "nbformat": 4,
 "nbformat_minor": 2
}
