{
 "cells": [
  {
   "cell_type": "code",
   "execution_count": 3,
   "metadata": {},
   "outputs": [],
   "source": [
    "import numpy as np\n",
    "import sympy as sm\n",
    "sm.init_printing(use_unicode=True)"
   ]
  },
  {
   "cell_type": "code",
   "execution_count": 16,
   "metadata": {},
   "outputs": [],
   "source": [
    "alpha = sm.symbols('alpha')\n",
    "b = sm.symbols('b')\n",
    "gamma = sm.symbols('gamma')\n",
    "h = sm.symbols('h')\n",
    "phi = sm.symbols('phi')\n",
    "yt = sm.symbols('y_t')\n",
    "pit = sm.symbols('pi_t')\n",
    "pit_minus_1=sm.symbols('pit_minus_1')\n",
    "yt_minus_1 = sm.symbols('yt_minus_1')\n",
    "vt = sm.symbols('v_t')\n",
    "st = sm.symbols('s_t')\n",
    "st_minus_1 = sm.symbols('st_minus_1')\n",
    "rt = sm.symbols('r_t')\n",
    "it = sm.symbols('i_t')\n",
    "exp_pi_t = sm.symbols('exp_pi_t')\n",
    "exp_pi_t_plus_1 = sm.symbols('exp_pi_t_plus_1')"
   ]
  },
  {
   "cell_type": "code",
   "execution_count": 25,
   "metadata": {},
   "outputs": [
    {
     "data": {
      "image/png": "[encoded data removed]",
      "text/latex": [
       "$$- \\gamma \\phi yt_{minus 1} + \\gamma y_{t} - \\phi st_{minus 1} + pit_{minus 1} + s_{t}$$"
      ],
      "text/plain": [
       "-γ⋅φ⋅ytₘᵢₙᵤₛ ₁ + γ⋅yₜ - φ⋅stₘᵢₙᵤₛ ₁ + pitₘᵢₙᵤₛ ₁ + sₜ"
      ]
     },
     "execution_count": 25,
     "metadata": {},
     "output_type": "execute_result"
    }
   ],
   "source": [
    "AD_pit=(1/(h*alpha))*(vt-(1-b*alpha)*yt)\n",
    "\n",
    "SRAS_pit=pit_minus_1-phi*gamma*yt_minus_1+st-phi*st_minus_1+gamma*yt\n",
    "SRAS_pit"
   ]
  },
  {
   "cell_type": "code",
   "execution_count": 26,
   "metadata": {},
   "outputs": [
    {
     "data": {
      "image/png": "[encoded data removed]",
      "text/latex": [
       "$$- \\gamma \\phi yt_{minus 1} + \\gamma y_{t} - \\phi st_{minus 1} + pit_{minus 1} + s_{t} - \\frac{v_{t} - y_{t} \\left(- \\alpha b + 1\\right)}{\\alpha h}$$"
      ],
      "text/plain": [
       "                                                        vₜ - yₜ⋅(-α⋅b + 1)\n",
       "-γ⋅φ⋅ytₘᵢₙᵤₛ ₁ + γ⋅yₜ - φ⋅stₘᵢₙᵤₛ ₁ + pitₘᵢₙᵤₛ ₁ + sₜ - ──────────────────\n",
       "                                                               α⋅h        "
      ]
     },
     "execution_count": 26,
     "metadata": {},
     "output_type": "execute_result"
    }
   ],
   "source": [
    "AS_minus_AD= SRAS_pit-AD_pit\n",
    "AS_minus_AD"
   ]
  },
  {
   "cell_type": "code",
   "execution_count": 27,
   "metadata": {},
   "outputs": [
    {
     "data": {
      "image/png": "[encoded data removed]",
      "text/latex": [
       "$$\\frac{\\alpha h \\left(\\gamma \\phi yt_{minus 1} + \\phi st_{minus 1} - pit_{minus 1} - s_{t}\\right)}{\\alpha b - 1}$$"
      ],
      "text/plain": [
       "α⋅h⋅(γ⋅φ⋅ytₘᵢₙᵤₛ ₁ + φ⋅stₘᵢₙᵤₛ ₁ - pitₘᵢₙᵤₛ ₁ - sₜ)\n",
       "───────────────────────────────────────────────────\n",
       "                      α⋅b - 1                      "
      ]
     },
     "execution_count": 27,
     "metadata": {},
     "output_type": "execute_result"
    }
   ],
   "source": [
    "eq_y = sm.solve(sm.Eq(AD_plus_AS,0),yt)[0]\n",
    "eq_y"
   ]
  },
  {
   "cell_type": "code",
   "execution_count": null,
   "metadata": {},
   "outputs": [],
   "source": []
  }
 ],
 "metadata": {
  "kernelspec": {
   "display_name": "Python 3",
   "language": "python",
   "name": "python3"
  },
  "language_info": {
   "codemirror_mode": {
    "name": "ipython",
    "version": 3
   },
   "file_extension": ".py",
   "mimetype": "text/x-python",
   "name": "python",
   "nbconvert_exporter": "python",
   "pygments_lexer": "ipython3",
   "version": "3.7.1"
  }
 },
 "nbformat": 4,
 "nbformat_minor": 2
}
