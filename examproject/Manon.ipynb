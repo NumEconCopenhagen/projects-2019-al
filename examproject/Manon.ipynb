{
 "cells": [
  {
   "cell_type": "code",
   "execution_count": 92,
   "metadata": {},
   "outputs": [],
   "source": [
    "import numpy as np\n",
    "import sympy as sm\n",
    "import matplotlib.pyplot as plt\n",
    "from mpl_toolkits.mplot3d import Axes3D\n",
    "import matplotlib.cm as cm\n",
    "sm.init_printing(use_unicode=True)"
   ]
  },
  {
   "cell_type": "code",
   "execution_count": 93,
   "metadata": {},
   "outputs": [],
   "source": [
    "alpha = sm.symbols('alpha')\n",
    "b = sm.symbols('b')\n",
    "gamma = sm.symbols('gamma')\n",
    "h = sm.symbols('h')\n",
    "phi = sm.symbols('phi')\n",
    "yt = sm.symbols('y_t')\n",
    "pit = sm.symbols('pi_t')\n",
    "pit_m1=sm.symbols('pi_t-1')\n",
    "yt_m1 = sm.symbols('y_t-1')\n",
    "vt = sm.symbols('v_t')\n",
    "st = sm.symbols('s_t')\n",
    "st_m1 = sm.symbols('s_t-1')\n",
    "rt = sm.symbols('r_t')\n",
    "it = sm.symbols('i_t')\n",
    "exp_pit = sm.symbols('E[pi_t]')\n",
    "exp_pit_p1 = sm.symbols('E[pi_t+1]')"
   ]
  },
  {
   "cell_type": "markdown",
   "metadata": {},
   "source": [
    "Question 1"
   ]
  },
  {
   "cell_type": "code",
   "execution_count": 94,
   "metadata": {},
   "outputs": [
    {
     "data": {
      "image/png": "[encoded data removed]",
      "text/latex": [
       "$$- \\gamma \\phi y_{t-1} + \\gamma y_{t} - \\phi s_{t-1} + \\pi_{t-1} + s_{t}$$"
      ],
      "text/plain": [
       "-γ⋅φ⋅yₜ₋₁ + γ⋅yₜ - φ⋅sₜ₋₁ + πₜ₋₁ + sₜ"
      ]
     },
     "execution_count": 94,
     "metadata": {},
     "output_type": "execute_result"
    }
   ],
   "source": [
    "SRAS_pit=pit_m1-phi*gamma*yt_m1+st-phi*st_m1+gamma*yt\n",
    "SRAS_pit"
   ]
  },
  {
   "cell_type": "code",
   "execution_count": 95,
   "metadata": {},
   "outputs": [
    {
     "data": {
      "image/png": "[encoded data removed]",
      "text/latex": [
       "$$\\frac{v_{t} - y_{t} \\left(\\alpha b + 1\\right)}{\\alpha h}$$"
      ],
      "text/plain": [
       "vₜ - yₜ⋅(α⋅b + 1)\n",
       "─────────────────\n",
       "       α⋅h       "
      ]
     },
     "execution_count": 95,
     "metadata": {},
     "output_type": "execute_result"
    }
   ],
   "source": [
    "AD_pit=(1/(h*alpha))*(vt-(1+b*alpha)*yt)\n",
    "AD_pit"
   ]
  },
  {
   "cell_type": "code",
   "execution_count": 6,
   "metadata": {},
   "outputs": [
    {
     "data": {
      "image/png": "[encoded data removed]",
      "text/latex": [
       "$$- \\gamma \\phi y_{t-1} + \\gamma y_{t} - \\phi s_{t-1} + \\pi_{t-1} + s_{t} - \\frac{v_{t} - y_{t} \\left(\\alpha b + 1\\right)}{\\alpha h}$$"
      ],
      "text/plain": [
       "                                        vₜ - yₜ⋅(α⋅b + 1)\n",
       "-γ⋅φ⋅yₜ₋₁ + γ⋅yₜ - φ⋅sₜ₋₁ + πₜ₋₁ + sₜ - ─────────────────\n",
       "                                               α⋅h       "
      ]
     },
     "execution_count": 6,
     "metadata": {},
     "output_type": "execute_result"
    }
   ],
   "source": [
    "AS_minus_AD= SRAS_pit-AD_pit\n",
    "AS_minus_AD"
   ]
  },
  {
   "cell_type": "code",
   "execution_count": 7,
   "metadata": {},
   "outputs": [
    {
     "data": {
      "image/png": "[encoded data removed]",
      "text/latex": [
       "$$\\left [ \\frac{\\alpha \\gamma h \\phi y_{t-1} + \\alpha h \\phi s_{t-1} - \\alpha h \\pi_{t-1} - \\alpha h s_{t} + v_{t}}{\\alpha b + \\alpha \\gamma h + 1}\\right ]$$"
      ],
      "text/plain": [
       "⎡α⋅γ⋅h⋅φ⋅yₜ₋₁ + α⋅h⋅φ⋅sₜ₋₁ - α⋅h⋅πₜ₋₁ - α⋅h⋅sₜ + vₜ⎤\n",
       "⎢──────────────────────────────────────────────────⎥\n",
       "⎣                 α⋅b + α⋅γ⋅h + 1                  ⎦"
      ]
     },
     "execution_count": 7,
     "metadata": {},
     "output_type": "execute_result"
    }
   ],
   "source": [
    "eq_y = sm.solve(sm.Eq(AS_minus_AD,0),yt)\n",
    "eq_y"
   ]
  },
  {
   "cell_type": "code",
   "execution_count": 9,
   "metadata": {},
   "outputs": [
    {
     "data": {
      "image/png": "[encoded data removed]",
      "text/latex": [
       "$$- \\gamma \\phi y_{t-1} + \\frac{\\gamma \\left(\\alpha \\gamma h \\phi y_{t-1} + \\alpha h \\phi s_{t-1} - \\alpha h \\pi_{t-1} - \\alpha h s_{t} + v_{t}\\right)}{\\alpha b + \\alpha \\gamma h + 1} - \\phi s_{t-1} + \\pi_{t-1} + s_{t}$$"
      ],
      "text/plain": [
       "            γ⋅(α⋅γ⋅h⋅φ⋅yₜ₋₁ + α⋅h⋅φ⋅sₜ₋₁ - α⋅h⋅πₜ₋₁ - α⋅h⋅sₜ + vₜ)            \n",
       "-γ⋅φ⋅yₜ₋₁ + ────────────────────────────────────────────────────── - φ⋅sₜ₋₁ + \n",
       "                               α⋅b + α⋅γ⋅h + 1                                \n",
       "\n",
       "         \n",
       "πₜ₋₁ + sₜ\n",
       "         "
      ]
     },
     "execution_count": 9,
     "metadata": {},
     "output_type": "execute_result"
    }
   ],
   "source": [
    "eq_pi= SRAS_pit.subs(yt,eq_y[0])\n",
    "eq_pi"
   ]
  },
  {
   "cell_type": "code",
   "execution_count": 51,
   "metadata": {},
   "outputs": [
    {
     "data": {
      "image/png": "[encoded data removed]",
      "text/latex": [
       "$$\\left [ \\frac{- \\alpha b \\gamma \\phi y_{t-1} - \\alpha b \\phi s_{t-1} + \\alpha b \\pi_{t-1} + \\alpha b s_{t} - \\gamma \\phi y_{t-1} + \\gamma v_{t} - \\phi s_{t-1} + \\pi_{t-1} + s_{t}}{\\alpha b + \\alpha \\gamma h + 1}\\right ]$$"
      ],
      "text/plain": [
       "⎡-α⋅b⋅γ⋅φ⋅yₜ₋₁ - α⋅b⋅φ⋅sₜ₋₁ + α⋅b⋅πₜ₋₁ + α⋅b⋅sₜ - γ⋅φ⋅yₜ₋₁ + γ⋅vₜ - φ⋅sₜ₋₁ + π\n",
       "⎢─────────────────────────────────────────────────────────────────────────────\n",
       "⎣                                   α⋅b + α⋅γ⋅h + 1                           \n",
       "\n",
       "ₜ₋₁ + sₜ⎤\n",
       "────────⎥\n",
       "        ⎦"
      ]
     },
     "execution_count": 51,
     "metadata": {},
     "output_type": "execute_result"
    }
   ],
   "source": [
    "#not necessary\n",
    "eq_pi= SRAS_pit.subs(yt,eq_yt)\n",
    "eq_pii= sm.solve(sm.Eq(eq_pi,pit),pit)\n",
    "eq_pii"
   ]
  },
  {
   "cell_type": "code",
   "execution_count": null,
   "metadata": {},
   "outputs": [],
   "source": []
  },
  {
   "cell_type": "markdown",
   "metadata": {},
   "source": [
    "Question 2"
   ]
  },
  {
   "cell_type": "code",
   "execution_count": 54,
   "metadata": {},
   "outputs": [],
   "source": [
    "pms = {}\n",
    "\n",
    "pms['alpha']=5.76\n",
    "pms['h'] = 0.5\n",
    "pms['b'] = 0.5\n",
    "pms['phi'] = 0\n",
    "pms['gamma'] = 0.075"
   ]
  },
  {
   "cell_type": "code",
   "execution_count": 55,
   "metadata": {},
   "outputs": [],
   "source": [
    "equil_output= sm.lambdify((vt, st, pit_m1, st_m1, yt_m1, alpha, h, b, phi, gamma),eq_y[0])\n",
    "def equili_output (vt, st, pit_m1, st_m1, yt_m1, alpha=pms['alpha'], h=pms['h'], b=pms['b'], phi=pms['phi'], gamma=pms['gamma']):\n",
    "    return equil_output (vt, st, pit_m1, st_m1, yt_m1, alpha, h, b, phi, gamma)\n"
   ]
  },
  {
   "cell_type": "code",
   "execution_count": 56,
   "metadata": {},
   "outputs": [
    {
     "data": {
      "image/png": "[encoded data removed]",
      "text/latex": [
       "$$0.0$$"
      ],
      "text/plain": [
       "0.0"
      ]
     },
     "execution_count": 56,
     "metadata": {},
     "output_type": "execute_result"
    }
   ],
   "source": [
    "equili_output(0,0,0,0,0)\n"
   ]
  },
  {
   "cell_type": "code",
   "execution_count": 57,
   "metadata": {},
   "outputs": [
    {
     "data": {
      "image/png": "[encoded data removed]",
      "text/latex": [
       "$$0.0244140625$$"
      ],
      "text/plain": [
       "0.0244140625"
      ]
     },
     "execution_count": 57,
     "metadata": {},
     "output_type": "execute_result"
    }
   ],
   "source": [
    "equili_output(0.1,0,0,0,0)"
   ]
  },
  {
   "cell_type": "code",
   "execution_count": 64,
   "metadata": {},
   "outputs": [],
   "source": [
    "equil_pi= sm.lambdify((pit_m1, yt, yt_m1, st, st_m1, gamma, phi), SRAS_pit)\n",
    "def equili_pi (pit_m1, yt, yt_m1, st, st_m1, gamma=pms['gamma'], phi=pms['phi']):\n",
    "    return equil_pi (pit_m1, yt, yt_m1, st, st_m1, gamma, phi)"
   ]
  },
  {
   "cell_type": "code",
   "execution_count": 65,
   "metadata": {},
   "outputs": [
    {
     "data": {
      "image/png": "[encoded data removed]",
      "text/latex": [
       "$$0.0$$"
      ],
      "text/plain": [
       "0.0"
      ]
     },
     "execution_count": 65,
     "metadata": {},
     "output_type": "execute_result"
    }
   ],
   "source": [
    "equili_pi(0,0,0,0,0)"
   ]
  },
  {
   "cell_type": "code",
   "execution_count": 66,
   "metadata": {},
   "outputs": [
    {
     "data": {
      "image/png": "[encoded data removed]",
      "text/latex": [
       "$$0.0018310546875$$"
      ],
      "text/plain": [
       "0.0018310546875"
      ]
     },
     "execution_count": 66,
     "metadata": {},
     "output_type": "execute_result"
    }
   ],
   "source": [
    "equili_pi(0,0.0244140625,0,0,0)"
   ]
  },
  {
   "cell_type": "markdown",
   "metadata": {},
   "source": [
    "Question 3"
   ]
  },
  {
   "cell_type": "code",
   "execution_count": 67,
   "metadata": {},
   "outputs": [],
   "source": [
    "pms[\"delta\"] = 0.80\n",
    "pms[\"omega\"] = 0.15\n",
    "delta = sm.symbols(\"delta\")\n",
    "omega = sm.symbols(\"omega\")\n",
    "vt_m1 = sm.symbols(\"v_t-1\")\n",
    "xt = sm.symbols(\"x_t\")\n",
    "ct = sm.symbols(\"c_t\")\n"
   ]
  },
  {
   "cell_type": "code",
   "execution_count": 68,
   "metadata": {},
   "outputs": [],
   "source": [
    "vt_ar = delta*vt_m1 + xt\n",
    "st_ar = omega*st_m1 + ct"
   ]
  },
  {
   "cell_type": "code",
   "execution_count": 69,
   "metadata": {},
   "outputs": [
    {
     "data": {
      "image/png": "[encoded data removed]",
      "text/latex": [
       "$$\\left [ \\frac{\\alpha \\gamma h \\phi y_{t-1} + \\alpha h \\phi s_{t-1} - \\alpha h \\pi_{t-1} - \\alpha h s_{t} + v_{t}}{\\alpha b + \\alpha \\gamma h + 1}\\right ]$$"
      ],
      "text/plain": [
       "⎡α⋅γ⋅h⋅φ⋅yₜ₋₁ + α⋅h⋅φ⋅sₜ₋₁ - α⋅h⋅πₜ₋₁ - α⋅h⋅sₜ + vₜ⎤\n",
       "⎢──────────────────────────────────────────────────⎥\n",
       "⎣                 α⋅b + α⋅γ⋅h + 1                  ⎦"
      ]
     },
     "execution_count": 69,
     "metadata": {},
     "output_type": "execute_result"
    }
   ],
   "source": [
    "eq_y"
   ]
  },
  {
   "cell_type": "code",
   "execution_count": 70,
   "metadata": {},
   "outputs": [
    {
     "data": {
      "image/png": "[encoded data removed]",
      "text/latex": [
       "$$\\frac{\\alpha \\gamma h \\phi y_{t-1} + \\alpha h \\phi s_{t-1} - \\alpha h \\pi_{t-1} - \\alpha h s_{t} + \\delta v_{t-1} + x_{t}}{\\alpha b + \\alpha \\gamma h + 1}$$"
      ],
      "text/plain": [
       "α⋅γ⋅h⋅φ⋅yₜ₋₁ + α⋅h⋅φ⋅sₜ₋₁ - α⋅h⋅πₜ₋₁ - α⋅h⋅sₜ + δ⋅vₜ₋₁ + xₜ\n",
       "───────────────────────────────────────────────────────────\n",
       "                      α⋅b + α⋅γ⋅h + 1                      "
      ]
     },
     "execution_count": 70,
     "metadata": {},
     "output_type": "execute_result"
    }
   ],
   "source": [
    "eq_y_ar = eq_y[0].subs(vt,vt_ar)\n",
    "eq_y_ar"
   ]
  },
  {
   "cell_type": "code",
   "execution_count": 71,
   "metadata": {},
   "outputs": [
    {
     "data": {
      "image/png": "[encoded data removed]",
      "text/latex": [
       "$$- \\gamma \\phi y_{t-1} + \\frac{\\gamma \\left(\\alpha \\gamma h \\phi y_{t-1} + \\alpha h \\phi s_{t-1} - \\alpha h \\pi_{t-1} - \\alpha h s_{t} + v_{t}\\right)}{\\alpha b + \\alpha \\gamma h + 1} - \\phi s_{t-1} + \\pi_{t-1} + s_{t}$$"
      ],
      "text/plain": [
       "            γ⋅(α⋅γ⋅h⋅φ⋅yₜ₋₁ + α⋅h⋅φ⋅sₜ₋₁ - α⋅h⋅πₜ₋₁ - α⋅h⋅sₜ + vₜ)            \n",
       "-γ⋅φ⋅yₜ₋₁ + ────────────────────────────────────────────────────── - φ⋅sₜ₋₁ + \n",
       "                               α⋅b + α⋅γ⋅h + 1                                \n",
       "\n",
       "         \n",
       "πₜ₋₁ + sₜ\n",
       "         "
      ]
     },
     "execution_count": 71,
     "metadata": {},
     "output_type": "execute_result"
    }
   ],
   "source": [
    "eq_pi"
   ]
  },
  {
   "cell_type": "code",
   "execution_count": 72,
   "metadata": {},
   "outputs": [
    {
     "data": {
      "image/png": "[encoded data removed]",
      "text/latex": [
       "$$c_{t} - \\gamma \\phi y_{t-1} + \\frac{\\gamma \\left(\\alpha \\gamma h \\phi y_{t-1} + \\alpha h \\phi s_{t-1} - \\alpha h \\pi_{t-1} - \\alpha h \\left(c_{t} + \\omega s_{t-1}\\right) + v_{t}\\right)}{\\alpha b + \\alpha \\gamma h + 1} + \\omega s_{t-1} - \\phi s_{t-1} + \\pi_{t-1}$$"
      ],
      "text/plain": [
       "                γ⋅(α⋅γ⋅h⋅φ⋅yₜ₋₁ + α⋅h⋅φ⋅sₜ₋₁ - α⋅h⋅πₜ₋₁ - α⋅h⋅(cₜ + ω⋅sₜ₋₁) + \n",
       "cₜ - γ⋅φ⋅yₜ₋₁ + ──────────────────────────────────────────────────────────────\n",
       "                                         α⋅b + α⋅γ⋅h + 1                      \n",
       "\n",
       "vₜ)                         \n",
       "─── + ω⋅sₜ₋₁ - φ⋅sₜ₋₁ + πₜ₋₁\n",
       "                            "
      ]
     },
     "execution_count": 72,
     "metadata": {},
     "output_type": "execute_result"
    }
   ],
   "source": [
    "eq_pi_ar = eq_pi.subs(st,st_ar)\n",
    "eq_pi_ar"
   ]
  },
  {
   "cell_type": "code",
   "execution_count": 73,
   "metadata": {},
   "outputs": [],
   "source": [
    "equil_piii= sm.lambdify((yt_m1, yt, pit_m1, st_m1, ct, omega, gamma, phi),eq_pi_ar)\n",
    "def equili_pi_ar (yt_m1, yt, pit_m1, st_m1, ct, omega=pms['omega'], gamma=pms['gamma'], phi=pms['phi']):\n",
    "    return equil_piii (yt_m1, yt, pit_m1, st_m1, ct, omega, gamma, phi)"
   ]
  },
  {
   "cell_type": "code",
   "execution_count": 74,
   "metadata": {},
   "outputs": [
    {
     "data": {
      "image/png": "[encoded data removed]",
      "text/latex": [
       "$$\\frac{0.075 v_{t}}{\\alpha b + 0.075 \\alpha h + 1}$$"
      ],
      "text/plain": [
       "      0.075⋅vₜ     \n",
       "───────────────────\n",
       "α⋅b + 0.075⋅α⋅h + 1"
      ]
     },
     "execution_count": 74,
     "metadata": {},
     "output_type": "execute_result"
    }
   ],
   "source": [
    "equili_pi_ar(0,0,0,0,0)"
   ]
  },
  {
   "cell_type": "code",
   "execution_count": null,
   "metadata": {},
   "outputs": [],
   "source": [
    "equil_piii= sm.lambdify((yt_m1, yt, pit_m1, st_m1, ct, omega, gamma, phi),eq_pi_ar)\n",
    "def equili_pi_ar (yt_m1, yt, pit_m1, st_m1, ct, omega=pms['omega'], gamma=pms['gamma'], phi=pms['phi']):\n",
    "    return equil_piii (yt_m1, yt, pit_m1, st_m1, ct, omega, gamma, phi)"
   ]
  },
  {
   "cell_type": "code",
   "execution_count": null,
   "metadata": {},
   "outputs": [],
   "source": [
    "#other approach"
   ]
  },
  {
   "cell_type": "code",
   "execution_count": null,
   "metadata": {},
   "outputs": [],
   "source": [
    "#define shocks:\n",
    "vt_ar = delta*vt_m1 + xt\n",
    "st_ar = omega*st_m1 + ct"
   ]
  },
  {
   "cell_type": "code",
   "execution_count": null,
   "metadata": {},
   "outputs": [],
   "source": [
    "#set number of periods\n",
    "P= 1000\n",
    "# all initial values are 0:\n",
    "initial_y= "
   ]
  },
  {
   "cell_type": "markdown",
   "metadata": {},
   "source": [
    "Excercise 3: Exchange Economy "
   ]
  },
  {
   "cell_type": "markdown",
   "metadata": {},
   "source": [
    "Consider an **exchange economy** with\n",
    "\n",
    "1. 3 goods, $(x_1,x_2,x_3)$\n",
    "2. $N$ consumers indexed by \\\\( j \\in \\{1,2,\\dots,N\\} \\\\)\n",
    "3. Preferences are Cobb-Douglas with log-normally distributed coefficients\n",
    "\n",
    "    $$ \\begin{eqnarray*}\n",
    "    u^{j}(x_{1},x_{2},x_{3}) &=& \n",
    "    \\left(x_{1}^{\\beta_{1}^{j}}x_{2}^{\\beta_{2}^{j}}x_{3}^{\\beta_{3}^{j}}\\right)^{\\gamma}\\\\\n",
    "     &  & \\,\\,\\,\\beta_{i}^{j}=\\frac{\\alpha_{i}^{j}}{\\alpha_{1}^{j}+\\alpha_{2}^{j}+\\alpha_{3}^{j}} \\\\\n",
    "     &  & \\,\\,\\,\\boldsymbol{\\alpha}^{j}=(\\alpha_{1}^{j},\\alpha_{2}^{j},\\alpha_{3}^{j}) \\\\ \n",
    "     &  & \\,\\,\\,\\log(\\boldsymbol{\\alpha}^j) \\sim \\mathcal{N}(\\mu,\\Sigma) \\\\\n",
    "    \\end{eqnarray*} $$\n",
    "\n",
    "4. Endowments are exponentially distributed,\n",
    "\n",
    "$$\n",
    "\\begin{eqnarray*}\n",
    "\\boldsymbol{e}^{j} &=& (e_{1}^{j},e_{2}^{j},e_{3}^{j}) \\\\\n",
    " &  & e_i^j \\sim f, f(z;\\zeta) =  1/\\zeta \\exp(-z/\\zeta)\n",
    "\\end{eqnarray*}\n",
    "$$\n",
    "\n",
    "Let $p_3 = 1$ be the **numeraire**. The implied **demand functions** are:\n",
    "\n",
    "$$\n",
    "\\begin{eqnarray*}\n",
    "x_{i}^{\\star j}(p_{1},p_{2},\\boldsymbol{e}^{j})&=&\\beta^{j}_i\\frac{I^j}{p_{i}} \\\\\n",
    "\\end{eqnarray*}\n",
    "$$\n",
    "\n",
    "where consumer $j$'s income is\n",
    "\n",
    "$$I^j = p_1 e_1^j + p_2 e_2^j +p_3 e_3^j$$"
   ]
  },
  {
   "cell_type": "code",
   "execution_count": 96,
   "metadata": {},
   "outputs": [],
   "source": [
    "#parameters:\n",
    "N = 100\n",
    "mu = np.array([3,2,1]) \n",
    "Sigma = np.array([[0.25, 0, 0], [0, 0.25, 0], [0, 0, 0.25]]) \n",
    "gamma = 0.8 \n",
    "zeta = 1\n",
    "\n",
    "#seed\n",
    "seed = 1986 \n",
    "np.random.seed(seed)\n",
    "\n",
    "#preferances\n",
    "alphas = np.exp(np.random.multivariate_normal(mu, Sigma, size=N)) \n",
    "betas = alphas/np.reshape(np.sum(alphas,axis=1),(N,1))\n",
    "\n",
    "beta1= betas[:,0]\n",
    "beta2= betas[:,1]\n",
    "beta3=betas[:,2]\n",
    "\n",
    "alpha1= alphas[:,0]\n",
    "alpha2= alphas[:,1]\n",
    "alpha2= alphas[:,2]\n",
    "\n",
    "#endowments\n",
    "e1 = np.random.exponential(zeta,size=N) \n",
    "e2 = np.random.exponential(zeta,size=N) \n",
    "e3 = np.random.exponential(zeta,size=N) "
   ]
  },
  {
   "cell_type": "markdown",
   "metadata": {},
   "source": [
    "Exercise 3.1"
   ]
  },
  {
   "cell_type": "code",
   "execution_count": 97,
   "metadata": {},
   "outputs": [
    {
     "data": {
      "text/plain": [
       "<function matplotlib.pyplot.show(*args, **kw)>"
      ]
     },
     "execution_count": 97,
     "metadata": {},
     "output_type": "execute_result"
    },
    {
     "data": {
      "image/png": "[encoded data removed]",
      "text/plain": [
       "<Figure size 432x288 with 1 Axes>"
      ]
     },
     "metadata": {
      "needs_background": "light"
     },
     "output_type": "display_data"
    }
   ],
   "source": [
    "plt.hist(betas, bins = 50, label= (\"Good1\", 'Good2', 'Good3'))\n",
    "plt.legend()\n",
    "plt.xlabel('Budget share')\n",
    "plt.ylabel('Number of consumers')\n",
    "plt.show"
   ]
  },
  {
   "cell_type": "markdown",
   "metadata": {},
   "source": [
    "Exercise 3.2"
   ]
  },
  {
   "cell_type": "code",
   "execution_count": 98,
   "metadata": {},
   "outputs": [],
   "source": [
    "#demand functions\n",
    "# We can eliminate p3 from the demand function, as it is equal to 1 (with p3*e3=e3)\n",
    "\n",
    "def demand_good1 (beta1, p1, e1, p2, e2, e3):\n",
    "    I= p1*e1 + p2*e2 + e3\n",
    "    return beta1*(I/p1)\n",
    "\n",
    "def demand_good2 (betas, p1, e1, p2, e2, e3):\n",
    "    I= p1*e1 + p2*e2 + e3\n",
    "    return betas*(I/p2)\n",
    "\n",
    "def demand_good3 (betas, p1, e1, p2, e2, e3):\n",
    "    I= p1*e1 + p2*e2 + e3\n",
    "    return betas*(I)"
   ]
  },
  {
   "cell_type": "code",
   "execution_count": 99,
   "metadata": {},
   "outputs": [],
   "source": [
    "#excess demand functions:\n",
    "\n",
    "def excess_demand_good1(beta1, p1, e1, p2, e2, e3):\n",
    "  \n",
    "\n",
    "    #demand\n",
    "    demand = demand_good1(beta1, p1, e1, p2, e2, e3)\n",
    "   \n",
    "    #supply\n",
    "    supply= e1\n",
    "  \n",
    "    #excess demand\n",
    "    excess_demand= demand-supply\n",
    "    \n",
    "    return excess_demand"
   ]
  },
  {
   "cell_type": "code",
   "execution_count": 100,
   "metadata": {},
   "outputs": [],
   "source": [
    "def excess_demand_good2(beta2, p1, e1, p2, e2, e3):\n",
    "    \n",
    "    #demand\n",
    "    demand= np.sum(demand_good2(beta2, p1, e1, p2, e2, e3))\n",
    "  \n",
    "    #supply\n",
    "    supply= np.sum(e2)\n",
    "    \n",
    "    #excess demand\n",
    "    excess_demand= demand- supply\n",
    "    \n",
    "    return excess_demand"
   ]
  },
  {
   "cell_type": "code",
   "execution_count": 101,
   "metadata": {},
   "outputs": [],
   "source": [
    "# b. prices \n",
    "p1_vec = np.linspace(0.1,10,100)\n",
    "p2_vec = np.linspace(0.1,10,100)\n"
   ]
  },
  {
   "cell_type": "code",
   "execution_count": 102,
   "metadata": {},
   "outputs": [
    {
     "data": {
      "image/png": "[encoded data removed]",
      "text/plain": [
       "<Figure size 432x288 with 2 Axes>"
      ]
     },
     "metadata": {
      "needs_background": "light"
     },
     "output_type": "display_data"
    }
   ],
   "source": [
    "# make a 3d plot of excess demand\n",
    "p1_grid,p2_grid = np.meshgrid(p1_vec,p2_vec,indexing='ij')\n",
    "excess_demand_good1_grid = excess_demand_good1(beta1,p1_grid,e1,p2_grid,e2,e3)\n",
    "\n",
    "fig = plt.figure()\n",
    "ax = fig.add_subplot(1,1,1,projection='3d')\n",
    "cs = ax.plot_surface(p1_grid,p2_grid,excess_demand_good1_grid,cmap=cm.jet)\n",
    "\n",
    "# c. add labels\n",
    "ax.set_xlabel('$x_1$')\n",
    "ax.set_ylabel('$x_2$')\n",
    "ax.set_zlabel('$f$')\n",
    "\n",
    "# d. invert xaxis\n",
    "ax.invert_xaxis()\n",
    "\n",
    "# e. remove background\n",
    "ax.xaxis.pane.fill = False\n",
    "ax.yaxis.pane.fill = False\n",
    "ax.zaxis.pane.fill = False\n",
    "\n",
    "# f. add colorbar\n",
    "fig.colorbar(cs);\n",
    "plt.show()"
   ]
  },
  {
   "cell_type": "code",
   "execution_count": null,
   "metadata": {},
   "outputs": [],
   "source": [
    "# make a 3d plot of excess demand\n",
    "p1_grid,p2_grid = np.meshgrid(p1_vec,p2_vec,indexing='ij')\n",
    "excess_demand_good1_grid = excess_demand_good1(beta1,p1_grid,e1,p2_grid,e2,e3)\n",
    "\n",
    "fig = plt.figure()\n",
    "ax = fig.add_subplot(1,1,1,projection='3d')\n",
    "cs = ax.plot_surface(p1_grid,p2_grid,excess_demand_good1_grid,cmap=cm.jet)\n",
    "\n",
    "# c. add labels\n",
    "ax.set_xlabel('$x_1$')\n",
    "ax.set_ylabel('$x_2$')\n",
    "ax.set_zlabel('$f$')\n",
    "\n",
    "# d. invert xaxis\n",
    "ax.invert_xaxis()\n",
    "\n",
    "# e. remove background\n",
    "ax.xaxis.pane.fill = False\n",
    "ax.yaxis.pane.fill = False\n",
    "ax.zaxis.pane.fill = False\n",
    "\n",
    "# f. add colorbar\n",
    "fig.colorbar(cs);\n",
    "plt.show()"
   ]
  },
  {
   "cell_type": "code",
   "execution_count": null,
   "metadata": {},
   "outputs": [],
   "source": []
  },
  {
   "cell_type": "code",
   "execution_count": null,
   "metadata": {},
   "outputs": [],
   "source": [
    "#Excercise 3"
   ]
  },
  {
   "cell_type": "code",
   "execution_count": 18,
   "metadata": {},
   "outputs": [],
   "source": [
    "def find_equilibrium(betas, p1, e1, p2, e2, e3, kappa=0.5,eps=1e-8,maxiter=100):\n",
    "    \n",
    "    t = 0\n",
    "    while True:\n",
    "\n",
    "        # a. step 1: excess demand\n",
    "        Z1 = excess_demand_good1(betas, p1, e1, p2, e2, e3)\n",
    "        Z2 = excess_demand_good2(betas, p1, e1, p2, e2, e3)\n",
    "        \n",
    "        # b: step 2: stop?\n",
    "        if np.abs(z1) < eps and np.abs(z2) < eps or t >= maxiter:\n",
    "            print(f'{t:2d}: (p1,p2)= ({p1:.4f},{p2:.4f}) -> excess demand(Z1,Z2)= ({Z1:.4f}, {Z2:.4f})')\n",
    "      \n",
    "        # c. step 3: update p1\n",
    "        p1 = p1 + kappa*Z1/N\n",
    "        p2 = p2 + kappa*Z1/N\n",
    "            \n",
    "        if t < 5 or t%25 == 0:\n",
    "            print(f'{t:2d}: (p1,p2)= ({p1:.4f},{p2:.4f}) -> excess demand(Z1,Z2)= ({Z1:.4f}, {Z2:.4f})')\n",
    "        elif t == 5:\n",
    "            print('   ...')\n",
    "            \n",
    "        t += 1   \n",
    "\n",
    "    return p1, p2"
   ]
  },
  {
   "cell_type": "code",
   "execution_count": 19,
   "metadata": {},
   "outputs": [
    {
     "ename": "ValueError",
     "evalue": "operands could not be broadcast together with shapes (50000,3) (50000,) ",
     "output_type": "error",
     "traceback": [
      "\u001b[1;31m---------------------------------------------------------------------------\u001b[0m",
      "\u001b[1;31mValueError\u001b[0m                                Traceback (most recent call last)",
      "\u001b[1;32m<ipython-input-19-d5410730a426>\u001b[0m in \u001b[0;36m<module>\u001b[1;34m\u001b[0m\n\u001b[1;32m----> 1\u001b[1;33m \u001b[0mfind_equilibrium\u001b[0m\u001b[1;33m(\u001b[0m\u001b[0mbetas\u001b[0m\u001b[1;33m,\u001b[0m \u001b[0mp1\u001b[0m\u001b[1;33m,\u001b[0m \u001b[0me1\u001b[0m\u001b[1;33m,\u001b[0m \u001b[0mp2\u001b[0m\u001b[1;33m,\u001b[0m \u001b[0me2\u001b[0m\u001b[1;33m,\u001b[0m \u001b[0me3\u001b[0m\u001b[1;33m)\u001b[0m\u001b[1;33m\u001b[0m\u001b[1;33m\u001b[0m\u001b[0m\n\u001b[0m",
      "\u001b[1;32m<ipython-input-18-030422f89e7f>\u001b[0m in \u001b[0;36mfind_equilibrium\u001b[1;34m(betas, p1, e1, p2, e2, e3, kappa, eps, maxiter)\u001b[0m\n\u001b[0;32m      5\u001b[0m \u001b[1;33m\u001b[0m\u001b[0m\n\u001b[0;32m      6\u001b[0m         \u001b[1;31m# a. step 1: excess demand\u001b[0m\u001b[1;33m\u001b[0m\u001b[1;33m\u001b[0m\u001b[1;33m\u001b[0m\u001b[0m\n\u001b[1;32m----> 7\u001b[1;33m         \u001b[0mZ1\u001b[0m \u001b[1;33m=\u001b[0m \u001b[0mexcess_demand_good1\u001b[0m\u001b[1;33m(\u001b[0m\u001b[0mbetas\u001b[0m\u001b[1;33m,\u001b[0m \u001b[0mp1\u001b[0m\u001b[1;33m,\u001b[0m \u001b[0me1\u001b[0m\u001b[1;33m,\u001b[0m \u001b[0mp2\u001b[0m\u001b[1;33m,\u001b[0m \u001b[0me2\u001b[0m\u001b[1;33m,\u001b[0m \u001b[0me3\u001b[0m\u001b[1;33m)\u001b[0m\u001b[1;33m\u001b[0m\u001b[1;33m\u001b[0m\u001b[0m\n\u001b[0m\u001b[0;32m      8\u001b[0m         \u001b[0mZ2\u001b[0m \u001b[1;33m=\u001b[0m \u001b[0mexcess_demand_good2\u001b[0m\u001b[1;33m(\u001b[0m\u001b[0mbetas\u001b[0m\u001b[1;33m,\u001b[0m \u001b[0mp1\u001b[0m\u001b[1;33m,\u001b[0m \u001b[0me1\u001b[0m\u001b[1;33m,\u001b[0m \u001b[0mp2\u001b[0m\u001b[1;33m,\u001b[0m \u001b[0me2\u001b[0m\u001b[1;33m,\u001b[0m \u001b[0me3\u001b[0m\u001b[1;33m)\u001b[0m\u001b[1;33m\u001b[0m\u001b[1;33m\u001b[0m\u001b[0m\n\u001b[0;32m      9\u001b[0m \u001b[1;33m\u001b[0m\u001b[0m\n",
      "\u001b[1;32m<ipython-input-5-60ef5800d25f>\u001b[0m in \u001b[0;36mexcess_demand_good1\u001b[1;34m(betas, p1, e1, p2, e2, e3)\u001b[0m\n\u001b[0;32m      4\u001b[0m \u001b[1;33m\u001b[0m\u001b[0m\n\u001b[0;32m      5\u001b[0m     \u001b[1;31m#demand\u001b[0m\u001b[1;33m\u001b[0m\u001b[1;33m\u001b[0m\u001b[1;33m\u001b[0m\u001b[0m\n\u001b[1;32m----> 6\u001b[1;33m     \u001b[0mdemand\u001b[0m \u001b[1;33m=\u001b[0m \u001b[0mnp\u001b[0m\u001b[1;33m.\u001b[0m\u001b[0msum\u001b[0m\u001b[1;33m(\u001b[0m\u001b[0mdemand_good1\u001b[0m\u001b[1;33m(\u001b[0m\u001b[0mbetas\u001b[0m\u001b[1;33m,\u001b[0m \u001b[0mp1\u001b[0m\u001b[1;33m,\u001b[0m \u001b[0me1\u001b[0m\u001b[1;33m,\u001b[0m \u001b[0mp2\u001b[0m\u001b[1;33m,\u001b[0m \u001b[0me2\u001b[0m\u001b[1;33m,\u001b[0m \u001b[0me3\u001b[0m\u001b[1;33m)\u001b[0m\u001b[1;33m)\u001b[0m\u001b[1;33m\u001b[0m\u001b[1;33m\u001b[0m\u001b[0m\n\u001b[0m\u001b[0;32m      7\u001b[0m \u001b[1;33m\u001b[0m\u001b[0m\n\u001b[0;32m      8\u001b[0m     \u001b[1;31m#supply\u001b[0m\u001b[1;33m\u001b[0m\u001b[1;33m\u001b[0m\u001b[1;33m\u001b[0m\u001b[0m\n",
      "\u001b[1;32m<ipython-input-4-07e1f3c76e25>\u001b[0m in \u001b[0;36mdemand_good1\u001b[1;34m(betas, p1, e1, p2, e2, e3)\u001b[0m\n\u001b[0;32m      4\u001b[0m \u001b[1;32mdef\u001b[0m \u001b[0mdemand_good1\u001b[0m \u001b[1;33m(\u001b[0m\u001b[0mbetas\u001b[0m\u001b[1;33m,\u001b[0m \u001b[0mp1\u001b[0m\u001b[1;33m,\u001b[0m \u001b[0me1\u001b[0m\u001b[1;33m,\u001b[0m \u001b[0mp2\u001b[0m\u001b[1;33m,\u001b[0m \u001b[0me2\u001b[0m\u001b[1;33m,\u001b[0m \u001b[0me3\u001b[0m\u001b[1;33m)\u001b[0m\u001b[1;33m:\u001b[0m\u001b[1;33m\u001b[0m\u001b[1;33m\u001b[0m\u001b[0m\n\u001b[0;32m      5\u001b[0m     \u001b[0mI\u001b[0m\u001b[1;33m=\u001b[0m \u001b[0mp1\u001b[0m\u001b[1;33m*\u001b[0m\u001b[0me1\u001b[0m \u001b[1;33m+\u001b[0m \u001b[0mp2\u001b[0m\u001b[1;33m*\u001b[0m\u001b[0me2\u001b[0m \u001b[1;33m+\u001b[0m \u001b[0me3\u001b[0m\u001b[1;33m\u001b[0m\u001b[1;33m\u001b[0m\u001b[0m\n\u001b[1;32m----> 6\u001b[1;33m     \u001b[1;32mreturn\u001b[0m \u001b[0mbetas\u001b[0m\u001b[1;33m*\u001b[0m\u001b[1;33m(\u001b[0m\u001b[0mI\u001b[0m\u001b[1;33m/\u001b[0m\u001b[0mp1\u001b[0m\u001b[1;33m)\u001b[0m\u001b[1;33m\u001b[0m\u001b[1;33m\u001b[0m\u001b[0m\n\u001b[0m\u001b[0;32m      7\u001b[0m \u001b[1;33m\u001b[0m\u001b[0m\n\u001b[0;32m      8\u001b[0m \u001b[1;32mdef\u001b[0m \u001b[0mdemand_good2\u001b[0m \u001b[1;33m(\u001b[0m\u001b[0mbetas\u001b[0m\u001b[1;33m,\u001b[0m \u001b[0mp1\u001b[0m\u001b[1;33m,\u001b[0m \u001b[0me1\u001b[0m\u001b[1;33m,\u001b[0m \u001b[0mp2\u001b[0m\u001b[1;33m,\u001b[0m \u001b[0me2\u001b[0m\u001b[1;33m,\u001b[0m \u001b[0me3\u001b[0m\u001b[1;33m)\u001b[0m\u001b[1;33m:\u001b[0m\u001b[1;33m\u001b[0m\u001b[1;33m\u001b[0m\u001b[0m\n",
      "\u001b[1;31mValueError\u001b[0m: operands could not be broadcast together with shapes (50000,3) (50000,) "
     ]
    }
   ],
   "source": [
    "find_equilibrium(betas, p1, e1, p2, e2, e3)"
   ]
  },
  {
   "cell_type": "code",
   "execution_count": null,
   "metadata": {},
   "outputs": [],
   "source": []
  }
 ],
 "metadata": {
  "kernelspec": {
   "display_name": "Python 3",
   "language": "python",
   "name": "python3"
  },
  "language_info": {
   "codemirror_mode": {
    "name": "ipython",
    "version": 3
   },
   "file_extension": ".py",
   "mimetype": "text/x-python",
   "name": "python",
   "nbconvert_exporter": "python",
   "pygments_lexer": "ipython3",
   "version": "3.7.1"
  },
  "toc-autonumbering": false,
  "toc-showtags": false
 },
 "nbformat": 4,
 "nbformat_minor": 2
}
