{
 "cells": [
  {
   "cell_type": "code",
   "execution_count": 3,
   "metadata": {},
   "outputs": [],
   "source": [
    "import numpy as np\n",
    "import sympy as sm\n",
    "sm.init_printing(use_unicode=True)"
   ]
  },
  {
   "cell_type": "code",
   "execution_count": 55,
   "metadata": {},
   "outputs": [],
   "source": [
    "alpha = sm.symbols('alpha')\n",
    "b = sm.symbols('b')\n",
    "gamma = sm.symbols('gamma')\n",
    "h = sm.symbols('h')\n",
    "phi = sm.symbols('phi')\n",
    "yt = sm.symbols('y_t')\n",
    "pit = sm.symbols('pi_t')\n",
    "pit_minus_1=sm.symbols('pi_t-1')\n",
    "yt_minus_1 = sm.symbols('y_t-1')\n",
    "vt = sm.symbols('v_t')\n",
    "st = sm.symbols('s_t')\n",
    "st_minus_1 = sm.symbols('s_t-1')\n",
    "rt = sm.symbols('r_t')\n",
    "it = sm.symbols('i_t')\n",
    "exp_pi_t = sm.symbols('E[pi_t]')\n",
    "exp_pi_t_plus_1 = sm.symbols('E[pi_t+1]')"
   ]
  },
  {
   "cell_type": "markdown",
   "metadata": {},
   "source": [
    "Question 1"
   ]
  },
  {
   "cell_type": "code",
   "execution_count": 56,
   "metadata": {},
   "outputs": [
    {
     "data": {
      "image/png": "[encoded data removed]",
      "text/latex": [
       "$$- \\gamma \\phi y_{t-1} + \\gamma y_{t} - \\phi s_{t-1} + \\pi_{t-1} + s_{t}$$"
      ],
      "text/plain": [
       "-γ⋅φ⋅yₜ₋₁ + γ⋅yₜ - φ⋅sₜ₋₁ + πₜ₋₁ + sₜ"
      ]
     },
     "execution_count": 56,
     "metadata": {},
     "output_type": "execute_result"
    }
   ],
   "source": [
    "SRAS_pit=pit_minus_1-phi*gamma*yt_minus_1+st-phi*st_minus_1+gamma*yt\n",
    "SRAS_pit"
   ]
  },
  {
   "cell_type": "code",
   "execution_count": 59,
   "metadata": {},
   "outputs": [
    {
     "data": {
      "image/png": "[encoded data removed]",
      "text/latex": [
       "$$\\frac{v_{t} - y_{t} \\left(- \\alpha b + 1\\right)}{\\alpha h}$$"
      ],
      "text/plain": [
       "vₜ - yₜ⋅(-α⋅b + 1)\n",
       "──────────────────\n",
       "       α⋅h        "
      ]
     },
     "execution_count": 59,
     "metadata": {},
     "output_type": "execute_result"
    }
   ],
   "source": [
    "AD_pit=(1/(h*alpha))*(vt-(1-b*alpha)*yt)\n",
    "AD_pit"
   ]
  },
  {
   "cell_type": "code",
   "execution_count": 57,
   "metadata": {},
   "outputs": [
    {
     "data": {
      "image/png": "[encoded data removed]",
      "text/latex": [
       "$$- \\gamma \\phi y_{t-1} + \\gamma y_{t} - \\phi s_{t-1} + \\pi_{t-1} + s_{t} - \\frac{v_{t} - y_{t} \\left(- \\alpha b + 1\\right)}{\\alpha h}$$"
      ],
      "text/plain": [
       "                                        vₜ - yₜ⋅(-α⋅b + 1)\n",
       "-γ⋅φ⋅yₜ₋₁ + γ⋅yₜ - φ⋅sₜ₋₁ + πₜ₋₁ + sₜ - ──────────────────\n",
       "                                               α⋅h        "
      ]
     },
     "execution_count": 57,
     "metadata": {},
     "output_type": "execute_result"
    }
   ],
   "source": [
    "AS_minus_AD= SRAS_pit-AD_pit\n",
    "AS_minus_AD"
   ]
  },
  {
   "cell_type": "code",
   "execution_count": 58,
   "metadata": {},
   "outputs": [
    {
     "data": {
      "image/png": "[encoded data removed]",
      "text/latex": [
       "$$\\frac{\\alpha \\gamma h \\phi y_{t-1} + \\alpha h \\phi s_{t-1} - \\alpha h \\pi_{t-1} - \\alpha h s_{t} + v_{t}}{- \\alpha b + \\alpha \\gamma h + 1}$$"
      ],
      "text/plain": [
       "α⋅γ⋅h⋅φ⋅yₜ₋₁ + α⋅h⋅φ⋅sₜ₋₁ - α⋅h⋅πₜ₋₁ - α⋅h⋅sₜ + vₜ\n",
       "──────────────────────────────────────────────────\n",
       "                 -α⋅b + α⋅γ⋅h + 1                 "
      ]
     },
     "execution_count": 58,
     "metadata": {},
     "output_type": "execute_result"
    }
   ],
   "source": [
    "eq_y = sm.solve(sm.Eq(AS_minus_AD,0),yt)[0]\n",
    "eq_y"
   ]
  },
  {
   "cell_type": "code",
   "execution_count": 61,
   "metadata": {},
   "outputs": [
    {
     "data": {
      "image/png": "[encoded data removed]",
      "text/latex": [
       "$$- \\gamma \\phi y_{t-1} + \\frac{\\gamma \\left(\\alpha \\gamma h \\phi y_{t-1} + \\alpha h \\phi s_{t-1} - \\alpha h \\pi_{t-1} - \\alpha h s_{t} + v_{t}\\right)}{- \\alpha b + \\alpha \\gamma h + 1} - \\phi s_{t-1} + \\pi_{t-1} + s_{t}$$"
      ],
      "text/plain": [
       "            γ⋅(α⋅γ⋅h⋅φ⋅yₜ₋₁ + α⋅h⋅φ⋅sₜ₋₁ - α⋅h⋅πₜ₋₁ - α⋅h⋅sₜ + vₜ)            \n",
       "-γ⋅φ⋅yₜ₋₁ + ────────────────────────────────────────────────────── - φ⋅sₜ₋₁ + \n",
       "                               -α⋅b + α⋅γ⋅h + 1                               \n",
       "\n",
       "         \n",
       "πₜ₋₁ + sₜ\n",
       "         "
      ]
     },
     "execution_count": 61,
     "metadata": {},
     "output_type": "execute_result"
    }
   ],
   "source": [
    "eq_pi= SRAS_pit.subs(yt,eq_y)\n",
    "eq_pi"
   ]
  },
  {
   "cell_type": "markdown",
   "metadata": {},
   "source": [
    "Question 2"
   ]
  },
  {
   "cell_type": "code",
   "execution_count": 63,
   "metadata": {},
   "outputs": [],
   "source": [
    "def eq_yt(alpha=5.76,gamma=0.075,h=0.5,phi=0,yt_minus_1=0,st_minus_1=0,pit_minus_1=0,st=0,vt=0,b=0.5):\n",
    "    solution= (alpha*gamma*h*phi*yt_minus_1+alpha*h*phi*st_minus_1-alpha*h*pit_minus_1-alpha*h*st+vt)/(-alpha*b+alpha*gamma*h+1)\n",
    "    return solution"
   ]
  },
  {
   "cell_type": "code",
   "execution_count": null,
   "metadata": {},
   "outputs": [],
   "source": []
  }
 ],
 "metadata": {
  "kernelspec": {
   "display_name": "Python 3",
   "language": "python",
   "name": "python3"
  },
  "language_info": {
   "codemirror_mode": {
    "name": "ipython",
    "version": 3
   },
   "file_extension": ".py",
   "mimetype": "text/x-python",
   "name": "python",
   "nbconvert_exporter": "python",
   "pygments_lexer": "ipython3",
   "version": "3.7.1"
  }
 },
 "nbformat": 4,
 "nbformat_minor": 2
}
