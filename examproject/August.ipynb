{
 "cells": [
  {
   "cell_type": "code",
   "execution_count": 1,
   "metadata": {},
   "outputs": [],
   "source": [
    "import random \n",
    "import sympy as sm\n",
    "import numpy as np\n",
    "import matplotlib.pyplot as plt\n",
    "import ipywidgets as widgets\n",
    "from scipy import optimize\n",
    "\n",
    "#setting nice printing and seed\n",
    "sm.init_printing(use_unicode=True)\n",
    "random.seed(12848174)"
   ]
  },
  {
   "cell_type": "code",
   "execution_count": 2,
   "metadata": {},
   "outputs": [],
   "source": [
    "rho = sm.symbols('rho')\n",
    "beta = sm.symbols('beta')\n",
    "gamma = sm.symbols('gamma')\n",
    "w = sm.symbols('w')\n",
    "b = sm.symbols('b')\n",
    "delta = sm.symbols('Delta')\n",
    "h1 = sm.symbols('h_1')\n",
    "h2 = sm.symbols('h_2')\n",
    "c1 = sm.symbols('c1')\n",
    "c2 = sm.symbols('c2')\n",
    "l1 = sm.symbols('l1')\n",
    "l2 = sm.symbols('l2')\n",
    "exp = sm.symbols('E[v_2(h_2)]')\n",
    "u = sm.symbols(\"u\")"
   ]
  },
  {
   "cell_type": "code",
   "execution_count": 3,
   "metadata": {},
   "outputs": [
    {
     "data": {
      "image/png": "[encoded data removed]",
      "text/latex": [
       "$$\\frac{c_{2}^{- \\rho + 1}}{- \\rho + 1} - \\gamma l_{2}$$"
      ],
      "text/plain": [
       "  -ρ + 1       \n",
       "c₂             \n",
       "──────── - γ⋅l₂\n",
       " -ρ + 1        "
      ]
     },
     "execution_count": 3,
     "metadata": {},
     "output_type": "execute_result"
    }
   ],
   "source": [
    "u2 = (c2**(1-rho))/(1-rho)\n",
    "dis_u2 = gamma*l2\n",
    "total_u2 = u2 - dis_u2\n",
    "h2_f = (h1 + l1)\n",
    "c2_f = w*h2*l2\n",
    "total_u2"
   ]
  },
  {
   "cell_type": "code",
   "execution_count": 4,
   "metadata": {},
   "outputs": [
    {
     "data": {
      "image/png": "[encoded data removed]",
      "text/latex": [
       "$$- \\gamma l_{2} + \\frac{\\left(h_{2} l_{2} w\\right)^{- \\rho + 1}}{- \\rho + 1}$$"
      ],
      "text/plain": [
       "                 -ρ + 1\n",
       "        (h₂⋅l₂⋅w)      \n",
       "-γ⋅l₂ + ───────────────\n",
       "             -ρ + 1    "
      ]
     },
     "execution_count": 4,
     "metadata": {},
     "output_type": "execute_result"
    }
   ],
   "source": [
    "total_u2_sub2 = total_u2.subs(c2,c2_f)\n",
    "#foc2 = sm.diff(total_u2_sub2,l2)\n",
    "#foc2\n",
    "total_u2_sub2"
   ]
  },
  {
   "cell_type": "code",
   "execution_count": 5,
   "metadata": {},
   "outputs": [
    {
     "data": {
      "image/png": "[encoded data removed]",
      "text/latex": [
       "$$\\frac{\\left(- \\gamma l_{2} \\rho + \\gamma l_{2} - \\rho u + u\\right)^{- \\frac{1}{\\rho - 1}}}{l_{2} w}$$"
      ],
      "text/plain": [
       "                           -1  \n",
       "                          ─────\n",
       "                          ρ - 1\n",
       "(-γ⋅l₂⋅ρ + γ⋅l₂ - ρ⋅u + u)     \n",
       "───────────────────────────────\n",
       "              l₂⋅w             "
      ]
     },
     "execution_count": 5,
     "metadata": {},
     "output_type": "execute_result"
    }
   ],
   "source": [
    "#we should not solve for l2 rigth? this is just a dummy of work or not\n",
    "#sol2 = sm.solve(sm.Eq(foc2,0),l2)[0]\n",
    "#sol2\n",
    "h2_sol = sm.solve(sm.Eq(total_u2_sub2,u),h2)[0]\n",
    "h2_sol"
   ]
  },
  {
   "cell_type": "code",
   "execution_count": 6,
   "metadata": {},
   "outputs": [],
   "source": [
    "def utility_work(h2,l2,w,rho,gamma):\n",
    "    solution = (((h2*l2*w)**(1-rho))/(1-rho))-gamma*l2\n",
    "    return solution\n",
    "\n",
    "def utility_notwork(benefits,rho,gamma,l2):\n",
    " \n",
    "    b = ((benefits**(1-rho))/(1-rho))-gamma*l2\n",
    "    return b\n",
    "def hum_cap_u(l2,gamma,b,w,rho):\n",
    "    # i use h2_sol but replace u with the \"cutoff\"-value, that is the value of unemployment benefits\n",
    "    nw_u = utility_notwork(b,rho,gamma,0)\n",
    "    hum_cap = ((-gamma*l2*rho+gamma*l2-rho*nw_u+nw_u)**-(1/(rho-1)))/(l2*w)\n",
    "    \n",
    "    return hum_cap"
   ]
  },
  {
   "cell_type": "code",
   "execution_count": 7,
   "metadata": {},
   "outputs": [],
   "source": [
    "rho = 2\n",
    "beta = 0.96\n",
    "gamma = 0.1\n",
    "w = 2\n",
    "b = 1\n",
    "delta = 0.1"
   ]
  },
  {
   "cell_type": "code",
   "execution_count": 8,
   "metadata": {},
   "outputs": [
    {
     "data": {
      "image/png": "[encoded data removed]",
      "text/latex": [
       "$$0.5555555555555556$$"
      ],
      "text/plain": [
       "0.5555555555555556"
      ]
     },
     "execution_count": 8,
     "metadata": {},
     "output_type": "execute_result"
    }
   ],
   "source": [
    "#I calculatet the humam capital given b\n",
    "hum_cap_u(1,gamma,b,w,rho)"
   ]
  },
  {
   "cell_type": "code",
   "execution_count": 9,
   "metadata": {},
   "outputs": [],
   "source": [
    "def plot_func(h2,w,rho,gamma,b):\n",
    "    \n",
    "    work = utility_work(h2,1,w,rho,gamma)\n",
    "    not_work = utility_notwork(b,rho,gamma,0)\n",
    "    cutoff = hum_cap_u(1,gamma,b,w,rho)\n",
    "    \n",
    "    plt.plot(h2,work,label = \"Utility of working\")\n",
    "    plt.plot(h2,not_work,color=\"red\",label=\"Utility of not working\")\n",
    "    plt.legend()\n",
    "    \n",
    "    plt.xlabel(\"Human capital\")\n",
    "    plt.ylabel(\"Utility\")\n",
    "\n",
    "    plt.show\n",
    "    \n",
    "    print(\"The worker will supply labour if human capital is above\",round(cutoff[0],2), \"and no labour if it is below\" )\n",
    "    return "
   ]
  },
  {
   "cell_type": "code",
   "execution_count": 10,
   "metadata": {},
   "outputs": [
    {
     "name": "stdout",
     "output_type": "stream",
     "text": [
      "The worker will supply labour if human capital is above 0.56 and no labour if it is below\n"
     ]
    },
    {
     "data": {
      "image/png": "[encoded data removed]",
      "text/plain": [
       "<Figure size 432x288 with 1 Axes>"
      ]
     },
     "metadata": {
      "needs_background": "light"
     },
     "output_type": "display_data"
    }
   ],
   "source": [
    "h_vec = np.linspace(0.1,1.5,100) \n",
    "b_vec = np.linspace(1,1,100)\n",
    "plot_func(h_vec,w,rho,gamma,b_vec)"
   ]
  },
  {
   "cell_type": "code",
   "execution_count": 11,
   "metadata": {},
   "outputs": [
    {
     "name": "stdout",
     "output_type": "stream",
     "text": [
      "0.56 human capital\n"
     ]
    }
   ],
   "source": [
    "#Another way of showing this is using a binary plot. This requires us to define \n",
    "#each level om human capital as either a capital where the worker provies labour\n",
    "# or a level where she does not - the cutoff is as shown before\n",
    "cutoff = hum_cap_u(1,gamma,b,w,rho)\n",
    "print(round(cutoff,2),\"human capital\")"
   ]
  },
  {
   "cell_type": "code",
   "execution_count": 12,
   "metadata": {},
   "outputs": [],
   "source": [
    "#We define a list\n",
    "willwork = list(range(100))\n",
    "\n",
    "#And fill it with either success (1) if the human capital i above the cutoff or\n",
    "#or falier (0) if it is on the cutoff or below \n",
    "for i in range(len(h_vec)): \n",
    "    if h_vec[i] > cutoff : \n",
    "        willwork[i] = 1\n",
    "    else : \n",
    "        willwork[i] = 0"
   ]
  },
  {
   "cell_type": "code",
   "execution_count": 13,
   "metadata": {},
   "outputs": [
    {
     "data": {
      "text/plain": [
       "<function matplotlib.pyplot.show(*args, **kw)>"
      ]
     },
     "execution_count": 13,
     "metadata": {},
     "output_type": "execute_result"
    },
    {
     "data": {
      "image/png": "[encoded data removed]",
      "text/plain": [
       "<Figure size 432x288 with 1 Axes>"
      ]
     },
     "metadata": {
      "needs_background": "light"
     },
     "output_type": "display_data"
    }
   ],
   "source": [
    "cutoff_vec = np.linspace(cutoff,cutoff,100)\n",
    "plt.plot(h_vec,willwork)\n",
    "plt.plot(cutoff_vec,willwork,linestyle=\"dashed\",color=\"red\",label=(\"Cutoff human capital level\"))\n",
    "plt.legend()\n",
    "plt.xlabel(\"Human capital\")\n",
    "plt.ylabel(\"Labour supply\")\n",
    "\n",
    "plt.show"
   ]
  },
  {
   "cell_type": "markdown",
   "metadata": {},
   "source": [
    "some text here"
   ]
  },
  {
   "cell_type": "code",
   "execution_count": 14,
   "metadata": {},
   "outputs": [],
   "source": [
    "#the labour supply as a function of human captal is then:\n",
    "def labour_supply(hum_cap,w,rho,gamma,b):\n",
    "    cutoff = hum_cap_u(1,gamma,b,w,rho)\n",
    "    \n",
    "    if hum_cap > cutoff :\n",
    "        print(\"with a human capital level of\",hum_cap,\"the worker wil supply 1 labour (l = 1)\")\n",
    "        l = 1\n",
    "    else :\n",
    "        print(\"with a human capital level of\",hum_cap,\"the worker will supply 0 labour (l=0)\")\n",
    "        l = 0\n",
    "    return l"
   ]
  },
  {
   "cell_type": "code",
   "execution_count": 15,
   "metadata": {},
   "outputs": [
    {
     "data": {
      "application/vnd.jupyter.widget-view+json": {
       "model_id": "19d9e4d57457445cb6d439777cd649dd",
       "version_major": 2,
       "version_minor": 0
      },
      "text/plain": [
       "interactive(children=(FloatSlider(value=0.1, description='hum_cap', max=1.5, min=0.1, step=0.01), Output()), _…"
      ]
     },
     "metadata": {},
     "output_type": "display_data"
    },
    {
     "data": {
      "text/plain": [
       "<function __main__.labour_supply(hum_cap, w, rho, gamma, b)>"
      ]
     },
     "execution_count": 15,
     "metadata": {},
     "output_type": "execute_result"
    }
   ],
   "source": [
    "human_capital = widgets.FloatSlider(min=0.1,max=1.5,value=0.1,step=0.01)\n",
    "widgets.interact(labour_supply,hum_cap=human_capital,w=widgets.fixed(w),rho=widgets.fixed(rho),gamma=widgets.fixed(gamma),b=widgets.fixed(b))"
   ]
  },
  {
   "cell_type": "raw",
   "metadata": {},
   "source": [
    "Interactive solution to question 1"
   ]
  },
  {
   "cell_type": "code",
   "execution_count": null,
   "metadata": {},
   "outputs": [],
   "source": []
  },
  {
   "cell_type": "markdown",
   "metadata": {},
   "source": [
    "## Question 2"
   ]
  },
  {
   "cell_type": "code",
   "execution_count": 16,
   "metadata": {},
   "outputs": [],
   "source": [
    "rho = sm.symbols('rho')\n",
    "beta = sm.symbols('beta')\n",
    "gamma = sm.symbols('gamma')\n",
    "w = sm.symbols('w')\n",
    "b = sm.symbols('b')\n",
    "delta = sm.symbols('Delta')\n",
    "h1 = sm.symbols('h_1')\n",
    "h2 = sm.symbols('h_2')\n",
    "c1 = sm.symbols('c1')\n",
    "c2 = sm.symbols('c2')\n",
    "l1 = sm.symbols('l1')\n",
    "l2 = sm.symbols('l2')\n",
    "exp = sm.symbols('E[v_2(h_2)]')\n",
    "u = sm.symbols(\"u\")"
   ]
  },
  {
   "cell_type": "code",
   "execution_count": 17,
   "metadata": {},
   "outputs": [
    {
     "data": {
      "image/png": "[encoded data removed]",
      "text/latex": [
       "$$E[v_{2(h 2)]} \\beta + \\frac{c_{1}^{- \\rho + 1}}{- \\rho + 1} - \\gamma l_{1}$$"
      ],
      "text/plain": [
       "                  -ρ + 1       \n",
       "                c₁             \n",
       "E[v_2(h_2)]⋅β + ──────── - γ⋅l₁\n",
       "                 -ρ + 1        "
      ]
     },
     "execution_count": 17,
     "metadata": {},
     "output_type": "execute_result"
    }
   ],
   "source": [
    "u1 = (c1**(1-rho))/(1-rho)\n",
    "dis_u1 = gamma*l1\n",
    "total_u1 = u1 - dis_u1 + beta*exp\n",
    "total_u1"
   ]
  },
  {
   "cell_type": "code",
   "execution_count": 27,
   "metadata": {},
   "outputs": [],
   "source": [
    "# I define funcitons for period 2 \n",
    "def utility_2(h1,w,l1,rho,gamma,beta,delta,b):\n",
    "    if l1 == 1:\n",
    "        h2 = h1+1 +(0.5*delta)\n",
    "        c = w*h1*1\n",
    "        \n",
    "        u_p2 = utility_work(h2,w,1,rho,gamma)\n",
    "    \n",
    "        solution = ((c**(1-rho))/(1-rho))-gamma*1 +beta*u_p2\n",
    "    else :\n",
    "       # h2 = h1 + 0 + (0.5*delta)\n",
    "        c = b\n",
    "        \n",
    "       # u_p2 = utility_work(h2,1,w,rho,gamma)\n",
    "        \n",
    "        solution = ((c**(1-rho))/(1-rho))-gamma*0 \n",
    "        \n",
    "        #+beta*u_p2\n",
    "    return solution\n"
   ]
  },
  {
   "cell_type": "code",
   "execution_count": 28,
   "metadata": {},
   "outputs": [],
   "source": [
    "rho = 2\n",
    "beta = 0.96\n",
    "gamma = 0.1\n",
    "w = 2\n",
    "b = 1\n",
    "delta = 0.1\n",
    "h_vec = np.linspace(0.1,1.5,100) \n"
   ]
  },
  {
   "cell_type": "code",
   "execution_count": 39,
   "metadata": {},
   "outputs": [],
   "source": [
    "b_vec = np.linspace(1,1,100)\n",
    "x = utility_2(h_vec,w,1,rho,gamma,beta,delta,b_vec)\n",
    "y = utility_2(h_vec,w,0,rho,gamma,beta,delta,b_vec)"
   ]
  },
  {
   "cell_type": "code",
   "execution_count": 40,
   "metadata": {},
   "outputs": [],
   "source": [
    "willwork_p1 = list(range(100))\n",
    "\n",
    "#And fill it with either success (1) if the human capital i above the cutoff or\n",
    "#or falier (0) if it is on the cutoff or below \n",
    "for i in range(len(h_vec)): \n",
    "    if utility_2(h_vec[i],w,1,rho,gamma,beta,delta,1) > utility_2(h_vec[i],w,0,rho,gamma,beta,delta,1) : \n",
    "        willwork_p1[i] = 1\n",
    "    else : \n",
    "        willwork_p1[i] = 0"
   ]
  },
  {
   "cell_type": "code",
   "execution_count": 41,
   "metadata": {},
   "outputs": [
    {
     "data": {
      "text/plain": [
       "[<matplotlib.lines.Line2D at 0x25f28015588>]"
      ]
     },
     "execution_count": 41,
     "metadata": {},
     "output_type": "execute_result"
    },
    {
     "data": {
      "image/png": "[encoded data removed]",
      "text/plain": [
       "<Figure size 432x288 with 1 Axes>"
      ]
     },
     "metadata": {
      "needs_background": "light"
     },
     "output_type": "display_data"
    }
   ],
   "source": [
    "plt.plot(h_vec,willwork_p1)"
   ]
  },
  {
   "cell_type": "code",
   "execution_count": 42,
   "metadata": {},
   "outputs": [
    {
     "data": {
      "image/png": "[encoded data removed]",
      "text/plain": [
       "<Figure size 432x288 with 1 Axes>"
      ]
     },
     "metadata": {
      "needs_background": "light"
     },
     "output_type": "display_data"
    }
   ],
   "source": [
    "plt.plot(h_vec,x)\n",
    "plt.plot(h_vec,y)\n",
    "plt.show()"
   ]
  },
  {
   "cell_type": "code",
   "execution_count": null,
   "metadata": {},
   "outputs": [],
   "source": []
  },
  {
   "cell_type": "markdown",
   "metadata": {},
   "source": [
    "## Question 3"
   ]
  },
  {
   "cell_type": "code",
   "execution_count": 99,
   "metadata": {},
   "outputs": [
    {
     "name": "stdout",
     "output_type": "stream",
     "text": [
      "0.22727272727272727\n",
      "0.24141414141414141\n",
      "0.25555555555555554\n",
      "0.26969696969696966\n",
      "0.28383838383838383\n",
      "0.297979797979798\n",
      "0.31212121212121213\n",
      "0.32626262626262625\n",
      "0.3404040404040404\n",
      "0.3545454545454545\n",
      "0.36868686868686873\n",
      "0.38282828282828285\n",
      "0.396969696969697\n",
      "0.4111111111111111\n",
      "0.4252525252525252\n",
      "0.43939393939393934\n",
      "0.45353535353535357\n",
      "0.4676767676767677\n",
      "0.4818181818181818\n",
      "0.49595959595959593\n",
      "0.51010101010101\n",
      "0.5242424242424242\n",
      "0.5383838383838384\n",
      "0.5525252525252525\n",
      "0.5666666666666667\n",
      "0.5808080808080808\n",
      "0.5949494949494949\n",
      "0.609090909090909\n",
      "0.6232323232323231\n",
      "0.6373737373737374\n",
      "0.6515151515151515\n",
      "0.6656565656565656\n",
      "0.6797979797979797\n",
      "0.6939393939393939\n",
      "0.708080808080808\n",
      "0.7222222222222222\n",
      "0.7363636363636363\n",
      "0.7505050505050505\n",
      "0.7646464646464646\n",
      "0.7787878787878787\n",
      "0.7929292929292928\n",
      "0.807070707070707\n",
      "0.8212121212121212\n",
      "0.8353535353535353\n",
      "0.8494949494949494\n",
      "0.8636363636363635\n",
      "0.8777777777777777\n",
      "0.8919191919191919\n",
      "0.906060606060606\n",
      "0.9202020202020201\n",
      "0.9343434343434343\n",
      "0.9484848484848484\n",
      "0.9626262626262625\n",
      "0.9767676767676767\n",
      "0.9909090909090909\n",
      "1.005050505050505\n",
      "1.0191919191919192\n",
      "1.0333333333333332\n",
      "1.0474747474747474\n",
      "1.0616161616161617\n",
      "1.0757575757575757\n",
      "1.08989898989899\n",
      "1.1040404040404042\n",
      "1.1181818181818182\n",
      "1.1323232323232324\n",
      "1.1464646464646464\n",
      "1.1606060606060606\n",
      "1.1747474747474749\n",
      "1.1888888888888889\n",
      "1.2030303030303031\n",
      "1.2171717171717171\n",
      "1.2313131313131314\n",
      "1.2454545454545454\n",
      "1.2595959595959596\n",
      "1.2737373737373738\n",
      "1.2878787878787878\n",
      "1.302020202020202\n",
      "1.316161616161616\n",
      "1.3303030303030303\n",
      "1.3444444444444446\n",
      "1.3585858585858586\n",
      "1.3727272727272728\n",
      "1.3868686868686868\n",
      "1.401010101010101\n",
      "1.415151515151515\n",
      "1.4292929292929293\n",
      "1.4434343434343435\n",
      "1.4575757575757575\n",
      "1.4717171717171718\n",
      "1.4858585858585858\n",
      "1.5\n"
     ]
    }
   ],
   "source": [
    "willeverwork = list(range(100))\n",
    "\n",
    "#she will work if, and only if the utility next period + the utility this period (which is less than the utility of not working)\n",
    "# is larger than the utility of not working in period 1 and working in period 2, \n",
    "#as well as and not working in period 1 and not working in period 2\n",
    "for i in range(len(h_vec)): \n",
    "    u_w1 = utility_2(h_vec[i],w,1,rho,gamma,beta,delta,b)\n",
    "    u_nw1 = utility_2(h_vec[i],w,0,rho,gamma,beta,delta,b)\n",
    "    \n",
    "    h2 = h_vec[i]+0.5*delta\n",
    "    u_w1w2 = utility_work(h2,1,w,rho,gamma)\n",
    "    u_n1w2 = utility_work(h_vec[i],1,w,rho,gamma)\n",
    "    u_n1n2 = utility_notwork(b,rho,gamma,0)\n",
    "    \n",
    "    if u_w1 < u_nw1 :\n",
    "        if (u_w1 + u_w1w2) > (u_nw1 + u_n1w2):\n",
    "            if (u_w1 + u_w1w2) > (u_nw1 + u_n1n2):\n",
    "                print(\"hello\")\n",
    "    else: \n",
    "        print(h_vec[i])"
   ]
  },
  {
   "cell_type": "code",
   "execution_count": 92,
   "metadata": {},
   "outputs": [
    {
     "ename": "TypeError",
     "evalue": "utility_work() takes 5 positional arguments but 8 were given",
     "output_type": "error",
     "traceback": [
      "\u001b[1;31m---------------------------------------------------------------------------\u001b[0m",
      "\u001b[1;31mTypeError\u001b[0m                                 Traceback (most recent call last)",
      "\u001b[1;32m<ipython-input-92-b54b920cbc8f>\u001b[0m in \u001b[0;36m<module>\u001b[1;34m\u001b[0m\n\u001b[1;32m----> 1\u001b[1;33m \u001b[0mutility_work\u001b[0m\u001b[1;33m(\u001b[0m\u001b[1;33m(\u001b[0m\u001b[0mh_vec\u001b[0m\u001b[1;33m[\u001b[0m\u001b[1;36m0\u001b[0m\u001b[1;33m]\u001b[0m\u001b[1;33m+\u001b[0m\u001b[1;36m0.5\u001b[0m\u001b[1;33m*\u001b[0m\u001b[0mdelta\u001b[0m\u001b[1;33m)\u001b[0m\u001b[1;33m,\u001b[0m\u001b[0mw\u001b[0m\u001b[1;33m,\u001b[0m\u001b[1;36m1\u001b[0m\u001b[1;33m,\u001b[0m\u001b[0mrho\u001b[0m\u001b[1;33m,\u001b[0m\u001b[0mgamma\u001b[0m\u001b[1;33m,\u001b[0m\u001b[0mbeta\u001b[0m\u001b[1;33m,\u001b[0m\u001b[0mdelta\u001b[0m\u001b[1;33m,\u001b[0m\u001b[0mb\u001b[0m\u001b[1;33m)\u001b[0m\u001b[1;33m\u001b[0m\u001b[1;33m\u001b[0m\u001b[0m\n\u001b[0m",
      "\u001b[1;31mTypeError\u001b[0m: utility_work() takes 5 positional arguments but 8 were given"
     ]
    }
   ],
   "source": [
    "utility_work((h_vec[0]+0.5*delta),w,1,rho,gamma,beta,delta,b)"
   ]
  },
  {
   "cell_type": "code",
   "execution_count": 93,
   "metadata": {},
   "outputs": [
    {
     "data": {
      "image/png": "[encoded data removed]",
      "text/latex": [
       "$$0.15000000000000002$$"
      ],
      "text/plain": [
       "0.15000000000000002"
      ]
     },
     "execution_count": 93,
     "metadata": {},
     "output_type": "execute_result"
    }
   ],
   "source": [
    "h_vec[0]+0.5*delta"
   ]
  },
  {
   "cell_type": "code",
   "execution_count": null,
   "metadata": {},
   "outputs": [],
   "source": []
  }
 ],
 "metadata": {
  "kernelspec": {
   "display_name": "Python 3",
   "language": "python",
   "name": "python3"
  },
  "language_info": {
   "codemirror_mode": {
    "name": "ipython",
    "version": 3
   },
   "file_extension": ".py",
   "mimetype": "text/x-python",
   "name": "python",
   "nbconvert_exporter": "python",
   "pygments_lexer": "ipython3",
   "version": "3.7.1"
  }
 },
 "nbformat": 4,
 "nbformat_minor": 2
}
