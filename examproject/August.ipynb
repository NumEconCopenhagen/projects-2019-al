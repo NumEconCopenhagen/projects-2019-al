{
 "cells": [
  {
   "cell_type": "code",
   "execution_count": 166,
   "metadata": {},
   "outputs": [],
   "source": [
    "import random \n",
    "import sympy as sm\n",
    "import numpy as np\n",
    "import matplotlib.pyplot as plt\n",
    "import ipywidgets as widgets\n",
    "\n",
    "#setting nice printing and seed\n",
    "sm.init_printing(use_unicode=True)\n",
    "random.seed(12848174)"
   ]
  },
  {
   "cell_type": "code",
   "execution_count": 134,
   "metadata": {},
   "outputs": [],
   "source": [
    "\n",
    "        "
   ]
  },
  {
   "cell_type": "code",
   "execution_count": 135,
   "metadata": {},
   "outputs": [
    {
     "data": {
      "image/png": "[encoded data removed]",
      "text/latex": [
       "$$1$$"
      ],
      "text/plain": [
       "1"
      ]
     },
     "execution_count": 135,
     "metadata": {},
     "output_type": "execute_result"
    }
   ],
   "source": [
    "rand_func()\n"
   ]
  },
  {
   "cell_type": "code",
   "execution_count": 136,
   "metadata": {},
   "outputs": [],
   "source": [
    "rho = sm.symbols('rho')\n",
    "beta = sm.symbols('beta')\n",
    "gamma = sm.symbols('gamma')\n",
    "w = sm.symbols('w')\n",
    "b = sm.symbols('b')\n",
    "delta = sm.symbols('Delta')\n",
    "h1 = sm.symbols('h_1')\n",
    "h2 = sm.symbols('h_2')\n",
    "c1 = sm.symbols('c1')\n",
    "c2 = sm.symbols('c2')\n",
    "l1 = sm.symbols('l1')\n",
    "l2 = sm.symbols('l2')\n",
    "exp = sm.symbols('E[v_2(h_2)]')"
   ]
  },
  {
   "cell_type": "code",
   "execution_count": 137,
   "metadata": {},
   "outputs": [
    {
     "data": {
      "image/png": "[encoded data removed]",
      "text/latex": [
       "$$\\frac{c_{2}^{- \\rho + 1}}{- \\rho + 1} - \\gamma l_{2}$$"
      ],
      "text/plain": [
       "  -ρ + 1       \n",
       "c₂             \n",
       "──────── - γ⋅l₂\n",
       " -ρ + 1        "
      ]
     },
     "execution_count": 137,
     "metadata": {},
     "output_type": "execute_result"
    }
   ],
   "source": [
    "u2 = (c2**(1-rho))/(1-rho)\n",
    "dis_u2 = gamma*l2\n",
    "total_u2 = u2 - dis_u2\n",
    "h2_f = (h1 + l1)\n",
    "c2_f = w*h2*l2\n",
    "total_u2"
   ]
  },
  {
   "cell_type": "code",
   "execution_count": 138,
   "metadata": {},
   "outputs": [
    {
     "data": {
      "image/png": "[encoded data removed]",
      "text/latex": [
       "$$- \\gamma + \\frac{\\left(h_{2} l_{2} w\\right)^{- \\rho + 1}}{l_{2}}$$"
      ],
      "text/plain": [
       "              -ρ + 1\n",
       "     (h₂⋅l₂⋅w)      \n",
       "-γ + ───────────────\n",
       "            l₂      "
      ]
     },
     "execution_count": 138,
     "metadata": {},
     "output_type": "execute_result"
    }
   ],
   "source": [
    "total_u2_sub2 = total_u2.subs(c2,c2_f)\n",
    "foc2 = sm.diff(total_u2_sub2,l2)\n",
    "foc2"
   ]
  },
  {
   "cell_type": "code",
   "execution_count": 139,
   "metadata": {},
   "outputs": [
    {
     "data": {
      "image/png": "[encoded data removed]",
      "text/latex": [
       "$$\\frac{\\left(\\frac{h_{2} w}{\\gamma}\\right)^{\\frac{1}{\\rho}}}{h_{2} w}$$"
      ],
      "text/plain": [
       "     ______\n",
       "    ╱ h₂⋅w \n",
       "rho╱  ──── \n",
       " ╲╱    γ   \n",
       "───────────\n",
       "    h₂⋅w   "
      ]
     },
     "execution_count": 139,
     "metadata": {},
     "output_type": "execute_result"
    }
   ],
   "source": [
    "sol2 = sm.solve(sm.Eq(foc2,0),l2)[0]\n",
    "sol2"
   ]
  },
  {
   "cell_type": "code",
   "execution_count": 140,
   "metadata": {},
   "outputs": [],
   "source": [
    "def utility_ahc(h2,w,gamma,rho):\n",
    "    solution = ((h2*w)/gamma)**(1/rho)/(h2*w)\n",
    "    return solution"
   ]
  },
  {
   "cell_type": "code",
   "execution_count": 141,
   "metadata": {},
   "outputs": [
    {
     "data": {
      "image/png": "[encoded data removed]",
      "text/latex": [
       "$$2.23606797749979$$"
      ],
      "text/plain": [
       "2.23606797749979"
      ]
     },
     "execution_count": 141,
     "metadata": {},
     "output_type": "execute_result"
    }
   ],
   "source": [
    "utility_ahc(1, 2, 0.1, 2)"
   ]
  },
  {
   "cell_type": "code",
   "execution_count": 163,
   "metadata": {},
   "outputs": [],
   "source": [
    "def utility_ahc_plot(h2,w,gamma,rho,hum_cap=0):\n",
    "    solution = ((h2*w)/gamma)**(1/rho)/(h2*w)\n",
    "    #defining the plot \n",
    "    plt.plot(h2,solution, label = \"Maximum utility curve\")\n",
    "    plt.xlabel(\"Human capital\")\n",
    "    plt.ylabel(\"Labout supply\")\n",
    "\n",
    "    if hum_cap > 0:\n",
    "        plt.plot(hum_cap,utility_ahc(h2 = hum_cap, w = w, gamma = gamma, rho = rho), color='orange', marker='o',label = \"Optimal utility given human capital level of 1\")\n",
    "    plt.legend()\n",
    "    plt.show\n",
    "    return "
   ]
  },
  {
   "cell_type": "code",
   "execution_count": 164,
   "metadata": {},
   "outputs": [
    {
     "data": {
      "image/png": "[encoded data removed]",
      "text/plain": [
       "<Figure size 432x288 with 1 Axes>"
      ]
     },
     "metadata": {
      "needs_background": "light"
     },
     "output_type": "display_data"
    }
   ],
   "source": [
    "#We define the linespace of h2. We take 100 numbers between 0.1 and 1.5\n",
    "h_vec = np.linspace(0.1,1.5,100) \n",
    "\n",
    "#\n",
    "utility_ahc_plot(h2 = h_vec, w = 2, gamma = 0.1, rho = 2,hum_cap=1)"
   ]
  },
  {
   "cell_type": "markdown",
   "metadata": {},
   "source": [
    "The graph clearly indicate that there the marginal gain of human capital is decreasing, suggesting that some human capital is nice for sdasdsdfsdlgksdg------------------------------------- i don't know what it means"
   ]
  },
  {
   "cell_type": "code",
   "execution_count": null,
   "metadata": {},
   "outputs": [],
   "source": []
  },
  {
   "cell_type": "markdown",
   "metadata": {},
   "source": [
    "Suggestions for question 2 and 3"
   ]
  },
  {
   "cell_type": "code",
   "execution_count": 168,
   "metadata": {},
   "outputs": [],
   "source": [
    "def utility_ahc_plot(h1,w,gamma,rho,hum_cap=0):\n",
    "    exp = random.randint(0,1)\n",
    "    if exp > 0 :\n",
    "        #INSERTSOLUTION HERE + THE 0.1\n",
    "        solution + 0.1\n",
    "    else : \n",
    "        #INSERSOLUTION HERE WITHPUT THE 0.1\n",
    "        solution \n",
    "    #INSERPLOT HERE\n",
    "    return solution"
   ]
  },
  {
   "cell_type": "markdown",
   "metadata": {},
   "source": [
    "Plot solution here"
   ]
  },
  {
   "cell_type": "code",
   "execution_count": 177,
   "metadata": {},
   "outputs": [],
   "source": [
    "#Question 3 here\n",
    "\n",
    "# we must solve for b???\n",
    "def utility_ahc_plot_unem(h2,w,gamma,rho,unem=1,hum_cap=0):\n",
    "    solution = ((h2*w)/gamma)**(1/rho)/(h2*w)\n",
    "    #defining the plot \n",
    "    plt.plot(h2,solution, label = \"Maximum utility curve\")\n",
    "    plt.plot(h2,unem,color = \"red\",label = \"Unemployment benefits\")\n",
    "    plt.xlabel(\"Human capital\")\n",
    "    plt.ylabel(\"Labout supply\")\n",
    "\n",
    "    if hum_cap > 0:\n",
    "        plt.plot(hum_cap,utility_ahc(h2 = hum_cap, w = w, gamma = gamma, rho = rho), color='orange', marker='o',label = \"Optimal utility given human capital level of 1\")\n",
    "    plt.legend()\n",
    "    plt.show\n",
    "    return "
   ]
  },
  {
   "cell_type": "code",
   "execution_count": 178,
   "metadata": {},
   "outputs": [
    {
     "data": {
      "image/png": "[encoded data removed]",
      "text/plain": [
       "<Figure size 432x288 with 1 Axes>"
      ]
     },
     "metadata": {
      "needs_background": "light"
     },
     "output_type": "display_data"
    }
   ],
   "source": [
    "#We define the linespace of h2. We take 100 numbers between 0.1 and 1.5\n",
    "h_vec = np.linspace(0.1,1.5,100) \n",
    "\n",
    "#\n",
    "utility_ahc_plot(h2 = h_vec, w = 2, gamma = 0.1, rho = 2,hum_cap=1)"
   ]
  },
  {
   "cell_type": "code",
   "execution_count": null,
   "metadata": {},
   "outputs": [],
   "source": []
  }
 ],
 "metadata": {
  "kernelspec": {
   "display_name": "Python 3",
   "language": "python",
   "name": "python3"
  },
  "language_info": {
   "codemirror_mode": {
    "name": "ipython",
    "version": 3
   },
   "file_extension": ".py",
   "mimetype": "text/x-python",
   "name": "python",
   "nbconvert_exporter": "python",
   "pygments_lexer": "ipython3",
   "version": "3.7.1"
  }
 },
 "nbformat": 4,
 "nbformat_minor": 2
}
