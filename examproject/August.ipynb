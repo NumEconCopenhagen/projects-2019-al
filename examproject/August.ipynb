{
 "cells": [
  {
   "cell_type": "code",
   "execution_count": 80,
   "metadata": {},
   "outputs": [],
   "source": [
    "import random \n",
    "import sympy as sm\n",
    "import numpy as np\n",
    "import matplotlib.pyplot as plt\n",
    "import ipywidgets as widgets\n",
    "from scipy import optimize\n",
    "\n",
    "#setting nice printing and seed\n",
    "sm.init_printing(use_unicode=True)\n",
    "random.seed(12848174)"
   ]
  },
  {
   "cell_type": "code",
   "execution_count": 81,
   "metadata": {},
   "outputs": [],
   "source": [
    "#redo if question 1\n",
    "def consumption (wage, hum_cap, work=True,benefits=0):\n",
    "    if work:\n",
    "        consumption = wage * hum_cap \n",
    "    else:\n",
    "        consumption = benefits\n",
    "    return consumption"
   ]
  },
  {
   "cell_type": "code",
   "execution_count": 82,
   "metadata": {},
   "outputs": [],
   "source": [
    "def u_cons(wage, hum_cap, rho, work=True,benefits=0):\n",
    "    cons = consumption(wage,hum_cap,work,benefits)\n",
    "    \n",
    "    utility = (cons**(1-rho))/(1-rho)\n",
    "    return utility"
   ]
  },
  {
   "cell_type": "code",
   "execution_count": 83,
   "metadata": {},
   "outputs": [],
   "source": [
    "def dis_u_work(gamma, work=True):\n",
    "    if work:\n",
    "        dis_u = gamma*1\n",
    "    else:\n",
    "        dis_u = gamma*0 \n",
    "    return dis_u"
   ]
  },
  {
   "cell_type": "code",
   "execution_count": 84,
   "metadata": {},
   "outputs": [],
   "source": [
    "def labour_sup(wage,hum_cap,work=True,benefits=0):\n",
    "    if u_cons(wage, hum_cap, rho,work=True) > dis_u_work(gamma, work=True):\n",
    "        l = (wage*hum_cap)/consumption(wage=wage,hum_cap=hum_cap,work=work,benefits=benefits)\n",
    "    else :\n",
    "        l = (wage*hum_cap)/consumption(wage=wage,hum_cap=hum_cap,work=False,benefits=benefits)\n",
    "    return l"
   ]
  },
  {
   "cell_type": "code",
   "execution_count": 123,
   "metadata": {},
   "outputs": [],
   "source": [
    "def period_2_u(wage, hum_cap, gamma,rho, work=True, benefits=0):\n",
    "    \n",
    "    labour_supply = (((consumption(wage,hum_cap, work, benefits=1))**(1-rho))/(1-rho)) - dis_u_work(gamma,work)\n",
    "     \n",
    "    return labour_supply"
   ]
  },
  {
   "cell_type": "code",
   "execution_count": 124,
   "metadata": {},
   "outputs": [],
   "source": [
    "h_vec = np.linspace(0.1,1.5,100) \n",
    "rho = 2\n",
    "beta = 0.96\n",
    "gamma = 0.1\n",
    "wage = 2\n",
    "benefits = 1\n",
    "delta = 0.1"
   ]
  },
  {
   "cell_type": "code",
   "execution_count": 125,
   "metadata": {},
   "outputs": [
    {
     "data": {
      "text/plain": [
       "array([-5.1       , -4.48053097, -3.9976378 , -3.6106383 , -3.29354839,\n",
       "       -3.02899408, -2.80491803, -2.61269036, -2.44597156, -2.3       ,\n",
       "       -2.17112971, -2.05652174, -1.95393258, -1.86156584, -1.7779661 ,\n",
       "       -1.70194175, -1.63250774, -1.56884273, -1.51025641, -1.45616438,\n",
       "       -1.4060686 , -1.35954198, -1.31621622, -1.27577197, -1.23793103,\n",
       "       -1.20244989, -1.16911447, -1.13773585, -1.10814664, -1.08019802,\n",
       "       -1.05375723, -1.02870544, -1.00493601, -0.98235294, -0.96086957,\n",
       "       -0.94040747, -0.92089552, -0.90226904, -0.8844691 , -0.86744186,\n",
       "       -0.85113809, -0.83551263, -0.82052402, -0.80613409, -0.79230769,\n",
       "       -0.77901235, -0.76621803, -0.75389696, -0.74202335, -0.73057325,\n",
       "       -0.71952441, -0.70885609, -0.69854897, -0.68858502, -0.67894737,\n",
       "       -0.66962025, -0.6605889 , -0.65183946, -0.64335895, -0.63513514,\n",
       "       -0.62715655, -0.61941238, -0.61189245, -0.60458716, -0.59748744,\n",
       "       -0.59058474, -0.58387097, -0.57733848, -0.57098002, -0.56478873,\n",
       "       -0.55875811, -0.55288198, -0.54715447, -0.54157003, -0.53612335,\n",
       "       -0.5308094 , -0.52562339, -0.52056075, -0.51561713, -0.51078838,\n",
       "       -0.50607055, -0.50145985, -0.49695269, -0.4925456 , -0.48823529,\n",
       "       -0.48401862, -0.47989256, -0.47585421, -0.47190083, -0.46802974,\n",
       "       -0.46423841, -0.4605244 , -0.45688536, -0.45331906, -0.44982332,\n",
       "       -0.44639608, -0.44303534, -0.43973919, -0.43650578, -0.43333333])"
      ]
     },
     "execution_count": 125,
     "metadata": {},
     "output_type": "execute_result"
    }
   ],
   "source": [
    " period_2_u(wage=wage,hum_cap = h_vec,gamma=gamma,rho=rho,benefits=benefits)"
   ]
  },
  {
   "cell_type": "code",
   "execution_count": 88,
   "metadata": {},
   "outputs": [
    {
     "data": {
      "image/png": "[encoded data removed]",
      "text/latex": [
       "$$-0.43333333333333335$$"
      ],
      "text/plain": [
       "-0.43333333333333335"
      ]
     },
     "execution_count": 88,
     "metadata": {},
     "output_type": "execute_result"
    }
   ],
   "source": [
    "test.max()"
   ]
  },
  {
   "cell_type": "code",
   "execution_count": 132,
   "metadata": {},
   "outputs": [],
   "source": [
    "rho = 2\n",
    "beta = 0.96\n",
    "gamma = 0.1\n",
    "wage = 2\n",
    "benefits = 1\n",
    "delta = 0.1"
   ]
  },
  {
   "cell_type": "code",
   "execution_count": 134,
   "metadata": {},
   "outputs": [
    {
     "data": {
      "text/plain": [
       "array([0.2       , 0.22828283, 0.25656566, 0.28484848, 0.31313131,\n",
       "       0.34141414, 0.36969697, 0.3979798 , 0.42626263, 0.45454545,\n",
       "       0.48282828, 0.51111111, 0.53939394, 0.56767677, 0.5959596 ,\n",
       "       0.62424242, 0.65252525, 0.68080808, 0.70909091, 0.73737374,\n",
       "       0.76565657, 0.79393939, 0.82222222, 0.85050505, 0.87878788,\n",
       "       0.90707071, 0.93535354, 0.96363636, 0.99191919, 1.02020202,\n",
       "       1.04848485, 1.07676768, 1.10505051, 1.13333333, 1.16161616,\n",
       "       1.18989899, 1.21818182, 1.24646465, 1.27474747, 1.3030303 ,\n",
       "       1.33131313, 1.35959596, 1.38787879, 1.41616162, 1.44444444,\n",
       "       1.47272727, 1.5010101 , 1.52929293, 1.55757576, 1.58585859,\n",
       "       1.61414141, 1.64242424, 1.67070707, 1.6989899 , 1.72727273,\n",
       "       1.75555556, 1.78383838, 1.81212121, 1.84040404, 1.86868687,\n",
       "       1.8969697 , 1.92525253, 1.95353535, 1.98181818, 2.01010101,\n",
       "       2.03838384, 2.06666667, 2.09494949, 2.12323232, 2.15151515,\n",
       "       2.17979798, 2.20808081, 2.23636364, 2.26464646, 2.29292929,\n",
       "       2.32121212, 2.34949495, 2.37777778, 2.40606061, 2.43434343,\n",
       "       2.46262626, 2.49090909, 2.51919192, 2.54747475, 2.57575758,\n",
       "       2.6040404 , 2.63232323, 2.66060606, 2.68888889, 2.71717172,\n",
       "       2.74545455, 2.77373737, 2.8020202 , 2.83030303, 2.85858586,\n",
       "       2.88686869, 2.91515152, 2.94343434, 2.97171717, 3.        ])"
      ]
     },
     "execution_count": 134,
     "metadata": {},
     "output_type": "execute_result"
    }
   ],
   "source": [
    "l2 = np.empty(100)\n",
    "h_vec = np.linspace(0.1,1.5,100)\n",
    "\n",
    "h_vec_en = enumerate(np.linspace(0.1,1.5,100))\n",
    "for i, h in h_vec_en:\n",
    "    if u_cons(wage = wage, hum_cap = h, rho = rho ,work=True) > dis_u_work(gamma, work=True) :\n",
    "        l2[i] = labour_sup(wage = 2, hum_cap = h ,benefits = 1, work=True)\n",
    "    else :\n",
    "        l2[i] = labour_sup(wage = 2, hum_cap = h ,benefits = 1,work=False)\n",
    "period_2_l = l2\n",
    "period_2_l"
   ]
  },
  {
   "cell_type": "code",
   "execution_count": 129,
   "metadata": {},
   "outputs": [
    {
     "data": {
      "text/plain": [
       "<enumerate at 0x23f77be4a68>"
      ]
     },
     "execution_count": 129,
     "metadata": {},
     "output_type": "execute_result"
    }
   ],
   "source": [
    "h_vec = enumerate(np.linspace(0.1,1.5,100))\n",
    "h_vec\n"
   ]
  },
  {
   "cell_type": "code",
   "execution_count": 16,
   "metadata": {},
   "outputs": [],
   "source": [
    "rho = sm.symbols('rho')\n",
    "beta = sm.symbols('beta')\n",
    "gamma = sm.symbols('gamma')\n",
    "w = sm.symbols('w')\n",
    "b = sm.symbols('b')\n",
    "delta = sm.symbols('Delta')\n",
    "h1 = sm.symbols('h_1')\n",
    "h2 = sm.symbols('h_2')\n",
    "c1 = sm.symbols('c1')\n",
    "c2 = sm.symbols('c2')\n",
    "l1 = sm.symbols('l1')\n",
    "l2 = sm.symbols('l2')\n",
    "exp = sm.symbols('E[v_2(h_2)]')"
   ]
  },
  {
   "cell_type": "code",
   "execution_count": 17,
   "metadata": {},
   "outputs": [
    {
     "data": {
      "image/png": "[encoded data removed]",
      "text/latex": [
       "$$\\frac{c_{2}^{- \\rho + 1}}{- \\rho + 1} - \\gamma l_{2}$$"
      ],
      "text/plain": [
       "  -ρ + 1       \n",
       "c₂             \n",
       "──────── - γ⋅l₂\n",
       " -ρ + 1        "
      ]
     },
     "execution_count": 17,
     "metadata": {},
     "output_type": "execute_result"
    }
   ],
   "source": [
    "u2 = (c2**(1-rho))/(1-rho)\n",
    "dis_u2 = gamma*l2\n",
    "total_u2 = u2 - dis_u2\n",
    "h2_f = (h1 + l1)\n",
    "c2_f = w*h2*l2\n",
    "total_u2"
   ]
  },
  {
   "cell_type": "code",
   "execution_count": 18,
   "metadata": {},
   "outputs": [
    {
     "data": {
      "image/png": "[encoded data removed]",
      "text/latex": [
       "$$- \\gamma + \\frac{\\left(h_{2} l_{2} w\\right)^{- \\rho + 1}}{l_{2}}$$"
      ],
      "text/plain": [
       "              -ρ + 1\n",
       "     (h₂⋅l₂⋅w)      \n",
       "-γ + ───────────────\n",
       "            l₂      "
      ]
     },
     "execution_count": 18,
     "metadata": {},
     "output_type": "execute_result"
    }
   ],
   "source": [
    "total_u2_sub2 = total_u2.subs(c2,c2_f)\n",
    "foc2 = sm.diff(total_u2_sub2,l2)\n",
    "foc2"
   ]
  },
  {
   "cell_type": "code",
   "execution_count": 19,
   "metadata": {},
   "outputs": [
    {
     "data": {
      "image/png": "[encoded data removed]",
      "text/latex": [
       "$$\\frac{\\left(\\frac{h_{2} w}{\\gamma}\\right)^{\\frac{1}{\\rho}}}{h_{2} w}$$"
      ],
      "text/plain": [
       "     ______\n",
       "    ╱ h₂⋅w \n",
       "rho╱  ──── \n",
       " ╲╱    γ   \n",
       "───────────\n",
       "    h₂⋅w   "
      ]
     },
     "execution_count": 19,
     "metadata": {},
     "output_type": "execute_result"
    }
   ],
   "source": [
    "sol2 = sm.solve(sm.Eq(foc2,0),l2)[0]\n",
    "sol2"
   ]
  },
  {
   "cell_type": "code",
   "execution_count": 20,
   "metadata": {},
   "outputs": [],
   "source": [
    "def utility_ahc(h2,w,gamma,rho):\n",
    "    solution = ((h2*w)/gamma)**(1/rho)/(h2*w)\n",
    "    return solution"
   ]
  },
  {
   "cell_type": "code",
   "execution_count": 21,
   "metadata": {},
   "outputs": [
    {
     "data": {
      "image/png": "[encoded data removed]",
      "text/latex": [
       "$$2.23606797749979$$"
      ],
      "text/plain": [
       "2.23606797749979"
      ]
     },
     "execution_count": 21,
     "metadata": {},
     "output_type": "execute_result"
    }
   ],
   "source": [
    "utility_ahc(1, 2, 0.1, 2)"
   ]
  },
  {
   "cell_type": "code",
   "execution_count": 22,
   "metadata": {},
   "outputs": [],
   "source": [
    "def utility_ahc_plot(h2,w,gamma,rho,hum_cap=0):\n",
    "    solution = ((h2*w)/gamma)**(1/rho)/(h2*w)\n",
    "    #defining the plot \n",
    "    plt.plot(h2,solution, label = \"Maximum utility curve\")\n",
    "    plt.xlabel(\"Human capital\")\n",
    "    plt.ylabel(\"Labout supply\")\n",
    "\n",
    "    if hum_cap > 0:\n",
    "        plt.plot(hum_cap,utility_ahc(h2 = hum_cap, w = w, gamma = gamma, rho = rho), color='orange', marker='o',label = \"Optimal utility given human capital level of 1\")\n",
    "    plt.legend()\n",
    "    plt.show\n",
    "    return "
   ]
  },
  {
   "cell_type": "code",
   "execution_count": 24,
   "metadata": {},
   "outputs": [
    {
     "data": {
      "image/png": "[encoded data removed]",
      "text/plain": [
       "<Figure size 432x288 with 1 Axes>"
      ]
     },
     "metadata": {
      "needs_background": "light"
     },
     "output_type": "display_data"
    }
   ],
   "source": [
    "# We define the linespace of h2. We take 100 numbers between 0.1 and 1.5\n",
    "h_vec = np.linspace(0.1,1.5,100) \n",
    "\n",
    "#\n",
    "utility_ahc_plot(h2 = h_vec, w = 2, gamma = 0.1, rho = 2,hum_cap=1)"
   ]
  },
  {
   "cell_type": "markdown",
   "metadata": {},
   "source": [
    "The graph clearly indicate that there the marginal gain of human capital is decreasing, suggesting that some human capital is nice for sdasdsdfsdlgksdg------------------------------------- i don't know what it means"
   ]
  },
  {
   "cell_type": "markdown",
   "metadata": {},
   "source": [
    "## Question 2"
   ]
  },
  {
   "cell_type": "code",
   "execution_count": null,
   "metadata": {},
   "outputs": [],
   "source": []
  },
  {
   "cell_type": "code",
   "execution_count": null,
   "metadata": {},
   "outputs": [],
   "source": []
  },
  {
   "cell_type": "code",
   "execution_count": null,
   "metadata": {},
   "outputs": [],
   "source": []
  },
  {
   "cell_type": "code",
   "execution_count": null,
   "metadata": {},
   "outputs": [],
   "source": []
  },
  {
   "cell_type": "code",
   "execution_count": 37,
   "metadata": {},
   "outputs": [],
   "source": [
    "#l1 = w*h1-c1"
   ]
  },
  {
   "cell_type": "code",
   "execution_count": 33,
   "metadata": {},
   "outputs": [],
   "source": [
    "def first_period(h,w,rho,gamma,beta,delta):  \n",
    "    #random\n",
    "    \n",
    "    stoc = random.randint(0,1)\n",
    "\n",
    "    if stoc > 0 : \n",
    "        h2 = h + l1 + delta\n",
    "        uti_per_2 = utility_ahc(h2 = h2, w = w , gamma = gamma, rho = rho)\n",
    "\n",
    "        solution = ((w*h*l1)**(1-rho))/(1-rho)-gamma*l1 + beta*uti_per_2\n",
    "    else:\n",
    "        h2 = h + l1\n",
    "        uti_per_2 = utility_ahc(h2 = h2, w = w , gamma = gamma, rho = rho)\n",
    "        \n",
    "        solution = ((w*h*l1)**(1-rho))/(1-rho)-gamma*l1 + beta*uti_per_2\n",
    "    return solution"
   ]
  },
  {
   "cell_type": "code",
   "execution_count": 35,
   "metadata": {},
   "outputs": [
    {
     "data": {
      "image/png": "[encoded data removed]",
      "text/latex": [
       "$$- 0.1 l_{1} + \\frac{0.96 \\left(20.0 l_{1} + 20.0\\right)^{0.5}}{2 l_{1} + 2} - \\frac{1}{2 l_{1}}$$"
      ],
      "text/plain": [
       "                               0.5       \n",
       "          0.96⋅(20.0⋅l₁ + 20.0)       1  \n",
       "-0.1⋅l₁ + ──────────────────────── - ────\n",
       "                  2⋅l₁ + 2           2⋅l₁"
      ]
     },
     "execution_count": 35,
     "metadata": {},
     "output_type": "execute_result"
    }
   ],
   "source": [
    "first_period(h=1,w=2,rho=2,gamma =  0.1, beta=0.96,delta = 0.1)"
   ]
  },
  {
   "cell_type": "markdown",
   "metadata": {},
   "source": [
    "Suggestions for question 2 and 3"
   ]
  },
  {
   "cell_type": "code",
   "execution_count": 12,
   "metadata": {},
   "outputs": [],
   "source": [
    "def utility_ahc_plot(h1,w,gamma,rho,hum_cap=0):\n",
    "    exp = random.randint(0,1)\n",
    "    if exp > 0 :\n",
    "        #INSERTSOLUTION HERE + THE 0.1\n",
    "        solution + 0.1\n",
    "    else : \n",
    "        #INSERSOLUTION HERE WITHPUT THE 0.1\n",
    "        solution \n",
    "    #INSERPLOT HERE\n",
    "    return solution"
   ]
  },
  {
   "cell_type": "markdown",
   "metadata": {},
   "source": [
    "Plot solution here"
   ]
  },
  {
   "cell_type": "code",
   "execution_count": 13,
   "metadata": {},
   "outputs": [],
   "source": [
    "#Question 3 here\n",
    "\n",
    "# we must solve for b???\n",
    "def utility_ahc_plot_unem(h2,w,gamma,rho,unem=1,hum_cap=0):\n",
    "    solution = ((h2*w)/gamma)**(1/rho)/(h2*w)\n",
    "    #defining the plot \n",
    "    plt.plot(h2,solution, label = \"Maximum utility curve\")\n",
    "    plt.plot(h2,unem,color = \"red\",label = \"Unemployment benefits\")\n",
    "    plt.xlabel(\"Human capital\")\n",
    "    plt.ylabel(\"Labout supply\")\n",
    "\n",
    "    if hum_cap > 0:\n",
    "        plt.plot(hum_cap,utility_ahc(h2 = hum_cap, w = w, gamma = gamma, rho = rho), color='orange', marker='o',label = \"Optimal utility given human capital level of 1\")\n",
    "    plt.legend()\n",
    "    plt.show\n",
    "    return "
   ]
  },
  {
   "cell_type": "code",
   "execution_count": 14,
   "metadata": {},
   "outputs": [
    {
     "ename": "TypeError",
     "evalue": "utility_ahc_plot() got an unexpected keyword argument 'h2'",
     "output_type": "error",
     "traceback": [
      "\u001b[1;31m---------------------------------------------------------------------------\u001b[0m",
      "\u001b[1;31mTypeError\u001b[0m                                 Traceback (most recent call last)",
      "\u001b[1;32m<ipython-input-14-d6f2e948d1a2>\u001b[0m in \u001b[0;36m<module>\u001b[1;34m\u001b[0m\n\u001b[0;32m      3\u001b[0m \u001b[1;33m\u001b[0m\u001b[0m\n\u001b[0;32m      4\u001b[0m \u001b[1;31m#\u001b[0m\u001b[1;33m\u001b[0m\u001b[1;33m\u001b[0m\u001b[1;33m\u001b[0m\u001b[0m\n\u001b[1;32m----> 5\u001b[1;33m \u001b[0mutility_ahc_plot\u001b[0m\u001b[1;33m(\u001b[0m\u001b[0mh2\u001b[0m \u001b[1;33m=\u001b[0m \u001b[0mh_vec\u001b[0m\u001b[1;33m,\u001b[0m \u001b[0mw\u001b[0m \u001b[1;33m=\u001b[0m \u001b[1;36m2\u001b[0m\u001b[1;33m,\u001b[0m \u001b[0mgamma\u001b[0m \u001b[1;33m=\u001b[0m \u001b[1;36m0.1\u001b[0m\u001b[1;33m,\u001b[0m \u001b[0mrho\u001b[0m \u001b[1;33m=\u001b[0m \u001b[1;36m2\u001b[0m\u001b[1;33m,\u001b[0m\u001b[0mhum_cap\u001b[0m\u001b[1;33m=\u001b[0m\u001b[1;36m1\u001b[0m\u001b[1;33m)\u001b[0m\u001b[1;33m\u001b[0m\u001b[1;33m\u001b[0m\u001b[0m\n\u001b[0m",
      "\u001b[1;31mTypeError\u001b[0m: utility_ahc_plot() got an unexpected keyword argument 'h2'"
     ]
    }
   ],
   "source": [
    "#We define the linespace of h2. We take 100 numbers between 0.1 and 1.5\n",
    "h_vec = np.linspace(0.1,1.5,100) \n",
    "\n",
    "#\n",
    "utility_ahc_plot(h2 = h_vec, w = 2, gamma = 0.1, rho = 2,hum_cap=1)"
   ]
  },
  {
   "cell_type": "code",
   "execution_count": null,
   "metadata": {},
   "outputs": [],
   "source": []
  },
  {
   "cell_type": "code",
   "execution_count": null,
   "metadata": {},
   "outputs": [],
   "source": []
  }
 ],
 "metadata": {
  "kernelspec": {
   "display_name": "Python 3",
   "language": "python",
   "name": "python3"
  },
  "language_info": {
   "codemirror_mode": {
    "name": "ipython",
    "version": 3
   },
   "file_extension": ".py",
   "mimetype": "text/x-python",
   "name": "python",
   "nbconvert_exporter": "python",
   "pygments_lexer": "ipython3",
   "version": "3.7.1"
  }
 },
 "nbformat": 4,
 "nbformat_minor": 2
}
