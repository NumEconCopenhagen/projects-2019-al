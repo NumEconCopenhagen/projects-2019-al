{
 "cells": [
  {
   "cell_type": "markdown",
   "metadata": {},
   "source": [
    "# 1. Human Capital Accumulation :"
   ]
  },
  {
   "cell_type": "code",
   "execution_count": 1,
   "metadata": {},
   "outputs": [],
   "source": [
    "#import package\n",
    "import random \n",
    "import sympy as sm\n",
    "import numpy as np\n",
    "import matplotlib.pyplot as plt\n",
    "from mpl_toolkits.mplot3d import Axes3D\n",
    "import matplotlib.cm as cm\n",
    "import ipywidgets as widgets\n",
    "from scipy import optimize\n",
    "import pandas as pd\n",
    "from scipy import optimize\n",
    "\n",
    "#setting nice printing and seed\n",
    "sm.init_printing(use_unicode=True)\n",
    "np.random.seed(1)"
   ]
  },
  {
   "cell_type": "markdown",
   "metadata": {},
   "source": [
    "# 1. Human capital accumulation"
   ]
  },
  {
   "cell_type": "markdown",
   "metadata": {},
   "source": [
    "We use a mixture of methods to solve the questions is assigment 1. In the first question we solve the functions using sympy, and implement the functions manually. In question 2 and 3 the equations becomes more complicated to solve, and therefore we use numerical optimizers. "
   ]
  },
  {
   "cell_type": "code",
   "execution_count": 2,
   "metadata": {},
   "outputs": [],
   "source": [
    "# We need to define all the symbols that we wish to work with in sympy, as sm.symbols \n",
    "#Initialize symbols\n",
    "rho = sm.symbols('rho')\n",
    "beta = sm.symbols('beta')\n",
    "gamma = sm.symbols('gamma')\n",
    "w = sm.symbols('w')\n",
    "b = sm.symbols('b')\n",
    "delta = sm.symbols('Delta')\n",
    "h1 = sm.symbols('h_1')\n",
    "h2 = sm.symbols('h_2')\n",
    "c1 = sm.symbols('c1')\n",
    "c2 = sm.symbols('c2')\n",
    "l1 = sm.symbols('l1')\n",
    "l2 = sm.symbols('l2')\n",
    "exp = sm.symbols('{E_1}[{v_2}(h_2)]')\n",
    "u = sm.symbols(\"u\")"
   ]
  },
  {
   "cell_type": "markdown",
   "metadata": {},
   "source": [
    "**Question 1**"
   ]
  },
  {
   "cell_type": "markdown",
   "metadata": {},
   "source": [
    "To solve the model for period 2, firstly we have to define the human capital, budget constraint and utility function :"
   ]
  },
  {
   "cell_type": "code",
   "execution_count": 3,
   "metadata": {},
   "outputs": [
    {
     "data": {
      "image/png": "[encoded data removed]",
      "text/latex": [
       "$$\\frac{c_{2}^{- \\rho + 1}}{- \\rho + 1} - \\gamma l_{2}$$"
      ],
      "text/plain": [
       "  -ρ + 1       \n",
       "c₂             \n",
       "──────── - γ⋅l₂\n",
       " -ρ + 1        "
      ]
     },
     "execution_count": 3,
     "metadata": {},
     "output_type": "execute_result"
    }
   ],
   "source": [
    "#define the utility of working, desutility of working and the total utility equation\n",
    "## Utility of working\n",
    "u2 = (c2**(1-rho))/(1-rho)\n",
    "## Disutility of working\n",
    "dis_u2 = gamma*l2\n",
    "## Total utility\n",
    "total_u2 = u2 - dis_u2\n",
    "\n",
    "#define the consumption in period, as a function of wage, human capital and work/not work\n",
    "c2_f = w*h2*l2\n",
    "\n",
    "#show the total utility function\n",
    "total_u2"
   ]
  },
  {
   "cell_type": "code",
   "execution_count": 4,
   "metadata": {},
   "outputs": [
    {
     "data": {
      "image/png": "[encoded data removed]",
      "text/latex": [
       "$$- \\gamma l_{2} + \\frac{\\left(h_{2} l_{2} w\\right)^{- \\rho + 1}}{- \\rho + 1}$$"
      ],
      "text/plain": [
       "                 -ρ + 1\n",
       "        (h₂⋅l₂⋅w)      \n",
       "-γ⋅l₂ + ───────────────\n",
       "             -ρ + 1    "
      ]
     },
     "execution_count": 4,
     "metadata": {},
     "output_type": "execute_result"
    }
   ],
   "source": [
    "#substitute the budget constraint in the utility function\n",
    "total_u2_sub2 = total_u2.subs(c2,c2_f)\n",
    "total_u2_sub2"
   ]
  },
  {
   "cell_type": "code",
   "execution_count": 5,
   "metadata": {},
   "outputs": [
    {
     "data": {
      "image/png": "[encoded data removed]",
      "text/latex": [
       "$$\\frac{\\left(- \\gamma l_{2} \\rho + \\gamma l_{2} - \\rho u + u\\right)^{- \\frac{1}{\\rho - 1}}}{l_{2} w}$$"
      ],
      "text/plain": [
       "                           -1  \n",
       "                          ─────\n",
       "                          ρ - 1\n",
       "(-γ⋅l₂⋅ρ + γ⋅l₂ - ρ⋅u + u)     \n",
       "───────────────────────────────\n",
       "              l₂⋅w             "
      ]
     },
     "execution_count": 5,
     "metadata": {},
     "output_type": "execute_result"
    }
   ],
   "source": [
    "#solve the equation for human capital level\n",
    "h2_sol = sm.solve(sm.Eq(total_u2_sub2,u),h2)[0]\n",
    "h2_sol"
   ]
  },
  {
   "cell_type": "markdown",
   "metadata": {},
   "source": [
    "Now that we have the equations of this model, we will define two functions. The first one will return the utility level given the parameters. The second one will return the human capital level. "
   ]
  },
  {
   "cell_type": "markdown",
   "metadata": {},
   "source": [
    "The budget constraint is not the same whether the agent works or lives with the benefits. Therefore we had to use an if else statement to distinguish both case in the utility function."
   ]
  },
  {
   "cell_type": "code",
   "execution_count": 6,
   "metadata": {},
   "outputs": [],
   "source": [
    "# define the total utility function\n",
    "def utility_work(h2,l2,w,rho,gamma,b):\n",
    "    \"\"\"This function takes 6 required arguements, and returns utility given the values. Build on the basis of total_u2_sub2\n",
    "        args: \n",
    "            h2 = Human capital level\n",
    "            l2 = dummy variable for work or not. Should either be 1 or 0\n",
    "            w = wage for working\n",
    "            rho = Some parameter \n",
    "            gamma = some parameter determening the disutility of working \n",
    "            b = uenemployment benefts\n",
    "            \n",
    "            return the utility \"\"\"\n",
    "    #If worker works\n",
    "    if l2 == 1 :\n",
    "        #Estimate solition based on total_u2_sub2\n",
    "        solution = (((h2*l2*w)**(1-rho))/(1-rho))-gamma*l2\n",
    "    #If worker does not work\n",
    "    else :\n",
    "        #Estimate solution bases og total_u2_sub2, but replace consumbtion with benefits (b)\n",
    "        solution = ((b**(1-rho))/(1-rho))-gamma*l2\n",
    "    return solution\n",
    "\n",
    "def hum_cap_u(l2,gamma,b,w,rho):\n",
    "    \"\"\"This function takes 5 arguments and return the human capital level. It is build on h2_sol\n",
    "        args: \n",
    "            l2 = dummy for work or not. Should either be 0 or 1\n",
    "            gamma = some parameter determening the disutility of not working\n",
    "            b = unemployment benefits\n",
    "            w = wages\n",
    "            rho = some parameter\n",
    "            returns human capital level given the parameters\"\"\"\n",
    "    # We use h2_sol, but instead of the utility we plug in the utility of not working, as a \"cutoff\"-point for \n",
    "    #when the workerwill work. \n",
    "    #\n",
    "    #Calculate the utility of not working \n",
    "    nw_u = utility_work(h2,0,w,rho,gamma,b)\n",
    "    \n",
    "    #Calculate the human capital level where the utility is higher for working than not\n",
    "    hum_cap = ((-gamma*l2*rho+gamma*l2-rho*nw_u+nw_u)**-(1/(rho-1)))/(l2*w)\n",
    "    \n",
    "    return hum_cap"
   ]
  },
  {
   "cell_type": "markdown",
   "metadata": {},
   "source": [
    "Now we wish to plot the model, to see how utility depends on human capital level"
   ]
  },
  {
   "cell_type": "code",
   "execution_count": 7,
   "metadata": {},
   "outputs": [],
   "source": [
    "# set the given parameters of the model\n",
    "rho = 2\n",
    "beta = 0.96\n",
    "gamma = 0.1\n",
    "w = 2\n",
    "b = 1\n",
    "delta = 0.1"
   ]
  },
  {
   "cell_type": "code",
   "execution_count": 8,
   "metadata": {},
   "outputs": [],
   "source": [
    "# define a plot with the utility given the human capital\n",
    "def plot_func(h2,w,rho,gamma,b):\n",
    "    \"\"\"This function takes 5 arguments and plots utility based on human captial, for both working and not working\n",
    "        args:\n",
    "            h2 = human capital\n",
    "            w = wage\n",
    "            rho = some parameter\n",
    "            gamma = parameter determening the disutility of working\n",
    "            b = unemployment benefits\n",
    "            does not return anything, but prints a plot\"\"\"\n",
    "    #Calculate the utility of working\n",
    "    work = utility_work(h2,1,w,rho,gamma,b)\n",
    "    \n",
    "    #calculate the utility of not working\n",
    "    not_work = utility_work(h2,0,w,rho,gamma,b)\n",
    "    \n",
    "    #Calculate the \"cutoff\"-point\n",
    "    cutoff = hum_cap_u(1,gamma,b,w,rho)\n",
    "    \n",
    "    #plot work and not work\n",
    "    plt.plot(h2,work,label = \"Utility of working\")\n",
    "    plt.plot(h2,not_work,color=\"red\",label=\"Utility of not working\")\n",
    "    plt.legend()\n",
    "    \n",
    "    plt.xlabel(\"Human capital\")\n",
    "    plt.ylabel(\"Utility\")\n",
    "\n",
    "    plt.show\n",
    "    \n",
    "    #Print the cutoff point\n",
    "    print(\"The worker will supply labour if human capital is above\",round(cutoff[0],2), \"and no labour if it is below.\" )\n",
    "    return "
   ]
  },
  {
   "cell_type": "markdown",
   "metadata": {},
   "source": [
    "To plot the utility we define two vectors. One for human capital level, and one for benefits. "
   ]
  },
  {
   "cell_type": "code",
   "execution_count": 9,
   "metadata": {},
   "outputs": [
    {
     "name": "stdout",
     "output_type": "stream",
     "text": [
      "The worker will supply labour if human capital is above 0.56 and no labour if it is below.\n"
     ]
    },
    {
     "data": {
      "image/png": "[encoded data removed]",
      "text/plain": [
       "<Figure size 432x288 with 1 Axes>"
      ]
     },
     "metadata": {
      "needs_background": "light"
     },
     "output_type": "display_data"
    }
   ],
   "source": [
    "#define vectors\n",
    "h_vec = np.linspace(0.1,1.5,100) \n",
    "b_vec = np.linspace(1,1,100)\n",
    "plot_func(h_vec,w,rho,gamma,b_vec)"
   ]
  },
  {
   "cell_type": "markdown",
   "metadata": {},
   "source": [
    "Here we can see a positive relation between human capital and the utility. This utility is negative, but the important interpertation is that it rises with level of human capital. The red line represents the utility from not working, therefore the human capital is lower than the level where the red line crosses the blue one, the agent will chose not to work."
   ]
  },
  {
   "cell_type": "markdown",
   "metadata": {},
   "source": [
    "Given this plot, we can assume that the agent will chose to work for a human capital level higher than 0.56. If it is not the case the agent should take the benefits and get -1 as utility from it."
   ]
  },
  {
   "cell_type": "code",
   "execution_count": 10,
   "metadata": {},
   "outputs": [
    {
     "name": "stdout",
     "output_type": "stream",
     "text": [
      "0.56 human capital\n"
     ]
    }
   ],
   "source": [
    "#The human capital level of the cutoff\n",
    "cutoff = hum_cap_u(1,gamma,b,w,rho)\n",
    "print(round(cutoff,2),\"human capital\")"
   ]
  },
  {
   "cell_type": "markdown",
   "metadata": {},
   "source": [
    "Another way to show this, and emphasize the cutoff, is to plot a graph with the labour supply on the y-axis. To do that we create a list (size 100). We assign 0 or 1 to this list depending on the value inside the human capital vector h_vec. If the value is higher than the cutoff we assign 1, which means the agent will work, or 0 in the other case."
   ]
  },
  {
   "cell_type": "code",
   "execution_count": 11,
   "metadata": {},
   "outputs": [],
   "source": [
    "#Create the list\n",
    "willwork = list(range(100))\n",
    "\n",
    "#Use a for loop to fill the list with (1) if the human capital i is above the cutoff or (0) if it is equal or below\n",
    "for i in range(len(h_vec)): \n",
    "    #if utility of work higher than utility of not working\n",
    "    if h_vec[i] > cutoff : \n",
    "        #Assing 1\n",
    "        willwork[i] = 1\n",
    "    else : \n",
    "        #Otherwise assign 0\n",
    "        willwork[i] = 0"
   ]
  },
  {
   "cell_type": "markdown",
   "metadata": {},
   "source": [
    "From these lists, now we plot the labour supply given the human capital :"
   ]
  },
  {
   "cell_type": "code",
   "execution_count": 12,
   "metadata": {
    "scrolled": true
   },
   "outputs": [
    {
     "data": {
      "text/plain": [
       "<function matplotlib.pyplot.show(*args, **kw)>"
      ]
     },
     "execution_count": 12,
     "metadata": {},
     "output_type": "execute_result"
    },
    {
     "data": {
      "image/png": "[encoded data removed]",
      "text/plain": [
       "<Figure size 432x288 with 1 Axes>"
      ]
     },
     "metadata": {
      "needs_background": "light"
     },
     "output_type": "display_data"
    }
   ],
   "source": [
    "#We now wish to plot the cutoff in labour supply given the human capital\n",
    "##Make a vector of the cutoff value \n",
    "cutoff_vec = np.linspace(cutoff,cutoff,100)\n",
    "\n",
    "#plot the labour supply as a function of human capital\n",
    "plt.plot(h_vec,willwork)\n",
    "\n",
    "#Plot cutoff line\n",
    "plt.plot(cutoff_vec,willwork,linestyle=\"dashed\",color=\"red\",label=(\"Cutoff human capital level\"))\n",
    "plt.legend()\n",
    "plt.xlabel(\"Human capital\")\n",
    "plt.ylabel(\"Labour supply\")\n",
    "\n",
    "plt.show"
   ]
  },
  {
   "cell_type": "markdown",
   "metadata": {},
   "source": [
    "If the reader wished to examine the \"cutoff\"-point for themselves, we have provided an interavtive slide below, where we show if the worker will supply labour at a given human capital level "
   ]
  },
  {
   "cell_type": "code",
   "execution_count": 13,
   "metadata": {},
   "outputs": [],
   "source": [
    "#the labour supply as a function of human captal is then:\n",
    "def labour_supply(hum_cap,w,rho,gamma,b):\n",
    "    \"\"\"This function ins used for interaction between human capital and the cutoff point\n",
    "        args: \n",
    "            hum_cap = human capital level\n",
    "            w = wage\n",
    "            rho = some parameter\n",
    "            gamma = parameter determening disutility of not working\n",
    "            b = benefits \n",
    "            returns laboursupply as either 1 or 0 \"\"\"\n",
    "    #calculate cutoff\n",
    "    cutoff = hum_cap_u(1,gamma,b,w,rho)\n",
    "    \n",
    "    #if cutoff is lower than hum cap, print that the worker will work and assign 1\n",
    "    if hum_cap > cutoff :\n",
    "        print(\"with a human capital level of\",hum_cap,\"the worker wil supply 1 labour (l = 1)\")\n",
    "        l = 1\n",
    "    #if cutoff is higher or equal to hum cap, print that the worker will not work and assign 0\n",
    "    else :\n",
    "        print(\"with a human capital level of\",hum_cap,\"the worker will supply 0 labour (l=0)\")\n",
    "        l = 0\n",
    "    return l"
   ]
  },
  {
   "cell_type": "code",
   "execution_count": 14,
   "metadata": {},
   "outputs": [
    {
     "data": {
      "application/vnd.jupyter.widget-view+json": {
       "model_id": "ed6da8826bd04d42b2a058f90981cdc0",
       "version_major": 2,
       "version_minor": 0
      },
      "text/plain": [
       "interactive(children=(FloatSlider(value=0.1, description='hum_cap', max=1.5, min=0.1, step=0.01), Output()), _…"
      ]
     },
     "metadata": {},
     "output_type": "display_data"
    },
    {
     "data": {
      "text/plain": [
       "<function __main__.labour_supply(hum_cap, w, rho, gamma, b)>"
      ]
     },
     "execution_count": 14,
     "metadata": {},
     "output_type": "execute_result"
    }
   ],
   "source": [
    "#Create a slider with small float steps\n",
    "human_capital = widgets.FloatSlider(min=0.1,max=1.5,value=0.1,step=0.01)\n",
    "#Call interact on the function and fix all arguments except human capital\n",
    "widgets.interact(labour_supply,hum_cap=human_capital,w=widgets.fixed(w),rho=widgets.fixed(rho),gamma=widgets.fixed(gamma),b=widgets.fixed(b))"
   ]
  },
  {
   "cell_type": "markdown",
   "metadata": {},
   "source": [
    "**Question 2**"
   ]
  },
  {
   "cell_type": "code",
   "execution_count": 15,
   "metadata": {},
   "outputs": [],
   "source": [
    "#We redefine some of the symbols that we have used earlier \n",
    "rho = sm.symbols('rho')\n",
    "beta = sm.symbols('beta')\n",
    "gamma = sm.symbols('gamma')\n",
    "w = sm.symbols('w')\n",
    "b = sm.symbols('b')\n",
    "delta = sm.symbols('Delta')"
   ]
  },
  {
   "cell_type": "markdown",
   "metadata": {},
   "source": [
    "Now that we have solved for period two we can do the same with the first period. We will begin, as before, by defining the utility, disutility and total utility equations and use them to create a utility function. "
   ]
  },
  {
   "cell_type": "code",
   "execution_count": 16,
   "metadata": {},
   "outputs": [
    {
     "data": {
      "image/png": "[encoded data removed]",
      "text/latex": [
       "$$\\beta {E_1}[{v_2}(h_2)] + \\frac{c_{1}^{- \\rho + 1}}{- \\rho + 1} - \\gamma l_{1}$$"
      ],
      "text/plain": [
       "                        -ρ + 1       \n",
       "                      c₁             \n",
       "β⋅{E_1}[{v_2}(h_2)] + ──────── - γ⋅l₁\n",
       "                       -ρ + 1        "
      ]
     },
     "execution_count": 16,
     "metadata": {},
     "output_type": "execute_result"
    }
   ],
   "source": [
    "#define the utility, disutility and total utility equations for period 1\n",
    "##Utility of working \n",
    "u1 = (c1**(1-rho))/(1-rho)\n",
    "##Utility of not working\n",
    "dis_u1 = gamma*l1\n",
    "\n",
    "##Total utility\n",
    "total_u1 = u1 - dis_u1 + beta*exp\n",
    "\n",
    "#show total utility\n",
    "total_u1"
   ]
  },
  {
   "cell_type": "code",
   "execution_count": 17,
   "metadata": {},
   "outputs": [],
   "source": [
    "#set the parameters of the model as their numeric values\n",
    "rho = 2\n",
    "beta = 0.96\n",
    "gamma = 0.1\n",
    "w = 2\n",
    "b = 1\n",
    "delta = 0.1\n",
    "\n",
    "#define the utility function for period 2 \n",
    "def utility_2(h1,w=1,l1=1,rho=2,gamma=0.1,beta=0.96,delta=0.1,b=1):\n",
    "    \"\"\"This function takes 8 arguments and return the utility of either working or not working \n",
    "        args: \n",
    "            h1 = human capital leve\n",
    "            w = wage\n",
    "            l1 = work dummy. Should be either 0 or 1 \n",
    "            rho = some parameter\n",
    "            gamma = parameter determening disutility of working \n",
    "            beta = discout factor \n",
    "            delta = human capital accumulation parameter\n",
    "            b = benefits \n",
    "            return the utility \"\"\"\n",
    "    #If the worker works\n",
    "    if l1 == 1:\n",
    "        #calculate human capital leve in period 2 as a function of human capital level in period 1 \n",
    "        h2 = h1+1 +(0.5*delta)\n",
    "        #Substitute c for its components\n",
    "        c = w*h1*1\n",
    "        \n",
    "        #Calculate expected utility in period 2\n",
    "        u_p2 = utility_work(h2,1,w,rho,gamma,b)\n",
    "        \n",
    "        #Calculate the utility in period 1\n",
    "        solution = ((c**(1-rho))/(1-rho))-gamma*1 +beta*u_p2\n",
    "    else :\n",
    "        #calculate human capital leve in period 2 as a function of human capital level in period 1 \n",
    "        h2 = h1 + 0 + (0.5*delta)\n",
    "        #Substitute c for benefits when not working\n",
    "        c = b\n",
    "        \n",
    "        #Calculate expected utility in period 2\n",
    "        u_nw_p2 = utility_work(h2,0,w,rho,gamma,b)\n",
    "        \n",
    "        #Calculate the utility in period 1\n",
    "        solution = ((c**(1-rho))/(1-rho))-gamma*0 +beta*u_nw_p2\n",
    "    \n",
    "    return solution"
   ]
  },
  {
   "cell_type": "markdown",
   "metadata": {},
   "source": [
    "We create two lists for the utility values when working and not working :"
   ]
  },
  {
   "cell_type": "code",
   "execution_count": 18,
   "metadata": {},
   "outputs": [],
   "source": [
    "#Store the utility values given all the human capital values if agent works inside x\n",
    "x = utility_2(h_vec,w,1,rho,gamma,beta,delta,b)\n",
    "\n",
    "#Store the utility values given both h_vec and b_vec if the agent does not work\n",
    "y = utility_2(h_vec,w,0,rho,gamma,beta,delta,b_vec)"
   ]
  },
  {
   "cell_type": "markdown",
   "metadata": {},
   "source": [
    "The level of utility for not working in both periods is :"
   ]
  },
  {
   "cell_type": "code",
   "execution_count": 19,
   "metadata": {},
   "outputs": [
    {
     "data": {
      "image/png": "[encoded data removed]",
      "text/latex": [
       "$$-1.96$$"
      ],
      "text/plain": [
       "-1.96"
      ]
     },
     "execution_count": 19,
     "metadata": {},
     "output_type": "execute_result"
    }
   ],
   "source": [
    "#The utility of not working \n",
    "y[0]"
   ]
  },
  {
   "cell_type": "markdown",
   "metadata": {},
   "source": [
    "The function has become to complicated so solve symbolically, so we use a numerical optimzer to find the human capital level, where it makes sense to work. This is given if we mazimixe the utility function towards the cutoff point of -1.96"
   ]
  },
  {
   "cell_type": "code",
   "execution_count": 20,
   "metadata": {},
   "outputs": [],
   "source": [
    "#We define objective function \n",
    "def objective(h):\n",
    "    #This is given as the utility function\n",
    "    return utility_2(h,w,1,rho,gamma,beta,delta,b)\n",
    "#Definin constraints\n",
    "def constraint(h):\n",
    "    #The constraints are the cutoff point + the utility, as the utilities are negative \n",
    "    return (1.96 + utility_2(h,w,1,rho,gamma,beta,delta,b))"
   ]
  },
  {
   "cell_type": "code",
   "execution_count": 21,
   "metadata": {},
   "outputs": [
    {
     "data": {
      "text/plain": [
       "     fun: -1.9599999941585289\n",
       "     jac: array([4.28598835])\n",
       " message: 'Optimization terminated successfully.'\n",
       "    nfev: 21\n",
       "     nit: 7\n",
       "    njev: 7\n",
       "  status: 0\n",
       " success: True\n",
       "       x: array([0.35172508])"
      ]
     },
     "execution_count": 21,
     "metadata": {},
     "output_type": "execute_result"
    }
   ],
   "source": [
    "#Define constraints as a dictionary\n",
    "cons = ({\"type\": \"ineq\",\"fun\":constraint})\n",
    "#Initial valie of human capital leve set to 0.1\n",
    "h_init = 0.1\n",
    "#Use mimimize to optimze and print solution\n",
    "sol = optimize.minimize(objective,h_init,method=\"SLSQP\",constraints=cons)\n",
    "sol"
   ]
  },
  {
   "cell_type": "code",
   "execution_count": 22,
   "metadata": {},
   "outputs": [
    {
     "data": {
      "image/png": "[encoded data removed]",
      "text/latex": [
       "$$0.3517250846522467$$"
      ],
      "text/plain": [
       "0.3517250846522467"
      ]
     },
     "execution_count": 22,
     "metadata": {},
     "output_type": "execute_result"
    }
   ],
   "source": [
    "#The cutoff level of human capital is given as\n",
    "sol.x[0]"
   ]
  },
  {
   "cell_type": "markdown",
   "metadata": {},
   "source": [
    "We wish to plot this similar to in question 1, so we do below."
   ]
  },
  {
   "cell_type": "code",
   "execution_count": 23,
   "metadata": {},
   "outputs": [
    {
     "data": {
      "image/png": "[encoded data removed]",
      "text/plain": [
       "<Figure size 432x288 with 1 Axes>"
      ]
     },
     "metadata": {
      "needs_background": "light"
     },
     "output_type": "display_data"
    }
   ],
   "source": [
    "#define a plot with the utility given the human capital\n",
    "##define cutoff human capital as a vector to a line can be plottet\n",
    "cutoff = np.linspace(sol.x[0],sol.x[0],100)\n",
    "##Plot utility of working\n",
    "plt.plot(h_vec,x, label = \"Utility of working\",alpha= 0.8)\n",
    "##Plot utility of not working\n",
    "plt.plot(h_vec,y, color=\"green\", label = \"Utility of not working\",alpha= 0.8)\n",
    "##Plot the cutoff level of human capital\n",
    "plt.plot(cutoff,x,color = \"red\", linestyle = \"dashed\",label=\"Labour cutoff\",alpha= 0.4)\n",
    "##Plot a dot in the intersection bestween the cutoff human capital and the utility fuction for working\n",
    "plt.scatter(cutoff[0],y[0],color=\"purple\",alpha = 1)\n",
    "plt.xlabel(\"Human capital level\")\n",
    "plt.ylabel(\"Utility\")\n",
    "plt.legend()\n",
    "plt.show()"
   ]
  },
  {
   "cell_type": "markdown",
   "metadata": {},
   "source": [
    "As before, we will plot the cutoff with the same way. We create a list and assign 0 or 1 given the human capital value (if it is higher or lower than the cutoff). After that we will plot these both list to get the labour supply given the human capital."
   ]
  },
  {
   "cell_type": "code",
   "execution_count": 24,
   "metadata": {},
   "outputs": [],
   "source": [
    "#Create the list\n",
    "willwork_p1 = list(range(100))\n",
    "\n",
    "#Use a for loop to fill the list with (1) if the human capital i is above the cutoff or (0) if it is equal or below \n",
    "for i in range(len(h_vec)): \n",
    "    #If utiliy of working is strictly higher than utility of not working, assign 1\n",
    "    if utility_2(h_vec[i],w,1,rho,gamma,beta,delta,1) > utility_2(h_vec[i],w,0,rho,gamma,beta,delta,1) : \n",
    "        willwork_p1[i] = 1\n",
    "    else : \n",
    "        #Else assign 0\n",
    "        willwork_p1[i] = 0"
   ]
  },
  {
   "cell_type": "code",
   "execution_count": 25,
   "metadata": {},
   "outputs": [
    {
     "data": {
      "text/plain": [
       "Text(0, 0.5, 'Labour supply')"
      ]
     },
     "execution_count": 25,
     "metadata": {},
     "output_type": "execute_result"
    },
    {
     "data": {
      "image/png": "[encoded data removed]",
      "text/plain": [
       "<Figure size 432x288 with 1 Axes>"
      ]
     },
     "metadata": {
      "needs_background": "light"
     },
     "output_type": "display_data"
    }
   ],
   "source": [
    "#plot the cutoff in labour supply given the human capital\n",
    "##Plot labour supply \n",
    "plt.plot(h_vec,willwork_p1)\n",
    "## plot the cutoff human capital level as a red dashed line\n",
    "plt.plot(cutoff,np.linspace(0,1,100),linestyle = \"dashed\",color=\"red\",label=(\"Cutoff human capital level\"))\n",
    "plt.legend()\n",
    "plt.xlabel(\"Human capital\")\n",
    "plt.ylabel(\"Labour supply\")"
   ]
  },
  {
   "cell_type": "markdown",
   "metadata": {},
   "source": [
    "This means that the worker will chose to supply her labour if her human capital level is above 0.35. If the human capital is under, she won't chose to work and live from the benefits. "
   ]
  },
  {
   "cell_type": "markdown",
   "metadata": {},
   "source": [
    "## Question 3"
   ]
  },
  {
   "cell_type": "markdown",
   "metadata": {},
   "source": [
    "We will examine if workers will ever work if their wage is lower than the unemployment benefits. In this case the unemployment benefits are given as 1. It is theoretically possible that a worker would chose to work, if the accumulation of human capital can more than make up for the loss in utility. To test this we chose a list of the possible wages below 1, and test if there is a human capital level, where the utility of working is higher than not working"
   ]
  },
  {
   "cell_type": "code",
   "execution_count": 26,
   "metadata": {},
   "outputs": [],
   "source": [
    "#We define a list of different wage levels to examine \n",
    "wages = np.linspace(0,0.99,100)"
   ]
  },
  {
   "cell_type": "code",
   "execution_count": 27,
   "metadata": {},
   "outputs": [],
   "source": [
    "#parameters\n",
    "rho = 2\n",
    "beta = 0.96\n",
    "gamma = 0.1\n",
    "b = 1\n",
    "delta = 0.1\n",
    "h_vec = np.linspace(0.1,1.5,100)"
   ]
  },
  {
   "cell_type": "markdown",
   "metadata": {},
   "source": [
    "We create a for loop to test if the utility gained from working, even if wages are lower than b, is higher than the utility gotten when not working in both periods (which was -1.96)."
   ]
  },
  {
   "cell_type": "code",
   "execution_count": 28,
   "metadata": {},
   "outputs": [
    {
     "name": "stdout",
     "output_type": "stream",
     "text": [
      "wage_0.6\n"
     ]
    },
    {
     "name": "stderr",
     "output_type": "stream",
     "text": [
      "C:\\Users\\augus\\Anaconda3\\lib\\site-packages\\ipykernel_launcher.py:16: RuntimeWarning: divide by zero encountered in reciprocal\n",
      "  app.launch_new_instance()\n",
      "C:\\Users\\augus\\Anaconda3\\lib\\site-packages\\ipykernel_launcher.py:33: RuntimeWarning: divide by zero encountered in reciprocal\n"
     ]
    }
   ],
   "source": [
    "#For-loop that tests if utility from working is higher than not working for a wage lower than the benefits\n",
    "\n",
    "#Initate. Looping over alle possibel wages under 1 2 decials (that is the highest we test is 0.99)\n",
    "for wage in wages: \n",
    "    #define a name for outputting\n",
    "    name = \"wage_\" + str(round(wage,2))\n",
    "    \n",
    "    #Calculate the cutoff. This depends on the wage so it has to be done inside loop. \n",
    "    ## this is a list as we use h_vec which contain all levels of human capital\n",
    "    cutoff_w = utility_2(h1 = h_vec, w = wage, l1 = 1, rho = 2, gamma = 0.1, beta= 0.96, delta = 0.1, b = 1)\n",
    "    \n",
    "    #Check if the maximum utility given the wage is higher that -1.96, the utility of not working \n",
    "    if max(cutoff_w) > -1.96:\n",
    "        #If it is print the name \n",
    "        print(name) \n",
    "        #This will be the lowest wage where it is profitable to work \n",
    "        ##Therefore break, as any higher wage will be redundant to calculate\n",
    "        break"
   ]
  },
  {
   "cell_type": "markdown",
   "metadata": {},
   "source": [
    "It turns out that it could be profitable for the worker to work even if the wage is 0.6 while the unemployment benefits are 1 if the human capital is high."
   ]
  },
  {
   "cell_type": "markdown",
   "metadata": {},
   "source": [
    "To illustrate this result, we plot the utility given the human capital for a wage equal to 2 and a wage equal to 0.6. We also print the cutoff to show when it is better to work."
   ]
  },
  {
   "cell_type": "code",
   "execution_count": 29,
   "metadata": {},
   "outputs": [
    {
     "data": {
      "image/png": "[encoded data removed]",
      "text/plain": [
       "<Figure size 432x288 with 1 Axes>"
      ]
     },
     "metadata": {
      "needs_background": "light"
     },
     "output_type": "display_data"
    }
   ],
   "source": [
    "#define a plot with the utility given the human capital\n",
    "\n",
    "#plot the utility function as wage level 2\n",
    "plt.plot(h_vec,x, label = \"Wage = 2\",alpha= 0.6)\n",
    "#plot the utility of not working\n",
    "plt.plot(h_vec,y, color = \"red\", linestyle = \"dashed\",alpha= 0.5, label = \"Utility of not working\")\n",
    "#Plot the utility of working when wages are 0.6\n",
    "plt.plot(h_vec,cutoff_w, color = \"green\", label = \"Wage = 0.6\")\n",
    "plt.xlabel(\"Human capital level\")\n",
    "plt.ylabel(\"Utility\")\n",
    "#Set new limits\n",
    "plt.ylim(-5,0)\n",
    "plt.legend()\n",
    "plt.show()"
   ]
  },
  {
   "cell_type": "markdown",
   "metadata": {},
   "source": [
    "It is evident that at very high levels of human capital, it can be rational to work, even if the wage is lower than the \n",
    "unemployment benefits. From our loop before we know that the lowest wage where this is true is 0.6. Therefore we \n",
    "use optimization to find the human capital level at which i makes sense to work if your wage is 0.6. \n"
   ]
  },
  {
   "cell_type": "code",
   "execution_count": 30,
   "metadata": {},
   "outputs": [],
   "source": [
    "#define the objective. Againg this is the utility function\n",
    "def objective(h):\n",
    "    #Insert 0.6 as wage into function\n",
    "    return utility_2(h,0.6,1,rho,gamma,beta,delta,b)\n",
    "\n",
    "#Define the constraint function. This is again 1.96 + the utility as utility is negative\n",
    "def constraint(h):\n",
    "    #Insert 0.6 as wage into function\n",
    "    return (1.96 + utility_2(h,0.6,1,rho,gamma,beta,delta,b))"
   ]
  },
  {
   "cell_type": "code",
   "execution_count": 31,
   "metadata": {},
   "outputs": [
    {
     "data": {
      "text/plain": [
       "     fun: -1.960000000389105\n",
       "     jac: array([1.01749761])\n",
       " message: 'Optimization terminated successfully.'\n",
       "    nfev: 27\n",
       "     nit: 9\n",
       "    njev: 9\n",
       "  status: 0\n",
       " success: True\n",
       "       x: array([1.47461354])"
      ]
     },
     "execution_count": 31,
     "metadata": {},
     "output_type": "execute_result"
    }
   ],
   "source": [
    "cons = ({\"type\": \"ineq\",\"fun\":constraint})\n",
    "h_init = 0.1\n",
    "sol = optimize.minimize(objective,h_init,method=\"SLSQP\",constraints=cons)\n",
    "sol"
   ]
  },
  {
   "cell_type": "code",
   "execution_count": 32,
   "metadata": {},
   "outputs": [
    {
     "data": {
      "image/png": "[encoded data removed]",
      "text/latex": [
       "$$1.4746135384659365$$"
      ],
      "text/plain": [
       "1.4746135384659365"
      ]
     },
     "execution_count": 32,
     "metadata": {},
     "output_type": "execute_result"
    }
   ],
   "source": [
    "#The human capital where it makes sense to work, at a wage of 0.6 is: \n",
    "sol.x[0]"
   ]
  },
  {
   "cell_type": "markdown",
   "metadata": {},
   "source": [
    "This is not the limit 1.5, so to be sure we test that the a wage of 0.59 does not have an assosiated human capital level where the worker would work. "
   ]
  },
  {
   "cell_type": "code",
   "execution_count": 33,
   "metadata": {},
   "outputs": [
    {
     "name": "stdout",
     "output_type": "stream",
     "text": [
      "No level of human capital where the worker would work, at human capital level of 0.59\n"
     ]
    }
   ],
   "source": [
    "# I test that there is no wage value below 0.6 where the worker would work \n",
    "w = 0.59\n",
    "#We only use 2 decimal so 0.59 is the closest to 0.6 \n",
    "\n",
    "#Same as before, define objective function\n",
    "def objective(h):\n",
    "    return utility_2(h,w,1,rho,gamma,beta,delta,b)\n",
    "#Define cnstriants\n",
    "def constraint(h):\n",
    "    return (1.96 + utility_2(h,w,1,rho,gamma,beta,delta,b))\n",
    "#Make it into a dictionary\n",
    "cons = ({\"type\": \"ineq\",\"fun\":constraint})\n",
    "#Intial value of human capital\n",
    "h_init = 0.1\n",
    "\n",
    "#Solve \n",
    "sol = optimize.minimize(objective,h_init,method=\"SLSQP\",constraints=cons)\n",
    "\n",
    "#Check if the solutions is lower than the limit of 1.5\n",
    "if sol.x[0] > 1.5:\n",
    "    print(\"No level of human capital where the worker would work, at human capital level of\",str(w))\n",
    "else: \n",
    "    print(\"The worker til work if she has a human capital level of\", str(sol.x[0]))"
   ]
  },
  {
   "cell_type": "markdown",
   "metadata": {},
   "source": [
    "So the worker will work at a wage of 0.6, if she has a human capital level of 1.47 or higher. But not if she has a wage of 0.59"
   ]
  },
  {
   "cell_type": "markdown",
   "metadata": {},
   "source": [
    "We will plot the utility function at different wage levels in order to show how the workes calculation changes based on the wages. "
   ]
  },
  {
   "cell_type": "code",
   "execution_count": 34,
   "metadata": {},
   "outputs": [],
   "source": [
    "\n",
    "# Define wages to plot - chosen for nice visual and intuitive representateion\n",
    "wages = [0.6,0.7,0.8,0.9,0.99]\n",
    "\n",
    "# And the parameters again\n",
    "rho = 2\n",
    "beta = 0.96\n",
    "gamma = 0.1\n",
    "b = 1\n",
    "delta = 0.1 \n",
    "h_vec = np.linspace(0.1,1.5,100)"
   ]
  },
  {
   "cell_type": "code",
   "execution_count": 35,
   "metadata": {},
   "outputs": [
    {
     "data": {
      "image/png": "[encoded data removed]",
      "text/plain": [
       "<Figure size 432x288 with 1 Axes>"
      ]
     },
     "metadata": {
      "needs_background": "light"
     },
     "output_type": "display_data"
    }
   ],
   "source": [
    "#Initiate a for loop, for each wage in the defines wages list\n",
    "for wage in wages: \n",
    "    #Calculate the utility function of working at each wage level    \n",
    "    wage_vec = utility_2(h1 = h_vec, w = wage, l1 = 1, rho = 2, gamma = 0.1, beta= 0.96, delta = 0.1, b = 1)\n",
    "    #plot the function ans assing a name corresponding to the wage level\n",
    "    plt.plot(h_vec,wage_vec, label = \"Wage =\"+str(wage))\n",
    "#plot the utility at wage 2\n",
    "plt.plot(h_vec,x, label = \"Wage = 2\",alpha= 0.6)\n",
    "#plot utility of not working\n",
    "plt.plot(h_vec,y, color = \"red\", linestyle = \"dashed\",alpha= 0.5, label = \"Utility of not working\")\n",
    "plt.xlabel(\"Human capital level\")\n",
    "plt.ylabel(\"Utility\")\n",
    "plt.ylim(-5,-0.5)\n",
    "plt.legend()\n",
    "plt.show()"
   ]
  },
  {
   "cell_type": "markdown",
   "metadata": {},
   "source": [
    "The respective \"cutoff\"-levels of human capital can be calculated using numerical optimazation "
   ]
  },
  {
   "cell_type": "code",
   "execution_count": 36,
   "metadata": {},
   "outputs": [
    {
     "name": "stdout",
     "output_type": "stream",
     "text": [
      "Human capital level = 1.47 with wages = 0.6\n",
      "Human capital level = 1.23 with wages = 0.7\n",
      "Human capital level = 1.05 with wages = 0.8\n",
      "Human capital level = 0.91 with wages = 0.9\n",
      "Human capital level = 0.81 with wages = 0.99\n"
     ]
    }
   ],
   "source": [
    "#Initiate a for-loop for each of the wages in our wages list\n",
    "for wage in wages:\n",
    "    #assing wage to w\n",
    "    w = wage \n",
    "    #Then define an objective function with the given wage\n",
    "    def objective(h):\n",
    "        return utility_2(h,w,1,rho,gamma,beta,delta,b)\n",
    "    #Then define the constraints with the given wage\n",
    "    def constraint(h):\n",
    "        return (1.96 + utility_2(h,w,1,rho,gamma,beta,delta,b))\n",
    "    #Constriants as a dictionary\n",
    "    cons = ({\"type\": \"ineq\",\"fun\":constraint})\n",
    "    #Define initial guess\n",
    "    h_init = 0.1\n",
    "    \n",
    "    #Solve the optimazation\n",
    "    sol = optimize.minimize(objective,h_init,method=\"SLSQP\",constraints=cons)\n",
    "    #Print the cutoff level of human capital and the wage level\n",
    "    print(\"Human capital level =\",round(sol.x[0],2),\"with wages =\", wage)"
   ]
  },
  {
   "cell_type": "markdown",
   "metadata": {},
   "source": [
    "# 2. AS-AD Model :"
   ]
  },
  {
   "cell_type": "markdown",
   "metadata": {},
   "source": [
    "To solve assignment 2 we primarily use the sympy functionality. Towards the end we use some some numerical optimization.  "
   ]
  },
  {
   "cell_type": "code",
   "execution_count": 37,
   "metadata": {},
   "outputs": [],
   "source": [
    "#All the symbold we wish to use for symbolic calculations are defined as sm.symbols \n",
    "alpha = sm.symbols('alpha')\n",
    "b = sm.symbols('b')\n",
    "gamma = sm.symbols('gamma')\n",
    "h = sm.symbols('h')\n",
    "phi = sm.symbols('phi')\n",
    "yt = sm.symbols('y_t')\n",
    "pit = sm.symbols('pi_t')\n",
    "pit_m1=sm.symbols('pi_t-1')\n",
    "yt_m1 = sm.symbols('y_t-1')\n",
    "vt = sm.symbols('v_t')\n",
    "st = sm.symbols('s_t')\n",
    "st_m1 = sm.symbols('s_t-1')\n",
    "rt = sm.symbols('r_t')\n",
    "it = sm.symbols('i_t')\n",
    "exp_pit = sm.symbols('E[pi_t]')\n",
    "exp_pit_p1 = sm.symbols('E[pi_t+1]')"
   ]
  },
  {
   "cell_type": "markdown",
   "metadata": {},
   "source": [
    "**Question 1**"
   ]
  },
  {
   "cell_type": "markdown",
   "metadata": {},
   "source": [
    "Now that we have the symbols let's write the SRAS curve with them :"
   ]
  },
  {
   "cell_type": "code",
   "execution_count": 38,
   "metadata": {},
   "outputs": [
    {
     "data": {
      "image/png": "[encoded data removed]",
      "text/latex": [
       "$$- \\gamma \\phi y_{t-1} + \\gamma y_{t} - \\phi s_{t-1} + \\pi_{t-1} + s_{t}$$"
      ],
      "text/plain": [
       "-γ⋅φ⋅yₜ₋₁ + γ⋅yₜ - φ⋅sₜ₋₁ + πₜ₋₁ + sₜ"
      ]
     },
     "execution_count": 38,
     "metadata": {},
     "output_type": "execute_result"
    }
   ],
   "source": [
    "# Write the SRAS base equation\n",
    "SRAS_pit=pit_m1-phi*gamma*yt_m1+st-phi*st_m1+gamma*yt\n",
    "SRAS_pit"
   ]
  },
  {
   "cell_type": "markdown",
   "metadata": {},
   "source": [
    "We do the same with the AD curve :"
   ]
  },
  {
   "cell_type": "code",
   "execution_count": 39,
   "metadata": {},
   "outputs": [
    {
     "data": {
      "image/png": "[encoded data removed]",
      "text/latex": [
       "$$\\frac{v_{t} - y_{t} \\left(\\alpha b + 1\\right)}{\\alpha h}$$"
      ],
      "text/plain": [
       "vₜ - yₜ⋅(α⋅b + 1)\n",
       "─────────────────\n",
       "       α⋅h       "
      ]
     },
     "execution_count": 39,
     "metadata": {},
     "output_type": "execute_result"
    }
   ],
   "source": [
    "# Write the AD base equation\n",
    "AD_pit=(1/(h*alpha))*(vt-(1+b*alpha)*yt)\n",
    "AD_pit"
   ]
  },
  {
   "cell_type": "markdown",
   "metadata": {},
   "source": [
    "Now we will equalize SRAS and AD to find the equilibrium values. To do that we substract one from the other (which is the same as equalizing them):"
   ]
  },
  {
   "cell_type": "code",
   "execution_count": 40,
   "metadata": {},
   "outputs": [
    {
     "data": {
      "image/png": "[encoded data removed]",
      "text/latex": [
       "$$- \\gamma \\phi y_{t-1} + \\gamma y_{t} - \\phi s_{t-1} + \\pi_{t-1} + s_{t} - \\frac{v_{t} - y_{t} \\left(\\alpha b + 1\\right)}{\\alpha h}$$"
      ],
      "text/plain": [
       "                                        vₜ - yₜ⋅(α⋅b + 1)\n",
       "-γ⋅φ⋅yₜ₋₁ + γ⋅yₜ - φ⋅sₜ₋₁ + πₜ₋₁ + sₜ - ─────────────────\n",
       "                                               α⋅h       "
      ]
     },
     "execution_count": 40,
     "metadata": {},
     "output_type": "execute_result"
    }
   ],
   "source": [
    "# SRAS equation minus the AD equation\n",
    "AS_minus_AD= SRAS_pit-AD_pit\n",
    "AS_minus_AD"
   ]
  },
  {
   "cell_type": "markdown",
   "metadata": {},
   "source": [
    "We solve this equation for $y_t$ :"
   ]
  },
  {
   "cell_type": "code",
   "execution_count": 41,
   "metadata": {},
   "outputs": [
    {
     "data": {
      "image/png": "[encoded data removed]",
      "text/latex": [
       "$$\\frac{\\alpha \\gamma h \\phi y_{t-1} + \\alpha h \\phi s_{t-1} - \\alpha h \\pi_{t-1} - \\alpha h s_{t} + v_{t}}{\\alpha b + \\alpha \\gamma h + 1}$$"
      ],
      "text/plain": [
       "α⋅γ⋅h⋅φ⋅yₜ₋₁ + α⋅h⋅φ⋅sₜ₋₁ - α⋅h⋅πₜ₋₁ - α⋅h⋅sₜ + vₜ\n",
       "──────────────────────────────────────────────────\n",
       "                 α⋅b + α⋅γ⋅h + 1                  "
      ]
     },
     "execution_count": 41,
     "metadata": {},
     "output_type": "execute_result"
    }
   ],
   "source": [
    "# Solve the equation for yt\n",
    "eq_y = sm.solve(sm.Eq(AS_minus_AD,0),yt)\n",
    "eq_y[0]"
   ]
  },
  {
   "cell_type": "markdown",
   "metadata": {},
   "source": [
    "We get the equation of the equilibrium output $y_t$ which depends on $\\alpha , \\phi ,\\gamma , h, b, \\pi_{t-1} ,s_{t-1} ,y_{t-1} ,v_t$ and $s_t $."
   ]
  },
  {
   "cell_type": "markdown",
   "metadata": {},
   "source": [
    "Now that we have the equilibrium equation of the output, let's insert it in the SRAS curve :"
   ]
  },
  {
   "cell_type": "code",
   "execution_count": 42,
   "metadata": {},
   "outputs": [
    {
     "data": {
      "image/png": "[encoded data removed]",
      "text/latex": [
       "$$- \\gamma \\phi y_{t-1} + \\frac{\\gamma \\left(\\alpha \\gamma h \\phi y_{t-1} + \\alpha h \\phi s_{t-1} - \\alpha h \\pi_{t-1} - \\alpha h s_{t} + v_{t}\\right)}{\\alpha b + \\alpha \\gamma h + 1} - \\phi s_{t-1} + \\pi_{t-1} + s_{t}$$"
      ],
      "text/plain": [
       "            γ⋅(α⋅γ⋅h⋅φ⋅yₜ₋₁ + α⋅h⋅φ⋅sₜ₋₁ - α⋅h⋅πₜ₋₁ - α⋅h⋅sₜ + vₜ)            \n",
       "-γ⋅φ⋅yₜ₋₁ + ────────────────────────────────────────────────────── - φ⋅sₜ₋₁ + \n",
       "                               α⋅b + α⋅γ⋅h + 1                                \n",
       "\n",
       "         \n",
       "πₜ₋₁ + sₜ\n",
       "         "
      ]
     },
     "execution_count": 42,
     "metadata": {},
     "output_type": "execute_result"
    }
   ],
   "source": [
    "# Substitute the new output equation to replace yt\n",
    "eq_pi= SRAS_pit.subs(yt,eq_y[0])\n",
    "eq_pi"
   ]
  },
  {
   "cell_type": "markdown",
   "metadata": {},
   "source": [
    "We obtain the equation of the equilibrium inflation which depends on $\\gamma ,\\phi , s_t ,\\pi_{t-1} ,y_{t-1}$ and $s_{t-1}$"
   ]
  },
  {
   "cell_type": "markdown",
   "metadata": {},
   "source": [
    "**Question 2**"
   ]
  },
  {
   "cell_type": "markdown",
   "metadata": {},
   "source": [
    "We want to find the output and inflation for the equilibrium and see the evolution when there is a demand disturbance.\n",
    "To do that we will create a dictionary for the parameters of this question, and create two functions for the output and inflation from the equation we found previously. We will use these functions to get the output and inflation levels in the equilibrium and after a shock and plot the results."
   ]
  },
  {
   "cell_type": "markdown",
   "metadata": {},
   "source": [
    "First of all we create a dictionary to enter the value of our parameters ($\\alpha$, $h$, $b$, $\\phi$, $\\gamma$) :"
   ]
  },
  {
   "cell_type": "code",
   "execution_count": 43,
   "metadata": {},
   "outputs": [
    {
     "data": {
      "text/plain": [
       "{'alpha': 5.76, 'h': 0.5, 'b': 0.5, 'phi': 0, 'gamma': 0.075}"
      ]
     },
     "execution_count": 43,
     "metadata": {},
     "output_type": "execute_result"
    }
   ],
   "source": [
    "# Initialization of the dictionary\n",
    "pms = {}\n",
    "\n",
    "# Enter the parameters and their values\n",
    "pms['alpha']=5.76\n",
    "pms['h'] = 0.5\n",
    "pms['b'] = 0.5\n",
    "pms['phi'] = 0\n",
    "pms['gamma'] = 0.075\n",
    "pms"
   ]
  },
  {
   "cell_type": "markdown",
   "metadata": {},
   "source": [
    "From the equation of the output we found in question one ( \"eq_y\" ), we create a function by using lambdify."
   ]
  },
  {
   "cell_type": "code",
   "execution_count": 44,
   "metadata": {},
   "outputs": [],
   "source": [
    "# Our eq_y is a list, therefore we need to consider only the first element of it to use the lambdify function.\n",
    "equil_output= sm.lambdify((vt, st, pit_m1, st_m1, yt_m1, alpha, h, b, phi, gamma),eq_y[0])\n",
    "\n",
    "# Define the function\n",
    "def equili_output (vt, st, pit_m1, st_m1, yt_m1, alpha=pms['alpha'], h=pms['h'], b=pms['b'], phi=pms['phi'], gamma=pms['gamma']):\n",
    "    \"\"\"\n",
    "    This function take five parameters plus five others which are by default define in the dictionary called \"pms\" and\n",
    "    return the output of the economy.\n",
    "    \n",
    "        args :  vt (float) : the demand disturbance in period t\n",
    "                st (float) : the supply disturbance in period t\n",
    "                pit_m1 (float) : the inflation in period t-1\n",
    "                st_m1 (float) : the supply disturbance in period t-1\n",
    "                yt_m1 (float) : the output in period t-1\n",
    "        \n",
    "        return (float) : The output yt of the economy for the period t.\n",
    "    \n",
    "    \"\"\"\n",
    "    return equil_output (vt, st, pit_m1, st_m1, yt_m1, alpha, h, b, phi, gamma)"
   ]
  },
  {
   "cell_type": "markdown",
   "metadata": {},
   "source": [
    "Now let's enter values of the variables at the equilibrium, which means $v_t = s_t = \\pi_{t-1} = s_{t-1} = y_{t-1} = 0$ :"
   ]
  },
  {
   "cell_type": "code",
   "execution_count": 45,
   "metadata": {},
   "outputs": [
    {
     "data": {
      "image/png": "[encoded data removed]",
      "text/latex": [
       "$$0.0$$"
      ],
      "text/plain": [
       "0.0"
      ]
     },
     "execution_count": 45,
     "metadata": {},
     "output_type": "execute_result"
    }
   ],
   "source": [
    "equili_output(0,0,0,0,0)"
   ]
  },
  {
   "cell_type": "markdown",
   "metadata": {},
   "source": [
    "The output is zero ($y_t = 0$) which makes sense given that all the other variables are equal to 0."
   ]
  },
  {
   "cell_type": "markdown",
   "metadata": {},
   "source": [
    "Now let's see what would be the impact of a positive demand disturbance on the production. For that let's just set $v_t = 0.1$ instead of 0 :"
   ]
  },
  {
   "cell_type": "code",
   "execution_count": 46,
   "metadata": {},
   "outputs": [
    {
     "data": {
      "image/png": "[encoded data removed]",
      "text/latex": [
       "$$0.0244140625$$"
      ],
      "text/plain": [
       "0.0244140625"
      ]
     },
     "execution_count": 46,
     "metadata": {},
     "output_type": "execute_result"
    }
   ],
   "source": [
    "equili_output(0.1,0,0,0,0)"
   ]
  },
  {
   "cell_type": "markdown",
   "metadata": {},
   "source": [
    "When there is a positive disturbance of the demand $v_t$ we can observe an increase in the output. Indeed an increase in demand will stimulate the economy, the supply will adapt to the demand, increase as well, leading to more production."
   ]
  },
  {
   "cell_type": "markdown",
   "metadata": {},
   "source": [
    "Now let's see the impact of the demand disturbance on the **inflation** :"
   ]
  },
  {
   "cell_type": "markdown",
   "metadata": {},
   "source": [
    "As before we use the inflation equation we found in question one ( \"eq_pi\" ) to create a function."
   ]
  },
  {
   "cell_type": "code",
   "execution_count": 47,
   "metadata": {},
   "outputs": [],
   "source": [
    "# Use lambdify on the inflation equation eq_pi\n",
    "equil_pi= sm.lambdify((st, yt, pit_m1, st_m1, yt_m1, gamma, phi),SRAS_pit)\n",
    "\n",
    "# Define the function\n",
    "def equili_pi (st, yt, pit_m1, st_m1, yt_m1, gamma=pms['gamma'], phi=pms['phi']):\n",
    "    \"\"\"\n",
    "    This function take five parameters plus two others which are by default define in the dictionary called \"pms\" and\n",
    "    return the inflation of the economy.\n",
    "    \n",
    "        args :  st (float) : the supply disturbance in period t\n",
    "                yt (float) : the output in period t\n",
    "                pit_m1 (float) : the inflation in period t-1\n",
    "                st_m1 (float) : the supply disturbance in period t-1\n",
    "                yt_m1 (float) : the output in period t-1\n",
    "        \n",
    "        return (float) : The inflation pit of the economy for period t.\n",
    "    \n",
    "    \"\"\"\n",
    "    return equil_pi (st, yt, pit_m1, st_m1, yt_m1, gamma, phi)"
   ]
  },
  {
   "cell_type": "code",
   "execution_count": 48,
   "metadata": {},
   "outputs": [
    {
     "data": {
      "image/png": "[encoded data removed]",
      "text/latex": [
       "$$0.0$$"
      ],
      "text/plain": [
       "0.0"
      ]
     },
     "execution_count": 48,
     "metadata": {},
     "output_type": "execute_result"
    }
   ],
   "source": [
    "equili_pi(0,0,0,0,0)"
   ]
  },
  {
   "cell_type": "markdown",
   "metadata": {},
   "source": [
    "At the equilibrium, when $v_t = s_t = \\pi_{t-1} = s_{t-1} = y_{t-1} = 0$ the inflation is zero ($\\pi_t = 0$). \n",
    "Regarding the demand disturbance, it is not involved in the inflation equation, however its impact increased the output in period t. This increase in output will impact the inflation : "
   ]
  },
  {
   "cell_type": "code",
   "execution_count": 49,
   "metadata": {},
   "outputs": [
    {
     "data": {
      "image/png": "[encoded data removed]",
      "text/latex": [
       "$$0.0018310546875$$"
      ],
      "text/plain": [
       "0.0018310546875"
      ]
     },
     "execution_count": 49,
     "metadata": {},
     "output_type": "execute_result"
    }
   ],
   "source": [
    "equili_pi(0,0.0244140625,0,0,0)"
   ]
  },
  {
   "cell_type": "markdown",
   "metadata": {},
   "source": [
    "The positive disturbance on the demand also increases the inflation.\n",
    "We can summarize the effect of this disturbance as follows:\n",
    "   1. The positive shock on $v_t$ leads to a higher demand\n",
    "   2. The supply and the demand adjust on a higher production and therefor a higher output $y_t$\n",
    "   3. Finally, a higher output leads to inflation, an increase in $\\pi_t$"
   ]
  },
  {
   "cell_type": "markdown",
   "metadata": {},
   "source": [
    "**Question 3**"
   ]
  },
  {
   "cell_type": "markdown",
   "metadata": {},
   "source": [
    "In this question we introduce a demand and a supply shock inside the demand and supply disturbance. Now both these variables become a function of shocks and some parameters. "
   ]
  },
  {
   "cell_type": "markdown",
   "metadata": {},
   "source": [
    "In theses conditions we want to know how the economy will evolve, starting from the equilibrium, if there is a demand shock in the first period. To answer this question we will first adapt our model to the new definitions of $v_t$ and $s_t$."
   ]
  },
  {
   "cell_type": "markdown",
   "metadata": {},
   "source": [
    "Now we have two new parameters ($\\delta$, $\\omega$) and $v_t$ and $s_t$ which became functions. We have to set up this new configuration:"
   ]
  },
  {
   "cell_type": "code",
   "execution_count": 50,
   "metadata": {},
   "outputs": [],
   "source": [
    "#add the new parameters into the dictionary\n",
    "pms[\"delta\"] = 0.80\n",
    "pms[\"omega\"] = 0.15\n",
    "\n",
    "#define the new symbols\n",
    "delta = sm.symbols(\"delta\")\n",
    "omega = sm.symbols(\"omega\")\n",
    "vt_m1 = sm.symbols(\"v_t-1\")\n",
    "xt = sm.symbols(\"x_t\")\n",
    "ct = sm.symbols(\"c_t\")\n",
    "\n",
    "#define the new vt and st equation\n",
    "vt_ar = delta*vt_m1 + xt\n",
    "st_ar = omega*st_m1 + ct"
   ]
  },
  {
   "cell_type": "markdown",
   "metadata": {},
   "source": [
    "To deal with these changes, we have to replace our $v_t$ in the output equation by the new one which is vt_ar :"
   ]
  },
  {
   "cell_type": "code",
   "execution_count": 51,
   "metadata": {},
   "outputs": [
    {
     "data": {
      "image/png": "[encoded data removed]",
      "text/latex": [
       "$$\\frac{\\alpha \\gamma h \\phi y_{t-1} + \\alpha h \\phi s_{t-1} - \\alpha h \\pi_{t-1} - \\alpha h s_{t} + v_{t}}{\\alpha b + \\alpha \\gamma h + 1}$$"
      ],
      "text/plain": [
       "α⋅γ⋅h⋅φ⋅yₜ₋₁ + α⋅h⋅φ⋅sₜ₋₁ - α⋅h⋅πₜ₋₁ - α⋅h⋅sₜ + vₜ\n",
       "──────────────────────────────────────────────────\n",
       "                 α⋅b + α⋅γ⋅h + 1                  "
      ]
     },
     "execution_count": 51,
     "metadata": {},
     "output_type": "execute_result"
    }
   ],
   "source": [
    "#The output equilibrium equation (our previous equation):\n",
    "eq_y[0]"
   ]
  },
  {
   "cell_type": "code",
   "execution_count": 52,
   "metadata": {},
   "outputs": [
    {
     "data": {
      "image/png": "[encoded data removed]",
      "text/latex": [
       "$$\\frac{\\alpha \\gamma h \\phi y_{t-1} + \\alpha h \\phi s_{t-1} - \\alpha h \\pi_{t-1} - \\alpha h s_{t} + \\delta v_{t-1} + x_{t}}{\\alpha b + \\alpha \\gamma h + 1}$$"
      ],
      "text/plain": [
       "α⋅γ⋅h⋅φ⋅yₜ₋₁ + α⋅h⋅φ⋅sₜ₋₁ - α⋅h⋅πₜ₋₁ - α⋅h⋅sₜ + δ⋅vₜ₋₁ + xₜ\n",
       "───────────────────────────────────────────────────────────\n",
       "                      α⋅b + α⋅γ⋅h + 1                      "
      ]
     },
     "execution_count": 52,
     "metadata": {},
     "output_type": "execute_result"
    }
   ],
   "source": [
    "#substitute vt by vt_ar\n",
    "eq_y_ar = eq_y[0].subs(vt,vt_ar)\n",
    "eq_y_ar"
   ]
  },
  {
   "cell_type": "code",
   "execution_count": 53,
   "metadata": {},
   "outputs": [
    {
     "data": {
      "image/png": "[encoded data removed]",
      "text/latex": [
       "$$\\frac{\\alpha \\gamma h \\phi y_{t-1} + \\alpha h \\phi s_{t-1} - \\alpha h \\pi_{t-1} - \\alpha h \\left(c_{t} + \\omega s_{t-1}\\right) + \\delta v_{t-1} + x_{t}}{\\alpha b + \\alpha \\gamma h + 1}$$"
      ],
      "text/plain": [
       "α⋅γ⋅h⋅φ⋅yₜ₋₁ + α⋅h⋅φ⋅sₜ₋₁ - α⋅h⋅πₜ₋₁ - α⋅h⋅(cₜ + ω⋅sₜ₋₁) + δ⋅vₜ₋₁ + xₜ\n",
       "──────────────────────────────────────────────────────────────────────\n",
       "                           α⋅b + α⋅γ⋅h + 1                            "
      ]
     },
     "execution_count": 53,
     "metadata": {},
     "output_type": "execute_result"
    }
   ],
   "source": [
    "#substitute st by st_ar\n",
    "eq_y_ar2 = eq_y_ar.subs(st, st_ar)\n",
    "eq_y_ar2"
   ]
  },
  {
   "cell_type": "markdown",
   "metadata": {},
   "source": [
    "We have to do the same in the SRAS equation, by replacing $s_t$ by st_ar:"
   ]
  },
  {
   "cell_type": "code",
   "execution_count": 54,
   "metadata": {},
   "outputs": [
    {
     "data": {
      "image/png": "[encoded data removed]",
      "text/latex": [
       "$$- \\gamma \\phi y_{t-1} + \\gamma y_{t} - \\phi s_{t-1} + \\pi_{t-1} + s_{t}$$"
      ],
      "text/plain": [
       "-γ⋅φ⋅yₜ₋₁ + γ⋅yₜ - φ⋅sₜ₋₁ + πₜ₋₁ + sₜ"
      ]
     },
     "execution_count": 54,
     "metadata": {},
     "output_type": "execute_result"
    }
   ],
   "source": [
    "#The SRAS equation (our previous equation):\n",
    "SRAS_pit"
   ]
  },
  {
   "cell_type": "code",
   "execution_count": 55,
   "metadata": {},
   "outputs": [
    {
     "data": {
      "image/png": "[encoded data removed]",
      "text/latex": [
       "$$c_{t} - \\gamma \\phi y_{t-1} + \\gamma y_{t} + \\omega s_{t-1} - \\phi s_{t-1} + \\pi_{t-1}$$"
      ],
      "text/plain": [
       "cₜ - γ⋅φ⋅yₜ₋₁ + γ⋅yₜ + ω⋅sₜ₋₁ - φ⋅sₜ₋₁ + πₜ₋₁"
      ]
     },
     "execution_count": 55,
     "metadata": {},
     "output_type": "execute_result"
    }
   ],
   "source": [
    "#substitute st by st_ar\n",
    "eq_pi_ar = SRAS_pit.subs(st,st_ar)\n",
    "eq_pi_ar"
   ]
  },
  {
   "cell_type": "markdown",
   "metadata": {},
   "source": [
    "Now that we changed our equation, we also have to make these changes inside our previous functions :"
   ]
  },
  {
   "cell_type": "code",
   "execution_count": 56,
   "metadata": {},
   "outputs": [],
   "source": [
    "#create a new output function, with the new parameters\n",
    "## This function is the aurtoregressive equivilant of the output function defines earlier \n",
    "equil_output2= sm.lambdify((vt_m1, pit_m1, st_m1, yt_m1, ct, xt, alpha, h, b, phi, omega, gamma, delta),eq_y_ar2)\n",
    "def equili_output_ar (vt_m1, pit_m1, st_m1, yt_m1, ct, xt, alpha=pms['alpha'], h=pms['h'], b=pms['b'], phi=pms['phi'], omega=pms['omega'], gamma=pms['gamma'], delta=pms['delta']):\n",
    "    return equil_output2 (vt_m1, pit_m1, st_m1, yt_m1, ct, xt, alpha, h, b, phi, omega, gamma, delta)"
   ]
  },
  {
   "cell_type": "code",
   "execution_count": 57,
   "metadata": {},
   "outputs": [],
   "source": [
    "#create a new inflation function, with the new parameters\n",
    "## This function is the aurtoregressive equivilant of the inflation function defines earlier \n",
    "equil_piii= sm.lambdify((yt_m1, yt, pit_m1, st_m1, ct, omega, gamma, phi),eq_pi_ar)\n",
    "def equili_pi_ar (yt_m1, yt, pit_m1, st_m1, ct, omega=pms['omega'], gamma=pms['gamma'], phi=pms['phi']):\n",
    "    return equil_piii (yt_m1, yt, pit_m1, st_m1, ct, omega, gamma, phi)"
   ]
  },
  {
   "cell_type": "code",
   "execution_count": 58,
   "metadata": {},
   "outputs": [
    {
     "data": {
      "image/png": "[encoded data removed]",
      "text/latex": [
       "$$0.0$$"
      ],
      "text/plain": [
       "0.0"
      ]
     },
     "execution_count": 58,
     "metadata": {},
     "output_type": "execute_result"
    }
   ],
   "source": [
    "#test at the initial state\n",
    "equili_pi_ar(0,0,0,0,0)"
   ]
  },
  {
   "cell_type": "markdown",
   "metadata": {},
   "source": [
    "Now let's enter the new output value to get the new inflation value:"
   ]
  },
  {
   "cell_type": "code",
   "execution_count": 59,
   "metadata": {},
   "outputs": [
    {
     "data": {
      "image/png": "[encoded data removed]",
      "text/latex": [
       "$$0.0$$"
      ],
      "text/plain": [
       "0.0"
      ]
     },
     "execution_count": 59,
     "metadata": {},
     "output_type": "execute_result"
    }
   ],
   "source": [
    "equili_pi_ar(0,equili_output_ar(0,0.1,0,0,0,0,0), 0, 0, 0)"
   ]
  },
  {
   "cell_type": "code",
   "execution_count": 60,
   "metadata": {},
   "outputs": [
    {
     "data": {
      "image/png": "[encoded data removed]",
      "text/latex": [
       "$$-0.0703125$$"
      ],
      "text/plain": [
       "-0.0703125"
      ]
     },
     "execution_count": 60,
     "metadata": {},
     "output_type": "execute_result"
    }
   ],
   "source": [
    "equili_output_ar(0,0,0,0,0.1,0)"
   ]
  },
  {
   "cell_type": "markdown",
   "metadata": {},
   "source": [
    "In order to examine how an output shock would affect the system we initiate a for-loop for the 100 periods we wish to model, and let the parameters evolve according to the functions"
   ]
  },
  {
   "cell_type": "code",
   "execution_count": 61,
   "metadata": {},
   "outputs": [],
   "source": [
    "#define the number of time period\n",
    "T = 100\n",
    "\n",
    "\n",
    "#Define shock and intial parameters\n",
    "shock = 0.1\n",
    "pi_m = 0\n",
    "yn = 0\n",
    "y_m = 0\n",
    "\n",
    "#Define list to input our results in\n",
    "list_output = list(range(100))\n",
    "list_inflation = list(range(100))\n"
   ]
  },
  {
   "cell_type": "code",
   "execution_count": 62,
   "metadata": {},
   "outputs": [],
   "source": [
    "#create a loop to see the evolution of output and inflation\n",
    "for i in range(100):\n",
    "    \n",
    "    #If it is the second period \n",
    "    if i == 1 :\n",
    "        #Calculate output\n",
    "        y = equili_output_ar(0,pi_m,0,y_m,0,shock)\n",
    "        #record output in this period\n",
    "        list_output[i] = y\n",
    "        #define output for next period\n",
    "        yn = y\n",
    "       \n",
    "        \n",
    "        #calculate inflation\n",
    "        p = equili_pi_ar(y_m,yn,pi_m,0,0)\n",
    "        #record inflation in this period\n",
    "        list_inflation[i] = p  \n",
    "        #define lagged inflation\n",
    "        pi_m = p\n",
    "        #define lagged output\n",
    "        y_m = y\n",
    "       \n",
    "    #If the period is not the first or second\n",
    "    elif i> 1 :\n",
    "        #Calculate output\n",
    "        y = equili_output_ar(0,pi_m,0,y_m,0,0)\n",
    "        #Record output\n",
    "        list_output[i] = y\n",
    "        #define output for next period\n",
    "        yn = y\n",
    "\n",
    "        #calculate inflation\n",
    "        p = equili_pi_ar(y_m,yn,pi_m,0,0)\n",
    "        #record inflation in this period\n",
    "        list_inflation[i] = p  \n",
    "        \n",
    "        #define lagged inflation\n",
    "        pi_m = p\n",
    "        #define lagged output\n",
    "        y_m = y\n",
    "    \n",
    "    #If it is the intial period, that is where the shock is 0\n",
    "    else : \n",
    "        #Calculate output before any shocks\n",
    "        y = equili_output_ar(0,0,0,0,0,0)\n",
    "        #Record output\n",
    "        list_output[i] = y\n",
    "        #define output for next period\n",
    "        yn = y\n",
    "        \n",
    "        #calculate inflation\n",
    "        p = equili_pi_ar(y_m,yn,pi_m,0,0)\n",
    "        #record inflation in this period\n",
    "        list_inflation[i] = p\n",
    "        \n",
    "        #define lagged inflation\n",
    "        pi_m = p\n",
    "        #define lagged output\n",
    "        y_m = y"
   ]
  },
  {
   "cell_type": "code",
   "execution_count": 63,
   "metadata": {},
   "outputs": [
    {
     "data": {
      "text/plain": [
       "[<matplotlib.lines.Line2D at 0x2cfcc0937f0>]"
      ]
     },
     "execution_count": 63,
     "metadata": {},
     "output_type": "execute_result"
    },
    {
     "data": {
      "image/png": "[encoded data removed]",
      "text/plain": [
       "<Figure size 432x288 with 1 Axes>"
      ]
     },
     "metadata": {
      "needs_background": "light"
     },
     "output_type": "display_data"
    }
   ],
   "source": [
    "#Here we plot both output and inflation over 100 periods - They converge to 0 (conditional mean), after about 60 periods\n",
    "plt.plot(list_output)\n",
    "plt.plot(list_inflation)"
   ]
  },
  {
   "cell_type": "markdown",
   "metadata": {},
   "source": [
    "\n",
    "**Question 4**"
   ]
  },
  {
   "cell_type": "markdown",
   "metadata": {},
   "source": [
    "Now we wish to simulate the ASAD in a 1000 periods, with gaussian shock to both inflation and output"
   ]
  },
  {
   "cell_type": "code",
   "execution_count": 64,
   "metadata": {},
   "outputs": [],
   "source": [
    "#We define new given paramters \n",
    "pms['sigma_x'] = 3.492\n",
    "pms['sigma_c'] = 0.2\n",
    "pms[\"delta\"] = 0.80\n",
    "pms[\"omega\"] = 0.15\n"
   ]
  },
  {
   "cell_type": "code",
   "execution_count": 65,
   "metadata": {},
   "outputs": [],
   "source": [
    "#We make a function tha simulates our ASAD model for 1000 periods. The amound of periods is fixed, but could be generalized\n",
    "def simulation(v_m=0, s_m=0) :\n",
    "    \"\"\"This function takes 0 requried arguments, and two optional. It return two list: one of simulated output and one of \n",
    "        inflation.\"\"\"\n",
    "    \n",
    "    #Set the seed\n",
    "    np.random.seed(1)\n",
    "    \n",
    "    #define paramters. This could be generalized \n",
    "    pi_m = 0\n",
    "    yn = 0\n",
    "    y_m = 0\n",
    "    \n",
    "    #Drawing 1000 random numbers for both inflation and output shocks\n",
    "    xt = np.random.normal(loc=0,scale=pms['sigma_x'],size=1000)\n",
    "    ct = np.random.normal(loc=0,scale=pms['sigma_c'],size=1000)\n",
    "\n",
    "    \n",
    "    #Defining list space\n",
    "    list_output = list(range(1000))\n",
    "    list_inflation = list(range(1000))\n",
    "    \n",
    "    #Initating a for-loop\n",
    "    for i in range(1000):\n",
    "        #for each period in a 1000 periods\n",
    "        \n",
    "        #If it is the first period\n",
    "        if i == 0 :\n",
    "            #Calculate the output\n",
    "            y = equili_output_ar(v_m,pi_m,s_m,y_m,ct[i],xt[i])\n",
    "            #record it \n",
    "            list_output[i] = y\n",
    "            #Define output in period\n",
    "            yn = y\n",
    "            \n",
    "            #Calculate inflaiton\n",
    "            p = equili_pi_ar(y_m,yn,pi_m,s_m,ct[i])\n",
    "            #record it\n",
    "            list_inflation[i] = p  \n",
    "            \n",
    "            #Define lagged inflation\n",
    "            pi_m = p\n",
    "            #Define lagged output\n",
    "            y_m = y\n",
    "            \n",
    "            #calculate autoregressive parameters, these are given by the shock + the parameter last period times a paramter\n",
    "            v_m = pms[\"delta\"] * v_m + xt[i]\n",
    "            s_m = pms[\"omega\"] * s_m + ct [i]\n",
    "        \n",
    "        #If it is any other period\n",
    "        else :\n",
    "            #Calculate the output\n",
    "            y = equili_output_ar(v_m,pi_m,s_m,y_m,ct[i],xt[i])\n",
    "            #record it \n",
    "            list_output[i] = y\n",
    "            #Define output in period\n",
    "            yn = y\n",
    "            \n",
    "            #Calculate inflaiton\n",
    "            p = equili_pi_ar(y_m,yn,pi_m,s_m,ct[i])\n",
    "            #record it\n",
    "            list_inflation[i] = p  \n",
    "            \n",
    "            #Define lagged inflation\n",
    "            pi_m = p\n",
    "            #Define lagged output\n",
    "            y_m = y\n",
    "             #calculate autoregressive parameters, these are given by the shock + the parameter last period times a paramter\n",
    "            v_m = pms[\"delta\"] * v_m + xt[i]\n",
    "            s_m = pms[\"omega\"] * s_m + ct[i]\n",
    "\n",
    "    return list_inflation, list_output"
   ]
  },
  {
   "cell_type": "code",
   "execution_count": 66,
   "metadata": {},
   "outputs": [],
   "source": [
    "#We store the inflation and output is an array called data, and in two seperat lists\n",
    "data = simulation()\n",
    "inflation = data[0]\n",
    "output = data[1]"
   ]
  },
  {
   "cell_type": "markdown",
   "metadata": {},
   "source": [
    "### Statistics for the simulated model"
   ]
  },
  {
   "cell_type": "code",
   "execution_count": 67,
   "metadata": {},
   "outputs": [
    {
     "name": "stdout",
     "output_type": "stream",
     "text": [
      "1.018330396633222\n",
      "1.8330329923516997\n"
     ]
    }
   ],
   "source": [
    "#We use numpy to calculate the statistics for the simulation \n",
    "#Variance\n",
    "print(np.var(inflation))\n",
    "print(np.var(output))"
   ]
  },
  {
   "cell_type": "code",
   "execution_count": 68,
   "metadata": {},
   "outputs": [],
   "source": [
    "#Mean - this is only for plotting\n",
    "mean_pi = np.linspace(np.mean(inflation),np.mean(inflation),1000)\n",
    "mean_y = np.linspace(np.mean(output),np.mean(output),1000)\n"
   ]
  },
  {
   "cell_type": "code",
   "execution_count": 69,
   "metadata": {},
   "outputs": [
    {
     "data": {
      "image/png": "[encoded data removed]",
      "text/plain": [
       "<Figure size 432x288 with 1 Axes>"
      ]
     },
     "metadata": {
      "needs_background": "light"
     },
     "output_type": "display_data"
    }
   ],
   "source": [
    "#Plot the output across time\n",
    "plt.plot(output,label=\"Output\")\n",
    "#Plot the mean\n",
    "plt.plot(mean_y,color=\"r\",label=\"Mean of output\",linestyle=\"dashed\")\n",
    "plt.xlabel(\"Period\")\n",
    "plt.ylabel(\"Change in output\")\n",
    "plt.legend()\n",
    "plt.show()"
   ]
  },
  {
   "cell_type": "code",
   "execution_count": 70,
   "metadata": {},
   "outputs": [
    {
     "data": {
      "image/png": "[encoded data removed]",
      "text/plain": [
       "<Figure size 432x288 with 1 Axes>"
      ]
     },
     "metadata": {
      "needs_background": "light"
     },
     "output_type": "display_data"
    }
   ],
   "source": [
    "#Plot the inflation across time\n",
    "plt.plot(inflation,label=\"Inflation\")\n",
    "#Plot the mean of inflation\n",
    "plt.plot(mean_pi,color=\"r\",label=\"Mean of inflation\",linestyle=\"dashed\")\n",
    "plt.xlabel(\"Period\")\n",
    "plt.ylabel(\"Change in inflaiton\")\n",
    "plt.legend()\n",
    "plt.show()"
   ]
  },
  {
   "cell_type": "code",
   "execution_count": 71,
   "metadata": {},
   "outputs": [
    {
     "data": {
      "image/png": "[encoded data removed]",
      "text/latex": [
       "$$-0.20791445913919612$$"
      ],
      "text/plain": [
       "-0.20791445913919612"
      ]
     },
     "execution_count": 71,
     "metadata": {},
     "output_type": "execute_result"
    }
   ],
   "source": [
    "#Correlatation between inflation and output\n",
    "#pearsons R is calculated using numpy\n",
    "np.corrcoef(inflation,output)[0,1]"
   ]
  },
  {
   "cell_type": "code",
   "execution_count": 72,
   "metadata": {},
   "outputs": [
    {
     "data": {
      "image/png": "[encoded data removed]",
      "text/plain": [
       "<Figure size 432x288 with 1 Axes>"
      ]
     },
     "metadata": {
      "needs_background": "light"
     },
     "output_type": "display_data"
    }
   ],
   "source": [
    "#Plot inflation and output across time\n",
    "##Here we plot the two variables as time series. Output is faded so inflation is visible\n",
    "plt.plot(inflation,label=\"Inflation\",alpha=1)\n",
    "plt.plot(output,color=\"r\",label=\"Output\",alpha=0.2)\n",
    "plt.xlabel(\"Period\")\n",
    "plt.ylabel(\"Change\")\n",
    "plt.legend()\n",
    "plt.show()"
   ]
  },
  {
   "cell_type": "markdown",
   "metadata": {},
   "source": [
    "In order to calculate the autocorrelation, we define the two lists as a dataframe and use pandas to make lagged variables "
   ]
  },
  {
   "cell_type": "code",
   "execution_count": 73,
   "metadata": {},
   "outputs": [
    {
     "data": {
      "text/html": [
       "<div>\n",
       "<style scoped>\n",
       "    .dataframe tbody tr th:only-of-type {\n",
       "        vertical-align: middle;\n",
       "    }\n",
       "\n",
       "    .dataframe tbody tr th {\n",
       "        vertical-align: top;\n",
       "    }\n",
       "\n",
       "    .dataframe thead th {\n",
       "        text-align: right;\n",
       "    }\n",
       "</style>\n",
       "<table border=\"1\" class=\"dataframe\">\n",
       "  <thead>\n",
       "    <tr style=\"text-align: right;\">\n",
       "      <th></th>\n",
       "      <th>inflation</th>\n",
       "      <th>output</th>\n",
       "    </tr>\n",
       "  </thead>\n",
       "  <tbody>\n",
       "    <tr>\n",
       "      <th>0</th>\n",
       "      <td>0.074830</td>\n",
       "      <td>1.406367</td>\n",
       "    </tr>\n",
       "    <tr>\n",
       "      <th>1</th>\n",
       "      <td>-0.350344</td>\n",
       "      <td>0.878997</td>\n",
       "    </tr>\n",
       "    <tr>\n",
       "      <th>2</th>\n",
       "      <td>-0.304003</td>\n",
       "      <td>0.245455</td>\n",
       "    </tr>\n",
       "    <tr>\n",
       "      <th>3</th>\n",
       "      <td>-0.412872</td>\n",
       "      <td>-0.643367</td>\n",
       "    </tr>\n",
       "    <tr>\n",
       "      <th>4</th>\n",
       "      <td>-0.684640</td>\n",
       "      <td>0.527190</td>\n",
       "    </tr>\n",
       "  </tbody>\n",
       "</table>\n",
       "</div>"
      ],
      "text/plain": [
       "   inflation    output\n",
       "0   0.074830  1.406367\n",
       "1  -0.350344  0.878997\n",
       "2  -0.304003  0.245455\n",
       "3  -0.412872 -0.643367\n",
       "4  -0.684640  0.527190"
      ]
     },
     "execution_count": 73,
     "metadata": {},
     "output_type": "execute_result"
    }
   ],
   "source": [
    "#create a dataframe in order to make lagged variables\n",
    "##defin dictionary of coloumn names\n",
    "d = {\"inflation\" : inflation, \"output\":output}\n",
    "#make data frame \n",
    "df = pd.DataFrame(data=d)\n",
    "df.head()"
   ]
  },
  {
   "cell_type": "code",
   "execution_count": 74,
   "metadata": {},
   "outputs": [
    {
     "data": {
      "text/html": [
       "<div>\n",
       "<style scoped>\n",
       "    .dataframe tbody tr th:only-of-type {\n",
       "        vertical-align: middle;\n",
       "    }\n",
       "\n",
       "    .dataframe tbody tr th {\n",
       "        vertical-align: top;\n",
       "    }\n",
       "\n",
       "    .dataframe thead th {\n",
       "        text-align: right;\n",
       "    }\n",
       "</style>\n",
       "<table border=\"1\" class=\"dataframe\">\n",
       "  <thead>\n",
       "    <tr style=\"text-align: right;\">\n",
       "      <th></th>\n",
       "      <th>inflation</th>\n",
       "      <th>output</th>\n",
       "      <th>l_inflation</th>\n",
       "      <th>l_output</th>\n",
       "    </tr>\n",
       "  </thead>\n",
       "  <tbody>\n",
       "    <tr>\n",
       "      <th>0</th>\n",
       "      <td>0.074830</td>\n",
       "      <td>1.406367</td>\n",
       "      <td>NaN</td>\n",
       "      <td>NaN</td>\n",
       "    </tr>\n",
       "    <tr>\n",
       "      <th>1</th>\n",
       "      <td>-0.350344</td>\n",
       "      <td>0.878997</td>\n",
       "      <td>0.074830</td>\n",
       "      <td>1.406367</td>\n",
       "    </tr>\n",
       "    <tr>\n",
       "      <th>2</th>\n",
       "      <td>-0.304003</td>\n",
       "      <td>0.245455</td>\n",
       "      <td>-0.350344</td>\n",
       "      <td>0.878997</td>\n",
       "    </tr>\n",
       "    <tr>\n",
       "      <th>3</th>\n",
       "      <td>-0.412872</td>\n",
       "      <td>-0.643367</td>\n",
       "      <td>-0.304003</td>\n",
       "      <td>0.245455</td>\n",
       "    </tr>\n",
       "    <tr>\n",
       "      <th>4</th>\n",
       "      <td>-0.684640</td>\n",
       "      <td>0.527190</td>\n",
       "      <td>-0.412872</td>\n",
       "      <td>-0.643367</td>\n",
       "    </tr>\n",
       "  </tbody>\n",
       "</table>\n",
       "</div>"
      ],
      "text/plain": [
       "   inflation    output  l_inflation  l_output\n",
       "0   0.074830  1.406367          NaN       NaN\n",
       "1  -0.350344  0.878997     0.074830  1.406367\n",
       "2  -0.304003  0.245455    -0.350344  0.878997\n",
       "3  -0.412872 -0.643367    -0.304003  0.245455\n",
       "4  -0.684640  0.527190    -0.412872 -0.643367"
      ]
     },
     "execution_count": 74,
     "metadata": {},
     "output_type": "execute_result"
    }
   ],
   "source": [
    "#Make lagged inflation\n",
    "df[\"l_inflation\"] = df[\"inflation\"].shift(1)\n",
    "#define an object for later\n",
    "l_inflation = df[\"l_inflation\"] \n",
    "\n",
    "#Make lagged output\n",
    "df[\"l_output\"] = df[\"output\"].shift(1)\n",
    "#define an object for later\n",
    "l_output = df[\"l_output\"]\n",
    "df.head()"
   ]
  },
  {
   "cell_type": "markdown",
   "metadata": {},
   "source": [
    "Now we can test for autocorrelation the inflation and the output :"
   ]
  },
  {
   "cell_type": "code",
   "execution_count": 75,
   "metadata": {},
   "outputs": [
    {
     "data": {
      "image/png": "[encoded data removed]",
      "text/latex": [
       "$$0.975812094981356$$"
      ],
      "text/plain": [
       "0.975812094981356"
      ]
     },
     "execution_count": 75,
     "metadata": {},
     "output_type": "execute_result"
    }
   ],
   "source": [
    "#Autocorrelation of the inflation\n",
    "np.corrcoef(inflation[1:999],l_inflation[1:999])[0,1]"
   ]
  },
  {
   "cell_type": "markdown",
   "metadata": {},
   "source": [
    "The autocorrelation is very high (closed to 1) which means that the inflation heavily depend on its own level in the past. This result seems to make sense, indeed in the inflation equation there is a variable for the past inflation. This impact is positive and can be known in some circumstances as \"self sustained inflation\"."
   ]
  },
  {
   "cell_type": "code",
   "execution_count": 76,
   "metadata": {},
   "outputs": [
    {
     "data": {
      "image/png": "[encoded data removed]",
      "text/latex": [
       "$$0.7713796242957426$$"
      ],
      "text/plain": [
       "0.7713796242957426"
      ]
     },
     "execution_count": 76,
     "metadata": {},
     "output_type": "execute_result"
    }
   ],
   "source": [
    "#Autocorrelation of the output\n",
    "np.corrcoef(output[1:999],l_output[1:999])[0,1]"
   ]
  },
  {
   "cell_type": "markdown",
   "metadata": {},
   "source": [
    "The output autocorrelation is high as well."
   ]
  },
  {
   "cell_type": "markdown",
   "metadata": {},
   "source": [
    "**Question 5**"
   ]
  },
  {
   "cell_type": "markdown",
   "metadata": {},
   "source": [
    "We want to plot the evolution of the correlation between inflation and output regarding the level of phi. To do that we will fist change our inflation function to include phi as a paramater that we are able to change."
   ]
  },
  {
   "cell_type": "code",
   "execution_count": 77,
   "metadata": {},
   "outputs": [],
   "source": [
    "#create a new inflation function, phi as a variable\n",
    "equil_piii= sm.lambdify((yt_m1, yt, pit_m1, st_m1, ct, omega, gamma, phi),eq_pi_ar)\n",
    "def equili_pi_phi (yt_m1, yt, pit_m1, st_m1, ct, phi, omega=pms['omega'], gamma=pms['gamma']):\n",
    "    return equil_piii (yt_m1, yt, pit_m1, st_m1, ct, omega, gamma, phi)"
   ]
  },
  {
   "cell_type": "markdown",
   "metadata": {},
   "source": [
    "Now we will create a function where we can set phi that will determine the correlation between the two variables. To find this correlation we will use a loop and the list of output and the list of inflation :"
   ]
  },
  {
   "cell_type": "code",
   "execution_count": 78,
   "metadata": {},
   "outputs": [],
   "source": [
    "#define correlation function\n",
    "def corr_func(phi,v_m=0, s_m=0):\n",
    "    \"\"\"This function takes 1 requires argument, that is phi. It return the correlation between inflation \n",
    "        and output for that phi level\"\"\"\n",
    "    \n",
    "    #Set seed\n",
    "    np.random.seed(1)\n",
    "    #define parameters\n",
    "    pi_m = 0\n",
    "    yn = 0\n",
    "    y_m = 0\n",
    "    \n",
    "    #Simulate random shocks\n",
    "    xt = np.random.normal(loc=0,scale=pms['sigma_x'],size=1000)\n",
    "    ct = np.random.normal(loc=0,scale=pms['sigma_c'],size=1000)\n",
    "\n",
    "    #Make list for output and inflation\n",
    "    list_output = list(range(1000))\n",
    "    list_inflation = list(range(1000))\n",
    "    \n",
    "    #Intiate for loop for 1000 periods\n",
    "    for i in range(1000):\n",
    "        #If it is the first period\n",
    "        if i == 0 :\n",
    "            #Calculate output\n",
    "            y = equili_output_ar(v_m,pi_m,s_m,y_m,ct[i],xt[i])\n",
    "            #record it\n",
    "            list_output[i] = y\n",
    "            #define output in this period\n",
    "            yn = y\n",
    "            \n",
    "            #Calculate inflation\n",
    "            p = equili_pi_phi(y_m,yn,pi_m,s_m,ct[i],phi)\n",
    "            #Record it\n",
    "            list_inflation[i] = p  \n",
    "            \n",
    "            #Define lagged inflation\n",
    "            pi_m = p\n",
    "            #Define lagged output\n",
    "            y_m = y\n",
    "            #define autoregressive parameters\n",
    "            v_m = pms[\"delta\"] * v_m + xt[i]\n",
    "            s_m = pms[\"omega\"] * s_m + ct [i] \n",
    "        #if it is not the first period\n",
    "        else :\n",
    "            #Calculate output\n",
    "            y = equili_output_ar(v_m,pi_m,s_m,y_m,ct[i],xt[i])\n",
    "            #record it\n",
    "            list_output[i] = y\n",
    "            #define output in this period\n",
    "            yn = y\n",
    "            \n",
    "            #Calculate inflation\n",
    "            p = equili_pi_phi(y_m,yn,pi_m,s_m,ct[i],phi)\n",
    "            #Record it\n",
    "            list_inflation[i] = p \n",
    "            \n",
    "            #Define lagged inflation\n",
    "            pi_m = p\n",
    "            #Define lagged output\n",
    "            y_m = y\n",
    "            #define autoregressive parameters\n",
    "            v_m = pms[\"delta\"] * v_m + xt[i]\n",
    "            s_m = pms[\"omega\"] * s_m + ct[i]\n",
    "            \n",
    "    #use numpy to calculate correlation\n",
    "    correlation = np.corrcoef(list_inflation,list_output)[0,1]\n",
    "\n",
    "    return correlation"
   ]
  },
  {
   "cell_type": "code",
   "execution_count": 79,
   "metadata": {},
   "outputs": [
    {
     "data": {
      "image/png": "[encoded data removed]",
      "text/latex": [
       "$$\\left [ -0.20791445913919612, \\quad -0.20771176199972838, \\quad -0.2075088784321004, \\quad -0.20730580808763086, \\quad -0.20710255061664648, \\quad -0.206899105668479, \\quad -0.20669547289146153, \\quad -0.20649165193292515, \\quad -0.20628764243919626\\right ]$$"
      ],
      "text/plain": [
       "[-0.20791445913919612, -0.20771176199972838, -0.2075088784321004, -0.207305808\n",
       "08763086, -0.20710255061664648, -0.206899105668479, -0.20669547289146153, -0.2\n",
       "0649165193292515, -0.20628764243919626]"
      ]
     },
     "execution_count": 79,
     "metadata": {},
     "output_type": "execute_result"
    }
   ],
   "source": [
    "#Define relevant levels of phi \n",
    "phi_vec = np.linspace(0,1,1000)\n",
    "\n",
    "#Make a list with space for corrlations\n",
    "corr_list = list(range(1000))\n",
    "#Initiate a for-loop\n",
    "for i in range(1000) : \n",
    "    #for each phi simulate the model with the same shock, an calculate the shocks \n",
    "    ## this is a nested for-loop and can take som time\n",
    "    corr = corr_func(phi = phi_vec[i])\n",
    "    \n",
    "    #recod the correlation\n",
    "    corr_list[i] = corr \n",
    "\n",
    "#print the correlation to illutstrate that it worked\n",
    "corr_list[0:9]\n",
    "    "
   ]
  },
  {
   "cell_type": "code",
   "execution_count": 80,
   "metadata": {},
   "outputs": [
    {
     "data": {
      "image/png": "[encoded data removed]",
      "text/plain": [
       "<Figure size 432x288 with 1 Axes>"
      ]
     },
     "metadata": {
      "needs_background": "light"
     },
     "output_type": "display_data"
    }
   ],
   "source": [
    "#Plot the correlation according Phi\n",
    "plt.plot(phi_vec,corr_list)\n",
    "plt.xlabel(\"Phi\")\n",
    "plt.ylabel(\"Correlation between output and inflation\")\n",
    "plt.show()"
   ]
  },
  {
   "cell_type": "markdown",
   "metadata": {},
   "source": [
    "As we can see with this graph, as phi is increasing, the correlation between output and inflation is also increasing. Below is a slider where the reade can try to se the correlation for themselves"
   ]
  },
  {
   "cell_type": "code",
   "execution_count": 82,
   "metadata": {},
   "outputs": [
    {
     "data": {
      "application/vnd.jupyter.widget-view+json": {
       "model_id": "7b5e7501a20f492e9b61215c7b6be54d",
       "version_major": 2,
       "version_minor": 0
      },
      "text/plain": [
       "interactive(children=(FloatSlider(value=0.0, description='phi', max=1.0, step=0.01), Output()), _dom_classes=(…"
      ]
     },
     "metadata": {},
     "output_type": "display_data"
    },
    {
     "data": {
      "text/plain": [
       "<function __main__.corr_func(phi, v_m=0, s_m=0)>"
      ]
     },
     "execution_count": 82,
     "metadata": {},
     "output_type": "execute_result"
    }
   ],
   "source": [
    "#Define a slider\n",
    "phi_slider = widgets.FloatSlider(min=0,max=1,step = 0.01)\n",
    "#call interact on the correlation function\n",
    "widgets.interact(corr_func,phi=phi_slider,v_m = widgets.fixed(0),s_m = widgets.fixed(0))"
   ]
  },
  {
   "cell_type": "markdown",
   "metadata": {},
   "source": [
    "**Question 5**\n"
   ]
  },
  {
   "cell_type": "markdown",
   "metadata": {},
   "source": [
    "We wish to optimize the correlation towards 0.31. Therefore we use a numerical optimizer and resticts it to only go towards 0.31. We have written out own brute force optimizer, that we use. This means that our optimiation can take up to 10-15 seconds on a resonable pc. "
   ]
  },
  {
   "cell_type": "code",
   "execution_count": 83,
   "metadata": {},
   "outputs": [],
   "source": [
    "#Define the autoregresive parameters for the first period \n",
    "v_m = 0 \n",
    "s_m = 0\n",
    "#Define the objectitve, which is the correlation\n",
    "def objective(phi):\n",
    "    return float(corr_func(phi, v_m, s_m))\n",
    "#Define the constraints, which is 0.31 - the correlation \n",
    "def constraint(phi):\n",
    "    return float((0.31 - corr_func(phi, v_m, s_m)))\n",
    "#We have used float because we had some unknown issue that it resolved. "
   ]
  },
  {
   "cell_type": "code",
   "execution_count": 84,
   "metadata": {},
   "outputs": [
    {
     "name": "stdout",
     "output_type": "stream",
     "text": [
      "Optimization sucessful\n",
      "Phi level = 0.9879879879879879 and correlation optimized to 0.3098953977987362\n"
     ]
    }
   ],
   "source": [
    "#define the phi vector space\n",
    "phi_vec = np.linspace(0.0,1,1000)\n",
    "\n",
    "#Intiate a for loop - this \n",
    "for phi in phi_vec: \n",
    "    # x in the objective function given the phi level\n",
    "    x = objective(phi)\n",
    "    # y is the constraint function given the phi level\n",
    "    y = constraint(phi)\n",
    "    \n",
    "    #Check if the the constrain is sufficiantly equal to 0 (3 decimals)\n",
    "    if round(y,3) == 0:\n",
    "        #If it is break the loop and print the phi and correlation values\n",
    "        print(\"Optimization sucessful\")\n",
    "        print(\"Phi level =\",phi,\"and correlation optimized to\",x)\n",
    "        break \n",
    "    "
   ]
  },
  {
   "cell_type": "markdown",
   "metadata": {},
   "source": [
    "## 3. Exchange economy"
   ]
  },
  {
   "cell_type": "markdown",
   "metadata": {},
   "source": [
    "We define parameters:"
   ]
  },
  {
   "cell_type": "code",
   "execution_count": 87,
   "metadata": {},
   "outputs": [],
   "source": [
    "#parameters:\n",
    "N = 100\n",
    "mu = np.array([3,2,1]) \n",
    "Sigma = np.array([[0.25, 0, 0], [0, 0.25, 0], [0, 0, 0.25]]) \n",
    "gamma = 0.8 \n",
    "zeta = 1\n",
    "\n",
    "#seed\n",
    "seed = 1986 \n",
    "np.random.seed(seed)\n",
    "\n",
    "#preferances\n",
    "alphas = np.exp(np.random.multivariate_normal(mu, Sigma, size=N)) \n",
    "betas = alphas/np.reshape(np.sum(alphas,axis=1),(N,1))\n",
    "\n",
    "beta1= betas[:,0]\n",
    "beta2= betas[:,1]\n",
    "beta3=betas[:,2]\n",
    "\n",
    "alpha1= alphas[:,0]\n",
    "alpha2= alphas[:,1]\n",
    "alpha2= alphas[:,2]\n",
    "\n",
    "#endowments\n",
    "e1 = np.random.exponential(zeta,size=N) \n",
    "e2 = np.random.exponential(zeta,size=N) \n",
    "e3 = np.random.exponential(zeta,size=N) "
   ]
  },
  {
   "cell_type": "markdown",
   "metadata": {},
   "source": [
    "#### Exercise 3.1"
   ]
  },
  {
   "cell_type": "markdown",
   "metadata": {},
   "source": [
    "We make a histogram and plot the betas:"
   ]
  },
  {
   "cell_type": "code",
   "execution_count": 88,
   "metadata": {},
   "outputs": [
    {
     "data": {
      "text/plain": [
       "<function matplotlib.pyplot.show(*args, **kw)>"
      ]
     },
     "execution_count": 88,
     "metadata": {},
     "output_type": "execute_result"
    },
    {
     "data": {
      "image/png": "[encoded data removed]",
      "text/plain": [
       "<Figure size 432x288 with 1 Axes>"
      ]
     },
     "metadata": {
      "needs_background": "light"
     },
     "output_type": "display_data"
    }
   ],
   "source": [
    "#plot an histogram\n",
    "plt.hist(betas, bins = 60, label= (\"Good1\", 'Good2', 'Good3'))\n",
    "plt.legend()\n",
    "plt.xlabel('Budget share')\n",
    "plt.ylabel('Number of consumers')\n",
    "plt.show"
   ]
  },
  {
   "cell_type": "markdown",
   "metadata": {},
   "source": [
    "#### Exercise 3.2"
   ]
  },
  {
   "cell_type": "markdown",
   "metadata": {},
   "source": [
    "We define the demand and excess demand functions for each of the three goods. We have also converted the excess demand functions into one value by summing them up, to use later to find the equilibrium."
   ]
  },
  {
   "cell_type": "code",
   "execution_count": 89,
   "metadata": {},
   "outputs": [],
   "source": [
    "# Demand functions:\n",
    "# We can eliminate p3 from the demand function, as it is equal to 1 (with p3*e3=e3)\n",
    "\n",
    "def demand_good1 (beta1, p1, e1, p2, e2, e3):\n",
    "    I= p1*e1 + p2*e2 + e3\n",
    "    return beta1*(I/p1)\n",
    "\n",
    "def demand_good2 (beta2, p1, e1, p2, e2, e3):\n",
    "    I= p1*e1 + p2*e2 + e3\n",
    "    return beta2*(I/p2)\n",
    "\n",
    "def demand_good3 (beta3, p1, e1, p2, e2, e3):\n",
    "    I= p1*e1 + p2*e2 + e3\n",
    "    return beta2*(I)"
   ]
  },
  {
   "cell_type": "code",
   "execution_count": 90,
   "metadata": {},
   "outputs": [],
   "source": [
    "# Excess demand functions:\n",
    "\n",
    "def excess_demand_good1(beta1, p1, e1, p2, e2, e3):\n",
    "  \n",
    "    #demand\n",
    "    demand = demand_good1(beta1, p1, e1, p2, e2, e3)\n",
    "   \n",
    "    #supply\n",
    "    supply= e1\n",
    "  \n",
    "    #excess demand\n",
    "    excess_demand= demand-supply\n",
    "    \n",
    "    return excess_demand"
   ]
  },
  {
   "cell_type": "code",
   "execution_count": 91,
   "metadata": {},
   "outputs": [],
   "source": [
    "def excess_demand_good2(beta2, p1, e1, p2, e2, e3):\n",
    "    \n",
    "    #demand\n",
    "    demand= demand_good2(beta2, p1, e1, p2, e2, e3)\n",
    "  \n",
    "    #supply\n",
    "    supply= e2\n",
    "    \n",
    "    #excess demand\n",
    "    excess_demand= demand- supply\n",
    "    \n",
    "    return excess_demand"
   ]
  },
  {
   "cell_type": "code",
   "execution_count": 92,
   "metadata": {},
   "outputs": [],
   "source": [
    "def excess_demand_good1_value(beta1, p1, e1, p2, e2, e3):\n",
    "  \n",
    "    excess_demand_good1_value = np.sum(excess_demand_good1(beta1, p1, e1, p2, e2, e3))\n",
    "    \n",
    "    return excess_demand_good1_value"
   ]
  },
  {
   "cell_type": "code",
   "execution_count": 93,
   "metadata": {},
   "outputs": [],
   "source": [
    "def excess_demand_good2_value(beta2, p1, e1, p2, e2, e3):\n",
    "    \n",
    "    #demand\n",
    "    excess_demand_value2= np.sum(excess_demand_good2(beta2, p1, e1, p2, e2, e3))\n",
    "    \n",
    "    return excess_demand_value2"
   ]
  },
  {
   "cell_type": "markdown",
   "metadata": {},
   "source": [
    "We make two 3D plots for the excess demands of goods 1 and 2."
   ]
  },
  {
   "cell_type": "code",
   "execution_count": 94,
   "metadata": {},
   "outputs": [
    {
     "data": {
      "image/png": "[encoded data removed]",
      "text/plain": [
       "<Figure size 432x288 with 2 Axes>"
      ]
     },
     "metadata": {
      "needs_background": "light"
     },
     "output_type": "display_data"
    }
   ],
   "source": [
    "# We make a 3D plot of excess demand for good 1:\n",
    "# a. prices \n",
    "p1_vec = np.linspace(0.1,10,100)\n",
    "p2_vec = np.linspace(0.1,10,100)\n",
    "                     \n",
    "# b. plot\n",
    "p1_grid,p2_grid = np.meshgrid(p1_vec,p2_vec,indexing='ij')\n",
    "excess_demand_good1_grid = excess_demand_good1(beta1,p1_grid,e1,p2_grid,e2,e3)\n",
    "\n",
    "fig = plt.figure()\n",
    "ax = fig.add_subplot(1,1,1,projection='3d')\n",
    "cs = ax.plot_surface(p1_grid,p2_grid,excess_demand_good1_grid,cmap=cm.jet)\n",
    "\n",
    "# c. add labels\n",
    "ax.set_xlabel('$p_1$')\n",
    "ax.set_ylabel('$p_2$')\n",
    "ax.set_zlabel('Excess demand good2')\n",
    "\n",
    "# d. invert xaxis\n",
    "ax.invert_xaxis()\n",
    "\n",
    "# e. remove background\n",
    "ax.xaxis.pane.fill = False\n",
    "ax.yaxis.pane.fill = False\n",
    "ax.zaxis.pane.fill = False\n",
    "\n",
    "# f. add colorbar\n",
    "fig.colorbar(cs);\n",
    "plt.show()"
   ]
  },
  {
   "cell_type": "code",
   "execution_count": 95,
   "metadata": {},
   "outputs": [
    {
     "data": {
      "image/png": "[encoded data removed]",
      "text/plain": [
       "<Figure size 432x288 with 2 Axes>"
      ]
     },
     "metadata": {
      "needs_background": "light"
     },
     "output_type": "display_data"
    }
   ],
   "source": [
    "# We make a 3d plot of excess demand for good 2:\n",
    "\n",
    "# a. plot\n",
    "p1_grid,p2_grid = np.meshgrid(p1_vec,p2_vec,indexing='ij')\n",
    "excess_demand_good2_grid = excess_demand_good2(beta2,p1_grid,e1,p2_grid,e2,e3)\n",
    "\n",
    "fig = plt.figure()\n",
    "ax = fig.add_subplot(1,1,1,projection='3d')\n",
    "cs = ax.plot_surface(p1_grid,p2_grid,excess_demand_good1_grid,cmap=cm.jet)\n",
    "\n",
    "# b. add labels\n",
    "ax.set_xlabel('$p_1$')\n",
    "ax.set_ylabel('$p_2$')\n",
    "ax.set_zlabel('Excess demand Good2')\n",
    "\n",
    "# c. invert xaxis\n",
    "ax.invert_xaxis()\n",
    "\n",
    "# d. remove background\n",
    "ax.xaxis.pane.fill = False\n",
    "ax.yaxis.pane.fill = False\n",
    "ax.zaxis.pane.fill = False\n",
    "\n",
    "# e. add colorbar\n",
    "fig.colorbar(cs);\n",
    "plt.show()"
   ]
  },
  {
   "cell_type": "markdown",
   "metadata": {},
   "source": [
    "#### Excercise 3.3"
   ]
  },
  {
   "cell_type": "markdown",
   "metadata": {},
   "source": [
    "Just like in the lecture, we use a while loop to determine the equilibrium prices, for which excess demands are both zero. We set out guesses for the prices to one."
   ]
  },
  {
   "cell_type": "code",
   "execution_count": 96,
   "metadata": {},
   "outputs": [],
   "source": [
    "def find_equilibrium(betas, p1, e1, p2, e2, e3, kappa=0.5,eps=1e-8,maxiter=10000):\n",
    "    \n",
    "    t = 0\n",
    "    while True:\n",
    "\n",
    "        # a. step 1: excess demand\n",
    "        Z1 = excess_demand_good1_value(beta1, p1, e1, p2, e2, e3)\n",
    "        Z2 = excess_demand_good2_value(beta2, p1, e1, p2, e2, e3)\n",
    "        \n",
    "        # b: step 2: stop?\n",
    "        if np.abs(Z1) < eps and np.abs(Z2) < eps or t >= maxiter:\n",
    "            print(f'{t}: p1= {p1} -> excess demand Z1= {Z1}')\n",
    "            print(f'{t}: p2= {p2} -> excess demand Z2= {Z2}')\n",
    "            break \n",
    "\n",
    "        # c. step 3: update p1\n",
    "        p1 = p1 + kappa*Z1/N\n",
    "        p2 = p2 + kappa*Z2/N\n",
    "        \n",
    "            \n",
    "        t += 1   \n",
    "\n",
    "    return p1, p2"
   ]
  },
  {
   "cell_type": "code",
   "execution_count": 97,
   "metadata": {},
   "outputs": [
    {
     "name": "stdout",
     "output_type": "stream",
     "text": [
      "1844: p1= 6.149742400548352 -> excess demand Z1= 9.996033889514422e-09\n",
      "1844: p2= 2.685539126759021 -> excess demand Z2= 4.059743818896067e-09\n"
     ]
    }
   ],
   "source": [
    "p1,p2= find_equilibrium(betas, 1, e1, 1, e2, e3)"
   ]
  },
  {
   "cell_type": "markdown",
   "metadata": {},
   "source": [
    "After 1844 iterations, we find the equilibrium prices of around 6.15 for p1 and 2.67 for p2. P3 is normalized to 1. "
   ]
  },
  {
   "cell_type": "markdown",
   "metadata": {},
   "source": [
    "We check to make sure that demand is really smaller than epsilon."
   ]
  },
  {
   "cell_type": "code",
   "execution_count": 98,
   "metadata": {},
   "outputs": [
    {
     "name": "stdout",
     "output_type": "stream",
     "text": [
      "9.996033889514422e-09 4.059743818896067e-09\n"
     ]
    }
   ],
   "source": [
    "eps=1e-8\n",
    "Z1 = excess_demand_good1_value(beta1, p1, e1, p2, e2, e3)\n",
    "Z2 = excess_demand_good2_value(beta2, p1, e1, p2, e2, e3)\n",
    "print(Z1,Z2)\n",
    "assert(np.abs(Z1) < eps)\n",
    "assert(np.abs(Z2) < eps)"
   ]
  },
  {
   "cell_type": "markdown",
   "metadata": {},
   "source": [
    "#### Excercise 3.4"
   ]
  },
  {
   "cell_type": "markdown",
   "metadata": {},
   "source": [
    "We define the utility function, insert the above calculated equilibrium prices in the function and plot it as a histogram. "
   ]
  },
  {
   "cell_type": "code",
   "execution_count": 99,
   "metadata": {},
   "outputs": [],
   "source": [
    "# Defining the utility function\n",
    "def utility(betas, p1, e1, p2, e2, e3, gamma):\n",
    "    x1= demand_good1(betas[:,0], p1, e1, p2, e2, e3)\n",
    "    x2= demand_good2(betas[:,1], p1, e1, p2, e2, e3)\n",
    "    x3= demand_good3(betas[:,2], p1, e1, p2, e2, e3)\n",
    "    \n",
    "    utility= (x1**beta1+x2**beta2+x3**beta3)**gamma \n",
    "\n",
    "    return utility"
   ]
  },
  {
   "cell_type": "code",
   "execution_count": 100,
   "metadata": {},
   "outputs": [],
   "source": [
    "# Inserting equilibrium prices\n",
    "utility_dist = utility(betas, 6.149742400548352, e1, 2.685539126759021, e2, e3, gamma)"
   ]
  },
  {
   "cell_type": "code",
   "execution_count": 101,
   "metadata": {},
   "outputs": [
    {
     "data": {
      "text/plain": [
       "<function matplotlib.pyplot.show(*args, **kw)>"
      ]
     },
     "execution_count": 101,
     "metadata": {},
     "output_type": "execute_result"
    },
    {
     "data": {
      "image/png": "[encoded data removed]",
      "text/plain": [
       "<Figure size 432x288 with 1 Axes>"
      ]
     },
     "metadata": {
      "needs_background": "light"
     },
     "output_type": "display_data"
    }
   ],
   "source": [
    "# Making a histogram\n",
    "plt.hist(utility_dist, bins= 20)\n",
    "plt.xlabel('Utility')\n",
    "plt.ylabel('Number of consumers')\n",
    "plt.show"
   ]
  },
  {
   "cell_type": "markdown",
   "metadata": {},
   "source": [
    "Lastly, we calculate mean and variance."
   ]
  },
  {
   "cell_type": "code",
   "execution_count": 102,
   "metadata": {},
   "outputs": [
    {
     "data": {
      "image/png": "[encoded data removed]",
      "text/latex": [
       "$$2.495693619028153$$"
      ],
      "text/plain": [
       "2.495693619028153"
      ]
     },
     "execution_count": 102,
     "metadata": {},
     "output_type": "execute_result"
    }
   ],
   "source": [
    "np.mean(utility_dist)"
   ]
  },
  {
   "cell_type": "code",
   "execution_count": 103,
   "metadata": {},
   "outputs": [
    {
     "data": {
      "image/png": "[encoded data removed]",
      "text/latex": [
       "$$0.21861195394269586$$"
      ],
      "text/plain": [
       "0.21861195394269586"
      ]
     },
     "execution_count": 103,
     "metadata": {},
     "output_type": "execute_result"
    }
   ],
   "source": [
    "np.var(utility_dist)"
   ]
  },
  {
   "cell_type": "code",
   "execution_count": null,
   "metadata": {},
   "outputs": [],
   "source": []
  }
 ],
 "metadata": {
  "kernelspec": {
   "display_name": "Python 3",
   "language": "python",
   "name": "python3"
  },
  "language_info": {
   "codemirror_mode": {
    "name": "ipython",
    "version": 3
   },
   "file_extension": ".py",
   "mimetype": "text/x-python",
   "name": "python",
   "nbconvert_exporter": "python",
   "pygments_lexer": "ipython3",
   "version": "3.7.1"
  }
 },
 "nbformat": 4,
 "nbformat_minor": 2
}
