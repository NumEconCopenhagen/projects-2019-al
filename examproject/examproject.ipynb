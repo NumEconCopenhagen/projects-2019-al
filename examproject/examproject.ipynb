{
 "cells": [
  {
   "cell_type": "markdown",
   "metadata": {},
   "source": [
    "# 1. Human Capital Accumulation :"
   ]
  },
  {
   "cell_type": "code",
   "execution_count": 200,
   "metadata": {},
   "outputs": [],
   "source": [
    "#import package\n",
    "import random \n",
    "import sympy as sm\n",
    "import numpy as np\n",
    "import matplotlib.pyplot as plt\n",
    "import ipywidgets as widgets\n",
    "from scipy import optimize\n",
    "\n",
    "#setting nice printing and seed\n",
    "sm.init_printing(use_unicode=True)\n",
    "random.seed(12848174)"
   ]
  },
  {
   "cell_type": "code",
   "execution_count": 201,
   "metadata": {},
   "outputs": [],
   "source": [
    "#Initialize symbols\n",
    "rho = sm.symbols('rho')\n",
    "beta = sm.symbols('beta')\n",
    "gamma = sm.symbols('gamma')\n",
    "w = sm.symbols('w')\n",
    "b = sm.symbols('b')\n",
    "delta = sm.symbols('Delta')\n",
    "h1 = sm.symbols('h_1')\n",
    "h2 = sm.symbols('h_2')\n",
    "c1 = sm.symbols('c1')\n",
    "c2 = sm.symbols('c2')\n",
    "l1 = sm.symbols('l1')\n",
    "l2 = sm.symbols('l2')\n",
    "exp = sm.symbols('E[v_2(h_2)]')\n",
    "u = sm.symbols(\"u\")"
   ]
  },
  {
   "cell_type": "markdown",
   "metadata": {},
   "source": [
    "**Question 1**"
   ]
  },
  {
   "cell_type": "markdown",
   "metadata": {},
   "source": [
    "To solve the model for period 2, firstly we have to define the human capital, budget constraint and utility function :"
   ]
  },
  {
   "cell_type": "code",
   "execution_count": 202,
   "metadata": {},
   "outputs": [
    {
     "data": {
      "image/png": "[encoded data removed]",
      "text/latex": [
       "$$\\frac{c_{2}^{- \\rho + 1}}{- \\rho + 1} - \\gamma l_{2}$$"
      ],
      "text/plain": [
       "  -ρ + 1       \n",
       "c₂             \n",
       "──────── - γ⋅l₂\n",
       " -ρ + 1        "
      ]
     },
     "execution_count": 202,
     "metadata": {},
     "output_type": "execute_result"
    }
   ],
   "source": [
    "#define the human capital and budget constraint equation\n",
    "h2_f = (h1 + l1)\n",
    "c2_f = w*h2*l2\n",
    "\n",
    "#define the utility\n",
    "u2 = (c2**(1-rho))/(1-rho)\n",
    "\n",
    "#define the desutility\n",
    "dis_u2 = gamma*l2\n",
    "\n",
    "#defin the total utility\n",
    "total_u2 = u2 - dis_u2\n",
    "total_u2"
   ]
  },
  {
   "cell_type": "markdown",
   "metadata": {},
   "source": [
    "The insert the budget constraint in the utility function"
   ]
  },
  {
   "cell_type": "code",
   "execution_count": 203,
   "metadata": {},
   "outputs": [
    {
     "data": {
      "image/png": "[encoded data removed]",
      "text/latex": [
       "$$- \\gamma l_{2} + \\frac{\\left(h_{2} l_{2} w\\right)^{- \\rho + 1}}{- \\rho + 1}$$"
      ],
      "text/plain": [
       "                 -ρ + 1\n",
       "        (h₂⋅l₂⋅w)      \n",
       "-γ⋅l₂ + ───────────────\n",
       "             -ρ + 1    "
      ]
     },
     "execution_count": 203,
     "metadata": {},
     "output_type": "execute_result"
    }
   ],
   "source": [
    "#substitute c2 by the budget constraint\n",
    "total_u2_sub2 = total_u2.subs(c2,c2_f)\n",
    "\n",
    "#foc2 = sm.diff(total_u2_sub2,l2)\n",
    "#foc2\n",
    "total_u2_sub2"
   ]
  },
  {
   "cell_type": "code",
   "execution_count": 204,
   "metadata": {},
   "outputs": [
    {
     "data": {
      "image/png": "[encoded data removed]",
      "text/latex": [
       "$$\\frac{\\left(- \\gamma l_{2} \\rho + \\gamma l_{2} - \\rho u + u\\right)^{- \\frac{1}{\\rho - 1}}}{l_{2} w}$$"
      ],
      "text/plain": [
       "                           -1  \n",
       "                          ─────\n",
       "                          ρ - 1\n",
       "(-γ⋅l₂⋅ρ + γ⋅l₂ - ρ⋅u + u)     \n",
       "───────────────────────────────\n",
       "              l₂⋅w             "
      ]
     },
     "execution_count": 204,
     "metadata": {},
     "output_type": "execute_result"
    }
   ],
   "source": [
    "#\n",
    "h2_sol = sm.solve(sm.Eq(total_u2_sub2,u),h2)[0]\n",
    "h2_sol"
   ]
  },
  {
   "cell_type": "markdown",
   "metadata": {},
   "source": [
    "Now we create three functions from these equations which will return the utility of work, of leisure (not work) and the human capital utility."
   ]
  },
  {
   "cell_type": "code",
   "execution_count": 205,
   "metadata": {},
   "outputs": [],
   "source": [
    "#define the utility of working function\n",
    "def utility_work(h2,l2,w,rho,gamma, b):\n",
    "    \"\"\"\n",
    "    This function take five arguments, the human capital, wether the agent works or not, and three parameters. It returns\n",
    "    \n",
    "        args :  h2 (float) : accumulate capital in period 2\n",
    "                l2 (float) : 0 or 1 wether the agent works or not\n",
    "                w (float) : wage rate\n",
    "                rho (float) : \n",
    "                gamma (float) : parameter from the desutility from working\n",
    "                b (float) : benefits\n",
    "        \n",
    "        return (float) : The utility level get with these parameters    \n",
    "    \"\"\"\n",
    "    solution = (((h2*l2*w)**(1-rho))/(1-rho))-gamma*l2\n",
    "    return solution\n",
    "\n",
    "#define the utility of not working function\n",
    "def utility_notwork(benefits,rho,gamma,l2):\n",
    "    b = ((benefits**(1-rho))/(1-rho))-gamma*l2\n",
    "    return b\n",
    "\n",
    "def hum_cap_u(l2,gamma,b,w,rho):\n",
    "    # i use h2_sol but replace u with the \"cutoff\"-value, that is the value of unemployment benefits\n",
    "    nw_u = utility_notwork(b,rho,gamma,0)\n",
    "    hum_cap = ((-gamma*l2*rho+gamma*l2-rho*nw_u+nw_u)**-(1/(rho-1)))/(l2*w)   \n",
    "    return hum_cap"
   ]
  },
  {
   "cell_type": "code",
   "execution_count": 206,
   "metadata": {},
   "outputs": [],
   "source": [
    "rho = 2\n",
    "beta = 0.96\n",
    "gamma = 0.1\n",
    "w = 2\n",
    "b = 1\n",
    "delta = 0.1"
   ]
  },
  {
   "cell_type": "code",
   "execution_count": 207,
   "metadata": {},
   "outputs": [
    {
     "data": {
      "image/png": "[encoded data removed]",
      "text/latex": [
       "$$0.5555555555555556$$"
      ],
      "text/plain": [
       "0.5555555555555556"
      ]
     },
     "execution_count": 207,
     "metadata": {},
     "output_type": "execute_result"
    }
   ],
   "source": [
    "#I calculatet the humam capital given b\n",
    "hum_cap_u(1,gamma,b,w,rho)"
   ]
  },
  {
   "cell_type": "code",
   "execution_count": 208,
   "metadata": {},
   "outputs": [],
   "source": [
    "def plot_func(h2,w,rho,gamma,b):\n",
    "    \n",
    "    work = utility_work(h2,1,w,rho,gamma)\n",
    "    not_work = utility_notwork(b,rho,gamma,0)\n",
    "    cutoff = hum_cap_u(1,gamma,b,w,rho)\n",
    "    \n",
    "    plt.plot(h2,work,label = \"Utility of working\")\n",
    "    plt.plot(h2,not_work,color=\"red\",label=\"Utility of not working\")\n",
    "    plt.legend()\n",
    "    \n",
    "    plt.xlabel(\"Human capital\")\n",
    "    plt.ylabel(\"Utility\")\n",
    "\n",
    "    plt.show\n",
    "    \n",
    "    print(\"The worker will supply labour only if human capital is above\",round(cutoff[0],2),\".\")\n",
    "    return "
   ]
  },
  {
   "cell_type": "code",
   "execution_count": 209,
   "metadata": {},
   "outputs": [
    {
     "ename": "TypeError",
     "evalue": "utility_work() missing 1 required positional argument: 'b'",
     "output_type": "error",
     "traceback": [
      "\u001b[1;31m---------------------------------------------------------------------------\u001b[0m",
      "\u001b[1;31mTypeError\u001b[0m                                 Traceback (most recent call last)",
      "\u001b[1;32m<ipython-input-209-455eaf976a06>\u001b[0m in \u001b[0;36m<module>\u001b[1;34m\u001b[0m\n\u001b[0;32m      1\u001b[0m \u001b[0mh_vec\u001b[0m \u001b[1;33m=\u001b[0m \u001b[0mnp\u001b[0m\u001b[1;33m.\u001b[0m\u001b[0mlinspace\u001b[0m\u001b[1;33m(\u001b[0m\u001b[1;36m0.1\u001b[0m\u001b[1;33m,\u001b[0m\u001b[1;36m1.5\u001b[0m\u001b[1;33m,\u001b[0m\u001b[1;36m100\u001b[0m\u001b[1;33m)\u001b[0m\u001b[1;33m\u001b[0m\u001b[1;33m\u001b[0m\u001b[0m\n\u001b[0;32m      2\u001b[0m \u001b[0mb_vec\u001b[0m \u001b[1;33m=\u001b[0m \u001b[0mnp\u001b[0m\u001b[1;33m.\u001b[0m\u001b[0mlinspace\u001b[0m\u001b[1;33m(\u001b[0m\u001b[1;36m1\u001b[0m\u001b[1;33m,\u001b[0m\u001b[1;36m1\u001b[0m\u001b[1;33m,\u001b[0m\u001b[1;36m100\u001b[0m\u001b[1;33m)\u001b[0m\u001b[1;33m\u001b[0m\u001b[1;33m\u001b[0m\u001b[0m\n\u001b[1;32m----> 3\u001b[1;33m \u001b[0mplot_func\u001b[0m\u001b[1;33m(\u001b[0m\u001b[0mh_vec\u001b[0m\u001b[1;33m,\u001b[0m\u001b[0mw\u001b[0m\u001b[1;33m,\u001b[0m\u001b[0mrho\u001b[0m\u001b[1;33m,\u001b[0m\u001b[0mgamma\u001b[0m\u001b[1;33m,\u001b[0m\u001b[0mb_vec\u001b[0m\u001b[1;33m)\u001b[0m\u001b[1;33m\u001b[0m\u001b[1;33m\u001b[0m\u001b[0m\n\u001b[0m",
      "\u001b[1;32m<ipython-input-208-e6707fe0d83b>\u001b[0m in \u001b[0;36mplot_func\u001b[1;34m(h2, w, rho, gamma, b)\u001b[0m\n\u001b[0;32m      1\u001b[0m \u001b[1;32mdef\u001b[0m \u001b[0mplot_func\u001b[0m\u001b[1;33m(\u001b[0m\u001b[0mh2\u001b[0m\u001b[1;33m,\u001b[0m\u001b[0mw\u001b[0m\u001b[1;33m,\u001b[0m\u001b[0mrho\u001b[0m\u001b[1;33m,\u001b[0m\u001b[0mgamma\u001b[0m\u001b[1;33m,\u001b[0m\u001b[0mb\u001b[0m\u001b[1;33m)\u001b[0m\u001b[1;33m:\u001b[0m\u001b[1;33m\u001b[0m\u001b[1;33m\u001b[0m\u001b[0m\n\u001b[0;32m      2\u001b[0m \u001b[1;33m\u001b[0m\u001b[0m\n\u001b[1;32m----> 3\u001b[1;33m     \u001b[0mwork\u001b[0m \u001b[1;33m=\u001b[0m \u001b[0mutility_work\u001b[0m\u001b[1;33m(\u001b[0m\u001b[0mh2\u001b[0m\u001b[1;33m,\u001b[0m\u001b[1;36m1\u001b[0m\u001b[1;33m,\u001b[0m\u001b[0mw\u001b[0m\u001b[1;33m,\u001b[0m\u001b[0mrho\u001b[0m\u001b[1;33m,\u001b[0m\u001b[0mgamma\u001b[0m\u001b[1;33m)\u001b[0m\u001b[1;33m\u001b[0m\u001b[1;33m\u001b[0m\u001b[0m\n\u001b[0m\u001b[0;32m      4\u001b[0m     \u001b[0mnot_work\u001b[0m \u001b[1;33m=\u001b[0m \u001b[0mutility_notwork\u001b[0m\u001b[1;33m(\u001b[0m\u001b[0mb\u001b[0m\u001b[1;33m,\u001b[0m\u001b[0mrho\u001b[0m\u001b[1;33m,\u001b[0m\u001b[0mgamma\u001b[0m\u001b[1;33m,\u001b[0m\u001b[1;36m0\u001b[0m\u001b[1;33m)\u001b[0m\u001b[1;33m\u001b[0m\u001b[1;33m\u001b[0m\u001b[0m\n\u001b[0;32m      5\u001b[0m     \u001b[0mcutoff\u001b[0m \u001b[1;33m=\u001b[0m \u001b[0mhum_cap_u\u001b[0m\u001b[1;33m(\u001b[0m\u001b[1;36m1\u001b[0m\u001b[1;33m,\u001b[0m\u001b[0mgamma\u001b[0m\u001b[1;33m,\u001b[0m\u001b[0mb\u001b[0m\u001b[1;33m,\u001b[0m\u001b[0mw\u001b[0m\u001b[1;33m,\u001b[0m\u001b[0mrho\u001b[0m\u001b[1;33m)\u001b[0m\u001b[1;33m\u001b[0m\u001b[1;33m\u001b[0m\u001b[0m\n",
      "\u001b[1;31mTypeError\u001b[0m: utility_work() missing 1 required positional argument: 'b'"
     ]
    }
   ],
   "source": [
    "h_vec = np.linspace(0.1,1.5,100) \n",
    "b_vec = np.linspace(1,1,100)\n",
    "plot_func(h_vec,w,rho,gamma,b_vec)"
   ]
  },
  {
   "cell_type": "code",
   "execution_count": 210,
   "metadata": {},
   "outputs": [
    {
     "name": "stdout",
     "output_type": "stream",
     "text": [
      "0.56 human capital\n"
     ]
    }
   ],
   "source": [
    "#Another way of showing this is using a binary plot. This requires us to define \n",
    "#each level om human capital as either a capital where the worker provies labour\n",
    "# or a level where she does not - the cutoff is as shown before\n",
    "cutoff = hum_cap_u(1,gamma,b,w,rho)\n",
    "print(round(cutoff,2),\"human capital\")"
   ]
  },
  {
   "cell_type": "code",
   "execution_count": 211,
   "metadata": {},
   "outputs": [],
   "source": [
    "#We define a list\n",
    "willwork = list(range(100))\n",
    "\n",
    "#And fill it with either success (1) if the human capital i above the cutoff or\n",
    "#or falier (0) if it is on the cutoff or below \n",
    "for i in range(len(h_vec)): \n",
    "    if h_vec[i] > cutoff : \n",
    "        willwork[i] = 1\n",
    "    else : \n",
    "        willwork[i] = 0"
   ]
  },
  {
   "cell_type": "code",
   "execution_count": 212,
   "metadata": {},
   "outputs": [
    {
     "data": {
      "text/plain": [
       "<function matplotlib.pyplot.show(*args, **kw)>"
      ]
     },
     "execution_count": 212,
     "metadata": {},
     "output_type": "execute_result"
    },
    {
     "data": {
      "image/png": "[encoded data removed]",
      "text/plain": [
       "<Figure size 432x288 with 1 Axes>"
      ]
     },
     "metadata": {
      "needs_background": "light"
     },
     "output_type": "display_data"
    }
   ],
   "source": [
    "#plot the cutoff\n",
    "cutoff_vec = np.linspace(cutoff,cutoff,100)\n",
    "plt.plot(h_vec,willwork)\n",
    "plt.plot(cutoff_vec,willwork,linestyle=\"dashed\",color=\"red\",label=(\"Cutoff human capital level\"))\n",
    "plt.legend()\n",
    "plt.xlabel(\"Human capital\")\n",
    "plt.ylabel(\"Labour supply\")\n",
    "\n",
    "plt.show"
   ]
  },
  {
   "cell_type": "code",
   "execution_count": 213,
   "metadata": {},
   "outputs": [],
   "source": [
    "#the labour supply as a function of human captal is then:\n",
    "def labour_supply(hum_cap,w,rho,gamma,b):\n",
    "    cutoff = hum_cap_u(1,gamma,b,w,rho)\n",
    "    \n",
    "    if hum_cap > cutoff :\n",
    "        print(\"with a human capital level of\",hum_cap,\"the worker wil supply 1 labour (l = 1)\")\n",
    "        l = 1\n",
    "    else :\n",
    "        print(\"with a human capital level of\",hum_cap,\"the worker will supply 0 labour (l=0)\")\n",
    "        l = 0\n",
    "    return l"
   ]
  },
  {
   "cell_type": "code",
   "execution_count": 214,
   "metadata": {},
   "outputs": [
    {
     "name": "stdout",
     "output_type": "stream",
     "text": [
      "with a human capital level of 0.1 the worker will supply 0 labour (l=0)\n"
     ]
    },
    {
     "data": {
      "image/png": "[encoded data removed]",
      "text/latex": [
       "$$0$$"
      ],
      "text/plain": [
       "0"
      ]
     },
     "metadata": {},
     "output_type": "display_data"
    },
    {
     "data": {
      "text/plain": [
       "<function __main__.labour_supply(hum_cap, w, rho, gamma, b)>"
      ]
     },
     "execution_count": 214,
     "metadata": {},
     "output_type": "execute_result"
    }
   ],
   "source": [
    "human_capital = widgets.FloatSlider(min=0.1,max=1.5,value=0.1,step=0.01)\n",
    "widgets.interact(labour_supply,hum_cap=human_capital,w=widgets.fixed(w),rho=widgets.fixed(rho),gamma=widgets.fixed(gamma),b=widgets.fixed(b))"
   ]
  },
  {
   "cell_type": "code",
   "execution_count": null,
   "metadata": {},
   "outputs": [],
   "source": []
  },
  {
   "cell_type": "markdown",
   "metadata": {},
   "source": [
    "# 2. AS-AD Model :"
   ]
  },
  {
   "cell_type": "code",
   "execution_count": 215,
   "metadata": {},
   "outputs": [],
   "source": [
    "import numpy as np\n",
    "import sympy as sm\n",
    "import matplotlib.pyplot as plt\n",
    "sm.init_printing(use_unicode=True)"
   ]
  },
  {
   "cell_type": "code",
   "execution_count": 216,
   "metadata": {},
   "outputs": [],
   "source": [
    "#Initialize the symbols\n",
    "alpha = sm.symbols('alpha')\n",
    "b = sm.symbols('b')\n",
    "gamma = sm.symbols('gamma')\n",
    "h = sm.symbols('h')\n",
    "phi = sm.symbols('phi')\n",
    "yt = sm.symbols('y_t')\n",
    "pit = sm.symbols('pi_t')\n",
    "pit_m1=sm.symbols('pi_t-1')\n",
    "yt_m1 = sm.symbols('y_t-1')\n",
    "vt = sm.symbols('v_t')\n",
    "st = sm.symbols('s_t')\n",
    "st_m1 = sm.symbols('s_t-1')\n",
    "rt = sm.symbols('r_t')\n",
    "it = sm.symbols('i_t')\n",
    "exp_pit = sm.symbols('E[pi_t]')\n",
    "exp_pit_p1 = sm.symbols('E[pi_t+1]')"
   ]
  },
  {
   "cell_type": "markdown",
   "metadata": {},
   "source": [
    "**Question 1**"
   ]
  },
  {
   "cell_type": "markdown",
   "metadata": {},
   "source": [
    "Now that we have the symbols let's write the SRAS curve with them :"
   ]
  },
  {
   "cell_type": "code",
   "execution_count": 217,
   "metadata": {},
   "outputs": [
    {
     "data": {
      "image/png": "[encoded data removed]",
      "text/latex": [
       "$$- \\gamma \\phi y_{t-1} + \\gamma y_{t} - \\phi s_{t-1} + \\pi_{t-1} + s_{t}$$"
      ],
      "text/plain": [
       "-γ⋅φ⋅yₜ₋₁ + γ⋅yₜ - φ⋅sₜ₋₁ + πₜ₋₁ + sₜ"
      ]
     },
     "execution_count": 217,
     "metadata": {},
     "output_type": "execute_result"
    }
   ],
   "source": [
    "#Write the SRAS base equation\n",
    "SRAS_pit=pit_m1-phi*gamma*yt_m1+st-phi*st_m1+gamma*yt\n",
    "SRAS_pit"
   ]
  },
  {
   "cell_type": "markdown",
   "metadata": {},
   "source": [
    "We do the same with the AD curve :"
   ]
  },
  {
   "cell_type": "code",
   "execution_count": 218,
   "metadata": {},
   "outputs": [
    {
     "data": {
      "image/png": "[encoded data removed]",
      "text/latex": [
       "$$\\frac{v_{t} - y_{t} \\left(\\alpha b + 1\\right)}{\\alpha h}$$"
      ],
      "text/plain": [
       "vₜ - yₜ⋅(α⋅b + 1)\n",
       "─────────────────\n",
       "       α⋅h       "
      ]
     },
     "execution_count": 218,
     "metadata": {},
     "output_type": "execute_result"
    }
   ],
   "source": [
    "#Write the AD base equation\n",
    "AD_pit=(1/(h*alpha))*(vt-(1+b*alpha)*yt)\n",
    "AD_pit"
   ]
  },
  {
   "cell_type": "markdown",
   "metadata": {},
   "source": [
    "Now we will equalize SRAS and AD to find the equilibrium values. To do that we substract one to the other (which is the same as equilized):"
   ]
  },
  {
   "cell_type": "code",
   "execution_count": 219,
   "metadata": {},
   "outputs": [
    {
     "data": {
      "image/png": "[encoded data removed]",
      "text/latex": [
       "$$- \\gamma \\phi y_{t-1} + \\gamma y_{t} - \\phi s_{t-1} + \\pi_{t-1} + s_{t} - \\frac{v_{t} - y_{t} \\left(\\alpha b + 1\\right)}{\\alpha h}$$"
      ],
      "text/plain": [
       "                                        vₜ - yₜ⋅(α⋅b + 1)\n",
       "-γ⋅φ⋅yₜ₋₁ + γ⋅yₜ - φ⋅sₜ₋₁ + πₜ₋₁ + sₜ - ─────────────────\n",
       "                                               α⋅h       "
      ]
     },
     "execution_count": 219,
     "metadata": {},
     "output_type": "execute_result"
    }
   ],
   "source": [
    "#SRAS equation minus the AD equation\n",
    "AS_minus_AD= SRAS_pit-AD_pit\n",
    "AS_minus_AD"
   ]
  },
  {
   "cell_type": "markdown",
   "metadata": {},
   "source": [
    "We solve this equation for $y_t$ :"
   ]
  },
  {
   "cell_type": "code",
   "execution_count": 220,
   "metadata": {},
   "outputs": [
    {
     "data": {
      "image/png": "[encoded data removed]",
      "text/latex": [
       "$$\\frac{\\alpha \\gamma h \\phi y_{t-1} + \\alpha h \\phi s_{t-1} - \\alpha h \\pi_{t-1} - \\alpha h s_{t} + v_{t}}{\\alpha b + \\alpha \\gamma h + 1}$$"
      ],
      "text/plain": [
       "α⋅γ⋅h⋅φ⋅yₜ₋₁ + α⋅h⋅φ⋅sₜ₋₁ - α⋅h⋅πₜ₋₁ - α⋅h⋅sₜ + vₜ\n",
       "──────────────────────────────────────────────────\n",
       "                 α⋅b + α⋅γ⋅h + 1                  "
      ]
     },
     "execution_count": 220,
     "metadata": {},
     "output_type": "execute_result"
    }
   ],
   "source": [
    "#Solve the equation for yt\n",
    "eq_y = sm.solve(sm.Eq(AS_minus_AD,0),yt)\n",
    "eq_y[0]"
   ]
  },
  {
   "cell_type": "markdown",
   "metadata": {},
   "source": [
    "We get the equation of the equilibrium output $y_t$ which depend on $\\alpha , \\phi ,\\gamma , h, b, \\pi_{t-1} ,s_{t-1} ,y_{t-1} ,v_t$ and $s_t $."
   ]
  },
  {
   "cell_type": "markdown",
   "metadata": {},
   "source": [
    "Now that we have the equilibrium equation of the output, let's insert it in the SRAS curve :"
   ]
  },
  {
   "cell_type": "code",
   "execution_count": 221,
   "metadata": {},
   "outputs": [
    {
     "data": {
      "image/png": "[encoded data removed]",
      "text/latex": [
       "$$- \\gamma \\phi y_{t-1} + \\frac{\\gamma \\left(\\alpha \\gamma h \\phi y_{t-1} + \\alpha h \\phi s_{t-1} - \\alpha h \\pi_{t-1} - \\alpha h s_{t} + v_{t}\\right)}{\\alpha b + \\alpha \\gamma h + 1} - \\phi s_{t-1} + \\pi_{t-1} + s_{t}$$"
      ],
      "text/plain": [
       "            γ⋅(α⋅γ⋅h⋅φ⋅yₜ₋₁ + α⋅h⋅φ⋅sₜ₋₁ - α⋅h⋅πₜ₋₁ - α⋅h⋅sₜ + vₜ)            \n",
       "-γ⋅φ⋅yₜ₋₁ + ────────────────────────────────────────────────────── - φ⋅sₜ₋₁ + \n",
       "                               α⋅b + α⋅γ⋅h + 1                                \n",
       "\n",
       "         \n",
       "πₜ₋₁ + sₜ\n",
       "         "
      ]
     },
     "execution_count": 221,
     "metadata": {},
     "output_type": "execute_result"
    }
   ],
   "source": [
    "#Substitute the new output equation to replace yt\n",
    "eq_pi= SRAS_pit.subs(yt,eq_y[0])\n",
    "eq_pi"
   ]
  },
  {
   "cell_type": "markdown",
   "metadata": {},
   "source": [
    "We obtain the equation of the equilibrium inflation which depend on $\\gamma ,\\phi , s_t ,\\pi_{t-1} ,y_{t-1}$ and $s_{t-1}$"
   ]
  },
  {
   "cell_type": "markdown",
   "metadata": {},
   "source": [
    "**Question 2**"
   ]
  },
  {
   "cell_type": "markdown",
   "metadata": {},
   "source": [
    "We want to find the output and inflation for the equilibrium and see the evolution when there is a demand disturbance.\n",
    "To do that we will create a dictonnary for the parameters of this question, and create two functions for the output and inflation from the equation find previously. We will use these functions to get the output and inflation level at the equilibrium and after a shock and plot the results."
   ]
  },
  {
   "cell_type": "markdown",
   "metadata": {},
   "source": [
    "First of all we create a dictionary to enter the value of our parameters ($\\alpha$, $h$, $b$, $\\phi$, $\\gamma$) :"
   ]
  },
  {
   "cell_type": "code",
   "execution_count": 222,
   "metadata": {},
   "outputs": [],
   "source": [
    "#initialization of the dicitonary\n",
    "pms = {}\n",
    "\n",
    "#enter the parameters and their value\n",
    "pms['alpha']=5.76\n",
    "pms['h'] = 0.5\n",
    "pms['b'] = 0.5\n",
    "pms['phi'] = 0\n",
    "pms['gamma'] = 0.075"
   ]
  },
  {
   "cell_type": "markdown",
   "metadata": {},
   "source": [
    "From the equation of the output find in the question one ( \"eq_y\" ), we create a function by using the lambdify."
   ]
  },
  {
   "cell_type": "code",
   "execution_count": 223,
   "metadata": {},
   "outputs": [],
   "source": [
    "#Our eq_y is a list, therefore we need to consider only the first element of it to use the lambdify function.\n",
    "equil_output= sm.lambdify((vt, st, pit_m1, st_m1, yt_m1, alpha, h, b, phi, gamma),eq_y[0])\n",
    "\n",
    "#define the function\n",
    "def equili_output (vt, st, pit_m1, st_m1, yt_m1, alpha=pms['alpha'], h=pms['h'], b=pms['b'], phi=pms['phi'], gamma=pms['gamma']):\n",
    "    \"\"\"\n",
    "    This function take five parameters plus five others which are by default define in the dictionary called \"pms\" and\n",
    "    return the output of the economy.\n",
    "    \n",
    "        args :  vt (float) : the demand disturbance in period t\n",
    "                st (float) : the supply disturbance in period t\n",
    "                pit_m1 (float) : the inflation in period t-1\n",
    "                st_m1 (float) : the supply disturbance in period t-1\n",
    "                yt_m1 (float) : the output in period t-1\n",
    "        \n",
    "        return (float) : The output yt of the economy for the period t.\n",
    "    \n",
    "    \"\"\"\n",
    "    return equil_output (vt, st, pit_m1, st_m1, yt_m1, alpha, h, b, phi, gamma)"
   ]
  },
  {
   "cell_type": "markdown",
   "metadata": {},
   "source": [
    "Now let's enter values of the variables at the equilibrium, which means $v_t = s_t = \\pi_{t-1} = s_{t-1} = y_{t-1} = 0$ :"
   ]
  },
  {
   "cell_type": "code",
   "execution_count": 224,
   "metadata": {},
   "outputs": [
    {
     "data": {
      "image/png": "[encoded data removed]",
      "text/latex": [
       "$$0.0$$"
      ],
      "text/plain": [
       "0.0"
      ]
     },
     "execution_count": 224,
     "metadata": {},
     "output_type": "execute_result"
    }
   ],
   "source": [
    "equili_output(0,0,0,0,0)"
   ]
  },
  {
   "cell_type": "markdown",
   "metadata": {},
   "source": [
    "The output is zero ($y_t = 0$) which makes sense given that all the other variables are equal to 0."
   ]
  },
  {
   "cell_type": "markdown",
   "metadata": {},
   "source": [
    "Now let's what would be the impact of a positive demand disturbance on the production. For that let's just set $v_t = 0.1$ instead of 0 :"
   ]
  },
  {
   "cell_type": "code",
   "execution_count": 225,
   "metadata": {},
   "outputs": [
    {
     "data": {
      "image/png": "[encoded data removed]",
      "text/latex": [
       "$$0.0244140625$$"
      ],
      "text/plain": [
       "0.0244140625"
      ]
     },
     "execution_count": 225,
     "metadata": {},
     "output_type": "execute_result"
    }
   ],
   "source": [
    "equili_output(0.1,0,0,0,0)"
   ]
  },
  {
   "cell_type": "markdown",
   "metadata": {},
   "source": [
    "When there is a positive disturbance of the demand $v_t$ we can observe an increase in the output. Indeed an increase in demande will stimulate the economy, the supply will adapt to the demand, increase as well, leading to more production."
   ]
  },
  {
   "cell_type": "markdown",
   "metadata": {},
   "source": [
    "Now let's see the impact of the demand disturbance on the **inflation** :"
   ]
  },
  {
   "cell_type": "markdown",
   "metadata": {},
   "source": [
    "As before we use the inflation equation find in question one ( \"eq_pi\" ) to create a function."
   ]
  },
  {
   "cell_type": "code",
   "execution_count": 226,
   "metadata": {},
   "outputs": [],
   "source": [
    "#use lambdify on the inflation equation eq_pi\n",
    "equil_pi= sm.lambdify((st, yt, pit_m1, st_m1, yt_m1, gamma, phi),SRAS_pit)\n",
    "\n",
    "#define the function\n",
    "def equili_pi (st, yt, pit_m1, st_m1, yt_m1, gamma=pms['gamma'], phi=pms['phi']):\n",
    "    \"\"\"\n",
    "    This function take five parameters plus two others which are by default define in the dictionary called \"pms\" and\n",
    "    return the inflation of the economy.\n",
    "    \n",
    "        args :  st (float) : the supply disturbance in period t\n",
    "                yt (float) : the output in period t\n",
    "                pit_m1 (float) : the inflation in period t-1\n",
    "                st_m1 (float) : the supply disturbance in period t-1\n",
    "                yt_m1 (float) : the output in period t-1\n",
    "        \n",
    "        return (float) : The inflation pit of the economy for period t.\n",
    "    \n",
    "    \"\"\"\n",
    "    return equil_pi (st, yt, pit_m1, st_m1, yt_m1, gamma, phi)"
   ]
  },
  {
   "cell_type": "code",
   "execution_count": 227,
   "metadata": {},
   "outputs": [
    {
     "data": {
      "image/png": "[encoded data removed]",
      "text/latex": [
       "$$0.0$$"
      ],
      "text/plain": [
       "0.0"
      ]
     },
     "execution_count": 227,
     "metadata": {},
     "output_type": "execute_result"
    }
   ],
   "source": [
    "equili_pi(0,0,0,0,0)"
   ]
  },
  {
   "cell_type": "markdown",
   "metadata": {},
   "source": [
    "At the equilibrium, when $v_t = s_t = \\pi_{t-1} = s_{t-1} = y_{t-1} = 0$ the inflation is zero ($\\pi_t = 0$). \n",
    "Regarding the demand disturbance, it is not involve in the inflation equation, however its impact increased the output in period t. This increase in output will impact the inflation : "
   ]
  },
  {
   "cell_type": "code",
   "execution_count": 228,
   "metadata": {},
   "outputs": [
    {
     "data": {
      "image/png": "[encoded data removed]",
      "text/latex": [
       "$$0.0018310546875$$"
      ],
      "text/plain": [
       "0.0018310546875"
      ]
     },
     "execution_count": 228,
     "metadata": {},
     "output_type": "execute_result"
    }
   ],
   "source": [
    "equili_pi(0,0.0244140625,0,0,0)"
   ]
  },
  {
   "cell_type": "markdown",
   "metadata": {},
   "source": [
    "The positive disturbance on the demand also increase the inflation.\n",
    "We can summarize the effect of this disturbance as follow:\n",
    "   1. The positive choc on $v_t$ leads to a higher demand\n",
    "   2. The supply and the demand adjust on a higher production and therefor a higher output $y_t$\n",
    "   3. Finally a higher output lead to inflation, an increase in $\\pi_t$"
   ]
  },
  {
   "cell_type": "markdown",
   "metadata": {},
   "source": [
    "**Question 3**"
   ]
  },
  {
   "cell_type": "markdown",
   "metadata": {},
   "source": [
    "In this question we introduce a demand and a supply shock inside the demand and supply disturbance. Now these both variables became function of shocks and some parameters. "
   ]
  },
  {
   "cell_type": "markdown",
   "metadata": {},
   "source": [
    "In theses conditions we want to know how the economy will evolve, starting from the equilibrium, if there is a demand shock in the first period. To answer this question we will first adapt our model to the new definitions of $v_t$ and $s_t$."
   ]
  },
  {
   "cell_type": "markdown",
   "metadata": {},
   "source": [
    "Now the have two new parameters ($\\delta$, $\\omega$) and $v_t$ and $s_t$ which became function. We have to set up this new configuration:"
   ]
  },
  {
   "cell_type": "code",
   "execution_count": 229,
   "metadata": {},
   "outputs": [],
   "source": [
    "#add the new parameters into the dictionary\n",
    "pms[\"delta\"] = 0.80\n",
    "pms[\"omega\"] = 0.15\n",
    "\n",
    "#define the new symbols\n",
    "delta = sm.symbols(\"delta\")\n",
    "omega = sm.symbols(\"omega\")\n",
    "vt_m1 = sm.symbols(\"v_t-1\")\n",
    "xt = sm.symbols(\"x_t\")\n",
    "ct = sm.symbols(\"c_t\")\n",
    "\n",
    "#define the new vt and st equation\n",
    "vt_ar = delta*vt_m1 + xt\n",
    "st_ar = omega*st_m1 + ct"
   ]
  },
  {
   "cell_type": "markdown",
   "metadata": {},
   "source": [
    "To deal with these changes, we have to replace our $v_t$ in the output equation by the new one which is vt_ar :"
   ]
  },
  {
   "cell_type": "code",
   "execution_count": 230,
   "metadata": {},
   "outputs": [
    {
     "data": {
      "image/png": "[encoded data removed]",
      "text/latex": [
       "$$\\frac{\\alpha \\gamma h \\phi y_{t-1} + \\alpha h \\phi s_{t-1} - \\alpha h \\pi_{t-1} - \\alpha h s_{t} + v_{t}}{\\alpha b + \\alpha \\gamma h + 1}$$"
      ],
      "text/plain": [
       "α⋅γ⋅h⋅φ⋅yₜ₋₁ + α⋅h⋅φ⋅sₜ₋₁ - α⋅h⋅πₜ₋₁ - α⋅h⋅sₜ + vₜ\n",
       "──────────────────────────────────────────────────\n",
       "                 α⋅b + α⋅γ⋅h + 1                  "
      ]
     },
     "execution_count": 230,
     "metadata": {},
     "output_type": "execute_result"
    }
   ],
   "source": [
    "#The output equilibrium equation (our previous equation):\n",
    "eq_y[0]"
   ]
  },
  {
   "cell_type": "code",
   "execution_count": 231,
   "metadata": {},
   "outputs": [
    {
     "data": {
      "image/png": "[encoded data removed]",
      "text/latex": [
       "$$\\frac{\\alpha \\gamma h \\phi y_{t-1} + \\alpha h \\phi s_{t-1} - \\alpha h \\pi_{t-1} - \\alpha h s_{t} + \\delta v_{t-1} + x_{t}}{\\alpha b + \\alpha \\gamma h + 1}$$"
      ],
      "text/plain": [
       "α⋅γ⋅h⋅φ⋅yₜ₋₁ + α⋅h⋅φ⋅sₜ₋₁ - α⋅h⋅πₜ₋₁ - α⋅h⋅sₜ + δ⋅vₜ₋₁ + xₜ\n",
       "───────────────────────────────────────────────────────────\n",
       "                      α⋅b + α⋅γ⋅h + 1                      "
      ]
     },
     "execution_count": 231,
     "metadata": {},
     "output_type": "execute_result"
    }
   ],
   "source": [
    "#substitute vt by vt_ar\n",
    "eq_y_ar = eq_y[0].subs(vt,vt_ar)\n",
    "eq_y_ar"
   ]
  },
  {
   "cell_type": "code",
   "execution_count": 232,
   "metadata": {},
   "outputs": [
    {
     "data": {
      "image/png": "[encoded data removed]",
      "text/latex": [
       "$$\\frac{\\alpha \\gamma h \\phi y_{t-1} + \\alpha h \\phi s_{t-1} - \\alpha h \\pi_{t-1} - \\alpha h \\left(c_{t} + \\omega s_{t-1}\\right) + \\delta v_{t-1} + x_{t}}{\\alpha b + \\alpha \\gamma h + 1}$$"
      ],
      "text/plain": [
       "α⋅γ⋅h⋅φ⋅yₜ₋₁ + α⋅h⋅φ⋅sₜ₋₁ - α⋅h⋅πₜ₋₁ - α⋅h⋅(cₜ + ω⋅sₜ₋₁) + δ⋅vₜ₋₁ + xₜ\n",
       "──────────────────────────────────────────────────────────────────────\n",
       "                           α⋅b + α⋅γ⋅h + 1                            "
      ]
     },
     "execution_count": 232,
     "metadata": {},
     "output_type": "execute_result"
    }
   ],
   "source": [
    "#substitute st by st_ar\n",
    "eq_y_ar2 = eq_y_ar.subs(st, st_ar)\n",
    "eq_y_ar2"
   ]
  },
  {
   "cell_type": "markdown",
   "metadata": {},
   "source": [
    "We have to do the same in the SRAS equation, by replacing $s_t$ by st_ar:"
   ]
  },
  {
   "cell_type": "code",
   "execution_count": 233,
   "metadata": {},
   "outputs": [
    {
     "data": {
      "image/png": "[encoded data removed]",
      "text/latex": [
       "$$- \\gamma \\phi y_{t-1} + \\gamma y_{t} - \\phi s_{t-1} + \\pi_{t-1} + s_{t}$$"
      ],
      "text/plain": [
       "-γ⋅φ⋅yₜ₋₁ + γ⋅yₜ - φ⋅sₜ₋₁ + πₜ₋₁ + sₜ"
      ]
     },
     "execution_count": 233,
     "metadata": {},
     "output_type": "execute_result"
    }
   ],
   "source": [
    "#The SRAS equation (our previous equation):\n",
    "SRAS_pit"
   ]
  },
  {
   "cell_type": "code",
   "execution_count": 234,
   "metadata": {},
   "outputs": [
    {
     "data": {
      "image/png": "[encoded data removed]",
      "text/latex": [
       "$$c_{t} - \\gamma \\phi y_{t-1} + \\gamma y_{t} + \\omega s_{t-1} - \\phi s_{t-1} + \\pi_{t-1}$$"
      ],
      "text/plain": [
       "cₜ - γ⋅φ⋅yₜ₋₁ + γ⋅yₜ + ω⋅sₜ₋₁ - φ⋅sₜ₋₁ + πₜ₋₁"
      ]
     },
     "execution_count": 234,
     "metadata": {},
     "output_type": "execute_result"
    }
   ],
   "source": [
    "#substitute st by st_ar\n",
    "eq_pi_ar = SRAS_pit.subs(st,st_ar)\n",
    "eq_pi_ar"
   ]
  },
  {
   "cell_type": "markdown",
   "metadata": {},
   "source": [
    "Now that we changed our equation, we also have to make these changes inside our previous functions :"
   ]
  },
  {
   "cell_type": "code",
   "execution_count": 235,
   "metadata": {},
   "outputs": [],
   "source": [
    "#create a new output function, with the new parameters\n",
    "equil_output2= sm.lambdify((vt_m1, pit_m1, st_m1, yt_m1, ct, xt, alpha, h, b, phi, gamma, delta),eq_y_ar2)\n",
    "def equili_output_ar (vt_m1, pit_m1, st_m1, yt_m1, ct, xt, alpha=pms['alpha'], h=pms['h'], b=pms['b'], phi=pms['phi'], gamma=pms['gamma'], delta=pms['delta']):\n",
    "    return equil_output2 (vt_m1, pit_m1, st_m1, yt_m1, ct, xt, alpha, h, b, phi, gamma, delta)"
   ]
  },
  {
   "cell_type": "code",
   "execution_count": 236,
   "metadata": {},
   "outputs": [
    {
     "data": {
      "image/png": "[encoded data removed]",
      "text/latex": [
       "$$-0.0703125$$"
      ],
      "text/plain": [
       "-0.0703125000000000"
      ]
     },
     "execution_count": 236,
     "metadata": {},
     "output_type": "execute_result"
    }
   ],
   "source": [
    "equili_output_ar(0,0,0,0,0.1,0)"
   ]
  },
  {
   "cell_type": "code",
   "execution_count": 237,
   "metadata": {},
   "outputs": [],
   "source": [
    "#create a new inflation function, with the new parameters\n",
    "equil_piii= sm.lambdify((yt_m1, yt, pit_m1, st_m1, ct, omega, gamma, phi),eq_pi_ar)\n",
    "def equili_pi_ar (yt_m1, yt, pit_m1, st_m1, ct, omega=pms['omega'], gamma=pms['gamma'], phi=pms['phi']):\n",
    "    return equil_piii (yt_m1, yt, pit_m1, st_m1, ct, omega, gamma, phi)"
   ]
  },
  {
   "cell_type": "code",
   "execution_count": 238,
   "metadata": {},
   "outputs": [
    {
     "data": {
      "image/png": "[encoded data removed]",
      "text/latex": [
       "$$0.0$$"
      ],
      "text/plain": [
       "0.0"
      ]
     },
     "execution_count": 238,
     "metadata": {},
     "output_type": "execute_result"
    }
   ],
   "source": [
    "#test at the initial state\n",
    "equili_pi_ar(0,0,0,0,0)"
   ]
  },
  {
   "cell_type": "markdown",
   "metadata": {},
   "source": [
    "Now let's enter the new output value to get the new inflation value:"
   ]
  },
  {
   "cell_type": "code",
   "execution_count": 239,
   "metadata": {},
   "outputs": [
    {
     "data": {
      "image/png": "[encoded data removed]",
      "text/latex": [
       "$$0$$"
      ],
      "text/plain": [
       "0"
      ]
     },
     "execution_count": 239,
     "metadata": {},
     "output_type": "execute_result"
    }
   ],
   "source": [
    "equili_pi_ar(0,equili_output_ar(0,0.1,0,0,0,0,0), 0, 0, 0)"
   ]
  },
  {
   "cell_type": "code",
   "execution_count": 250,
   "metadata": {},
   "outputs": [
    {
     "data": {
      "image/png": "[encoded data removed]",
      "text/latex": [
       "$$-0.0703125$$"
      ],
      "text/plain": [
       "-0.0703125000000000"
      ]
     },
     "execution_count": 250,
     "metadata": {},
     "output_type": "execute_result"
    }
   ],
   "source": [
    "equili_output_ar(0,0,0,0,0.1,0)"
   ]
  },
  {
   "cell_type": "code",
   "execution_count": 259,
   "metadata": {},
   "outputs": [],
   "source": [
    "#define the number of time period\n",
    "T = 100\n",
    "\n",
    "#create a loop to see the evolution of output and inflation\n",
    "\n",
    "shock = 0.1\n",
    "pi_m = 0\n",
    "yn = 0\n",
    "y_m = 0\n",
    "\n",
    "list_output = list(range(100))\n",
    "list_inflation = list(range(100))\n",
    "\n",
    "for i in range(100):\n",
    "    \n",
    "    if i == 1 :\n",
    "        y = equili_output_ar(0,pi_m,0,y_m,0,shock)\n",
    "        list_output[i] = y\n",
    "        yn = y\n",
    "        p = equili_pi_ar(y_m,yn,pi_m,0,0)\n",
    "        list_inflation[i] = p  \n",
    "        pi_m = p\n",
    "        y_m = y\n",
    "    \n",
    "    elif i> 1 :\n",
    "        y = equili_output_ar(0,pi_m,0,y_m,0,0)\n",
    "        list_output[i] = y\n",
    "        yn = y\n",
    "        p = equili_pi_ar(y_m,yn,pi_m,0,0)\n",
    "        list_inflation[i] = p  \n",
    "        pi_m = p\n",
    "        y_m = y\n",
    "\n",
    "    else : \n",
    "        y = equili_output_ar(0,0,0,0,0,0)\n",
    "        list_output[i] = y\n",
    "        yn = y\n",
    "        p = equili_pi_ar(y_m,yn,pi_m,0,0)\n",
    "        list_inflation[i] = p\n",
    "        pi_m = p\n",
    "        y_m = y"
   ]
  },
  {
   "cell_type": "code",
   "execution_count": 262,
   "metadata": {},
   "outputs": [
    {
     "data": {
      "text/plain": [
       "[<matplotlib.lines.Line2D at 0x232eb62dd68>]"
      ]
     },
     "execution_count": 262,
     "metadata": {},
     "output_type": "execute_result"
    },
    {
     "data": {
      "image/png": "[encoded data removed]",
      "text/plain": [
       "<Figure size 432x288 with 1 Axes>"
      ]
     },
     "metadata": {
      "needs_background": "light"
     },
     "output_type": "display_data"
    }
   ],
   "source": [
    "plt.plot(list_output)\n",
    "plt.plot(list_inflation)"
   ]
  },
  {
   "cell_type": "code",
   "execution_count": 258,
   "metadata": {},
   "outputs": [
    {
     "ename": "SyntaxError",
     "evalue": "invalid syntax (<ipython-input-258-9c57eaa89f85>, line 1)",
     "output_type": "error",
     "traceback": [
      "\u001b[1;36m  File \u001b[1;32m\"<ipython-input-258-9c57eaa89f85>\"\u001b[1;36m, line \u001b[1;32m1\u001b[0m\n\u001b[1;33m    def simulation(x, c, )\u001b[0m\n\u001b[1;37m                          ^\u001b[0m\n\u001b[1;31mSyntaxError\u001b[0m\u001b[1;31m:\u001b[0m invalid syntax\n"
     ]
    }
   ],
   "source": []
  },
  {
   "cell_type": "markdown",
   "metadata": {},
   "source": [
    "# 3. Exchange Economy"
   ]
  },
  {
   "cell_type": "code",
   "execution_count": 320,
   "metadata": {},
   "outputs": [],
   "source": [
    "def simulation(xt, ct, v_m=0, s_m=0,) :\n",
    "    \n",
    "    pi_m = 0\n",
    "    yn = 0\n",
    "    y_m = 0\n",
    "    delta = pms['delta']\n",
    "\n",
    "    list_output = list(range(100))\n",
    "    list_inflation = list(range(100))\n",
    "    for i in range(100):\n",
    "        if i == 0 :\n",
    "           \n",
    "            y = equili_output_ar(v_m,pi_m,s_m,y_m,ct,xt)\n",
    "            list_output[i] = y\n",
    "            yn = y\n",
    "            p = equili_pi_ar(y_m,yn,pi_m,s_m,ct)\n",
    "            list_inflation[i] = p  \n",
    "            pi_m = p\n",
    "            y_m = y\n",
    "            v_m = delta * v_m + xt\n",
    "            s_m = omega * s_m + ct       \n",
    "        else :\n",
    "            y = equili_output_ar(v_m,pi_m,s_m,y_m,ct,xt)\n",
    "            list_output[i] = y\n",
    "            yn = y\n",
    "            p = equili_pi_ar(y_m,yn,pi_m,s_m,ct)\n",
    "            list_inflation[i] = p  \n",
    "            pi_m = p\n",
    "            y_m = y\n",
    "            v_m = delta * v_m + xt\n",
    "            s_m = omega * s_m + ct\n",
    "\n",
    "    return list_inflation, list_output"
   ]
  },
  {
   "cell_type": "code",
   "execution_count": 321,
   "metadata": {},
   "outputs": [
    {
     "data": {
      "image/png": "[encoded data removed]",
      "text/latex": [
       "$$\\left ( \\left [ 0.0018310546875, \\quad 0.00503039360046387, \\quad 0.0092328923754394, \\quad 0.0141512750040783, \\quad 0.0195602897987852, \\quad 0.0252840635789273, \\quad 0.0311859977261323, \\quad 0.0371606970647933, \\quad 0.0431275243680171, \\quad 0.0490254547626725, \\quad 0.0548089694841722, \\quad 0.0604447805715303, \\quad 0.0659092198035785, \\quad 0.0711861585439992, \\quad 0.0762653518548305, \\quad 0.0811411215903509, \\quad 0.0858113102637767, \\quad 0.090276451142419, \\quad 0.0945391109563724, \\quad 0.0986033703482659, \\quad 0.102474414184543, \\quad 0.10615820944212, \\quad 0.109661252858042, \\quad 0.112990374107933, \\quad 0.116152583140697, \\quad 0.119154952585526, \\quad 0.122004527977386, \\quad 0.124708260010517, \\quad 0.127272954199577, \\quad 0.1297052342634, \\quad 0.132011516294143, \\quad 0.134197991372152, \\quad 0.136270614764452, \\quad 0.138235100226335, \\quad 0.140096918230219, \\quad 0.141861297189328, \\quad 0.143533226937984, \\quad 0.145117463885276, \\quad 0.146618537382481, \\quad 0.148040756943125, \\quad 0.149388220033042, \\quad 0.150664820210208, \\quad 0.151874255443812, \\quad 0.153020036481394, \\quad 0.154105495164172, \\quad 0.155133792615405, \\quad 0.156107927246177, \\quad 0.157030742538384, \\quad 0.1579049345768, \\quad 0.158733059311548, \\quad 0.159517539539672, \\quad 0.160260671600215, \\quad 0.160964631781562, \\quad 0.161631482443168, \\quad 0.162263177856273, \\quad 0.162861569770064, \\quad 0.163428412711065, \\quad 0.163965369024481, \\quad 0.164474013666811, \\quad 0.164955838759434, \\quad 0.165412257913022, \\quad 0.165844610332674, \\quad 0.166254164713589, \\quad 0.166642122936913, \\quad 0.167009623575175, \\quad 0.167357745216463, \\quad 0.167687509616172, \\quad 0.167999884684844, \\quad 0.168295787320286, \\quad 0.168576086091813, \\quad 0.168841603784112, \\quad 0.169093119807896, \\quad 0.169331372484197, \\quad 0.169557061208786, \\quad 0.169770848502953, \\quad 0.169973361956509, \\quad 0.170165196068646, \\quad 0.170346913991964, \\quad 0.17051904918472, \\quad 0.17068210697611, \\quad 0.170836566049134, \\quad 0.17098287984536, \\quad 0.171121477895694, \\quad 0.171252767081032, \\quad 0.171377132826487, \\quad 0.171494940232686, \\quad 0.17160653514743, \\quad 0.171712245180876, \\quad 0.171812380667205, \\quad 0.171907235575589, \\quad 0.171997088373137, \\quad 0.172082202842344, \\quad 0.172162828855437, \\quad 0.172239203107899, \\quad 0.172311549813315, \\quad 0.172380081361575, \\quad 0.172444998942381, \\quad 0.172506493135865, \\quad 0.172564744472072, \\quad 0.172619923960937\\right ], \\quad \\left [ 0.0244140625, \\quad 0.0426578521728516, \\quad 0.0560333169996739, \\quad 0.0655784350485192, \\quad 0.0721201972627574, \\quad 0.0763169837352292, \\quad 0.0786924552960667, \\quad 0.0796626578488132, \\quad 0.0795576973763172, \\quad 0.078639071928738, \\quad 0.0771135296199959, \\quad 0.0751441478314415, \\quad 0.0728591897606428, \\quad 0.0703591832056089, \\quad 0.0677225774777506, \\quad 0.0650102631402723, \\quad 0.0622691823123446, \\quad 0.05953521171523, \\quad 0.0568354641860451, \\quad 0.0541901252252474, \\quad 0.0516139178170329, \\quad 0.0491172701010189, \\quad 0.0467072455456303, \\quad 0.0443882833318858, \\quad 0.0421627871035166, \\quad 0.0400315925977231, \\quad 0.0379943385581224, \\quad 0.0360497604417573, \\quad 0.0341959225207902, \\quad 0.0324304008509708, \\quad 0.0307504270765858, \\quad 0.0291530010401113, \\quad 0.0276349785640005, \\quad 0.0261931394917806, \\quad 0.0248242400517866, \\quad 0.0235250527881199, \\quad 0.0222923966487478, \\quad 0.0211231592972251, \\quad 0.0200143132960615, \\quad 0.0189629274752602, \\quad 0.0179661745322186, \\quad 0.0170213356955504, \\quad 0.0161258031147238, \\quad 0.0152770805010905, \\quad 0.0144727824370366, \\quad 0.0137106326831051, \\quad 0.0129884617436243, \\quad 0.0123042038960967, \\quad 0.0116558938455506, \\quad 0.0110416631299688, \\quad 0.0104597363749931, \\quad 0.00990842747390803, \\quad 0.00938613575129065, \\quad 0.00889134215474277, \\quad 0.00842260550807051, \\quad 0.00797855885054626, \\quad 0.00755790588001433, \\quad 0.00715941751220482, \\quad 0.00678192856440014, \\quad 0.00642433456831425, \\quad 0.00608558871450522, \\quad 0.00576469892869228, \\quad 0.00546072507886735, \\quad 0.00517277631098071, \\quad 0.00490000851016175, \\quad 0.00464162188384803, \\quad 0.00439685866278844, \\quad 0.00416500091562014, \\quad 0.00394536847256219, \\quad 0.0037373169536983, \\quad 0.00354023589731323, \\quad 0.00335354698379193, \\quad 0.00317670235066941, \\quad 0.00300918299452653, \\quad 0.0028504972555541, \\quad 0.0027001793807469, \\quad 0.00255778816183823, \\quad 0.00242290564423965, \\quad 0.00229513590340535, \\quad 0.00217410388519814, \\quad 0.00205945430698627, \\quad 0.00195085061635363, \\quad 0.00184797400445171, \\quad 0.0017505224711666, \\quad 0.00165820993941088, \\quad 0.00157076541598502, \\quad 0.00148793219657964, \\quad 0.00140946711261322, \\quad 0.00133513981771656, \\quad 0.00126473211178771, \\quad 0.00119803730064699, \\quad 0.00113485958942415, \\quad 0.00107501350790589, \\quad 0.00101832336616413, \\quad 0.000964622738872926, \\quad 0.000913753976804767, \\quad 0.000865567744075879, \\quad 0.000819922579785232, \\quad 0.00077668448276253, \\quad 0.000735726518208406\\right ]\\right )$$"
      ],
      "text/plain": [
       "([0.0018310546875, 0.00503039360046387, 0.0092328923754394, 0.0141512750040783\n",
       ", 0.0195602897987852, 0.0252840635789273, 0.0311859977261323, 0.03716069706479\n",
       "33, 0.0431275243680171, 0.0490254547626725, 0.0548089694841722, 0.060444780571\n",
       "5303, 0.0659092198035785, 0.0711861585439992, 0.0762653518548305, 0.0811411215\n",
       "903509, 0.0858113102637767, 0.090276451142419, 0.0945391109563724, 0.098603370\n",
       "3482659, 0.102474414184543, 0.10615820944212, 0.109661252858042, 0.11299037410\n",
       "7933, 0.116152583140697, 0.119154952585526, 0.122004527977386, 0.1247082600105\n",
       "17, 0.127272954199577, 0.1297052342634, 0.132011516294143, 0.134197991372152, \n",
       "0.136270614764452, 0.138235100226335, 0.140096918230219, 0.141861297189328, 0.\n",
       "143533226937984, 0.145117463885276, 0.146618537382481, 0.148040756943125, 0.14\n",
       "9388220033042, 0.150664820210208, 0.151874255443812, 0.153020036481394, 0.1541\n",
       "05495164172, 0.155133792615405, 0.156107927246177, 0.157030742538384, 0.157904\n",
       "9345768, 0.158733059311548, 0.159517539539672, 0.160260671600215, 0.1609646317\n",
       "81562, 0.161631482443168, 0.162263177856273, 0.162861569770064, 0.163428412711\n",
       "065, 0.163965369024481, 0.164474013666811, 0.164955838759434, 0.16541225791302\n",
       "2, 0.165844610332674, 0.166254164713589, 0.166642122936913, 0.167009623575175,\n",
       " 0.167357745216463, 0.167687509616172, 0.167999884684844, 0.168295787320286, 0\n",
       ".168576086091813, 0.168841603784112, 0.169093119807896, 0.169331372484197, 0.1\n",
       "69557061208786, 0.169770848502953, 0.169973361956509, 0.170165196068646, 0.170\n",
       "346913991964, 0.17051904918472, 0.17068210697611, 0.170836566049134, 0.1709828\n",
       "7984536, 0.171121477895694, 0.171252767081032, 0.171377132826487, 0.1714949402\n",
       "32686, 0.17160653514743, 0.171712245180876, 0.171812380667205, 0.1719072355755\n",
       "89, 0.171997088373137, 0.172082202842344, 0.172162828855437, 0.172239203107899\n",
       ", 0.172311549813315, 0.172380081361575, 0.172444998942381, 0.172506493135865, \n",
       "0.172564744472072, 0.172619923960937], [0.0244140625, 0.0426578521728516, 0.05\n",
       "60333169996739, 0.0655784350485192, 0.0721201972627574, 0.0763169837352292, 0.\n",
       "0786924552960667, 0.0796626578488132, 0.0795576973763172, 0.078639071928738, 0\n",
       ".0771135296199959, 0.0751441478314415, 0.0728591897606428, 0.0703591832056089,\n",
       " 0.0677225774777506, 0.0650102631402723, 0.0622691823123446, 0.05953521171523,\n",
       " 0.0568354641860451, 0.0541901252252474, 0.0516139178170329, 0.049117270101018\n",
       "9, 0.0467072455456303, 0.0443882833318858, 0.0421627871035166, 0.0400315925977\n",
       "231, 0.0379943385581224, 0.0360497604417573, 0.0341959225207902, 0.03243040085\n",
       "09708, 0.0307504270765858, 0.0291530010401113, 0.0276349785640005, 0.026193139\n",
       "4917806, 0.0248242400517866, 0.0235250527881199, 0.0222923966487478, 0.0211231\n",
       "592972251, 0.0200143132960615, 0.0189629274752602, 0.0179661745322186, 0.01702\n",
       "13356955504, 0.0161258031147238, 0.0152770805010905, 0.0144727824370366, 0.013\n",
       "7106326831051, 0.0129884617436243, 0.0123042038960967, 0.0116558938455506, 0.0\n",
       "110416631299688, 0.0104597363749931, 0.00990842747390803, 0.00938613575129065,\n",
       " 0.00889134215474277, 0.00842260550807051, 0.00797855885054626, 0.007557905880\n",
       "01433, 0.00715941751220482, 0.00678192856440014, 0.00642433456831425, 0.006085\n",
       "58871450522, 0.00576469892869228, 0.00546072507886735, 0.00517277631098071, 0.\n",
       "00490000851016175, 0.00464162188384803, 0.00439685866278844, 0.004165000915620\n",
       "14, 0.00394536847256219, 0.0037373169536983, 0.00354023589731323, 0.0033535469\n",
       "8379193, 0.00317670235066941, 0.00300918299452653, 0.0028504972555541, 0.00270\n",
       "01793807469, 0.00255778816183823, 0.00242290564423965, 0.00229513590340535, 0.\n",
       "00217410388519814, 0.00205945430698627, 0.00195085061635363, 0.001847974004451\n",
       "71, 0.0017505224711666, 0.00165820993941088, 0.00157076541598502, 0.0014879321\n",
       "9657964, 0.00140946711261322, 0.00133513981771656, 0.00126473211178771, 0.0011\n",
       "9803730064699, 0.00113485958942415, 0.00107501350790589, 0.00101832336616413, \n",
       "0.000964622738872926, 0.000913753976804767, 0.000865567744075879, 0.0008199225\n",
       "79785232, 0.00077668448276253, 0.000735726518208406])"
      ]
     },
     "execution_count": 321,
     "metadata": {},
     "output_type": "execute_result"
    }
   ],
   "source": [
    "simulation(0.1,0)"
   ]
  },
  {
   "cell_type": "code",
   "execution_count": 305,
   "metadata": {},
   "outputs": [
    {
     "name": "stdout",
     "output_type": "stream",
     "text": [
      "0\n",
      "1\n",
      "2\n",
      "3\n",
      "4\n",
      "5\n",
      "6\n",
      "7\n",
      "8\n",
      "9\n",
      "10\n",
      "11\n",
      "12\n",
      "13\n",
      "14\n",
      "15\n",
      "16\n",
      "17\n",
      "18\n",
      "19\n",
      "20\n",
      "21\n",
      "22\n",
      "23\n",
      "24\n",
      "25\n",
      "26\n",
      "27\n",
      "28\n",
      "29\n",
      "30\n",
      "31\n",
      "32\n",
      "33\n",
      "34\n",
      "35\n",
      "36\n",
      "37\n",
      "38\n",
      "39\n",
      "40\n",
      "41\n",
      "42\n",
      "43\n",
      "44\n",
      "45\n",
      "46\n",
      "47\n",
      "48\n",
      "49\n",
      "50\n",
      "51\n",
      "52\n",
      "53\n",
      "54\n",
      "55\n",
      "56\n",
      "57\n",
      "58\n",
      "59\n",
      "60\n",
      "61\n",
      "62\n",
      "63\n",
      "64\n",
      "65\n",
      "66\n",
      "67\n",
      "68\n",
      "69\n",
      "70\n",
      "71\n",
      "72\n",
      "73\n",
      "74\n",
      "75\n",
      "76\n",
      "77\n",
      "78\n",
      "79\n",
      "80\n",
      "81\n",
      "82\n",
      "83\n",
      "84\n",
      "85\n",
      "86\n",
      "87\n",
      "88\n",
      "89\n",
      "90\n",
      "91\n",
      "92\n",
      "93\n",
      "94\n",
      "95\n",
      "96\n",
      "97\n",
      "98\n",
      "99\n"
     ]
    }
   ],
   "source": [
    "for i in range(100):\n",
    "    if i == 0:\n",
    "        parm = simulation(0.1,0,init=True)\n",
    "    \n",
    "        y_m = parm[0]\n",
    "        output_list[i] = y_m\n",
    "        pi_m = parm[1]\n",
    "        inflation_list[i] = pi_m\n",
    "        v_m = parm[2]\n",
    "        s_m = parm[3]\n",
    "    \n",
    "    else:\n",
    "        parm = simulation(0.1,0,init=False)\n",
    "    \n",
    "        y_m = parm[0]\n",
    "        output_list[i] = y_m\n",
    "        pi_m = parm[1]\n",
    "        inflation_list[i] = pi_m\n",
    "        v_m = parm[2]\n",
    "        s_m = parm[3]\n",
    "    "
   ]
  },
  {
   "cell_type": "code",
   "execution_count": 269,
   "metadata": {},
   "outputs": [
    {
     "data": {
      "image/png": "[encoded data removed]",
      "text/latex": [
       "$$0.0018310546875$$"
      ],
      "text/plain": [
       "0.0018310546875"
      ]
     },
     "execution_count": 269,
     "metadata": {},
     "output_type": "execute_result"
    }
   ],
   "source": [
    "equili_pi_ar(0,0.0244140625,0,0,0)"
   ]
  },
  {
   "cell_type": "code",
   "execution_count": null,
   "metadata": {},
   "outputs": [],
   "source": [
    "def simulation(xt, ct, v_m=0, s_m=0, init = True) :\n",
    "    \n",
    "    pi_m = 0\n",
    "    yn = 0\n",
    "    y_m = 0\n",
    "    delta = pms['delta']       \n",
    "    if init:\n",
    "           \n",
    "        y = equili_output_ar(v_m,pi_m,s_m,y_m,ct,xt)\n",
    "        yn = y\n",
    "        p = equili_pi_ar(y_m,yn,pi_m,s_m,ct)\n",
    "        pi_m = p\n",
    "        y_m = y\n",
    "        v_m = delta * v_m + xt\n",
    "        s_m = omega * s_m + ct       \n",
    "        \n",
    "    else:\n",
    "        y = equili_output_ar(v_m,pi_m,s_m,y_m,ct,xt)\n",
    "        yn = y\n",
    "        p = equili_pi_ar(y_m,yn,pi_m,s_m,ct)\n",
    "        pi_m = p\n",
    "        y_m = y\n",
    "        v_m = delta * v_m + xt\n",
    "        s_m = omega * s_m + ct\n",
    "    \n",
    "    return y, p, v_m, sm"
   ]
  }
 ],
 "metadata": {
  "kernelspec": {
   "display_name": "Python 3",
   "language": "python",
   "name": "python3"
  },
  "language_info": {
   "codemirror_mode": {
    "name": "ipython",
    "version": 3
   },
   "file_extension": ".py",
   "mimetype": "text/x-python",
   "name": "python",
   "nbconvert_exporter": "python",
   "pygments_lexer": "ipython3",
   "version": "3.7.1"
  }
 },
 "nbformat": 4,
 "nbformat_minor": 2
}
