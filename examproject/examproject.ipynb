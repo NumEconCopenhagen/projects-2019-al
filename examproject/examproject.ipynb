{
 "cells": [
  {
   "cell_type": "markdown",
   "metadata": {},
   "source": [
    "# 1. Human Capital Accumulation :"
   ]
  },
  {
   "cell_type": "code",
   "execution_count": 1,
   "metadata": {},
   "outputs": [],
   "source": [
    "#import package\n",
    "import random \n",
    "import sympy as sm\n",
    "import numpy as np\n",
    "import matplotlib.pyplot as plt\n",
    "import ipywidgets as widgets\n",
    "from scipy import optimize\n",
    "import pandas as pd\n",
    "\n",
    "#setting nice printing and seed\n",
    "sm.init_printing(use_unicode=True)\n",
    "np.random.seed(1)\n"
   ]
  },
  {
   "cell_type": "code",
   "execution_count": 66,
   "metadata": {},
   "outputs": [],
   "source": [
    "#Initialize symbols\n",
    "rho = sm.symbols('rho')\n",
    "beta = sm.symbols('beta')\n",
    "gamma = sm.symbols('gamma')\n",
    "w = sm.symbols('w')\n",
    "b = sm.symbols('b')\n",
    "delta = sm.symbols('Delta')\n",
    "h1 = sm.symbols('h_1')\n",
    "h2 = sm.symbols('h_2')\n",
    "c1 = sm.symbols('c1')\n",
    "c2 = sm.symbols('c2')\n",
    "l1 = sm.symbols('l1')\n",
    "l2 = sm.symbols('l2')\n",
    "exp = sm.symbols('E[v_2(h_2)]')\n",
    "u = sm.symbols(\"u\")"
   ]
  },
  {
   "cell_type": "markdown",
   "metadata": {},
   "source": [
    "**Question 1**"
   ]
  },
  {
   "cell_type": "markdown",
   "metadata": {},
   "source": [
    "To solve the model for period 2, firstly we have to define the human capital, budget constraint and utility function :"
   ]
  },
  {
   "cell_type": "code",
   "execution_count": 67,
   "metadata": {},
   "outputs": [
    {
     "data": {
      "image/png": "[encoded data removed]",
      "text/latex": [
       "$$\\frac{c_{2}^{- \\rho + 1}}{- \\rho + 1} - \\gamma l_{2}$$"
      ],
      "text/plain": [
       "  -ρ + 1       \n",
       "c₂             \n",
       "──────── - γ⋅l₂\n",
       " -ρ + 1        "
      ]
     },
     "execution_count": 67,
     "metadata": {},
     "output_type": "execute_result"
    }
   ],
   "source": [
    "#define the human capital and budget constraint equation\n",
    "h2_f = (h1 + l1)\n",
    "c2_f = w*h2*l2\n",
    "\n",
    "#define the utility\n",
    "u2 = (c2**(1-rho))/(1-rho)\n",
    "\n",
    "#define the desutility\n",
    "dis_u2 = gamma*l2\n",
    "\n",
    "#defin the total utility\n",
    "total_u2 = u2 - dis_u2\n",
    "total_u2"
   ]
  },
  {
   "cell_type": "markdown",
   "metadata": {},
   "source": [
    "The insert the budget constraint in the utility function"
   ]
  },
  {
   "cell_type": "code",
   "execution_count": 68,
   "metadata": {},
   "outputs": [
    {
     "data": {
      "image/png": "[encoded data removed]",
      "text/latex": [
       "$$- \\gamma l_{2} + \\frac{\\left(h_{2} l_{2} w\\right)^{- \\rho + 1}}{- \\rho + 1}$$"
      ],
      "text/plain": [
       "                 -ρ + 1\n",
       "        (h₂⋅l₂⋅w)      \n",
       "-γ⋅l₂ + ───────────────\n",
       "             -ρ + 1    "
      ]
     },
     "execution_count": 68,
     "metadata": {},
     "output_type": "execute_result"
    }
   ],
   "source": [
    "#substitute c2 by the budget constraint\n",
    "total_u2_sub2 = total_u2.subs(c2,c2_f)\n",
    "\n",
    "#foc2 = sm.diff(total_u2_sub2,l2)\n",
    "#foc2\n",
    "total_u2_sub2"
   ]
  },
  {
   "cell_type": "code",
   "execution_count": 69,
   "metadata": {},
   "outputs": [
    {
     "data": {
      "image/png": "[encoded data removed]",
      "text/latex": [
       "$$\\frac{\\left(- \\gamma l_{2} \\rho + \\gamma l_{2} - \\rho u + u\\right)^{- \\frac{1}{\\rho - 1}}}{l_{2} w}$$"
      ],
      "text/plain": [
       "                           -1  \n",
       "                          ─────\n",
       "                          ρ - 1\n",
       "(-γ⋅l₂⋅ρ + γ⋅l₂ - ρ⋅u + u)     \n",
       "───────────────────────────────\n",
       "              l₂⋅w             "
      ]
     },
     "execution_count": 69,
     "metadata": {},
     "output_type": "execute_result"
    }
   ],
   "source": [
    "#\n",
    "h2_sol = sm.solve(sm.Eq(total_u2_sub2,u),h2)[0]\n",
    "h2_sol"
   ]
  },
  {
   "cell_type": "markdown",
   "metadata": {},
   "source": [
    "Now we create three functions from these equations which will return the utility of work, of leisure (not work) and the human capital utility."
   ]
  },
  {
   "cell_type": "code",
   "execution_count": 70,
   "metadata": {},
   "outputs": [],
   "source": [
    "#define the utility of working function\n",
    "def utility_work(h2,l2,w,rho,gamma, b):\n",
    "    \"\"\"\n",
    "    This function take five arguments, the human capital, wether the agent works or not, and three parameters. It returns\n",
    "    \n",
    "        args :  h2 (float) : accumulate capital in period 2\n",
    "                l2 (float) : 0 or 1 wether the agent works or not\n",
    "                w (float) : wage rate\n",
    "                rho (float) : \n",
    "                gamma (float) : parameter from the desutility from working\n",
    "                b (float) : benefits\n",
    "        \n",
    "        return (float) : The utility level get with these parameters    \n",
    "    \"\"\"\n",
    "    solution = (((h2*l2*w)**(1-rho))/(1-rho))-gamma*l2\n",
    "    return solution\n",
    "\n",
    "#define the utility of not working function\n",
    "def utility_notwork(benefits,rho,gamma,l2):\n",
    "    b = ((benefits**(1-rho))/(1-rho))-gamma*l2\n",
    "    return b\n",
    "\n",
    "def hum_cap_u(l2,gamma,b,w,rho):\n",
    "    # i use h2_sol but replace u with the \"cutoff\"-value, that is the value of unemployment benefits\n",
    "    nw_u = utility_notwork(b,rho,gamma,0)\n",
    "    hum_cap = ((-gamma*l2*rho+gamma*l2-rho*nw_u+nw_u)**-(1/(rho-1)))/(l2*w)   \n",
    "    return hum_cap"
   ]
  },
  {
   "cell_type": "code",
   "execution_count": 71,
   "metadata": {},
   "outputs": [],
   "source": [
    "rho = 2\n",
    "beta = 0.96\n",
    "gamma = 0.1\n",
    "w = 2\n",
    "b = 1\n",
    "delta = 0.1"
   ]
  },
  {
   "cell_type": "code",
   "execution_count": 72,
   "metadata": {},
   "outputs": [
    {
     "data": {
      "image/png": "[encoded data removed]",
      "text/latex": [
       "$$0.5555555555555556$$"
      ],
      "text/plain": [
       "0.5555555555555556"
      ]
     },
     "execution_count": 72,
     "metadata": {},
     "output_type": "execute_result"
    }
   ],
   "source": [
    "#I calculatet the humam capital given b\n",
    "hum_cap_u(1,gamma,b,w,rho)"
   ]
  },
  {
   "cell_type": "code",
   "execution_count": 73,
   "metadata": {},
   "outputs": [],
   "source": [
    "def plot_func(h2,w,rho,gamma,b):\n",
    "    \n",
    "    work = utility_work(h2,1,w,rho,gamma)\n",
    "    not_work = utility_notwork(b,rho,gamma,0)\n",
    "    cutoff = hum_cap_u(1,gamma,b,w,rho)\n",
    "    \n",
    "    plt.plot(h2,work,label = \"Utility of working\")\n",
    "    plt.plot(h2,not_work,color=\"red\",label=\"Utility of not working\")\n",
    "    plt.legend()\n",
    "    \n",
    "    plt.xlabel(\"Human capital\")\n",
    "    plt.ylabel(\"Utility\")\n",
    "\n",
    "    plt.show\n",
    "    \n",
    "    print(\"The worker will supply labour only if human capital is above\",round(cutoff[0],2),\".\")\n",
    "    return "
   ]
  },
  {
   "cell_type": "code",
   "execution_count": 74,
   "metadata": {},
   "outputs": [
    {
     "ename": "TypeError",
     "evalue": "utility_work() missing 1 required positional argument: 'b'",
     "output_type": "error",
     "traceback": [
      "\u001b[1;31m---------------------------------------------------------------------------\u001b[0m",
      "\u001b[1;31mTypeError\u001b[0m                                 Traceback (most recent call last)",
      "\u001b[1;32m<ipython-input-74-455eaf976a06>\u001b[0m in \u001b[0;36m<module>\u001b[1;34m\u001b[0m\n\u001b[0;32m      1\u001b[0m \u001b[0mh_vec\u001b[0m \u001b[1;33m=\u001b[0m \u001b[0mnp\u001b[0m\u001b[1;33m.\u001b[0m\u001b[0mlinspace\u001b[0m\u001b[1;33m(\u001b[0m\u001b[1;36m0.1\u001b[0m\u001b[1;33m,\u001b[0m\u001b[1;36m1.5\u001b[0m\u001b[1;33m,\u001b[0m\u001b[1;36m100\u001b[0m\u001b[1;33m)\u001b[0m\u001b[1;33m\u001b[0m\u001b[1;33m\u001b[0m\u001b[0m\n\u001b[0;32m      2\u001b[0m \u001b[0mb_vec\u001b[0m \u001b[1;33m=\u001b[0m \u001b[0mnp\u001b[0m\u001b[1;33m.\u001b[0m\u001b[0mlinspace\u001b[0m\u001b[1;33m(\u001b[0m\u001b[1;36m1\u001b[0m\u001b[1;33m,\u001b[0m\u001b[1;36m1\u001b[0m\u001b[1;33m,\u001b[0m\u001b[1;36m100\u001b[0m\u001b[1;33m)\u001b[0m\u001b[1;33m\u001b[0m\u001b[1;33m\u001b[0m\u001b[0m\n\u001b[1;32m----> 3\u001b[1;33m \u001b[0mplot_func\u001b[0m\u001b[1;33m(\u001b[0m\u001b[0mh_vec\u001b[0m\u001b[1;33m,\u001b[0m\u001b[0mw\u001b[0m\u001b[1;33m,\u001b[0m\u001b[0mrho\u001b[0m\u001b[1;33m,\u001b[0m\u001b[0mgamma\u001b[0m\u001b[1;33m,\u001b[0m\u001b[0mb_vec\u001b[0m\u001b[1;33m)\u001b[0m\u001b[1;33m\u001b[0m\u001b[1;33m\u001b[0m\u001b[0m\n\u001b[0m",
      "\u001b[1;32m<ipython-input-73-e6707fe0d83b>\u001b[0m in \u001b[0;36mplot_func\u001b[1;34m(h2, w, rho, gamma, b)\u001b[0m\n\u001b[0;32m      1\u001b[0m \u001b[1;32mdef\u001b[0m \u001b[0mplot_func\u001b[0m\u001b[1;33m(\u001b[0m\u001b[0mh2\u001b[0m\u001b[1;33m,\u001b[0m\u001b[0mw\u001b[0m\u001b[1;33m,\u001b[0m\u001b[0mrho\u001b[0m\u001b[1;33m,\u001b[0m\u001b[0mgamma\u001b[0m\u001b[1;33m,\u001b[0m\u001b[0mb\u001b[0m\u001b[1;33m)\u001b[0m\u001b[1;33m:\u001b[0m\u001b[1;33m\u001b[0m\u001b[1;33m\u001b[0m\u001b[0m\n\u001b[0;32m      2\u001b[0m \u001b[1;33m\u001b[0m\u001b[0m\n\u001b[1;32m----> 3\u001b[1;33m     \u001b[0mwork\u001b[0m \u001b[1;33m=\u001b[0m \u001b[0mutility_work\u001b[0m\u001b[1;33m(\u001b[0m\u001b[0mh2\u001b[0m\u001b[1;33m,\u001b[0m\u001b[1;36m1\u001b[0m\u001b[1;33m,\u001b[0m\u001b[0mw\u001b[0m\u001b[1;33m,\u001b[0m\u001b[0mrho\u001b[0m\u001b[1;33m,\u001b[0m\u001b[0mgamma\u001b[0m\u001b[1;33m)\u001b[0m\u001b[1;33m\u001b[0m\u001b[1;33m\u001b[0m\u001b[0m\n\u001b[0m\u001b[0;32m      4\u001b[0m     \u001b[0mnot_work\u001b[0m \u001b[1;33m=\u001b[0m \u001b[0mutility_notwork\u001b[0m\u001b[1;33m(\u001b[0m\u001b[0mb\u001b[0m\u001b[1;33m,\u001b[0m\u001b[0mrho\u001b[0m\u001b[1;33m,\u001b[0m\u001b[0mgamma\u001b[0m\u001b[1;33m,\u001b[0m\u001b[1;36m0\u001b[0m\u001b[1;33m)\u001b[0m\u001b[1;33m\u001b[0m\u001b[1;33m\u001b[0m\u001b[0m\n\u001b[0;32m      5\u001b[0m     \u001b[0mcutoff\u001b[0m \u001b[1;33m=\u001b[0m \u001b[0mhum_cap_u\u001b[0m\u001b[1;33m(\u001b[0m\u001b[1;36m1\u001b[0m\u001b[1;33m,\u001b[0m\u001b[0mgamma\u001b[0m\u001b[1;33m,\u001b[0m\u001b[0mb\u001b[0m\u001b[1;33m,\u001b[0m\u001b[0mw\u001b[0m\u001b[1;33m,\u001b[0m\u001b[0mrho\u001b[0m\u001b[1;33m)\u001b[0m\u001b[1;33m\u001b[0m\u001b[1;33m\u001b[0m\u001b[0m\n",
      "\u001b[1;31mTypeError\u001b[0m: utility_work() missing 1 required positional argument: 'b'"
     ]
    }
   ],
   "source": [
    "h_vec = np.linspace(0.1,1.5,100) \n",
    "b_vec = np.linspace(1,1,100)\n",
    "plot_func(h_vec,w,rho,gamma,b_vec)"
   ]
  },
  {
   "cell_type": "code",
   "execution_count": 75,
   "metadata": {},
   "outputs": [
    {
     "name": "stdout",
     "output_type": "stream",
     "text": [
      "0.56 human capital\n"
     ]
    }
   ],
   "source": [
    "#Another way of showing this is using a binary plot. This requires us to define \n",
    "#each level om human capital as either a capital where the worker provies labour\n",
    "# or a level where she does not - the cutoff is as shown before\n",
    "cutoff = hum_cap_u(1,gamma,b,w,rho)\n",
    "print(round(cutoff,2),\"human capital\")"
   ]
  },
  {
   "cell_type": "code",
   "execution_count": 76,
   "metadata": {},
   "outputs": [],
   "source": [
    "#We define a list\n",
    "willwork = list(range(100))\n",
    "\n",
    "#And fill it with either success (1) if the human capital i above the cutoff or\n",
    "#or falier (0) if it is on the cutoff or below \n",
    "for i in range(len(h_vec)): \n",
    "    if h_vec[i] > cutoff : \n",
    "        willwork[i] = 1\n",
    "    else : \n",
    "        willwork[i] = 0"
   ]
  },
  {
   "cell_type": "code",
   "execution_count": 77,
   "metadata": {},
   "outputs": [
    {
     "data": {
      "text/plain": [
       "<function matplotlib.pyplot.show(*args, **kw)>"
      ]
     },
     "execution_count": 77,
     "metadata": {},
     "output_type": "execute_result"
    },
    {
     "data": {
      "image/png": "[encoded data removed]",
      "text/plain": [
       "<Figure size 432x288 with 1 Axes>"
      ]
     },
     "metadata": {
      "needs_background": "light"
     },
     "output_type": "display_data"
    }
   ],
   "source": [
    "#plot the cutoff\n",
    "cutoff_vec = np.linspace(cutoff,cutoff,100)\n",
    "plt.plot(h_vec,willwork)\n",
    "plt.plot(cutoff_vec,willwork,linestyle=\"dashed\",color=\"red\",label=(\"Cutoff human capital level\"))\n",
    "plt.legend()\n",
    "plt.xlabel(\"Human capital\")\n",
    "plt.ylabel(\"Labour supply\")\n",
    "\n",
    "plt.show"
   ]
  },
  {
   "cell_type": "code",
   "execution_count": 78,
   "metadata": {},
   "outputs": [],
   "source": [
    "#the labour supply as a function of human captal is then:\n",
    "def labour_supply(hum_cap,w,rho,gamma,b):\n",
    "    cutoff = hum_cap_u(1,gamma,b,w,rho)\n",
    "    \n",
    "    if hum_cap > cutoff :\n",
    "        print(\"with a human capital level of\",hum_cap,\"the worker wil supply 1 labour (l = 1)\")\n",
    "        l = 1\n",
    "    else :\n",
    "        print(\"with a human capital level of\",hum_cap,\"the worker will supply 0 labour (l=0)\")\n",
    "        l = 0\n",
    "    return l"
   ]
  },
  {
   "cell_type": "code",
   "execution_count": 79,
   "metadata": {},
   "outputs": [
    {
     "name": "stdout",
     "output_type": "stream",
     "text": [
      "with a human capital level of 0.1 the worker will supply 0 labour (l=0)\n"
     ]
    },
    {
     "data": {
      "image/png": "[encoded data removed]",
      "text/latex": [
       "$$0$$"
      ],
      "text/plain": [
       "0"
      ]
     },
     "metadata": {},
     "output_type": "display_data"
    },
    {
     "data": {
      "text/plain": [
       "<function __main__.labour_supply(hum_cap, w, rho, gamma, b)>"
      ]
     },
     "execution_count": 79,
     "metadata": {},
     "output_type": "execute_result"
    }
   ],
   "source": [
    "human_capital = widgets.FloatSlider(min=0.1,max=1.5,value=0.1,step=0.01)\n",
    "widgets.interact(labour_supply,hum_cap=human_capital,w=widgets.fixed(w),rho=widgets.fixed(rho),gamma=widgets.fixed(gamma),b=widgets.fixed(b))"
   ]
  },
  {
   "cell_type": "code",
   "execution_count": null,
   "metadata": {},
   "outputs": [],
   "source": []
  },
  {
   "cell_type": "markdown",
   "metadata": {},
   "source": [
    "# 2. AS-AD Model :"
   ]
  },
  {
   "cell_type": "code",
   "execution_count": 80,
   "metadata": {},
   "outputs": [],
   "source": [
    "import numpy as np\n",
    "import sympy as sm\n",
    "import matplotlib.pyplot as plt\n",
    "sm.init_printing(use_unicode=True)"
   ]
  },
  {
   "cell_type": "code",
   "execution_count": 81,
   "metadata": {},
   "outputs": [],
   "source": [
    "#Initialize the symbols\n",
    "alpha = sm.symbols('alpha')\n",
    "b = sm.symbols('b')\n",
    "gamma = sm.symbols('gamma')\n",
    "h = sm.symbols('h')\n",
    "phi = sm.symbols('phi')\n",
    "yt = sm.symbols('y_t')\n",
    "pit = sm.symbols('pi_t')\n",
    "pit_m1=sm.symbols('pi_t-1')\n",
    "yt_m1 = sm.symbols('y_t-1')\n",
    "vt = sm.symbols('v_t')\n",
    "st = sm.symbols('s_t')\n",
    "st_m1 = sm.symbols('s_t-1')\n",
    "rt = sm.symbols('r_t')\n",
    "it = sm.symbols('i_t')\n",
    "exp_pit = sm.symbols('E[pi_t]')\n",
    "exp_pit_p1 = sm.symbols('E[pi_t+1]')"
   ]
  },
  {
   "cell_type": "markdown",
   "metadata": {},
   "source": [
    "**Question 1**"
   ]
  },
  {
   "cell_type": "markdown",
   "metadata": {},
   "source": [
    "Now that we have the symbols let's write the SRAS curve with them :"
   ]
  },
  {
   "cell_type": "code",
   "execution_count": 82,
   "metadata": {},
   "outputs": [
    {
     "data": {
      "image/png": "[encoded data removed]",
      "text/latex": [
       "$$- \\gamma \\phi y_{t-1} + \\gamma y_{t} - \\phi s_{t-1} + \\pi_{t-1} + s_{t}$$"
      ],
      "text/plain": [
       "-γ⋅φ⋅yₜ₋₁ + γ⋅yₜ - φ⋅sₜ₋₁ + πₜ₋₁ + sₜ"
      ]
     },
     "execution_count": 82,
     "metadata": {},
     "output_type": "execute_result"
    }
   ],
   "source": [
    "#Write the SRAS base equation\n",
    "SRAS_pit=pit_m1-phi*gamma*yt_m1+st-phi*st_m1+gamma*yt\n",
    "SRAS_pit"
   ]
  },
  {
   "cell_type": "markdown",
   "metadata": {},
   "source": [
    "We do the same with the AD curve :"
   ]
  },
  {
   "cell_type": "code",
   "execution_count": 83,
   "metadata": {},
   "outputs": [
    {
     "data": {
      "image/png": "[encoded data removed]",
      "text/latex": [
       "$$\\frac{v_{t} - y_{t} \\left(\\alpha b + 1\\right)}{\\alpha h}$$"
      ],
      "text/plain": [
       "vₜ - yₜ⋅(α⋅b + 1)\n",
       "─────────────────\n",
       "       α⋅h       "
      ]
     },
     "execution_count": 83,
     "metadata": {},
     "output_type": "execute_result"
    }
   ],
   "source": [
    "#Write the AD base equation\n",
    "AD_pit=(1/(h*alpha))*(vt-(1+b*alpha)*yt)\n",
    "AD_pit"
   ]
  },
  {
   "cell_type": "markdown",
   "metadata": {},
   "source": [
    "Now we will equalize SRAS and AD to find the equilibrium values. To do that we substract one to the other (which is the same as equilized):"
   ]
  },
  {
   "cell_type": "code",
   "execution_count": 84,
   "metadata": {},
   "outputs": [
    {
     "data": {
      "image/png": "[encoded data removed]",
      "text/latex": [
       "$$- \\gamma \\phi y_{t-1} + \\gamma y_{t} - \\phi s_{t-1} + \\pi_{t-1} + s_{t} - \\frac{v_{t} - y_{t} \\left(\\alpha b + 1\\right)}{\\alpha h}$$"
      ],
      "text/plain": [
       "                                        vₜ - yₜ⋅(α⋅b + 1)\n",
       "-γ⋅φ⋅yₜ₋₁ + γ⋅yₜ - φ⋅sₜ₋₁ + πₜ₋₁ + sₜ - ─────────────────\n",
       "                                               α⋅h       "
      ]
     },
     "execution_count": 84,
     "metadata": {},
     "output_type": "execute_result"
    }
   ],
   "source": [
    "#SRAS equation minus the AD equation\n",
    "AS_minus_AD= SRAS_pit-AD_pit\n",
    "AS_minus_AD"
   ]
  },
  {
   "cell_type": "markdown",
   "metadata": {},
   "source": [
    "We solve this equation for $y_t$ :"
   ]
  },
  {
   "cell_type": "code",
   "execution_count": 85,
   "metadata": {},
   "outputs": [
    {
     "data": {
      "image/png": "[encoded data removed]",
      "text/latex": [
       "$$\\frac{\\alpha \\gamma h \\phi y_{t-1} + \\alpha h \\phi s_{t-1} - \\alpha h \\pi_{t-1} - \\alpha h s_{t} + v_{t}}{\\alpha b + \\alpha \\gamma h + 1}$$"
      ],
      "text/plain": [
       "α⋅γ⋅h⋅φ⋅yₜ₋₁ + α⋅h⋅φ⋅sₜ₋₁ - α⋅h⋅πₜ₋₁ - α⋅h⋅sₜ + vₜ\n",
       "──────────────────────────────────────────────────\n",
       "                 α⋅b + α⋅γ⋅h + 1                  "
      ]
     },
     "execution_count": 85,
     "metadata": {},
     "output_type": "execute_result"
    }
   ],
   "source": [
    "#Solve the equation for yt\n",
    "eq_y = sm.solve(sm.Eq(AS_minus_AD,0),yt)\n",
    "eq_y[0]"
   ]
  },
  {
   "cell_type": "markdown",
   "metadata": {},
   "source": [
    "We get the equation of the equilibrium output $y_t$ which depend on $\\alpha , \\phi ,\\gamma , h, b, \\pi_{t-1} ,s_{t-1} ,y_{t-1} ,v_t$ and $s_t $."
   ]
  },
  {
   "cell_type": "markdown",
   "metadata": {},
   "source": [
    "Now that we have the equilibrium equation of the output, let's insert it in the SRAS curve :"
   ]
  },
  {
   "cell_type": "code",
   "execution_count": 86,
   "metadata": {},
   "outputs": [
    {
     "data": {
      "image/png": "[encoded data removed]",
      "text/latex": [
       "$$- \\gamma \\phi y_{t-1} + \\frac{\\gamma \\left(\\alpha \\gamma h \\phi y_{t-1} + \\alpha h \\phi s_{t-1} - \\alpha h \\pi_{t-1} - \\alpha h s_{t} + v_{t}\\right)}{\\alpha b + \\alpha \\gamma h + 1} - \\phi s_{t-1} + \\pi_{t-1} + s_{t}$$"
      ],
      "text/plain": [
       "            γ⋅(α⋅γ⋅h⋅φ⋅yₜ₋₁ + α⋅h⋅φ⋅sₜ₋₁ - α⋅h⋅πₜ₋₁ - α⋅h⋅sₜ + vₜ)            \n",
       "-γ⋅φ⋅yₜ₋₁ + ────────────────────────────────────────────────────── - φ⋅sₜ₋₁ + \n",
       "                               α⋅b + α⋅γ⋅h + 1                                \n",
       "\n",
       "         \n",
       "πₜ₋₁ + sₜ\n",
       "         "
      ]
     },
     "execution_count": 86,
     "metadata": {},
     "output_type": "execute_result"
    }
   ],
   "source": [
    "#Substitute the new output equation to replace yt\n",
    "eq_pi= SRAS_pit.subs(yt,eq_y[0])\n",
    "eq_pi"
   ]
  },
  {
   "cell_type": "markdown",
   "metadata": {},
   "source": [
    "We obtain the equation of the equilibrium inflation which depend on $\\gamma ,\\phi , s_t ,\\pi_{t-1} ,y_{t-1}$ and $s_{t-1}$"
   ]
  },
  {
   "cell_type": "markdown",
   "metadata": {},
   "source": [
    "**Question 2**"
   ]
  },
  {
   "cell_type": "markdown",
   "metadata": {},
   "source": [
    "We want to find the output and inflation for the equilibrium and see the evolution when there is a demand disturbance.\n",
    "To do that we will create a dictonnary for the parameters of this question, and create two functions for the output and inflation from the equation find previously. We will use these functions to get the output and inflation level at the equilibrium and after a shock and plot the results."
   ]
  },
  {
   "cell_type": "markdown",
   "metadata": {},
   "source": [
    "First of all we create a dictionary to enter the value of our parameters ($\\alpha$, $h$, $b$, $\\phi$, $\\gamma$) :"
   ]
  },
  {
   "cell_type": "code",
   "execution_count": 87,
   "metadata": {},
   "outputs": [],
   "source": [
    "#initialization of the dicitonary\n",
    "pms = {}\n",
    "\n",
    "#enter the parameters and their value\n",
    "pms['alpha']=5.76\n",
    "pms['h'] = 0.5\n",
    "pms['b'] = 0.5\n",
    "pms['phi'] = 0\n",
    "pms['gamma'] = 0.075"
   ]
  },
  {
   "cell_type": "markdown",
   "metadata": {},
   "source": [
    "From the equation of the output find in the question one ( \"eq_y\" ), we create a function by using the lambdify."
   ]
  },
  {
   "cell_type": "code",
   "execution_count": 88,
   "metadata": {},
   "outputs": [],
   "source": [
    "#Our eq_y is a list, therefore we need to consider only the first element of it to use the lambdify function.\n",
    "equil_output= sm.lambdify((vt, st, pit_m1, st_m1, yt_m1, alpha, h, b, phi, gamma),eq_y[0])\n",
    "\n",
    "#define the function\n",
    "def equili_output (vt, st, pit_m1, st_m1, yt_m1, alpha=pms['alpha'], h=pms['h'], b=pms['b'], phi=pms['phi'], gamma=pms['gamma']):\n",
    "    \"\"\"\n",
    "    This function take five parameters plus five others which are by default define in the dictionary called \"pms\" and\n",
    "    return the output of the economy.\n",
    "    \n",
    "        args :  vt (float) : the demand disturbance in period t\n",
    "                st (float) : the supply disturbance in period t\n",
    "                pit_m1 (float) : the inflation in period t-1\n",
    "                st_m1 (float) : the supply disturbance in period t-1\n",
    "                yt_m1 (float) : the output in period t-1\n",
    "        \n",
    "        return (float) : The output yt of the economy for the period t.\n",
    "    \n",
    "    \"\"\"\n",
    "    return equil_output (vt, st, pit_m1, st_m1, yt_m1, alpha, h, b, phi, gamma)"
   ]
  },
  {
   "cell_type": "markdown",
   "metadata": {},
   "source": [
    "Now let's enter values of the variables at the equilibrium, which means $v_t = s_t = \\pi_{t-1} = s_{t-1} = y_{t-1} = 0$ :"
   ]
  },
  {
   "cell_type": "code",
   "execution_count": 89,
   "metadata": {},
   "outputs": [
    {
     "data": {
      "image/png": "[encoded data removed]",
      "text/latex": [
       "$$0.0$$"
      ],
      "text/plain": [
       "0.0"
      ]
     },
     "execution_count": 89,
     "metadata": {},
     "output_type": "execute_result"
    }
   ],
   "source": [
    "equili_output(0,0,0,0,0)"
   ]
  },
  {
   "cell_type": "markdown",
   "metadata": {},
   "source": [
    "The output is zero ($y_t = 0$) which makes sense given that all the other variables are equal to 0."
   ]
  },
  {
   "cell_type": "markdown",
   "metadata": {},
   "source": [
    "Now let's what would be the impact of a positive demand disturbance on the production. For that let's just set $v_t = 0.1$ instead of 0 :"
   ]
  },
  {
   "cell_type": "code",
   "execution_count": 90,
   "metadata": {},
   "outputs": [
    {
     "data": {
      "image/png": "[encoded data removed]",
      "text/latex": [
       "$$0.0244140625$$"
      ],
      "text/plain": [
       "0.0244140625"
      ]
     },
     "execution_count": 90,
     "metadata": {},
     "output_type": "execute_result"
    }
   ],
   "source": [
    "equili_output(0.1,0,0,0,0)"
   ]
  },
  {
   "cell_type": "markdown",
   "metadata": {},
   "source": [
    "When there is a positive disturbance of the demand $v_t$ we can observe an increase in the output. Indeed an increase in demande will stimulate the economy, the supply will adapt to the demand, increase as well, leading to more production."
   ]
  },
  {
   "cell_type": "markdown",
   "metadata": {},
   "source": [
    "Now let's see the impact of the demand disturbance on the **inflation** :"
   ]
  },
  {
   "cell_type": "markdown",
   "metadata": {},
   "source": [
    "As before we use the inflation equation find in question one ( \"eq_pi\" ) to create a function."
   ]
  },
  {
   "cell_type": "code",
   "execution_count": 91,
   "metadata": {},
   "outputs": [],
   "source": [
    "#use lambdify on the inflation equation eq_pi\n",
    "equil_pi= sm.lambdify((st, yt, pit_m1, st_m1, yt_m1, gamma, phi),SRAS_pit)\n",
    "\n",
    "#define the function\n",
    "def equili_pi (st, yt, pit_m1, st_m1, yt_m1, gamma=pms['gamma'], phi=pms['phi']):\n",
    "    \"\"\"\n",
    "    This function take five parameters plus two others which are by default define in the dictionary called \"pms\" and\n",
    "    return the inflation of the economy.\n",
    "    \n",
    "        args :  st (float) : the supply disturbance in period t\n",
    "                yt (float) : the output in period t\n",
    "                pit_m1 (float) : the inflation in period t-1\n",
    "                st_m1 (float) : the supply disturbance in period t-1\n",
    "                yt_m1 (float) : the output in period t-1\n",
    "        \n",
    "        return (float) : The inflation pit of the economy for period t.\n",
    "    \n",
    "    \"\"\"\n",
    "    return equil_pi (st, yt, pit_m1, st_m1, yt_m1, gamma, phi)"
   ]
  },
  {
   "cell_type": "code",
   "execution_count": 92,
   "metadata": {},
   "outputs": [
    {
     "data": {
      "image/png": "[encoded data removed]",
      "text/latex": [
       "$$0.0$$"
      ],
      "text/plain": [
       "0.0"
      ]
     },
     "execution_count": 92,
     "metadata": {},
     "output_type": "execute_result"
    }
   ],
   "source": [
    "equili_pi(0,0,0,0,0)"
   ]
  },
  {
   "cell_type": "markdown",
   "metadata": {},
   "source": [
    "At the equilibrium, when $v_t = s_t = \\pi_{t-1} = s_{t-1} = y_{t-1} = 0$ the inflation is zero ($\\pi_t = 0$). \n",
    "Regarding the demand disturbance, it is not involve in the inflation equation, however its impact increased the output in period t. This increase in output will impact the inflation : "
   ]
  },
  {
   "cell_type": "code",
   "execution_count": 93,
   "metadata": {},
   "outputs": [
    {
     "data": {
      "image/png": "[encoded data removed]",
      "text/latex": [
       "$$0.0018310546875$$"
      ],
      "text/plain": [
       "0.0018310546875"
      ]
     },
     "execution_count": 93,
     "metadata": {},
     "output_type": "execute_result"
    }
   ],
   "source": [
    "equili_pi(0,0.0244140625,0,0,0)"
   ]
  },
  {
   "cell_type": "markdown",
   "metadata": {},
   "source": [
    "The positive disturbance on the demand also increase the inflation.\n",
    "We can summarize the effect of this disturbance as follow:\n",
    "   1. The positive choc on $v_t$ leads to a higher demand\n",
    "   2. The supply and the demand adjust on a higher production and therefor a higher output $y_t$\n",
    "   3. Finally a higher output lead to inflation, an increase in $\\pi_t$"
   ]
  },
  {
   "cell_type": "markdown",
   "metadata": {},
   "source": [
    "**Question 3**"
   ]
  },
  {
   "cell_type": "markdown",
   "metadata": {},
   "source": [
    "In this question we introduce a demand and a supply shock inside the demand and supply disturbance. Now these both variables became function of shocks and some parameters. "
   ]
  },
  {
   "cell_type": "markdown",
   "metadata": {},
   "source": [
    "In theses conditions we want to know how the economy will evolve, starting from the equilibrium, if there is a demand shock in the first period. To answer this question we will first adapt our model to the new definitions of $v_t$ and $s_t$."
   ]
  },
  {
   "cell_type": "markdown",
   "metadata": {},
   "source": [
    "Now the have two new parameters ($\\delta$, $\\omega$) and $v_t$ and $s_t$ which became function. We have to set up this new configuration:"
   ]
  },
  {
   "cell_type": "code",
   "execution_count": 94,
   "metadata": {},
   "outputs": [],
   "source": [
    "#add the new parameters into the dictionary\n",
    "pms[\"delta\"] = 0.80\n",
    "pms[\"omega\"] = 0.15\n",
    "\n",
    "\n",
    "#define the new symbols\n",
    "delta = sm.symbols(\"delta\")\n",
    "omega = sm.symbols(\"omega\")\n",
    "vt_m1 = sm.symbols(\"v_t-1\")\n",
    "xt = sm.symbols(\"x_t\")\n",
    "ct = sm.symbols(\"c_t\")\n",
    "\n",
    "\n",
    "################################################# I CHANGE OMEGA TO THE PARAMETER HERE, It HAS WORKED##########################\n",
    "#define the new vt and st equation\n",
    "vt_ar = delta*vt_m1 + xt\n",
    "st_ar = omega*st_m1 + ct"
   ]
  },
  {
   "cell_type": "markdown",
   "metadata": {},
   "source": [
    "To deal with these changes, we have to replace our $v_t$ in the output equation by the new one which is vt_ar :"
   ]
  },
  {
   "cell_type": "code",
   "execution_count": 95,
   "metadata": {},
   "outputs": [
    {
     "data": {
      "image/png": "[encoded data removed]",
      "text/latex": [
       "$$\\frac{\\alpha \\gamma h \\phi y_{t-1} + \\alpha h \\phi s_{t-1} - \\alpha h \\pi_{t-1} - \\alpha h s_{t} + v_{t}}{\\alpha b + \\alpha \\gamma h + 1}$$"
      ],
      "text/plain": [
       "α⋅γ⋅h⋅φ⋅yₜ₋₁ + α⋅h⋅φ⋅sₜ₋₁ - α⋅h⋅πₜ₋₁ - α⋅h⋅sₜ + vₜ\n",
       "──────────────────────────────────────────────────\n",
       "                 α⋅b + α⋅γ⋅h + 1                  "
      ]
     },
     "execution_count": 95,
     "metadata": {},
     "output_type": "execute_result"
    }
   ],
   "source": [
    "#The output equilibrium equation (our previous equation):\n",
    "eq_y[0]"
   ]
  },
  {
   "cell_type": "code",
   "execution_count": 96,
   "metadata": {},
   "outputs": [
    {
     "data": {
      "image/png": "[encoded data removed]",
      "text/latex": [
       "$$\\frac{\\alpha \\gamma h \\phi y_{t-1} + \\alpha h \\phi s_{t-1} - \\alpha h \\pi_{t-1} - \\alpha h s_{t} + \\delta v_{t-1} + x_{t}}{\\alpha b + \\alpha \\gamma h + 1}$$"
      ],
      "text/plain": [
       "α⋅γ⋅h⋅φ⋅yₜ₋₁ + α⋅h⋅φ⋅sₜ₋₁ - α⋅h⋅πₜ₋₁ - α⋅h⋅sₜ + δ⋅vₜ₋₁ + xₜ\n",
       "───────────────────────────────────────────────────────────\n",
       "                      α⋅b + α⋅γ⋅h + 1                      "
      ]
     },
     "execution_count": 96,
     "metadata": {},
     "output_type": "execute_result"
    }
   ],
   "source": [
    "#substitute vt by vt_ar\n",
    "eq_y_ar = eq_y[0].subs(vt,vt_ar)\n",
    "eq_y_ar"
   ]
  },
  {
   "cell_type": "code",
   "execution_count": 97,
   "metadata": {},
   "outputs": [
    {
     "data": {
      "image/png": "[encoded data removed]",
      "text/latex": [
       "$$\\frac{\\alpha \\gamma h \\phi y_{t-1} + \\alpha h \\phi s_{t-1} - \\alpha h \\pi_{t-1} - \\alpha h \\left(c_{t} + \\omega s_{t-1}\\right) + \\delta v_{t-1} + x_{t}}{\\alpha b + \\alpha \\gamma h + 1}$$"
      ],
      "text/plain": [
       "α⋅γ⋅h⋅φ⋅yₜ₋₁ + α⋅h⋅φ⋅sₜ₋₁ - α⋅h⋅πₜ₋₁ - α⋅h⋅(cₜ + ω⋅sₜ₋₁) + δ⋅vₜ₋₁ + xₜ\n",
       "──────────────────────────────────────────────────────────────────────\n",
       "                           α⋅b + α⋅γ⋅h + 1                            "
      ]
     },
     "execution_count": 97,
     "metadata": {},
     "output_type": "execute_result"
    }
   ],
   "source": [
    "#substitute st by st_ar\n",
    "eq_y_ar2 = eq_y_ar.subs(st, st_ar)\n",
    "eq_y_ar2"
   ]
  },
  {
   "cell_type": "markdown",
   "metadata": {},
   "source": [
    "We have to do the same in the SRAS equation, by replacing $s_t$ by st_ar:"
   ]
  },
  {
   "cell_type": "code",
   "execution_count": 98,
   "metadata": {},
   "outputs": [
    {
     "data": {
      "image/png": "[encoded data removed]",
      "text/latex": [
       "$$- \\gamma \\phi y_{t-1} + \\gamma y_{t} - \\phi s_{t-1} + \\pi_{t-1} + s_{t}$$"
      ],
      "text/plain": [
       "-γ⋅φ⋅yₜ₋₁ + γ⋅yₜ - φ⋅sₜ₋₁ + πₜ₋₁ + sₜ"
      ]
     },
     "execution_count": 98,
     "metadata": {},
     "output_type": "execute_result"
    }
   ],
   "source": [
    "#The SRAS equation (our previous equation):\n",
    "SRAS_pit"
   ]
  },
  {
   "cell_type": "code",
   "execution_count": 99,
   "metadata": {},
   "outputs": [
    {
     "data": {
      "image/png": "[encoded data removed]",
      "text/latex": [
       "$$c_{t} - \\gamma \\phi y_{t-1} + \\gamma y_{t} + \\omega s_{t-1} - \\phi s_{t-1} + \\pi_{t-1}$$"
      ],
      "text/plain": [
       "cₜ - γ⋅φ⋅yₜ₋₁ + γ⋅yₜ + ω⋅sₜ₋₁ - φ⋅sₜ₋₁ + πₜ₋₁"
      ]
     },
     "execution_count": 99,
     "metadata": {},
     "output_type": "execute_result"
    }
   ],
   "source": [
    "#substitute st by st_ar\n",
    "eq_pi_ar = SRAS_pit.subs(st,st_ar)\n",
    "eq_pi_ar"
   ]
  },
  {
   "cell_type": "code",
   "execution_count": null,
   "metadata": {},
   "outputs": [],
   "source": [
    "\n"
   ]
  },
  {
   "cell_type": "markdown",
   "metadata": {},
   "source": [
    "Now that we changed our equation, we also have to make these changes inside our previous functions :"
   ]
  },
  {
   "cell_type": "code",
   "execution_count": 100,
   "metadata": {},
   "outputs": [],
   "source": [
    "#create a new output function, with the new parameters\n",
    "#the issue is with st_m1\n",
    "equil_output2= sm.lambdify((vt_m1, pit_m1, st_m1, yt_m1, ct, xt, alpha, h, b, phi, gamma, delta),eq_y_ar2)\n",
    "def equili_output_ar (vt_m1, pit_m1, st_m1, yt_m1, ct, xt, alpha=pms['alpha'], h=pms['h'], b=pms['b'], phi=pms['phi'], gamma=pms['gamma'], delta=pms['delta']):\n",
    "    return equil_output2 (vt_m1, pit_m1, st_m1, yt_m1, ct, xt, alpha, h, b, phi, gamma, delta)"
   ]
  },
  {
   "cell_type": "code",
   "execution_count": 101,
   "metadata": {},
   "outputs": [
    {
     "data": {
      "image/png": "[encoded data removed]",
      "text/latex": [
       "$$-0.0703125$$"
      ],
      "text/plain": [
       "-0.0703125000000000"
      ]
     },
     "execution_count": 101,
     "metadata": {},
     "output_type": "execute_result"
    }
   ],
   "source": [
    "equili_output_ar(0,0,0,0,0.1,0)\n",
    "# as evident here:\n",
    "#equili_output_ar(0,1,0,0,0.1,0)\n"
   ]
  },
  {
   "cell_type": "code",
   "execution_count": 102,
   "metadata": {},
   "outputs": [],
   "source": [
    "#create a new inflation function, with the new parameters\n",
    "equil_piii= sm.lambdify((yt_m1, yt, pit_m1, st_m1, ct, omega, gamma, phi),eq_pi_ar)\n",
    "def equili_pi_ar (yt_m1, yt, pit_m1, st_m1, ct, omega=pms['omega'], gamma=pms['gamma'], phi=pms['phi']):\n",
    "    return equil_piii (yt_m1, yt, pit_m1, st_m1, ct, omega, gamma, phi)"
   ]
  },
  {
   "cell_type": "code",
   "execution_count": 103,
   "metadata": {},
   "outputs": [
    {
     "data": {
      "image/png": "[encoded data removed]",
      "text/latex": [
       "$$0.0$$"
      ],
      "text/plain": [
       "0.0"
      ]
     },
     "execution_count": 103,
     "metadata": {},
     "output_type": "execute_result"
    }
   ],
   "source": [
    "#test at the initial state\n",
    "equili_pi_ar(0,0,0,0,0)"
   ]
  },
  {
   "cell_type": "markdown",
   "metadata": {},
   "source": [
    "Now let's enter the new output value to get the new inflation value:"
   ]
  },
  {
   "cell_type": "code",
   "execution_count": 104,
   "metadata": {},
   "outputs": [
    {
     "data": {
      "image/png": "[encoded data removed]",
      "text/latex": [
       "$$0$$"
      ],
      "text/plain": [
       "0"
      ]
     },
     "execution_count": 104,
     "metadata": {},
     "output_type": "execute_result"
    }
   ],
   "source": [
    "equili_pi_ar(0,equili_output_ar(0,0.1,0,0,0,0,0), 0, 0, 0)"
   ]
  },
  {
   "cell_type": "code",
   "execution_count": 105,
   "metadata": {},
   "outputs": [
    {
     "data": {
      "image/png": "[encoded data removed]",
      "text/latex": [
       "$$-0.0703125$$"
      ],
      "text/plain": [
       "-0.0703125000000000"
      ]
     },
     "execution_count": 105,
     "metadata": {},
     "output_type": "execute_result"
    }
   ],
   "source": [
    "equili_output_ar(0,0,0,0,0.1,0)"
   ]
  },
  {
   "cell_type": "code",
   "execution_count": 106,
   "metadata": {},
   "outputs": [],
   "source": [
    "#define the number of time period\n",
    "T = 100\n",
    "\n",
    "#create a loop to see the evolution of output and inflation\n",
    "\n",
    "shock = 0.1\n",
    "pi_m = 0\n",
    "yn = 0\n",
    "y_m = 0\n",
    "\n",
    "list_output = list(range(100))\n",
    "list_inflation = list(range(100))\n",
    "\n",
    "for i in range(100):\n",
    "    \n",
    "    if i == 1 :\n",
    "        y = equili_output_ar(0,pi_m,0,y_m,0,shock)\n",
    "        list_output[i] = y\n",
    "        yn = y\n",
    "        p = equili_pi_ar(y_m,yn,pi_m,0,0)\n",
    "        list_inflation[i] = p  \n",
    "        pi_m = p\n",
    "        y_m = y\n",
    "    \n",
    "    elif i> 1 :\n",
    "        y = equili_output_ar(0,pi_m,0,y_m,0,0)\n",
    "        list_output[i] = y\n",
    "        yn = y\n",
    "        p = equili_pi_ar(y_m,yn,pi_m,0,0)\n",
    "        list_inflation[i] = p  \n",
    "        pi_m = p\n",
    "        y_m = y\n",
    "\n",
    "    else : \n",
    "        y = equili_output_ar(0,0,0,0,0,0)\n",
    "        list_output[i] = y\n",
    "        yn = y\n",
    "        p = equili_pi_ar(y_m,yn,pi_m,0,0)\n",
    "        list_inflation[i] = p\n",
    "        pi_m = p\n",
    "        y_m = y"
   ]
  },
  {
   "cell_type": "code",
   "execution_count": 107,
   "metadata": {},
   "outputs": [
    {
     "data": {
      "text/plain": [
       "[<matplotlib.lines.Line2D at 0x28b5d27d400>]"
      ]
     },
     "execution_count": 107,
     "metadata": {},
     "output_type": "execute_result"
    },
    {
     "data": {
      "image/png": "[encoded data removed]",
      "text/plain": [
       "<Figure size 432x288 with 1 Axes>"
      ]
     },
     "metadata": {
      "needs_background": "light"
     },
     "output_type": "display_data"
    }
   ],
   "source": [
    "plt.plot(list_output)\n",
    "plt.plot(list_inflation)"
   ]
  },
  {
   "cell_type": "markdown",
   "metadata": {},
   "source": [
    "\n",
    "**Question 4**"
   ]
  },
  {
   "cell_type": "code",
   "execution_count": 108,
   "metadata": {},
   "outputs": [],
   "source": [
    "def counter(i,n):\n",
    "    if i == n/10:\n",
    "        print(\"10%\")\n",
    "    if i == 2*(n/10):\n",
    "        print(\"20%\")\n",
    "    if i == 3*(n/10):\n",
    "        print(\"30%\")\n",
    "    if i == 4*(n/10):\n",
    "        print(\"40%\")\n",
    "    if i == 5*(n/10):\n",
    "        print(\"50%\")\n",
    "    if i == 6*(n/10):\n",
    "        print(\"60%\")\n",
    "    if i == 7*(n/10):\n",
    "        print(\"70%\")\n",
    "    if i == 8*(n/10):\n",
    "        print(\"80%\")\n",
    "    if i == 9*(n/10):\n",
    "        print(\"90%\")\n",
    "    if i == 10*(n-2/10):\n",
    "        print(\"100%\")\n",
    "    return"
   ]
  },
  {
   "cell_type": "code",
   "execution_count": 130,
   "metadata": {},
   "outputs": [],
   "source": [
    "pms['sigma_x'] = 3.492\n",
    "pms['sigma_c'] = 0.2\n",
    "pms[\"delta\"] = 0.80\n",
    "pms[\"omega\"] = 0.15\n"
   ]
  },
  {
   "cell_type": "code",
   "execution_count": 131,
   "metadata": {},
   "outputs": [],
   "source": [
    "np.random.seed(1)\n",
    "\n",
    "def simulation(v_m=0, s_m=0) :\n",
    "    np.random.seed(1)\n",
    "\n",
    "    pi_m = 0\n",
    "    yn = 0\n",
    "    y_m = 0\n",
    "    omega = pms[\"omega\"]\n",
    "    xt = np.random.normal(loc=0,scale=pms['sigma_x'],size=1000)\n",
    "    ct = np.random.normal(loc=0,scale=pms['sigma_c'],size=1000)\n",
    "\n",
    "    \n",
    "    list_output = list(range(1000))\n",
    "    list_inflation = list(range(1000))\n",
    "    for i in range(1000):\n",
    "        counter(i=i,n=1000)\n",
    "        if i == 0 :\n",
    "            \n",
    "            y = equili_output_ar(v_m,pi_m,s_m,y_m,ct[i],xt[i])\n",
    "            list_output[i] = y\n",
    "            yn = y\n",
    "            p = equili_pi_ar(y_m,yn,pi_m,s_m,ct[i])\n",
    "            list_inflation[i] = p  \n",
    "            pi_m = p\n",
    "            y_m = y\n",
    "            v_m = pms[\"delta\"] * v_m + xt[i]\n",
    "            s_m = omega * s_m + ct [i] \n",
    "        else :\n",
    "            y = equili_output_ar(v_m,pi_m,s_m,y_m,ct[i],xt[i])\n",
    "            \n",
    "            list_output[i] = y\n",
    "            yn = y\n",
    "            p = equili_pi_ar(y_m,yn,pi_m,s_m,ct[i])\n",
    "            list_inflation[i] = p  \n",
    "            pi_m = p\n",
    "            y_m = y\n",
    "            v_m = pms[\"delta\"] * v_m + xt[i]\n",
    "            s_m = omega * s_m + ct[i]\n",
    "\n",
    "    return list_inflation, list_output"
   ]
  },
  {
   "cell_type": "code",
   "execution_count": 132,
   "metadata": {},
   "outputs": [
    {
     "name": "stdout",
     "output_type": "stream",
     "text": [
      "10%\n",
      "20%\n",
      "30%\n",
      "40%\n",
      "50%\n",
      "60%\n",
      "70%\n",
      "80%\n",
      "90%\n"
     ]
    }
   ],
   "source": [
    "data = simulation()"
   ]
  },
  {
   "cell_type": "code",
   "execution_count": 133,
   "metadata": {},
   "outputs": [],
   "source": [
    "inflation = data[0]\n",
    "output = data[1]"
   ]
  },
  {
   "cell_type": "markdown",
   "metadata": {},
   "source": [
    "### Statistics for the simulated model"
   ]
  },
  {
   "cell_type": "code",
   "execution_count": 134,
   "metadata": {},
   "outputs": [
    {
     "name": "stdout",
     "output_type": "stream",
     "text": [
      "7.35892920773098\n",
      "(-0.478954653029549*omega - 0.683446195965343)**2/1000 + (-0.415460103533222*omega + 2.2195731917456)**2/1000 + (-0.386457408052775*omega - 1.64919017427052)**2/1000 + (-0.364545617383467*omega + 0.887280454461841)**2/1000 + (-0.362336623183352*omega + 3.32216784901189)**2/1000 + (-0.354090498839814*omega - 1.42220730346805)**2/1000 + (-0.351870472800089*omega - 3.25389990289186)**2/1000 + (-0.336381407336065*omega - 0.541049685589861)**2/1000 + (-0.332826603781409*omega + 0.653084607386889)**2/1000 + (-0.33000417906123*omega - 1.86867465423151)**2/1000 + (-0.325013884766205*omega - 1.49447416204789)**2/1000 + (-0.321115502426876*omega - 0.0417462622619351)**2/1000 + (-0.316948260203719*omega - 2.08642562342743)**2/1000 + (-0.316562103846312*omega - 0.730393330662633)**2/1000 + (-0.309958458604641*omega - 0.398219878451159)**2/1000 + (-0.305045317599156*omega - 1.10538510708931)**2/1000 + (-0.300366798062335*omega + 1.93934571948971)**2/1000 + (-0.300116202580511*omega - 2.57286807666772)**2/1000 + (-0.296831495038127*omega - 2.09510454356851)**2/1000 + (-0.286754438842591*omega + 2.34578968143713)**2/1000 + (-0.286220595491461*omega - 0.955293261424371)**2/1000 + (-0.284229184799048*omega + 1.14504409524147)**2/1000 + (-0.281879679852226*omega - 2.39327364487703)**2/1000 + (-0.281076795393631*omega - 2.08764780309286)**2/1000 + (-0.278360919034888*omega + 1.78917907077364)**2/1000 + (-0.275423250558025*omega + 1.05022243533855)**2/1000 + (-0.275266286279962*omega - 0.756672462484913)**2/1000 + (-0.274395347024984*omega - 3.06353054302591)**2/1000 + (-0.273921076126614*omega + 2.87917291588454)**2/1000 + (-0.270429133593817*omega + 1.56775738289797)**2/1000 + (-0.269335528734364*omega - 2.08354574379081)**2/1000 + (-0.269042431430265*omega + 0.23344771053186)**2/1000 + (-0.267795211159438*omega - 4.0264259593532)**2/1000 + (-0.265537516413455*omega + 5.4062547668118)**2/1000 + (-0.263375522703489*omega - 0.937675493534307)**2/1000 + (-0.262963679903427*omega + 0.272456796993308)**2/1000 + (-0.2612658066552*omega + 0.194686624286514)**2/1000 + (-0.258902754528342*omega - 0.561498594487952)**2/1000 + (-0.258358476446442*omega + 0.912030308682483)**2/1000 + (-0.258128698196406*omega + 2.70121819647855)**2/1000 + (-0.258032409690054*omega - 2.53108742965322)**2/1000 + (-0.257147023680177*omega - 1.16375539994552)**2/1000 + (-0.256550695762638*omega - 4.33025688942941)**2/1000 + (-0.256517479716151*omega - 1.179181601635)**2/1000 + (-0.256492103777196*omega - 1.60047206628886)**2/1000 + (-0.256256656170607*omega - 4.85280622630589)**2/1000 + (-0.256229827540789*omega + 4.24564652752583)**2/1000 + (-0.255982062522374*omega - 3.72376335386587)**2/1000 + (-0.255167725550272*omega - 1.28453820789375)**2/1000 + (-0.254773899165118*omega + 0.277070707850304)**2/1000 + (-0.251523148811644*omega - 5.06264152192354)**2/1000 + (-0.250230509919032*omega - 3.34366194879852)**2/1000 + (-0.248335029158135*omega - 1.79604778577805)**2/1000 + (-0.245746295931218*omega + 4.48898765175337)**2/1000 + (-0.245200327661671*omega + 0.11209664541314)**2/1000 + (-0.243278897506361*omega + 6.00084407077007)**2/1000 + (-0.241660381046707*omega + 2.16655588596313)**2/1000 + (-0.24072256463384*omega + 3.60675357560587)**2/1000 + (-0.240527002720433*omega + 1.90180640596067)**2/1000 + (-0.238964121618423*omega - 2.18943900519396)**2/1000 + (-0.237825452731023*omega + 3.93374501988272)**2/1000 + (-0.23485110404085*omega + 1.71433522504162)**2/1000 + (-0.234546225489264*omega - 1.64475542601417)**2/1000 + (-0.234523912245432*omega - 1.374607772072)**2/1000 + (-0.234486417086331*omega - 2.45188446842285)**2/1000 + (-0.233957804752819*omega + 2.06260887854421)**2/1000 + (-0.232765894552958*omega - 1.417332789359)**2/1000 + (-0.228791032221704*omega - 3.37634151354106)**2/1000 + (-0.227483982723493*omega + 2.7118093359511)**2/1000 + (-0.227364147848033*omega - 1.07154705808925)**2/1000 + (-0.226613489475896*omega + 0.297364478911418)**2/1000 + (-0.225790316753957*omega - 0.906448242028529)**2/1000 + (-0.224572351603639*omega - 0.232528175371651)**2/1000 + (-0.224281850617956*omega + 0.303032858660688)**2/1000 + (-0.22201747002982*omega + 3.49786323913679)**2/1000 + (-0.220764892253251*omega - 2.10820006939885)**2/1000 + (-0.220159649862848*omega - 2.11865645847337)**2/1000 + (-0.219553594798737*omega + 2.32305425585049)**2/1000 + (-0.219265323441411*omega + 0.0250501661788967)**2/1000 + (-0.218199477098225*omega + 3.41428026688132)**2/1000 + (-0.216727354622696*omega - 1.38461944074039)**2/1000 + (-0.216362854716306*omega + 0.35451469533853)**2/1000 + (-0.215687501526911*omega + 0.773032014383038)**2/1000 + (-0.215152559116909*omega - 1.32038017356296)**2/1000 + (-0.215150460421992*omega - 2.95341013756854)**2/1000 + (-0.214878885560735*omega - 0.585911608093459)**2/1000 + (-0.2131854797711*omega + 2.19290199918693)**2/1000 + (-0.213092693831527*omega - 1.43172348630012)**2/1000 + (-0.212777186464724*omega + 1.04584098320198)**2/1000 + (-0.212742072788654*omega - 4.67732641327352)**2/1000 + (-0.212372787474039*omega - 1.10146669734577)**2/1000 + (-0.209093293004572*omega + 3.54879195512187)**2/1000 + (-0.20882448110515*omega - 1.66204101986842)**2/1000 + (-0.206906323886914*omega - 2.6220866780742)**2/1000 + (-0.2064860977608*omega + 3.84983371268319)**2/1000 + (-0.204530425744971*omega - 0.273115156704283)**2/1000 + (-0.200733304491338*omega - 0.96099791760484)**2/1000 + (-0.200699623968035*omega - 0.4860916557805)**2/1000 + (-0.197698402981683*omega - 0.707008368133668)**2/1000 + (-0.196883841359324*omega - 3.61877990335276)**2/1000 + (-0.195961973694431*omega + 1.22210794559988)**2/1000 + (-0.195495024108581*omega + 1.42743421502721)**2/1000 + (-0.19539508099737*omega + 0.287394525386224)**2/1000 + (-0.194475444255921*omega - 0.529766391818314)**2/1000 + (-0.192327423085883*omega - 0.903121898623678)**2/1000 + (-0.191665166624693*omega - 0.939624845361763)**2/1000 + (-0.191620599109561*omega - 1.76037648131387)**2/1000 + (-0.190511740627851*omega + 2.50235850713551)**2/1000 + (-0.189914525799969*omega - 0.565690165480733)**2/1000 + (-0.189859929989045*omega + 0.91770090702483)**2/1000 + (-0.18831252954676*omega + 1.04865655403516)**2/1000 + (-0.187537964333891*omega - 0.156766803247557)**2/1000 + (-0.18707043867615*omega + 1.99969652578864)**2/1000 + (-0.186773874094494*omega + 1.73280121168981)**2/1000 + (-0.186319105821396*omega - 0.729047661865623)**2/1000 + (-0.184774563047172*omega - 0.499264810426443)**2/1000 + (-0.182930721870667*omega - 3.00674448579013)**2/1000 + (-0.181593895594803*omega - 3.21081361867654)**2/1000 + (-0.181055256245483*omega - 2.36447947439075)**2/1000 + (-0.179364629746413*omega - 2.23920391787915)**2/1000 + (-0.1792801971336*omega - 1.89233774217842)**2/1000 + (-0.178793384079606*omega + 2.51323340258819)**2/1000 + (-0.177664138879159*omega - 1.4684464602774)**2/1000 + (-0.176722825593337*omega + 2.74563301680878)**2/1000 + (-0.176169628436999*omega + 2.63358523467176)**2/1000 + (-0.175578505181905*omega + 4.22494781666538)**2/1000 + (-0.173429902410544*omega - 2.1942227650188)**2/1000 + (-0.17177946651789*omega + 1.16417640467843)**2/1000 + (-0.17147061338693*omega - 0.0180586223927346)**2/1000 + (-0.167742088665683*omega + 4.14415915111327)**2/1000 + (-0.166802276096681*omega - 0.626054300043089)**2/1000 + (-0.164432473679488*omega - 4.07041613064054)**2/1000 + (-0.163947538443508*omega - 0.769145004640688)**2/1000 + (-0.163667457892923*omega + 3.4328963261394)**2/1000 + (-0.162087286478299*omega - 0.194223960401834)**2/1000 + (-0.16172812456936*omega - 2.89829959338883)**2/1000 + (-0.161513029118323*omega + 2.14116412478888)**2/1000 + (-0.161355535660492*omega - 0.749009937580267)**2/1000 + (-0.161038350449631*omega - 1.64045913108449)**2/1000 + (-0.159746966723757*omega - 1.57794103609946)**2/1000 + (-0.159125153018489*omega + 1.34440055986907)**2/1000 + (-0.157314009106494*omega - 0.240975855229007)**2/1000 + (-0.156974426380809*omega - 1.45170639281221)**2/1000 + (-0.156667578582378*omega - 3.77808089395067)**2/1000 + (-0.15650803434238*omega - 2.16377640735767)**2/1000 + (-0.155516572577777*omega + 1.75629459286103)**2/1000 + (-0.155429700781908*omega - 5.31613080289652)**2/1000 + (-0.154764227299135*omega + 0.22785153045061)**2/1000 + (-0.154715110677662*omega + 1.22216602264524)**2/1000 + (-0.154571746829222*omega + 3.86801878218157)**2/1000 + (-0.153742346309096*omega + 4.28754462338813)**2/1000 + (-0.153511512822483*omega - 0.970585130908188)**2/1000 + (-0.152973855309128*omega - 0.394537497060639)**2/1000 + (-0.152948292925164*omega + 1.38741786538566)**2/1000 + (-0.152558801190562*omega - 2.06176219761364)**2/1000 + (-0.152206053102877*omega + 0.916421353022262)**2/1000 + (-0.151951969017077*omega - 2.06278003520872)**2/1000 + (-0.149631432749613*omega + 2.00161403308504)**2/1000 + (-0.148968204241656*omega + 5.41324750293204)**2/1000 + (-0.148802915203675*omega + 2.11747921262319)**2/1000 + (-0.148536626210186*omega - 1.4406741242001)**2/1000 + (-0.147321357103813*omega + 2.76670530406712)**2/1000 + (-0.147302534609372*omega - 1.20834739379358)**2/1000 + (-0.147143807128898*omega - 0.670179142029256)**2/1000 + (-0.146918774508334*omega - 1.24623670494034)**2/1000 + (-0.146913248849385*omega + 0.0332307014476338)**2/1000 + (-0.146343258979017*omega - 0.0695822978623313)**2/1000 + (-0.146095543188592*omega + 0.473018260520073)**2/1000 + (-0.145952975486835*omega - 2.07786243067331)**2/1000 + (-0.145288446788464*omega + 1.39322405793918)**2/1000 + (-0.145166285336655*omega - 3.28510062136869)**2/1000 + (-0.144512672412014*omega - 0.719501726007205)**2/1000 + (-0.144137008040403*omega - 0.0282494883517117)**2/1000 + (-0.141772610916465*omega + 2.55627391643017)**2/1000 + (-0.141117867319957*omega + 1.10347067181534)**2/1000 + (-0.140748571016482*omega + 2.11315689240846)**2/1000 + (-0.139558811838327*omega - 5.07507017619126)**2/1000 + (-0.139010770181808*omega + 1.12739384760267)**2/1000 + (-0.137979478221182*omega + 0.764869567134381)**2/1000 + (-0.13795233463343*omega + 0.892150777883487)**2/1000 + (-0.136873350665317*omega - 1.12602097862087)**2/1000 + (-0.136481573008201*omega - 4.0662929401343)**2/1000 + (-0.135807640544899*omega + 0.108687354068421)**2/1000 + (-0.13511329735688*omega - 2.39871932189629)**2/1000 + (-0.13355998584227*omega + 2.11216632767953)**2/1000 + (-0.132995634235187*omega - 2.67179505252157)**2/1000 + (-0.131537300646578*omega + 1.96512745188712)**2/1000 + (-0.131204502960265*omega + 0.0919357828222385)**2/1000 + (-0.13099307962268*omega + 1.07711109904813)**2/1000 + (-0.130973604210417*omega - 2.95367111028244)**2/1000 + (-0.130277790100844*omega - 1.77282711649791)**2/1000 + (-0.130249527194376*omega + 0.792587366358901)**2/1000 + (-0.129707434913006*omega - 0.323155600136706)**2/1000 + (-0.128870052210538*omega - 1.74315007400881)**2/1000 + (-0.127599267349603*omega + 2.85456834973869)**2/1000 + (-0.127191545505524*omega + 0.547573309260681)**2/1000 + (-0.125948709121065*omega - 1.02909284584739)**2/1000 + (-0.1257007205436*omega - 0.803333130128094)**2/1000 + (-0.125104915077448*omega + 3.16224003777195)**2/1000 + (-0.124811325968177*omega - 4.11000295235209)**2/1000 + (-0.124557683188389*omega - 1.67510705018699)**2/1000 + (-0.124043853374174*omega - 0.767065593921467)**2/1000 + (-0.123888073216414*omega - 1.29943734228239)**2/1000 + (-0.122184048136666*omega - 0.649201267345124)**2/1000 + (-0.121915278279458*omega - 2.80580037892306)**2/1000 + (-0.121149754868927*omega + 2.60794028440867)**2/1000 + (-0.120780441017343*omega + 1.77070387433485)**2/1000 + (-0.119560996975769*omega + 0.201326711161498)**2/1000 + (-0.119215638625817*omega + 0.751915303216946)**2/1000 + (-0.116801548887115*omega - 1.07251644202548)**2/1000 + (-0.115877165865038*omega - 2.38010407358351)**2/1000 + (-0.115625625424171*omega - 0.717369841549584)**2/1000 + (-0.11415433054457*omega - 1.06338838909305)**2/1000 + (-0.113745307294411*omega + 2.14535726820017)**2/1000 + (-0.11271676751281*omega + 5.7999498586399)**2/1000 + (-0.112226481055608*omega + 2.19043108597945)**2/1000 + (-0.112198288576514*omega + 0.519849786825512)**2/1000 + (-0.112059911495835*omega - 1.53332289749366)**2/1000 + (-0.111805198885117*omega - 1.13586805059737)**2/1000 + (-0.111185339273575*omega - 0.401700038111286)**2/1000 + (-0.111052170394631*omega - 1.04645573117666)**2/1000 + (-0.109247827600546*omega - 2.52797096920891)**2/1000 + (-0.107014861507158*omega + 3.76082957037119)**2/1000 + (-0.10668273307398*omega + 1.16957710127749)**2/1000 + (-0.106119465103452*omega + 0.977134971926192)**2/1000 + (-0.106098806054602*omega + 0.313731155784621)**2/1000 + (-0.105563766852242*omega + 2.06323140076532)**2/1000 + (-0.10552489420324*omega - 0.81754293597658)**2/1000 + (-0.105346641432908*omega - 4.69051730904289)**2/1000 + (-0.104106301304881*omega - 1.04912710203104)**2/1000 + (-0.100691763547436*omega - 3.7751246041232)**2/1000 + (-0.100639177962596*omega - 0.5741312931301)**2/1000 + (-0.100411255973075*omega - 2.38035348284461)**2/1000 + (-0.100341754400186*omega - 1.16594290575995)**2/1000 + (-0.0997126049222486*omega - 1.23863445900383)**2/1000 + (-0.099351604917217*omega + 1.41597000900782)**2/1000 + (-0.099324078116448*omega + 4.40614897614852)**2/1000 + (-0.0986865340763055*omega - 1.30133853006138)**2/1000 + (-0.0985193196370998*omega - 0.694384008844494)**2/1000 + (-0.0984879315284465*omega - 2.17404335620109)**2/1000 + (-0.0977230266938585*omega + 1.46527671108301)**2/1000 + (-0.0967308440104963*omega - 2.39258457534326)**2/1000 + (-0.0966824616454764*omega + 0.654481356555137)**2/1000 + (-0.0966212939826706*omega + 2.94374668911314)**2/1000 + (-0.0964056100514198*omega + 2.45592687905856)**2/1000 + (-0.0957910498690988*omega - 2.20198504001089)**2/1000 + (-0.0955120081575749*omega + 1.85809808489771)**2/1000 + (-0.0949998120679313*omega + 0.241717740555684)**2/1000 + (-0.0946655801495455*omega - 0.576548686073042)**2/1000 + (-0.0941508123818877*omega - 3.27558339717973)**2/1000 + (-0.093668754945205*omega - 1.06499475461765)**2/1000 + (-0.0930501943877816*omega - 4.00147583440434)**2/1000 + (-0.0929779325228501*omega + 1.01729270520551)**2/1000 + (-0.0927272383779734*omega - 0.262435935232735)**2/1000 + (-0.0918348883256287*omega - 1.15033368474435)**2/1000 + (-0.0915990400366032*omega - 4.80527607467822)**2/1000 + (-0.0899809919285207*omega - 1.86914454805368)**2/1000 + (-0.0898162185971387*omega + 4.40182050690119)**2/1000 + (-0.0894880475358387*omega - 1.99793072740137)**2/1000 + (-0.0893319007226259*omega - 1.03121436705237)**2/1000 + (-0.087880352430299*omega + 4.43130331569774)**2/1000 + (-0.0875780642304614*omega - 2.38088384289091)**2/1000 + (-0.0870323249157204*omega + 0.389248496419965)**2/1000 + (-0.0864782685444519*omega - 0.360778241538143)**2/1000 + (-0.0863879068304011*omega - 3.29820188474336)**2/1000 + (-0.0861417391000361*omega - 2.30194386221753)**2/1000 + (-0.0842820247459159*omega + 2.24652649682859)**2/1000 + (-0.0841003145609981*omega + 2.34728435086054)**2/1000 + (-0.0813057895471408*omega - 0.247703070337769)**2/1000 + (-0.0812263232636516*omega + 0.194652697009357)**2/1000 + (-0.0810541932497635*omega + 1.40583433988621)**2/1000 + (-0.0809046672284263*omega - 0.185749252643242)**2/1000 + (-0.0808942618360107*omega - 1.27202696005601)**2/1000 + (-0.0808533348744447*omega - 0.899618937591521)**2/1000 + (-0.0802508297988794*omega + 3.96602433227775)**2/1000 + (-0.0799970466513787*omega + 4.16633698212178)**2/1000 + (-0.0798740612853227*omega + 3.78889492862834)**2/1000 + (-0.0798040094531638*omega + 2.04665180596734)**2/1000 + (-0.0795865980462745*omega - 1.23635282959986)**2/1000 + (-0.0795284317781827*omega - 0.720712361733006)**2/1000 + (-0.0793816488198726*omega - 2.56576509852667)**2/1000 + (-0.0789696377874707*omega + 2.72006789152268)**2/1000 + (-0.0781699447578337*omega - 0.161927054700596)**2/1000 + (-0.0779102604562097*omega + 0.938472560735118)**2/1000 + (-0.0772592765228189*omega - 0.0462508447487755)**2/1000 + (-0.0766873199006737*omega - 1.3163246766113)**2/1000 + (-0.0766241516414805*omega + 0.232032878678871)**2/1000 + (-0.0764705531246353*omega - 1.72924999736207)**2/1000 + (-0.076337645957886*omega + 0.376917230129916)**2/1000 + (-0.0754674135864991*omega + 4.04897832885915)**2/1000 + (-0.0746687239577675*omega + 1.33886526388086)**2/1000 + (-0.0744566281214556*omega - 0.410763443097484)**2/1000 + (-0.0743029466522289*omega + 1.4113771503776)**2/1000 + (-0.0736930583795376*omega - 1.85281439109122)**2/1000 + (-0.0735261317048629*omega + 1.59896773515198)**2/1000 + (-0.073170699905219*omega + 0.464944332321715)**2/1000 + (-0.0731564428642997*omega - 0.583458943924524)**2/1000 + (-0.0727440934800838*omega + 5.82650990717094)**2/1000 + (-0.0725781034488233*omega - 2.17341238294079)**2/1000 + (-0.0722109293806031*omega + 1.18020290400138)**2/1000 + (-0.0717508088796025*omega + 4.46865868366168)**2/1000 + (-0.0717332154206638*omega + 2.08888538139)**2/1000 + (-0.0717280141438166*omega + 4.02871706898702)**2/1000 + (-0.0714485846334776*omega - 2.21525738187888)**2/1000 + (-0.0713449691559322*omega - 1.02185913100203)**2/1000 + (-0.0707946346587674*omega + 1.90571672756386)**2/1000 + (-0.0707628652920909*omega - 1.87735663176395)**2/1000 + (-0.0698900133674732*omega + 1.84275935604982)**2/1000 + (-0.0692547187203966*omega + 1.73631070859383)**2/1000 + (-0.0691976882929616*omega + 3.28241607717514)**2/1000 + (-0.069181684449204*omega + 0.349718197854171)**2/1000 + (-0.0691343702793287*omega - 1.63714858827713)**2/1000 + (-0.0689301391392909*omega - 2.20557610118896)**2/1000 + (-0.0688329683352816*omega - 2.07720944902696)**2/1000 + (-0.0685936752867916*omega - 3.06025261303608)**2/1000 + (-0.0685350688440351*omega + 0.0380420780049886)**2/1000 + (-0.0683327805989291*omega + 1.06247651999696)**2/1000 + (-0.068261161839797*omega - 1.43172465957108)**2/1000 + (-0.0675401423738234*omega + 3.4115954672492)**2/1000 + (-0.0666308671465936*omega - 0.950503121828756)**2/1000 + (-0.0659361507915827*omega + 0.0726373420250948)**2/1000 + (-0.0638780307941791*omega + 1.76222239439689)**2/1000 + (-0.0637416001443837*omega - 1.46057228445317)**2/1000 + (-0.0631011957049098*omega - 2.15481369707122)**2/1000 + (-0.0629635700177857*omega + 0.752922367657061)**2/1000 + (-0.0629384267938997*omega + 0.481406540940917)**2/1000 + (-0.0629336853933061*omega - 1.66348372714182)**2/1000 + (-0.0627372939028485*omega - 1.89707019077518)**2/1000 + (-0.0624178985493242*omega + 0.230724727825474)**2/1000 + (-0.0617440334503073*omega + 0.661146883822081)**2/1000 + (-0.0614710459766992*omega + 3.37944817422105)**2/1000 + (-0.0606400848195127*omega + 2.22142874193925)**2/1000 + (-0.0595884909396406*omega + 2.60886447537844)**2/1000 + (-0.0590010998188368*omega + 2.19578528538253)**2/1000 + (-0.0589445038239932*omega + 1.6893053170072)**2/1000 + (-0.0588434183997361*omega - 5.01699187197279)**2/1000 + (-0.0587621765600864*omega - 0.291937170684775)**2/1000 + (-0.0582980135905636*omega - 1.59488539378346)**2/1000 + (-0.0581263219002272*omega + 5.26822847735587)**2/1000 + (-0.0574852351251158*omega + 0.139965344597859)**2/1000 + (-0.0569657085977579*omega - 1.62367868330739)**2/1000 + (-0.0564501435573246*omega - 0.105885398185215)**2/1000 + (-0.0562608210569022*omega + 0.120365741099596)**2/1000 + (-0.056083521729774*omega + 1.26801203480926)**2/1000 + (-0.0557506476098855*omega - 0.611011472308467)**2/1000 + (-0.0555460181505884*omega + 0.571653585206429)**2/1000 + (-0.0554267285708272*omega + 0.362842550024598)**2/1000 + (-0.05474348294167*omega - 1.28553909720597)**2/1000 + (-0.0543844594256301*omega + 2.04200212506097)**2/1000 + (-0.0542403103778155*omega - 0.569316554978877)**2/1000 + (-0.0540186060589983*omega + 1.40919419310066)**2/1000 + (-0.0533713564707802*omega - 1.81294929142273)**2/1000 + (-0.0529632479974778*omega - 0.17485756026543)**2/1000 + (-0.0529385394759792*omega - 3.10050721629967)**2/1000 + (-0.0522725117225155*omega + 0.666247134328001)**2/1000 + (-0.0517258264631415*omega + 0.444277135307934)**2/1000 + (-0.0516714683055059*omega - 1.55033113982292)**2/1000 + (-0.051358496611818*omega + 3.13076455906452)**2/1000 + (-0.0509885338551042*omega - 2.08386235758226)**2/1000 + (-0.0509665014108917*omega + 1.30743274068682)**2/1000 + (-0.0500517248173386*omega - 1.36399684728316)**2/1000 + (-0.0494361754253618*omega + 0.177154224887857)**2/1000 + (-0.049235114343421*omega + 3.51606996547944)**2/1000 + (-0.0482478352647009*omega + 3.97965272253375)**2/1000 + (-0.0480061610489148*omega + 2.65086484900126)**2/1000 + (-0.0477884204343763*omega + 3.49083805223851)**2/1000 + (-0.0477178610635122*omega + 1.06646957034694)**2/1000 + (-0.0475373911693894*omega + 0.207880696547421)**2/1000 + (-0.0475167751734436*omega - 3.01174680583302)**2/1000 + (-0.0467378352222666*omega - 1.14720590834588)**2/1000 + (-0.0462082244951011*omega - 2.95347959128384)**2/1000 + (-0.0461127752220043*omega - 2.4738275386497)**2/1000 + (-0.0457652488758706*omega - 1.65072311206875)**2/1000 + (-0.0452201976274784*omega - 1.29231158124308)**2/1000 + (-0.0451540668826352*omega + 1.15836246131562)**2/1000 + (-0.0450992940032944*omega + 3.98893383108364)**2/1000 + (-0.0444563729108648*omega + 2.09255471536687)**2/1000 + (-0.0442863562747534*omega + 3.31500865863167)**2/1000 + (-0.0438904544761512*omega - 1.43967482080352)**2/1000 + (-0.0437543644238735*omega - 2.15945203049369)**2/1000 + (-0.0434513342633813*omega - 1.19330299285236)**2/1000 + (-0.0425677755993734*omega - 1.09463390836208)**2/1000 + (-0.042329351942524*omega + 3.5909043991206)**2/1000 + (-0.0420079912466874*omega + 2.84605973553196)**2/1000 + (-0.0407946129770922*omega + 4.63718033841689)**2/1000 + (-0.0399356126797455*omega - 0.0130821802786563)**2/1000 + (-0.039081124085965*omega - 1.19991380753753)**2/1000 + (-0.0385637537784011*omega + 3.12570421201079)**2/1000 + (-0.0381453665183869*omega + 2.19178429919506)**2/1000 + (-0.0373447864067356*omega + 0.630514508974931)**2/1000 + (-0.0367463771373474*omega + 3.41667798685617)**2/1000 + (-0.0367260023050487*omega + 2.67779482869164)**2/1000 + (-0.0363444058449212*omega - 0.156675049778518)**2/1000 + (-0.0362003683982274*omega - 2.08714145343315)**2/1000 + (-0.0359845950651431*omega - 1.40986731512204)**2/1000 + (-0.0359513304395465*omega - 0.330094781057818)**2/1000 + (-0.0353795261148801*omega - 0.0856993930388681)**2/1000 + (-0.0352811643282646*omega - 2.20963226336612)**2/1000 + (-0.0351400352095063*omega + 0.151394440107203)**2/1000 + (-0.0347687322245425*omega + 1.66076554289632)**2/1000 + (-0.0346085614127254*omega - 0.553055526733825)**2/1000 + (-0.0341372568248827*omega + 1.11068322088396)**2/1000 + (-0.0340511334837822*omega - 2.18047103211851)**2/1000 + (-0.0339367778882775*omega + 3.56810800447068)**2/1000 + (-0.0337654192599623*omega - 3.3281780718314)**2/1000 + (-0.0337191454884715*omega + 2.55510465874194)**2/1000 + (-0.0334062817945149*omega + 0.918740831571017)**2/1000 + (-0.0333016632611803*omega - 1.65099536487928)**2/1000 + (-0.0329494864933545*omega + 5.93504031624638)**2/1000 + (-0.032817655932738*omega + 2.39325584436272)**2/1000 + (-0.0325476687239868*omega - 1.4770556814541)**2/1000 + (-0.0316816125140796*omega - 2.44054660534185)**2/1000 + (-0.0314069397176912*omega - 0.537900703598471)**2/1000 + (-0.0313625724654171*omega + 2.37037837363678)**2/1000 + (-0.0312051045106167*omega + 6.4984243471469)**2/1000 + (-0.0297484225723636*omega + 5.03614456412318)**2/1000 + (-0.0294911278403208*omega - 2.17197601460518)**2/1000 + (-0.0294900465767764*omega - 1.45883174240368)**2/1000 + (-0.0291180720634957*omega - 0.249763424324847)**2/1000 + (-0.0286686513670784*omega + 0.172041355290611)**2/1000 + (-0.0278011059210449*omega + 0.788817020054057)**2/1000 + (-0.0277706244617054*omega - 1.79507063583174)**2/1000 + (-0.02772140696234*omega - 1.50114469762173)**2/1000 + (-0.0276640568975231*omega + 0.793059836187322)**2/1000 + (-0.0271171476660327*omega + 2.07972328454805)**2/1000 + (-0.0269957675198716*omega - 3.28161786550257)**2/1000 + (-0.0268482489205013*omega - 4.32456553817611)**2/1000 + (-0.0267633664062111*omega + 1.54561342211421)**2/1000 + (-0.0267584202456171*omega - 0.44068050520952)**2/1000 + (-0.0261690219213587*omega - 2.38254280779806)**2/1000 + (-0.0260757477859869*omega - 0.0430155018983531)**2/1000 + (-0.0254384889465808*omega - 1.24773521966172)**2/1000 + (-0.0242537822558346*omega + 0.892924178045837)**2/1000 + (-0.0236630326083471*omega + 3.64861071035266)**2/1000 + (-0.0232460009293062*omega + 0.902056996094144)**2/1000 + (-0.0231951431110786*omega + 2.347119083032)**2/1000 + (-0.0229390532134651*omega + 0.275562420267792)**2/1000 + (-0.022115941949512*omega + 3.4128152921279)**2/1000 + (-0.0201955788632534*omega - 2.47940149002184)**2/1000 + (-0.0199414556775052*omega - 0.358836598447105)**2/1000 + (-0.0198203873167155*omega + 1.05007256944886)**2/1000 + (-0.0195288307019996*omega - 0.433006383286819)**2/1000 + (-0.0193163808474937*omega + 4.41393921777246)**2/1000 + (-0.0179396732085311*omega + 1.51286898180686)**2/1000 + (-0.017768984161106*omega - 3.00639022506831)**2/1000 + (-0.0176647008502889*omega - 0.0821497241654257)**2/1000 + (-0.0176369834976648*omega + 3.00988729987406)**2/1000 + (-0.0176313588512167*omega + 4.4446133685142)**2/1000 + (-0.0174373899728234*omega - 1.98648870693799)**2/1000 + (-0.0172868745230307*omega - 3.26676117739586)**2/1000 + (-0.0161776022606596*omega + 2.70463697093884)**2/1000 + (-0.0157045653372346*omega - 1.74455776163351)**2/1000 + (-0.0154996010221807*omega - 1.24280348877635)**2/1000 + (-0.0153613618475799*omega + 1.75012601481975)**2/1000 + (-0.0149473073643891*omega - 0.134143169845802)**2/1000 + (-0.01464202879947*omega - 5.14153836552695)**2/1000 + (-0.0145062037563025*omega - 3.08146867010869)**2/1000 + (-0.0143718398026041*omega + 1.19478401383964)**2/1000 + (-0.0142082547920201*omega + 2.23905250982948)**2/1000 + (-0.0141738793431106*omega + 0.397353735102453)**2/1000 + (-0.0138449802619876*omega - 0.920758126273817)**2/1000 + (-0.0135735946731028*omega - 2.02250431236117)**2/1000 + (-0.0135426476844563*omega + 4.19641729526434)**2/1000 + (-0.0126408660449249*omega - 1.56243737896232)**2/1000 + (-0.0125135386395098*omega + 3.14316629497483)**2/1000 + (-0.0120543682757413*omega + 1.48062395917917)**2/1000 + (-0.011978865856003*omega + 1.8198015511126)**2/1000 + (-0.0117046442888762*omega + 3.2381277033876)**2/1000 + (-0.0115812298872903*omega - 2.23951801087433)**2/1000 + (-0.0115356057026755*omega - 2.01005712005142)**2/1000 + (-0.0108865666237901*omega - 1.9186640364265)**2/1000 + (-0.0108640681667558*omega + 2.676557235427)**2/1000 + (-0.010634784526424*omega + 0.946025399918416)**2/1000 + (-0.0102342685712455*omega + 0.0475362401433341)**2/1000 + (-0.00982447923325942*omega - 1.09510714784252)**2/1000 + (-0.00920143250903366*omega + 0.139213555464842)**2/1000 + (-0.00893265245926012*omega + 1.13937062826532)**2/1000 + (-0.00885465477640921*omega - 3.59724005474122)**2/1000 + (-0.00818704919261708*omega - 1.99320218443898)**2/1000 + (-0.00801386638875042*omega - 2.60628551173579)**2/1000 + (-0.00672542071062766*omega - 3.97859228937702)**2/1000 + (-0.00643831684148888*omega + 0.450600762049511)**2/1000 + (-0.00580034525480365*omega - 2.44329307106915)**2/1000 + (-0.00572350615429564*omega - 3.66203026346745)**2/1000 + (-0.00525760289219305*omega + 4.08103584427228)**2/1000 + (-0.00516037226098938*omega - 1.40216193079251)**2/1000 + (-0.00509992846471905*omega - 2.1888912886303)**2/1000 + (-0.0049385813443371*omega - 0.153303617532197)**2/1000 + (-0.00435721416916115*omega - 2.23789921853651)**2/1000 + (-0.00382107126256118*omega - 1.11731874243345)**2/1000 + (-0.003754306085233*omega + 2.82910676425687)**2/1000 + (-0.00250009593852781*omega - 4.17574632480785)**2/1000 + (-0.00214460785436385*omega - 1.49138701710132)**2/1000 + (-0.0018588130349129*omega + 2.71728297183648)**2/1000 + (-0.00129279322267796*omega + 2.23538652106188)**2/1000 + (-0.00103990597092463*omega + 5.58973678007296)**2/1000 + (-0.000644177455012412*omega + 4.61832158003027)**2/1000 + (0.000558734286745704*omega - 2.49888316914021)**2/1000 + (0.000571136370871203*omega + 0.552942473769349)**2/1000 + (0.000735124516692658*omega + 1.23766120943446)**2/1000 + (0.000846905653785862*omega - 0.717064965273936)**2/1000 + (0.0010517246751879*omega - 0.992813599148306)**2/1000 + (0.00127164966661297*omega + 0.287181424782363)**2/1000 + (0.00140928718444899*omega - 0.806396780545077)**2/1000 + (0.00141594096517476*omega - 0.81818795646531)**2/1000 + (0.0018422669141983*omega + 1.69523035668212)**2/1000 + (0.00192765752985332*omega - 2.1884189565012)**2/1000 + (0.00194218407094727*omega + 0.704973248648457)**2/1000 + (0.00198380804609932*omega - 0.784161383086339)**2/1000 + (0.00217036619220739*omega - 1.40305599275706)**2/1000 + (0.00254490909887491*omega - 2.33783585630515)**2/1000 + (0.00266095112762207*omega + 1.14985610908643)**2/1000 + (0.00373338208404777*omega + 0.71327217792313)**2/1000 + (0.00405184140026664*omega + 3.75072756872402)**2/1000 + (0.00427836025721658*omega + 3.74599472566473)**2/1000 + (0.00503231025439053*omega - 2.51797863378039)**2/1000 + (0.00528878724872247*omega + 3.1671231694082)**2/1000 + (0.00536690823260404*omega + 0.642099671217574)**2/1000 + (0.00561141049491396*omega + 1.50101023375338)**2/1000 + (0.00602228112646222*omega - 1.9652971127801)**2/1000 + (0.00648599301100341*omega + 0.474940890403698)**2/1000 + (0.00656255485711849*omega + 0.45652835465933)**2/1000 + (0.00678218035542514*omega - 0.560869648863345)**2/1000 + (0.00698489834420085*omega - 2.12574180290764)**2/1000 + (0.00700721916884818*omega - 0.21559834621571)**2/1000 + (0.00729219030541009*omega + 0.852496362388967)**2/1000 + (0.00791280747420727*omega - 2.00584612012178)**2/1000 + (0.00794584307378215*omega + 2.41770065287692)**2/1000 + (0.00854134694309251*omega - 1.35231099930267)**2/1000 + (0.01026554574654*omega - 0.734385876170492)**2/1000 + (0.0107661725629607*omega - 2.68205189529859)**2/1000 + (0.0108479623786352*omega + 4.32459422270918)**2/1000 + (0.0111344509065673*omega - 1.81384080145303)**2/1000 + (0.0111969949504292*omega + 1.16933381122907)**2/1000 + (0.0113294014803003*omega - 3.02520971838514)**2/1000 + (0.0114061149578466*omega + 0.720433507791465)**2/1000 + (0.0114175999316468*omega - 4.4744631649534)**2/1000 + (0.0115432711618301*omega - 2.84869663690344)**2/1000 + (0.0119618530336084*omega - 1.91429095833208)**2/1000 + (0.0120202425401769*omega + 2.53875249728715)**2/1000 + (0.0128715815933096*omega - 0.200701433947995)**2/1000 + (0.0139210555684495*omega + 1.86180681705582)**2/1000 + (0.0139615188362156*omega + 0.396465151801638)**2/1000 + (0.0142209222178929*omega + 2.6713089209455)**2/1000 + (0.0143258029237353*omega - 4.22928000968802)**2/1000 + (0.0145022711213053*omega - 0.389597903906989)**2/1000 + (0.0148053027004413*omega - 2.2104194092408)**2/1000 + (0.0148344599086747*omega + 4.83652910013814)**2/1000 + (0.0151300434682595*omega + 3.36834139503183)**2/1000 + (0.0154775684339395*omega + 3.74819034295594)**2/1000 + (0.0159904568451295*omega - 1.78365117734888)**2/1000 + (0.0160187651538489*omega - 1.96283899951446)**2/1000 + (0.0178763765908475*omega - 2.50219648223963)**2/1000 + (0.0190097509316678*omega - 0.397494340421916)**2/1000 + (0.0191139523787059*omega + 1.32442515983163)**2/1000 + (0.0194073651841357*omega - 2.28979637343498)**2/1000 + (0.0201867505284349*omega - 0.246378698564773)**2/1000 + (0.0202343961761351*omega + 0.935111875230142)**2/1000 + (0.0204937617374808*omega + 1.84433392881249)**2/1000 + (0.0207524948137703*omega - 1.41299191553283)**2/1000 + (0.02078523942271*omega - 2.56186904520095)**2/1000 + (0.02112086582304*omega - 2.27499887749451)**2/1000 + (0.0218396462484235*omega + 2.01859244924835)**2/1000 + (0.0220175310489687*omega - 0.1507371740941)**2/1000 + (0.0222335666370601*omega + 4.29169275160848)**2/1000 + (0.0222957576767846*omega - 0.0324681180973632)**2/1000 + (0.0228251271796395*omega + 0.08712001270281)**2/1000 + (0.0236948003907066*omega - 2.40454083485182)**2/1000 + (0.0238074107279275*omega - 3.13393395955966)**2/1000 + (0.0242522923001436*omega - 5.44132720855666)**2/1000 + (0.024346009647173*omega + 2.67384696225137)**2/1000 + (0.0245043007687644*omega - 1.55969038522211)**2/1000 + (0.0250485134038981*omega - 2.25852124779581)**2/1000 + (0.0253962175270093*omega + 4.38925278442007)**2/1000 + (0.0255059763787708*omega + 4.24247814058256)**2/1000 + (0.0258074975648225*omega - 1.65840982839377)**2/1000 + (0.0258271955057138*omega + 3.28955642118139)**2/1000 + (0.0259323248755128*omega - 0.727521437316943)**2/1000 + (0.0260155635677193*omega + 2.0661745636211)**2/1000 + (0.0261900296735512*omega - 2.71050801035353)**2/1000 + (0.0263069094906619*omega - 1.32777520053478)**2/1000 + (0.0263380259771644*omega - 3.60175683719048)**2/1000 + (0.0264346494962842*omega - 0.641113180585727)**2/1000 + (0.0273934240082218*omega - 0.204453930251451)**2/1000 + (0.0274591212173392*omega + 2.1014957229209)**2/1000 + (0.0275271470030994*omega - 1.12290808373192)**2/1000 + (0.0289388574931524*omega + 4.07859212651904)**2/1000 + (0.0305441166434779*omega - 2.13694715026162)**2/1000 + (0.030882107250977*omega + 0.121715117482375)**2/1000 + (0.0310312605786688*omega - 0.938448661278851)**2/1000 + (0.0313703612719496*omega + 3.06689738965723)**2/1000 + (0.0317303468082276*omega + 4.51258826663191)**2/1000 + (0.031963412042086*omega + 3.77873161437967)**2/1000 + (0.0326366199117812*omega - 1.85461948857405)**2/1000 + (0.0335180171944553*omega - 0.336947757320922)**2/1000 + (0.0342735753226799*omega + 3.24994665288743)**2/1000 + (0.0351416836958235*omega + 0.957385355436605)**2/1000 + (0.0353558323575193*omega + 2.48277634774555)**2/1000 + (0.0355044037704998*omega - 2.1415580664727)**2/1000 + (0.0355772909555563*omega - 2.05716696625229)**2/1000 + (0.0356554179255344*omega + 2.40425213058984)**2/1000 + (0.0361869477723681*omega - 0.913678389309881)**2/1000 + (0.0365713642659709*omega - 0.17880961548035)**2/1000 + (0.0365778447976819*omega + 3.81429943225532)**2/1000 + (0.0366228500897767*omega + 1.99464540212132)**2/1000 + (0.0368888546755443*omega + 2.24669668831527)**2/1000 + (0.0369142897832081*omega - 0.0412426085315363)**2/1000 + (0.037075350520554*omega - 0.297793634371357)**2/1000 + (0.037654841035383*omega - 0.373032300423082)**2/1000 + (0.0379491394349219*omega + 0.370285840162117)**2/1000 + (0.0388890015217014*omega - 4.05866810102329)**2/1000 + (0.0391733766624483*omega + 3.71083618911125)**2/1000 + (0.0392325293928555*omega - 1.49350556375305)**2/1000 + (0.0394368781382862*omega + 2.83127569594389)**2/1000 + (0.0402600910434814*omega - 1.84196910543285)**2/1000 + (0.0415100111054169*omega + 0.728966957342624)**2/1000 + (0.0419644262345474*omega - 1.69112405092482)**2/1000 + (0.0422333075392978*omega - 4.07509169856575)**2/1000 + (0.0423579467634221*omega - 1.65600955502799)**2/1000 + (0.043485606963018*omega + 3.109306264255)**2/1000 + (0.0440873719039536*omega + 2.89125876687086)**2/1000 + (0.0448870305422737*omega + 0.124469985164293)**2/1000 + (0.0452958641612142*omega - 1.78148384188402)**2/1000 + (0.0454159881274424*omega - 5.41200056029053)**2/1000 + (0.0456663081086448*omega - 2.39297279840225)**2/1000 + (0.0457491466046935*omega + 0.761909933613333)**2/1000 + (0.0457585999415377*omega - 1.36955173590328)**2/1000 + (0.0459663951626546*omega - 5.57492464163327)**2/1000 + (0.0468994482099355*omega + 2.88183598006872)**2/1000 + (0.0469019110068899*omega - 2.13601951030213)**2/1000 + (0.0469353642781231*omega - 1.42218444308411)**2/1000 + (0.0473284154309797*omega + 0.714293765746304)**2/1000 + (0.0476353202333094*omega - 1.20035456660672)**2/1000 + (0.0478083771486271*omega + 1.60753262626393)**2/1000 + (0.0481284766530187*omega - 1.20927373883243)**2/1000 + (0.0485408133093176*omega - 0.296134368689626)**2/1000 + (0.0493505745874741*omega - 0.843546072037137)**2/1000 + (0.0494768614243356*omega + 4.42907959573809)**2/1000 + (0.0497039452941346*omega - 0.89470499799656)**2/1000 + (0.0498366027783019*omega + 3.01042438958559)**2/1000 + (0.0498816153993464*omega - 2.25447047928142)**2/1000 + (0.0499667951215249*omega - 1.99060152822986)**2/1000 + (0.0526144993740977*omega - 0.272254797118715)**2/1000 + (0.05262477400186*omega + 1.38057373805424)**2/1000 + (0.0534125007006284*omega - 0.432460153054813)**2/1000 + (0.0539139234320873*omega + 0.191314877839238)**2/1000 + (0.0543189304351669*omega - 0.0817995681397359)**2/1000 + (0.0545171605069987*omega + 0.294126460835467)**2/1000 + (0.0547950174629425*omega + 1.73395677777016)**2/1000 + (0.0548552646127148*omega + 1.32494760829696)**2/1000 + (0.0550201419844245*omega + 4.93308148528176)**2/1000 + (0.0555633534610353*omega + 0.317331305038663)**2/1000 + (0.0563122331824608*omega - 4.56908143820899)**2/1000 + (0.0568217125916745*omega + 0.73495927956532)**2/1000 + (0.0569424728086631*omega - 0.789322792717374)**2/1000 + (0.0572443455012203*omega + 2.25415849253416)**2/1000 + (0.0574175016699007*omega - 0.0882926837152698)**2/1000 + (0.0577920130617391*omega + 1.76481283661025)**2/1000 + (0.0582417652351946*omega + 3.82500918364833)**2/1000 + (0.0585695653974514*omega + 2.54806306686161)**2/1000 + (0.0586113076943082*omega - 3.68332447473476)**2/1000 + (0.0592342743600989*omega - 2.44356883303039)**2/1000 + (0.0593268123098028*omega + 0.0916092193751852)**2/1000 + (0.0596818766564908*omega - 0.442161475707219)**2/1000 + (0.0600212605227921*omega - 4.76640442736269)**2/1000 + (0.0607646848159539*omega - 1.96587507630952)**2/1000 + (0.0609527178440259*omega - 0.921669215075594)**2/1000 + (0.0610172151832921*omega + 1.46744166829018)**2/1000 + (0.0611451575823134*omega - 3.33303636609264)**2/1000 + (0.0630915434862432*omega - 2.97287955339641)**2/1000 + (0.0638803117951218*omega - 2.70241532781965)**2/1000 + (0.0641044458680332*omega - 0.110338664603014)**2/1000 + (0.0643430480019713*omega - 1.17288352486853)**2/1000 + (0.0647672528552482*omega + 1.1546630303376)**2/1000 + (0.0653949601918596*omega - 1.43381548646343)**2/1000 + (0.0660259102054171*omega + 3.92694042545897)**2/1000 + (0.0660492911120873*omega - 0.759160994012285)**2/1000 + (0.0662525495931302*omega + 3.01798954807956)**2/1000 + (0.0665895007364481*omega - 2.33789544659913)**2/1000 + (0.068069418213996*omega - 0.4978310392647)**2/1000 + (0.0683622671511376*omega + 1.2969663899575)**2/1000 + (0.0689440338017573*omega - 3.9359784895361)**2/1000 + (0.0692170986811401*omega + 5.0435616213686)**2/1000 + (0.0698950152010813*omega + 1.49473160960438)**2/1000 + (0.070120994560061*omega - 2.35054167502975)**2/1000 + (0.0703072862403727*omega + 1.29618683452014)**2/1000 + (0.070585126129188*omega + 0.81858785835088)**2/1000 + (0.0709690681327318*omega + 3.54135802163388)**2/1000 + (0.0713172309665993*omega + 1.83972312674162)**2/1000 + (0.0717433140953632*omega + 2.29615487332602)**2/1000 + (0.0725237344037706*omega - 2.42448789936214)**2/1000 + (0.0728096550624559*omega + 4.93532014168978)**2/1000 + (0.0730617423511295*omega - 1.65879938788724)**2/1000 + (0.0732930040876666*omega - 0.795064056188006)**2/1000 + (0.0733025930741696*omega + 0.4725328009993)**2/1000 + (0.0735653516229114*omega + 0.486134087587082)**2/1000 + (0.0749625665152127*omega + 1.96775804593105)**2/1000 + (0.0751663099740335*omega - 0.406686705619266)**2/1000 + (0.0753672255454299*omega - 1.82411375033085)**2/1000 + (0.0757598403646239*omega - 2.45227976130914)**2/1000 + (0.0767929713285094*omega - 2.62061549397065)**2/1000 + (0.0768110953070211*omega - 1.07699907246763)**2/1000 + (0.0772124421540276*omega + 0.475782432286229)**2/1000 + (0.077249491866127*omega - 0.101949643052689)**2/1000 + (0.0782554539559404*omega - 3.59548996299723)**2/1000 + (0.0787393965005831*omega - 1.35465184181809)**2/1000 + (0.0788535739712834*omega - 1.81770090821761)**2/1000 + (0.0792445791078271*omega + 3.86619698963575)**2/1000 + (0.0795510425795167*omega + 0.142547285653776)**2/1000 + (0.0798248107233164*omega - 1.51743521698452)**2/1000 + (0.0800422358086391*omega - 0.166468838235065)**2/1000 + (0.0801070400305968*omega + 4.894656028808)**2/1000 + (0.0803151722416713*omega - 1.17458035997033)**2/1000 + (0.080860058556838*omega + 2.53129923308508)**2/1000 + (0.0809963040412974*omega - 1.36009043731614)**2/1000 + (0.0813477865239645*omega - 1.24951071519914)**2/1000 + (0.0818339393646861*omega - 2.12688688566822)**2/1000 + (0.0818694568630934*omega - 1.43194812370486)**2/1000 + (0.0823458995860066*omega - 1.52026246148044)**2/1000 + (0.0837609197294295*omega + 3.85578150241865)**2/1000 + (0.0849547614080427*omega + 2.36583743995426)**2/1000 + (0.0850282309915066*omega - 1.31670597863204)**2/1000 + (0.0854670787161508*omega - 4.80420259978585)**2/1000 + (0.0855287045150702*omega + 1.36255581813628)**2/1000 + (0.0860973764609417*omega + 3.28246139725456)**2/1000 + (0.0862281105379205*omega + 2.00658067761274)**2/1000 + (0.0864641779612988*omega - 0.736293465909221)**2/1000 + (0.0867270256466417*omega + 3.91142114114355)**2/1000 + (0.0873417416360232*omega - 0.192942173298277)**2/1000 + (0.0873855673055701*omega - 0.810918113923749)**2/1000 + (0.0889618212659264*omega - 0.878577439153421)**2/1000 + (0.0898697668857807*omega + 4.08535728372252)**2/1000 + (0.0909075038573087*omega - 0.613106217126673)**2/1000 + (0.0916756865185701*omega - 0.61127943120931)**2/1000 + (0.0918385336887846*omega - 2.25106038044894)**2/1000 + (0.0922585503398573*omega - 5.67063812553575)**2/1000 + (0.0923013630151692*omega - 1.55054226671886)**2/1000 + (0.0925779797953204*omega - 0.448397300617676)**2/1000 + (0.0926259272753856*omega - 0.87688408119199)**2/1000 + (0.0926961261344088*omega + 4.54721703839685)**2/1000 + (0.0931208998942464*omega - 1.9861230970017)**2/1000 + (0.0943324981073023*omega + 0.864054717122515)**2/1000 + (0.0944527802418814*omega + 4.89843884645574)**2/1000 + (0.0945744928913001*omega - 0.430899968934208)**2/1000 + (0.0953747048988183*omega - 1.40311321998805)**2/1000 + (0.0960026248792015*omega - 2.20727270329281)**2/1000 + (0.0963714158477524*omega - 0.825670694231136)**2/1000 + (0.0964502623754334*omega + 1.70313643150864)**2/1000 + (0.0967745696496289*omega - 2.42701014630198)**2/1000 + (0.0970473733021703*omega - 0.364065038189882)**2/1000 + (0.0975273920327303*omega - 1.21206754895474)**2/1000 + (0.0979721109457587*omega + 0.27860255218293)**2/1000 + (0.0979794358741386*omega - 1.02988643931682)**2/1000 + (0.098800244643024*omega - 2.86982859293651)**2/1000 + (0.0988699979170821*omega + 6.22496591478499)**2/1000 + (0.098970317485012*omega + 1.21053743507764)**2/1000 + (0.100402815558605*omega - 0.817090113124564)**2/1000 + (0.101055974130998*omega + 3.69831688105573)**2/1000 + (0.101260971374925*omega + 5.37359535163085)**2/1000 + (0.101646258533881*omega + 0.101523351971581)**2/1000 + (0.102268488023332*omega + 0.210564388939457)**2/1000 + (0.103488031453839*omega - 2.94919133019695)**2/1000 + (0.10412226384865*omega - 1.23229406699112)**2/1000 + (0.106337076817124*omega + 1.07918783028981)**2/1000 + (0.107045220213239*omega + 0.626900533088056)**2/1000 + (0.107076422796369*omega - 0.357999673214485)**2/1000 + (0.107088108584925*omega - 4.87132947615587)**2/1000 + (0.107952272283009*omega - 0.144273135034834)**2/1000 + (0.108579015816467*omega - 1.52216914858561)**2/1000 + (0.108701485311837*omega - 1.8297459460064)**2/1000 + (0.108800252284793*omega - 1.50629771718441)**2/1000 + (0.108880892722818*omega + 1.5119337802243)**2/1000 + (0.109039268725827*omega - 1.6864602078206)**2/1000 + (0.109586824653321*omega + 0.0175474572915162)**2/1000 + (0.109896432307962*omega - 1.77837046640025)**2/1000 + (0.109979897338337*omega - 2.46938736934419)**2/1000 + (0.1106455656967*omega - 0.566148732744524)**2/1000 + (0.110801456879792*omega - 0.0735560221345168)**2/1000 + (0.11240085082127*omega - 4.13235497541812)**2/1000 + (0.113413538311278*omega + 3.00273922416236)**2/1000 + (0.113926327428275*omega + 0.675027756052125)**2/1000 + (0.114286647701659*omega + 1.18721597719008)**2/1000 + (0.11430844752087*omega + 0.971544679335784)**2/1000 + (0.114515297982094*omega - 0.0799992393962046)**2/1000 + (0.114681163368713*omega - 2.10740878611215)**2/1000 + (0.115065378088277*omega - 1.44158303378696)**2/1000 + (0.115214470294952*omega - 1.35846982884728)**2/1000 + (0.116370757506953*omega + 0.458393525217065)**2/1000 + (0.116506790551307*omega + 1.93596738746213)**2/1000 + (0.116583478372927*omega - 1.03808993450497)**2/1000 + (0.116610471775277*omega + 2.14289121550922)**2/1000 + (0.116755387831005*omega - 3.63826247123633)**2/1000 + (0.117823001383121*omega - 1.49088832137321)**2/1000 + (0.118924137097522*omega - 4.96650638195698)**2/1000 + (0.119866166482112*omega + 0.519762573722375)**2/1000 + (0.120881991768898*omega - 1.32363889284976)**2/1000 + (0.121396993064223*omega - 4.90155816847783)**2/1000 + (0.121774327790941*omega - 1.34645777148805)**2/1000 + (0.121828013171061*omega - 0.519490053069318)**2/1000 + (0.122108519451514*omega - 1.00471695818954)**2/1000 + (0.123428803199714*omega + 1.56890346784295)**2/1000 + (0.124459363525776*omega - 0.441743034821414)**2/1000 + (0.124827709425778*omega - 0.275408305014047)**2/1000 + (0.125211865856904*omega + 0.391375484541136)**2/1000 + (0.126391548904714*omega - 1.00430914435628)**2/1000 + (0.127239872434692*omega - 1.50618938916206)**2/1000 + (0.128614769710675*omega - 2.06327188543228)**2/1000 + (0.12954015634866*omega + 1.0973875393836)**2/1000 + (0.130166783828577*omega + 2.58361842210391)**2/1000 + (0.132267487644214*omega - 0.713751589720563)**2/1000 + (0.132813023526505*omega + 4.68923899901119)**2/1000 + (0.133103914795231*omega + 4.24613946814808)**2/1000 + (0.133272510218813*omega - 2.54718348608573)**2/1000 + (0.133314518117007*omega - 1.91214950405829)**2/1000 + (0.134172582850879*omega + 4.95231093291541)**2/1000 + (0.134347960576281*omega + 3.68522540625551)**2/1000 + (0.134584727876259*omega + 3.87768617562726)**2/1000 + (0.135092673835991*omega - 3.58949562681766)**2/1000 + (0.13663844319267*omega - 4.73140750257182)**2/1000 + (0.137325804801194*omega - 2.68738507282287)**2/1000 + (0.137491743378902*omega - 0.512352083054822)**2/1000 + (0.139946876964133*omega - 0.110790783099536)**2/1000 + (0.140695499318882*omega - 1.46145428658095)**2/1000 + (0.141130269382188*omega - 3.61732759840639)**2/1000 + (0.141847636275927*omega - 1.60455583695115)**2/1000 + (0.142135358441463*omega - 0.346260885194007)**2/1000 + (0.142266423366637*omega - 0.848968543768823)**2/1000 + (0.142467748031231*omega + 3.37942668590613)**2/1000 + (0.144036586809169*omega - 0.878980339696919)**2/1000 + (0.144580841948296*omega - 2.63145799838507)**2/1000 + (0.14468445596336*omega - 1.37210787140678)**2/1000 + (0.145486057273153*omega + 5.0872064625955)**2/1000 + (0.146640704829023*omega + 0.790591367038147)**2/1000 + (0.146935133324088*omega + 2.38802709685187)**2/1000 + (0.147298653035618*omega + 0.155939894513438)**2/1000 + (0.147337824075761*omega - 2.36780095879596)**2/1000 + (0.147678593383995*omega + 0.480562926226856)**2/1000 + (0.148416753785832*omega - 1.90473626188765)**2/1000 + (0.148775303169157*omega + 0.622619071496666)**2/1000 + (0.149092454463918*omega - 0.846048398989109)**2/1000 + (0.149201616973515*omega + 2.28562025429939)**2/1000 + (0.14926364069733*omega - 1.23294245252352)**2/1000 + (0.151820753202389*omega + 0.694955559837298)**2/1000 + (0.152252019233946*omega - 1.3604241131935)**2/1000 + (0.1536311812565*omega + 4.4322325180702)**2/1000 + (0.153865756832546*omega - 2.37397425394555)**2/1000 + (0.154926659122108*omega - 2.20174710369551)**2/1000 + (0.158682813617961*omega - 1.94919239691455)**2/1000 + (0.158752289984212*omega + 0.00127125957536434)**2/1000 + (0.159456238700806*omega - 6.04220672856907)**2/1000 + (0.15965533490855*omega + 3.01770147567084)**2/1000 + (0.15966130255541*omega - 2.40116362541704)**2/1000 + (0.159707203278705*omega + 1.88467365066525)**2/1000 + (0.160003060879191*omega - 0.678735694326898)**2/1000 + (0.160073274803242*omega + 5.44211351411892)**2/1000 + (0.160255888647561*omega + 4.92669212985048)**2/1000 + (0.160475531924444*omega - 0.350536568153753)**2/1000 + (0.160639519402827*omega + 2.62704186788226)**2/1000 + (0.160653093912527*omega - 0.183682353647466)**2/1000 + (0.160902217254456*omega + 0.597283569211714)**2/1000 + (0.161385698353701*omega - 5.18852943545717)**2/1000 + (0.161531755707284*omega - 0.455350332027502)**2/1000 + (0.162191712711442*omega + 2.2253458075294)**2/1000 + (0.162496997792374*omega + 3.93823067442148)**2/1000 + (0.162839702557842*omega - 0.147063912630934)**2/1000 + (0.163078967976842*omega + 0.971041064719302)**2/1000 + (0.163558946599574*omega + 0.917197593881535)**2/1000 + (0.164102901828944*omega + 4.52625500676412)**2/1000 + (0.164167148271997*omega - 0.931203914973669)**2/1000 + (0.1684800217722*omega + 1.81745796519132)**2/1000 + (0.168481548088746*omega + 3.26549248174754)**2/1000 + (0.168788730676755*omega - 2.73620633570715)**2/1000 + (0.170057169521647*omega - 1.46457364095073)**2/1000 + (0.170765699607888*omega - 2.47850334103853)**2/1000 + (0.173400076468799*omega - 0.151146762162044)**2/1000 + (0.173557629414974*omega - 3.69219070409922)**2/1000 + (0.174143074941884*omega - 1.0062774494879)**2/1000 + (0.174662768737981*omega - 2.99347026898374)**2/1000 + (0.175359277998137*omega - 0.256161025858276)**2/1000 + (0.175595234876331*omega + 1.912364709677)**2/1000 + (0.175857648949171*omega + 0.403944019753743)**2/1000 + (0.176153738044844*omega + 3.44922143983194)**2/1000 + (0.176381060643731*omega + 0.731608227845397)**2/1000 + (0.177136498053419*omega - 2.24413415862676)**2/1000 + (0.177595091685785*omega + 0.786230054841617)**2/1000 + (0.177655615904431*omega + 3.23950926476259)**2/1000 + (0.177822192357109*omega - 3.63018332146239)**2/1000 + (0.178298831496881*omega - 0.990595216142232)**2/1000 + (0.178850835164353*omega + 2.20116003446645)**2/1000 + (0.178851995123391*omega - 2.32592772960785)**2/1000 + (0.180536460205676*omega - 0.596180187022459)**2/1000 + (0.180539193887091*omega + 3.54195044604925)**2/1000 + (0.180656646504482*omega + 0.00579649211939914)**2/1000 + (0.180774415113773*omega + 0.337857035932947)**2/1000 + (0.181484246622102*omega - 2.72043413044514)**2/1000 + (0.181507385961032*omega + 0.653785035774737)**2/1000 + (0.185949665265352*omega + 0.319318892285142)**2/1000 + (0.186663826700154*omega - 0.313135709877205)**2/1000 + (0.186680044078603*omega + 2.43890660215152)**2/1000 + (0.187455853327784*omega - 1.60076784908245)**2/1000 + (0.188138151959697*omega - 0.134608929797377)**2/1000 + (0.189182514046352*omega - 2.25391273201265)**2/1000 + (0.189239444505027*omega + 3.52149229439819)**2/1000 + (0.1895997981133*omega - 0.363896935492629)**2/1000 + (0.192456611703388*omega + 0.266044335041479)**2/1000 + (0.192672913049938*omega - 0.38297588806567)**2/1000 + (0.193218605104251*omega + 1.34622713653271)**2/1000 + (0.194451519655832*omega + 0.356193785981299)**2/1000 + (0.19623771685919*omega - 1.83046262410453)**2/1000 + (0.196468876872427*omega - 0.890584823113171)**2/1000 + (0.196683838113515*omega + 0.6743376933439)**2/1000 + (0.196803993759295*omega + 1.74504144342326)**2/1000 + (0.198252756598426*omega + 0.126261093663514)**2/1000 + (0.198524067445126*omega + 0.507987847340515)**2/1000 + (0.200607704999587*omega - 0.43608746981878)**2/1000 + (0.201027555993396*omega - 0.800003234165395)**2/1000 + (0.201748916997997*omega - 0.693161774057432)**2/1000 + (0.203693579282793*omega - 0.0630216318377355)**2/1000 + (0.204061634406463*omega + 1.94800924386756)**2/1000 + (0.205869303536403*omega + 0.831359394113171)**2/1000 + (0.207399289916855*omega + 1.56339712052124)**2/1000 + (0.207876268866319*omega - 0.60933406082112)**2/1000 + (0.209397171663463*omega + 0.750113796655354)**2/1000 + (0.209766180567019*omega - 1.97483539933267)**2/1000 + (0.209804457777011*omega - 1.62124988429245)**2/1000 + (0.210854381999079*omega - 4.28909384992872)**2/1000 + (0.210868059770782*omega - 3.21649118074609)**2/1000 + (0.211028692791944*omega - 2.77544965739123)**2/1000 + (0.211546562690886*omega + 6.93990075456966)**2/1000 + (0.211974074074634*omega - 0.785948719258937)**2/1000 + (0.213473683784749*omega + 2.11243008958093)**2/1000 + (0.213826687969784*omega + 4.28775003394151)**2/1000 + (0.214628155105188*omega - 0.253072532391875)**2/1000 + (0.214837188119924*omega + 0.359860544766709)**2/1000 + (0.214875163029223*omega + 1.99499648673232)**2/1000 + (0.21712081865591*omega - 2.53157056037779)**2/1000 + (0.217499871683712*omega + 2.97206702771489)**2/1000 + (0.217668194424448*omega - 3.77259434179767)**2/1000 + (0.220586326866901*omega + 1.08950264993879)**2/1000 + (0.221063205902779*omega - 1.84183976332912)**2/1000 + (0.221487973703521*omega + 0.751939809434003)**2/1000 + (0.221568959765829*omega + 5.17590761594427)**2/1000 + (0.223166671437497*omega + 1.03543114499896)**2/1000 + (0.225203556006535*omega + 0.674472073314284)**2/1000 + (0.225760904474549*omega - 0.0431252010819283)**2/1000 + (0.225869733778203*omega + 2.73695072832211)**2/1000 + (0.227915494851493*omega - 1.84582892168407)**2/1000 + (0.228145945953986*omega + 1.63524870905952)**2/1000 + (0.230448157932501*omega - 1.32231091892392)**2/1000 + (0.231195189669929*omega - 3.09198959306264)**2/1000 + (0.231893263525225*omega - 1.04655129766253)**2/1000 + (0.236395567725309*omega - 1.58867901185733)**2/1000 + (0.243553614130201*omega - 3.73451580170591)**2/1000 + (0.246503092799784*omega + 4.15716582388191)**2/1000 + (0.249630410655862*omega - 1.47142891809239)**2/1000 + (0.249816727352599*omega - 2.21286493957463)**2/1000 + (0.250879681500779*omega - 0.972354645587814)**2/1000 + (0.253478212732348*omega + 0.382445607337482)**2/1000 + (0.253746733216783*omega + 3.05123837817833)**2/1000 + (0.254823850799203*omega - 1.52788276983987)**2/1000 + (0.255654233205204*omega - 3.43973867857903)**2/1000 + (0.256749689805453*omega + 3.15954880248022)**2/1000 + (0.257306727985132*omega + 2.71051871237226)**2/1000 + (0.257716130935553*omega - 1.40446565888416)**2/1000 + (0.257894721253544*omega + 2.12587712447936)**2/1000 + (0.258329634772187*omega + 1.82221116283807)**2/1000 + (0.264642774488878*omega - 0.970523609666794)**2/1000 + (0.270972929862519*omega - 3.81787328071367)**2/1000 + (0.273657734869792*omega + 3.16741023379664)**2/1000 + (0.273813163129433*omega - 1.5495400770349)**2/1000 + (0.281817538810036*omega + 2.8797003555321)**2/1000 + (0.287215948039545*omega - 2.07777589939769)**2/1000 + (0.288653721982961*omega - 2.92190577494845)**2/1000 + (0.291411539858612*omega + 2.82340358310219)**2/1000 + (0.291933697980606*omega - 0.980518670626814)**2/1000 + (0.292195005751993*omega + 1.02751826112322)**2/1000 + (0.297319079310913*omega - 0.507896723621596)**2/1000 + (0.307609848645011*omega + 2.82289360680683)**2/1000 + (0.308045059687365*omega - 0.330137078985435)**2/1000 + (0.308587967446202*omega + 2.30842073925159)**2/1000 + (0.311816989815498*omega + 3.09531542461421)**2/1000 + (0.319791993938148*omega + 0.0661304198796442)**2/1000 + (0.32002654189143*omega - 1.72241602100013)**2/1000 + (0.320946834697764*omega - 1.75590628051959)**2/1000 + (0.321517570612037*omega - 0.734196806400663)**2/1000 + (0.32407175417778*omega - 0.904177646268912)**2/1000 + (0.329259043684518*omega - 1.50279002801632)**2/1000 + (0.335199677960125*omega + 4.26495716703124)**2/1000 + (0.336950465987288*omega + 0.739186591816508)**2/1000 + (0.342561607056881*omega - 0.148265995277745)**2/1000 + (0.344570516494018*omega + 0.918826192468521)**2/1000 + (0.344784469559524*omega - 0.95204604752062)**2/1000 + (0.346681218778008*omega - 2.38305318842261)**2/1000 + (0.349582195135491*omega + 2.64895629879968)**2/1000 + (0.377438949139976*omega - 1.03987278201506)**2/1000 + (0.38823893685177*omega - 1.74962849509609)**2/1000 + (0.403562773789618*omega - 0.945964520932781)**2/1000 + (0.405415696705132*omega - 1.23378988789052)**2/1000 + (0.417899784695042*omega - 0.101741986536008)**2/1000 + (0.464337304364992*omega - 1.65048520200016)**2/1000\n"
     ]
    }
   ],
   "source": [
    "#Variance\n",
    "print(np.var(inflation))\n",
    "print(np.var(output))\n"
   ]
  },
  {
   "cell_type": "code",
   "execution_count": 120,
   "metadata": {},
   "outputs": [],
   "source": [
    "mean_pi = np.linspace(np.mean(inflation),np.mean(inflation),1000)\n",
    "mean_y = np.linspace(np.mean(output),np.mean(output),1000)"
   ]
  },
  {
   "cell_type": "code",
   "execution_count": 127,
   "metadata": {},
   "outputs": [
    {
     "data": {
      "image/png": "[encoded data removed]",
      "text/plain": [
       "<Figure size 432x288 with 1 Axes>"
      ]
     },
     "metadata": {
      "needs_background": "light"
     },
     "output_type": "display_data"
    }
   ],
   "source": [
    "plt.plot(output,label=\"Output\")\n",
    "plt.plot(mean_y,color=\"r\",label=\"Mean of output\",linestyle=\"dashed\")\n",
    "plt.xlabel(\"Period\")\n",
    "plt.ylabel(\"Change in output\")\n",
    "plt.legend()\n",
    "plt.show()"
   ]
  },
  {
   "cell_type": "code",
   "execution_count": 128,
   "metadata": {},
   "outputs": [
    {
     "data": {
      "image/png": "[encoded data removed]",
      "text/plain": [
       "<Figure size 432x288 with 1 Axes>"
      ]
     },
     "metadata": {
      "needs_background": "light"
     },
     "output_type": "display_data"
    }
   ],
   "source": [
    "plt.plot(inflation,label=\"Inflation\")\n",
    "plt.plot(mean_pi,color=\"r\",label=\"Mean of inflation\",linestyle=\"dashed\")\n",
    "plt.xlabel(\"Period\")\n",
    "plt.ylabel(\"Change in inflaiton\")\n",
    "plt.legend()\n",
    "plt.show()"
   ]
  },
  {
   "cell_type": "code",
   "execution_count": 100,
   "metadata": {},
   "outputs": [
    {
     "data": {
      "image/png": "[encoded data removed]",
      "text/latex": [
       "$$-0.07733305121822838$$"
      ],
      "text/plain": [
       "-0.07733305121822838"
      ]
     },
     "execution_count": 100,
     "metadata": {},
     "output_type": "execute_result"
    }
   ],
   "source": [
    "#Correlatation between inflation and output\n",
    "#pearsons R\n",
    "np.corrcoef(inflation,output)[0,1]"
   ]
  },
  {
   "cell_type": "code",
   "execution_count": 138,
   "metadata": {},
   "outputs": [
    {
     "data": {
      "image/png": "[encoded data removed]",
      "text/plain": [
       "<Figure size 432x288 with 1 Axes>"
      ]
     },
     "metadata": {
      "needs_background": "light"
     },
     "output_type": "display_data"
    }
   ],
   "source": [
    "plt.plot(inflation,label=\"Inflation\",alpha=1)\n",
    "plt.plot(output,color=\"r\",label=\"Output\",alpha=0.2)\n",
    "plt.xlabel(\"Period\")\n",
    "plt.ylabel(\"Change\")\n",
    "plt.legend()\n",
    "plt.show()"
   ]
  },
  {
   "cell_type": "code",
   "execution_count": 101,
   "metadata": {},
   "outputs": [
    {
     "data": {
      "text/html": [
       "<div>\n",
       "<style scoped>\n",
       "    .dataframe tbody tr th:only-of-type {\n",
       "        vertical-align: middle;\n",
       "    }\n",
       "\n",
       "    .dataframe tbody tr th {\n",
       "        vertical-align: top;\n",
       "    }\n",
       "\n",
       "    .dataframe thead th {\n",
       "        text-align: right;\n",
       "    }\n",
       "</style>\n",
       "<table border=\"1\" class=\"dataframe\">\n",
       "  <thead>\n",
       "    <tr style=\"text-align: right;\">\n",
       "      <th></th>\n",
       "      <th>inflation</th>\n",
       "      <th>output</th>\n",
       "    </tr>\n",
       "  </thead>\n",
       "  <tbody>\n",
       "    <tr>\n",
       "      <th>0</th>\n",
       "      <td>0.178487</td>\n",
       "      <td>0.275030</td>\n",
       "    </tr>\n",
       "    <tr>\n",
       "      <th>1</th>\n",
       "      <td>0.453422</td>\n",
       "      <td>1.304737</td>\n",
       "    </tr>\n",
       "    <tr>\n",
       "      <th>2</th>\n",
       "      <td>0.464016</td>\n",
       "      <td>2.153285</td>\n",
       "    </tr>\n",
       "    <tr>\n",
       "      <th>3</th>\n",
       "      <td>0.656707</td>\n",
       "      <td>0.409208</td>\n",
       "    </tr>\n",
       "    <tr>\n",
       "      <th>4</th>\n",
       "      <td>0.381615</td>\n",
       "      <td>-0.291789</td>\n",
       "    </tr>\n",
       "  </tbody>\n",
       "</table>\n",
       "</div>"
      ],
      "text/plain": [
       "   inflation    output\n",
       "0   0.178487  0.275030\n",
       "1   0.453422  1.304737\n",
       "2   0.464016  2.153285\n",
       "3   0.656707  0.409208\n",
       "4   0.381615 -0.291789"
      ]
     },
     "execution_count": 101,
     "metadata": {},
     "output_type": "execute_result"
    }
   ],
   "source": [
    "#make a dataframe in order to make lagged variables\n",
    "d = {\"inflation\" : inflation, \"output\":output}\n",
    "df = pd.DataFrame(data=d)\n",
    "df.head()"
   ]
  },
  {
   "cell_type": "code",
   "execution_count": 105,
   "metadata": {},
   "outputs": [
    {
     "data": {
      "text/html": [
       "<div>\n",
       "<style scoped>\n",
       "    .dataframe tbody tr th:only-of-type {\n",
       "        vertical-align: middle;\n",
       "    }\n",
       "\n",
       "    .dataframe tbody tr th {\n",
       "        vertical-align: top;\n",
       "    }\n",
       "\n",
       "    .dataframe thead th {\n",
       "        text-align: right;\n",
       "    }\n",
       "</style>\n",
       "<table border=\"1\" class=\"dataframe\">\n",
       "  <thead>\n",
       "    <tr style=\"text-align: right;\">\n",
       "      <th></th>\n",
       "      <th>inflation</th>\n",
       "      <th>output</th>\n",
       "      <th>l_inflation</th>\n",
       "      <th>l_output</th>\n",
       "    </tr>\n",
       "  </thead>\n",
       "  <tbody>\n",
       "    <tr>\n",
       "      <th>0</th>\n",
       "      <td>0.178487</td>\n",
       "      <td>0.275030</td>\n",
       "      <td>NaN</td>\n",
       "      <td>NaN</td>\n",
       "    </tr>\n",
       "    <tr>\n",
       "      <th>1</th>\n",
       "      <td>0.453422</td>\n",
       "      <td>1.304737</td>\n",
       "      <td>0.178487</td>\n",
       "      <td>0.275030</td>\n",
       "    </tr>\n",
       "    <tr>\n",
       "      <th>2</th>\n",
       "      <td>0.464016</td>\n",
       "      <td>2.153285</td>\n",
       "      <td>0.453422</td>\n",
       "      <td>1.304737</td>\n",
       "    </tr>\n",
       "    <tr>\n",
       "      <th>3</th>\n",
       "      <td>0.656707</td>\n",
       "      <td>0.409208</td>\n",
       "      <td>0.464016</td>\n",
       "      <td>2.153285</td>\n",
       "    </tr>\n",
       "    <tr>\n",
       "      <th>4</th>\n",
       "      <td>0.381615</td>\n",
       "      <td>-0.291789</td>\n",
       "      <td>0.656707</td>\n",
       "      <td>0.409208</td>\n",
       "    </tr>\n",
       "  </tbody>\n",
       "</table>\n",
       "</div>"
      ],
      "text/plain": [
       "   inflation    output  l_inflation  l_output\n",
       "0   0.178487  0.275030          NaN       NaN\n",
       "1   0.453422  1.304737     0.178487  0.275030\n",
       "2   0.464016  2.153285     0.453422  1.304737\n",
       "3   0.656707  0.409208     0.464016  2.153285\n",
       "4   0.381615 -0.291789     0.656707  0.409208"
      ]
     },
     "execution_count": 105,
     "metadata": {},
     "output_type": "execute_result"
    }
   ],
   "source": [
    "df[\"l_inflation\"] = df[\"inflation\"].shift(1)\n",
    "l_inflation = df[\"l_inflation\"] \n",
    "df[\"l_output\"] = df[\"output\"].shift(1)\n",
    "l_output = df[\"l_output\"]\n",
    "df.head()"
   ]
  },
  {
   "cell_type": "code",
   "execution_count": 106,
   "metadata": {},
   "outputs": [
    {
     "data": {
      "image/png": "[encoded data removed]",
      "text/latex": [
       "$$0.9761036425998396$$"
      ],
      "text/plain": [
       "0.9761036425998396"
      ]
     },
     "execution_count": 106,
     "metadata": {},
     "output_type": "execute_result"
    }
   ],
   "source": [
    "#Autocorrelation\n",
    "np.corrcoef(inflation[1:999],l_inflation[1:999])[0,1]\n"
   ]
  },
  {
   "cell_type": "code",
   "execution_count": 107,
   "metadata": {},
   "outputs": [
    {
     "data": {
      "image/png": "[encoded data removed]",
      "text/latex": [
       "$$0.7592800747695198$$"
      ],
      "text/plain": [
       "0.7592800747695198"
      ]
     },
     "execution_count": 107,
     "metadata": {},
     "output_type": "execute_result"
    }
   ],
   "source": [
    "np.corrcoef(output[1:999],l_output[1:999])[0,1]"
   ]
  },
  {
   "cell_type": "code",
   "execution_count": null,
   "metadata": {},
   "outputs": [],
   "source": [
    "#There is a lot of autocorrelation "
   ]
  },
  {
   "cell_type": "markdown",
   "metadata": {},
   "source": [
    "**Question 5**"
   ]
  },
  {
   "cell_type": "code",
   "execution_count": 120,
   "metadata": {},
   "outputs": [],
   "source": [
    "#define a new function with phi\n",
    "equil_piii= sm.lambdify((yt_m1, yt, pit_m1, st_m1, ct, phi, omega, gamma),eq_pi_ar)\n",
    "def equili_pi_phi (yt_m1, yt, pit_m1, st_m1, ct, phi, omega=pms['omega'], gamma=pms['gamma']):\n",
    "    return equili_pi_phi (yt_m1, yt, pit_m1, st_m1, ct, phi, omega, gamma)"
   ]
  },
  {
   "cell_type": "code",
   "execution_count": 121,
   "metadata": {},
   "outputs": [],
   "source": [
    "def corr_func(phi,v_m=0, s_m=0) \n",
    "\n",
    "    np.random.seed(1)\n",
    "    pi_m = 0\n",
    "    yn = 0\n",
    "    y_m = 0\n",
    "    xt = np.random.normal(loc=0,scale=pms['sigma_x'],size=1000)\n",
    "    ct = np.random.normal(loc=0,scale=pms['sigma_c'],size=1000)\n",
    "\n",
    "    \n",
    "    list_output = list(range(1000))\n",
    "    list_inflation = list(range(1000))\n",
    "    for i in range(1000):\n",
    "        if i == 0 :\n",
    "            \n",
    "            y = equili_output_ar(v_m,pi_m,s_m,y_m,ct[i],xt[i])\n",
    "            list_output[i] = y\n",
    "            yn = y\n",
    "            p = equili_pi_phi(y_m,yn,pi_m,s_m,ct[i],phi)\n",
    "            list_inflation[i] = p  \n",
    "            pi_m = p\n",
    "            y_m = y\n",
    "            v_m = pms[\"delta\"] * v_m + xt[i]\n",
    "            s_m = pms[\"omega\"] * s_m + ct [i] \n",
    "        else :\n",
    "            y = equili_output_ar(v_m,pi_m,s_m,y_m,ct[i],xt[i])\n",
    "            \n",
    "            list_output[i] = y\n",
    "            yn = y\n",
    "            p = equili_pi_phi(y_m,yn,pi_m,s_m,ct[i],phi)\n",
    "            list_inflation[i] = p  \n",
    "            pi_m = p\n",
    "            y_m = y\n",
    "            v_m = pms[\"delta\"] * v_m + xt[i]\n",
    "            s_m = pms[\"omega\"] * s_m + ct[i]\n",
    "    \n",
    "    correlation = np.corrcoef(list_inflation,list_output)[0,1]\n",
    "\n",
    "    return correlation"
   ]
  },
  {
   "cell_type": "code",
   "execution_count": 124,
   "metadata": {},
   "outputs": [],
   "source": [
    "phi_vec = np.linspace(0,1,1000)\n"
   ]
  },
  {
   "cell_type": "code",
   "execution_count": 125,
   "metadata": {},
   "outputs": [
    {
     "ename": "RecursionError",
     "evalue": "maximum recursion depth exceeded",
     "output_type": "error",
     "traceback": [
      "\u001b[1;31m---------------------------------------------------------------------------\u001b[0m",
      "\u001b[1;31mRecursionError\u001b[0m                            Traceback (most recent call last)",
      "\u001b[1;32m<ipython-input-125-0f7ee7532d40>\u001b[0m in \u001b[0;36m<module>\u001b[1;34m\u001b[0m\n\u001b[1;32m----> 1\u001b[1;33m \u001b[0mtest\u001b[0m \u001b[1;33m=\u001b[0m \u001b[0mcorr_func\u001b[0m\u001b[1;33m(\u001b[0m\u001b[0mphi_vec\u001b[0m\u001b[1;33m)\u001b[0m\u001b[1;33m\u001b[0m\u001b[1;33m\u001b[0m\u001b[0m\n\u001b[0m\u001b[0;32m      2\u001b[0m \u001b[0mvalue\u001b[0m \u001b[1;33m=\u001b[0m \u001b[0mnp\u001b[0m\u001b[1;33m.\u001b[0m\u001b[0mlinspace\u001b[0m\u001b[1;33m(\u001b[0m\u001b[0mtest\u001b[0m\u001b[1;33m,\u001b[0m\u001b[0mtest\u001b[0m\u001b[1;33m,\u001b[0m\u001b[1;36m1000\u001b[0m\u001b[1;33m)\u001b[0m\u001b[1;33m\u001b[0m\u001b[1;33m\u001b[0m\u001b[0m\n\u001b[0;32m      3\u001b[0m \u001b[0mplt\u001b[0m\u001b[1;33m.\u001b[0m\u001b[0mplot\u001b[0m\u001b[1;33m(\u001b[0m\u001b[0mvalue\u001b[0m\u001b[1;33m)\u001b[0m\u001b[1;33m\u001b[0m\u001b[1;33m\u001b[0m\u001b[0m\n",
      "\u001b[1;32m<ipython-input-121-f6c2d0ee9eac>\u001b[0m in \u001b[0;36mcorr_func\u001b[1;34m(phi, v_m, s_m)\u001b[0m\n\u001b[0;32m     20\u001b[0m             \u001b[0mlist_output\u001b[0m\u001b[1;33m[\u001b[0m\u001b[0mi\u001b[0m\u001b[1;33m]\u001b[0m \u001b[1;33m=\u001b[0m \u001b[0my\u001b[0m\u001b[1;33m\u001b[0m\u001b[1;33m\u001b[0m\u001b[0m\n\u001b[0;32m     21\u001b[0m             \u001b[0myn\u001b[0m \u001b[1;33m=\u001b[0m \u001b[0my\u001b[0m\u001b[1;33m\u001b[0m\u001b[1;33m\u001b[0m\u001b[0m\n\u001b[1;32m---> 22\u001b[1;33m             \u001b[0mp\u001b[0m \u001b[1;33m=\u001b[0m \u001b[0mequili_pi_phi\u001b[0m\u001b[1;33m(\u001b[0m\u001b[0my_m\u001b[0m\u001b[1;33m,\u001b[0m\u001b[0myn\u001b[0m\u001b[1;33m,\u001b[0m\u001b[0mpi_m\u001b[0m\u001b[1;33m,\u001b[0m\u001b[0ms_m\u001b[0m\u001b[1;33m,\u001b[0m\u001b[0mct\u001b[0m\u001b[1;33m[\u001b[0m\u001b[0mi\u001b[0m\u001b[1;33m]\u001b[0m\u001b[1;33m,\u001b[0m\u001b[0mphi\u001b[0m\u001b[1;33m)\u001b[0m\u001b[1;33m\u001b[0m\u001b[1;33m\u001b[0m\u001b[0m\n\u001b[0m\u001b[0;32m     23\u001b[0m             \u001b[0mlist_inflation\u001b[0m\u001b[1;33m[\u001b[0m\u001b[0mi\u001b[0m\u001b[1;33m]\u001b[0m \u001b[1;33m=\u001b[0m \u001b[0mp\u001b[0m\u001b[1;33m\u001b[0m\u001b[1;33m\u001b[0m\u001b[0m\n\u001b[0;32m     24\u001b[0m             \u001b[0mpi_m\u001b[0m \u001b[1;33m=\u001b[0m \u001b[0mp\u001b[0m\u001b[1;33m\u001b[0m\u001b[1;33m\u001b[0m\u001b[0m\n",
      "\u001b[1;32m<ipython-input-120-9aaf7834fe3b>\u001b[0m in \u001b[0;36mequili_pi_phi\u001b[1;34m(yt_m1, yt, pit_m1, st_m1, ct, phi, omega, gamma)\u001b[0m\n\u001b[0;32m      2\u001b[0m \u001b[0mequil_piii\u001b[0m\u001b[1;33m=\u001b[0m \u001b[0msm\u001b[0m\u001b[1;33m.\u001b[0m\u001b[0mlambdify\u001b[0m\u001b[1;33m(\u001b[0m\u001b[1;33m(\u001b[0m\u001b[0myt_m1\u001b[0m\u001b[1;33m,\u001b[0m \u001b[0myt\u001b[0m\u001b[1;33m,\u001b[0m \u001b[0mpit_m1\u001b[0m\u001b[1;33m,\u001b[0m \u001b[0mst_m1\u001b[0m\u001b[1;33m,\u001b[0m \u001b[0mct\u001b[0m\u001b[1;33m,\u001b[0m \u001b[0mphi\u001b[0m\u001b[1;33m,\u001b[0m \u001b[0momega\u001b[0m\u001b[1;33m,\u001b[0m \u001b[0mgamma\u001b[0m\u001b[1;33m)\u001b[0m\u001b[1;33m,\u001b[0m\u001b[0meq_pi_ar\u001b[0m\u001b[1;33m)\u001b[0m\u001b[1;33m\u001b[0m\u001b[1;33m\u001b[0m\u001b[0m\n\u001b[0;32m      3\u001b[0m \u001b[1;32mdef\u001b[0m \u001b[0mequili_pi_phi\u001b[0m \u001b[1;33m(\u001b[0m\u001b[0myt_m1\u001b[0m\u001b[1;33m,\u001b[0m \u001b[0myt\u001b[0m\u001b[1;33m,\u001b[0m \u001b[0mpit_m1\u001b[0m\u001b[1;33m,\u001b[0m \u001b[0mst_m1\u001b[0m\u001b[1;33m,\u001b[0m \u001b[0mct\u001b[0m\u001b[1;33m,\u001b[0m \u001b[0mphi\u001b[0m\u001b[1;33m,\u001b[0m \u001b[0momega\u001b[0m\u001b[1;33m=\u001b[0m\u001b[0mpms\u001b[0m\u001b[1;33m[\u001b[0m\u001b[1;34m'omega'\u001b[0m\u001b[1;33m]\u001b[0m\u001b[1;33m,\u001b[0m \u001b[0mgamma\u001b[0m\u001b[1;33m=\u001b[0m\u001b[0mpms\u001b[0m\u001b[1;33m[\u001b[0m\u001b[1;34m'gamma'\u001b[0m\u001b[1;33m]\u001b[0m\u001b[1;33m)\u001b[0m\u001b[1;33m:\u001b[0m\u001b[1;33m\u001b[0m\u001b[1;33m\u001b[0m\u001b[0m\n\u001b[1;32m----> 4\u001b[1;33m     \u001b[1;32mreturn\u001b[0m \u001b[0mequili_pi_phi\u001b[0m \u001b[1;33m(\u001b[0m\u001b[0myt_m1\u001b[0m\u001b[1;33m,\u001b[0m \u001b[0myt\u001b[0m\u001b[1;33m,\u001b[0m \u001b[0mpit_m1\u001b[0m\u001b[1;33m,\u001b[0m \u001b[0mst_m1\u001b[0m\u001b[1;33m,\u001b[0m \u001b[0mct\u001b[0m\u001b[1;33m,\u001b[0m \u001b[0mphi\u001b[0m\u001b[1;33m,\u001b[0m \u001b[0momega\u001b[0m\u001b[1;33m,\u001b[0m \u001b[0mgamma\u001b[0m\u001b[1;33m)\u001b[0m\u001b[1;33m\u001b[0m\u001b[1;33m\u001b[0m\u001b[0m\n\u001b[0m",
      "... last 1 frames repeated, from the frame below ...\n",
      "\u001b[1;32m<ipython-input-120-9aaf7834fe3b>\u001b[0m in \u001b[0;36mequili_pi_phi\u001b[1;34m(yt_m1, yt, pit_m1, st_m1, ct, phi, omega, gamma)\u001b[0m\n\u001b[0;32m      2\u001b[0m \u001b[0mequil_piii\u001b[0m\u001b[1;33m=\u001b[0m \u001b[0msm\u001b[0m\u001b[1;33m.\u001b[0m\u001b[0mlambdify\u001b[0m\u001b[1;33m(\u001b[0m\u001b[1;33m(\u001b[0m\u001b[0myt_m1\u001b[0m\u001b[1;33m,\u001b[0m \u001b[0myt\u001b[0m\u001b[1;33m,\u001b[0m \u001b[0mpit_m1\u001b[0m\u001b[1;33m,\u001b[0m \u001b[0mst_m1\u001b[0m\u001b[1;33m,\u001b[0m \u001b[0mct\u001b[0m\u001b[1;33m,\u001b[0m \u001b[0mphi\u001b[0m\u001b[1;33m,\u001b[0m \u001b[0momega\u001b[0m\u001b[1;33m,\u001b[0m \u001b[0mgamma\u001b[0m\u001b[1;33m)\u001b[0m\u001b[1;33m,\u001b[0m\u001b[0meq_pi_ar\u001b[0m\u001b[1;33m)\u001b[0m\u001b[1;33m\u001b[0m\u001b[1;33m\u001b[0m\u001b[0m\n\u001b[0;32m      3\u001b[0m \u001b[1;32mdef\u001b[0m \u001b[0mequili_pi_phi\u001b[0m \u001b[1;33m(\u001b[0m\u001b[0myt_m1\u001b[0m\u001b[1;33m,\u001b[0m \u001b[0myt\u001b[0m\u001b[1;33m,\u001b[0m \u001b[0mpit_m1\u001b[0m\u001b[1;33m,\u001b[0m \u001b[0mst_m1\u001b[0m\u001b[1;33m,\u001b[0m \u001b[0mct\u001b[0m\u001b[1;33m,\u001b[0m \u001b[0mphi\u001b[0m\u001b[1;33m,\u001b[0m \u001b[0momega\u001b[0m\u001b[1;33m=\u001b[0m\u001b[0mpms\u001b[0m\u001b[1;33m[\u001b[0m\u001b[1;34m'omega'\u001b[0m\u001b[1;33m]\u001b[0m\u001b[1;33m,\u001b[0m \u001b[0mgamma\u001b[0m\u001b[1;33m=\u001b[0m\u001b[0mpms\u001b[0m\u001b[1;33m[\u001b[0m\u001b[1;34m'gamma'\u001b[0m\u001b[1;33m]\u001b[0m\u001b[1;33m)\u001b[0m\u001b[1;33m:\u001b[0m\u001b[1;33m\u001b[0m\u001b[1;33m\u001b[0m\u001b[0m\n\u001b[1;32m----> 4\u001b[1;33m     \u001b[1;32mreturn\u001b[0m \u001b[0mequili_pi_phi\u001b[0m \u001b[1;33m(\u001b[0m\u001b[0myt_m1\u001b[0m\u001b[1;33m,\u001b[0m \u001b[0myt\u001b[0m\u001b[1;33m,\u001b[0m \u001b[0mpit_m1\u001b[0m\u001b[1;33m,\u001b[0m \u001b[0mst_m1\u001b[0m\u001b[1;33m,\u001b[0m \u001b[0mct\u001b[0m\u001b[1;33m,\u001b[0m \u001b[0mphi\u001b[0m\u001b[1;33m,\u001b[0m \u001b[0momega\u001b[0m\u001b[1;33m,\u001b[0m \u001b[0mgamma\u001b[0m\u001b[1;33m)\u001b[0m\u001b[1;33m\u001b[0m\u001b[1;33m\u001b[0m\u001b[0m\n\u001b[0m",
      "\u001b[1;31mRecursionError\u001b[0m: maximum recursion depth exceeded"
     ]
    }
   ],
   "source": [
    "test = corr_func(phi_vec)\n",
    "value = np.linspace(test,test,1000)\n",
    "plt.plot(value)"
   ]
  },
  {
   "cell_type": "code",
   "execution_count": 194,
   "metadata": {},
   "outputs": [
    {
     "data": {
      "application/vnd.jupyter.widget-view+json": {
       "model_id": "1d3e13423aac49699877ee6bbba6e0bc",
       "version_major": 2,
       "version_minor": 0
      },
      "text/plain": [
       "interactive(children=(FloatSlider(value=0.0, description='phi', max=1.0, step=0.01), Output()), _dom_classes=(…"
      ]
     },
     "metadata": {},
     "output_type": "display_data"
    },
    {
     "data": {
      "text/plain": [
       "<function __main__.corr_func(phi, v_m=0, s_m=0)>"
      ]
     },
     "execution_count": 194,
     "metadata": {},
     "output_type": "execute_result"
    }
   ],
   "source": [
    "#does not work yet\n",
    "phi_slider = widgets.FloatSlider(min=0,max=1,step = 0.01)\n",
    "widgets.interact(corr_func,phi=phi_slider,v_m = widgets.fixed(0),s_m = widgets.fixed(0))"
   ]
  },
  {
   "cell_type": "markdown",
   "metadata": {},
   "source": [
    "**Question 6**"
   ]
  },
  {
   "cell_type": "code",
   "execution_count": null,
   "metadata": {},
   "outputs": [],
   "source": []
  },
  {
   "cell_type": "markdown",
   "metadata": {},
   "source": [
    "## Exchange economy"
   ]
  },
  {
   "cell_type": "code",
   "execution_count": null,
   "metadata": {},
   "outputs": [],
   "source": []
  }
 ],
 "metadata": {
  "kernelspec": {
   "display_name": "Python 3",
   "language": "python",
   "name": "python3"
  },
  "language_info": {
   "codemirror_mode": {
    "name": "ipython",
    "version": 3
   },
   "file_extension": ".py",
   "mimetype": "text/x-python",
   "name": "python",
   "nbconvert_exporter": "python",
   "pygments_lexer": "ipython3",
   "version": "3.7.1"
  }
 },
 "nbformat": 4,
 "nbformat_minor": 2
}
