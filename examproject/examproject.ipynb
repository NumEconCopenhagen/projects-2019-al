{
 "cells": [
  {
   "cell_type": "markdown",
   "metadata": {},
   "source": [
    "# 1. Human Capital Accumulation :"
   ]
  },
  {
   "cell_type": "markdown",
   "metadata": {},
   "source": [
    "# 2. AS-AD Model :"
   ]
  },
  {
   "cell_type": "code",
   "execution_count": 135,
   "metadata": {},
   "outputs": [],
   "source": [
    "import numpy as np\n",
    "import sympy as sm\n",
    "import matplotlib.pyplot as plt\n",
    "sm.init_printing(use_unicode=True)"
   ]
  },
  {
   "cell_type": "code",
   "execution_count": 85,
   "metadata": {},
   "outputs": [],
   "source": [
    "#Initialize the symbols\n",
    "alpha = sm.symbols('alpha')\n",
    "b = sm.symbols('b')\n",
    "gamma = sm.symbols('gamma')\n",
    "h = sm.symbols('h')\n",
    "phi = sm.symbols('phi')\n",
    "yt = sm.symbols('y_t')\n",
    "pit = sm.symbols('pi_t')\n",
    "pit_m1=sm.symbols('pi_t-1')\n",
    "yt_m1 = sm.symbols('y_t-1')\n",
    "vt = sm.symbols('v_t')\n",
    "st = sm.symbols('s_t')\n",
    "st_m1 = sm.symbols('s_t-1')\n",
    "rt = sm.symbols('r_t')\n",
    "it = sm.symbols('i_t')\n",
    "exp_pit = sm.symbols('E[pi_t]')\n",
    "exp_pit_p1 = sm.symbols('E[pi_t+1]')"
   ]
  },
  {
   "cell_type": "markdown",
   "metadata": {},
   "source": [
    "**Question 1**"
   ]
  },
  {
   "cell_type": "markdown",
   "metadata": {},
   "source": [
    "Now that we have the symbols let's write the SRAS curve with them :"
   ]
  },
  {
   "cell_type": "code",
   "execution_count": 86,
   "metadata": {},
   "outputs": [
    {
     "data": {
      "image/png": "[encoded data removed]",
      "text/latex": [
       "$$- \\gamma \\phi y_{t-1} + \\gamma y_{t} - \\phi s_{t-1} + \\pi_{t-1} + s_{t}$$"
      ],
      "text/plain": [
       "-γ⋅φ⋅yₜ₋₁ + γ⋅yₜ - φ⋅sₜ₋₁ + πₜ₋₁ + sₜ"
      ]
     },
     "execution_count": 86,
     "metadata": {},
     "output_type": "execute_result"
    }
   ],
   "source": [
    "#Write the SRAS base equation\n",
    "SRAS_pit=pit_m1-phi*gamma*yt_m1+st-phi*st_m1+gamma*yt\n",
    "SRAS_pit"
   ]
  },
  {
   "cell_type": "markdown",
   "metadata": {},
   "source": [
    "We do the same with the AD curve :"
   ]
  },
  {
   "cell_type": "code",
   "execution_count": 87,
   "metadata": {},
   "outputs": [
    {
     "data": {
      "image/png": "[encoded data removed]",
      "text/latex": [
       "$$\\frac{v_{t} - y_{t} \\left(\\alpha b + 1\\right)}{\\alpha h}$$"
      ],
      "text/plain": [
       "vₜ - yₜ⋅(α⋅b + 1)\n",
       "─────────────────\n",
       "       α⋅h       "
      ]
     },
     "execution_count": 87,
     "metadata": {},
     "output_type": "execute_result"
    }
   ],
   "source": [
    "#Write the AD base equation\n",
    "AD_pit=(1/(h*alpha))*(vt-(1+b*alpha)*yt)\n",
    "AD_pit"
   ]
  },
  {
   "cell_type": "markdown",
   "metadata": {},
   "source": [
    "Now we will equalize SRAS and AD to find the equilibrium values. To do that we substract one to the other (which is the same as equilized):"
   ]
  },
  {
   "cell_type": "code",
   "execution_count": 88,
   "metadata": {},
   "outputs": [
    {
     "data": {
      "image/png": "[encoded data removed]",
      "text/latex": [
       "$$- \\gamma \\phi y_{t-1} + \\gamma y_{t} - \\phi s_{t-1} + \\pi_{t-1} + s_{t} - \\frac{v_{t} - y_{t} \\left(\\alpha b + 1\\right)}{\\alpha h}$$"
      ],
      "text/plain": [
       "                                        vₜ - yₜ⋅(α⋅b + 1)\n",
       "-γ⋅φ⋅yₜ₋₁ + γ⋅yₜ - φ⋅sₜ₋₁ + πₜ₋₁ + sₜ - ─────────────────\n",
       "                                               α⋅h       "
      ]
     },
     "execution_count": 88,
     "metadata": {},
     "output_type": "execute_result"
    }
   ],
   "source": [
    "#SRAS equation minus the AD equation\n",
    "AS_minus_AD= SRAS_pit-AD_pit\n",
    "AS_minus_AD"
   ]
  },
  {
   "cell_type": "markdown",
   "metadata": {},
   "source": [
    "We solve this equation for $y_t$ :"
   ]
  },
  {
   "cell_type": "code",
   "execution_count": 89,
   "metadata": {},
   "outputs": [
    {
     "data": {
      "image/png": "[encoded data removed]",
      "text/latex": [
       "$$\\frac{\\alpha \\gamma h \\phi y_{t-1} + \\alpha h \\phi s_{t-1} - \\alpha h \\pi_{t-1} - \\alpha h s_{t} + v_{t}}{\\alpha b + \\alpha \\gamma h + 1}$$"
      ],
      "text/plain": [
       "α⋅γ⋅h⋅φ⋅yₜ₋₁ + α⋅h⋅φ⋅sₜ₋₁ - α⋅h⋅πₜ₋₁ - α⋅h⋅sₜ + vₜ\n",
       "──────────────────────────────────────────────────\n",
       "                 α⋅b + α⋅γ⋅h + 1                  "
      ]
     },
     "execution_count": 89,
     "metadata": {},
     "output_type": "execute_result"
    }
   ],
   "source": [
    "#Solve the equation for yt\n",
    "eq_y = sm.solve(sm.Eq(AS_minus_AD,0),yt)\n",
    "eq_y[0]"
   ]
  },
  {
   "cell_type": "markdown",
   "metadata": {},
   "source": [
    "We get the equation of the equilibrium output $y_t$ which depend on $\\alpha , \\phi ,\\gamma , h, b, \\pi_{t-1} ,s_{t-1} ,y_{t-1} ,v_t$ and $s_t $."
   ]
  },
  {
   "cell_type": "markdown",
   "metadata": {},
   "source": [
    "Now that we have the equilibrium equation of the output, let's insert it in the SRAS curve :"
   ]
  },
  {
   "cell_type": "code",
   "execution_count": 90,
   "metadata": {},
   "outputs": [
    {
     "data": {
      "image/png": "[encoded data removed]",
      "text/latex": [
       "$$- \\gamma \\phi y_{t-1} + \\frac{\\gamma \\left(\\alpha \\gamma h \\phi y_{t-1} + \\alpha h \\phi s_{t-1} - \\alpha h \\pi_{t-1} - \\alpha h s_{t} + v_{t}\\right)}{\\alpha b + \\alpha \\gamma h + 1} - \\phi s_{t-1} + \\pi_{t-1} + s_{t}$$"
      ],
      "text/plain": [
       "            γ⋅(α⋅γ⋅h⋅φ⋅yₜ₋₁ + α⋅h⋅φ⋅sₜ₋₁ - α⋅h⋅πₜ₋₁ - α⋅h⋅sₜ + vₜ)            \n",
       "-γ⋅φ⋅yₜ₋₁ + ────────────────────────────────────────────────────── - φ⋅sₜ₋₁ + \n",
       "                               α⋅b + α⋅γ⋅h + 1                                \n",
       "\n",
       "         \n",
       "πₜ₋₁ + sₜ\n",
       "         "
      ]
     },
     "execution_count": 90,
     "metadata": {},
     "output_type": "execute_result"
    }
   ],
   "source": [
    "#Substitute the new output equation to replace yt\n",
    "eq_pi= SRAS_pit.subs(yt,eq_y[0])\n",
    "eq_pi"
   ]
  },
  {
   "cell_type": "markdown",
   "metadata": {},
   "source": [
    "We obtain the equation of the equilibrium inflation which depend on $\\gamma ,\\phi , s_t ,\\pi_{t-1} ,y_{t-1}$ and $s_{t-1}$"
   ]
  },
  {
   "cell_type": "markdown",
   "metadata": {},
   "source": [
    "**Question 2**"
   ]
  },
  {
   "cell_type": "markdown",
   "metadata": {},
   "source": [
    "We want to find the output and inflation for the equilibrium and see the evolution when there is a demand disturbance.\n",
    "To do that we will create a dictonnary for the parameters of this question, and create two functions for the output and inflation from the equation find previously. We will use these functions to get the output and inflation level at the equilibrium and after a shock and plot the results."
   ]
  },
  {
   "cell_type": "markdown",
   "metadata": {},
   "source": [
    "First of all we create a dictionary to enter the value of our parameters ($\\alpha$, $h$, $b$, $\\phi$, $\\gamma$) :"
   ]
  },
  {
   "cell_type": "code",
   "execution_count": 91,
   "metadata": {},
   "outputs": [],
   "source": [
    "#initialization of the dicitonary\n",
    "pms = {}\n",
    "\n",
    "#enter the parameters and their value\n",
    "pms['alpha']=5.76\n",
    "pms['h'] = 0.5\n",
    "pms['b'] = 0.5\n",
    "pms['phi'] = 0\n",
    "pms['gamma'] = 0.075"
   ]
  },
  {
   "cell_type": "markdown",
   "metadata": {},
   "source": [
    "From the equation of the output find in the question one ( \"eq_y\" ), we create a function by using the lambdify."
   ]
  },
  {
   "cell_type": "code",
   "execution_count": 92,
   "metadata": {},
   "outputs": [],
   "source": [
    "#Our eq_y is a list, therefore we need to consider only the first element of it to use the lambdify function.\n",
    "equil_output= sm.lambdify((vt, st, pit_m1, st_m1, yt_m1, alpha, h, b, phi, gamma),eq_y[0])\n",
    "\n",
    "#define the function\n",
    "def equili_output (vt, st, pit_m1, st_m1, yt_m1, alpha=pms['alpha'], h=pms['h'], b=pms['b'], phi=pms['phi'], gamma=pms['gamma']):\n",
    "    \"\"\"\n",
    "    This function take five parameters plus five others which are by default define in the dictionary called \"pms\" and\n",
    "    return the output of the economy.\n",
    "    \n",
    "        args :  vt (float) : the demand disturbance in period t\n",
    "                st (float) : the supply disturbance in period t\n",
    "                pit_m1 (float) : the inflation in period t-1\n",
    "                st_m1 (float) : the supply disturbance in period t-1\n",
    "                yt_m1 (float) : the output in period t-1\n",
    "        \n",
    "        return (float) : The output yt of the economy for the period t.\n",
    "    \n",
    "    \"\"\"\n",
    "    return equil_output (vt, st, pit_m1, st_m1, yt_m1, alpha, h, b, phi, gamma)"
   ]
  },
  {
   "cell_type": "markdown",
   "metadata": {},
   "source": [
    "Now let's enter values of the variables at the equilibrium, which means $v_t = s_t = \\pi_{t-1} = s_{t-1} = y_{t-1} = 0$ :"
   ]
  },
  {
   "cell_type": "code",
   "execution_count": 93,
   "metadata": {},
   "outputs": [
    {
     "data": {
      "image/png": "[encoded data removed]",
      "text/latex": [
       "$$0.0$$"
      ],
      "text/plain": [
       "0.0"
      ]
     },
     "execution_count": 93,
     "metadata": {},
     "output_type": "execute_result"
    }
   ],
   "source": [
    "equili_output(0,0,0,0,0)"
   ]
  },
  {
   "cell_type": "markdown",
   "metadata": {},
   "source": [
    "The output is zero ($y_t = 0$) which makes sense given that all the other variables are equal to 0."
   ]
  },
  {
   "cell_type": "markdown",
   "metadata": {},
   "source": [
    "Now let's what would be the impact of a positive demand disturbance on the production. For that let's just set $v_t = 0.1$ instead of 0 :"
   ]
  },
  {
   "cell_type": "code",
   "execution_count": 94,
   "metadata": {},
   "outputs": [
    {
     "data": {
      "image/png": "[encoded data removed]",
      "text/latex": [
       "$$0.0244140625$$"
      ],
      "text/plain": [
       "0.0244140625"
      ]
     },
     "execution_count": 94,
     "metadata": {},
     "output_type": "execute_result"
    }
   ],
   "source": [
    "equili_output(0.1,0,0,0,0)"
   ]
  },
  {
   "cell_type": "markdown",
   "metadata": {},
   "source": [
    "When there is a positive disturbance of the demand $v_t$ we can observe an increase in the output. Indeed an increase in demande will stimulate the economy, the supply will adapt to the demand, increase as well, leading to more production."
   ]
  },
  {
   "cell_type": "markdown",
   "metadata": {},
   "source": [
    "Now let's see the impact of the demand disturbance on the **inflation** :"
   ]
  },
  {
   "cell_type": "markdown",
   "metadata": {},
   "source": [
    "As before we use the inflation equation find in question one ( \"eq_pi\" ) to create a function."
   ]
  },
  {
   "cell_type": "code",
   "execution_count": 98,
   "metadata": {},
   "outputs": [],
   "source": [
    "#use lambdify on the inflation equation eq_pi\n",
    "equil_pi= sm.lambdify((st, yt, pit_m1, st_m1, yt_m1, gamma, phi),SRAS_pit)\n",
    "\n",
    "#define the function\n",
    "def equili_pi (st, yt, pit_m1, st_m1, yt_m1, gamma=pms['gamma'], phi=pms['phi']):\n",
    "    \"\"\"\n",
    "    This function take five parameters plus two others which are by default define in the dictionary called \"pms\" and\n",
    "    return the inflation of the economy.\n",
    "    \n",
    "        args :  st (float) : the supply disturbance in period t\n",
    "                yt (float) : the output in period t\n",
    "                pit_m1 (float) : the inflation in period t-1\n",
    "                st_m1 (float) : the supply disturbance in period t-1\n",
    "                yt_m1 (float) : the output in period t-1\n",
    "        \n",
    "        return (float) : The inflation pit of the economy for period t.\n",
    "    \n",
    "    \"\"\"\n",
    "    return equil_pi (st, yt, pit_m1, st_m1, yt_m1, gamma, phi)"
   ]
  },
  {
   "cell_type": "code",
   "execution_count": 99,
   "metadata": {},
   "outputs": [
    {
     "data": {
      "image/png": "[encoded data removed]",
      "text/latex": [
       "$$0.0$$"
      ],
      "text/plain": [
       "0.0"
      ]
     },
     "execution_count": 99,
     "metadata": {},
     "output_type": "execute_result"
    }
   ],
   "source": [
    "equili_pi(0,0,0,0,0)"
   ]
  },
  {
   "cell_type": "markdown",
   "metadata": {},
   "source": [
    "At the equilibrium, when $v_t = s_t = \\pi_{t-1} = s_{t-1} = y_{t-1} = 0$ the inflation is zero ($\\pi_t = 0$). \n",
    "Regarding the demand disturbance, it is not involve in the inflation equation, however its impact increased the output in period t. This increase in output will impact the inflation : "
   ]
  },
  {
   "cell_type": "code",
   "execution_count": 100,
   "metadata": {},
   "outputs": [
    {
     "data": {
      "image/png": "[encoded data removed]",
      "text/latex": [
       "$$0.0018310546875$$"
      ],
      "text/plain": [
       "0.0018310546875"
      ]
     },
     "execution_count": 100,
     "metadata": {},
     "output_type": "execute_result"
    }
   ],
   "source": [
    "equili_pi(0,0.0244140625,0,0,0)"
   ]
  },
  {
   "cell_type": "markdown",
   "metadata": {},
   "source": [
    "The positive disturbance on the demand also increase the inflation.\n",
    "We can summarize the effect of this disturbance as follow:\n",
    "   1. The positive choc on $v_t$ leads to a higher demand\n",
    "   2. The supply and the demand adjust on a higher production and therefor a higher output $y_t$\n",
    "   3. Finally a higher output lead to inflation, an increase in $\\pi_t$"
   ]
  },
  {
   "cell_type": "markdown",
   "metadata": {},
   "source": [
    "**Question 3**"
   ]
  },
  {
   "cell_type": "markdown",
   "metadata": {},
   "source": [
    "In this question we introduce a demand and a supply shock inside the demand and supply disturbance. Now these both variables became function of shocks and some parameters. "
   ]
  },
  {
   "cell_type": "markdown",
   "metadata": {},
   "source": [
    "In theses conditions we want to know how the economy will evolve, starting from the equilibrium, if there is a demand shock in the first period. To answer this question we will first adapt our model to the new definitions of $v_t$ and $s_t$."
   ]
  },
  {
   "cell_type": "markdown",
   "metadata": {},
   "source": [
    "Now the have two new parameters ($\\delta$, $\\omega$) and $v_t$ and $s_t$ which became function. We have to set up this new configuration:"
   ]
  },
  {
   "cell_type": "code",
   "execution_count": 101,
   "metadata": {},
   "outputs": [],
   "source": [
    "#add the new parameters into the dictionary\n",
    "pms[\"delta\"] = 0.80\n",
    "pms[\"omega\"] = 0.15\n",
    "\n",
    "#define the new symbols\n",
    "delta = sm.symbols(\"delta\")\n",
    "omega = sm.symbols(\"omega\")\n",
    "vt_m1 = sm.symbols(\"v_t-1\")\n",
    "xt = sm.symbols(\"x_t\")\n",
    "ct = sm.symbols(\"c_t\")\n",
    "\n",
    "#define the new vt and st equation\n",
    "vt_ar = delta*vt_m1 + xt\n",
    "st_ar = omega*st_m1 + ct"
   ]
  },
  {
   "cell_type": "markdown",
   "metadata": {},
   "source": [
    "To deal with these changes, we have to replace our $v_t$ in the output equation by the new one which is vt_ar :"
   ]
  },
  {
   "cell_type": "code",
   "execution_count": 102,
   "metadata": {},
   "outputs": [
    {
     "data": {
      "image/png": "[encoded data removed]",
      "text/latex": [
       "$$\\frac{\\alpha \\gamma h \\phi y_{t-1} + \\alpha h \\phi s_{t-1} - \\alpha h \\pi_{t-1} - \\alpha h s_{t} + v_{t}}{\\alpha b + \\alpha \\gamma h + 1}$$"
      ],
      "text/plain": [
       "α⋅γ⋅h⋅φ⋅yₜ₋₁ + α⋅h⋅φ⋅sₜ₋₁ - α⋅h⋅πₜ₋₁ - α⋅h⋅sₜ + vₜ\n",
       "──────────────────────────────────────────────────\n",
       "                 α⋅b + α⋅γ⋅h + 1                  "
      ]
     },
     "execution_count": 102,
     "metadata": {},
     "output_type": "execute_result"
    }
   ],
   "source": [
    "#The output equilibrium equation (our previous equation):\n",
    "eq_y[0]"
   ]
  },
  {
   "cell_type": "code",
   "execution_count": 103,
   "metadata": {},
   "outputs": [
    {
     "data": {
      "image/png": "[encoded data removed]",
      "text/latex": [
       "$$\\frac{\\alpha \\gamma h \\phi y_{t-1} + \\alpha h \\phi s_{t-1} - \\alpha h \\pi_{t-1} - \\alpha h s_{t} + \\delta v_{t-1} + x_{t}}{\\alpha b + \\alpha \\gamma h + 1}$$"
      ],
      "text/plain": [
       "α⋅γ⋅h⋅φ⋅yₜ₋₁ + α⋅h⋅φ⋅sₜ₋₁ - α⋅h⋅πₜ₋₁ - α⋅h⋅sₜ + δ⋅vₜ₋₁ + xₜ\n",
       "───────────────────────────────────────────────────────────\n",
       "                      α⋅b + α⋅γ⋅h + 1                      "
      ]
     },
     "execution_count": 103,
     "metadata": {},
     "output_type": "execute_result"
    }
   ],
   "source": [
    "#substitute vt by vt_ar\n",
    "eq_y_ar = eq_y[0].subs(vt,vt_ar)\n",
    "eq_y_ar"
   ]
  },
  {
   "cell_type": "markdown",
   "metadata": {},
   "source": [
    "We have to do the same in the SRAS equation, by replacing $s_t$ by st_ar:"
   ]
  },
  {
   "cell_type": "code",
   "execution_count": 119,
   "metadata": {},
   "outputs": [
    {
     "data": {
      "image/png": "[encoded data removed]",
      "text/latex": [
       "$$- \\gamma \\phi y_{t-1} + \\gamma y_{t} - \\phi s_{t-1} + \\pi_{t-1} + s_{t}$$"
      ],
      "text/plain": [
       "-γ⋅φ⋅yₜ₋₁ + γ⋅yₜ - φ⋅sₜ₋₁ + πₜ₋₁ + sₜ"
      ]
     },
     "execution_count": 119,
     "metadata": {},
     "output_type": "execute_result"
    }
   ],
   "source": [
    "#The SRAS equation (our previous equation):\n",
    "SRAS_pit"
   ]
  },
  {
   "cell_type": "code",
   "execution_count": 110,
   "metadata": {},
   "outputs": [
    {
     "data": {
      "image/png": "[encoded data removed]",
      "text/latex": [
       "$$c_{t} - \\gamma \\phi y_{t-1} + \\gamma y_{t} + \\omega s_{t-1} - \\phi s_{t-1} + \\pi_{t-1}$$"
      ],
      "text/plain": [
       "cₜ - γ⋅φ⋅yₜ₋₁ + γ⋅yₜ + ω⋅sₜ₋₁ - φ⋅sₜ₋₁ + πₜ₋₁"
      ]
     },
     "execution_count": 110,
     "metadata": {},
     "output_type": "execute_result"
    }
   ],
   "source": [
    "#substitute st by st_ar\n",
    "eq_pi_ar = SRAS_pit.subs(st,st_ar)\n",
    "eq_pi_ar"
   ]
  },
  {
   "cell_type": "markdown",
   "metadata": {},
   "source": [
    "Now that we changed our equation, we also have to make these changes inside our previous functions :"
   ]
  },
  {
   "cell_type": "code",
   "execution_count": 120,
   "metadata": {},
   "outputs": [],
   "source": [
    "#create a new output function, with the new parameters\n",
    "equil_output2= sm.lambdify((st, vt_m1, pit_m1, st_m1, yt_m1, ct, xt, alpha, h, b, phi, gamma, delta),eq_y_ar)\n",
    "def equili_output_ar (st, vt_m1, pit_m1, st_m1, yt_m1, ct, xt, alpha=pms['alpha'], h=pms['h'], b=pms['b'], phi=pms['phi'], gamma=pms['gamma'], delta=pms['delta']):\n",
    "    return equil_output2 (st, vt_m1, pit_m1, st_m1, yt_m1, ct, xt, alpha, h, b, phi, gamma, delta)"
   ]
  },
  {
   "cell_type": "code",
   "execution_count": 121,
   "metadata": {},
   "outputs": [
    {
     "data": {
      "image/png": "[encoded data removed]",
      "text/latex": [
       "$$0.019531250000000003$$"
      ],
      "text/plain": [
       "0.019531250000000003"
      ]
     },
     "execution_count": 121,
     "metadata": {},
     "output_type": "execute_result"
    }
   ],
   "source": [
    "equili_output_ar(0,0.1,0,0,0,0,0)"
   ]
  },
  {
   "cell_type": "code",
   "execution_count": 122,
   "metadata": {},
   "outputs": [],
   "source": [
    "#create a new inflation function, with the new parameters\n",
    "equil_piii= sm.lambdify((yt_m1, yt, pit_m1, st_m1, ct, omega, gamma, phi),eq_pi_ar)\n",
    "def equili_pi_ar (yt_m1, yt, pit_m1, st_m1, ct, omega=pms['omega'], gamma=pms['gamma'], phi=pms['phi']):\n",
    "    return equil_piii (yt_m1, yt, pit_m1, st_m1, ct, omega, gamma, phi)"
   ]
  },
  {
   "cell_type": "code",
   "execution_count": 123,
   "metadata": {},
   "outputs": [
    {
     "data": {
      "image/png": "[encoded data removed]",
      "text/latex": [
       "$$0.0$$"
      ],
      "text/plain": [
       "0.0"
      ]
     },
     "execution_count": 123,
     "metadata": {},
     "output_type": "execute_result"
    }
   ],
   "source": [
    "#test at the initial state\n",
    "equili_pi_ar(0,0,0,0,0)"
   ]
  },
  {
   "cell_type": "markdown",
   "metadata": {},
   "source": [
    "Now let's enter the new output value to get the new inflation value:"
   ]
  },
  {
   "cell_type": "code",
   "execution_count": 124,
   "metadata": {},
   "outputs": [
    {
     "data": {
      "image/png": "[encoded data removed]",
      "text/latex": [
       "$$0.0014648437500000002$$"
      ],
      "text/plain": [
       "0.0014648437500000002"
      ]
     },
     "execution_count": 124,
     "metadata": {},
     "output_type": "execute_result"
    }
   ],
   "source": [
    "equili_pi_ar(0,equili_output_ar(0,0.1,0,0,0,0,0), 0, 0, 0)"
   ]
  },
  {
   "cell_type": "code",
   "execution_count": null,
   "metadata": {},
   "outputs": [],
   "source": [
    "equili_pi_ar(0.0014648437500000002,)"
   ]
  },
  {
   "cell_type": "code",
   "execution_count": 168,
   "metadata": {},
   "outputs": [
    {
     "name": "stdout",
     "output_type": "stream",
     "text": [
      "0.019531250000000003\n",
      "0.018501281738281253\n",
      "0.017525628209114078\n",
      "0.016601425159024078\n",
      "0.015725959379153668\n",
      "0.014896660740018611\n",
      "0.014111094646306692\n",
      "0.013366954889567862\n",
      "0.012662056877813308\n",
      "0.011994331222147372\n",
      "0.011361817661604443\n",
      "0.01076265930835577\n",
      "0.010195097196391696\n",
      "0.009657465117675729\n",
      "0.009148184730610798\n",
      "0.008665760926457494\n",
      "0.008208777440101336\n",
      "0.007775892692283493\n",
      "0.007365835851088857\n",
      "0.006977403101129091\n",
      "0.0066094541094679875\n",
      "0.00626090867791401\n",
      "0.005930743571852139\n",
      "0.005617989516305249\n",
      "0.005321728350406338\n",
      "0.005041090331927877\n",
      "0.004775251583955118\n",
      "0.0045234316762074855\n",
      "0.00428489133390748\n",
      "0.004058930267470953\n",
      "0.003844885116647289\n",
      "0.0036421275030740947\n",
      "0.003450062185529169\n",
      "0.0032681253124641576\n",
      "0.0030957827666896792\n",
      "0.0029325285973525296\n",
      "0.002777883534601517\n",
      "0.002631393582581513\n",
      "0.002492628686625067\n",
      "0.002361181470728825\n",
      "0.002236666041608358\n",
      "0.002118716855820417\n",
      "0.0020069876466267617\n",
      "0.001901150407449178\n",
      "0.0018008944289313504\n",
      "0.0017059253867806768\n",
      "0.0016159644777121633\n",
      "0.0015307476009578116\n",
      "0.0014500245829385508\n",
      "0.0013735584428226498\n",
      "0.0013011246968144246\n",
      "0.00123251069913085\n",
      "0.001167515017731374\n",
      "0.001105946842968197\n",
      "0.0010476254274210464\n",
      "0.0009923795552718895\n",
      "0.0009400470396618465\n",
      "0.0008904742465546788\n",
      "0.0008435156437090214\n",
      "0.0007990333734353056\n",
      "0.0007568968478830517\n",
      "0.0007169823656704702\n",
      "0.000679172748730815\n",
      "0.0006433569983094649\n",
      "0.000609429969101739\n",
      "0.0005772920605748871\n",
      "0.0005468489245680097\n",
      "0.000518011188311495\n",
      "0.0004906941920528815\n",
      "0.0004648177405188413\n",
      "0.00044030586748366687\n",
      "0.00041708661275308167\n",
      "0.0003950918109086804\n",
      "0.00037425689119279356\n",
      "0.00035452068794630175\n",
      "0.0003358252610428822\n",
      "0.00031811572579257524\n",
      "0.00030134009181523005\n",
      "0.00028544911041091377\n",
      "0.0002703961299790886\n",
      "0.0002561369590622204\n",
      "0.000242629736611675\n",
      "0.000229834809095045\n",
      "0.0002177146140841734\n",
      "0.00020623356998207874\n",
      "0.0001953579715650565\n",
      "0.00018505589103330651\n",
      "0.00017529708427959525\n",
      "0.0001660529021007889\n",
      "0.00015729620609156782\n",
      "0.0001490012889734562\n",
      "0.00014114379912524692\n",
      "0.00013370066909325142\n",
      "0.00012665004787153734\n",
      "0.00011997123675331465\n",
      "0.00011364462856514775\n",
      "0.0001076516501056593\n",
      "0.00010197470761961718\n",
      "9.659713514748828e-05\n"
     ]
    }
   ],
   "source": [
    "#define the number of time period\n",
    "T = 100\n",
    "\n",
    "#create a loop to see the evolution of output and inflation\n",
    "\n",
    "shock = 0.1\n",
    "pi_m = 0\n",
    "yn = 0\n",
    "y_m = 0\n",
    "\n",
    "list_output = list(range(100))\n",
    "list_inflation = list(range(100))\n",
    "\n",
    "for i in range(100):\n",
    "    \n",
    "    if i > 0 :\n",
    "        y = equili_output_ar(0,shock,pi_m,0,y_m,0,0)\n",
    "        list_output[i] = y\n",
    "        yn = y\n",
    "        p = equili_pi_ar(y_m,yn,pi_m,0,0)\n",
    "        list_inflation[i] = p  \n",
    "        pi_m = p\n",
    "        y_m = y\n",
    "\n",
    "    else : \n",
    "        y = equili_output_ar(0,0,0,0,0,0,0)\n",
    "        list_output[i] = y\n",
    "        yn = y\n",
    "        p = equili_pi_ar(y_m,yn,pi_m,0,0)\n",
    "        list_inflation[i] = p\n",
    "        pi_m = p\n",
    "        y_m = y"
   ]
  },
  {
   "cell_type": "code",
   "execution_count": 163,
   "metadata": {},
   "outputs": [
    {
     "data": {
      "text/plain": [
       "[<matplotlib.lines.Line2D at 0x232e83e9390>]"
      ]
     },
     "execution_count": 163,
     "metadata": {},
     "output_type": "execute_result"
    },
    {
     "data": {
      "image/png": "[encoded data removed]",
      "text/plain": [
       "<Figure size 432x288 with 1 Axes>"
      ]
     },
     "metadata": {
      "needs_background": "light"
     },
     "output_type": "display_data"
    }
   ],
   "source": [
    "plt.plot(list_output)\n",
    "plt.plot(list_inflation)"
   ]
  },
  {
   "cell_type": "markdown",
   "metadata": {},
   "source": [
    "# 3. Exchange Economy"
   ]
  },
  {
   "cell_type": "code",
   "execution_count": null,
   "metadata": {},
   "outputs": [],
   "source": []
  }
 ],
 "metadata": {
  "kernelspec": {
   "display_name": "Python 3",
   "language": "python",
   "name": "python3"
  },
  "language_info": {
   "codemirror_mode": {
    "name": "ipython",
    "version": 3
   },
   "file_extension": ".py",
   "mimetype": "text/x-python",
   "name": "python",
   "nbconvert_exporter": "python",
   "pygments_lexer": "ipython3",
   "version": "3.7.1"
  }
 },
 "nbformat": 4,
 "nbformat_minor": 2
}
