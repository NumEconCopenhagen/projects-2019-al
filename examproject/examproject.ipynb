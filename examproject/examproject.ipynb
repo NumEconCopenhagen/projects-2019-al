{
 "cells": [
  {
   "cell_type": "markdown",
   "metadata": {},
   "source": [
    "# 1. Human Capital Accumulation :"
   ]
  },
  {
   "cell_type": "code",
   "execution_count": 1,
   "metadata": {},
   "outputs": [],
   "source": [
    "#import package\n",
    "import random \n",
    "import sympy as sm\n",
    "import numpy as np\n",
    "import matplotlib.pyplot as plt\n",
    "import ipywidgets as widgets\n",
    "from scipy import optimize\n",
    "import pandas as pd\n",
    "from scipy import optimize\n",
    "\n",
    "#setting nice printing and seed\n",
    "sm.init_printing(use_unicode=True)\n",
    "np.random.seed(1)\n"
   ]
  },
  {
   "cell_type": "code",
   "execution_count": 2,
   "metadata": {},
   "outputs": [],
   "source": [
    "#Initialize symbols\n",
    "rho = sm.symbols('rho')\n",
    "beta = sm.symbols('beta')\n",
    "gamma = sm.symbols('gamma')\n",
    "w = sm.symbols('w')\n",
    "b = sm.symbols('b')\n",
    "delta = sm.symbols('Delta')\n",
    "h1 = sm.symbols('h_1')\n",
    "h2 = sm.symbols('h_2')\n",
    "c1 = sm.symbols('c1')\n",
    "c2 = sm.symbols('c2')\n",
    "l1 = sm.symbols('l1')\n",
    "l2 = sm.symbols('l2')\n",
    "exp = sm.symbols('E[v_2(h_2)]')\n",
    "u = sm.symbols(\"u\")"
   ]
  },
  {
   "cell_type": "markdown",
   "metadata": {},
   "source": [
    "**Question 1**"
   ]
  },
  {
   "cell_type": "markdown",
   "metadata": {},
   "source": [
    "To solve the model for period 2, firstly we have to define the human capital, budget constraint and utility function :"
   ]
  },
  {
   "cell_type": "code",
   "execution_count": 3,
   "metadata": {},
   "outputs": [
    {
     "data": {
      "image/png": "[encoded data removed]",
      "text/latex": [
       "$$\\frac{c_{2}^{- \\rho + 1}}{- \\rho + 1} - \\gamma l_{2}$$"
      ],
      "text/plain": [
       "  -ρ + 1       \n",
       "c₂             \n",
       "──────── - γ⋅l₂\n",
       " -ρ + 1        "
      ]
     },
     "execution_count": 3,
     "metadata": {},
     "output_type": "execute_result"
    }
   ],
   "source": [
    "u2 = (c2**(1-rho))/(1-rho)\n",
    "dis_u2 = gamma*l2\n",
    "total_u2 = u2 - dis_u2\n",
    "h2_f = (h1 + l1)\n",
    "c2_f = w*h2*l2\n",
    "total_u2"
   ]
  },
  {
   "cell_type": "code",
   "execution_count": 4,
   "metadata": {},
   "outputs": [
    {
     "data": {
      "image/png": "[encoded data removed]",
      "text/latex": [
       "$$- \\gamma l_{2} + \\frac{\\left(h_{2} l_{2} w\\right)^{- \\rho + 1}}{- \\rho + 1}$$"
      ],
      "text/plain": [
       "                 -ρ + 1\n",
       "        (h₂⋅l₂⋅w)      \n",
       "-γ⋅l₂ + ───────────────\n",
       "             -ρ + 1    "
      ]
     },
     "execution_count": 4,
     "metadata": {},
     "output_type": "execute_result"
    }
   ],
   "source": [
    "total_u2_sub2 = total_u2.subs(c2,c2_f)\n",
    "#foc2 = sm.diff(total_u2_sub2,l2)\n",
    "#foc2\n",
    "total_u2_sub2"
   ]
  },
  {
   "cell_type": "code",
   "execution_count": 5,
   "metadata": {},
   "outputs": [
    {
     "data": {
      "image/png": "[encoded data removed]",
      "text/latex": [
       "$$\\frac{\\left(- \\gamma l_{2} \\rho + \\gamma l_{2} - \\rho u + u\\right)^{- \\frac{1}{\\rho - 1}}}{l_{2} w}$$"
      ],
      "text/plain": [
       "                           -1  \n",
       "                          ─────\n",
       "                          ρ - 1\n",
       "(-γ⋅l₂⋅ρ + γ⋅l₂ - ρ⋅u + u)     \n",
       "───────────────────────────────\n",
       "              l₂⋅w             "
      ]
     },
     "execution_count": 5,
     "metadata": {},
     "output_type": "execute_result"
    }
   ],
   "source": [
    "#we should not solve for l2 rigth? this is just a dummy of work or not\n",
    "#sol2 = sm.solve(sm.Eq(foc2,0),l2)[0]\n",
    "#sol2\n",
    "h2_sol = sm.solve(sm.Eq(total_u2_sub2,u),h2)[0]\n",
    "h2_sol"
   ]
  },
  {
   "cell_type": "code",
   "execution_count": 6,
   "metadata": {},
   "outputs": [],
   "source": [
    "def utility_work(h2,l2,w,rho,gamma):\n",
    "    solution = (((h2*l2*w)**(1-rho))/(1-rho))-gamma*l2\n",
    "    return solution\n",
    "\n",
    "def utility_notwork(benefits,rho,gamma,l2):\n",
    " \n",
    "    b = ((benefits**(1-rho))/(1-rho))-gamma*l2\n",
    "    return b\n",
    "def hum_cap_u(l2,gamma,b,w,rho):\n",
    "    # i use h2_sol but replace u with the \"cutoff\"-value, that is the value of unemployment benefits\n",
    "    nw_u = utility_notwork(b,rho,gamma,0)\n",
    "    hum_cap = ((-gamma*l2*rho+gamma*l2-rho*nw_u+nw_u)**-(1/(rho-1)))/(l2*w)\n",
    "    \n",
    "    return hum_cap"
   ]
  },
  {
   "cell_type": "code",
   "execution_count": 7,
   "metadata": {},
   "outputs": [],
   "source": [
    "rho = 2\n",
    "beta = 0.96\n",
    "gamma = 0.1\n",
    "w = 2\n",
    "b = 1\n",
    "delta = 0.1"
   ]
  },
  {
   "cell_type": "code",
   "execution_count": 8,
   "metadata": {},
   "outputs": [
    {
     "data": {
      "image/png": "[encoded data removed]",
      "text/latex": [
       "$$0.5555555555555556$$"
      ],
      "text/plain": [
       "0.5555555555555556"
      ]
     },
     "execution_count": 8,
     "metadata": {},
     "output_type": "execute_result"
    }
   ],
   "source": [
    "#I calculatet the humam capital given b\n",
    "hum_cap_u(1,gamma,b,w,rho)"
   ]
  },
  {
   "cell_type": "code",
   "execution_count": 9,
   "metadata": {},
   "outputs": [],
   "source": [
    "def plot_func(h2,w,rho,gamma,b):\n",
    "    \n",
    "    work = utility_work(h2,1,w,rho,gamma)\n",
    "    not_work = utility_notwork(b,rho,gamma,0)\n",
    "    cutoff = hum_cap_u(1,gamma,b,w,rho)\n",
    "    \n",
    "    plt.plot(h2,work,label = \"Utility of working\")\n",
    "    plt.plot(h2,not_work,color=\"red\",label=\"Utility of not working\")\n",
    "    plt.legend()\n",
    "    \n",
    "    plt.xlabel(\"Human capital\")\n",
    "    plt.ylabel(\"Utility\")\n",
    "\n",
    "    plt.show\n",
    "    \n",
    "    print(\"The worker will supply labour if human capital is above\",round(cutoff[0],2), \"and no labour if it is below\" )\n",
    "    return "
   ]
  },
  {
   "cell_type": "code",
   "execution_count": 10,
   "metadata": {},
   "outputs": [
    {
     "name": "stdout",
     "output_type": "stream",
     "text": [
      "The worker will supply labour if human capital is above 0.56 and no labour if it is below\n"
     ]
    },
    {
     "data": {
      "image/png": "[encoded data removed]",
      "text/plain": [
       "<Figure size 432x288 with 1 Axes>"
      ]
     },
     "metadata": {
      "needs_background": "light"
     },
     "output_type": "display_data"
    }
   ],
   "source": [
    "h_vec = np.linspace(0.1,1.5,100) \n",
    "b_vec = np.linspace(1,1,100)\n",
    "plot_func(h_vec,w,rho,gamma,b_vec)"
   ]
  },
  {
   "cell_type": "code",
   "execution_count": 11,
   "metadata": {},
   "outputs": [
    {
     "name": "stdout",
     "output_type": "stream",
     "text": [
      "0.56 human capital\n"
     ]
    }
   ],
   "source": [
    "#Another way of showing this is using a binary plot. This requires us to define \n",
    "#each level om human capital as either a capital where the worker provies labour\n",
    "# or a level where she does not - the cutoff is as shown before\n",
    "cutoff = hum_cap_u(1,gamma,b,w,rho)\n",
    "print(round(cutoff,2),\"human capital\")"
   ]
  },
  {
   "cell_type": "code",
   "execution_count": 12,
   "metadata": {},
   "outputs": [],
   "source": [
    "#We define a list\n",
    "willwork = list(range(100))\n",
    "\n",
    "#And fill it with either success (1) if the human capital i above the cutoff or\n",
    "#or falier (0) if it is on the cutoff or below \n",
    "for i in range(len(h_vec)): \n",
    "    if h_vec[i] > cutoff : \n",
    "        willwork[i] = 1\n",
    "    else : \n",
    "        willwork[i] = 0"
   ]
  },
  {
   "cell_type": "code",
   "execution_count": 13,
   "metadata": {},
   "outputs": [
    {
     "data": {
      "text/plain": [
       "<function matplotlib.pyplot.show(*args, **kw)>"
      ]
     },
     "execution_count": 13,
     "metadata": {},
     "output_type": "execute_result"
    },
    {
     "data": {
      "image/png": "[encoded data removed]",
      "text/plain": [
       "<Figure size 432x288 with 1 Axes>"
      ]
     },
     "metadata": {
      "needs_background": "light"
     },
     "output_type": "display_data"
    }
   ],
   "source": [
    "cutoff_vec = np.linspace(cutoff,cutoff,100)\n",
    "plt.plot(h_vec,willwork)\n",
    "plt.plot(cutoff_vec,willwork,linestyle=\"dashed\",color=\"red\",label=(\"Cutoff human capital level\"))\n",
    "plt.legend()\n",
    "plt.xlabel(\"Human capital\")\n",
    "plt.ylabel(\"Labour supply\")\n",
    "\n",
    "plt.show"
   ]
  },
  {
   "cell_type": "code",
   "execution_count": 14,
   "metadata": {},
   "outputs": [],
   "source": [
    "#the labour supply as a function of human captal is then:\n",
    "def labour_supply(hum_cap,w,rho,gamma,b):\n",
    "    cutoff = hum_cap_u(1,gamma,b,w,rho)\n",
    "    \n",
    "    if hum_cap > cutoff :\n",
    "        print(\"with a human capital level of\",hum_cap,\"the worker wil supply 1 labour (l = 1)\")\n",
    "        l = 1\n",
    "    else :\n",
    "        print(\"with a human capital level of\",hum_cap,\"the worker will supply 0 labour (l=0)\")\n",
    "        l = 0\n",
    "    return l"
   ]
  },
  {
   "cell_type": "code",
   "execution_count": 15,
   "metadata": {},
   "outputs": [
    {
     "data": {
      "application/vnd.jupyter.widget-view+json": {
       "model_id": "22329ad2ead741269b4af5fb98526db1",
       "version_major": 2,
       "version_minor": 0
      },
      "text/plain": [
       "interactive(children=(FloatSlider(value=0.1, description='hum_cap', max=1.5, min=0.1, step=0.01), Output()), _…"
      ]
     },
     "metadata": {},
     "output_type": "display_data"
    },
    {
     "data": {
      "text/plain": [
       "<function __main__.labour_supply(hum_cap, w, rho, gamma, b)>"
      ]
     },
     "execution_count": 15,
     "metadata": {},
     "output_type": "execute_result"
    }
   ],
   "source": [
    "human_capital = widgets.FloatSlider(min=0.1,max=1.5,value=0.1,step=0.01)\n",
    "widgets.interact(labour_supply,hum_cap=human_capital,w=widgets.fixed(w),rho=widgets.fixed(rho),gamma=widgets.fixed(gamma),b=widgets.fixed(b))"
   ]
  },
  {
   "cell_type": "markdown",
   "metadata": {},
   "source": [
    "Interactive solution to question 1"
   ]
  },
  {
   "cell_type": "markdown",
   "metadata": {},
   "source": [
    "## Question 2"
   ]
  },
  {
   "cell_type": "code",
   "execution_count": 16,
   "metadata": {},
   "outputs": [],
   "source": [
    "rho = sm.symbols('rho')\n",
    "beta = sm.symbols('beta')\n",
    "gamma = sm.symbols('gamma')\n",
    "w = sm.symbols('w')\n",
    "b = sm.symbols('b')\n",
    "delta = sm.symbols('Delta')\n",
    "h1 = sm.symbols('h_1')\n",
    "h2 = sm.symbols('h_2')\n",
    "c1 = sm.symbols('c1')\n",
    "c2 = sm.symbols('c2')\n",
    "l1 = sm.symbols('l1')\n",
    "l2 = sm.symbols('l2')\n",
    "exp = sm.symbols('E[v_2(h_2)]')\n",
    "u = sm.symbols(\"u\")"
   ]
  },
  {
   "cell_type": "code",
   "execution_count": 17,
   "metadata": {},
   "outputs": [
    {
     "data": {
      "image/png": "[encoded data removed]",
      "text/latex": [
       "$$E[v_{2(h 2)]} \\beta + \\frac{c_{1}^{- \\rho + 1}}{- \\rho + 1} - \\gamma l_{1}$$"
      ],
      "text/plain": [
       "                  -ρ + 1       \n",
       "                c₁             \n",
       "E[v_2(h_2)]⋅β + ──────── - γ⋅l₁\n",
       "                 -ρ + 1        "
      ]
     },
     "execution_count": 17,
     "metadata": {},
     "output_type": "execute_result"
    }
   ],
   "source": [
    "u1 = (c1**(1-rho))/(1-rho)\n",
    "dis_u1 = gamma*l1\n",
    "total_u1 = u1 - dis_u1 + beta*exp\n",
    "total_u1"
   ]
  },
  {
   "cell_type": "code",
   "execution_count": 18,
   "metadata": {},
   "outputs": [],
   "source": [
    "# I define funcitons for period 2 \n",
    "def utility_2(h1,w=1,l1=1,rho=2,gamma=0.1,beta=0.96,delta=0.1,b=1):\n",
    "    if l1 == 1:\n",
    "        h2 = h1+1 +(0.5*delta)\n",
    "        c = w*h1*1\n",
    "        \n",
    "        u_p2 = utility_work(h2,1,w,rho,gamma)\n",
    "    \n",
    "        solution = ((c**(1-rho))/(1-rho))-gamma*1 +beta*u_p2\n",
    "    else :\n",
    "        h2 = h1 + 0 + (0.5*delta)\n",
    "        c = b\n",
    "        \n",
    "        u_nw_p2 = utility_notwork(b,rho,gamma,0)\n",
    "        solution = ((c**(1-rho))/(1-rho))-gamma*0 +beta*u_nw_p2\n",
    "    \n",
    "    return solution\n",
    "\n"
   ]
  },
  {
   "cell_type": "code",
   "execution_count": 19,
   "metadata": {},
   "outputs": [
    {
     "data": {
      "image/png": "[encoded data removed]",
      "text/latex": [
       "$$\\beta \\left(- \\gamma + \\frac{\\left(w \\left(0.5 \\Delta + 1.1\\right)\\right)^{- \\rho + 1}}{- \\rho + 1}\\right) - \\gamma + \\frac{\\left(0.1 w\\right)^{- \\rho + 1}}{- \\rho + 1}$$"
      ],
      "text/plain": [
       "  ⎛                      -ρ + 1⎞              -ρ + 1\n",
       "  ⎜     (w⋅(0.5⋅Δ + 1.1))      ⎟       (0.1⋅w)      \n",
       "β⋅⎜-γ + ───────────────────────⎟ - γ + ─────────────\n",
       "  ⎝              -ρ + 1        ⎠           -ρ + 1   "
      ]
     },
     "execution_count": 19,
     "metadata": {},
     "output_type": "execute_result"
    }
   ],
   "source": [
    "h1 = 0.1\n",
    "utility_2(h1,w,1,rho,gamma,beta,delta,b)"
   ]
  },
  {
   "cell_type": "code",
   "execution_count": 20,
   "metadata": {},
   "outputs": [],
   "source": [
    "rho = 2\n",
    "beta = 0.96\n",
    "gamma = 0.1\n",
    "w = 2\n",
    "b = 1\n",
    "delta = 0.1\n",
    "h_vec = np.linspace(0.1,1.5,100) \n",
    "b_vec = np.linspace(1,1,100)\n",
    "x = utility_2(h_vec,w,1,rho,gamma,beta,delta,b)\n",
    "y = utility_2(h_vec,w,0,rho,gamma,beta,delta,b_vec)\n"
   ]
  },
  {
   "cell_type": "code",
   "execution_count": 21,
   "metadata": {},
   "outputs": [
    {
     "data": {
      "image/png": "[encoded data removed]",
      "text/latex": [
       "$$-1.96$$"
      ],
      "text/plain": [
       "-1.96"
      ]
     },
     "execution_count": 21,
     "metadata": {},
     "output_type": "execute_result"
    }
   ],
   "source": [
    "#The utility of not working is \n",
    "y[0]"
   ]
  },
  {
   "cell_type": "code",
   "execution_count": 22,
   "metadata": {},
   "outputs": [],
   "source": [
    "def objective(h):\n",
    "    return utility_2(h,w,1,rho,gamma,beta,delta,b)\n",
    "def constraint(h):\n",
    "    return (1.96 + utility_2(h,w,1,rho,gamma,beta,delta,b))"
   ]
  },
  {
   "cell_type": "code",
   "execution_count": 23,
   "metadata": {},
   "outputs": [
    {
     "data": {
      "text/plain": [
       "     fun: -1.9599999941585289\n",
       "     jac: array([4.28598835])\n",
       " message: 'Optimization terminated successfully.'\n",
       "    nfev: 21\n",
       "     nit: 7\n",
       "    njev: 7\n",
       "  status: 0\n",
       " success: True\n",
       "       x: array([0.35172508])"
      ]
     },
     "execution_count": 23,
     "metadata": {},
     "output_type": "execute_result"
    }
   ],
   "source": [
    "cons = ({\"type\": \"ineq\",\"fun\":constraint})\n",
    "h_init = 0.1\n",
    "sol = optimize.minimize(objective,h_init,method=\"SLSQP\",constraints=cons)\n",
    "sol"
   ]
  },
  {
   "cell_type": "code",
   "execution_count": 24,
   "metadata": {},
   "outputs": [
    {
     "data": {
      "image/png": "[encoded data removed]",
      "text/latex": [
       "$$0.3517250846522467$$"
      ],
      "text/plain": [
       "0.3517250846522467"
      ]
     },
     "execution_count": 24,
     "metadata": {},
     "output_type": "execute_result"
    }
   ],
   "source": [
    "sol.x[0]"
   ]
  },
  {
   "cell_type": "code",
   "execution_count": 25,
   "metadata": {},
   "outputs": [
    {
     "data": {
      "image/png": "[encoded data removed]",
      "text/plain": [
       "<Figure size 432x288 with 1 Axes>"
      ]
     },
     "metadata": {
      "needs_background": "light"
     },
     "output_type": "display_data"
    }
   ],
   "source": [
    "cutoff = np.linspace(sol.x[0],sol.x[0],100)\n",
    "plt.plot(h_vec,x, label = \"Utility of working\",alpha= 0.8)\n",
    "plt.plot(h_vec,y, color=\"green\", label = \"Utility of not working\",alpha= 0.8)\n",
    "plt.plot(cutoff,x,color = \"red\", linestyle = \"dashed\",label=\"Labour cutoff\",alpha= 0.4)\n",
    "plt.scatter(cutoff[0],y[0],color=\"purple\",alpha = 1)\n",
    "plt.xlabel(\"Human capital level\")\n",
    "plt.ylabel(\"Utility\")\n",
    "plt.legend()\n",
    "plt.show()"
   ]
  },
  {
   "cell_type": "code",
   "execution_count": 26,
   "metadata": {},
   "outputs": [],
   "source": [
    "willwork_p1 = list(range(100))\n",
    "\n",
    "#And fill it with either success (1) if the human capital i above the cutoff or\n",
    "#or falier (0) if it is on the cutoff or below \n",
    "for i in range(len(h_vec)): \n",
    "    if utility_2(h_vec[i],w,1,rho,gamma,beta,delta,1) > utility_2(h_vec[i],w,0,rho,gamma,beta,delta,1) : \n",
    "        willwork_p1[i] = 1\n",
    "    else : \n",
    "        willwork_p1[i] = 0"
   ]
  },
  {
   "cell_type": "code",
   "execution_count": 27,
   "metadata": {},
   "outputs": [
    {
     "data": {
      "text/plain": [
       "[<matplotlib.lines.Line2D at 0x253ffa76ba8>]"
      ]
     },
     "execution_count": 27,
     "metadata": {},
     "output_type": "execute_result"
    },
    {
     "data": {
      "image/png": "[encoded data removed]",
      "text/plain": [
       "<Figure size 432x288 with 1 Axes>"
      ]
     },
     "metadata": {
      "needs_background": "light"
     },
     "output_type": "display_data"
    }
   ],
   "source": [
    "plt.plot(h_vec,willwork_p1)\n",
    "plt.plot(cutoff,np.linspace(0,1,100),linestyle = \"dashed\",color=\"red\")"
   ]
  },
  {
   "cell_type": "markdown",
   "metadata": {},
   "source": [
    "This means that the worker will supply all her labour (1) if her human capital level i above 0.35, but 0 if her human capital level is below this. "
   ]
  },
  {
   "cell_type": "markdown",
   "metadata": {},
   "source": [
    "## Question 3"
   ]
  },
  {
   "cell_type": "code",
   "execution_count": 28,
   "metadata": {},
   "outputs": [],
   "source": [
    "#itinerary \n",
    "## make st of w's with 0.1,0.2 and so on til 0.9 \n",
    "### calculate utility for those \n",
    "#### see if any of them are higher that b\n"
   ]
  },
  {
   "cell_type": "markdown",
   "metadata": {},
   "source": [
    "We will examine if workers will ever work if their wage is lower than the unemployment benefits. In this case the unemployment benefits are given as 1. It is theoretically posible that a worker would chose to work, if the acumulation of human capital can more than make up for the loss in utility. "
   ]
  },
  {
   "cell_type": "code",
   "execution_count": 29,
   "metadata": {},
   "outputs": [],
   "source": [
    "#We define a list of different wage levels to examnie \n",
    "wages = np.linspace(0,0.99,100)\n",
    "#We have chosen these for the sake of interpertation "
   ]
  },
  {
   "cell_type": "code",
   "execution_count": 30,
   "metadata": {},
   "outputs": [],
   "source": [
    "rho = 2\n",
    "beta = 0.96\n",
    "gamma = 0.1\n",
    "b = 1\n",
    "delta = 0.1\n",
    "h_vec = np.linspace(0.1,1.5,100)"
   ]
  },
  {
   "cell_type": "code",
   "execution_count": 31,
   "metadata": {},
   "outputs": [
    {
     "name": "stdout",
     "output_type": "stream",
     "text": [
      "wage_0.6\n"
     ]
    },
    {
     "name": "stderr",
     "output_type": "stream",
     "text": [
      "C:\\Users\\augus\\Anaconda3\\lib\\site-packages\\ipykernel_launcher.py:2: RuntimeWarning: divide by zero encountered in reciprocal\n",
      "  \n",
      "C:\\Users\\augus\\Anaconda3\\lib\\site-packages\\ipykernel_launcher.py:9: RuntimeWarning: divide by zero encountered in reciprocal\n",
      "  if __name__ == '__main__':\n"
     ]
    }
   ],
   "source": [
    "#This for loop test if the utility gained from working, even if wages are lover than b, is higher than -1.96 - the utility of\n",
    "#not working in both periods \n",
    "for wage in wages: \n",
    "    name = \"wage_\" + str(wage)\n",
    "    cutoff_w = utility_2(h1 = h_vec, w = wage, l1 = 1, rho = 2, gamma = 0.1, beta= 0.96, delta = 0.1, b = 1)\n",
    "    if max(cutoff_w) > -1.96:\n",
    "        print(name) \n",
    "        #This will be the lowest wage where it is profitable to work \n",
    "        break"
   ]
  },
  {
   "cell_type": "code",
   "execution_count": 32,
   "metadata": {},
   "outputs": [],
   "source": [
    "#It tursout that it is utility profitable for the worker to work even if the wage is 0.6 while the unemployment benefits are 1\n",
    "## Now we will show this "
   ]
  },
  {
   "cell_type": "code",
   "execution_count": 33,
   "metadata": {},
   "outputs": [
    {
     "data": {
      "image/png": "[encoded data removed]",
      "text/plain": [
       "<Figure size 432x288 with 1 Axes>"
      ]
     },
     "metadata": {
      "needs_background": "light"
     },
     "output_type": "display_data"
    }
   ],
   "source": [
    "cutoff = np.linspace(sol.x[0],sol.x[0],100)\n",
    "plt.plot(h_vec,x, label = \"Wage = 2\",alpha= 0.6)\n",
    "plt.plot(h_vec,y, color = \"red\", linestyle = \"dashed\",alpha= 0.5, label = \"Utility of not working\")\n",
    "plt.plot(h_vec,cutoff_w, color = \"green\", label = \"Wage = 0.6\")\n",
    "plt.xlabel(\"Human capital level\")\n",
    "plt.ylabel(\"Utility\")\n",
    "plt.ylim(-5,0)\n",
    "plt.legend()\n",
    "plt.show()"
   ]
  },
  {
   "cell_type": "markdown",
   "metadata": {},
   "source": [
    "#It is evident that at very high levels of human capital, it can be rational to work, even if the wage is lower than the \n",
    "#unemployment benefits. From our loop before we know that it is the lowest wage where this is true is 0.6. Therefore we \n",
    "#use optimization to find the human capital level of at which i makes sense to work if your wage is 0.6. \n"
   ]
  },
  {
   "cell_type": "code",
   "execution_count": 34,
   "metadata": {},
   "outputs": [],
   "source": [
    "rho = 2\n",
    "beta = 0.96\n",
    "gamma = 0.1\n",
    "w = 0.6\n",
    "b = 1\n",
    "delta = 0.1\n",
    "\n",
    "#because it is negative values we minimize (and not -minimize)\n",
    "def objective(h):\n",
    "    return utility_2(h,w,1,rho,gamma,beta,delta,b)\n",
    "def constraint(h):\n",
    "    return (1.96 + utility_2(h,w,1,rho,gamma,beta,delta,b))"
   ]
  },
  {
   "cell_type": "code",
   "execution_count": 35,
   "metadata": {},
   "outputs": [
    {
     "data": {
      "text/plain": [
       "     fun: -1.960000000389105\n",
       "     jac: array([1.01749761])\n",
       " message: 'Optimization terminated successfully.'\n",
       "    nfev: 27\n",
       "     nit: 9\n",
       "    njev: 9\n",
       "  status: 0\n",
       " success: True\n",
       "       x: array([1.47461354])"
      ]
     },
     "execution_count": 35,
     "metadata": {},
     "output_type": "execute_result"
    }
   ],
   "source": [
    "cons = ({\"type\": \"ineq\",\"fun\":constraint})\n",
    "h_init = 0.1\n",
    "sol = optimize.minimize(objective,h_init,method=\"SLSQP\",constraints=cons)\n",
    "sol"
   ]
  },
  {
   "cell_type": "code",
   "execution_count": 36,
   "metadata": {},
   "outputs": [
    {
     "data": {
      "image/png": "[encoded data removed]",
      "text/latex": [
       "$$1.4746135384659365$$"
      ],
      "text/plain": [
       "1.4746135384659365"
      ]
     },
     "execution_count": 36,
     "metadata": {},
     "output_type": "execute_result"
    }
   ],
   "source": [
    "sol.x[0]"
   ]
  },
  {
   "cell_type": "code",
   "execution_count": 37,
   "metadata": {},
   "outputs": [
    {
     "name": "stdout",
     "output_type": "stream",
     "text": [
      "No level of human capital where the worker would work, at human capital level of 0.59\n"
     ]
    }
   ],
   "source": [
    "#I test that there is no wage value below 0.6 where the worker would work \n",
    "w = 0.59\n",
    "\n",
    "#because it is negative values we minimize (and not -minimize)\n",
    "def objective(h):\n",
    "    return utility_2(h,w,1,rho,gamma,beta,delta,b)\n",
    "def constraint(h):\n",
    "    return (1.96 + utility_2(h,w,1,rho,gamma,beta,delta,b))\n",
    "cons = ({\"type\": \"ineq\",\"fun\":constraint})\n",
    "h_init = 0.1\n",
    "sol = optimize.minimize(objective,h_init,method=\"SLSQP\",constraints=cons)\n",
    "if sol.x[0] > 1.5:\n",
    "    print(\"No level of human capital where the worker would work, at human capital level of\",str(w))\n",
    "else: \n",
    "    print(\"The worker til work if she has a human capital level of\", str(round(sol.x[0],2)))"
   ]
  },
  {
   "cell_type": "markdown",
   "metadata": {},
   "source": [
    "#So the worker will work at a wage of 0.6, if she has a human capital level og 1.47 or higher "
   ]
  },
  {
   "cell_type": "code",
   "execution_count": 38,
   "metadata": {},
   "outputs": [],
   "source": [
    "#Define wages to plot \n",
    "wages = [0.6,0.7,0.8,0.9,0.99]\n",
    "#And the parameters again\n",
    "rho = 2\n",
    "beta = 0.96\n",
    "gamma = 0.1\n",
    "b = 1\n",
    "delta = 0.1 \n",
    "h_vec = np.linspace(0.1,1.5,100)"
   ]
  },
  {
   "cell_type": "code",
   "execution_count": 39,
   "metadata": {},
   "outputs": [
    {
     "data": {
      "image/png": "[encoded data removed]",
      "text/plain": [
       "<Figure size 432x288 with 1 Axes>"
      ]
     },
     "metadata": {
      "needs_background": "light"
     },
     "output_type": "display_data"
    }
   ],
   "source": [
    "for wage in wages: \n",
    "    wage_vec = utility_2(h1 = h_vec, w = wage, l1 = 1, rho = 2, gamma = 0.1, beta= 0.96, delta = 0.1, b = 1)\n",
    "    plt.plot(h_vec,wage_vec, label = \"Wage =\"+str(wage))\n",
    "\n",
    "plt.plot(h_vec,x, label = \"Wage = 2\",alpha= 0.6)\n",
    "plt.plot(h_vec,y, color = \"red\", linestyle = \"dashed\",alpha= 0.5, label = \"Utility of not working\")\n",
    "plt.xlabel(\"Human capital level\")\n",
    "plt.ylabel(\"Utility\")\n",
    "plt.ylim(-5,-0.5)\n",
    "plt.legend()\n",
    "plt.show()"
   ]
  },
  {
   "cell_type": "markdown",
   "metadata": {},
   "source": [
    "#The respective \"cutoff\"-levels of human capital can be calculated using numerical optimazation "
   ]
  },
  {
   "cell_type": "code",
   "execution_count": 40,
   "metadata": {},
   "outputs": [
    {
     "name": "stdout",
     "output_type": "stream",
     "text": [
      "Human capital level = 1.47 with wages = 0.6\n",
      "Human capital level = 1.23 with wages = 0.7\n",
      "Human capital level = 1.05 with wages = 0.8\n",
      "Human capital level = 0.91 with wages = 0.9\n",
      "Human capital level = 0.81 with wages = 0.99\n"
     ]
    }
   ],
   "source": [
    "for wage in wages:\n",
    "    w = wage \n",
    "    def objective(h):\n",
    "        return utility_2(h,w,1,rho,gamma,beta,delta,b)\n",
    "    def constraint(h):\n",
    "        return (1.96 + utility_2(h,w,1,rho,gamma,beta,delta,b))\n",
    "    cons = ({\"type\": \"ineq\",\"fun\":constraint})\n",
    "    h_init = 0.1\n",
    "    \n",
    "    sol = optimize.minimize(objective,h_init,method=\"SLSQP\",constraints=cons)\n",
    "    print(\"Human capital level =\",round(sol.x[0],2),\"with wages =\", wage)"
   ]
  },
  {
   "cell_type": "markdown",
   "metadata": {},
   "source": [
    "Explain why people chose to work even if the wage is lowwer than b"
   ]
  },
  {
   "cell_type": "code",
   "execution_count": null,
   "metadata": {},
   "outputs": [],
   "source": []
  },
  {
   "cell_type": "markdown",
   "metadata": {},
   "source": [
    "# 2. AS-AD Model :"
   ]
  },
  {
   "cell_type": "code",
   "execution_count": 41,
   "metadata": {},
   "outputs": [],
   "source": [
    "import numpy as np\n",
    "import sympy as sm\n",
    "import matplotlib.pyplot as plt\n",
    "sm.init_printing(use_unicode=True)"
   ]
  },
  {
   "cell_type": "code",
   "execution_count": 42,
   "metadata": {},
   "outputs": [],
   "source": [
    "#Initialize the symbols\n",
    "alpha = sm.symbols('alpha')\n",
    "b = sm.symbols('b')\n",
    "gamma = sm.symbols('gamma')\n",
    "h = sm.symbols('h')\n",
    "phi = sm.symbols('phi')\n",
    "yt = sm.symbols('y_t')\n",
    "pit = sm.symbols('pi_t')\n",
    "pit_m1=sm.symbols('pi_t-1')\n",
    "yt_m1 = sm.symbols('y_t-1')\n",
    "vt = sm.symbols('v_t')\n",
    "st = sm.symbols('s_t')\n",
    "st_m1 = sm.symbols('s_t-1')\n",
    "rt = sm.symbols('r_t')\n",
    "it = sm.symbols('i_t')\n",
    "exp_pit = sm.symbols('E[pi_t]')\n",
    "exp_pit_p1 = sm.symbols('E[pi_t+1]')"
   ]
  },
  {
   "cell_type": "markdown",
   "metadata": {},
   "source": [
    "**Question 1**"
   ]
  },
  {
   "cell_type": "markdown",
   "metadata": {},
   "source": [
    "Now that we have the symbols let's write the SRAS curve with them :"
   ]
  },
  {
   "cell_type": "code",
   "execution_count": 43,
   "metadata": {},
   "outputs": [
    {
     "data": {
      "image/png": "[encoded data removed]",
      "text/latex": [
       "$$- \\gamma \\phi y_{t-1} + \\gamma y_{t} - \\phi s_{t-1} + \\pi_{t-1} + s_{t}$$"
      ],
      "text/plain": [
       "-γ⋅φ⋅yₜ₋₁ + γ⋅yₜ - φ⋅sₜ₋₁ + πₜ₋₁ + sₜ"
      ]
     },
     "execution_count": 43,
     "metadata": {},
     "output_type": "execute_result"
    }
   ],
   "source": [
    "#Write the SRAS base equation\n",
    "SRAS_pit=pit_m1-phi*gamma*yt_m1+st-phi*st_m1+gamma*yt\n",
    "SRAS_pit"
   ]
  },
  {
   "cell_type": "markdown",
   "metadata": {},
   "source": [
    "We do the same with the AD curve :"
   ]
  },
  {
   "cell_type": "code",
   "execution_count": 44,
   "metadata": {},
   "outputs": [
    {
     "data": {
      "image/png": "[encoded data removed]",
      "text/latex": [
       "$$\\frac{v_{t} - y_{t} \\left(\\alpha b + 1\\right)}{\\alpha h}$$"
      ],
      "text/plain": [
       "vₜ - yₜ⋅(α⋅b + 1)\n",
       "─────────────────\n",
       "       α⋅h       "
      ]
     },
     "execution_count": 44,
     "metadata": {},
     "output_type": "execute_result"
    }
   ],
   "source": [
    "#Write the AD base equation\n",
    "AD_pit=(1/(h*alpha))*(vt-(1+b*alpha)*yt)\n",
    "AD_pit"
   ]
  },
  {
   "cell_type": "markdown",
   "metadata": {},
   "source": [
    "Now we will equalize SRAS and AD to find the equilibrium values. To do that we substract one to the other (which is the same as equilized):"
   ]
  },
  {
   "cell_type": "code",
   "execution_count": 45,
   "metadata": {},
   "outputs": [
    {
     "data": {
      "image/png": "[encoded data removed]",
      "text/latex": [
       "$$- \\gamma \\phi y_{t-1} + \\gamma y_{t} - \\phi s_{t-1} + \\pi_{t-1} + s_{t} - \\frac{v_{t} - y_{t} \\left(\\alpha b + 1\\right)}{\\alpha h}$$"
      ],
      "text/plain": [
       "                                        vₜ - yₜ⋅(α⋅b + 1)\n",
       "-γ⋅φ⋅yₜ₋₁ + γ⋅yₜ - φ⋅sₜ₋₁ + πₜ₋₁ + sₜ - ─────────────────\n",
       "                                               α⋅h       "
      ]
     },
     "execution_count": 45,
     "metadata": {},
     "output_type": "execute_result"
    }
   ],
   "source": [
    "#SRAS equation minus the AD equation\n",
    "AS_minus_AD= SRAS_pit-AD_pit\n",
    "AS_minus_AD"
   ]
  },
  {
   "cell_type": "markdown",
   "metadata": {},
   "source": [
    "We solve this equation for $y_t$ :"
   ]
  },
  {
   "cell_type": "code",
   "execution_count": 46,
   "metadata": {},
   "outputs": [
    {
     "data": {
      "image/png": "[encoded data removed]",
      "text/latex": [
       "$$\\frac{\\alpha \\gamma h \\phi y_{t-1} + \\alpha h \\phi s_{t-1} - \\alpha h \\pi_{t-1} - \\alpha h s_{t} + v_{t}}{\\alpha b + \\alpha \\gamma h + 1}$$"
      ],
      "text/plain": [
       "α⋅γ⋅h⋅φ⋅yₜ₋₁ + α⋅h⋅φ⋅sₜ₋₁ - α⋅h⋅πₜ₋₁ - α⋅h⋅sₜ + vₜ\n",
       "──────────────────────────────────────────────────\n",
       "                 α⋅b + α⋅γ⋅h + 1                  "
      ]
     },
     "execution_count": 46,
     "metadata": {},
     "output_type": "execute_result"
    }
   ],
   "source": [
    "#Solve the equation for yt\n",
    "eq_y = sm.solve(sm.Eq(AS_minus_AD,0),yt)\n",
    "eq_y[0]"
   ]
  },
  {
   "cell_type": "markdown",
   "metadata": {},
   "source": [
    "We get the equation of the equilibrium output $y_t$ which depend on $\\alpha , \\phi ,\\gamma , h, b, \\pi_{t-1} ,s_{t-1} ,y_{t-1} ,v_t$ and $s_t $."
   ]
  },
  {
   "cell_type": "markdown",
   "metadata": {},
   "source": [
    "Now that we have the equilibrium equation of the output, let's insert it in the SRAS curve :"
   ]
  },
  {
   "cell_type": "code",
   "execution_count": 47,
   "metadata": {},
   "outputs": [
    {
     "data": {
      "image/png": "[encoded data removed]",
      "text/latex": [
       "$$- \\gamma \\phi y_{t-1} + \\frac{\\gamma \\left(\\alpha \\gamma h \\phi y_{t-1} + \\alpha h \\phi s_{t-1} - \\alpha h \\pi_{t-1} - \\alpha h s_{t} + v_{t}\\right)}{\\alpha b + \\alpha \\gamma h + 1} - \\phi s_{t-1} + \\pi_{t-1} + s_{t}$$"
      ],
      "text/plain": [
       "            γ⋅(α⋅γ⋅h⋅φ⋅yₜ₋₁ + α⋅h⋅φ⋅sₜ₋₁ - α⋅h⋅πₜ₋₁ - α⋅h⋅sₜ + vₜ)            \n",
       "-γ⋅φ⋅yₜ₋₁ + ────────────────────────────────────────────────────── - φ⋅sₜ₋₁ + \n",
       "                               α⋅b + α⋅γ⋅h + 1                                \n",
       "\n",
       "         \n",
       "πₜ₋₁ + sₜ\n",
       "         "
      ]
     },
     "execution_count": 47,
     "metadata": {},
     "output_type": "execute_result"
    }
   ],
   "source": [
    "#Substitute the new output equation to replace yt\n",
    "eq_pi= SRAS_pit.subs(yt,eq_y[0])\n",
    "eq_pi"
   ]
  },
  {
   "cell_type": "markdown",
   "metadata": {},
   "source": [
    "We obtain the equation of the equilibrium inflation which depend on $\\gamma ,\\phi , s_t ,\\pi_{t-1} ,y_{t-1}$ and $s_{t-1}$"
   ]
  },
  {
   "cell_type": "markdown",
   "metadata": {},
   "source": [
    "**Question 2**"
   ]
  },
  {
   "cell_type": "markdown",
   "metadata": {},
   "source": [
    "We want to find the output and inflation for the equilibrium and see the evolution when there is a demand disturbance.\n",
    "To do that we will create a dictonnary for the parameters of this question, and create two functions for the output and inflation from the equation find previously. We will use these functions to get the output and inflation level at the equilibrium and after a shock and plot the results."
   ]
  },
  {
   "cell_type": "markdown",
   "metadata": {},
   "source": [
    "First of all we create a dictionary to enter the value of our parameters ($\\alpha$, $h$, $b$, $\\phi$, $\\gamma$) :"
   ]
  },
  {
   "cell_type": "code",
   "execution_count": 48,
   "metadata": {},
   "outputs": [],
   "source": [
    "#initialization of the dicitonary\n",
    "pms = {}\n",
    "\n",
    "#enter the parameters and their value\n",
    "pms['alpha']=5.76\n",
    "pms['h'] = 0.5\n",
    "pms['b'] = 0.5\n",
    "pms['phi'] = 0\n",
    "pms['gamma'] = 0.075"
   ]
  },
  {
   "cell_type": "markdown",
   "metadata": {},
   "source": [
    "From the equation of the output find in the question one ( \"eq_y\" ), we create a function by using the lambdify."
   ]
  },
  {
   "cell_type": "code",
   "execution_count": 49,
   "metadata": {},
   "outputs": [],
   "source": [
    "#Our eq_y is a list, therefore we need to consider only the first element of it to use the lambdify function.\n",
    "equil_output= sm.lambdify((vt, st, pit_m1, st_m1, yt_m1, alpha, h, b, phi, gamma),eq_y[0])\n",
    "\n",
    "#define the function\n",
    "def equili_output (vt, st, pit_m1, st_m1, yt_m1, alpha=pms['alpha'], h=pms['h'], b=pms['b'], phi=pms['phi'], gamma=pms['gamma']):\n",
    "    \"\"\"\n",
    "    This function take five parameters plus five others which are by default define in the dictionary called \"pms\" and\n",
    "    return the output of the economy.\n",
    "    \n",
    "        args :  vt (float) : the demand disturbance in period t\n",
    "                st (float) : the supply disturbance in period t\n",
    "                pit_m1 (float) : the inflation in period t-1\n",
    "                st_m1 (float) : the supply disturbance in period t-1\n",
    "                yt_m1 (float) : the output in period t-1\n",
    "        \n",
    "        return (float) : The output yt of the economy for the period t.\n",
    "    \n",
    "    \"\"\"\n",
    "    return equil_output (vt, st, pit_m1, st_m1, yt_m1, alpha, h, b, phi, gamma)"
   ]
  },
  {
   "cell_type": "markdown",
   "metadata": {},
   "source": [
    "Now let's enter values of the variables at the equilibrium, which means $v_t = s_t = \\pi_{t-1} = s_{t-1} = y_{t-1} = 0$ :"
   ]
  },
  {
   "cell_type": "code",
   "execution_count": 50,
   "metadata": {},
   "outputs": [
    {
     "data": {
      "image/png": "[encoded data removed]",
      "text/latex": [
       "$$0.0$$"
      ],
      "text/plain": [
       "0.0"
      ]
     },
     "execution_count": 50,
     "metadata": {},
     "output_type": "execute_result"
    }
   ],
   "source": [
    "equili_output(0,0,0,0,0)"
   ]
  },
  {
   "cell_type": "markdown",
   "metadata": {},
   "source": [
    "The output is zero ($y_t = 0$) which makes sense given that all the other variables are equal to 0."
   ]
  },
  {
   "cell_type": "markdown",
   "metadata": {},
   "source": [
    "Now let's what would be the impact of a positive demand disturbance on the production. For that let's just set $v_t = 0.1$ instead of 0 :"
   ]
  },
  {
   "cell_type": "code",
   "execution_count": 51,
   "metadata": {},
   "outputs": [
    {
     "data": {
      "image/png": "[encoded data removed]",
      "text/latex": [
       "$$0.0244140625$$"
      ],
      "text/plain": [
       "0.0244140625"
      ]
     },
     "execution_count": 51,
     "metadata": {},
     "output_type": "execute_result"
    }
   ],
   "source": [
    "equili_output(0.1,0,0,0,0)"
   ]
  },
  {
   "cell_type": "markdown",
   "metadata": {},
   "source": [
    "When there is a positive disturbance of the demand $v_t$ we can observe an increase in the output. Indeed an increase in demande will stimulate the economy, the supply will adapt to the demand, increase as well, leading to more production."
   ]
  },
  {
   "cell_type": "markdown",
   "metadata": {},
   "source": [
    "Now let's see the impact of the demand disturbance on the **inflation** :"
   ]
  },
  {
   "cell_type": "markdown",
   "metadata": {},
   "source": [
    "As before we use the inflation equation find in question one ( \"eq_pi\" ) to create a function."
   ]
  },
  {
   "cell_type": "code",
   "execution_count": 52,
   "metadata": {},
   "outputs": [],
   "source": [
    "#use lambdify on the inflation equation eq_pi\n",
    "equil_pi= sm.lambdify((st, yt, pit_m1, st_m1, yt_m1, gamma, phi),SRAS_pit)\n",
    "\n",
    "#define the function\n",
    "def equili_pi (st, yt, pit_m1, st_m1, yt_m1, gamma=pms['gamma'], phi=pms['phi']):\n",
    "    \"\"\"\n",
    "    This function take five parameters plus two others which are by default define in the dictionary called \"pms\" and\n",
    "    return the inflation of the economy.\n",
    "    \n",
    "        args :  st (float) : the supply disturbance in period t\n",
    "                yt (float) : the output in period t\n",
    "                pit_m1 (float) : the inflation in period t-1\n",
    "                st_m1 (float) : the supply disturbance in period t-1\n",
    "                yt_m1 (float) : the output in period t-1\n",
    "        \n",
    "        return (float) : The inflation pit of the economy for period t.\n",
    "    \n",
    "    \"\"\"\n",
    "    return equil_pi (st, yt, pit_m1, st_m1, yt_m1, gamma, phi)"
   ]
  },
  {
   "cell_type": "code",
   "execution_count": 53,
   "metadata": {},
   "outputs": [
    {
     "data": {
      "image/png": "[encoded data removed]",
      "text/latex": [
       "$$0.0$$"
      ],
      "text/plain": [
       "0.0"
      ]
     },
     "execution_count": 53,
     "metadata": {},
     "output_type": "execute_result"
    }
   ],
   "source": [
    "equili_pi(0,0,0,0,0)"
   ]
  },
  {
   "cell_type": "markdown",
   "metadata": {},
   "source": [
    "At the equilibrium, when $v_t = s_t = \\pi_{t-1} = s_{t-1} = y_{t-1} = 0$ the inflation is zero ($\\pi_t = 0$). \n",
    "Regarding the demand disturbance, it is not involve in the inflation equation, however its impact increased the output in period t. This increase in output will impact the inflation : "
   ]
  },
  {
   "cell_type": "code",
   "execution_count": 54,
   "metadata": {},
   "outputs": [
    {
     "data": {
      "image/png": "[encoded data removed]",
      "text/latex": [
       "$$0.0018310546875$$"
      ],
      "text/plain": [
       "0.0018310546875"
      ]
     },
     "execution_count": 54,
     "metadata": {},
     "output_type": "execute_result"
    }
   ],
   "source": [
    "equili_pi(0,0.0244140625,0,0,0)"
   ]
  },
  {
   "cell_type": "markdown",
   "metadata": {},
   "source": [
    "The positive disturbance on the demand also increase the inflation.\n",
    "We can summarize the effect of this disturbance as follow:\n",
    "   1. The positive choc on $v_t$ leads to a higher demand\n",
    "   2. The supply and the demand adjust on a higher production and therefor a higher output $y_t$\n",
    "   3. Finally a higher output lead to inflation, an increase in $\\pi_t$"
   ]
  },
  {
   "cell_type": "markdown",
   "metadata": {},
   "source": [
    "**Question 3**"
   ]
  },
  {
   "cell_type": "markdown",
   "metadata": {},
   "source": [
    "In this question we introduce a demand and a supply shock inside the demand and supply disturbance. Now these both variables became function of shocks and some parameters. "
   ]
  },
  {
   "cell_type": "markdown",
   "metadata": {},
   "source": [
    "In theses conditions we want to know how the economy will evolve, starting from the equilibrium, if there is a demand shock in the first period. To answer this question we will first adapt our model to the new definitions of $v_t$ and $s_t$."
   ]
  },
  {
   "cell_type": "markdown",
   "metadata": {},
   "source": [
    "Now the have two new parameters ($\\delta$, $\\omega$) and $v_t$ and $s_t$ which became function. We have to set up this new configuration:"
   ]
  },
  {
   "cell_type": "code",
   "execution_count": 55,
   "metadata": {},
   "outputs": [],
   "source": [
    "#add the new parameters into the dictionary\n",
    "pms[\"delta\"] = 0.80\n",
    "pms[\"omega\"] = 0.15\n",
    "\n",
    "\n",
    "#define the new symbols\n",
    "delta = sm.symbols(\"delta\")\n",
    "omega = sm.symbols(\"omega\")\n",
    "vt_m1 = sm.symbols(\"v_t-1\")\n",
    "xt = sm.symbols(\"x_t\")\n",
    "ct = sm.symbols(\"c_t\")\n",
    "\n",
    "\n",
    "################################################# I CHANGE OMEGA TO THE PARAMETER HERE, It HAS WORKED##########################\n",
    "#define the new vt and st equation\n",
    "vt_ar = delta*vt_m1 + xt\n",
    "st_ar = pms['omega']*st_m1 + ct"
   ]
  },
  {
   "cell_type": "markdown",
   "metadata": {},
   "source": [
    "To deal with these changes, we have to replace our $v_t$ in the output equation by the new one which is vt_ar :"
   ]
  },
  {
   "cell_type": "code",
   "execution_count": 56,
   "metadata": {},
   "outputs": [
    {
     "data": {
      "image/png": "[encoded data removed]",
      "text/latex": [
       "$$\\frac{\\alpha \\gamma h \\phi y_{t-1} + \\alpha h \\phi s_{t-1} - \\alpha h \\pi_{t-1} - \\alpha h s_{t} + v_{t}}{\\alpha b + \\alpha \\gamma h + 1}$$"
      ],
      "text/plain": [
       "α⋅γ⋅h⋅φ⋅yₜ₋₁ + α⋅h⋅φ⋅sₜ₋₁ - α⋅h⋅πₜ₋₁ - α⋅h⋅sₜ + vₜ\n",
       "──────────────────────────────────────────────────\n",
       "                 α⋅b + α⋅γ⋅h + 1                  "
      ]
     },
     "execution_count": 56,
     "metadata": {},
     "output_type": "execute_result"
    }
   ],
   "source": [
    "#The output equilibrium equation (our previous equation):\n",
    "eq_y[0]"
   ]
  },
  {
   "cell_type": "code",
   "execution_count": 57,
   "metadata": {},
   "outputs": [
    {
     "data": {
      "image/png": "[encoded data removed]",
      "text/latex": [
       "$$\\frac{\\alpha \\gamma h \\phi y_{t-1} + \\alpha h \\phi s_{t-1} - \\alpha h \\pi_{t-1} - \\alpha h s_{t} + \\delta v_{t-1} + x_{t}}{\\alpha b + \\alpha \\gamma h + 1}$$"
      ],
      "text/plain": [
       "α⋅γ⋅h⋅φ⋅yₜ₋₁ + α⋅h⋅φ⋅sₜ₋₁ - α⋅h⋅πₜ₋₁ - α⋅h⋅sₜ + δ⋅vₜ₋₁ + xₜ\n",
       "───────────────────────────────────────────────────────────\n",
       "                      α⋅b + α⋅γ⋅h + 1                      "
      ]
     },
     "execution_count": 57,
     "metadata": {},
     "output_type": "execute_result"
    }
   ],
   "source": [
    "#substitute vt by vt_ar\n",
    "eq_y_ar = eq_y[0].subs(vt,vt_ar)\n",
    "eq_y_ar"
   ]
  },
  {
   "cell_type": "code",
   "execution_count": 58,
   "metadata": {},
   "outputs": [
    {
     "data": {
      "image/png": "[encoded data removed]",
      "text/latex": [
       "$$\\frac{\\alpha \\gamma h \\phi y_{t-1} + \\alpha h \\phi s_{t-1} - \\alpha h \\pi_{t-1} - \\alpha h \\left(c_{t} + 0.15 s_{t-1}\\right) + \\delta v_{t-1} + x_{t}}{\\alpha b + \\alpha \\gamma h + 1}$$"
      ],
      "text/plain": [
       "α⋅γ⋅h⋅φ⋅yₜ₋₁ + α⋅h⋅φ⋅sₜ₋₁ - α⋅h⋅πₜ₋₁ - α⋅h⋅(cₜ + 0.15⋅sₜ₋₁) + δ⋅vₜ₋₁ + xₜ\n",
       "─────────────────────────────────────────────────────────────────────────\n",
       "                             α⋅b + α⋅γ⋅h + 1                             "
      ]
     },
     "execution_count": 58,
     "metadata": {},
     "output_type": "execute_result"
    }
   ],
   "source": [
    "#substitute st by st_ar\n",
    "eq_y_ar2 = eq_y_ar.subs(st, st_ar)\n",
    "eq_y_ar2"
   ]
  },
  {
   "cell_type": "markdown",
   "metadata": {},
   "source": [
    "We have to do the same in the SRAS equation, by replacing $s_t$ by st_ar:"
   ]
  },
  {
   "cell_type": "code",
   "execution_count": 59,
   "metadata": {},
   "outputs": [
    {
     "data": {
      "image/png": "[encoded data removed]",
      "text/latex": [
       "$$- \\gamma \\phi y_{t-1} + \\gamma y_{t} - \\phi s_{t-1} + \\pi_{t-1} + s_{t}$$"
      ],
      "text/plain": [
       "-γ⋅φ⋅yₜ₋₁ + γ⋅yₜ - φ⋅sₜ₋₁ + πₜ₋₁ + sₜ"
      ]
     },
     "execution_count": 59,
     "metadata": {},
     "output_type": "execute_result"
    }
   ],
   "source": [
    "#The SRAS equation (our previous equation):\n",
    "SRAS_pit"
   ]
  },
  {
   "cell_type": "code",
   "execution_count": 60,
   "metadata": {},
   "outputs": [
    {
     "data": {
      "image/png": "[encoded data removed]",
      "text/latex": [
       "$$c_{t} - \\gamma \\phi y_{t-1} + \\gamma y_{t} - \\phi s_{t-1} + \\pi_{t-1} + 0.15 s_{t-1}$$"
      ],
      "text/plain": [
       "cₜ - γ⋅φ⋅yₜ₋₁ + γ⋅yₜ - φ⋅sₜ₋₁ + πₜ₋₁ + 0.15⋅sₜ₋₁"
      ]
     },
     "execution_count": 60,
     "metadata": {},
     "output_type": "execute_result"
    }
   ],
   "source": [
    "#substitute st by st_ar\n",
    "eq_pi_ar = SRAS_pit.subs(st,st_ar)\n",
    "eq_pi_ar"
   ]
  },
  {
   "cell_type": "code",
   "execution_count": null,
   "metadata": {},
   "outputs": [],
   "source": [
    "\n"
   ]
  },
  {
   "cell_type": "markdown",
   "metadata": {},
   "source": [
    "Now that we changed our equation, we also have to make these changes inside our previous functions :"
   ]
  },
  {
   "cell_type": "code",
   "execution_count": 61,
   "metadata": {},
   "outputs": [],
   "source": [
    "#create a new output function, with the new parameters\n",
    "#the issue is with st_m1\n",
    "equil_output2= sm.lambdify((vt_m1, pit_m1, st_m1, yt_m1, ct, xt, alpha, h, b, phi, gamma, delta),eq_y_ar2)\n",
    "def equili_output_ar (vt_m1, pit_m1, st_m1, yt_m1, ct, xt, alpha=pms['alpha'], h=pms['h'], b=pms['b'], phi=pms['phi'], omega=['omega'], gamma=pms['gamma'], delta=pms['delta']):\n",
    "    return equil_output2 (vt_m1, pit_m1, st_m1, yt_m1, ct, xt, alpha, h, b, phi, gamma, delta)"
   ]
  },
  {
   "cell_type": "code",
   "execution_count": 62,
   "metadata": {},
   "outputs": [
    {
     "data": {
      "image/png": "[encoded data removed]",
      "text/latex": [
       "$$-0.0703125$$"
      ],
      "text/plain": [
       "-0.0703125"
      ]
     },
     "execution_count": 62,
     "metadata": {},
     "output_type": "execute_result"
    }
   ],
   "source": [
    "equili_output_ar(0,0,0,0,0.1,0)\n",
    "# as evident here:\n",
    "#equili_output_ar(0,1,0,0,0.1,0)\n"
   ]
  },
  {
   "cell_type": "code",
   "execution_count": 63,
   "metadata": {},
   "outputs": [],
   "source": [
    "#create a new inflation function, with the new parameters\n",
    "equil_piii= sm.lambdify((yt_m1, yt, pit_m1, st_m1, ct, omega, gamma, phi),eq_pi_ar)\n",
    "def equili_pi_ar (yt_m1, yt, pit_m1, st_m1, ct, omega=pms['omega'], gamma=pms['gamma'], phi=pms['phi']):\n",
    "    return equil_piii (yt_m1, yt, pit_m1, st_m1, ct, omega, gamma, phi)"
   ]
  },
  {
   "cell_type": "code",
   "execution_count": 64,
   "metadata": {},
   "outputs": [
    {
     "data": {
      "image/png": "[encoded data removed]",
      "text/latex": [
       "$$0.0$$"
      ],
      "text/plain": [
       "0.0"
      ]
     },
     "execution_count": 64,
     "metadata": {},
     "output_type": "execute_result"
    }
   ],
   "source": [
    "#test at the initial state\n",
    "equili_pi_ar(0,0,0,0,0)"
   ]
  },
  {
   "cell_type": "markdown",
   "metadata": {},
   "source": [
    "Now let's enter the new output value to get the new inflation value:"
   ]
  },
  {
   "cell_type": "code",
   "execution_count": 65,
   "metadata": {},
   "outputs": [
    {
     "data": {
      "image/png": "[encoded data removed]",
      "text/latex": [
       "$$0.0$$"
      ],
      "text/plain": [
       "0.0"
      ]
     },
     "execution_count": 65,
     "metadata": {},
     "output_type": "execute_result"
    }
   ],
   "source": [
    "equili_pi_ar(0,equili_output_ar(0,0.1,0,0,0,0,0), 0, 0, 0)"
   ]
  },
  {
   "cell_type": "code",
   "execution_count": 66,
   "metadata": {},
   "outputs": [
    {
     "data": {
      "image/png": "[encoded data removed]",
      "text/latex": [
       "$$-0.0703125$$"
      ],
      "text/plain": [
       "-0.0703125"
      ]
     },
     "execution_count": 66,
     "metadata": {},
     "output_type": "execute_result"
    }
   ],
   "source": [
    "equili_output_ar(0,0,0,0,0.1,0)"
   ]
  },
  {
   "cell_type": "code",
   "execution_count": 67,
   "metadata": {},
   "outputs": [],
   "source": [
    "#define the number of time period\n",
    "T = 100\n",
    "\n",
    "#create a loop to see the evolution of output and inflation\n",
    "\n",
    "shock = 0.1\n",
    "pi_m = 0\n",
    "yn = 0\n",
    "y_m = 0\n",
    "\n",
    "list_output = list(range(100))\n",
    "list_inflation = list(range(100))\n",
    "\n",
    "for i in range(100):\n",
    "    \n",
    "    if i == 1 :\n",
    "        y = equili_output_ar(0,pi_m,0,y_m,0,shock)\n",
    "        list_output[i] = y\n",
    "        yn = y\n",
    "        p = equili_pi_ar(y_m,yn,pi_m,0,0)\n",
    "        list_inflation[i] = p  \n",
    "        pi_m = p\n",
    "        y_m = y\n",
    "    \n",
    "    elif i> 1 :\n",
    "        y = equili_output_ar(0,pi_m,0,y_m,0,0)\n",
    "        list_output[i] = y\n",
    "        yn = y\n",
    "        p = equili_pi_ar(y_m,yn,pi_m,0,0)\n",
    "        list_inflation[i] = p  \n",
    "        pi_m = p\n",
    "        y_m = y\n",
    "\n",
    "    else : \n",
    "        y = equili_output_ar(0,0,0,0,0,0)\n",
    "        list_output[i] = y\n",
    "        yn = y\n",
    "        p = equili_pi_ar(y_m,yn,pi_m,0,0)\n",
    "        list_inflation[i] = p\n",
    "        pi_m = p\n",
    "        y_m = y"
   ]
  },
  {
   "cell_type": "code",
   "execution_count": 68,
   "metadata": {},
   "outputs": [
    {
     "data": {
      "text/plain": [
       "[<matplotlib.lines.Line2D at 0x253ffb26048>]"
      ]
     },
     "execution_count": 68,
     "metadata": {},
     "output_type": "execute_result"
    },
    {
     "data": {
      "image/png": "[encoded data removed]",
      "text/plain": [
       "<Figure size 432x288 with 1 Axes>"
      ]
     },
     "metadata": {
      "needs_background": "light"
     },
     "output_type": "display_data"
    }
   ],
   "source": [
    "plt.plot(list_output)\n",
    "plt.plot(list_inflation)"
   ]
  },
  {
   "cell_type": "markdown",
   "metadata": {},
   "source": [
    "\n",
    "**Question 4**"
   ]
  },
  {
   "cell_type": "code",
   "execution_count": 69,
   "metadata": {},
   "outputs": [],
   "source": [
    "def counter(i,n):\n",
    "    if i == n/10:\n",
    "        print(\"10%\")\n",
    "    if i == 2*(n/10):\n",
    "        print(\"20%\")\n",
    "    if i == 3*(n/10):\n",
    "        print(\"30%\")\n",
    "    if i == 4*(n/10):\n",
    "        print(\"40%\")\n",
    "    if i == 5*(n/10):\n",
    "        print(\"50%\")\n",
    "    if i == 6*(n/10):\n",
    "        print(\"60%\")\n",
    "    if i == 7*(n/10):\n",
    "        print(\"70%\")\n",
    "    if i == 8*(n/10):\n",
    "        print(\"80%\")\n",
    "    if i == 9*(n/10):\n",
    "        print(\"90%\")\n",
    "    if i == 10*(n-2/10):\n",
    "        print(\"100%\")\n",
    "    return"
   ]
  },
  {
   "cell_type": "code",
   "execution_count": 70,
   "metadata": {},
   "outputs": [],
   "source": [
    "pms['sigma_x'] = 3.492\n",
    "pms['sigma_c'] = 0.2\n",
    "pms[\"delta\"] = 0.80\n",
    "pms[\"omega\"] = 0.15\n"
   ]
  },
  {
   "cell_type": "code",
   "execution_count": 71,
   "metadata": {},
   "outputs": [],
   "source": [
    "\n",
    "def simulation(v_m=0, s_m=0) :\n",
    "    np.random.seed(1)\n",
    "\n",
    "    pi_m = 0\n",
    "    yn = 0\n",
    "    y_m = 0\n",
    "    xt = np.random.normal(loc=0,scale=pms['sigma_x'],size=1000)\n",
    "    ct = np.random.normal(loc=0,scale=pms['sigma_c'],size=1000)\n",
    "\n",
    "    \n",
    "    list_output = list(range(1000))\n",
    "    list_inflation = list(range(1000))\n",
    "    for i in range(1000):\n",
    "        counter(i=i,n=1000)\n",
    "        if i == 0 :\n",
    "            \n",
    "            y = equili_output_ar(v_m,pi_m,s_m,y_m,ct[i],xt[i])\n",
    "            list_output[i] = y\n",
    "            yn = y\n",
    "            p = equili_pi_ar(y_m,yn,pi_m,s_m,ct[i])\n",
    "            list_inflation[i] = p  \n",
    "            pi_m = p\n",
    "            y_m = y\n",
    "            v_m = pms[\"delta\"] * v_m + xt[i]\n",
    "            s_m = pms[\"omega\"] * s_m + ct [i] \n",
    "        else :\n",
    "            y = equili_output_ar(v_m,pi_m,s_m,y_m,ct[i],xt[i])\n",
    "            \n",
    "            list_output[i] = y\n",
    "            yn = y\n",
    "            p = equili_pi_ar(y_m,yn,pi_m,s_m,ct[i])\n",
    "            list_inflation[i] = p  \n",
    "            pi_m = p\n",
    "            y_m = y\n",
    "            v_m = pms[\"delta\"] * v_m + xt[i]\n",
    "            s_m = pms[\"omega\"] * s_m + ct[i]\n",
    "\n",
    "    return list_inflation, list_output"
   ]
  },
  {
   "cell_type": "code",
   "execution_count": 72,
   "metadata": {},
   "outputs": [
    {
     "name": "stdout",
     "output_type": "stream",
     "text": [
      "10%\n",
      "20%\n",
      "30%\n",
      "40%\n",
      "50%\n",
      "60%\n",
      "70%\n",
      "80%\n",
      "90%\n"
     ]
    }
   ],
   "source": [
    "data = simulation()"
   ]
  },
  {
   "cell_type": "code",
   "execution_count": 73,
   "metadata": {},
   "outputs": [],
   "source": [
    "inflation = data[0]\n",
    "output = data[1]"
   ]
  },
  {
   "cell_type": "markdown",
   "metadata": {},
   "source": [
    "### Statistics for the simulated model"
   ]
  },
  {
   "cell_type": "code",
   "execution_count": 74,
   "metadata": {},
   "outputs": [
    {
     "name": "stdout",
     "output_type": "stream",
     "text": [
      "1.018330396633222\n",
      "1.8330329923516997\n"
     ]
    }
   ],
   "source": [
    "#Variance\n",
    "print(np.var(inflation))\n",
    "print(np.var(output))\n"
   ]
  },
  {
   "cell_type": "code",
   "execution_count": 75,
   "metadata": {},
   "outputs": [],
   "source": [
    "mean_pi = np.linspace(np.mean(inflation),np.mean(inflation),1000)\n",
    "mean_y = np.linspace(np.mean(output),np.mean(output),1000)"
   ]
  },
  {
   "cell_type": "code",
   "execution_count": 76,
   "metadata": {},
   "outputs": [
    {
     "data": {
      "image/png": "[encoded data removed]",
      "text/plain": [
       "<Figure size 432x288 with 1 Axes>"
      ]
     },
     "metadata": {
      "needs_background": "light"
     },
     "output_type": "display_data"
    }
   ],
   "source": [
    "plt.plot(output,label=\"Output\")\n",
    "plt.plot(mean_y,color=\"r\",label=\"Mean of output\",linestyle=\"dashed\")\n",
    "plt.xlabel(\"Period\")\n",
    "plt.ylabel(\"Change in output\")\n",
    "plt.legend()\n",
    "plt.show()"
   ]
  },
  {
   "cell_type": "code",
   "execution_count": 77,
   "metadata": {},
   "outputs": [
    {
     "data": {
      "image/png": "[encoded data removed]",
      "text/plain": [
       "<Figure size 432x288 with 1 Axes>"
      ]
     },
     "metadata": {
      "needs_background": "light"
     },
     "output_type": "display_data"
    }
   ],
   "source": [
    "plt.plot(inflation,label=\"Inflation\")\n",
    "plt.plot(mean_pi,color=\"r\",label=\"Mean of inflation\",linestyle=\"dashed\")\n",
    "plt.xlabel(\"Period\")\n",
    "plt.ylabel(\"Change in inflaiton\")\n",
    "plt.legend()\n",
    "plt.show()"
   ]
  },
  {
   "cell_type": "code",
   "execution_count": 78,
   "metadata": {},
   "outputs": [
    {
     "data": {
      "image/png": "[encoded data removed]",
      "text/latex": [
       "$$-0.20791445913919612$$"
      ],
      "text/plain": [
       "-0.20791445913919612"
      ]
     },
     "execution_count": 78,
     "metadata": {},
     "output_type": "execute_result"
    }
   ],
   "source": [
    "#Correlatation between inflation and output\n",
    "#pearsons R\n",
    "np.corrcoef(inflation,output)[0,1]"
   ]
  },
  {
   "cell_type": "code",
   "execution_count": 79,
   "metadata": {},
   "outputs": [
    {
     "data": {
      "image/png": "[encoded data removed]",
      "text/plain": [
       "<Figure size 432x288 with 1 Axes>"
      ]
     },
     "metadata": {
      "needs_background": "light"
     },
     "output_type": "display_data"
    }
   ],
   "source": [
    "plt.plot(inflation,label=\"Inflation\",alpha=1)\n",
    "plt.plot(output,color=\"r\",label=\"Output\",alpha=0.2)\n",
    "plt.xlabel(\"Period\")\n",
    "plt.ylabel(\"Change\")\n",
    "plt.legend()\n",
    "plt.show()"
   ]
  },
  {
   "cell_type": "code",
   "execution_count": 80,
   "metadata": {},
   "outputs": [
    {
     "data": {
      "text/html": [
       "<div>\n",
       "<style scoped>\n",
       "    .dataframe tbody tr th:only-of-type {\n",
       "        vertical-align: middle;\n",
       "    }\n",
       "\n",
       "    .dataframe tbody tr th {\n",
       "        vertical-align: top;\n",
       "    }\n",
       "\n",
       "    .dataframe thead th {\n",
       "        text-align: right;\n",
       "    }\n",
       "</style>\n",
       "<table border=\"1\" class=\"dataframe\">\n",
       "  <thead>\n",
       "    <tr style=\"text-align: right;\">\n",
       "      <th></th>\n",
       "      <th>inflation</th>\n",
       "      <th>output</th>\n",
       "    </tr>\n",
       "  </thead>\n",
       "  <tbody>\n",
       "    <tr>\n",
       "      <th>0</th>\n",
       "      <td>0.074830</td>\n",
       "      <td>1.406367</td>\n",
       "    </tr>\n",
       "    <tr>\n",
       "      <th>1</th>\n",
       "      <td>-0.350344</td>\n",
       "      <td>0.878997</td>\n",
       "    </tr>\n",
       "    <tr>\n",
       "      <th>2</th>\n",
       "      <td>-0.304003</td>\n",
       "      <td>0.245455</td>\n",
       "    </tr>\n",
       "    <tr>\n",
       "      <th>3</th>\n",
       "      <td>-0.412872</td>\n",
       "      <td>-0.643367</td>\n",
       "    </tr>\n",
       "    <tr>\n",
       "      <th>4</th>\n",
       "      <td>-0.684640</td>\n",
       "      <td>0.527190</td>\n",
       "    </tr>\n",
       "  </tbody>\n",
       "</table>\n",
       "</div>"
      ],
      "text/plain": [
       "   inflation    output\n",
       "0   0.074830  1.406367\n",
       "1  -0.350344  0.878997\n",
       "2  -0.304003  0.245455\n",
       "3  -0.412872 -0.643367\n",
       "4  -0.684640  0.527190"
      ]
     },
     "execution_count": 80,
     "metadata": {},
     "output_type": "execute_result"
    }
   ],
   "source": [
    "#make a dataframe in order to make lagged variables\n",
    "d = {\"inflation\" : inflation, \"output\":output}\n",
    "df = pd.DataFrame(data=d)\n",
    "df.head()"
   ]
  },
  {
   "cell_type": "code",
   "execution_count": 81,
   "metadata": {},
   "outputs": [
    {
     "data": {
      "text/html": [
       "<div>\n",
       "<style scoped>\n",
       "    .dataframe tbody tr th:only-of-type {\n",
       "        vertical-align: middle;\n",
       "    }\n",
       "\n",
       "    .dataframe tbody tr th {\n",
       "        vertical-align: top;\n",
       "    }\n",
       "\n",
       "    .dataframe thead th {\n",
       "        text-align: right;\n",
       "    }\n",
       "</style>\n",
       "<table border=\"1\" class=\"dataframe\">\n",
       "  <thead>\n",
       "    <tr style=\"text-align: right;\">\n",
       "      <th></th>\n",
       "      <th>inflation</th>\n",
       "      <th>output</th>\n",
       "      <th>l_inflation</th>\n",
       "      <th>l_output</th>\n",
       "    </tr>\n",
       "  </thead>\n",
       "  <tbody>\n",
       "    <tr>\n",
       "      <th>0</th>\n",
       "      <td>0.074830</td>\n",
       "      <td>1.406367</td>\n",
       "      <td>NaN</td>\n",
       "      <td>NaN</td>\n",
       "    </tr>\n",
       "    <tr>\n",
       "      <th>1</th>\n",
       "      <td>-0.350344</td>\n",
       "      <td>0.878997</td>\n",
       "      <td>0.074830</td>\n",
       "      <td>1.406367</td>\n",
       "    </tr>\n",
       "    <tr>\n",
       "      <th>2</th>\n",
       "      <td>-0.304003</td>\n",
       "      <td>0.245455</td>\n",
       "      <td>-0.350344</td>\n",
       "      <td>0.878997</td>\n",
       "    </tr>\n",
       "    <tr>\n",
       "      <th>3</th>\n",
       "      <td>-0.412872</td>\n",
       "      <td>-0.643367</td>\n",
       "      <td>-0.304003</td>\n",
       "      <td>0.245455</td>\n",
       "    </tr>\n",
       "    <tr>\n",
       "      <th>4</th>\n",
       "      <td>-0.684640</td>\n",
       "      <td>0.527190</td>\n",
       "      <td>-0.412872</td>\n",
       "      <td>-0.643367</td>\n",
       "    </tr>\n",
       "  </tbody>\n",
       "</table>\n",
       "</div>"
      ],
      "text/plain": [
       "   inflation    output  l_inflation  l_output\n",
       "0   0.074830  1.406367          NaN       NaN\n",
       "1  -0.350344  0.878997     0.074830  1.406367\n",
       "2  -0.304003  0.245455    -0.350344  0.878997\n",
       "3  -0.412872 -0.643367    -0.304003  0.245455\n",
       "4  -0.684640  0.527190    -0.412872 -0.643367"
      ]
     },
     "execution_count": 81,
     "metadata": {},
     "output_type": "execute_result"
    }
   ],
   "source": [
    "df[\"l_inflation\"] = df[\"inflation\"].shift(1)\n",
    "l_inflation = df[\"l_inflation\"] \n",
    "df[\"l_output\"] = df[\"output\"].shift(1)\n",
    "l_output = df[\"l_output\"]\n",
    "df.head()"
   ]
  },
  {
   "cell_type": "code",
   "execution_count": 82,
   "metadata": {},
   "outputs": [
    {
     "data": {
      "image/png": "[encoded data removed]",
      "text/latex": [
       "$$0.975812094981356$$"
      ],
      "text/plain": [
       "0.975812094981356"
      ]
     },
     "execution_count": 82,
     "metadata": {},
     "output_type": "execute_result"
    }
   ],
   "source": [
    "#Autocorrelation\n",
    "np.corrcoef(inflation[1:999],l_inflation[1:999])[0,1]\n"
   ]
  },
  {
   "cell_type": "code",
   "execution_count": 83,
   "metadata": {},
   "outputs": [
    {
     "data": {
      "image/png": "[encoded data removed]",
      "text/latex": [
       "$$0.7713796242957426$$"
      ],
      "text/plain": [
       "0.7713796242957426"
      ]
     },
     "execution_count": 83,
     "metadata": {},
     "output_type": "execute_result"
    }
   ],
   "source": [
    "np.corrcoef(output[1:999],l_output[1:999])[0,1]"
   ]
  },
  {
   "cell_type": "code",
   "execution_count": 84,
   "metadata": {},
   "outputs": [],
   "source": [
    "#There is a lot of autocorrelation "
   ]
  },
  {
   "cell_type": "markdown",
   "metadata": {},
   "source": [
    "**Question 5**"
   ]
  },
  {
   "cell_type": "code",
   "execution_count": null,
   "metadata": {},
   "outputs": [],
   "source": []
  },
  {
   "cell_type": "code",
   "execution_count": null,
   "metadata": {},
   "outputs": [],
   "source": []
  },
  {
   "cell_type": "code",
   "execution_count": 85,
   "metadata": {},
   "outputs": [],
   "source": [
    "#create a new inflation function, phi as a variable\n",
    "equil_piii= sm.lambdify((yt_m1, yt, pit_m1, st_m1, ct, omega, gamma, phi),eq_pi_ar)\n",
    "def equili_pi_phi (yt_m1, yt, pit_m1, st_m1, ct, phi, omega=pms['omega'], gamma=pms['gamma']):\n",
    "    return equil_piii (yt_m1, yt, pit_m1, st_m1, ct, omega, gamma, phi)"
   ]
  },
  {
   "cell_type": "code",
   "execution_count": 86,
   "metadata": {},
   "outputs": [],
   "source": [
    "def corr_func(phi,v_m=0, s_m=0):\n",
    "\n",
    "    np.random.seed(1)\n",
    "    pi_m = 0\n",
    "    yn = 0\n",
    "    y_m = 0\n",
    "    xt = np.random.normal(loc=0,scale=pms['sigma_x'],size=1000)\n",
    "    ct = np.random.normal(loc=0,scale=pms['sigma_c'],size=1000)\n",
    "\n",
    "    \n",
    "    list_output = list(range(1000))\n",
    "    list_inflation = list(range(1000))\n",
    "    for i in range(1000):\n",
    "        if i == 0 :\n",
    "            \n",
    "            y = equili_output_ar(v_m,pi_m,s_m,y_m,ct[i],xt[i])\n",
    "            list_output[i] = y\n",
    "            yn = y\n",
    "            p = equili_pi_phi(y_m,yn,pi_m,s_m,ct[i],phi)\n",
    "            list_inflation[i] = p  \n",
    "            pi_m = p\n",
    "            y_m = y\n",
    "            v_m = pms[\"delta\"] * v_m + xt[i]\n",
    "            s_m = pms[\"omega\"] * s_m + ct [i] \n",
    "        else :\n",
    "            y = equili_output_ar(v_m,pi_m,s_m,y_m,ct[i],xt[i])\n",
    "            \n",
    "            list_output[i] = y\n",
    "            yn = y\n",
    "            p = equili_pi_phi(y_m,yn,pi_m,s_m,ct[i],phi)\n",
    "            list_inflation[i] = p  \n",
    "            pi_m = p\n",
    "            y_m = y\n",
    "            v_m = pms[\"delta\"] * v_m + xt[i]\n",
    "            s_m = pms[\"omega\"] * s_m + ct[i]\n",
    "    \n",
    "    correlation = np.corrcoef(list_inflation,list_output)[0,1]\n",
    "\n",
    "    return correlation"
   ]
  },
  {
   "cell_type": "code",
   "execution_count": 87,
   "metadata": {},
   "outputs": [
    {
     "data": {
      "image/png": "[encoded data removed]",
      "text/latex": [
       "$$\\left [ -0.20791445913919612, \\quad -0.20771176199972832, \\quad -0.20750887843210034, \\quad -0.20730580808763086, \\quad -0.20710255061664648, \\quad -0.20689910566847897, \\quad -0.20669547289146153, \\quad -0.20649165193292518, \\quad -0.20628764243919626\\right ]$$"
      ],
      "text/plain": [
       "[-0.20791445913919612, -0.20771176199972832, -0.20750887843210034, -0.20730580\n",
       "808763086, -0.20710255061664648, -0.20689910566847897, -0.20669547289146153, -\n",
       "0.20649165193292518, -0.20628764243919626]"
      ]
     },
     "execution_count": 87,
     "metadata": {},
     "output_type": "execute_result"
    }
   ],
   "source": [
    "phi_vec = np.linspace(0,1,1000)\n",
    "\n",
    "\n",
    "corr_list = list(range(1000))\n",
    "for i in range(1000) : \n",
    "    #print(phi_vec[i])\n",
    "    corr = corr_func(phi = phi_vec[i])\n",
    "    \n",
    "    corr_list[i] = corr \n",
    "\n",
    "corr_list[0:9]\n",
    "    "
   ]
  },
  {
   "cell_type": "code",
   "execution_count": 88,
   "metadata": {},
   "outputs": [
    {
     "data": {
      "image/png": "[encoded data removed]",
      "text/plain": [
       "<Figure size 432x288 with 1 Axes>"
      ]
     },
     "metadata": {
      "needs_background": "light"
     },
     "output_type": "display_data"
    }
   ],
   "source": [
    "plt.plot(phi_vec,corr_list)\n",
    "plt.xlabel(\"Phi\")\n",
    "plt.ylabel(\"Correlation between output and inflation\")\n",
    "plt.show()"
   ]
  },
  {
   "cell_type": "code",
   "execution_count": 89,
   "metadata": {},
   "outputs": [
    {
     "data": {
      "application/vnd.jupyter.widget-view+json": {
       "model_id": "fbc6dd33d51e4d06947bcfc533834e69",
       "version_major": 2,
       "version_minor": 0
      },
      "text/plain": [
       "interactive(children=(FloatSlider(value=0.0, description='phi', max=1.0, step=0.01), Output()), _dom_classes=(…"
      ]
     },
     "metadata": {},
     "output_type": "display_data"
    },
    {
     "data": {
      "text/plain": [
       "<function __main__.corr_func(phi, v_m=0, s_m=0)>"
      ]
     },
     "execution_count": 89,
     "metadata": {},
     "output_type": "execute_result"
    }
   ],
   "source": [
    "phi_slider = widgets.FloatSlider(min=0,max=1,step = 0.01)\n",
    "widgets.interact(corr_func,phi=phi_slider,v_m = widgets.fixed(0),s_m = widgets.fixed(0))"
   ]
  },
  {
   "cell_type": "markdown",
   "metadata": {},
   "source": [
    "**Question 5**\n"
   ]
  },
  {
   "cell_type": "code",
   "execution_count": 90,
   "metadata": {},
   "outputs": [],
   "source": [
    "v_m = 0 \n",
    "s_m = 0\n",
    "def objective(phi):\n",
    "    return float(corr_func(phi, v_m, s_m))\n",
    "def constraint(phi):\n",
    "    return float((0.31 - corr_func(phi, v_m, s_m)))"
   ]
  },
  {
   "cell_type": "code",
   "execution_count": 91,
   "metadata": {},
   "outputs": [
    {
     "name": "stdout",
     "output_type": "stream",
     "text": [
      "Optimization sucessful\n",
      "0.9879879879879879 0.3098953977987365\n"
     ]
    }
   ],
   "source": [
    "phi_vec = np.linspace(0.0,1,1000)\n",
    "\n",
    "for phi in phi_vec: \n",
    "    x = objective(phi)\n",
    "    y = constraint(phi)\n",
    "    \n",
    "    if round(y,3) == 0:\n",
    "        print(\"Optimization sucessful\")\n",
    "        print(phi,x)\n",
    "        break \n",
    "    "
   ]
  },
  {
   "cell_type": "code",
   "execution_count": null,
   "metadata": {},
   "outputs": [],
   "source": []
  },
  {
   "cell_type": "code",
   "execution_count": null,
   "metadata": {},
   "outputs": [],
   "source": []
  },
  {
   "cell_type": "code",
   "execution_count": 92,
   "metadata": {},
   "outputs": [],
   "source": [
    "cons = ({\"type\": \"ineq\",\"fun\":constraint})\n",
    "phi_init = 0.1\n"
   ]
  },
  {
   "cell_type": "code",
   "execution_count": 93,
   "metadata": {
    "scrolled": true
   },
   "outputs": [],
   "source": [
    "#sol = optimize.minimize(objective,phi_init,method=\"SLSQP\",constraints=cons)\n",
    "#sol"
   ]
  },
  {
   "cell_type": "code",
   "execution_count": null,
   "metadata": {},
   "outputs": [],
   "source": []
  },
  {
   "cell_type": "markdown",
   "metadata": {},
   "source": [
    "## Exchange economy"
   ]
  },
  {
   "cell_type": "code",
   "execution_count": null,
   "metadata": {},
   "outputs": [],
   "source": []
  },
  {
   "cell_type": "code",
   "execution_count": null,
   "metadata": {},
   "outputs": [],
   "source": []
  }
 ],
 "metadata": {
  "kernelspec": {
   "display_name": "Python 3",
   "language": "python",
   "name": "python3"
  },
  "language_info": {
   "codemirror_mode": {
    "name": "ipython",
    "version": 3
   },
   "file_extension": ".py",
   "mimetype": "text/x-python",
   "name": "python",
   "nbconvert_exporter": "python",
   "pygments_lexer": "ipython3",
   "version": "3.7.1"
  }
 },
 "nbformat": 4,
 "nbformat_minor": 2
}
