{
 "cells": [
  {
   "cell_type": "markdown",
   "metadata": {},
   "source": [
    "Exercice 1 :"
   ]
  },
  {
   "cell_type": "code",
   "execution_count": 3,
   "metadata": {},
   "outputs": [],
   "source": [
    "import numpy as np\n",
    "import sympy as sm\n",
    "sm.init_printing(use_unicode=True)"
   ]
  },
  {
   "cell_type": "code",
   "execution_count": 44,
   "metadata": {},
   "outputs": [
    {
     "data": {
      "image/png": "[encoded data removed]",
      "text/latex": [
       "$$c_{1}$$"
      ],
      "text/plain": [
       "c₁"
      ]
     },
     "execution_count": 44,
     "metadata": {},
     "output_type": "execute_result"
    }
   ],
   "source": [
    "rho = sm.symbols('rho')\n",
    "beta = sm.symbols('beta')\n",
    "gamma = sm.symbols('gamma')\n",
    "w = sm.symbols('w')\n",
    "b = sm.symbols('b')\n",
    "delta = sm.symbols('Delta')\n",
    "h1 = sm.symbols('h_1')\n",
    "h2 = sm.symbols('h_2')\n",
    "c1 = sm.symbols('c_1')\n",
    "c2 = sm.symbols('c_2')\n",
    "l1 = sm.symbols('l_1')\n",
    "l2 = sm.symbols('l_2')\n",
    "c1"
   ]
  },
  {
   "cell_type": "code",
   "execution_count": 57,
   "metadata": {},
   "outputs": [
    {
     "data": {
      "image/png": "[encoded data removed]",
      "text/latex": [
       "$$\\frac{c_{1}^{- \\rho + 1}}{- \\rho + 1} - \\gamma l_{2}$$"
      ],
      "text/plain": [
       "  -ρ + 1       \n",
       "c₁             \n",
       "──────── - γ⋅l₂\n",
       " -ρ + 1        "
      ]
     },
     "execution_count": 57,
     "metadata": {},
     "output_type": "execute_result"
    }
   ],
   "source": [
    "u2 = (c2**(1-rho))/(1-rho)\n",
    "dis_u2 = gamma*l2\n",
    "total_u2 = u2 - dis_u\n",
    "h2_f = (h1 + l1)\n",
    "c2_f = w*h2*l2\n",
    "total_u"
   ]
  },
  {
   "cell_type": "code",
   "execution_count": 46,
   "metadata": {},
   "outputs": [
    {
     "data": {
      "image/png": "[encoded data removed]",
      "text/latex": [
       "$$- \\gamma + \\frac{\\left(h_{2} l_{2} w\\right)^{- \\rho + 1}}{l_{2}}$$"
      ],
      "text/plain": [
       "              -ρ + 1\n",
       "     (h₂⋅l₂⋅w)      \n",
       "-γ + ───────────────\n",
       "            l₂      "
      ]
     },
     "execution_count": 46,
     "metadata": {},
     "output_type": "execute_result"
    }
   ],
   "source": [
    "total_u2_sub = total_u2.subs(c2,c2_f)\n",
    "foc1 = sm.diff(total_u2_sub,l2)\n",
    "foc1"
   ]
  },
  {
   "cell_type": "code",
   "execution_count": 47,
   "metadata": {},
   "outputs": [
    {
     "data": {
      "image/png": "[encoded data removed]",
      "text/latex": [
       "$$\\frac{\\left(\\frac{h_{2} w}{\\gamma}\\right)^{\\frac{1}{\\rho}}}{h_{2} w}$$"
      ],
      "text/plain": [
       "     ______\n",
       "    ╱ h₂⋅w \n",
       "rho╱  ──── \n",
       " ╲╱    γ   \n",
       "───────────\n",
       "    h₂⋅w   "
      ]
     },
     "execution_count": 47,
     "metadata": {},
     "output_type": "execute_result"
    }
   ],
   "source": [
    "sol2 = sm.solve(sm.Eq(foc1,0),l2)[0]\n",
    "sol2"
   ]
  },
  {
   "cell_type": "code",
   "execution_count": 50,
   "metadata": {},
   "outputs": [],
   "source": [
    "def utility_ahc(h2,w,gamma,rho):\n",
    "    solution = ((h2*w)/gamma)**(1/rho)/(h2*w)\n",
    "    return solution"
   ]
  },
  {
   "cell_type": "code",
   "execution_count": 51,
   "metadata": {},
   "outputs": [
    {
     "data": {
      "image/png": "[encoded data removed]",
      "text/latex": [
       "$$2.23606797749979$$"
      ],
      "text/plain": [
       "2.23606797749979"
      ]
     },
     "execution_count": 51,
     "metadata": {},
     "output_type": "execute_result"
    }
   ],
   "source": [
    "utility_ahc(1, 2, 0.1, 2)"
   ]
  },
  {
   "cell_type": "code",
   "execution_count": 56,
   "metadata": {},
   "outputs": [
    {
     "ename": "AttributeError",
     "evalue": "'numpy.ndarray' object has no attribute 'plot'",
     "output_type": "error",
     "traceback": [
      "\u001b[1;31m---------------------------------------------------------------------------\u001b[0m",
      "\u001b[1;31mAttributeError\u001b[0m                            Traceback (most recent call last)",
      "\u001b[1;32m<ipython-input-56-7b1f5576971c>\u001b[0m in \u001b[0;36m<module>\u001b[1;34m\u001b[0m\n\u001b[0;32m      1\u001b[0m \u001b[1;31m#graph\u001b[0m\u001b[1;33m\u001b[0m\u001b[1;33m\u001b[0m\u001b[1;33m\u001b[0m\u001b[0m\n\u001b[0;32m      2\u001b[0m \u001b[0mx\u001b[0m \u001b[1;33m=\u001b[0m \u001b[0mnp\u001b[0m\u001b[1;33m.\u001b[0m\u001b[0mlinspace\u001b[0m\u001b[1;33m(\u001b[0m\u001b[1;36m0.1\u001b[0m\u001b[1;33m,\u001b[0m \u001b[1;36m100\u001b[0m\u001b[1;33m,\u001b[0m\u001b[1;36m100\u001b[0m\u001b[1;33m)\u001b[0m\u001b[1;33m;\u001b[0m\u001b[1;33m\u001b[0m\u001b[1;33m\u001b[0m\u001b[0m\n\u001b[1;32m----> 3\u001b[1;33m \u001b[0mutility_ahc\u001b[0m\u001b[1;33m(\u001b[0m\u001b[0mx\u001b[0m\u001b[1;33m,\u001b[0m\u001b[1;36m2\u001b[0m\u001b[1;33m,\u001b[0m\u001b[1;36m0.1\u001b[0m\u001b[1;33m,\u001b[0m\u001b[1;36m2\u001b[0m\u001b[1;33m)\u001b[0m\u001b[1;33m.\u001b[0m\u001b[0mplot\u001b[0m\u001b[1;33m\u001b[0m\u001b[1;33m\u001b[0m\u001b[0m\n\u001b[0m",
      "\u001b[1;31mAttributeError\u001b[0m: 'numpy.ndarray' object has no attribute 'plot'"
     ]
    }
   ],
   "source": [
    "#graph\n",
    "x = np.linspace(0.1, 100,100);\n",
    "utility_ahc(x,2,0.1,2)"
   ]
  },
  {
   "cell_type": "markdown",
   "metadata": {},
   "source": [
    "Question 2 :"
   ]
  },
  {
   "cell_type": "markdown",
   "metadata": {},
   "source": [
    "We assume the agents are perfectly rationnal, and therefore they should anticipate their utility for the next period, so we can assume that E[u2(h2)] is equal to utility that we find for the first period."
   ]
  },
  {
   "cell_type": "code",
   "execution_count": null,
   "metadata": {},
   "outputs": [],
   "source": []
  }
 ],
 "metadata": {
  "kernelspec": {
   "display_name": "Python 3",
   "language": "python",
   "name": "python3"
  },
  "language_info": {
   "codemirror_mode": {
    "name": "ipython",
    "version": 3
   },
   "file_extension": ".py",
   "mimetype": "text/x-python",
   "name": "python",
   "nbconvert_exporter": "python",
   "pygments_lexer": "ipython3",
   "version": "3.7.1"
  }
 },
 "nbformat": 4,
 "nbformat_minor": 2
}
