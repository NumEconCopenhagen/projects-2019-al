{
 "cells": [
  {
   "cell_type": "markdown",
   "metadata": {},
   "source": [
    "Exercice 1 :"
   ]
  },
  {
   "cell_type": "code",
   "execution_count": 1,
   "metadata": {},
   "outputs": [],
   "source": [
    "import numpy as np\n",
    "import sympy as sm\n",
    "sm.init_printing(use_unicode=True)"
   ]
  },
  {
   "cell_type": "code",
   "execution_count": 2,
   "metadata": {},
   "outputs": [],
   "source": [
    "rho = sm.symbols('rho')\n",
    "beta = sm.symbols('beta')\n",
    "gamma = sm.symbols('gamma')\n",
    "w = sm.symbols('w')\n",
    "b = sm.symbols('b')\n",
    "delta = sm.symbols('Delta')\n",
    "h1 = sm.symbols('h_1')\n",
    "h2 = sm.symbols('h_2')\n",
    "c1 = sm.symbols('c1')\n",
    "c2 = sm.symbols('c2')\n",
    "l1 = sm.symbols('l1')\n",
    "l2 = sm.symbols('l2')\n",
    "exp = sm.symbols('E[v_2(h_2)]')"
   ]
  },
  {
   "cell_type": "code",
   "execution_count": 3,
   "metadata": {},
   "outputs": [
    {
     "data": {
      "image/png": "[encoded data removed]",
      "text/latex": [
       "$$\\frac{c_{2}^{- \\rho + 1}}{- \\rho + 1} - \\gamma l_{2}$$"
      ],
      "text/plain": [
       "  -ρ + 1       \n",
       "c₂             \n",
       "──────── - γ⋅l₂\n",
       " -ρ + 1        "
      ]
     },
     "execution_count": 3,
     "metadata": {},
     "output_type": "execute_result"
    }
   ],
   "source": [
    "u2 = (c2**(1-rho))/(1-rho)\n",
    "dis_u2 = gamma*l2\n",
    "total_u2 = u2 - dis_u2\n",
    "h2_f = (h1 + l1)\n",
    "c2_f = w*h2*l2\n",
    "total_u2"
   ]
  },
  {
   "cell_type": "code",
   "execution_count": 4,
   "metadata": {},
   "outputs": [
    {
     "data": {
      "image/png": "[encoded data removed]",
      "text/latex": [
       "$$- \\gamma + \\frac{\\left(h_{2} l_{2} w\\right)^{- \\rho + 1}}{l_{2}}$$"
      ],
      "text/plain": [
       "              -ρ + 1\n",
       "     (h₂⋅l₂⋅w)      \n",
       "-γ + ───────────────\n",
       "            l₂      "
      ]
     },
     "execution_count": 4,
     "metadata": {},
     "output_type": "execute_result"
    }
   ],
   "source": [
    "total_u2_sub2 = total_u2.subs(c2,c2_f)\n",
    "foc2 = sm.diff(total_u2_sub2,l2)\n",
    "foc2"
   ]
  },
  {
   "cell_type": "code",
   "execution_count": 5,
   "metadata": {},
   "outputs": [
    {
     "data": {
      "image/png": "[encoded data removed]",
      "text/latex": [
       "$$\\frac{\\left(\\frac{h_{2} w}{\\gamma}\\right)^{\\frac{1}{\\rho}}}{h_{2} w}$$"
      ],
      "text/plain": [
       "     ______\n",
       "    ╱ h₂⋅w \n",
       "rho╱  ──── \n",
       " ╲╱    γ   \n",
       "───────────\n",
       "    h₂⋅w   "
      ]
     },
     "execution_count": 5,
     "metadata": {},
     "output_type": "execute_result"
    }
   ],
   "source": [
    "sol2 = sm.solve(sm.Eq(foc2,0),l2)[0]\n",
    "sol2"
   ]
  },
  {
   "cell_type": "code",
   "execution_count": 6,
   "metadata": {},
   "outputs": [],
   "source": [
    "def utility_ahc(h2,w,gamma,rho):\n",
    "    solution = ((h2*w)/gamma)**(1/rho)/(h2*w)\n",
    "    return solution"
   ]
  },
  {
   "cell_type": "code",
   "execution_count": 7,
   "metadata": {},
   "outputs": [
    {
     "data": {
      "image/png": "[encoded data removed]",
      "text/latex": [
       "$$2.23606797749979$$"
      ],
      "text/plain": [
       "2.23606797749979"
      ]
     },
     "execution_count": 7,
     "metadata": {},
     "output_type": "execute_result"
    }
   ],
   "source": [
    "utility_ahc(1, 2, 0.1, 2)"
   ]
  },
  {
   "cell_type": "code",
   "execution_count": 8,
   "metadata": {},
   "outputs": [
    {
     "data": {
      "text/plain": [
       "array([7.07106781, 2.12325145, 1.53639677, 1.26445135, 1.09945041,\n",
       "       0.9857644 , 0.90133661, 0.83544572, 0.78217062, 0.73793933,\n",
       "       0.70045226, 0.6681531 , 0.63994601, 0.61503402, 0.59282181,\n",
       "       0.57285451, 0.55477779, 0.53831098, 0.52322848, 0.5093466 ,\n",
       "       0.49651407, 0.48460501, 0.47351372, 0.46315071, 0.45343961,\n",
       "       0.44431481, 0.4357196 , 0.42760466, 0.41992686, 0.41264832,\n",
       "       0.40573559, 0.39915902, 0.39289222, 0.38691162, 0.38119606,\n",
       "       0.37572654, 0.37048589, 0.36545859, 0.36063054, 0.35598892,\n",
       "       0.35152203, 0.34721918, 0.34307056, 0.33906718, 0.33520076,\n",
       "       0.33146366, 0.32784883, 0.32434974, 0.32096035, 0.31767504,\n",
       "       0.31448859, 0.31139615, 0.30839317, 0.30547543, 0.30263896,\n",
       "       0.29988007, 0.29719528, 0.29458134, 0.29203517, 0.2895539 ,\n",
       "       0.28713483, 0.28477539, 0.28247317, 0.2802259 , 0.27803143,\n",
       "       0.27588772, 0.27379284, 0.27174497, 0.26974237, 0.26778341,\n",
       "       0.26586651, 0.2639902 , 0.26215306, 0.26035375, 0.25859099,\n",
       "       0.25686356, 0.25517028, 0.25351006, 0.25188183, 0.25028458,\n",
       "       0.24871733, 0.24717915, 0.24566917, 0.24418653, 0.24273041,\n",
       "       0.24130003, 0.23989464, 0.23851353, 0.237156  , 0.23582139,\n",
       "       0.23450906, 0.2332184 , 0.23194882, 0.23069975, 0.22947064,\n",
       "       0.22826097, 0.22707023, 0.22589793, 0.22474361, 0.2236068 ])"
      ]
     },
     "execution_count": 8,
     "metadata": {},
     "output_type": "execute_result"
    }
   ],
   "source": [
    "#graph\n",
    "x = np.linspace(0.1, 100,100);\n",
    "utility_ahc(x,2,0.1,2)"
   ]
  },
  {
   "cell_type": "markdown",
   "metadata": {},
   "source": [
    "Question 2 :"
   ]
  },
  {
   "cell_type": "markdown",
   "metadata": {},
   "source": [
    "We assume the agents are perfectly rationnal, and therefore they should anticipate their utility for the next period, so we can assume that E[u2(h2)] is equal to utility that we find for the first period."
   ]
  },
  {
   "cell_type": "code",
   "execution_count": 9,
   "metadata": {},
   "outputs": [
    {
     "data": {
      "image/png": "[encoded data removed]",
      "text/latex": [
       "$$\\beta \\left(- \\gamma l_{2} + \\frac{\\left(h_{2} l_{2} w\\right)^{- \\rho + 1}}{- \\rho + 1}\\right) + \\frac{c_{1}^{- \\rho + 1}}{- \\rho + 1} - \\gamma l_{1}$$"
      ],
      "text/plain": [
       "  ⎛                 -ρ + 1⎞     -ρ + 1       \n",
       "  ⎜        (h₂⋅l₂⋅w)      ⎟   c₁             \n",
       "β⋅⎜-γ⋅l₂ + ───────────────⎟ + ──────── - γ⋅l₁\n",
       "  ⎝             -ρ + 1    ⎠    -ρ + 1        "
      ]
     },
     "execution_count": 9,
     "metadata": {},
     "output_type": "execute_result"
    }
   ],
   "source": [
    "\n",
    "u1 = (c1**(1-rho))/(1-rho) + beta*total_u2_sub2\n",
    "dis_u1 = gamma*l1\n",
    "total_u1 = u1 - dis_u1\n",
    "h2_f = (h1 + l1 + delta)\n",
    "c1_f = w*h1*l1\n",
    "#\n",
    "\n",
    "total_u1"
   ]
  },
  {
   "cell_type": "code",
   "execution_count": 10,
   "metadata": {},
   "outputs": [
    {
     "data": {
      "image/png": "[encoded data removed]",
      "text/latex": [
       "$$\\beta \\left(- \\frac{\\gamma \\left(\\frac{w \\left(\\Delta + h_{1} + l_{1}\\right)}{\\gamma}\\right)^{\\frac{1}{\\rho}}}{w \\left(\\Delta + h_{1} + l_{1}\\right)} + \\frac{\\left(\\left(\\frac{w \\left(\\Delta + h_{1} + l_{1}\\right)}{\\gamma}\\right)^{\\frac{1}{\\rho}}\\right)^{- \\rho + 1}}{- \\rho + 1}\\right) - \\gamma l_{1} + \\frac{\\left(h_{1} l_{1} w\\right)^{- \\rho + 1}}{- \\rho + 1}$$"
      ],
      "text/plain": [
       "  ⎛                                                   -ρ + 1⎞                 \n",
       "  ⎜         _________________        _________________      ⎟                 \n",
       "  ⎜        ╱ w⋅(Δ + h₁ + l₁)        ╱ w⋅(Δ + h₁ + l₁)       ⎟                 \n",
       "  ⎜  γ⋅rho╱  ───────────────    rho╱  ───────────────       ⎟                 \n",
       "  ⎜     ╲╱          γ            ╲╱          γ              ⎟          (h₁⋅l₁⋅\n",
       "β⋅⎜- ──────────────────────── + ────────────────────────────⎟ - γ⋅l₁ + ───────\n",
       "  ⎝      w⋅(Δ + h₁ + l₁)                   -ρ + 1           ⎠               -ρ\n",
       "\n",
       "        \n",
       "        \n",
       "        \n",
       "  -ρ + 1\n",
       "w)      \n",
       "────────\n",
       " + 1    "
      ]
     },
     "execution_count": 10,
     "metadata": {},
     "output_type": "execute_result"
    }
   ],
   "source": [
    "total_u1_sub1 = total_u1.subs(c1,c1_f)\n",
    "total_u1_sub12 = total_u1_sub1.subs(l2,sol2)\n",
    "total_u1_sub1_r = total_u1_sub12.subs(h2,h2_f)\n",
    "total_u1_sub1_r"
   ]
  },
  {
   "cell_type": "code",
   "execution_count": 11,
   "metadata": {},
   "outputs": [
    {
     "data": {
      "image/png": "[encoded data removed]",
      "text/latex": [
       "$$\\beta \\left(\\frac{\\gamma \\left(\\frac{w \\left(\\Delta + h_{1} + l_{1}\\right)}{\\gamma}\\right)^{\\frac{1}{\\rho}}}{w \\left(\\Delta + h_{1} + l_{1}\\right)^{2}} - \\frac{\\gamma \\left(\\frac{w \\left(\\Delta + h_{1} + l_{1}\\right)}{\\gamma}\\right)^{\\frac{1}{\\rho}}}{\\rho w \\left(\\Delta + h_{1} + l_{1}\\right)^{2}} + \\frac{\\left(\\left(\\frac{w \\left(\\Delta + h_{1} + l_{1}\\right)}{\\gamma}\\right)^{\\frac{1}{\\rho}}\\right)^{- \\rho + 1}}{\\rho \\left(\\Delta + h_{1} + l_{1}\\right)}\\right) - \\gamma + \\frac{\\left(h_{1} l_{1} w\\right)^{- \\rho + 1}}{l_{1}}$$"
      ],
      "text/plain": [
       "  ⎛                                                                           \n",
       "  ⎜       _________________          _________________        ________________\n",
       "  ⎜      ╱ w⋅(Δ + h₁ + l₁)          ╱ w⋅(Δ + h₁ + l₁)        ╱ w⋅(Δ + h₁ + l₁)\n",
       "  ⎜γ⋅rho╱  ───────────────    γ⋅rho╱  ───────────────    rho╱  ───────────────\n",
       "  ⎜   ╲╱          γ              ╲╱          γ            ╲╱          γ       \n",
       "β⋅⎜──────────────────────── - ──────────────────────── + ─────────────────────\n",
       "  ⎜                   2                           2            ρ⋅(Δ + h₁ + l₁)\n",
       "  ⎝    w⋅(Δ + h₁ + l₁)           ρ⋅w⋅(Δ + h₁ + l₁)                            \n",
       "\n",
       " -ρ + 1⎞                      \n",
       "_      ⎟                      \n",
       "       ⎟                      \n",
       "       ⎟                -ρ + 1\n",
       "       ⎟       (h₁⋅l₁⋅w)      \n",
       "───────⎟ - γ + ───────────────\n",
       "       ⎟              l₁      \n",
       "       ⎠                      "
      ]
     },
     "execution_count": 11,
     "metadata": {},
     "output_type": "execute_result"
    }
   ],
   "source": [
    "foc1 = sm.diff(total_u1_sub1_r,l1)\n",
    "foc1"
   ]
  },
  {
   "cell_type": "code",
   "execution_count": 12,
   "metadata": {},
   "outputs": [],
   "source": [
    "#foc1_minus_l2 = foc1.subs(l2,sol2)\n",
    "#foc1_minus_l2"
   ]
  },
  {
   "cell_type": "code",
   "execution_count": 13,
   "metadata": {},
   "outputs": [
    {
     "ename": "NotImplementedError",
     "evalue": "multiple generators [l1, ((Delta*w/gamma + h_1*w/gamma + l1*w/gamma)**(1/rho))**(-rho), (Delta*w/gamma + h_1*w/gamma + l1*w/gamma)**(1/rho), (h_1*l1*w)**(-rho)]\nNo algorithms are implemented to solve equation beta*(gamma*(w*(Delta + h_1 + l1)/gamma)**(1/rho)/(w*(Delta + h_1 + l1)**2) - gamma*(w*(Delta + h_1 + l1)/gamma)**(1/rho)/(rho*w*(Delta + h_1 + l1)**2) + ((w*(Delta + h_1 + l1)/gamma)**(1/rho))**(-rho + 1)/(rho*(Delta + h_1 + l1))) - gamma + (h_1*l1*w)**(-rho + 1)/l1",
     "output_type": "error",
     "traceback": [
      "\u001b[1;31m---------------------------------------------------------------------------\u001b[0m",
      "\u001b[1;31mNotImplementedError\u001b[0m                       Traceback (most recent call last)",
      "\u001b[1;32m<ipython-input-13-433ca22aa1a8>\u001b[0m in \u001b[0;36m<module>\u001b[1;34m\u001b[0m\n\u001b[1;32m----> 1\u001b[1;33m \u001b[0msolb2\u001b[0m \u001b[1;33m=\u001b[0m \u001b[0msm\u001b[0m\u001b[1;33m.\u001b[0m\u001b[0msolve\u001b[0m\u001b[1;33m(\u001b[0m\u001b[0msm\u001b[0m\u001b[1;33m.\u001b[0m\u001b[0mEq\u001b[0m\u001b[1;33m(\u001b[0m\u001b[0mfoc1\u001b[0m\u001b[1;33m,\u001b[0m\u001b[1;36m0\u001b[0m\u001b[1;33m)\u001b[0m\u001b[1;33m,\u001b[0m\u001b[0ml1\u001b[0m\u001b[1;33m)\u001b[0m\u001b[1;33m[\u001b[0m\u001b[1;36m0\u001b[0m\u001b[1;33m]\u001b[0m\u001b[1;33m\u001b[0m\u001b[1;33m\u001b[0m\u001b[0m\n\u001b[0m\u001b[0;32m      2\u001b[0m \u001b[0msolb2\u001b[0m\u001b[1;33m\u001b[0m\u001b[1;33m\u001b[0m\u001b[0m\n",
      "\u001b[1;32m~\\Anaconda3\\lib\\site-packages\\sympy\\solvers\\solvers.py\u001b[0m in \u001b[0;36msolve\u001b[1;34m(f, *symbols, **flags)\u001b[0m\n\u001b[0;32m   1160\u001b[0m     \u001b[1;31m###########################################################################\u001b[0m\u001b[1;33m\u001b[0m\u001b[1;33m\u001b[0m\u001b[1;33m\u001b[0m\u001b[0m\n\u001b[0;32m   1161\u001b[0m     \u001b[1;32mif\u001b[0m \u001b[0mbare_f\u001b[0m\u001b[1;33m:\u001b[0m\u001b[1;33m\u001b[0m\u001b[1;33m\u001b[0m\u001b[0m\n\u001b[1;32m-> 1162\u001b[1;33m         \u001b[0msolution\u001b[0m \u001b[1;33m=\u001b[0m \u001b[0m_solve\u001b[0m\u001b[1;33m(\u001b[0m\u001b[0mf\u001b[0m\u001b[1;33m[\u001b[0m\u001b[1;36m0\u001b[0m\u001b[1;33m]\u001b[0m\u001b[1;33m,\u001b[0m \u001b[1;33m*\u001b[0m\u001b[0msymbols\u001b[0m\u001b[1;33m,\u001b[0m \u001b[1;33m**\u001b[0m\u001b[0mflags\u001b[0m\u001b[1;33m)\u001b[0m\u001b[1;33m\u001b[0m\u001b[1;33m\u001b[0m\u001b[0m\n\u001b[0m\u001b[0;32m   1163\u001b[0m     \u001b[1;32melse\u001b[0m\u001b[1;33m:\u001b[0m\u001b[1;33m\u001b[0m\u001b[1;33m\u001b[0m\u001b[0m\n\u001b[0;32m   1164\u001b[0m         \u001b[0msolution\u001b[0m \u001b[1;33m=\u001b[0m \u001b[0m_solve_system\u001b[0m\u001b[1;33m(\u001b[0m\u001b[0mf\u001b[0m\u001b[1;33m,\u001b[0m \u001b[0msymbols\u001b[0m\u001b[1;33m,\u001b[0m \u001b[1;33m**\u001b[0m\u001b[0mflags\u001b[0m\u001b[1;33m)\u001b[0m\u001b[1;33m\u001b[0m\u001b[1;33m\u001b[0m\u001b[0m\n",
      "\u001b[1;32m~\\Anaconda3\\lib\\site-packages\\sympy\\solvers\\solvers.py\u001b[0m in \u001b[0;36m_solve\u001b[1;34m(f, *symbols, **flags)\u001b[0m\n\u001b[0;32m   1733\u001b[0m \u001b[1;33m\u001b[0m\u001b[0m\n\u001b[0;32m   1734\u001b[0m     \u001b[1;32mif\u001b[0m \u001b[0mresult\u001b[0m \u001b[1;32mis\u001b[0m \u001b[1;32mFalse\u001b[0m\u001b[1;33m:\u001b[0m\u001b[1;33m\u001b[0m\u001b[1;33m\u001b[0m\u001b[0m\n\u001b[1;32m-> 1735\u001b[1;33m         \u001b[1;32mraise\u001b[0m \u001b[0mNotImplementedError\u001b[0m\u001b[1;33m(\u001b[0m\u001b[1;34m'\\n'\u001b[0m\u001b[1;33m.\u001b[0m\u001b[0mjoin\u001b[0m\u001b[1;33m(\u001b[0m\u001b[1;33m[\u001b[0m\u001b[0mmsg\u001b[0m\u001b[1;33m,\u001b[0m \u001b[0mnot_impl_msg\u001b[0m \u001b[1;33m%\u001b[0m \u001b[0mf\u001b[0m\u001b[1;33m]\u001b[0m\u001b[1;33m)\u001b[0m\u001b[1;33m)\u001b[0m\u001b[1;33m\u001b[0m\u001b[1;33m\u001b[0m\u001b[0m\n\u001b[0m\u001b[0;32m   1736\u001b[0m \u001b[1;33m\u001b[0m\u001b[0m\n\u001b[0;32m   1737\u001b[0m     \u001b[1;32mif\u001b[0m \u001b[0mflags\u001b[0m\u001b[1;33m.\u001b[0m\u001b[0mget\u001b[0m\u001b[1;33m(\u001b[0m\u001b[1;34m'simplify'\u001b[0m\u001b[1;33m,\u001b[0m \u001b[1;32mTrue\u001b[0m\u001b[1;33m)\u001b[0m\u001b[1;33m:\u001b[0m\u001b[1;33m\u001b[0m\u001b[1;33m\u001b[0m\u001b[0m\n",
      "\u001b[1;31mNotImplementedError\u001b[0m: multiple generators [l1, ((Delta*w/gamma + h_1*w/gamma + l1*w/gamma)**(1/rho))**(-rho), (Delta*w/gamma + h_1*w/gamma + l1*w/gamma)**(1/rho), (h_1*l1*w)**(-rho)]\nNo algorithms are implemented to solve equation beta*(gamma*(w*(Delta + h_1 + l1)/gamma)**(1/rho)/(w*(Delta + h_1 + l1)**2) - gamma*(w*(Delta + h_1 + l1)/gamma)**(1/rho)/(rho*w*(Delta + h_1 + l1)**2) + ((w*(Delta + h_1 + l1)/gamma)**(1/rho))**(-rho + 1)/(rho*(Delta + h_1 + l1))) - gamma + (h_1*l1*w)**(-rho + 1)/l1"
     ]
    }
   ],
   "source": [
    "solb2 = sm.solve(sm.Eq(foc1,0),l1)[0]\n",
    "solb2"
   ]
  },
  {
   "cell_type": "code",
   "execution_count": null,
   "metadata": {},
   "outputs": [],
   "source": [
    "def utility_ahc(delta, h1, beta, l2, w, gamma, rho):\n",
    "    stochastic =  random.randint(0,1)\n",
    "    if stochastic > 0 : \n",
    "        solution = -h1 + (((beta*l2*w)/gamma)**(1/p))/(l2*w)\n",
    "    else :\n",
    "        solution = -delta -h1 + (((beta*l2*w)/gamma)**(1/p))/(l2*w)\n",
    "    return solution"
   ]
  },
  {
   "cell_type": "code",
   "execution_count": null,
   "metadata": {},
   "outputs": [],
   "source": [
    "utility_ahc(0.1,1,0.96,)"
   ]
  },
  {
   "cell_type": "code",
   "execution_count": null,
   "metadata": {},
   "outputs": [],
   "source": []
  },
  {
   "cell_type": "markdown",
   "metadata": {},
   "source": [
    "Exercice 2 :"
   ]
  },
  {
   "cell_type": "markdown",
   "metadata": {},
   "source": [
    "Question 1 :"
   ]
  },
  {
   "cell_type": "code",
   "execution_count": 14,
   "metadata": {},
   "outputs": [
    {
     "data": {
      "image/png": "[encoded data removed]",
      "text/latex": [
       "$$\\pi_{t}$$"
      ],
      "text/plain": [
       "πₜ"
      ]
     },
     "execution_count": 14,
     "metadata": {},
     "output_type": "execute_result"
    }
   ],
   "source": [
    "alpha = sm.symbols('alpha')\n",
    "h = sm.symbols('h')\n",
    "lam = sm.symbols('lambda')\n",
    "pi = sm.symbols('pi_t')\n",
    "v = sm.symbols('v_t')\n",
    "s = sm.symbols('s_t')\n",
    "y = sm.symbols('y_t')\n",
    "pi"
   ]
  },
  {
   "cell_type": "code",
   "execution_count": null,
   "metadata": {},
   "outputs": [],
   "source": []
  },
  {
   "cell_type": "code",
   "execution_count": null,
   "metadata": {},
   "outputs": [],
   "source": []
  }
 ],
 "metadata": {
  "kernelspec": {
   "display_name": "Python 3",
   "language": "python",
   "name": "python3"
  },
  "language_info": {
   "codemirror_mode": {
    "name": "ipython",
    "version": 3
   },
   "file_extension": ".py",
   "mimetype": "text/x-python",
   "name": "python",
   "nbconvert_exporter": "python",
   "pygments_lexer": "ipython3",
   "version": "3.7.1"
  }
 },
 "nbformat": 4,
 "nbformat_minor": 2
}
