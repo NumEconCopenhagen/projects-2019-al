#%% Change working directory from the workspace root to the ipynb file location. Turn this addition off with the DataScience.changeDirOnImportExport setting
import os
try:
	os.chdir(os.path.join(os.getcwd(), 'projects-2019-al\examproject\.ipynb_checkpoints'))
	print(os.getcwd())
except:
	pass

#%%
import random 
import sympy as sm
import numpy as np
import matplotlib.pyplot as plt
import ipywidgets as widgets
from scipy import optimize

#setting nice printing and seed
sm.init_printing(use_unicode=True)
random.seed(12848174)


#%%
rho = sm.symbols('rho')
beta = sm.symbols('beta')
gamma = sm.symbols('gamma')
w = sm.symbols('w')
b = sm.symbols('b')
delta = sm.symbols('Delta')
h1 = sm.symbols('h_1')
h2 = sm.symbols('h_2')
c1 = sm.symbols('c1')
c2 = sm.symbols('c2')
l1 = sm.symbols('l1')
l2 = sm.symbols('l2')
exp = sm.symbols('E[v_2(h_2)]')
u = sm.symbols("u")


#%%
u2 = (c2**(1-rho))/(1-rho)
dis_u2 = gamma*l2
total_u2 = u2 - dis_u2
h2_f = (h1 + l1)
c2_f = w*h2*l2
total_u2


#%%
total_u2_sub2 = total_u2.subs(c2,c2_f)
#foc2 = sm.diff(total_u2_sub2,l2)
#foc2
total_u2_sub2


#%%
#we should not solve for l2 rigth? this is just a dummy of work or not
#sol2 = sm.solve(sm.Eq(foc2,0),l2)[0]
#sol2
h2_sol = sm.solve(sm.Eq(total_u2_sub2,u),h2)[0]
h2_sol


#%%
def utility_work(h2,l2,w,rho,gamma):
    solution = (((h2*l2*w)**(1-rho))/(1-rho))-gamma*l2
    return solution

def utility_notwork(benefits,rho,gamma,l2):
 
    b = ((benefits**(1-rho))/(1-rho))-gamma*l2
    return b
def hum_cap_u(l2,gamma,b,w,rho):
    # i use h2_sol but replace u with the "cutoff"-value, that is the value of unemployment benefits
    nw_u = utility_notwork(b,rho,gamma,0)
    hum_cap = ((-gamma*l2*rho+gamma*l2-rho*nw_u+nw_u)**-(1/(rho-1)))/(l2*w)
    
    return hum_cap


#%%
rho = 2
beta = 0.96
gamma = 0.1
w = 2
b = 1
delta = 0.1


#%%
#I calculatet the humam capital given b
hum_cap_u(1,gamma,b,w,rho)


#%%
def plot_func(h2,w,rho,gamma,b):
    
    work = utility_work(h2,1,w,rho,gamma)
    not_work = utility_notwork(b,rho,gamma,0)
    cutoff = hum_cap_u(1,gamma,b,w,rho)
    
    plt.plot(h2,work,label = "Utility of working")
    plt.plot(h2,not_work,color="red",label="Utility of not working")
    plt.legend()
    
    plt.xlabel("Human capital")
    plt.ylabel("Utility")

    plt.show
    
    print("The worker will supply labour if human capital is above",round(cutoff[0],2), "and no labour if it is below" )
    return 


#%%
h_vec = np.linspace(0.1,1.5,100) 
b_vec = np.linspace(1,1,100)
plot_func(h_vec,w,rho,gamma,b_vec)


#%%
#Another way of showing this is using a binary plot. This requires us to define 
#each level om human capital as either a capital where the worker provies labour
# or a level where she does not - the cutoff is as shown before
cutoff = hum_cap_u(1,gamma,b,w,rho)
print(round(cutoff,2),"human capital")


#%%
#We define a list
willwork = list(range(100))

#And fill it with either success (1) if the human capital i above the cutoff or
#or falier (0) if it is on the cutoff or below 
for i in range(len(h_vec)): 
    if h_vec[i] > cutoff : 
        willwork[i] = 1
    else : 
        willwork[i] = 0


#%%
cutoff_vec = np.linspace(cutoff,cutoff,100)
plt.plot(h_vec,willwork)
plt.plot(cutoff_vec,willwork,linestyle="dashed",color="red",label=("Cutoff human capital level"))
plt.legend()
plt.xlabel("Human capital")
plt.ylabel("Labour supply")

plt.show

#%% [markdown]
# some text here

#%%
#the labour supply as a function of human captal is then:
def labour_supply(hum_cap,w,rho,gamma,b):
    cutoff = hum_cap_u(1,gamma,b,w,rho)
    
    if hum_cap > cutoff :
        print("with a human capital level of",hum_cap,"the worker wil supply 1 labour (l = 1)")
        l = 1
    else :
        print("with a human capital level of",hum_cap,"the worker will supply 0 labour (l=0)")
        l = 0
    return l


#%%
human_capital = widgets.FloatSlider(min=0.1,max=1.5,value=0.1,step=0.01)
widgets.interact(labour_supply,hum_cap=human_capital,w=widgets.fixed(w),rho=widgets.fixed(rho),gamma=widgets.fixed(gamma),b=widgets.fixed(b))

Interactive solution to question 1
#%%


#%% [markdown]
# ## Question 2

#%%
rho = sm.symbols('rho')
beta = sm.symbols('beta')
gamma = sm.symbols('gamma')
w = sm.symbols('w')
b = sm.symbols('b')
delta = sm.symbols('Delta')
h1 = sm.symbols('h_1')
h2 = sm.symbols('h_2')
c1 = sm.symbols('c1')
c2 = sm.symbols('c2')
l1 = sm.symbols('l1')
l2 = sm.symbols('l2')
exp = sm.symbols('E[v_2(h_2)]')
u = sm.symbols("u")


#%%
u1 = (c1**(1-rho))/(1-rho)
dis_u1 = gamma*l1
total_u1 = u1 - dis_u1 + beta*exp
total_u1


#%%
# I define funcitons for period 2 
def utility_2(h1,w,l1,rho,gamma,beta,delta,b):
    if l1 == 1:
        h2 = h1+1 +(0.5*delta)
        c = w*h1*1
        
        u_p2 = utility_work(h2,1,w,rho,gamma)
    
        solution = ((c**(1-rho))/(1-rho))-gamma*1 +beta*u_p2
    else :
        h2 = h1 + 0 + (0.5*delta)
        c = b
        
        u_nw_p2 = utility_notwork(b,rho,gamma,0)
        solution = ((c**(1-rho))/(1-rho))-gamma*0 +beta*u_nw_p2
    
    return solution



#%%
rho = 2
beta = 0.96
gamma = 0.1
w = 2
b = 1
delta = 0.1
h_vec = np.linspace(0.1,1.5,100) 


#%%
b_vec = np.linspace(1,1,100)
x = utility_2(h_vec,w,1,rho,gamma,beta,delta,b)
y = utility_2(h_vec,w,0,rho,gamma,beta,delta,b_vec)


#%%
plt.plot(h_vec,x)
plt.plot(h_vec,y)
plt.show()


#%%
willwork_p1 = list(range(100))

#And fill it with either success (1) if the human capital i above the cutoff or
#or falier (0) if it is on the cutoff or below 
for i in range(len(h_vec)): 
    if utility_2(h_vec[i],w,1,rho,gamma,beta,delta,1) > utility_2(h_vec[i],w,0,rho,gamma,beta,delta,1) : 
        willwork_p1[i] = 1
    else : 
        willwork_p1[i] = 0


#%%
plt.plot(h_vec,willwork_p1)


#%%
#Calculate eq here


#%%
#


#%%


#%% [markdown]
# ## Question 3

#%%
willeverwork = list(range(100))

#she will work if, and only if the utility next period + the utility this period (which is less than the utility of not working)
# is larger than the utility of not working in period 1 and working in period 2, 
#as well as and not working in period 1 and not working in period 2
for i in range(len(h_vec)): 
    u_w1 = utility_2(h_vec[i],w,1,rho,gamma,beta,delta,b)
    u_nw1 = utility_2(h_vec[i],w,0,rho,gamma,beta,delta,b)
    
    h2 = h_vec[i]+0.5*delta
    u_w1w2 = utility_work(h2,1,w,rho,gamma)
    u_n1w2 = utility_work(h_vec[i],1,w,rho,gamma)
    u_n1n2 = utility_notwork(b,rho,gamma,0)
    
    if u_w1 < u_nw1 :
        if (u_w1 + u_w1w2) > (u_nw1 + u_n1w2):
            if (u_w1 + u_w1w2) > (u_nw1 + u_n1n2):
                print("hello")
    else: 
        print(h_vec[i])


#%%
utility_work((h_vec[0]+0.5*delta),w,1,rho,gamma,beta,delta,b)


#%%
h_vec[0]+0.5*delta

#%% [markdown]
# ## Assigment 2 - question 4

#%%
#par['sigma_x'] = 3.492
#par['sigma_c'] = 0.2
sigma_x = 3.492
sigma_c = 0.2


#%%
x_t = np.random.normal(loc=0,scale=sigma_x,size=1000)
c_t = np.random.normal(loc=0,scale=sigma_c,size=1000)


#%%



#%%
#Should be y_t and pi_t


#%%
#Should be y_t and y_t-1
np.correlate(x_t,c_t)


#%%
#Should be pi_t and pi_t-1
np.correlate(x_t,c_t)


#%%



#%%



